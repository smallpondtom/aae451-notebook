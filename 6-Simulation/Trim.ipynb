{
 "cells": [
  {
   "cell_type": "code",
   "execution_count": 49,
   "metadata": {},
   "outputs": [],
   "source": [
    "import matplotlib.pyplot as plt\n",
    "import numpy as np\n",
    "import pandas as pd\n",
    "import matplotlib.pyplot as plt\n",
    "import json \n",
    "from jsbsim_utils import Logger, trim, simulate"
   ]
  },
  {
   "cell_type": "markdown",
   "metadata": {},
   "source": [
    "Nonlinear-dynamics of aircraft\n",
    "\n",
    "$$\\dot{x} = f(x, u)$$\n",
    "\n",
    "Find equilibrium:\n",
    "\n",
    "Minimize $\\dot{x}$, or a subset for your problem, by changeing $x_0$, $u_0$\n",
    "\n",
    "$$0 = f(x_0, u_0)$$\n",
    "\n",
    "This is an optimization problem.\n",
    "\n",
    "* Matlab: fmincon, fminsearch\n",
    "* Python: scipy.minimize (Nelder-Mead, SLSQP)\n",
    "\n",
    "Can simplify this problem with mixing matrices, to decouple the dynamcis into SISO (single-input-single output) systems."
   ]
  },
  {
   "cell_type": "markdown",
   "metadata": {},
   "source": [
    "Due to Taylor series error on the order of (dx^2). We know the linear model approx, does well near the equilibrium point. "
   ]
  },
  {
   "cell_type": "markdown",
   "metadata": {},
   "source": [
    "$\\dot{\\vec{x}} = \\vec{f}(x, u) = A \\vec{x} + B \\vec{u}$\n",
    "\n",
    "$\\dot{\\vec{y}} = C \\vec{x} + D \\vec{u}$\n",
    "\n",
    "\n",
    "$A = \\dfrac{\\delta \\vec{f}(x0, u0)}{\\delta \\vec{x}}$\n",
    "\n",
    "$B = \\dfrac{\\delta \\vec{f}(x0, u0)}{\\delta \\vec{u}}$\n",
    "\n",
    "$C = \\dfrac{\\delta \\vec{y}(x0, u0)}{\\delta \\vec{x}}$\n",
    "\n",
    "$D = \\dfrac{\\delta \\vec{y}(x0, u0)}{\\delta \\vec{u}}$"
   ]
  },
  {
   "cell_type": "code",
   "execution_count": 56,
   "metadata": {},
   "outputs": [
    {
     "name": "stdout",
     "output_type": "stream",
     "text": [
      " final_simplex: (array([[0.00749581, 3.11215077],\n",
      "       [0.00749581, 3.11215077],\n",
      "       [0.00749581, 3.11215077]]), array([9.04258553e-12, 9.05337049e-12, 9.05337075e-12]))\n",
      "           fun: 9.04258552713375e-12\n",
      "       message: 'Optimization terminated successfully.'\n",
      "          nfev: 182\n",
      "           nit: 81\n",
      "        status: 0\n",
      "       success: True\n",
      "             x: array([0.00749581, 3.11215077])\n",
      "{'fun': 9.04258552713375e-12, 'nit': 81, 'nfev': 182, 'status': 0, 'success': True, 'message': 'Optimization terminated successfully.', 'x': array([0.00749581, 3.11215077]), 'final_simplex': (array([[0.00749581, 3.11215077],\n",
      "       [0.00749581, 3.11215077],\n",
      "       [0.00749581, 3.11215077]]), array([9.04258553e-12, 9.05337049e-12, 9.05337075e-12]))}\n",
      "{'ic/vt-fps': 0, 'gear/gear-cmd-norm': 1, 'propulsion/engine/pitch-angle-rad': 0.0, 'fcs/throttle-cmd-norm': 0, 'fcs/aileron-cmd-norm': 0, 'fcs/elevator-cmd-norm': 0, 'fcs/rudder-cmd-norm': 0, 'fcs/left-brake-cmd-norm': 1, 'fcs/right-brake-cmd-norm': 1, 'fcs/center-brake-cmd-norm': 1, 'ic/theta-rad': 0.007495814706432985, 'ic/h-agl-ft': 3.112150772283938}\n",
      "{'forces/fbz-aero-lbs': -0.0, 'forces/fbz-weight-lbs': 11358.887299201851, 'forces/fbz-total-lbs': -4999.207773218508, 'forces/fbz-gear-lbs': -4999.207773218508, 'forces/fbz-prop-lbs': 0.0}\n",
      "{'forces/fbz-aero-lbs': -0.0, 'forces/fbz-weight-lbs': 11358.593849189343, 'forces/fbz-total-lbs': -11335.795515755297, 'forces/fbz-gear-lbs': -11335.795515755297, 'forces/fbz-prop-lbs': 0.0}\n"
     ]
    }
   ],
   "source": [
    "ct = 0\n",
    "temp = []\n",
    "def cost_ground(fdm):\n",
    "    # modify cost to also penalize throttle   \n",
    "    udot = fdm['accelerations/udot-ft_sec2']\n",
    "    vdot = fdm['accelerations/vdot-ft_sec2']\n",
    "    wdot = fdm['accelerations/wdot-ft_sec2']\n",
    "    pdot = fdm['accelerations/pdot-rad_sec2']\n",
    "    qdot = fdm['accelerations/qdot-rad_sec2']\n",
    "    rdot = fdm['accelerations/rdot-rad_sec2']\n",
    "    temp.append(fdm.get_property_catalog('fbz'))\n",
    "    return udot**2 + vdot**2 + wdot**2 + pdot**2 + qdot**2 + rdot**2  \n",
    "        \n",
    "op_ground, fdm, res = trim(\n",
    "    aircraft='F-35B-2',\n",
    "    ic={\n",
    "        'ic/vt-fps': 0,\n",
    "        'gear/gear-cmd-norm': 1,\n",
    "        'propulsion/engine/pitch-angle-rad': np.deg2rad(0),\n",
    "        'fcs/throttle-cmd-norm': 0,\n",
    "        'fcs/aileron-cmd-norm': 0,\n",
    "        'fcs/elevator-cmd-norm': 0,\n",
    "        'fcs/rudder-cmd-norm': 0,\n",
    "        'fcs/left-brake-cmd-norm': 1,\n",
    "        'fcs/right-brake-cmd-norm': 1,\n",
    "        'fcs/center-brake-cmd-norm': 1,\n",
    "    },\n",
    "    design_vector=['ic/theta-rad', 'ic/h-agl-ft'],\n",
    "    x0=[0, 3.5],\n",
    "    verbose=True,\n",
    "    method='Nelder-Mead', # works better with ground interaction\n",
    "    tol=1e-12,\n",
    "    #bounds=[[np.deg2rad(-40), np.deg2rad(40)], [0, 20]],\n",
    "    cost=cost_ground,\n",
    ")\n",
    "\n",
    "print(res)\n",
    "print(op_ground)\n",
    "print(temp[0])\n",
    "print(temp[-1])\n",
    "\n",
    "data['res'] = res\n",
    "data['op_ground'] = op_ground\n",
    "data['fbz_initial'] = temp[0]\n",
    "data['fbz_final'] = temp[-1]\n",
    "all_data = dict()\n",
    "all_data['groundTrim'] = data"
   ]
  },
  {
   "cell_type": "code",
   "execution_count": 57,
   "metadata": {},
   "outputs": [],
   "source": [
    "log_ground = simulate(\n",
    "    aircraft='F-35B-2',\n",
    "    op_0=op_ground,\n",
    "    tf=5,\n",
    "    realtime=True)"
   ]
  },
  {
   "cell_type": "code",
   "execution_count": 58,
   "metadata": {},
   "outputs": [
    {
     "data": {
      "text/plain": [
       "Text(0, 0.5, 'ft, altitude')"
      ]
     },
     "execution_count": 58,
     "metadata": {},
     "output_type": "execute_result"
    },
    {
     "data": {
      "image/png": "[encoded data removed]",
      "text/plain": [
       "<Figure size 432x288 with 1 Axes>"
      ]
     },
     "metadata": {
      "needs_background": "light"
     },
     "output_type": "display_data"
    }
   ],
   "source": [
    "log_ground['position/h-agl-ft'].plot()\n",
    "plt.grid(True)\n",
    "plt.ylabel('ft, altitude')"
   ]
  },
  {
   "cell_type": "code",
   "execution_count": 59,
   "metadata": {},
   "outputs": [
    {
     "data": {
      "text/plain": [
       "Text(0, 0.5, 'deg, aircraft pitch')"
      ]
     },
     "execution_count": 59,
     "metadata": {},
     "output_type": "execute_result"
    },
    {
     "data": {
      "image/png": "[encoded data removed]",
      "text/plain": [
       "<Figure size 432x288 with 1 Axes>"
      ]
     },
     "metadata": {
      "needs_background": "light"
     },
     "output_type": "display_data"
    }
   ],
   "source": [
    "log_ground['attitude/theta-deg'].plot()\n",
    "plt.grid(True)\n",
    "plt.ylabel('deg, aircraft pitch')"
   ]
  },
  {
   "cell_type": "code",
   "execution_count": 18,
   "metadata": {},
   "outputs": [
    {
     "data": {
      "text/plain": [
       "False"
      ]
     },
     "execution_count": 18,
     "metadata": {},
     "output_type": "execute_result"
    }
   ],
   "source": [
    "fdm.resume_integration()\n",
    "fdm.get_propulsion().get_steady_state()"
   ]
  },
  {
   "cell_type": "code",
   "execution_count": 60,
   "metadata": {},
   "outputs": [
    {
     "name": "stdout",
     "output_type": "stream",
     "text": [
      "      fun: 8.855948537345098e-12\n",
      " hess_inv: <6x6 LbfgsInvHessProduct with dtype=float64>\n",
      "      jac: array([-5.45794034e-06, -3.74771872e-07, -2.78537761e-07, -3.95065336e-07,\n",
      "       -2.51641947e-07, -3.76151362e-07])\n",
      "  message: b'CONVERGENCE: REL_REDUCTION_OF_F_<=_FACTR*EPSMCH'\n",
      "     nfev: 259\n",
      "      nit: 16\n",
      "     njev: 37\n",
      "   status: 0\n",
      "  success: True\n",
      "        x: array([0.92874054, 0.71683748, 1.57179653, 1.5693725 , 1.57179654,\n",
      "       1.5693725 ])\n",
      "{'ic/h-agl-ft': 10, 'ic/vd-fps': 0, 'ic/vn-fps': 0.0, 'ic/ve-fps': -0.0, 'ic/theta-rad': 0, 'gear/gear-cmd-norm': 1, 'fcs/left-brake-cmd-norm': 0, 'fcs/right-brake-cmd-norm': 0, 'fcs/center-brake-cmd-norm': 0, 'fcs/throttle-cmd-norm': 0.9287405445871773, 'fcs/elevator-cmd-norm': 0.7168374772549062, 'propulsion/engine/pitch-angle-rad': 1.5717965316467137, 'propulsion/engine[1]/pitch-angle-rad': 1.5693724982882014, 'propulsion/engine[2]/pitch-angle-rad': 1.5717965408049575, 'propulsion/engine[3]/pitch-angle-rad': 1.5693725005375176}\n",
      "{'velocities/h-dot-fps': -0.0, 'velocities/phidot-rad_sec': 0.0, 'velocities/thetadot-rad_sec': 0.0, 'velocities/psidot-rad_sec': 0.0, 'accelerations/pdot-rad_sec2': 1.8657114455788187e-09, 'accelerations/qdot-rad_sec2': 1.0488849405364631e-07, 'accelerations/rdot-rad_sec2': -1.4073216019254512e-08, 'accelerations/udot-ft_sec2': -6.790932451788967e-09, 'accelerations/vdot-ft_sec2': 2.95195145366689e-06, 'accelerations/wdot-ft_sec2': 3.562588801742095e-07, 'aero/alphadot-rad_sec': 0.0, 'aero/betadot-rad_sec': 0.0, 'aero/alphadot-deg_sec': 0.0, 'aero/betadot-deg_sec': 0.0, 'aero/coefficient/Cmadot': -0.0}\n"
     ]
    }
   ],
   "source": [
    "op_hover, fdm, res = trim(\n",
    "    aircraft='F-35B-2',\n",
    "    ic={\n",
    "        'ic/h-agl-ft': 10,\n",
    "        'ic/vd-fps': 0,\n",
    "        'ic/vn-fps': 0*np.cos(np.deg2rad(280)),\n",
    "        'ic/ve-fps': 0*np.sin(np.deg2rad(280)),\n",
    "        'ic/theta-rad': 0,\n",
    "        'gear/gear-cmd-norm': 1,\n",
    "        'fcs/left-brake-cmd-norm': 0,\n",
    "        'fcs/right-brake-cmd-norm': 0,\n",
    "        'fcs/center-brake-cmd-norm': 0,\n",
    "    },\n",
    "    design_vector=[\n",
    "        'fcs/throttle-cmd-norm',\n",
    "        'fcs/elevator-cmd-norm',\n",
    "        'propulsion/engine/pitch-angle-rad',\n",
    "        'propulsion/engine[1]/pitch-angle-rad',\n",
    "        'propulsion/engine[2]/pitch-angle-rad',\n",
    "        'propulsion/engine[3]/pitch-angle-rad',\n",
    "    ],\n",
    "    x0=[0.5, 0, np.deg2rad(90), np.deg2rad(90), np.deg2rad(90), np.deg2rad(90)],\n",
    "    verbose=True,\n",
    "    bounds=[[0, 1], [-1, 1], [np.deg2rad(0), np.deg2rad(120)], \n",
    "           [np.deg2rad(0), np.deg2rad(120)],\n",
    "           [np.deg2rad(0), np.deg2rad(120)],\n",
    "           [np.deg2rad(0), np.deg2rad(120)]],\n",
    "    tol=1e-12\n",
    ")\n",
    "print(op_hover)\n",
    "data1 = dict()\n",
    "data1['res'] = res\n",
    "data1['op_hover'] = op_hover\n",
    "print(fdm.get_property_catalog('dot'))\n",
    "data1['dot_values'] = fdm.get_property_catalog('dot')\n",
    "\n",
    "all_data['hoverTrim'] = data1"
   ]
  },
  {
   "cell_type": "code",
   "execution_count": 14,
   "metadata": {},
   "outputs": [],
   "source": [
    "log_hover = simulate(\n",
    "    aircraft='F-35B-2',\n",
    "    op_0=op_hover,\n",
    "    tf=10,\n",
    "    realtime=True)"
   ]
  },
  {
   "cell_type": "code",
   "execution_count": 46,
   "metadata": {},
   "outputs": [
    {
     "data": {
      "text/plain": [
       "Text(0, 0.5, 'ft, altitude')"
      ]
     },
     "execution_count": 46,
     "metadata": {},
     "output_type": "execute_result"
    },
    {
     "data": {
      "image/png": "[encoded data removed]",
      "text/plain": [
       "<Figure size 432x288 with 1 Axes>"
      ]
     },
     "metadata": {
      "needs_background": "light"
     },
     "output_type": "display_data"
    }
   ],
   "source": [
    "log_hover['position/h-agl-ft'].plot()\n",
    "plt.grid(True)\n",
    "plt.ylabel('ft, altitude')"
   ]
  },
  {
   "cell_type": "code",
   "execution_count": 47,
   "metadata": {},
   "outputs": [
    {
     "data": {
      "image/png": "[encoded data removed]",
      "text/plain": [
       "<Figure size 432x288 with 1 Axes>"
      ]
     },
     "metadata": {
      "needs_background": "light"
     },
     "output_type": "display_data"
    }
   ],
   "source": [
    "plt.subplot()\n",
    "log_hover['propulsion/engine/thrust-lbs'].plot()\n",
    "log_hover['propulsion/engine[1]/thrust-lbs'].plot()\n",
    "log_hover['propulsion/engine[2]/thrust-lbs'].plot()\n",
    "log_hover['propulsion/engine[3]/thrust-lbs'].plot()\n",
    "plt.grid(True)\n",
    "plt.legend(['rcp', 'rhp', 'lcp', 'lhp'])\n",
    "plt.ylabel('lbs, engine thrusts')\n",
    "plt.show()"
   ]
  },
  {
   "cell_type": "code",
   "execution_count": 48,
   "metadata": {},
   "outputs": [
    {
     "data": {
      "image/png": "[encoded data removed]",
      "text/plain": [
       "<Figure size 432x288 with 1 Axes>"
      ]
     },
     "metadata": {
      "needs_background": "light"
     },
     "output_type": "display_data"
    }
   ],
   "source": [
    "plt.subplot()\n",
    "log_hover['propulsion/engine/pitch-angle-rad'].plot()\n",
    "log_hover['propulsion/engine[1]/pitch-angle-rad'].plot()\n",
    "log_hover['propulsion/engine[2]/pitch-angle-rad'].plot()\n",
    "log_hover['propulsion/engine[3]/pitch-angle-rad'].plot()\n",
    "plt.grid(True)\n",
    "plt.legend(['rcp', 'rhp', 'lcp', 'lhp'])\n",
    "plt.ylabel('deg, engine pitch angle')\n",
    "plt.show()"
   ]
  },
  {
   "cell_type": "code",
   "execution_count": 61,
   "metadata": {},
   "outputs": [
    {
     "name": "stdout",
     "output_type": "stream",
     "text": [
      "      fun: -0.07279137319063003\n",
      " hess_inv: <7x7 LbfgsInvHessProduct with dtype=float64>\n",
      "      jac: array([ 1.00000068e-01,  9.11520859e-05, -3.62682107e-05,  6.78235246e-05,\n",
      "        3.34029193e-03,  2.59819943e-05,  5.21585969e-03])\n",
      "  message: b'CONVERGENCE: REL_REDUCTION_OF_F_<=_FACTR*EPSMCH'\n",
      "     nfev: 760\n",
      "      nit: 69\n",
      "     njev: 95\n",
      "   status: 0\n",
      "  success: True\n",
      "        x: array([ 0.        , -0.12367121,  0.00069518, -0.00020624,  0.02021778,\n",
      "        0.00129227,  0.        ])\n"
     ]
    }
   ],
   "source": [
    "def cost_cruise(fdm):\n",
    "    # modify cost to also penalize throttle\n",
    "    delta = fdm['propulsion/engine/pitch-angle-rad']\n",
    "    theta = fdm['attitude/theta-rad']\n",
    "    drag = fdm['forces/fwx-aero-lbs']\n",
    "    lift = fdm['forces/fwz-aero-lbs']\n",
    "    alpha = fdm['aero/alpha-rad']\n",
    "    throttle = fdm['fcs/throttle-cmd-norm']\n",
    "    \n",
    "    udot = fdm['accelerations/udot-ft_sec2']\n",
    "    vdot = fdm['accelerations/vdot-ft_sec2']\n",
    "    wdot = fdm['accelerations/wdot-ft_sec2']\n",
    "    pdot = fdm['accelerations/pdot-rad_sec2']\n",
    "    qdot = fdm['accelerations/qdot-rad_sec2']\n",
    "    rdot = fdm['accelerations/rdot-rad_sec2']\n",
    "    return udot**2 + vdot**2 + wdot**2 + pdot**2 + qdot**2 + rdot**2 - 1e-3*(lift/drag)**2 + 1e-3*(theta < 0) + 1e-1*throttle + 2e-1*delta**2 \n",
    "        \n",
    "op_cruise, fdm, res = trim(\n",
    "    aircraft='F-35B-2',\n",
    "    ic={\n",
    "        'ic/gamma-rad': 0,\n",
    "        'ic/vt-fps': 677,\n",
    "        'ic/h-agl-ft': 38*1e3,\n",
    "        'gear/gear-cmd-norm': 0,\n",
    "        'fcs/left-brake-cmd-norm': 0,\n",
    "        'fcs/right-brake-cmd-norm': 0,\n",
    "        'fcs/center-brake-cmd-norm': 0,\n",
    "        'propulsion/engine/pitch-angle-rad': 0,\n",
    "    },\n",
    "    design_vector=[\n",
    "        'fcs/throttle-cmd-norm',\n",
    "        'fcs/elevator-cmd-norm',\n",
    "        'fcs/rudder-cmd-norm',\n",
    "        'fcs/aileron-cmd-norm',\n",
    "        'ic/alpha-rad',\n",
    "        'ic/beta-rad',\n",
    "        'propulsion/engine/pitch-angle-rad',\n",
    "    ],\n",
    "    cost=cost_cruise,\n",
    "    x0=[0.4, 0, 0, 0, 0, 0, 0],\n",
    "    verbose=True,\n",
    "    bounds=[[0, 1], [-1, 1], [-1, 1], [-1, 1], [-1, 1], [-1, 1], [np.deg2rad(0), np.deg2rad(120)]],\n",
    "    tol=1e-12,\n",
    ")\n",
    "op_cruise\n",
    "\n",
    "data2 = dict()\n",
    "data2['res'] = res\n",
    "data2['op_cruise'] = op_cruise\n",
    "\n",
    "all_data['cruiseTrim'] = data2"
   ]
  },
  {
   "cell_type": "code",
   "execution_count": 25,
   "metadata": {},
   "outputs": [],
   "source": [
    "log_cruise = simulate(\n",
    "    aircraft='F-35B-2',\n",
    "    op_0=op_cruise,\n",
    "    tf=10,\n",
    "    realtime=True)"
   ]
  },
  {
   "cell_type": "code",
   "execution_count": 30,
   "metadata": {},
   "outputs": [
    {
     "data": {
      "image/png": "[encoded data removed]",
      "text/plain": [
       "<Figure size 432x288 with 1 Axes>"
      ]
     },
     "metadata": {
      "needs_background": "light"
     },
     "output_type": "display_data"
    }
   ],
   "source": [
    "plt.subplot()\n",
    "log_cruise['propulsion/engine/pitch-angle-rad'].plot()\n",
    "log_cruise['propulsion/engine[1]/pitch-angle-rad'].plot()\n",
    "log_cruise['propulsion/engine[2]/pitch-angle-rad'].plot()\n",
    "log_cruise['propulsion/engine[3]/pitch-angle-rad'].plot()\n",
    "plt.grid(True)\n",
    "plt.legend(['rcp', 'rhp', 'lcp', 'lhp'])\n",
    "plt.ylabel('lb, pounds')\n",
    "plt.show()"
   ]
  },
  {
   "cell_type": "code",
   "execution_count": 34,
   "metadata": {},
   "outputs": [
    {
     "data": {
      "image/png": "[encoded data removed]",
      "text/plain": [
       "<Figure size 432x288 with 1 Axes>"
      ]
     },
     "metadata": {
      "needs_background": "light"
     },
     "output_type": "display_data"
    }
   ],
   "source": [
    "log_cruise['forces/fwx-aero-lbs'].plot()\n",
    "plt.ylabel('lbs, drag')\n",
    "plt.grid(True)"
   ]
  },
  {
   "cell_type": "code",
   "execution_count": 37,
   "metadata": {},
   "outputs": [
    {
     "data": {
      "text/plain": [
       "Text(0, 0.5, 'lbs, side-force')"
      ]
     },
     "execution_count": 37,
     "metadata": {},
     "output_type": "execute_result"
    },
    {
     "data": {
      "image/png": "[encoded data removed]",
      "text/plain": [
       "<Figure size 432x288 with 1 Axes>"
      ]
     },
     "metadata": {
      "needs_background": "light"
     },
     "output_type": "display_data"
    }
   ],
   "source": [
    "log_cruise['forces/fwy-aero-lbs'].plot()\n",
    "plt.grid(True)\n",
    "plt.ylabel('lbs, side-force')"
   ]
  },
  {
   "cell_type": "code",
   "execution_count": 36,
   "metadata": {},
   "outputs": [
    {
     "data": {
      "text/plain": [
       "Text(0, 0.5, 'lbs, lift')"
      ]
     },
     "execution_count": 36,
     "metadata": {},
     "output_type": "execute_result"
    },
    {
     "data": {
      "image/png": "[encoded data removed]",
      "text/plain": [
       "<Figure size 432x288 with 1 Axes>"
      ]
     },
     "metadata": {
      "needs_background": "light"
     },
     "output_type": "display_data"
    }
   ],
   "source": [
    "log_cruise['forces/fwz-aero-lbs'].plot()\n",
    "plt.grid(True)\n",
    "plt.ylabel('lbs, lift')"
   ]
  },
  {
   "cell_type": "code",
   "execution_count": 43,
   "metadata": {},
   "outputs": [
    {
     "data": {
      "image/png": "[encoded data removed]",
      "text/plain": [
       "<Figure size 432x288 with 1 Axes>"
      ]
     },
     "metadata": {
      "needs_background": "light"
     },
     "output_type": "display_data"
    }
   ],
   "source": [
    "log_cruise['aero/alpha-deg'].plot()\n",
    "plt.ylabel('deg, angle of attack')\n",
    "plt.grid(True)"
   ]
  },
  {
   "cell_type": "code",
   "execution_count": 41,
   "metadata": {},
   "outputs": [
    {
     "data": {
      "text/plain": [
       "Text(0, 0.5, 'deg, elevator angle')"
      ]
     },
     "execution_count": 41,
     "metadata": {},
     "output_type": "execute_result"
    },
    {
     "data": {
      "image/png": "[encoded data removed]",
      "text/plain": [
       "<Figure size 432x288 with 1 Axes>"
      ]
     },
     "metadata": {
      "needs_background": "light"
     },
     "output_type": "display_data"
    }
   ],
   "source": [
    "log_cruise['fcs/elevator-pos-deg'].plot()\n",
    "plt.grid(True)\n",
    "plt.ylabel('deg, elevator angle')"
   ]
  },
  {
   "cell_type": "code",
   "execution_count": 40,
   "metadata": {},
   "outputs": [
    {
     "data": {
      "image/png": "[encoded data removed]",
      "text/plain": [
       "<Figure size 432x288 with 1 Axes>"
      ]
     },
     "metadata": {
      "needs_background": "light"
     },
     "output_type": "display_data"
    }
   ],
   "source": [
    "plt.subplot()\n",
    "log_cruise['fcs/left-aileron-pos-deg'].plot()\n",
    "log_cruise['fcs/right-aileron-pos-deg'].plot()\n",
    "plt.grid(True)\n",
    "plt.legend(['left aileron', 'right aileron'])\n",
    "plt.ylabel(\"deg, aileron angle\")\n",
    "plt.show()"
   ]
  },
  {
   "cell_type": "code",
   "execution_count": 42,
   "metadata": {},
   "outputs": [
    {
     "data": {
      "text/plain": [
       "Text(0, 0.5, 'deg, rudder angle')"
      ]
     },
     "execution_count": 42,
     "metadata": {},
     "output_type": "execute_result"
    },
    {
     "data": {
      "image/png": "[encoded data removed]",
      "text/plain": [
       "<Figure size 432x288 with 1 Axes>"
      ]
     },
     "metadata": {
      "needs_background": "light"
     },
     "output_type": "display_data"
    }
   ],
   "source": [
    "log_cruise['fcs/rudder-pos-deg'].plot()\n",
    "plt.grid(True)\n",
    "plt.ylabel('deg, rudder angle')"
   ]
  },
  {
   "cell_type": "code",
   "execution_count": 85,
   "metadata": {},
   "outputs": [
    {
     "data": {
      "text/plain": [
       "Text(0, 0.5, 'fps, velocity')"
      ]
     },
     "execution_count": 85,
     "metadata": {},
     "output_type": "execute_result"
    },
    {
     "data": {
      "image/png": "[encoded data removed]",
      "text/plain": [
       "<Figure size 432x288 with 1 Axes>"
      ]
     },
     "metadata": {
      "needs_background": "light"
     },
     "output_type": "display_data"
    }
   ],
   "source": [
    "log_cruise['velocities/vt-fps'].plot()\n",
    "plt.grid(True)\n",
    "plt.ylabel(\"fps, velocity\")"
   ]
  },
  {
   "cell_type": "code",
   "execution_count": 74,
   "metadata": {},
   "outputs": [],
   "source": [
    "del all_data['cruiseTrim']['res']['hess_inv']"
   ]
  },
  {
   "cell_type": "code",
   "execution_count": 77,
   "metadata": {},
   "outputs": [],
   "source": [
    "del all_data['hoverTrim']['res']['hess_inv']"
   ]
  },
  {
   "cell_type": "code",
   "execution_count": 81,
   "metadata": {},
   "outputs": [],
   "source": [
    "del all_data['cruiseTrim']['res']['message']\n",
    "del all_data['groundTrim']['res']['message']\n",
    "del all_data['hoverTrim']['res']['message']"
   ]
  },
  {
   "cell_type": "code",
   "execution_count": 82,
   "metadata": {},
   "outputs": [],
   "source": [
    "# encode numpy array for JSON serializable\n",
    "class NumpyEncoder(json.JSONEncoder):\n",
    "    def default(self, obj):\n",
    "        if isinstance(obj, np.ndarray):\n",
    "            return obj.tolist()\n",
    "        return json.JSONEncoder.default(self, obj)\n",
    "\n",
    "# save all output as JSON file \n",
    "with open('jsbsim_opt.json', '+w') as jfile:\n",
    "    json.dump(all_data, jfile, indent=4, cls=NumpyEncoder)"
   ]
  },
  {
   "cell_type": "code",
   "execution_count": 86,
   "metadata": {},
   "outputs": [
    {
     "data": {
      "text/html": [
       "<div>\n",
       "<style scoped>\n",
       "    .dataframe tbody tr th:only-of-type {\n",
       "        vertical-align: middle;\n",
       "    }\n",
       "\n",
       "    .dataframe tbody tr th {\n",
       "        vertical-align: top;\n",
       "    }\n",
       "\n",
       "    .dataframe thead th {\n",
       "        text-align: right;\n",
       "    }\n",
       "</style>\n",
       "<table border=\"1\" class=\"dataframe\">\n",
       "  <thead>\n",
       "    <tr style=\"text-align: right;\">\n",
       "      <th></th>\n",
       "      <th>inertial/sea-level-radius_ft</th>\n",
       "      <th>simulation/gravity-model</th>\n",
       "      <th>simulation/integrator/rate/rotational</th>\n",
       "      <th>simulation/integrator/rate/translational</th>\n",
       "      <th>simulation/integrator/position/rotational</th>\n",
       "      <th>simulation/integrator/position/translational</th>\n",
       "      <th>simulation/write-state-file</th>\n",
       "      <th>simulation/channel-dt</th>\n",
       "      <th>simulation/gravitational-torque</th>\n",
       "      <th>simulation/force-output</th>\n",
       "      <th>...</th>\n",
       "      <th>contact/unit[4]/rolling_friction-factor</th>\n",
       "      <th>contact/unit[4]/static-friction-factor</th>\n",
       "      <th>contact/unit[4]/WOW</th>\n",
       "      <th>contact/unit[4]/x-position</th>\n",
       "      <th>contact/unit[4]/y-position</th>\n",
       "      <th>contact/unit[4]/z-position</th>\n",
       "      <th>contact/unit[4]/compression-ft</th>\n",
       "      <th>contact/unit[4]/compression-velocity-fps</th>\n",
       "      <th>contact/unit[4]/static_friction_coeff</th>\n",
       "      <th>contact/unit[4]/dynamic_friction_coeff</th>\n",
       "    </tr>\n",
       "    <tr>\n",
       "      <th>t, sec</th>\n",
       "      <th></th>\n",
       "      <th></th>\n",
       "      <th></th>\n",
       "      <th></th>\n",
       "      <th></th>\n",
       "      <th></th>\n",
       "      <th></th>\n",
       "      <th></th>\n",
       "      <th></th>\n",
       "      <th></th>\n",
       "      <th></th>\n",
       "      <th></th>\n",
       "      <th></th>\n",
       "      <th></th>\n",
       "      <th></th>\n",
       "      <th></th>\n",
       "      <th></th>\n",
       "      <th></th>\n",
       "      <th></th>\n",
       "      <th></th>\n",
       "      <th></th>\n",
       "    </tr>\n",
       "  </thead>\n",
       "  <tbody>\n",
       "    <tr>\n",
       "      <th>0.008333</th>\n",
       "      <td>2.089630e+07</td>\n",
       "      <td>1.0</td>\n",
       "      <td>1.0</td>\n",
       "      <td>3.0</td>\n",
       "      <td>1.0</td>\n",
       "      <td>4.0</td>\n",
       "      <td>0.0</td>\n",
       "      <td>0.008333</td>\n",
       "      <td>0.0</td>\n",
       "      <td>0.0</td>\n",
       "      <td>...</td>\n",
       "      <td>1.0</td>\n",
       "      <td>1.0</td>\n",
       "      <td>0.0</td>\n",
       "      <td>278.04</td>\n",
       "      <td>273.96</td>\n",
       "      <td>56.28</td>\n",
       "      <td>0.0</td>\n",
       "      <td>0.0</td>\n",
       "      <td>0.8</td>\n",
       "      <td>0.5</td>\n",
       "    </tr>\n",
       "    <tr>\n",
       "      <th>0.008333</th>\n",
       "      <td>2.089630e+07</td>\n",
       "      <td>1.0</td>\n",
       "      <td>1.0</td>\n",
       "      <td>3.0</td>\n",
       "      <td>1.0</td>\n",
       "      <td>4.0</td>\n",
       "      <td>0.0</td>\n",
       "      <td>0.008333</td>\n",
       "      <td>0.0</td>\n",
       "      <td>0.0</td>\n",
       "      <td>...</td>\n",
       "      <td>1.0</td>\n",
       "      <td>1.0</td>\n",
       "      <td>0.0</td>\n",
       "      <td>278.04</td>\n",
       "      <td>273.96</td>\n",
       "      <td>56.28</td>\n",
       "      <td>0.0</td>\n",
       "      <td>0.0</td>\n",
       "      <td>0.8</td>\n",
       "      <td>0.5</td>\n",
       "    </tr>\n",
       "    <tr>\n",
       "      <th>0.008333</th>\n",
       "      <td>2.089630e+07</td>\n",
       "      <td>1.0</td>\n",
       "      <td>1.0</td>\n",
       "      <td>3.0</td>\n",
       "      <td>1.0</td>\n",
       "      <td>4.0</td>\n",
       "      <td>0.0</td>\n",
       "      <td>0.008333</td>\n",
       "      <td>0.0</td>\n",
       "      <td>0.0</td>\n",
       "      <td>...</td>\n",
       "      <td>1.0</td>\n",
       "      <td>1.0</td>\n",
       "      <td>0.0</td>\n",
       "      <td>278.04</td>\n",
       "      <td>273.96</td>\n",
       "      <td>56.28</td>\n",
       "      <td>0.0</td>\n",
       "      <td>0.0</td>\n",
       "      <td>0.8</td>\n",
       "      <td>0.5</td>\n",
       "    </tr>\n",
       "    <tr>\n",
       "      <th>0.008333</th>\n",
       "      <td>2.089630e+07</td>\n",
       "      <td>1.0</td>\n",
       "      <td>1.0</td>\n",
       "      <td>3.0</td>\n",
       "      <td>1.0</td>\n",
       "      <td>4.0</td>\n",
       "      <td>0.0</td>\n",
       "      <td>0.008333</td>\n",
       "      <td>0.0</td>\n",
       "      <td>0.0</td>\n",
       "      <td>...</td>\n",
       "      <td>1.0</td>\n",
       "      <td>1.0</td>\n",
       "      <td>0.0</td>\n",
       "      <td>278.04</td>\n",
       "      <td>273.96</td>\n",
       "      <td>56.28</td>\n",
       "      <td>0.0</td>\n",
       "      <td>0.0</td>\n",
       "      <td>0.8</td>\n",
       "      <td>0.5</td>\n",
       "    </tr>\n",
       "    <tr>\n",
       "      <th>0.008333</th>\n",
       "      <td>2.089630e+07</td>\n",
       "      <td>1.0</td>\n",
       "      <td>1.0</td>\n",
       "      <td>3.0</td>\n",
       "      <td>1.0</td>\n",
       "      <td>4.0</td>\n",
       "      <td>0.0</td>\n",
       "      <td>0.008333</td>\n",
       "      <td>0.0</td>\n",
       "      <td>0.0</td>\n",
       "      <td>...</td>\n",
       "      <td>1.0</td>\n",
       "      <td>1.0</td>\n",
       "      <td>0.0</td>\n",
       "      <td>278.04</td>\n",
       "      <td>273.96</td>\n",
       "      <td>56.28</td>\n",
       "      <td>0.0</td>\n",
       "      <td>0.0</td>\n",
       "      <td>0.8</td>\n",
       "      <td>0.5</td>\n",
       "    </tr>\n",
       "    <tr>\n",
       "      <th>...</th>\n",
       "      <td>...</td>\n",
       "      <td>...</td>\n",
       "      <td>...</td>\n",
       "      <td>...</td>\n",
       "      <td>...</td>\n",
       "      <td>...</td>\n",
       "      <td>...</td>\n",
       "      <td>...</td>\n",
       "      <td>...</td>\n",
       "      <td>...</td>\n",
       "      <td>...</td>\n",
       "      <td>...</td>\n",
       "      <td>...</td>\n",
       "      <td>...</td>\n",
       "      <td>...</td>\n",
       "      <td>...</td>\n",
       "      <td>...</td>\n",
       "      <td>...</td>\n",
       "      <td>...</td>\n",
       "      <td>...</td>\n",
       "      <td>...</td>\n",
       "    </tr>\n",
       "    <tr>\n",
       "      <th>9.991667</th>\n",
       "      <td>2.089630e+07</td>\n",
       "      <td>1.0</td>\n",
       "      <td>1.0</td>\n",
       "      <td>3.0</td>\n",
       "      <td>1.0</td>\n",
       "      <td>4.0</td>\n",
       "      <td>0.0</td>\n",
       "      <td>0.008333</td>\n",
       "      <td>0.0</td>\n",
       "      <td>0.0</td>\n",
       "      <td>...</td>\n",
       "      <td>1.0</td>\n",
       "      <td>1.0</td>\n",
       "      <td>0.0</td>\n",
       "      <td>278.04</td>\n",
       "      <td>273.96</td>\n",
       "      <td>56.28</td>\n",
       "      <td>0.0</td>\n",
       "      <td>0.0</td>\n",
       "      <td>0.8</td>\n",
       "      <td>0.5</td>\n",
       "    </tr>\n",
       "    <tr>\n",
       "      <th>9.991667</th>\n",
       "      <td>2.089630e+07</td>\n",
       "      <td>1.0</td>\n",
       "      <td>1.0</td>\n",
       "      <td>3.0</td>\n",
       "      <td>1.0</td>\n",
       "      <td>4.0</td>\n",
       "      <td>0.0</td>\n",
       "      <td>0.008333</td>\n",
       "      <td>0.0</td>\n",
       "      <td>0.0</td>\n",
       "      <td>...</td>\n",
       "      <td>1.0</td>\n",
       "      <td>1.0</td>\n",
       "      <td>0.0</td>\n",
       "      <td>278.04</td>\n",
       "      <td>273.96</td>\n",
       "      <td>56.28</td>\n",
       "      <td>0.0</td>\n",
       "      <td>0.0</td>\n",
       "      <td>0.8</td>\n",
       "      <td>0.5</td>\n",
       "    </tr>\n",
       "    <tr>\n",
       "      <th>9.991667</th>\n",
       "      <td>2.089630e+07</td>\n",
       "      <td>1.0</td>\n",
       "      <td>1.0</td>\n",
       "      <td>3.0</td>\n",
       "      <td>1.0</td>\n",
       "      <td>4.0</td>\n",
       "      <td>0.0</td>\n",
       "      <td>0.008333</td>\n",
       "      <td>0.0</td>\n",
       "      <td>0.0</td>\n",
       "      <td>...</td>\n",
       "      <td>1.0</td>\n",
       "      <td>1.0</td>\n",
       "      <td>0.0</td>\n",
       "      <td>278.04</td>\n",
       "      <td>273.96</td>\n",
       "      <td>56.28</td>\n",
       "      <td>0.0</td>\n",
       "      <td>0.0</td>\n",
       "      <td>0.8</td>\n",
       "      <td>0.5</td>\n",
       "    </tr>\n",
       "    <tr>\n",
       "      <th>9.991667</th>\n",
       "      <td>2.089630e+07</td>\n",
       "      <td>1.0</td>\n",
       "      <td>1.0</td>\n",
       "      <td>3.0</td>\n",
       "      <td>1.0</td>\n",
       "      <td>4.0</td>\n",
       "      <td>0.0</td>\n",
       "      <td>0.008333</td>\n",
       "      <td>0.0</td>\n",
       "      <td>0.0</td>\n",
       "      <td>...</td>\n",
       "      <td>1.0</td>\n",
       "      <td>1.0</td>\n",
       "      <td>0.0</td>\n",
       "      <td>278.04</td>\n",
       "      <td>273.96</td>\n",
       "      <td>56.28</td>\n",
       "      <td>0.0</td>\n",
       "      <td>0.0</td>\n",
       "      <td>0.8</td>\n",
       "      <td>0.5</td>\n",
       "    </tr>\n",
       "    <tr>\n",
       "      <th>9.991667</th>\n",
       "      <td>2.089630e+07</td>\n",
       "      <td>1.0</td>\n",
       "      <td>1.0</td>\n",
       "      <td>3.0</td>\n",
       "      <td>1.0</td>\n",
       "      <td>4.0</td>\n",
       "      <td>0.0</td>\n",
       "      <td>0.008333</td>\n",
       "      <td>0.0</td>\n",
       "      <td>0.0</td>\n",
       "      <td>...</td>\n",
       "      <td>1.0</td>\n",
       "      <td>1.0</td>\n",
       "      <td>0.0</td>\n",
       "      <td>278.04</td>\n",
       "      <td>273.96</td>\n",
       "      <td>56.28</td>\n",
       "      <td>0.0</td>\n",
       "      <td>0.0</td>\n",
       "      <td>0.8</td>\n",
       "      <td>0.5</td>\n",
       "    </tr>\n",
       "  </tbody>\n",
       "</table>\n",
       "<p>5371 rows × 641 columns</p>\n",
       "</div>"
      ],
      "text/plain": [
       "          inertial/sea-level-radius_ft  simulation/gravity-model  \\\n",
       "t, sec                                                             \n",
       "0.008333                  2.089630e+07                       1.0   \n",
       "0.008333                  2.089630e+07                       1.0   \n",
       "0.008333                  2.089630e+07                       1.0   \n",
       "0.008333                  2.089630e+07                       1.0   \n",
       "0.008333                  2.089630e+07                       1.0   \n",
       "...                                ...                       ...   \n",
       "9.991667                  2.089630e+07                       1.0   \n",
       "9.991667                  2.089630e+07                       1.0   \n",
       "9.991667                  2.089630e+07                       1.0   \n",
       "9.991667                  2.089630e+07                       1.0   \n",
       "9.991667                  2.089630e+07                       1.0   \n",
       "\n",
       "          simulation/integrator/rate/rotational  \\\n",
       "t, sec                                            \n",
       "0.008333                                    1.0   \n",
       "0.008333                                    1.0   \n",
       "0.008333                                    1.0   \n",
       "0.008333                                    1.0   \n",
       "0.008333                                    1.0   \n",
       "...                                         ...   \n",
       "9.991667                                    1.0   \n",
       "9.991667                                    1.0   \n",
       "9.991667                                    1.0   \n",
       "9.991667                                    1.0   \n",
       "9.991667                                    1.0   \n",
       "\n",
       "          simulation/integrator/rate/translational  \\\n",
       "t, sec                                               \n",
       "0.008333                                       3.0   \n",
       "0.008333                                       3.0   \n",
       "0.008333                                       3.0   \n",
       "0.008333                                       3.0   \n",
       "0.008333                                       3.0   \n",
       "...                                            ...   \n",
       "9.991667                                       3.0   \n",
       "9.991667                                       3.0   \n",
       "9.991667                                       3.0   \n",
       "9.991667                                       3.0   \n",
       "9.991667                                       3.0   \n",
       "\n",
       "          simulation/integrator/position/rotational  \\\n",
       "t, sec                                                \n",
       "0.008333                                        1.0   \n",
       "0.008333                                        1.0   \n",
       "0.008333                                        1.0   \n",
       "0.008333                                        1.0   \n",
       "0.008333                                        1.0   \n",
       "...                                             ...   \n",
       "9.991667                                        1.0   \n",
       "9.991667                                        1.0   \n",
       "9.991667                                        1.0   \n",
       "9.991667                                        1.0   \n",
       "9.991667                                        1.0   \n",
       "\n",
       "          simulation/integrator/position/translational  \\\n",
       "t, sec                                                   \n",
       "0.008333                                           4.0   \n",
       "0.008333                                           4.0   \n",
       "0.008333                                           4.0   \n",
       "0.008333                                           4.0   \n",
       "0.008333                                           4.0   \n",
       "...                                                ...   \n",
       "9.991667                                           4.0   \n",
       "9.991667                                           4.0   \n",
       "9.991667                                           4.0   \n",
       "9.991667                                           4.0   \n",
       "9.991667                                           4.0   \n",
       "\n",
       "          simulation/write-state-file  simulation/channel-dt  \\\n",
       "t, sec                                                         \n",
       "0.008333                          0.0               0.008333   \n",
       "0.008333                          0.0               0.008333   \n",
       "0.008333                          0.0               0.008333   \n",
       "0.008333                          0.0               0.008333   \n",
       "0.008333                          0.0               0.008333   \n",
       "...                               ...                    ...   \n",
       "9.991667                          0.0               0.008333   \n",
       "9.991667                          0.0               0.008333   \n",
       "9.991667                          0.0               0.008333   \n",
       "9.991667                          0.0               0.008333   \n",
       "9.991667                          0.0               0.008333   \n",
       "\n",
       "          simulation/gravitational-torque  simulation/force-output  ...  \\\n",
       "t, sec                                                              ...   \n",
       "0.008333                              0.0                      0.0  ...   \n",
       "0.008333                              0.0                      0.0  ...   \n",
       "0.008333                              0.0                      0.0  ...   \n",
       "0.008333                              0.0                      0.0  ...   \n",
       "0.008333                              0.0                      0.0  ...   \n",
       "...                                   ...                      ...  ...   \n",
       "9.991667                              0.0                      0.0  ...   \n",
       "9.991667                              0.0                      0.0  ...   \n",
       "9.991667                              0.0                      0.0  ...   \n",
       "9.991667                              0.0                      0.0  ...   \n",
       "9.991667                              0.0                      0.0  ...   \n",
       "\n",
       "          contact/unit[4]/rolling_friction-factor  \\\n",
       "t, sec                                              \n",
       "0.008333                                      1.0   \n",
       "0.008333                                      1.0   \n",
       "0.008333                                      1.0   \n",
       "0.008333                                      1.0   \n",
       "0.008333                                      1.0   \n",
       "...                                           ...   \n",
       "9.991667                                      1.0   \n",
       "9.991667                                      1.0   \n",
       "9.991667                                      1.0   \n",
       "9.991667                                      1.0   \n",
       "9.991667                                      1.0   \n",
       "\n",
       "          contact/unit[4]/static-friction-factor  contact/unit[4]/WOW  \\\n",
       "t, sec                                                                  \n",
       "0.008333                                     1.0                  0.0   \n",
       "0.008333                                     1.0                  0.0   \n",
       "0.008333                                     1.0                  0.0   \n",
       "0.008333                                     1.0                  0.0   \n",
       "0.008333                                     1.0                  0.0   \n",
       "...                                          ...                  ...   \n",
       "9.991667                                     1.0                  0.0   \n",
       "9.991667                                     1.0                  0.0   \n",
       "9.991667                                     1.0                  0.0   \n",
       "9.991667                                     1.0                  0.0   \n",
       "9.991667                                     1.0                  0.0   \n",
       "\n",
       "          contact/unit[4]/x-position  contact/unit[4]/y-position  \\\n",
       "t, sec                                                             \n",
       "0.008333                      278.04                      273.96   \n",
       "0.008333                      278.04                      273.96   \n",
       "0.008333                      278.04                      273.96   \n",
       "0.008333                      278.04                      273.96   \n",
       "0.008333                      278.04                      273.96   \n",
       "...                              ...                         ...   \n",
       "9.991667                      278.04                      273.96   \n",
       "9.991667                      278.04                      273.96   \n",
       "9.991667                      278.04                      273.96   \n",
       "9.991667                      278.04                      273.96   \n",
       "9.991667                      278.04                      273.96   \n",
       "\n",
       "          contact/unit[4]/z-position  contact/unit[4]/compression-ft  \\\n",
       "t, sec                                                                 \n",
       "0.008333                       56.28                             0.0   \n",
       "0.008333                       56.28                             0.0   \n",
       "0.008333                       56.28                             0.0   \n",
       "0.008333                       56.28                             0.0   \n",
       "0.008333                       56.28                             0.0   \n",
       "...                              ...                             ...   \n",
       "9.991667                       56.28                             0.0   \n",
       "9.991667                       56.28                             0.0   \n",
       "9.991667                       56.28                             0.0   \n",
       "9.991667                       56.28                             0.0   \n",
       "9.991667                       56.28                             0.0   \n",
       "\n",
       "          contact/unit[4]/compression-velocity-fps  \\\n",
       "t, sec                                               \n",
       "0.008333                                       0.0   \n",
       "0.008333                                       0.0   \n",
       "0.008333                                       0.0   \n",
       "0.008333                                       0.0   \n",
       "0.008333                                       0.0   \n",
       "...                                            ...   \n",
       "9.991667                                       0.0   \n",
       "9.991667                                       0.0   \n",
       "9.991667                                       0.0   \n",
       "9.991667                                       0.0   \n",
       "9.991667                                       0.0   \n",
       "\n",
       "          contact/unit[4]/static_friction_coeff  \\\n",
       "t, sec                                            \n",
       "0.008333                                    0.8   \n",
       "0.008333                                    0.8   \n",
       "0.008333                                    0.8   \n",
       "0.008333                                    0.8   \n",
       "0.008333                                    0.8   \n",
       "...                                         ...   \n",
       "9.991667                                    0.8   \n",
       "9.991667                                    0.8   \n",
       "9.991667                                    0.8   \n",
       "9.991667                                    0.8   \n",
       "9.991667                                    0.8   \n",
       "\n",
       "          contact/unit[4]/dynamic_friction_coeff  \n",
       "t, sec                                            \n",
       "0.008333                                     0.5  \n",
       "0.008333                                     0.5  \n",
       "0.008333                                     0.5  \n",
       "0.008333                                     0.5  \n",
       "0.008333                                     0.5  \n",
       "...                                          ...  \n",
       "9.991667                                     0.5  \n",
       "9.991667                                     0.5  \n",
       "9.991667                                     0.5  \n",
       "9.991667                                     0.5  \n",
       "9.991667                                     0.5  \n",
       "\n",
       "[5371 rows x 641 columns]"
      ]
     },
     "execution_count": 86,
     "metadata": {},
     "output_type": "execute_result"
    }
   ],
   "source": []
  },
  {
   "cell_type": "code",
   "execution_count": 94,
   "metadata": {},
   "outputs": [],
   "source": [
    "result = log_cruise.to_json(orient=\"split\")\n",
    "parsed = json.loads(result)\n",
    "with open('log_cruise.json', 'w') as jfile: \n",
    "    json.dump(parsed, jfile, indent=4)"
   ]
  },
  {
   "cell_type": "code",
   "execution_count": 95,
   "metadata": {},
   "outputs": [],
   "source": [
    "result = log_ground.to_json(orient=\"split\")\n",
    "parsed = json.loads(result)\n",
    "with open('log_ground.json', 'w') as jfile: \n",
    "    json.dump(parsed, jfile, indent=4)"
   ]
  },
  {
   "cell_type": "code",
   "execution_count": 97,
   "metadata": {},
   "outputs": [],
   "source": [
    "result = log_hover.to_json(orient=\"split\")\n",
    "parsed = json.loads(result)\n",
    "with open('log_hover.json', 'w') as jfile: \n",
    "    json.dump(parsed, jfile, indent=4)"
   ]
  },
  {
   "cell_type": "code",
   "execution_count": null,
   "metadata": {},
   "outputs": [],
   "source": []
  }
 ],
 "metadata": {
  "kernelspec": {
   "display_name": "Python 3",
   "language": "python",
   "name": "python3"
  },
  "language_info": {
   "codemirror_mode": {
    "name": "ipython",
    "version": 3
   },
   "file_extension": ".py",
   "mimetype": "text/x-python",
   "name": "python",
   "nbconvert_exporter": "python",
   "pygments_lexer": "ipython3",
   "version": "3.8.5"
  }
 },
 "nbformat": 4,
 "nbformat_minor": 5
}
