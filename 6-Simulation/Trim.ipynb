{
 "cells": [
  {
   "cell_type": "code",
   "execution_count": 1,
   "metadata": {},
   "outputs": [],
   "source": [
    "%load_ext autoreload\n",
    "%autoreload 2\n",
    "# pull in new changes to python modules without having to restart notebook\n",
    "\n",
    "import matplotlib.pyplot as plt\n",
    "import numpy as np\n",
    "import pandas as pd\n",
    "import matplotlib.pyplot as plt\n",
    "import json \n",
    "from jsbsim_utils import Logger, trim, simulate, linearize, rootlocus, clean_tf\n",
    "import control "
   ]
  },
  {
   "cell_type": "code",
   "execution_count": 2,
   "metadata": {},
   "outputs": [],
   "source": [
    "all_data = dict()"
   ]
  },
  {
   "cell_type": "markdown",
   "metadata": {},
   "source": [
    "Nonlinear-dynamics of aircraft\n",
    "\n",
    "$$\\dot{x} = f(x, u)$$\n",
    "\n",
    "Find equilibrium:\n",
    "\n",
    "Minimize $\\dot{x}$, or a subset for your problem, by changeing $x_0$, $u_0$\n",
    "\n",
    "$$0 = f(x_0, u_0)$$\n",
    "\n",
    "This is an optimization problem.\n",
    "\n",
    "* Matlab: fmincon, fminsearch\n",
    "* Python: scipy.minimize (Nelder-Mead, SLSQP)\n",
    "\n",
    "Can simplify this problem with mixing matrices, to decouple the dynamcis into SISO (single-input-single output) systems."
   ]
  },
  {
   "cell_type": "markdown",
   "metadata": {},
   "source": [
    "Due to Taylor series error on the order of (dx^2). We know the linear model approx, does well near the equilibrium point. "
   ]
  },
  {
   "cell_type": "markdown",
   "metadata": {},
   "source": [
    "$\\dot{\\vec{x}} = \\vec{f}(x, u) = A \\vec{x} + B \\vec{u}$\n",
    "\n",
    "$\\dot{\\vec{y}} = C \\vec{x} + D \\vec{u}$\n",
    "\n",
    "\n",
    "$A = \\dfrac{\\delta \\vec{f}(x0, u0)}{\\delta \\vec{x}}$\n",
    "\n",
    "$B = \\dfrac{\\delta \\vec{f}(x0, u0)}{\\delta \\vec{u}}$\n",
    "\n",
    "$C = \\dfrac{\\delta \\vec{y}(x0, u0)}{\\delta \\vec{x}}$\n",
    "\n",
    "$D = \\dfrac{\\delta \\vec{y}(x0, u0)}{\\delta \\vec{u}}$"
   ]
  },
  {
   "cell_type": "markdown",
   "metadata": {},
   "source": [
    "## Ground Trimming "
   ]
  },
  {
   "cell_type": "code",
   "execution_count": 17,
   "metadata": {},
   "outputs": [
    {
     "name": "stdout",
     "output_type": "stream",
     "text": [
      " final_simplex: (array([[0.00752277, 3.11212156],\n",
      "       [0.00748106, 3.11221532],\n",
      "       [0.00754464, 3.11216313]]), array([4.51973002e-06, 8.14117197e-06, 1.67505423e-05]))\n",
      "           fun: 4.519730024921744e-06\n",
      "       message: 'Optimization terminated successfully.'\n",
      "          nfev: 80\n",
      "           nit: 43\n",
      "        status: 0\n",
      "       success: True\n",
      "             x: array([0.00752277, 3.11212156])\n",
      " final_simplex: (array([[0.00752277, 3.11212156],\n",
      "       [0.00748106, 3.11221532],\n",
      "       [0.00754464, 3.11216313]]), array([4.51973002e-06, 8.14117197e-06, 1.67505423e-05]))\n",
      "           fun: 4.519730024921744e-06\n",
      "       message: 'Optimization terminated successfully.'\n",
      "          nfev: 80\n",
      "           nit: 43\n",
      "        status: 0\n",
      "       success: True\n",
      "             x: array([0.00752277, 3.11212156])\n",
      "{'ic/vt-fps': 0, 'ic/psi-true-deg': 280, 'ap/gear-enable': 1, 'fcs/left-brake-cmd-norm': 1, 'fcs/right-brake-cmd-norm': 1, 'fcs/center-brake-cmd-norm': 1, 'ic/theta-rad': 0.007522769802197068, 'ic/h-agl-ft': 3.1121215601541055}\n",
      "{'forces/fbz-aero-lbs': -0.0, 'forces/fbz-weight-lbs': 11358.889135720807, 'forces/fbz-total-lbs': -57634.20787943273, 'forces/fbz-gear-lbs': -57634.20787943273, 'forces/fbz-prop-lbs': 0.0}\n",
      "{'forces/fbz-aero-lbs': -0.0, 'forces/fbz-weight-lbs': 11358.590010803779, 'forces/fbz-total-lbs': -11336.041172343454, 'forces/fbz-gear-lbs': -11336.041172343454, 'forces/fbz-prop-lbs': 0.0}\n"
     ]
    }
   ],
   "source": [
    "ct = 0\n",
    "temp = []\n",
    "def cost_ground(fdm):\n",
    "    # modify cost to also penalize throttle   \n",
    "    udot = fdm['accelerations/udot-ft_sec2']\n",
    "    vdot = fdm['accelerations/vdot-ft_sec2']\n",
    "    wdot = fdm['accelerations/wdot-ft_sec2']\n",
    "    pdot = fdm['accelerations/pdot-rad_sec2']\n",
    "    qdot = fdm['accelerations/qdot-rad_sec2']\n",
    "    rdot = fdm['accelerations/rdot-rad_sec2']\n",
    "    temp.append(fdm.get_property_catalog('fbz'))\n",
    "    return udot**2 + vdot**2 + wdot**2 + pdot**2 + qdot**2 + rdot**2  \n",
    "        \n",
    "op_ground, props, res = trim(\n",
    "    aircraft='F-35B-2',\n",
    "    ic={\n",
    "          'ic/vt-fps': 0,\n",
    "          'ic/psi-true-deg': 280,\n",
    "          'ap/gear-enable': 1,\n",
    "          'fcs/left-brake-cmd-norm': 1,\n",
    "          'fcs/right-brake-cmd-norm': 1,\n",
    "          'fcs/center-brake-cmd-norm': 1,\n",
    "#         'ic/vt-fps': 0,\n",
    "#         'gear/gear-cmd-norm': 1,\n",
    "#         'propulsion/engine/pitch-angle-rad': np.deg2rad(0),\n",
    "#         'fcs/throttle-cmd-norm': 0,\n",
    "#         'fcs/aileron-cmd-norm': 0,\n",
    "#         'fcs/elevator-cmd-norm': 0,\n",
    "#         'fcs/rudder-cmd-norm': 0,\n",
    "#         'fcs/left-brake-cmd-norm': 1,\n",
    "#         'fcs/right-brake-cmd-norm': 1,\n",
    "#         'fcs/center-brake-cmd-norm': 1,\n",
    "    },\n",
    "    design_vector=['ic/theta-rad', 'ic/h-agl-ft'],\n",
    "    x0=[0, 0.31],\n",
    "    verbose=True,\n",
    "    method='Nelder-Mead', # works better with ground interaction\n",
    "    tol=1e-12,\n",
    "    #bounds=[[np.deg2rad(-40), np.deg2rad(40)], [0, 20]],\n",
    "    cost=cost_ground,\n",
    ")\n",
    "\n",
    "print(res)\n",
    "print(op_ground)\n",
    "print(temp[0])\n",
    "print(temp[-1])\n",
    "\n",
    "data = dict()\n",
    "data['res'] = res\n",
    "data['op_ground'] = op_ground\n",
    "data['fbz_initial'] = temp[0]\n",
    "data['fbz_final'] = temp[-1]\n",
    "all_data = dict()\n",
    "all_data['groundTrim'] = data"
   ]
  },
  {
   "cell_type": "code",
   "execution_count": 18,
   "metadata": {},
   "outputs": [],
   "source": [
    "# log_ground = simulate(\n",
    "#     aircraft='F-35B-2',\n",
    "#     op_0=op_ground,\n",
    "#     tf=5,\n",
    "#     realtime=True)"
   ]
  },
  {
   "cell_type": "code",
   "execution_count": 19,
   "metadata": {},
   "outputs": [],
   "source": [
    "# log_ground['position/h-agl-ft'].plot()\n",
    "# plt.grid(True)\n",
    "# plt.ylabel('ft, altitude')"
   ]
  },
  {
   "cell_type": "code",
   "execution_count": 20,
   "metadata": {},
   "outputs": [],
   "source": [
    "# log_ground['attitude/theta-deg'].plot()\n",
    "# plt.grid(True)\n",
    "# plt.ylabel('deg, aircraft pitch')"
   ]
  },
  {
   "cell_type": "markdown",
   "metadata": {},
   "source": [
    "## Hover Trimming"
   ]
  },
  {
   "cell_type": "code",
   "execution_count": 167,
   "metadata": {},
   "outputs": [
    {
     "name": "stdout",
     "output_type": "stream",
     "text": [
      "     fun: 0.929361866372507\n",
      "     jac: array([1., 0., 0., 0., 0., 0.])\n",
      " message: 'Optimization terminated successfully'\n",
      "    nfev: 28\n",
      "     nit: 4\n",
      "    njev: 4\n",
      "  status: 0\n",
      " success: True\n",
      "       x: array([0.92936187, 0.71734948, 1.57079641, 1.5707964 , 1.57079641,\n",
      "       1.5707964 ])\n",
      "constraint eq 6.793177131925177e-13\n",
      "constraint eq -2.0955823742951907e-09\n",
      "constraint eq 1.6212036530902444e-10\n",
      "{'ic/h-sl-ft': 650, 'ic/vt-fps': 0, 'ic/psi-true-deg': 0, 'ap/gear-enable': 1, 'fcs/throttle-cmd-norm': 0.929361866372507, 'fcs/elevator-cmd-norm': 0.7173494783548715, 'propulsion/engine/pitch-angle-rad': 1.5707964099772886, 'propulsion/engine[1]/pitch-angle-rad': 1.5707963999209869, 'propulsion/engine[2]/pitch-angle-rad': 1.570796409815362, 'propulsion/engine[3]/pitch-angle-rad': 1.5707964016066742}\n"
     ]
    }
   ],
   "source": [
    "op_hover, props, res = trim(\n",
    "    aircraft='F-35B-2',\n",
    "    ic={  \n",
    "          'ic/h-sl-ft': 650,\n",
    "          'ic/vt-fps': 0,\n",
    "          'ic/psi-true-deg': 0,\n",
    "          'ap/gear-enable': 1,\n",
    "#         'ic/h-agl-ft': 10,\n",
    "#         'ic/vd-fps': 0,\n",
    "#         'ic/vn-fps': 0*np.cos(np.deg2rad(280)),\n",
    "#         'ic/ve-fps': 0*np.sin(np.deg2rad(280)),\n",
    "#         'ic/theta-rad': 0,\n",
    "#         'gear/gear-cmd-norm': 1,\n",
    "#         'fcs/left-brake-cmd-norm': 0,\n",
    "#         'fcs/right-brake-cmd-norm': 0,\n",
    "#         'fcs/center-brake-cmd-norm': 0,\n",
    "    },\n",
    "    eq_constraints = [\n",
    "        lambda fdm: fdm['accelerations/udot-ft_sec2'],\n",
    "        #lambda fdm: fdm['accelerations/vdot-ft_sec2'],\n",
    "        lambda fdm: fdm['accelerations/wdot-ft_sec2'],\n",
    "        #lambda fdm: fdm['accelerations/pdot-rad_sec2'],\n",
    "        lambda fdm: fdm['accelerations/qdot-rad_sec2'],\n",
    "        #lambda fdm: fdm['accelerations/rdot-rad_sec2'],\n",
    "    ],\n",
    "    design_vector=[\n",
    "        'fcs/throttle-cmd-norm',\n",
    "        'fcs/elevator-cmd-norm',\n",
    "        'propulsion/engine/pitch-angle-rad',\n",
    "        'propulsion/engine[1]/pitch-angle-rad',\n",
    "        'propulsion/engine[2]/pitch-angle-rad',\n",
    "        'propulsion/engine[3]/pitch-angle-rad',\n",
    "    ],\n",
    "#     design_vector=[\n",
    "#         'fcs/throttle-cmd-norm',\n",
    "#         'fcs/elevator-cmd-norm',\n",
    "#         'propulsion/engine/pitch-angle-rad',\n",
    "#         'propulsion/engine[1]/pitch-angle-rad',\n",
    "#         'propulsion/engine[2]/pitch-angle-rad',\n",
    "#         'propulsion/engine[3]/pitch-angle-rad',\n",
    "#     ],\n",
    "    x0=[0.9, 0.2, np.deg2rad(90), np.deg2rad(90), np.deg2rad(90), np.deg2rad(90)],\n",
    "    cost= lambda fdm: fdm['fcs/throttle-cmd-norm'],\n",
    "    verbose=True,\n",
    "    method='SLSQP',\n",
    "    bounds=[[0, 1], [-1, 1], [np.deg2rad(0), np.deg2rad(120)], \n",
    "           [np.deg2rad(0), np.deg2rad(120)],\n",
    "           [np.deg2rad(0), np.deg2rad(120)],\n",
    "           [np.deg2rad(0), np.deg2rad(120)]],\n",
    "    tol=1e-12\n",
    ")\n",
    "\n",
    "print(op_hover)\n",
    "data1 = dict()\n",
    "data1['res'] = res\n",
    "data1['op_hover'] = op_hover\n",
    "all_data['hoverTrim'] = data1"
   ]
  },
  {
   "cell_type": "code",
   "execution_count": 22,
   "metadata": {},
   "outputs": [],
   "source": [
    "# log_hover = simulate(\n",
    "#     aircraft='F-35B-2',\n",
    "#     op_0=op_hover,\n",
    "#     tf=10,\n",
    "#     realtime=True)"
   ]
  },
  {
   "cell_type": "code",
   "execution_count": 23,
   "metadata": {},
   "outputs": [],
   "source": [
    "# log_hover['position/h-agl-ft'].plot()\n",
    "# plt.grid(True)\n",
    "# plt.ylabel('ft, altitude')"
   ]
  },
  {
   "cell_type": "code",
   "execution_count": 24,
   "metadata": {},
   "outputs": [],
   "source": [
    "# plt.subplot()\n",
    "# log_hover['propulsion/engine/thrust-lbs'].plot()\n",
    "# log_hover['propulsion/engine[1]/thrust-lbs'].plot()\n",
    "# log_hover['propulsion/engine[2]/thrust-lbs'].plot()\n",
    "# log_hover['propulsion/engine[3]/thrust-lbs'].plot()\n",
    "# plt.grid(True)\n",
    "# plt.legend(['rcp', 'rhp', 'lcp', 'lhp'])\n",
    "# plt.ylabel('lbs, engine thrusts')\n",
    "# plt.show()"
   ]
  },
  {
   "cell_type": "code",
   "execution_count": 25,
   "metadata": {},
   "outputs": [],
   "source": [
    "# plt.subplot()\n",
    "# log_hover['propulsion/engine/pitch-angle-rad'].plot()\n",
    "# log_hover['propulsion/engine[1]/pitch-angle-rad'].plot()\n",
    "# log_hover['propulsion/engine[2]/pitch-angle-rad'].plot()\n",
    "# log_hover['propulsion/engine[3]/pitch-angle-rad'].plot()\n",
    "# plt.grid(True)\n",
    "# plt.legend(['rcp', 'rhp', 'lcp', 'lhp'])\n",
    "# plt.ylabel('deg, engine pitch angle')\n",
    "# plt.show()"
   ]
  },
  {
   "cell_type": "markdown",
   "metadata": {},
   "source": [
    "## Hover Auto Pilot"
   ]
  },
  {
   "cell_type": "code",
   "execution_count": 166,
   "metadata": {},
   "outputs": [],
   "source": [
    "op_hover_auto = dict(op_hover)\n",
    "op_hover_auto['ic/theta-deg'] = 0\n",
    "op_hover_auto['ic/phi-deg'] = 0\n",
    "\n",
    "op_hover_auto['ap/heading-cmd-deg'] = 280\n",
    "op_hover_auto['ap/gear-enable'] = 1\n",
    "op_hover_auto['ap/roll-enable'] = 0\n",
    "op_hover_auto['ap/pitch-enable'] = 0\n",
    "op_hover_auto['ap/yaw-enable'] = 0\n",
    "op_hover_auto['ap/h-enable'] = 0\n",
    "op_hover_auto['ap/h-sl-cmd-ft'] = 650\n",
    "\n",
    "log_hover_auto = simulate(\n",
    "    aircraft='F-35B-2',\n",
    "    op_0=op_hover_auto,\n",
    "    tf=5,\n",
    "    realtime=False)"
   ]
  },
  {
   "cell_type": "code",
   "execution_count": 165,
   "metadata": {},
   "outputs": [
    {
     "data": {
      "text/plain": [
       "<matplotlib.legend.Legend at 0x25d18d1f220>"
      ]
     },
     "execution_count": 165,
     "metadata": {},
     "output_type": "execute_result"
    },
    {
     "data": {
      "image/png": "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\n",
      "text/plain": [
       "<Figure size 432x288 with 1 Axes>"
      ]
     },
     "metadata": {
      "needs_background": "light"
     },
     "output_type": "display_data"
    }
   ],
   "source": [
    "log_hover_auto['fcs/throttle-pos-norm'].plot(label='0')\n",
    "log_hover_auto['fcs/throttle-pos-norm[1]'].plot(label='1')\n",
    "log_hover_auto['fcs/throttle-pos-norm[2]'].plot(label='2')\n",
    "log_hover_auto['fcs/throttle-pos-norm[3]'].plot(label='3')\n",
    "\n",
    "plt.legend()"
   ]
  },
  {
   "cell_type": "code",
   "execution_count": 164,
   "metadata": {},
   "outputs": [
    {
     "data": {
      "text/plain": [
       "<matplotlib.legend.Legend at 0x25d182f1b20>"
      ]
     },
     "execution_count": 164,
     "metadata": {},
     "output_type": "execute_result"
    },
    {
     "data": {
      "image/png": "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\n",
      "text/plain": [
       "<Figure size 432x288 with 1 Axes>"
      ]
     },
     "metadata": {
      "needs_background": "light"
     },
     "output_type": "display_data"
    }
   ],
   "source": [
    "log_hover_auto['fcs/elevator-cmd-norm'].plot(label='0')\n",
    "log_hover_auto['fcs/aileron-cmd-norm'].plot(label='1')\n",
    "log_hover_auto['fcs/rudder-cmd-norm'].plot(label='2')\n",
    "log_hover_auto['fcs/throttle-cmd-norm'].plot(label='3')\n",
    "\n",
    "plt.legend()"
   ]
  },
  {
   "cell_type": "markdown",
   "metadata": {},
   "source": [
    "## Cruise Trimming"
   ]
  },
  {
   "cell_type": "code",
   "execution_count": 4,
   "metadata": {},
   "outputs": [
    {
     "name": "stdout",
     "output_type": "stream",
     "text": [
      "     fun: 0.04616143216595925\n",
      "     jac: array([-2395.82825243, -2724.66478909, -3074.23672021, -3413.39964   ,\n",
      "       -4080.17502356, -4100.23550488])\n",
      " message: 'Iteration limit reached'\n",
      "    nfev: 1513\n",
      "     nit: 100\n",
      "    njev: 100\n",
      "  status: 9\n",
      " success: False\n",
      "       x: array([ 2.74980309e-01,  1.37261698e-01, -8.65638182e-05, -2.58746520e-05,\n",
      "        1.95964398e-02, -1.39936257e-04])\n",
      "constraint eq 0.005052623397873157\n",
      "constraint eq 0.06993098310341513\n",
      "constraint eq 0.30851235039476776\n",
      "constraint eq -1.0428191007522104e-06\n",
      "constraint eq -0.003548193887460573\n",
      "constraint eq 1.023386070566982e-06\n"
     ]
    },
    {
     "ename": "RuntimeError",
     "evalue": "trim failed:\n     fun: 0.04616143216595925\n     jac: array([-2395.82825243, -2724.66478909, -3074.23672021, -3413.39964   ,\n       -4080.17502356, -4100.23550488])\n message: 'Iteration limit reached'\n    nfev: 1513\n     nit: 100\n    njev: 100\n  status: 9\n success: False\n       x: array([ 2.74980309e-01,  1.37261698e-01, -8.65638182e-05, -2.58746520e-05,\n        1.95964398e-02, -1.39936257e-04])\n{'accelerations/a-pilot-x-ft_sec2': 1.2657773461112503, 'accelerations/a-pilot-y-ft_sec2': 0.0072862283127884285, 'accelerations/a-pilot-z-ft_sec2': -31.70932047362321, 'accelerations/n-pilot-x-norm': 0.03934156262278241, 'accelerations/n-pilot-y-norm': 0.0002264628991284397, 'accelerations/n-pilot-z-norm': -0.9855558096149405, 'accelerations/Nx': 0.0392128638294621, 'accelerations/Ny': 0.00022609640738922976, 'accelerations/Nz': 0.986955277824784, 'accelerations/pdot-rad_sec2': -1.0428195016423922e-06, 'accelerations/qdot-rad_sec2': -0.003548189093110293, 'accelerations/rdot-rad_sec2': 1.023386070566982e-06, 'accelerations/udot-ft_sec2': 0.005053295005837732, 'accelerations/vdot-ft_sec2': 0.06993059890420354, 'accelerations/wdot-ft_sec2': 0.30848773264879625, 'accelerations/gravity-ft_sec2': 32.10518413963992}",
     "output_type": "error",
     "traceback": [
      "\u001b[1;31m---------------------------------------------------------------------------\u001b[0m",
      "\u001b[1;31mRuntimeError\u001b[0m                              Traceback (most recent call last)",
      "\u001b[1;32m<ipython-input-4-b21e466113f7>\u001b[0m in \u001b[0;36m<module>\u001b[1;34m\u001b[0m\n\u001b[0;32m     17\u001b[0m \u001b[1;33m\u001b[0m\u001b[0m\n\u001b[0;32m     18\u001b[0m \u001b[1;33m\u001b[0m\u001b[0m\n\u001b[1;32m---> 19\u001b[1;33m op_cruise, prop, res = trim(\n\u001b[0m\u001b[0;32m     20\u001b[0m     \u001b[0maircraft\u001b[0m\u001b[1;33m=\u001b[0m\u001b[1;34m'F-35B-2'\u001b[0m\u001b[1;33m,\u001b[0m\u001b[1;33m\u001b[0m\u001b[1;33m\u001b[0m\u001b[0m\n\u001b[0;32m     21\u001b[0m     ic={\n",
      "\u001b[1;32mD:\\AAE 451\\aae451-notebook\\6-Simulation\\jsbsim_utils.py\u001b[0m in \u001b[0;36mtrim\u001b[1;34m(aircraft, ic, design_vector, x0, verbose, cost, eq_constraints, tol, ftol, show, **kwargs)\u001b[0m\n\u001b[0;32m    121\u001b[0m \u001b[1;33m\u001b[0m\u001b[0m\n\u001b[0;32m    122\u001b[0m     \u001b[1;32mif\u001b[0m \u001b[1;32mnot\u001b[0m \u001b[0mres\u001b[0m\u001b[1;33m[\u001b[0m\u001b[1;34m'success'\u001b[0m\u001b[1;33m]\u001b[0m \u001b[1;32mor\u001b[0m \u001b[0mftol\u001b[0m \u001b[1;32mis\u001b[0m \u001b[1;32mnot\u001b[0m \u001b[1;32mNone\u001b[0m \u001b[1;32mand\u001b[0m \u001b[0mabs\u001b[0m\u001b[1;33m(\u001b[0m\u001b[0mres\u001b[0m\u001b[1;33m[\u001b[0m\u001b[1;34m'fun'\u001b[0m\u001b[1;33m]\u001b[0m\u001b[1;33m)\u001b[0m \u001b[1;33m>\u001b[0m \u001b[0mftol\u001b[0m\u001b[1;33m:\u001b[0m\u001b[1;33m\u001b[0m\u001b[1;33m\u001b[0m\u001b[0m\n\u001b[1;32m--> 123\u001b[1;33m         raise RuntimeError('trim failed:\\n' + str(res) + '\\n' + \\\n\u001b[0m\u001b[0;32m    124\u001b[0m                            str(fdm.get_property_catalog('acceleration')))\n\u001b[0;32m    125\u001b[0m     \u001b[0mprops\u001b[0m \u001b[1;33m=\u001b[0m \u001b[0mfdm\u001b[0m\u001b[1;33m.\u001b[0m\u001b[0mget_property_catalog\u001b[0m\u001b[1;33m(\u001b[0m\u001b[1;34m''\u001b[0m\u001b[1;33m)\u001b[0m\u001b[1;33m\u001b[0m\u001b[1;33m\u001b[0m\u001b[0m\n",
      "\u001b[1;31mRuntimeError\u001b[0m: trim failed:\n     fun: 0.04616143216595925\n     jac: array([-2395.82825243, -2724.66478909, -3074.23672021, -3413.39964   ,\n       -4080.17502356, -4100.23550488])\n message: 'Iteration limit reached'\n    nfev: 1513\n     nit: 100\n    njev: 100\n  status: 9\n success: False\n       x: array([ 2.74980309e-01,  1.37261698e-01, -8.65638182e-05, -2.58746520e-05,\n        1.95964398e-02, -1.39936257e-04])\n{'accelerations/a-pilot-x-ft_sec2': 1.2657773461112503, 'accelerations/a-pilot-y-ft_sec2': 0.0072862283127884285, 'accelerations/a-pilot-z-ft_sec2': -31.70932047362321, 'accelerations/n-pilot-x-norm': 0.03934156262278241, 'accelerations/n-pilot-y-norm': 0.0002264628991284397, 'accelerations/n-pilot-z-norm': -0.9855558096149405, 'accelerations/Nx': 0.0392128638294621, 'accelerations/Ny': 0.00022609640738922976, 'accelerations/Nz': 0.986955277824784, 'accelerations/pdot-rad_sec2': -1.0428195016423922e-06, 'accelerations/qdot-rad_sec2': -0.003548189093110293, 'accelerations/rdot-rad_sec2': 1.023386070566982e-06, 'accelerations/udot-ft_sec2': 0.005053295005837732, 'accelerations/vdot-ft_sec2': 0.06993059890420354, 'accelerations/wdot-ft_sec2': 0.30848773264879625, 'accelerations/gravity-ft_sec2': 32.10518413963992}"
     ]
    }
   ],
   "source": [
    "def cost_cruise(fdm):\n",
    "    # modify cost to also penalize throttle\n",
    "    delta = fdm['propulsion/engine/pitch-angle-rad']\n",
    "    theta = fdm['attitude/theta-rad']\n",
    "    drag = fdm['forces/fwx-aero-lbs']\n",
    "    lift = fdm['forces/fwz-aero-lbs']\n",
    "    alpha = fdm['aero/alpha-rad']\n",
    "    throttle = fdm['fcs/throttle-cmd-norm']\n",
    "    \n",
    "    udot = fdm['accelerations/udot-ft_sec2']\n",
    "    vdot = fdm['accelerations/vdot-ft_sec2']\n",
    "    wdot = fdm['accelerations/wdot-ft_sec2']\n",
    "    pdot = fdm['accelerations/pdot-rad_sec2']\n",
    "    qdot = fdm['accelerations/qdot-rad_sec2']\n",
    "    rdot = fdm['accelerations/rdot-rad_sec2']\n",
    "    return udot**2 + vdot**2 + wdot**2 + pdot**2 + qdot**2 + rdot**2 - 1e-3*(lift/drag)**2 + 1e-3*(theta < 0) + 1e-1*throttle + 2e-1*delta**2 \n",
    "        \n",
    "\n",
    "op_cruise, prop, res = trim(\n",
    "    aircraft='F-35B-2',\n",
    "    ic={\n",
    "        'ic/gamma-rad': 0,\n",
    "#         'ic/vt-fps': 677,\n",
    "        \n",
    "        ## Modification\n",
    "        'ic/u-fps': 677,\n",
    "        'ic/v-fps': 0,\n",
    "        'ic/w-fps': 0,\n",
    "        \n",
    "        'ic/q-rad_sec': 0,\n",
    "        'ic/p-rad_sec': 0,\n",
    "        'ic/r-rad_sec': 0,\n",
    "        ## End of modification\n",
    "        \n",
    "        'ic/h-agl-ft': 38000,\n",
    "        'gear/gear-cmd-norm': 0,\n",
    "        'fcs/left-brake-cmd-norm': 0,\n",
    "        'fcs/right-brake-cmd-norm': 0,\n",
    "        'fcs/center-brake-cmd-norm': 0,\n",
    "        'propulsion/engine/pitch-angle-rad': 0,\n",
    "        'propulsion/engine[1]/pitch-angle-rad': 0,\n",
    "        'propulsion/engine[2]/pitch-angle-rad': 0,\n",
    "        'propulsion/engine[3]/pitch-angle-rad': 0,\n",
    "    },\n",
    "#     design_vector=[\n",
    "#         'fcs/throttle-cmd-norm',\n",
    "#         'fcs/elevator-cmd-norm',\n",
    "#         'fcs/rudder-cmd-norm',\n",
    "#         'fcs/aileron-cmd-norm',\n",
    "#         'ic/alpha-rad',\n",
    "#         'ic/beta-rad',\n",
    "#         'propulsion/engine/pitch-angle-rad',\n",
    "#     ],\n",
    "#     cost=cost_cruise,\n",
    "    \n",
    "    design_vector=[\n",
    "        'fcs/throttle-cmd-norm',\n",
    "        'fcs/elevator-cmd-norm',\n",
    "        'fcs/rudder-cmd-norm',\n",
    "        'fcs/aileron-cmd-norm',\n",
    "        'ic/alpha-rad',\n",
    "        'ic/beta-rad',\n",
    "    ],\n",
    "    method='SLSQP',\n",
    "    eq_constraints= [\n",
    "        lambda fdm: fdm['accelerations/udot-ft_sec2'],\n",
    "        lambda fdm: fdm['accelerations/vdot-ft_sec2'],\n",
    "        lambda fdm: fdm['accelerations/wdot-ft_sec2'],\n",
    "        lambda fdm: fdm['accelerations/pdot-rad_sec2'],\n",
    "        lambda fdm: fdm['accelerations/qdot-rad_sec2'],\n",
    "        lambda fdm: fdm['accelerations/rdot-rad_sec2'],\n",
    "    ],\n",
    "#     cost=lambda fdm: fdm['fcs/throttle-cmd-norm'],\n",
    "    cost=cost_cruise,\n",
    "    x0=[0.4, 0, 0, 0, 0, 0],\n",
    "    verbose=True,\n",
    "    bounds=[[0, 1], [-1, 1], [-1, 1], [-1, 1], [-1, 1], [-1, 1]],\n",
    "    tol=1e-12,\n",
    ")\n",
    "print(op_cruise)\n",
    "\n",
    "data2 = dict()\n",
    "data2['res'] = res\n",
    "data2['op_cruise'] = op_cruise\n",
    "\n",
    "all_data['cruiseTrim'] = data2"
   ]
  },
  {
   "cell_type": "code",
   "execution_count": 20,
   "metadata": {},
   "outputs": [
    {
     "data": {
      "text/plain": [
       "{'ic/gamma-rad': 0,\n",
       " 'ic/vt-fps': 677,\n",
       " 'ic/h-agl-ft': 38000.0,\n",
       " 'gear/gear-cmd-norm': 0,\n",
       " 'fcs/left-brake-cmd-norm': 0,\n",
       " 'fcs/right-brake-cmd-norm': 0,\n",
       " 'fcs/center-brake-cmd-norm': 0,\n",
       " 'propulsion/engine/pitch-angle-rad': 0,\n",
       " 'propulsion/engine[1]/pitch-angle-rad': 0,\n",
       " 'propulsion/engine[2]/pitch-angle-rad': 0,\n",
       " 'propulsion/engine[3]/pitch-angle-rad': 0,\n",
       " 'fcs/throttle-cmd-norm': 0.16673315207787176,\n",
       " 'fcs/elevator-cmd-norm': 0.14031067006746925,\n",
       " 'fcs/rudder-cmd-norm': 0.0007573899576671861,\n",
       " 'fcs/aileron-cmd-norm': 0.00022613538432062958,\n",
       " 'ic/alpha-rad': 0.020183191364411775,\n",
       " 'ic/beta-rad': 0.0012250540353381126}"
      ]
     },
     "execution_count": 20,
     "metadata": {},
     "output_type": "execute_result"
    }
   ],
   "source": [
    "op_cruise"
   ]
  },
  {
   "cell_type": "code",
   "execution_count": 29,
   "metadata": {},
   "outputs": [],
   "source": [
    "# log_cruise = simulate(\n",
    "#     aircraft='F-35B-2',\n",
    "#     op_0=op_cruise,\n",
    "#     tf=10,\n",
    "#     realtime=True)"
   ]
  },
  {
   "cell_type": "code",
   "execution_count": 30,
   "metadata": {},
   "outputs": [],
   "source": [
    "# plt.subplot()\n",
    "# log_cruise['propulsion/engine/pitch-angle-rad'].plot()\n",
    "# log_cruise['propulsion/engine[1]/pitch-angle-rad'].plot()\n",
    "# log_cruise['propulsion/engine[2]/pitch-angle-rad'].plot()\n",
    "# log_cruise['propulsion/engine[3]/pitch-angle-rad'].plot()\n",
    "# plt.grid(True)\n",
    "# plt.legend(['rcp', 'rhp', 'lcp', 'lhp'])\n",
    "# plt.ylabel('lb, pounds')\n",
    "# plt.show()"
   ]
  },
  {
   "cell_type": "code",
   "execution_count": 31,
   "metadata": {},
   "outputs": [],
   "source": [
    "# log_cruise['forces/fwx-aero-lbs'].plot()\n",
    "# plt.ylabel('lbs, drag')\n",
    "# plt.grid(True)"
   ]
  },
  {
   "cell_type": "code",
   "execution_count": 32,
   "metadata": {},
   "outputs": [],
   "source": [
    "# log_cruise['forces/fwy-aero-lbs'].plot()\n",
    "# plt.grid(True)\n",
    "# plt.ylabel('lbs, side-force')"
   ]
  },
  {
   "cell_type": "code",
   "execution_count": 33,
   "metadata": {},
   "outputs": [],
   "source": [
    "# log_cruise['forces/fwz-aero-lbs'].plot()\n",
    "# plt.grid(True)\n",
    "# plt.ylabel('lbs, lift')"
   ]
  },
  {
   "cell_type": "code",
   "execution_count": 34,
   "metadata": {},
   "outputs": [],
   "source": [
    "# log_cruise['aero/alpha-deg'].plot()\n",
    "# plt.ylabel('deg, angle of attack')\n",
    "# plt.grid(True)"
   ]
  },
  {
   "cell_type": "code",
   "execution_count": 35,
   "metadata": {},
   "outputs": [],
   "source": [
    "# log_cruise['fcs/elevator-pos-deg'].plot()\n",
    "# plt.grid(True)\n",
    "# plt.ylabel('deg, elevator angle')"
   ]
  },
  {
   "cell_type": "code",
   "execution_count": 36,
   "metadata": {},
   "outputs": [],
   "source": [
    "# plt.subplot()\n",
    "# log_cruise['fcs/left-aileron-pos-deg'].plot()\n",
    "# log_cruise['fcs/right-aileron-pos-deg'].plot()\n",
    "# plt.grid(True)\n",
    "# plt.legend(['left aileron', 'right aileron'])\n",
    "# plt.ylabel(\"deg, aileron angle\")\n",
    "# plt.show()"
   ]
  },
  {
   "cell_type": "code",
   "execution_count": 37,
   "metadata": {},
   "outputs": [],
   "source": [
    "# log_cruise['fcs/rudder-pos-deg'].plot()\n",
    "# plt.grid(True)\n",
    "# plt.ylabel('deg, rudder angle')"
   ]
  },
  {
   "cell_type": "code",
   "execution_count": 38,
   "metadata": {},
   "outputs": [],
   "source": [
    "# log_cruise['velocities/vt-fps'].plot()\n",
    "# plt.grid(True)\n",
    "# plt.ylabel(\"fps, velocity\")"
   ]
  },
  {
   "cell_type": "code",
   "execution_count": 27,
   "metadata": {},
   "outputs": [],
   "source": [
    "# log_hover_auto['fcs/throttle-pos-norm'].plot(label='0')\n",
    "# log_hover_auto['fcs/throttle-pos-norm[1]'].plot(label='1')\n",
    "# log_hover_auto['fcs/throttle-pos-norm[2]'].plot(label='2')\n",
    "# log_hover_auto['fcs/throttle-pos-norm[3]'].plot(label='3')\n",
    "\n",
    "# plt.legend()"
   ]
  },
  {
   "cell_type": "markdown",
   "metadata": {},
   "source": [
    "## Cruise Auto Pilot"
   ]
  },
  {
   "cell_type": "code",
   "execution_count": 13,
   "metadata": {},
   "outputs": [],
   "source": [
    "## Initial state\n",
    "op_cruise_auto = dict(op_cruise)\n",
    "op_cruise_auto['ic/theta-deg'] = 0\n",
    "op_cruise_auto['ic/phi-deg'] = 0\n",
    "op_cruise_auto['ic/h-agl-ft'] = 38000\n",
    "# op_cruise_auto['ic/u-fps'] = 677\n",
    "op_cruise_auto['ic/vt-fps'] = 677\n",
    "op_cruise_auto['ic/beta-rad'] = 0\n",
    "\n",
    "## Command\n",
    "op_cruise_auto['ap/heading-cmd-deg'] = 300\n",
    "op_cruise_auto['ap/gear-enable'] = 0\n",
    "op_cruise_auto['ap/roll-enable'] = 1\n",
    "op_cruise_auto['ap/pitch-enable'] = 1\n",
    "op_cruise_auto['ap/yaw-enable'] = 0\n",
    "op_cruise_auto['ap/h-enable'] = 1\n",
    "op_cruise_auto['ap/h-sl-cmd-ft'] = 38000\n",
    "\n",
    "# log_cruise_auto = simulate(\n",
    "#     aircraft='F-35B-2',\n",
    "#     op_0=op_cruise_auto,\n",
    "#     tf=5,\n",
    "#     realtime=False)"
   ]
  },
  {
   "cell_type": "code",
   "execution_count": 37,
   "metadata": {},
   "outputs": [
    {
     "ename": "KeyError",
     "evalue": "'hess_inv'",
     "output_type": "error",
     "traceback": [
      "\u001b[1;31m---------------------------------------------------------------------------\u001b[0m",
      "\u001b[1;31mKeyError\u001b[0m                                  Traceback (most recent call last)",
      "\u001b[1;32m<ipython-input-37-871aa2a6bceb>\u001b[0m in \u001b[0;36m<module>\u001b[1;34m\u001b[0m\n\u001b[1;32m----> 1\u001b[1;33m \u001b[1;32mdel\u001b[0m \u001b[0mall_data\u001b[0m\u001b[1;33m[\u001b[0m\u001b[1;34m'cruiseTrim'\u001b[0m\u001b[1;33m]\u001b[0m\u001b[1;33m[\u001b[0m\u001b[1;34m'res'\u001b[0m\u001b[1;33m]\u001b[0m\u001b[1;33m[\u001b[0m\u001b[1;34m'hess_inv'\u001b[0m\u001b[1;33m]\u001b[0m\u001b[1;33m\u001b[0m\u001b[1;33m\u001b[0m\u001b[0m\n\u001b[0m",
      "\u001b[1;31mKeyError\u001b[0m: 'hess_inv'"
     ]
    }
   ],
   "source": [
    "del all_data['cruiseTrim']['res']['hess_inv']"
   ]
  },
  {
   "cell_type": "code",
   "execution_count": null,
   "metadata": {},
   "outputs": [],
   "source": [
    "del all_data['hoverTrim']['res']['hess_inv']"
   ]
  },
  {
   "cell_type": "code",
   "execution_count": null,
   "metadata": {},
   "outputs": [],
   "source": [
    "del all_data['cruiseTrim']['res']['message']\n",
    "del all_data['groundTrim']['res']['message']\n",
    "del all_data['hoverTrim']['res']['message']"
   ]
  },
  {
   "cell_type": "code",
   "execution_count": null,
   "metadata": {},
   "outputs": [],
   "source": [
    "# encode numpy array for JSON serializable\n",
    "class NumpyEncoder(json.JSONEncoder):\n",
    "    def default(self, obj):\n",
    "        if isinstance(obj, np.ndarray):\n",
    "            return obj.tolist()\n",
    "        return json.JSONEncoder.default(self, obj)\n",
    "\n",
    "# save all output as JSON file \n",
    "with open('jsbsim_opt.json', '+w') as jfile:\n",
    "    json.dump(all_data, jfile, indent=4, cls=NumpyEncoder)"
   ]
  },
  {
   "cell_type": "code",
   "execution_count": null,
   "metadata": {},
   "outputs": [],
   "source": [
    "result = log_cruise.to_json(orient=\"split\")\n",
    "parsed = json.loads(result)\n",
    "with open('log_cruise.json', 'w') as jfile: \n",
    "    json.dump(parsed, jfile, indent=4)"
   ]
  },
  {
   "cell_type": "code",
   "execution_count": null,
   "metadata": {},
   "outputs": [],
   "source": [
    "result = log_ground.to_json(orient=\"split\")\n",
    "parsed = json.loads(result)\n",
    "with open('log_ground.json', 'w') as jfile: \n",
    "    json.dump(parsed, jfile, indent=4)"
   ]
  },
  {
   "cell_type": "code",
   "execution_count": null,
   "metadata": {},
   "outputs": [],
   "source": [
    "result = log_hover.to_json(orient=\"split\")\n",
    "parsed = json.loads(result)\n",
    "with open('log_hover.json', 'w') as jfile: \n",
    "    json.dump(parsed, jfile, indent=4)"
   ]
  },
  {
   "cell_type": "markdown",
   "metadata": {},
   "source": [
    "## Transition "
   ]
  },
  {
   "cell_type": "code",
   "execution_count": null,
   "metadata": {},
   "outputs": [],
   "source": [
    "def trim_transition(vt_fps, gamma_deg, accel_g):\n",
    "    print('trimming @ Vt=', vt_fps, 'fps', 'gamma = ', gamma_deg, 'deg')\n",
    "    \n",
    "    def accel_gamma(fdm, accel_g, gamma_deg):\n",
    "        gamma = np.deg2rad(gamma_deg)\n",
    "        g = 32.2\n",
    "        theta = fdm['attitude/theta-rad']\n",
    "        C_nb = np.array([\n",
    "            [np.cos(theta), -np.sin(theta)],\n",
    "            [np.sin(theta), np.cos(theta)]\n",
    "        ])\n",
    "        a_n = accel_g*g*np.array([np.cos(gamma), np.sin(gamma)])\n",
    "        a_b = C_nb.T.dot(a_n)\n",
    "        return a_b\n",
    "    \n",
    "    if vt_fps < 250:\n",
    "        x0 = [0.9, 0, 0, 0, np.deg2rad(90), \n",
    "                            np.deg2rad(90),\n",
    "                            np.deg2rad(90),\n",
    "                            np.deg2rad(90),\n",
    "              np.deg2rad(0), 0],\n",
    "    elif vt_fps < 260:\n",
    "        x0 = [0.9, 0, 0, 0, np.deg2rad(90), \n",
    "                            np.deg2rad(80),\n",
    "                            np.deg2rad(90),\n",
    "                            np.deg2rad(80),\n",
    "              np.deg2rad(0), 0],\n",
    "    elif vt_fps < 270:\n",
    "        x0 = [0.9, 0, 0, 0, np.deg2rad(80), \n",
    "                            np.deg2rad(60),\n",
    "                            np.deg2rad(80),\n",
    "                            np.deg2rad(60),\n",
    "              np.deg2rad(0), 0],\n",
    "    elif vt_fps < 280:\n",
    "        x0 = [0.9, 0, 0, 0, np.deg2rad(60), \n",
    "                            np.deg2rad(45),\n",
    "                            np.deg2rad(60),\n",
    "                            np.deg2rad(45),\n",
    "              np.deg2rad(0), 0],\n",
    "    elif vt_fps < 285:\n",
    "        x0 = [0.9, 0, 0, 0, np.deg2rad(40), \n",
    "                            np.deg2rad(20),\n",
    "                            np.deg2rad(40),\n",
    "                            np.deg2rad(20),\n",
    "              np.deg2rad(0), 0],\n",
    "    elif vt_fps < 290:\n",
    "        x0 = [0.9, 0, 0, 0, np.deg2rad(15), \n",
    "                            np.deg2rad(5),\n",
    "                            np.deg2rad(15),\n",
    "                            np.deg2rad(5),\n",
    "              np.deg2rad(0), 0],\n",
    "    elif vt_fps < 300:\n",
    "        x0 = [0.9, 0, 0, 0, np.deg2rad(3), \n",
    "                            np.deg2rad(3),\n",
    "                            np.deg2rad(3),\n",
    "                            np.deg2rad(3),\n",
    "              np.deg2rad(0), 0],\n",
    "    else:\n",
    "        x0 = [0.9, 0, 0, 0, np.deg2rad(0),\n",
    "                            np.deg2rad(0),\n",
    "                            np.deg2rad(0),\n",
    "                            np.deg2rad(0),\n",
    "              np.deg2rad(0), 0],\n",
    "\n",
    "    op, props, res = trim(\n",
    "        aircraft='F-35B-2',\n",
    "        ic={\n",
    "            'ic/h-sl-ft': 800,\n",
    "            'ic/vt-fps': vt_fps,\n",
    "            'ic/gamma-deg': gamma_deg,\n",
    "            'ap/gear-enable': 1,\n",
    "        },\n",
    "        design_vector=[\n",
    "            'fcs/throttle-cmd-norm',\n",
    "            'fcs/elevator-cmd-norm',\n",
    "            'fcs/rudder-cmd-norm',\n",
    "            'fcs/aileron-cmd-norm',\n",
    "            'propulsion/engine/pitch-angle-rad',\n",
    "            'propulsion/engine[1]/pitch-angle-rad',\n",
    "            'propulsion/engine[2]/pitch-angle-rad',\n",
    "            'propulsion/engine[3]/pitch-angle-rad',\n",
    "            'ic/alpha-rad',\n",
    "            'ic/beta-rad',\n",
    "        ],\n",
    "        x0=x0,\n",
    "        verbose=False,\n",
    "        method='SLSQP',\n",
    "        eq_constraints= [\n",
    "            lambda fdm: fdm['accelerations/udot-ft_sec2'] - accel_gamma(fdm, accel_g, gamma_deg)[0],\n",
    "            lambda fdm: fdm['accelerations/vdot-ft_sec2'],\n",
    "            lambda fdm: fdm['accelerations/wdot-ft_sec2'] - accel_gamma(fdm, accel_g, gamma_deg)[1],\n",
    "            lambda fdm: fdm['accelerations/pdot-rad_sec2'],\n",
    "            lambda fdm: fdm['accelerations/qdot-rad_sec2'],\n",
    "            lambda fdm: fdm['accelerations/rdot-rad_sec2'],\n",
    "        ],\n",
    "        cost=lambda fdm: fdm['fcs/throttle-cmd-norm'],\n",
    "        bounds=[[0, 1], [-1, 1], [-1, 1], [-1, 1],\n",
    "                [np.deg2rad(0), np.deg2rad(120)],\n",
    "                [np.deg2rad(0), np.deg2rad(120)],\n",
    "                [np.deg2rad(0), np.deg2rad(120)],\n",
    "                [np.deg2rad(0), np.deg2rad(120)],\n",
    "                [-0.1, 0.1], [-0.1, 0.1]],\n",
    "        tol=1e-12)\n",
    "    return op\n",
    "\n",
    "ops_trim = [trim_transition(vt_fps=vt, gamma_deg=0, accel_g=0)\n",
    "                  for vt in [10, 50, 100, 150, 200, 250, 300, 400, 500, 600, 700, 790]]\n",
    "for op in ops_trim:\n",
    "    print('\\nvt fps', op['ic/vt-fps'])\n",
    "    print('theta deg', op['ic/gamma-deg'] + np.rad2deg(op['ic/alpha-rad']))\n",
    "    print('elevator', op['fcs/elevator-cmd-norm'])\n",
    "    print('aileron', op['fcs/aileron-cmd-norm'])\n",
    "    print('rudder', op['fcs/rudder-cmd-norm'])\n",
    "    print('throttle', op['fcs/throttle-cmd-norm'])"
   ]
  },
  {
   "cell_type": "code",
   "execution_count": null,
   "metadata": {},
   "outputs": [],
   "source": [
    "ops_transition = [trim_transition(vt_fps=vt, gamma_deg=10, accel_g=0.1)\n",
    "                  for vt in [10, 50, 100, 150, 200, 250, 300, 400, 500, 600, 650]]\n",
    "\n",
    "ops_transition_auto = []\n",
    "for op in ops_transition:\n",
    "    op = dict(op)\n",
    "    print('\\nvt fps', op['ic/vt-fps'])\n",
    "    print('theta deg', op['ic/gamma-deg'] + np.rad2deg(op['ic/alpha-rad']))\n",
    "    print('elevator', op['fcs/elevator-cmd-norm'])\n",
    "    print('aileron', op['fcs/aileron-cmd-norm'])\n",
    "    print('rudder', op['fcs/rudder-cmd-norm'])\n",
    "    print('throttle', op['fcs/throttle-cmd-norm'])\n",
    "    op['ap/roll-enable'] = 1\n",
    "    op['ap/pitch-enable'] = 1\n",
    "    op['ap/yaw-enable'] = 1\n",
    "    op['ap/h-enable'] = 0\n",
    "    op['ap/h-sl-cmd-ft'] = 1000\n",
    "    ops_transition_auto.append(op)"
   ]
  },
  {
   "cell_type": "code",
   "execution_count": null,
   "metadata": {},
   "outputs": [],
   "source": [
    "# log_transition_auto = []\n",
    "# for op in ops_transition_auto:\n",
    "#     log = simulate(\n",
    "#         aircraft='F-35B-2',\n",
    "#         op_0=op,\n",
    "#         tf=10,\n",
    "#         realtime=False)\n",
    "#     log_transition_auto.append(log)"
   ]
  },
  {
   "cell_type": "markdown",
   "metadata": {},
   "source": [
    "## Auto takeoff "
   ]
  },
  {
   "cell_type": "code",
   "execution_count": null,
   "metadata": {},
   "outputs": [],
   "source": [
    "# log_takeoff_auto = simulate(\n",
    "#     aircraft='F-35B-2',\n",
    "#     op_0=op_ground,\n",
    "#     op_list=[('hover', op_hover_auto, lambda fdm: fdm.get_sim_time() > 1),\n",
    "#              ('10 fps', ops_transition_auto[0], lambda fdm: fdm.get_sim_time() > 10),\n",
    "#              ('50 fps', ops_transition_auto[1], lambda fdm: fdm['velocities/vt-fps'] > 50),\n",
    "#              ('100 fps', ops_transition_auto[2], lambda fdm: fdm['velocities/vt-fps'] > 100),\n",
    "#              ('150 fps', ops_transition_auto[3], lambda fdm: fdm['velocities/vt-fps'] > 150),\n",
    "#              ('200 fps', ops_transition_auto[4], lambda fdm: fdm['velocities/vt-fps'] > 200),\n",
    "#              ('250 fps', ops_transition_auto[5], lambda fdm: fdm['velocities/vt-fps'] > 250),\n",
    "#              ('300 fps', ops_transition_auto[6], lambda fdm: fdm['velocities/vt-fps'] > 300),\n",
    "#              ('400 fps', ops_transition_auto[7], lambda fdm: fdm['velocities/vt-fps'] > 400),\n",
    "#              ('500 fps', ops_transition_auto[7], lambda fdm: fdm['velocities/vt-fps'] > 500),\n",
    "#              ('600 fps', ops_transition_auto[7], lambda fdm: fdm['velocities/vt-fps'] > 600),\n",
    "#     ],\n",
    "#     tf=120,\n",
    "#     realtime=True, verbose=True)"
   ]
  },
  {
   "cell_type": "markdown",
   "metadata": {},
   "source": [
    "# Hover Controller Design"
   ]
  },
  {
   "cell_type": "markdown",
   "metadata": {},
   "source": [
    "## Pitch"
   ]
  },
  {
   "cell_type": "code",
   "execution_count": 213,
   "metadata": {},
   "outputs": [
    {
     "name": "stdout",
     "output_type": "stream",
     "text": [
      "0 states have been removed from the model\n"
     ]
    },
    {
     "data": {
      "text/latex": [
       "$$\\frac{41.57}{s^2}$$"
      ],
      "text/plain": [
       "TransferFunction(array([41.56841179]), array([1., 0., 0.]))"
      ]
     },
     "execution_count": 213,
     "metadata": {},
     "output_type": "execute_result"
    }
   ],
   "source": [
    "sys = control.ss(*linearize(\n",
    "    aircraft='F-35B-2',\n",
    "    states=['ic/q-rad_sec'],\n",
    "    states_deriv = ['accelerations/qdot-rad_sec2'],\n",
    "    inputs=['fcs/elevator-cmd-norm'],\n",
    "    outputs=['ic/q-rad_sec'],\n",
    "    ic=op_hover,\n",
    "    dx=1e-3,\n",
    "    n_round=10\n",
    "))\n",
    "s = control.tf([1, 0], [1])\n",
    "rad2deg = 180/np.pi\n",
    "G_elev_to_pitch = rad2deg*clean_tf(control.minreal(control.ss2tf(sys), 1e-10))/s  # in degrees\n",
    "G_elev_to_pitch"
   ]
  },
  {
   "cell_type": "code",
   "execution_count": 11,
   "metadata": {},
   "outputs": [
    {
     "data": {
      "text/latex": [
       "$$\\frac{16.64}{s^3 + 0.4 s^2}$$"
      ],
      "text/plain": [
       "TransferFunction(array([16.63869437]), array([1. , 0.4, 0. , 0. ]))"
      ]
     },
     "execution_count": 11,
     "metadata": {},
     "output_type": "execute_result"
    }
   ],
   "source": [
    "# # Add the actuator \n",
    "# tau = 0.4\n",
    "# G_act = tau / (s + tau)\n",
    "# G_elev_to_pitch *= G_act\n",
    "# G_elev_to_pitch"
   ]
  },
  {
   "cell_type": "code",
   "execution_count": 240,
   "metadata": {},
   "outputs": [
    {
     "name": "stdout",
     "output_type": "stream",
     "text": [
      "gain margin:  inf\n",
      "phase margin (in degrees):  122.7856267951608\n",
      "Frequency for gain margin (at phase crossover, phase = -180 degrees):  nan\n",
      "Frequency for phase margin (at gain crossover, gain = 1):  1.488022487197787\n"
     ]
    },
    {
     "name": "stderr",
     "output_type": "stream",
     "text": [
      "C:\\Users\\12646\\anaconda3\\lib\\site-packages\\control\\margins.py:322: RuntimeWarning: invalid value encountered in less_equal\n",
      "  w_180 = w_180[w180_resp <= 0.]\n",
      "C:\\Users\\12646\\anaconda3\\lib\\site-packages\\control\\margins.py:323: RuntimeWarning: invalid value encountered in less_equal\n",
      "  w180_resp = w180_resp[w180_resp <= 0.]\n"
     ]
    },
    {
     "data": {
      "image/png": "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\n",
      "text/plain": [
       "<Figure size 432x288 with 1 Axes>"
      ]
     },
     "metadata": {
      "needs_background": "light"
     },
     "output_type": "display_data"
    },
    {
     "data": {
      "image/png": "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\n",
      "text/plain": [
       "<Figure size 432x288 with 1 Axes>"
      ]
     },
     "metadata": {
      "needs_background": "light"
     },
     "output_type": "display_data"
    },
    {
     "data": {
      "image/png": "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\n",
      "text/plain": [
       "<Figure size 432x288 with 1 Axes>"
      ]
     },
     "metadata": {
      "needs_background": "light"
     },
     "output_type": "display_data"
    },
    {
     "data": {
      "image/png": "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\n",
      "text/plain": [
       "<Figure size 432x288 with 1 Axes>"
      ]
     },
     "metadata": {
      "needs_background": "light"
     },
     "output_type": "display_data"
    },
    {
     "data": {
      "image/png": "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\n",
      "text/plain": [
       "<Figure size 1080x504 with 4 Axes>"
      ]
     },
     "metadata": {
      "needs_background": "light"
     },
     "output_type": "display_data"
    },
    {
     "data": {
      "image/png": "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\n",
      "text/plain": [
       "<Figure size 432x288 with 1 Axes>"
      ]
     },
     "metadata": {
      "needs_background": "light"
     },
     "output_type": "display_data"
    }
   ],
   "source": [
    "# PD gains to lead-lag gains \n",
    "Kp = 0.023\n",
    "Kd = 0.033\n",
    "N = 20\n",
    "\n",
    "c1 = N*Kd + Kp\n",
    "c2 = N*Kp\n",
    "c3 = 1\n",
    "c4 = N\n",
    "\n",
    "H_elev_to_pitch = (c1 * s + c2) / (c3 * s + c4)\n",
    "# H_elev_to_pitch = 1 + 0.01*s\n",
    "\n",
    "plt.figure()\n",
    "rootlocus(G_elev_to_pitch*H_elev_to_pitch)\n",
    "plt.plot([0, -1], [0, 1], '--')\n",
    "\n",
    "plt.figure()\n",
    "rootlocus(G_elev_to_pitch*H_elev_to_pitch)\n",
    "plt.xlim([-1.5, 0])\n",
    "plt.plot([0, -1], [0, 1], '--')\n",
    "\n",
    "Gc_elev_to_pitch = G_elev_to_pitch*H_elev_to_pitch/(1 + G_elev_to_pitch*H_elev_to_pitch)\n",
    "\n",
    "plt.figure()\n",
    "step_size = 10\n",
    "t, y = control.step_response(step_size*Gc_elev_to_pitch, T=np.linspace(0, 30, 1000))\n",
    "plt.plot(t, y)\n",
    "plt.ylabel('pitch, deg')\n",
    "plt.xlabel('t, sec')\n",
    "plt.title('output')\n",
    "\n",
    "plt.figure()\n",
    "# actual error was computed in radians, so, converting back here\n",
    "e = np.deg2rad(step_size-y)\n",
    "t, u, _= control.forced_response(H_elev_to_pitch, T=t, U=e)\n",
    "plt.plot(t, u)\n",
    "plt.hlines([-1, 1], t[0], t[-1], linestyles='dashed')\n",
    "plt.title('input')\n",
    "plt.ylabel('elevator, norm')\n",
    "plt.xlabel('t, sec')\n",
    "\n",
    "plt.figure(figsize=(15, 7))\n",
    "control.gangof4(G_elev_to_pitch, H_elev_to_pitch, Hz=True, dB=True)\n",
    "\n",
    "plt.figure()\n",
    "control.nyquist(Gc_elev_to_pitch, omega=np.logspace(-3, 3, 1000))\n",
    "\n",
    "gm, pm, wg, wp = control.margin(Gc_elev_to_pitch)\n",
    "print('gain margin: ', gm)\n",
    "print('phase margin (in degrees): ', pm)\n",
    "print('Frequency for gain margin (at phase crossover, phase = -180 degrees): ', wg)\n",
    "print('Frequency for phase margin (at gain crossover, gain = 1): ', wp)"
   ]
  },
  {
   "cell_type": "markdown",
   "metadata": {},
   "source": [
    "## Roll"
   ]
  },
  {
   "cell_type": "code",
   "execution_count": 25,
   "metadata": {},
   "outputs": [
    {
     "name": "stdout",
     "output_type": "stream",
     "text": [
      "0 states have been removed from the model\n"
     ]
    },
    {
     "data": {
      "text/latex": [
       "$$\\frac{76.15}{s^2}$$"
      ],
      "text/plain": [
       "TransferFunction(array([76.14609097]), array([1., 0., 0.]))"
      ]
     },
     "execution_count": 170,
     "metadata": {},
     "output_type": "execute_result"
    }
   ],
   "source": [
    "sys = control.ss(*linearize(\n",
    "    aircraft='F-35B-2',\n",
    "    states=['ic/p-rad_sec'],\n",
    "    states_deriv = ['accelerations/pdot-rad_sec2'],\n",
    "    inputs=['fcs/aileron-cmd-norm'],\n",
    "    outputs=['ic/p-rad_sec'],\n",
    "    ic=op_hover,\n",
    "    dx=1e-3,\n",
    "    n_round=3\n",
    "))\n",
    "rad2deg = 180/np.pi\n",
    "s = control.tf([1, 0], [1])\n",
    "G_aileron_to_roll = rad2deg*clean_tf(control.minreal(control.ss2tf(sys), 1e-3))/s\n",
    "G_aileron_to_roll"
   ]
  },
  {
   "cell_type": "code",
   "execution_count": 26,
   "metadata": {},
   "outputs": [
    {
     "data": {
      "text/latex": [
       "$$\\frac{30.46}{s^3 + 0.4 s^2}$$"
      ],
      "text/plain": [
       "TransferFunction(array([30.45843639]), array([1. , 0.4, 0. , 0. ]))"
      ]
     },
     "execution_count": 26,
     "metadata": {},
     "output_type": "execute_result"
    }
   ],
   "source": [
    "# # Add the actuator \n",
    "# tau = 0.4\n",
    "# G_act = tau / (s + tau)\n",
    "# G_aileron_to_roll *= G_act\n",
    "# G_aileron_to_roll"
   ]
  },
  {
   "cell_type": "code",
   "execution_count": 212,
   "metadata": {},
   "outputs": [
    {
     "name": "stdout",
     "output_type": "stream",
     "text": [
      "gain margin:  inf\n",
      "phase margin (in degrees):  111.50982530598753\n",
      "Frequency for gain margin (at phase crossover, phase = -180 degrees):  nan\n",
      "Frequency for phase margin (at gain crossover, gain = 1):  2.132052704679188\n"
     ]
    },
    {
     "name": "stderr",
     "output_type": "stream",
     "text": [
      "C:\\Users\\12646\\anaconda3\\lib\\site-packages\\control\\margins.py:322: RuntimeWarning: invalid value encountered in less_equal\n",
      "  w_180 = w_180[w180_resp <= 0.]\n",
      "C:\\Users\\12646\\anaconda3\\lib\\site-packages\\control\\margins.py:323: RuntimeWarning: invalid value encountered in less_equal\n",
      "  w180_resp = w180_resp[w180_resp <= 0.]\n"
     ]
    },
    {
     "data": {
      "image/png": "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\n",
      "text/plain": [
       "<Figure size 432x288 with 1 Axes>"
      ]
     },
     "metadata": {
      "needs_background": "light"
     },
     "output_type": "display_data"
    },
    {
     "data": {
      "image/png": "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\n",
      "text/plain": [
       "<Figure size 432x288 with 1 Axes>"
      ]
     },
     "metadata": {
      "needs_background": "light"
     },
     "output_type": "display_data"
    },
    {
     "data": {
      "image/png": "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\n",
      "text/plain": [
       "<Figure size 432x288 with 1 Axes>"
      ]
     },
     "metadata": {
      "needs_background": "light"
     },
     "output_type": "display_data"
    },
    {
     "data": {
      "image/png": "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\n",
      "text/plain": [
       "<Figure size 432x288 with 1 Axes>"
      ]
     },
     "metadata": {
      "needs_background": "light"
     },
     "output_type": "display_data"
    },
    {
     "data": {
      "image/png": "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\n",
      "text/plain": [
       "<Figure size 432x288 with 1 Axes>"
      ]
     },
     "metadata": {
      "needs_background": "light"
     },
     "output_type": "display_data"
    },
    {
     "data": {
      "image/png": "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\n",
      "text/plain": [
       "<Figure size 1080x504 with 4 Axes>"
      ]
     },
     "metadata": {
      "needs_background": "light"
     },
     "output_type": "display_data"
    }
   ],
   "source": [
    "# PD gains to lead-lag gains \n",
    "Kp = 0.0205\n",
    "Kd = 0.0215\n",
    "N = 10\n",
    "\n",
    "c1 = N*Kd + Kp\n",
    "c2 = N*Kp\n",
    "c3 = 1\n",
    "c4 = N\n",
    "\n",
    "H_aileron_to_roll = (c1 * s + c2) / (c3 * s + c4)\n",
    "\n",
    "plt.figure()\n",
    "rootlocus(G_aileron_to_roll*H_aileron_to_roll)\n",
    "plt.plot([0, -1], [0, 1], '--')\n",
    "\n",
    "plt.figure()\n",
    "rootlocus(G_aileron_to_roll*H_aileron_to_roll)\n",
    "plt.xlim([-1.5, 0])\n",
    "plt.plot([0, -1], [0, 1], '--')\n",
    "\n",
    "Gc_aileron_to_roll  = G_aileron_to_roll*H_aileron_to_roll/(1 + G_aileron_to_roll*H_aileron_to_roll)\n",
    "\n",
    "\n",
    "plt.figure()\n",
    "step_size = 10\n",
    "t, y = control.step_response(step_size*Gc_aileron_to_roll, T=np.linspace(0, 30, 1000))\n",
    "plt.plot(t, y)\n",
    "plt.xlabel('t, sec')\n",
    "plt.ylabel('roll, deg')\n",
    "plt.title('output')\n",
    "\n",
    "plt.figure()\n",
    "# actual error was computed in radians, so, converting back here\n",
    "e = np.deg2rad(step_size-y)\n",
    "t, u, _= control.forced_response(H_aileron_to_roll, T=t, U=e)\n",
    "plt.hlines([-0.1, 0.1], t[0], t[-1], linestyles='dashed')\n",
    "plt.plot(t, u)\n",
    "plt.xlabel('t, sec')\n",
    "plt.ylabel('aileron %')\n",
    "plt.title('input')\n",
    "\n",
    "plt.figure()\n",
    "control.nyquist(Gc_aileron_to_roll, omega=np.logspace(-3, 3, 1000))\n",
    "\n",
    "plt.figure(figsize=(15, 7))\n",
    "control.gangof4(G_aileron_to_roll, H_aileron_to_roll, Hz=True, dB=True)\n",
    "\n",
    "gm, pm, wg, wp = control.margin(Gc_aileron_to_roll)\n",
    "print('gain margin: ', gm)\n",
    "print('phase margin (in degrees): ', pm)\n",
    "print('Frequency for gain margin (at phase crossover, phase = -180 degrees): ', wg)\n",
    "print('Frequency for phase margin (at gain crossover, gain = 1): ', wp)"
   ]
  },
  {
   "cell_type": "markdown",
   "metadata": {},
   "source": [
    "## Yaw"
   ]
  },
  {
   "cell_type": "markdown",
   "metadata": {},
   "source": [
    "## Engine0 (right cold post) "
   ]
  },
  {
   "cell_type": "code",
   "execution_count": 21,
   "metadata": {},
   "outputs": [
    {
     "name": "stdout",
     "output_type": "stream",
     "text": [
      "0 states have been removed from the model\n"
     ]
    },
    {
     "data": {
      "text/latex": [
       "$$\\frac{-0.788}{s^2}$$"
      ],
      "text/plain": [
       "TransferFunction(array([-0.788]), array([1., 0., 0.]))"
      ]
     },
     "execution_count": 21,
     "metadata": {},
     "output_type": "execute_result"
    }
   ],
   "source": [
    "# import scipy.signal as scysig\n",
    "\n",
    "sys1 = control.ss(*linearize(\n",
    "    aircraft='F-35B-2',\n",
    "    states=['ic/r-rad_sec'],\n",
    "    states_deriv = ['accelerations/rdot-rad_sec2'],\n",
    "    inputs=['propulsion/engine/pitch-angle-rad'],\n",
    "    outputs=['ic/r-rad_sec'],\n",
    "    ic=op_hover,\n",
    "    dx=1e-3,\n",
    "    n_round=3\n",
    "))\n",
    "s = control.tf([1, 0], [1])\n",
    "\n",
    "# # G_rudder_to_yaw = -clean_tf(control.minreal(control.ss2tf(sys), 1e-3))/s\n",
    "# print(sys)\n",
    "# temp = scysig.ss2tf(sys.A, sys.B, sys.C, sys.D)\n",
    "# print(temp)\n",
    "\n",
    "G_rudder_to_yaw1 = -clean_tf(control.minreal(control.ss2tf(sys1), 1e-3))/s\n",
    "G_rudder_to_yaw1"
   ]
  },
  {
   "cell_type": "markdown",
   "metadata": {},
   "source": [
    "## Engine1 (right hot post)"
   ]
  },
  {
   "cell_type": "code",
   "execution_count": 22,
   "metadata": {},
   "outputs": [
    {
     "name": "stdout",
     "output_type": "stream",
     "text": [
      "0 states have been removed from the model\n"
     ]
    },
    {
     "data": {
      "text/latex": [
       "$$\\frac{-0.553}{s^2}$$"
      ],
      "text/plain": [
       "TransferFunction(array([-0.553]), array([1., 0., 0.]))"
      ]
     },
     "execution_count": 22,
     "metadata": {},
     "output_type": "execute_result"
    }
   ],
   "source": [
    "sys2 = control.ss(*linearize(\n",
    "    aircraft='F-35B-2',\n",
    "    states=['ic/r-rad_sec'],\n",
    "    states_deriv = ['accelerations/rdot-rad_sec2'],\n",
    "    inputs=['propulsion/engine[1]/pitch-angle-rad'],\n",
    "    outputs=['ic/r-rad_sec'],\n",
    "    ic=op_hover,\n",
    "    dx=1e-3,\n",
    "    n_round=3\n",
    "))\n",
    "s = control.tf([1, 0], [1])\n",
    "G_rudder_to_yaw2 = -clean_tf(control.minreal(control.ss2tf(sys2), 1e-3))/s\n",
    "G_rudder_to_yaw2"
   ]
  },
  {
   "cell_type": "markdown",
   "metadata": {},
   "source": [
    "## Engine2 (left cold post)"
   ]
  },
  {
   "cell_type": "code",
   "execution_count": null,
   "metadata": {},
   "outputs": [],
   "source": [
    "sys3 = control.ss(*linearize(\n",
    "    aircraft='F-35B-2',\n",
    "    states=['ic/r-rad_sec'],\n",
    "    states_deriv = ['accelerations/rdot-rad_sec2'],\n",
    "    inputs=['propulsion/engine[2]/pitch-angle-rad'],\n",
    "    outputs=['ic/r-rad_sec'],\n",
    "    ic=op_hover,\n",
    "    dx=1e-3,\n",
    "    n_round=3\n",
    "))\n",
    "s = control.tf([1, 0], [1])\n",
    "G_rudder_to_yaw3 = -clean_tf(control.minreal(control.ss2tf(sys3), 1e-3))/s\n",
    "G_rudder_to_yaw3"
   ]
  },
  {
   "cell_type": "markdown",
   "metadata": {},
   "source": [
    "## Engine3 (left hot post)"
   ]
  },
  {
   "cell_type": "code",
   "execution_count": null,
   "metadata": {},
   "outputs": [],
   "source": [
    "sys4 = control.ss(*linearize(\n",
    "    aircraft='F-35B-2',\n",
    "    states=['ic/r-rad_sec'],\n",
    "    states_deriv = ['accelerations/rdot-rad_sec2'],\n",
    "    inputs=['propulsion/engine[3]/pitch-angle-rad'],\n",
    "    outputs=['ic/r-rad_sec'],\n",
    "    ic=op_hover,\n",
    "    dx=1e-3,\n",
    "    n_round=3\n",
    "))\n",
    "s = control.tf([1, 0], [1])\n",
    "G_rudder_to_yaw4 = -clean_tf(control.minreal(control.ss2tf(sys4), 1e-3))/s\n",
    "G_rudder_to_yaw4"
   ]
  },
  {
   "cell_type": "code",
   "execution_count": null,
   "metadata": {},
   "outputs": [],
   "source": [
    "sys1 = control.series(sys1, -1/s)\n",
    "sys1 = control.tf2ss(sys1)\n",
    "sys2 = control.series(sys2, -1/s)\n",
    "sys2 = control.tf2ss(sys2)\n",
    "sys3 = control.series(sys3, -1/s)\n",
    "sys3 = control.tf2ss(sys3)\n",
    "sys4 = control.series(sys4, -1/s)\n",
    "sys4 = control.tf2ss(sys4)\n",
    "\n",
    "sys_yaw = control.append(sys1, sys2, sys3, sys4)\n",
    "sys_yaw = control.ss2tf(sys_yaw)\n",
    "sys_yaw"
   ]
  },
  {
   "cell_type": "code",
   "execution_count": null,
   "metadata": {},
   "outputs": [],
   "source": [
    "# Engine nozzle pitch actuator \n",
    "tau_enp = 2\n",
    "G_enp_act = tau_enp / (s + tau_enp)\n",
    "G_aileron_to_roll *= G_enp_act\n",
    "G_aileron_to_roll"
   ]
  },
  {
   "cell_type": "markdown",
   "metadata": {},
   "source": [
    "## Altitude "
   ]
  },
  {
   "cell_type": "code",
   "execution_count": null,
   "metadata": {},
   "outputs": [],
   "source": [
    "sys = control.ss(*linearize(\n",
    "    aircraft='F-35B-2',\n",
    "    states=['ic/w-fps'],\n",
    "    states_deriv = ['accelerations/wdot-ft_sec2'],\n",
    "    inputs=['fcs/throttle-cmd-norm'],\n",
    "    outputs=['ic/w-fps'],\n",
    "    ic=op_hover,\n",
    "    dx=1e-3,\n",
    "    n_round=3\n",
    "))\n",
    "G_throttle_to_alt = -clean_tf(control.minreal(control.ss2tf(sys), 1e-3))/s\n",
    "G_throttle_to_alt"
   ]
  },
  {
   "cell_type": "code",
   "execution_count": null,
   "metadata": {},
   "outputs": [],
   "source": [
    "# Add the actuator \n",
    "tau = 0.4\n",
    "G_act = tau / (s + tau)\n",
    "G_throttle_to_alt *= G_act\n",
    "G_throttle_to_alt"
   ]
  },
  {
   "cell_type": "code",
   "execution_count": null,
   "metadata": {},
   "outputs": [],
   "source": [
    "# PD gains to lead-lag gains \n",
    "Kp = 9.11459759968896e-10\n",
    "Kd = 0.00911454537591535\n",
    "N = 27.8343628363698\n",
    "\n",
    "c1 = N*Kd + Kp\n",
    "c2 = N*Kp\n",
    "c3 = 1\n",
    "c4 = N\n",
    "\n",
    "H_throttle_to_alt = (c1 * s + c2) / (c3 * s + c4)\n",
    "\n",
    "\n",
    "plt.figure()\n",
    "rootlocus(G_throttle_to_alt*H_throttle_to_alt)\n",
    "plt.plot([0, -1], [0, 1], '--')\n",
    "\n",
    "plt.figure()\n",
    "rootlocus(G_throttle_to_alt*H_throttle_to_alt)\n",
    "plt.xlim([-1.2, 0])\n",
    "plt.plot([0, -1], [0, 1], '--')\n",
    "\n",
    "Gc_throttle_to_alt = G_throttle_to_alt*H_throttle_to_alt/(1 + G_throttle_to_alt*H_throttle_to_alt)\n",
    "\n",
    "plt.figure()\n",
    "step_size = 10\n",
    "t, y = control.step_response(step_size*Gc_throttle_to_alt, T=np.linspace(0, 40, 1000))\n",
    "plt.plot(t, y)\n",
    "plt.xlabel('t, sec')\n",
    "plt.ylabel('altitude, ft')\n",
    "plt.title('output')\n",
    "\n",
    "plt.figure()\n",
    "# error computed in ft\n",
    "e = step_size-y\n",
    "t, u, _= control.forced_response(H_throttle_to_alt, T=t, U=e)\n",
    "plt.hlines([-0.1, 0.1], t[0], t[-1], linestyles='dashed')\n",
    "plt.plot(t, u)\n",
    "plt.xlabel('t, sec')\n",
    "plt.ylabel('throtle %')\n",
    "plt.title('input')\n",
    "\n",
    "plt.figure()\n",
    "control.nyquist(Gc_throttle_to_alt, omega=np.logspace(-3, 3, 1000))\n",
    "\n",
    "plt.figure(figsize=(15, 7))\n",
    "control.gangof4(G_throttle_to_alt, H_throttle_to_alt, Hz=True, dB=True)\n",
    "\n",
    "\n",
    "gm, pm, wg, wp = control.margin(Gc_throttle_to_alt)\n",
    "print('gain margin: ', gm)\n",
    "print('phase margin (in degrees): ', pm)\n",
    "print('Frequency for gain margin (at phase crossover, phase = -180 degrees): ', wg)\n",
    "print('Frequency for phase margin (at gain crossover, gain = 1): ', wp)"
   ]
  },
  {
   "cell_type": "markdown",
   "metadata": {},
   "source": [
    "# Cruise Controller Design"
   ]
  },
  {
   "cell_type": "markdown",
   "metadata": {},
   "source": [
    "## Cruise Velocity (with Pitch)"
   ]
  },
  {
   "cell_type": "code",
   "execution_count": 5,
>>>>>>> 7ed655f2533f0c295c7afff3713abf3c4f174e56
   "metadata": {},
   "outputs": [
    {
     "name": "stdout",
     "output_type": "stream",
     "text": [
      "0 states have been removed from the model\n"
     ]
    },
    {
     "data": {
      "text/latex": [
       "$$\\frac{1526}{s^2 + 5.268 s}$$"
      ],
      "text/plain": [
       "TransferFunction(array([1525.50012954]), array([1.   , 5.268, 0.   ]))"
      ]
     },
     "execution_count": 4,
     "metadata": {},
     "output_type": "execute_result"
    }
   ],
   "source": [
    "sys = control.ss(*linearize(\n",
    "    aircraft='F-35B-2',\n",
    "    states=['ic/u-fps','ic/v-fps','ic/w-fps'], # velocity and heading angle\n",
    "    states_deriv = ['accelerations/udot-ft_sec2','accelerations/vdot-ft_sec2','accelerations/wdot-ft_sec2'],\n",
    "    inputs=['fcs/elevator-cmd-norm'],\n",
    "    outputs=['ic/u-fps'],\n",
    "    \n",
    "#     ic=op_cruise,\n",
    "    dx=1e-3,\n",
    "    n_round=3\n",
    "))\n",
    "s = control.tf([1, 0], [1])\n",
    "rad2deg = 180/np.pi\n",
    "G_elev_to_pitch = rad2deg*clean_tf(control.minreal(control.ss2tf(sys), 1e-3))/s  # in degrees\n",
    "G_elev_to_pitch"
   ]
  },
  {
   "cell_type": "code",
   "execution_count": 5,
   "metadata": {},
   "outputs": [],
   "source": [
    "# Add the actuator \n",
    "# tau = 0.4\n",
    "# G_act = tau / (s + tau)\n",
    "# G_elev_to_pitch *= G_act\n",
    "# G_elev_to_pitch"
   ]
  },
  {
   "cell_type": "code",
   "execution_count": 6,
   "metadata": {},
   "outputs": [
    {
     "ename": "ValueError",
     "evalue": "not enough values to unpack (expected 3, got 2)",
     "output_type": "error",
     "traceback": [
      "\u001b[1;31m---------------------------------------------------------------------------\u001b[0m",
      "\u001b[1;31mValueError\u001b[0m                                Traceback (most recent call last)",
      "\u001b[1;32m<ipython-input-6-1080f45ede5c>\u001b[0m in \u001b[0;36m<module>\u001b[1;34m\u001b[0m\n\u001b[0;32m     41\u001b[0m \u001b[1;31m# actual error was computed in radians, so, converting back here\u001b[0m\u001b[1;33m\u001b[0m\u001b[1;33m\u001b[0m\u001b[1;33m\u001b[0m\u001b[0m\n\u001b[0;32m     42\u001b[0m \u001b[0me\u001b[0m \u001b[1;33m=\u001b[0m \u001b[0mnp\u001b[0m\u001b[1;33m.\u001b[0m\u001b[0mdeg2rad\u001b[0m\u001b[1;33m(\u001b[0m\u001b[0mstep_size\u001b[0m\u001b[1;33m-\u001b[0m\u001b[0my\u001b[0m\u001b[1;33m)\u001b[0m\u001b[1;33m\u001b[0m\u001b[1;33m\u001b[0m\u001b[0m\n\u001b[1;32m---> 43\u001b[1;33m \u001b[0mt\u001b[0m\u001b[1;33m,\u001b[0m \u001b[0mu\u001b[0m\u001b[1;33m,\u001b[0m \u001b[0m_\u001b[0m\u001b[1;33m=\u001b[0m \u001b[0mcontrol\u001b[0m\u001b[1;33m.\u001b[0m\u001b[0mforced_response\u001b[0m\u001b[1;33m(\u001b[0m\u001b[0mH_elev_to_pitch\u001b[0m\u001b[1;33m,\u001b[0m \u001b[0mT\u001b[0m\u001b[1;33m=\u001b[0m\u001b[0mt\u001b[0m\u001b[1;33m,\u001b[0m \u001b[0mU\u001b[0m\u001b[1;33m=\u001b[0m\u001b[0me\u001b[0m\u001b[1;33m)\u001b[0m\u001b[1;33m\u001b[0m\u001b[1;33m\u001b[0m\u001b[0m\n\u001b[0m\u001b[0;32m     44\u001b[0m \u001b[0mplt\u001b[0m\u001b[1;33m.\u001b[0m\u001b[0mplot\u001b[0m\u001b[1;33m(\u001b[0m\u001b[0mt\u001b[0m\u001b[1;33m,\u001b[0m \u001b[0mu\u001b[0m\u001b[1;33m)\u001b[0m\u001b[1;33m\u001b[0m\u001b[1;33m\u001b[0m\u001b[0m\n\u001b[0;32m     45\u001b[0m \u001b[0mplt\u001b[0m\u001b[1;33m.\u001b[0m\u001b[0mhlines\u001b[0m\u001b[1;33m(\u001b[0m\u001b[1;33m[\u001b[0m\u001b[1;33m-\u001b[0m\u001b[1;36m1\u001b[0m\u001b[1;33m,\u001b[0m \u001b[1;36m1\u001b[0m\u001b[1;33m]\u001b[0m\u001b[1;33m,\u001b[0m \u001b[0mt\u001b[0m\u001b[1;33m[\u001b[0m\u001b[1;36m0\u001b[0m\u001b[1;33m]\u001b[0m\u001b[1;33m,\u001b[0m \u001b[0mt\u001b[0m\u001b[1;33m[\u001b[0m\u001b[1;33m-\u001b[0m\u001b[1;36m1\u001b[0m\u001b[1;33m]\u001b[0m\u001b[1;33m,\u001b[0m \u001b[0mlinestyles\u001b[0m\u001b[1;33m=\u001b[0m\u001b[1;34m'dashed'\u001b[0m\u001b[1;33m)\u001b[0m\u001b[1;33m\u001b[0m\u001b[1;33m\u001b[0m\u001b[0m\n",
      "\u001b[1;31mValueError\u001b[0m: not enough values to unpack (expected 3, got 2)"
     ]
    },
    {
     "data": {
      "image/png": "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\n",
      "text/plain": [
       "<Figure size 432x288 with 1 Axes>"
      ]
     },
     "metadata": {
      "needs_background": "light"
     },
     "output_type": "display_data"
    },
    {
     "data": {
      "image/png": "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\n",
      "text/plain": [
       "<Figure size 432x288 with 1 Axes>"
      ]
     },
     "metadata": {
      "needs_background": "light"
     },
     "output_type": "display_data"
    },
    {
     "data": {
      "image/png": "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\n",
      "text/plain": [
       "<Figure size 432x288 with 1 Axes>"
      ]
     },
     "metadata": {
      "needs_background": "light"
     },
     "output_type": "display_data"
    },
    {
     "data": {
      "image/png": "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\n",
      "text/plain": [
       "<Figure size 432x288 with 0 Axes>"
      ]
     },
     "metadata": {},
     "output_type": "display_data"
    }
   ],
   "source": [
    "# !! <<<< THESE ARE FOR HOVER \n",
    "# PD gains to lead-lag gains \n",
    "Kp = 0.01\n",
    "Kd = 0.0001\n",
    "N = 5\n",
    "\n",
    "c1 = N*Kd + Kp\n",
    "c2 = N*Kp\n",
    "c3 = 1\n",
    "c4 = N\n",
    "\n",
    "# >>>> SUBJECT TO CHANGE !!\n",
    "\n",
    "\n",
    "\n",
    "\n",
    "H_elev_to_pitch = (c1 * s + c2) / (c3 * s + c4)\n",
    "# H_elev_to_pitch = 1 + 0.01*s\n",
    "\n",
    "plt.figure()\n",
    "rootlocus(G_elev_to_pitch*H_elev_to_pitch)\n",
    "plt.plot([0, -1], [0, 1], '--')\n",
    "\n",
    "plt.figure()\n",
    "rootlocus(G_elev_to_pitch*H_elev_to_pitch)\n",
    "plt.xlim([-1.5, 0])\n",
    "plt.plot([0, -1], [0, 1], '--')\n",
    "\n",
    "# Close loop transfer function\n",
    "Gc_elev_to_pitch = G_elev_to_pitch*H_elev_to_pitch/(1 + G_elev_to_pitch*H_elev_to_pitch)\n",
    "\n",
    "plt.figure()\n",
    "step_size = 10\n",
    "t, y = control.step_response(step_size*Gc_elev_to_pitch, T=np.linspace(0, 30, 1000))\n",
    "plt.plot(t, y)\n",
    "plt.ylabel('pitch, deg')\n",
    "plt.xlabel('t, sec')\n",
    "plt.title('output')\n",
    "\n",
    "plt.figure()\n",
    "# actual error was computed in radians, so, converting back here\n",
    "e = np.deg2rad(step_size-y)\n",
    "t, u, _= control.forced_response(H_elev_to_pitch, T=t, U=e)\n",
    "plt.plot(t, u)\n",
    "plt.hlines([-1, 1], t[0], t[-1], linestyles='dashed')\n",
    "plt.title('input')\n",
    "plt.ylabel('elevator, norm')\n",
    "plt.xlabel('t, sec')\n",
    "\n",
    "plt.figure(figsize=(15, 7))\n",
    "control.gangof4(G_elev_to_pitch, H_elev_to_pitch, Hz=True, dB=True)\n",
    "\n",
    "plt.figure()\n",
    "control.nyquist(Gc_elev_to_pitch, omega=np.logspace(-3, 3, 1000))\n",
    "\n",
    "gm, pm, wg, wp = control.margin(Gc_elev_to_pitch)\n",
    "print('gain margin: ', gm)\n",
    "print('phase margin (in degrees): ', pm)\n",
    "print('Frequency for gain margin (at phase crossover, phase = -180 degrees): ', wg)\n",
    "print('Frequency for phase margin (at gain crossover, gain = 1): ', wp)"
   ]
  },
  {
   "cell_type": "markdown",
   "metadata": {},
   "source": [
    "## Heading Angle Control (with rudder)"
   ]
  },
  {
   "cell_type": "code",
   "execution_count": null,
   "metadata": {},
   "outputs": [],
   "source": [
    "sys = control.ss(*linearize(\n",
    "    aircraft='F-35B-2',\n",
    "    states=['ic/r-rad_sec'],\n",
    "    states_deriv = ['accelerations/rdot-rad_sec2'],\n",
    "    inputs=['fcs/rudder-cmd-norm'],\n",
    "    outputs=['ic/r-rad_sec'],\n",
    "    ic=op_cruise,\n",
    "    dx=1e-3,\n",
    "    n_round=3\n",
    "))\n",
    "rad2deg = 180/np.pi\n",
    "s = control.tf([1, 0], [1])\n",
    "G_aileron_to_roll = rad2deg*clean_tf(control.minreal(control.ss2tf(sys), 1e-3))/s\n",
    "G_aileron_to_roll"
   ]
  },
  {
   "cell_type": "code",
   "execution_count": null,
   "metadata": {},
   "outputs": [],
   "source": [
    "# Add the actuator \n",
    "tau = 0.4\n",
    "G_act = tau / (s + tau)\n",
    "G_aileron_to_roll *= G_act\n",
    "G_aileron_to_roll"
   ]
  },
  {
   "cell_type": "code",
   "execution_count": null,
   "metadata": {},
   "outputs": [],
   "source": [
    "# !! <<<< THESE ARE FOR HOVER \n",
    "# PD gains to lead-lag gains \n",
    "Kp = 7.66302615547072e-10\n",
    "Kd = 0.0076620813293718\n",
    "N = 505.040986830046\n",
    "\n",
    "c1 = N*Kd + Kp\n",
    "c2 = N*Kp\n",
    "c3 = 1\n",
    "c4 = N\n",
    "\n",
    "# >>>> SUBJECT TO CHANGE !!\n",
    "\n",
    "\n",
    "\n",
    "H_aileron_to_roll = (c1 * s + c2) / (c3 * s + c4)\n",
    "\n",
    "plt.figure()\n",
    "rootlocus(G_aileron_to_roll*H_aileron_to_roll)\n",
    "plt.plot([0, -1], [0, 1], '--')\n",
    "\n",
    "plt.figure()\n",
    "rootlocus(G_aileron_to_roll*H_aileron_to_roll)\n",
    "plt.xlim([-1.5, 0])\n",
    "plt.plot([0, -1], [0, 1], '--')\n",
    "\n",
    "Gc_aileron_to_roll  = G_aileron_to_roll*H_aileron_to_roll/(1 + G_aileron_to_roll*H_aileron_to_roll)\n",
    "\n",
    "\n",
    "plt.figure()\n",
    "step_size = 10\n",
    "t, y = control.step_response(step_size*Gc_aileron_to_roll, T=np.linspace(0, 30, 1000))\n",
    "plt.plot(t, y)\n",
    "plt.xlabel('t, sec')\n",
    "plt.ylabel('roll, deg')\n",
    "plt.title('output')\n",
    "\n",
    "plt.figure()\n",
    "# actual error was computed in radians, so, converting back here\n",
    "e = np.deg2rad(step_size-y)\n",
    "t, u, _= control.forced_response(H_aileron_to_roll, T=t, U=e)\n",
    "plt.hlines([-0.1, 0.1], t[0], t[-1], linestyles='dashed')\n",
    "plt.plot(t, u)\n",
    "plt.xlabel('t, sec')\n",
    "plt.ylabel('aileron %')\n",
    "plt.title('input')\n",
    "\n",
    "plt.figure()\n",
    "control.nyquist(Gc_aileron_to_roll, omega=np.logspace(-3, 3, 1000))\n",
    "\n",
    "plt.figure(figsize=(15, 7))\n",
    "control.gangof4(G_aileron_to_roll, H_aileron_to_roll, Hz=True, dB=True)\n",
    "\n",
    "gm, pm, wg, wp = control.margin(Gc_aileron_to_roll)\n",
    "print('gain margin: ', gm)\n",
    "print('phase margin (in degrees): ', pm)\n",
    "print('Frequency for gain margin (at phase crossover, phase = -180 degrees): ', wg)\n",
    "print('Frequency for phase margin (at gain crossover, gain = 1): ', wp)"
   ]
  },
  {
   "cell_type": "markdown",
   "metadata": {},
   "source": [
    "## Yaw"
   ]
  },
  {
   "cell_type": "code",
   "execution_count": null,
   "metadata": {},
   "outputs": [],
   "source": [
    "# sys1 = control.ss(*linearize(\n",
    "#     aircraft='F-35B-2',\n",
    "#     states=['ic/r-rad_sec'],\n",
    "#     states_deriv = ['accelerations/rdot-rad_sec2'],\n",
    "#     inputs=['propulsion/engine/pitch-angle-rad'],\n",
    "#     outputs=['ic/r-rad_sec'],\n",
    "#     ic=op_hover,\n",
    "#     dx=1e-3,\n",
    "#     n_round=3\n",
    "# ))\n",
    "# s = control.tf([1, 0], [1])\n",
    "\n",
    "# # # G_rudder_to_yaw = -clean_tf(control.minreal(control.ss2tf(sys), 1e-3))/s\n",
    "# # print(sys)\n",
    "# # temp = scysig.ss2tf(sys.A, sys.B, sys.C, sys.D)\n",
    "# # print(temp)\n",
    "\n",
    "# G_rudder_to_yaw1 = -clean_tf(control.minreal(control.ss2tf(sys1), 1e-3))/s\n",
    "# G_rudder_to_yaw1"
   ]
  },
  {
   "cell_type": "markdown",
   "metadata": {},
   "source": [
    "## Cruise Altitude Control (with Throttle) "
   ]
  },
  {
   "cell_type": "code",
   "execution_count": null,
   "metadata": {},
   "outputs": [],
   "source": [
    "sys = control.ss(*linearize(\n",
    "    aircraft='F-35B-2',\n",
    "    states=['ic/w-fps'],\n",
    "    states_deriv = ['accelerations/wdot-ft_sec2'],\n",
    "    inputs=['fcs/throttle-cmd-norm'],\n",
    "    outputs=['ic/w-fps'],\n",
    "    ic=op_cruise,\n",
    "    dx=1e-3,\n",
    "    n_round=3\n",
    "))\n",
    "G_throttle_to_alt = -clean_tf(control.minreal(control.ss2tf(sys), 1e-3))/s\n",
    "G_throttle_to_alt"
   ]
  },
  {
   "cell_type": "code",
   "execution_count": null,
   "metadata": {},
   "outputs": [],
   "source": [
    "# Add the actuator \n",
    "tau = 0.4\n",
    "G_act = tau / (s + tau)\n",
    "G_throttle_to_alt *= G_act\n",
    "G_throttle_to_alt"
   ]
  },
  {
   "cell_type": "code",
   "execution_count": null,
   "metadata": {},
   "outputs": [],
   "source": [
    "# !! <<<< THESE ARE FOR HOVER \n",
    "# PD gains to lead-lag gains \n",
    "Kp = 9.11459759968896e-10\n",
    "Kd = 0.00911454537591535\n",
    "N = 27.8343628363698\n",
    "\n",
    "c1 = N*Kd + Kp\n",
    "c2 = N*Kp\n",
    "c3 = 1\n",
    "c4 = N\n",
    "\n",
    "# >>>> SUBJECT TO CHANGE !!\n",
    "\n",
    "\n",
    "\n",
    "\n",
    "\n",
    "\n",
    "H_throttle_to_alt = (c1 * s + c2) / (c3 * s + c4)\n",
    "\n",
    "\n",
    "plt.figure()\n",
    "rootlocus(G_throttle_to_alt*H_throttle_to_alt)\n",
    "plt.plot([0, -1], [0, 1], '--')\n",
    "\n",
    "plt.figure()\n",
    "rootlocus(G_throttle_to_alt*H_throttle_to_alt)\n",
    "plt.xlim([-1.2, 0])\n",
    "plt.plot([0, -1], [0, 1], '--')\n",
    "\n",
    "Gc_throttle_to_alt = G_throttle_to_alt*H_throttle_to_alt/(1 + G_throttle_to_alt*H_throttle_to_alt)\n",
    "\n",
    "plt.figure()\n",
    "step_size = 10\n",
    "t, y = control.step_response(step_size*Gc_throttle_to_alt, T=np.linspace(0, 40, 1000))\n",
    "plt.plot(t, y)\n",
    "plt.xlabel('t, sec')\n",
    "plt.ylabel('altitude, ft')\n",
    "plt.title('output')\n",
    "\n",
    "plt.figure()\n",
    "# error computed in ft\n",
    "e = step_size-y\n",
    "t, u, _= control.forced_response(H_throttle_to_alt, T=t, U=e)\n",
    "plt.hlines([-0.1, 0.1], t[0], t[-1], linestyles='dashed')\n",
    "plt.plot(t, u)\n",
    "plt.xlabel('t, sec')\n",
    "plt.ylabel('throtle %')\n",
    "plt.title('input')\n",
    "\n",
    "plt.figure()\n",
    "control.nyquist(Gc_throttle_to_alt, omega=np.logspace(-3, 3, 1000))\n",
    "\n",
    "plt.figure(figsize=(15, 7))\n",
    "control.gangof4(G_throttle_to_alt, H_throttle_to_alt, Hz=True, dB=True)\n",
    "\n",
    "\n",
    "gm, pm, wg, wp = control.margin(Gc_throttle_to_alt)\n",
    "print('gain margin: ', gm)\n",
    "print('phase margin (in degrees): ', pm)\n",
    "print('Frequency for gain margin (at phase crossover, phase = -180 degrees): ', wg)\n",
    "print('Frequency for phase margin (at gain crossover, gain = 1): ', wp)"
   ]
  }
 ],
 "metadata": {
  "kernelspec": {
   "display_name": "Python 3",
   "language": "python",
   "name": "python3"
  },
  "language_info": {
   "codemirror_mode": {
    "name": "ipython",
    "version": 3
   },
   "file_extension": ".py",
   "mimetype": "text/x-python",
   "name": "python",
   "nbconvert_exporter": "python",
   "pygments_lexer": "ipython3",
   "version": "3.8.5"
  },
  "metadata": {
   "interpreter": {
    "hash": "f1b82cffc61be27678f1d47a128eaa4a669f389d3430f480176844fbc028fe63"
   }
  }
 },
 "nbformat": 4,
 "nbformat_minor": 5
}
