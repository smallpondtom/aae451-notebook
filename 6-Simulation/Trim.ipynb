{
 "cells": [
  {
   "cell_type": "code",
   "execution_count": 1,
   "metadata": {},
   "outputs": [],
   "source": [
    "import matplotlib.pyplot as plt\n",
    "import numpy as np\n",
    "import pandas as pd\n",
    "import matplotlib.pyplot as plt\n",
    "\n",
    "from jsbsim_utils import Logger, trim, simulate"
   ]
  },
  {
   "cell_type": "markdown",
   "metadata": {},
   "source": [
    "Nonlinear-dynamics of aircraft\n",
    "\n",
    "$$\\dot{x} = f(x, u)$$\n",
    "\n",
    "Find equilibrium:\n",
    "\n",
    "Minimize $\\dot{x}$, or a subset for your problem, by changeing $x_0$, $u_0$\n",
    "\n",
    "$$0 = f(x_0, u_0)$$\n",
    "\n",
    "This is an optimization problem.\n",
    "\n",
    "* Matlab: fmincon, fminsearch\n",
    "* Python: scipy.minimize (Nelder-Mead, SLSQP)\n",
    "\n",
    "Can simplify this problem with mixing matrices, to decouple the dynamcis into SISO (single-input-single output) systems."
   ]
  },
  {
   "cell_type": "markdown",
   "metadata": {},
   "source": [
    "Due to Taylor series error on the order of (dx^2). We know the linear model approx, does well near the equilibrium point. "
   ]
  },
  {
   "cell_type": "markdown",
   "metadata": {},
   "source": [
    "$\\dot{\\vec{x}} = \\vec{f}(x, u) = A \\vec{x} + B \\vec{u}$\n",
    "\n",
    "$\\dot{\\vec{y}} = C \\vec{x} + D \\vec{u}$\n",
    "\n",
    "\n",
    "$A = \\dfrac{\\delta \\vec{f}(x0, u0)}{\\delta \\vec{x}}$\n",
    "\n",
    "$B = \\dfrac{\\delta \\vec{f}(x0, u0)}{\\delta \\vec{u}}$\n",
    "\n",
    "$C = \\dfrac{\\delta \\vec{y}(x0, u0)}{\\delta \\vec{x}}$\n",
    "\n",
    "$D = \\dfrac{\\delta \\vec{y}(x0, u0)}{\\delta \\vec{u}}$"
   ]
  },
  {
   "cell_type": "code",
   "execution_count": 20,
   "metadata": {},
   "outputs": [
    {
     "name": "stdout",
     "output_type": "stream",
     "text": [
      " final_simplex: (array([[-1.0059236 , 15.12093773],\n",
      "       [-1.00564469, 15.12101987],\n",
      "       [-0.99691329, 15.06622395]]), array([13.23708335, 13.61643782, 13.70017978]))\n",
      "           fun: 13.23708335074956\n",
      "       message: 'Maximum number of function evaluations has been exceeded.'\n",
      "          nfev: 400\n",
      "           nit: 209\n",
      "        status: 1\n",
      "       success: False\n",
      "             x: array([-1.0059236 , 15.12093773])\n"
     ]
    },
    {
     "data": {
      "text/plain": [
       "{'ic/vt-fps': 0,\n",
       " 'gear/gear-cmd-norm': 1,\n",
       " 'propulsion/engine/pitch-angle-rad': 0.0,\n",
       " 'fcs/throttle-cmd-norm': 0,\n",
       " 'fcs/aileron-cmd-norm': 0,\n",
       " 'fcs/elevator-cmd-norm': 0,\n",
       " 'fcs/rudder-cmd-norm': 0,\n",
       " 'fcs/left-brake-cmd-norm': 1,\n",
       " 'fcs/right-brake-cmd-norm': 1,\n",
       " 'fcs/center-brake-cmd-norm': 1,\n",
       " 'ic/theta-rad': -1.0059235961549478,\n",
       " 'ic/h-agl-ft': 15.120937726357802}"
      ]
     },
     "execution_count": 20,
     "metadata": {},
     "output_type": "execute_result"
    }
   ],
   "source": [
    "op_ground, fdm = trim(\n",
    "    aircraft='F-35B-2',\n",
    "    ic={\n",
    "        'ic/vt-fps': 0,\n",
    "        'gear/gear-cmd-norm': 1,\n",
    "        'propulsion/engine/pitch-angle-rad': np.deg2rad(0),\n",
    "        'fcs/throttle-cmd-norm': 0,\n",
    "        'fcs/aileron-cmd-norm': 0,\n",
    "        'fcs/elevator-cmd-norm': 0,\n",
    "        'fcs/rudder-cmd-norm': 0,\n",
    "        'fcs/left-brake-cmd-norm': 1,\n",
    "        'fcs/right-brake-cmd-norm': 1,\n",
    "        'fcs/center-brake-cmd-norm': 1,\n",
    "    },\n",
    "    design_vector=['ic/theta-rad', 'ic/h-agl-ft'],\n",
    "    x0=[0, 0],\n",
    "    verbose=True,\n",
    "    method='Nelder-Mead', # works better with ground interaction\n",
    "    tol=1e-12,\n",
    ")\n",
    "op_ground"
   ]
  },
  {
   "cell_type": "code",
   "execution_count": 3,
   "metadata": {},
   "outputs": [],
   "source": [
    "log_ground = simulate(\n",
    "    aircraft='F-35B-2',\n",
    "    op_0=op_ground,\n",
    "    tf=5,\n",
    "    realtime=True)"
   ]
  },
  {
   "cell_type": "code",
   "execution_count": 4,
   "metadata": {},
   "outputs": [
    {
     "data": {
      "text/plain": [
       "False"
      ]
     },
     "execution_count": 4,
     "metadata": {},
     "output_type": "execute_result"
    }
   ],
   "source": [
    "fdm.resume_integration()\n",
    "fdm.get_propulsion().get_steady_state()"
   ]
  },
  {
   "cell_type": "code",
   "execution_count": 5,
   "metadata": {},
   "outputs": [
    {
     "ename": "NameError",
     "evalue": "name 'log_ground' is not defined",
     "output_type": "error",
     "traceback": [
      "\u001b[1;31m---------------------------------------------------------------------------\u001b[0m",
      "\u001b[1;31mNameError\u001b[0m                                 Traceback (most recent call last)",
      "\u001b[1;32m<ipython-input-5-25511bf2e008>\u001b[0m in \u001b[0;36m<module>\u001b[1;34m\u001b[0m\n\u001b[1;32m----> 1\u001b[1;33m \u001b[0mlog_ground\u001b[0m\u001b[1;33m[\u001b[0m\u001b[1;34m'propulsion/engine/thrust-lbs'\u001b[0m\u001b[1;33m]\u001b[0m\u001b[1;33m.\u001b[0m\u001b[0mplot\u001b[0m\u001b[1;33m(\u001b[0m\u001b[1;33m)\u001b[0m\u001b[1;33m\u001b[0m\u001b[1;33m\u001b[0m\u001b[0m\n\u001b[0m",
      "\u001b[1;31mNameError\u001b[0m: name 'log_ground' is not defined"
     ]
    }
   ],
   "source": [
    "log_ground['propulsion/engine/thrust-lbs'].plot()"
   ]
  },
  {
   "cell_type": "code",
   "execution_count": 8,
   "metadata": {},
   "outputs": [
    {
     "name": "stdout",
     "output_type": "stream",
     "text": [
      "      fun: 976.470556143168\n",
      " hess_inv: <3x3 LbfgsInvHessProduct with dtype=float64>\n",
      "      jac: array([0.00000000e+00, 1.13686838e-05, 2.27373677e-05])\n",
      "  message: b'CONVERGENCE: REL_REDUCTION_OF_F_<=_FACTR*EPSMCH'\n",
      "     nfev: 52\n",
      "      nit: 8\n",
      "     njev: 13\n",
      "   status: 0\n",
      "  success: True\n",
      "        x: array([0.43462495, 0.4576396 , 1.91095936])\n"
     ]
    },
    {
     "data": {
      "text/plain": [
       "{'ic/h-agl-ft': 10,\n",
       " 'ic/vd-fps': 0,\n",
       " 'ic/vn-fps': 0.0,\n",
       " 'ic/ve-fps': -0.0,\n",
       " 'ic/theta-rad': 0,\n",
       " 'gear/gear-cmd-norm': 1,\n",
       " 'fcs/left-brake-cmd-norm': 0,\n",
       " 'fcs/right-brake-cmd-norm': 0,\n",
       " 'fcs/center-brake-cmd-norm': 0,\n",
       " 'fcs/throttle-cmd-norm': 0.434624948283874,\n",
       " 'fcs/elevator-cmd-norm': 0.45763959858454034,\n",
       " 'propulsion/engine/pitch-angle-rad': 1.910959355359848}"
      ]
     },
     "execution_count": 8,
     "metadata": {},
     "output_type": "execute_result"
    }
   ],
   "source": [
    "op_hover, fdm = trim(\n",
    "    aircraft='F-35B-2',\n",
    "    ic={\n",
    "        'ic/h-agl-ft': 10,\n",
    "        'ic/vd-fps': 0,\n",
    "        'ic/vn-fps': 0*np.cos(np.deg2rad(280)),\n",
    "        'ic/ve-fps': 0*np.sin(np.deg2rad(280)),\n",
    "        'ic/theta-rad': 0,\n",
    "        'gear/gear-cmd-norm': 1,\n",
    "        'fcs/left-brake-cmd-norm': 0,\n",
    "        'fcs/right-brake-cmd-norm': 0,\n",
    "        'fcs/center-brake-cmd-norm': 0,\n",
    "    },\n",
    "    design_vector=[\n",
    "        'fcs/throttle-cmd-norm',\n",
    "        'fcs/elevator-cmd-norm',\n",
    "        'propulsion/engine/pitch-angle-rad',\n",
    "    ],\n",
    "    x0=[0.1, 0, np.deg2rad(90)],\n",
    "    verbose=True,\n",
    "    bounds=[[0, 1], [-1, 1], [np.deg2rad(0), np.deg2rad(120)]],\n",
    "    tol=1e-12\n",
    ")\n",
    "op_hover"
   ]
  },
  {
   "cell_type": "code",
   "execution_count": null,
   "metadata": {},
   "outputs": [],
   "source": [
    "log_hover = simulate(\n",
    "    aircraft='F-35B-2',\n",
    "    op_0=op_hover,\n",
    "    tf=5,\n",
    "    realtime=True)"
   ]
  },
  {
   "cell_type": "code",
   "execution_count": 19,
   "metadata": {},
   "outputs": [
    {
     "name": "stdout",
     "output_type": "stream",
     "text": [
      "      fun: 28.459675050608247\n",
      " hess_inv: <7x7 LbfgsInvHessProduct with dtype=float64>\n",
      "      jac: array([ 0.00000000e+00, -8.52651283e-06,  8.52651283e-06, -1.20792265e-05,\n",
      "       -1.73017156e-04, -4.72510919e-05, -9.66546244e+00])\n",
      "  message: b'CONVERGENCE: REL_REDUCTION_OF_F_<=_FACTR*EPSMCH'\n",
      "     nfev: 696\n",
      "      nit: 70\n",
      "     njev: 87\n",
      "   status: 0\n",
      "  success: True\n",
      "        x: array([ 0.        , -0.11560848,  0.00944567, -0.00883325,  0.0185561 ,\n",
      "        0.00266083,  2.0943951 ])\n"
     ]
    },
    {
     "data": {
      "text/plain": [
       "{'ic/gamma-rad': 0,\n",
       " 'ic/vt-fps': 677,\n",
       " 'ic/h-agl-ft': 38000.0,\n",
       " 'gear/gear-cmd-norm': 0,\n",
       " 'fcs/left-brake-cmd-norm': 0,\n",
       " 'fcs/right-brake-cmd-norm': 0,\n",
       " 'fcs/center-brake-cmd-norm': 0,\n",
       " 'fcs/throttle-cmd-norm': 0.0,\n",
       " 'fcs/elevator-cmd-norm': -0.11560847932665222,\n",
       " 'fcs/rudder-cmd-norm': 0.009445666319407357,\n",
       " 'fcs/aileron-cmd-norm': -0.008833250125881357,\n",
       " 'ic/alpha-rad': 0.01855609959041754,\n",
       " 'ic/beta-rad': 0.0026608335566760525,\n",
       " 'propulsion/engine/pitch-angle-rad': 2.0943951023931953}"
      ]
     },
     "execution_count": 19,
     "metadata": {},
     "output_type": "execute_result"
    }
   ],
   "source": [
    "def cost_cruise(fdm):\n",
    "    # modify cost to also penalize throttle\n",
    "    delta = fdm['propulsion/engine/pitch-angle-rad']\n",
    "    theta = fdm['attitude/theta-rad']\n",
    "    drag = fdm['forces/fwx-aero-lbs']\n",
    "    lift = fdm['forces/fwz-aero-lbs']\n",
    "    alpha = fdm['aero/alpha-rad']\n",
    "    throttle = fdm['fcs/throttle-cmd-norm']\n",
    "    \n",
    "    udot = fdm['accelerations/udot-ft_sec2']\n",
    "    vdot = fdm['accelerations/vdot-ft_sec2']\n",
    "    wdot = fdm['accelerations/wdot-ft_sec2']\n",
    "    pdot = fdm['accelerations/pdot-rad_sec2']\n",
    "    qdot = fdm['accelerations/qdot-rad_sec2']\n",
    "    rdot = fdm['accelerations/rdot-rad_sec2']\n",
    "    return udot**2 + vdot**2 + wdot**2 + pdot**2 + qdot**2 + rdot**2 - 1e-3*(lift/drag)**2 + 1e-3*(theta < 0) + 1e-3*throttle**2\n",
    "        \n",
    "op_cruise, fdm = trim(\n",
    "    aircraft='F-35B-2',\n",
    "    ic={\n",
    "        'ic/gamma-rad': 0,\n",
    "        'ic/vt-fps': 677,\n",
    "        'ic/h-agl-ft': 38*1e3,\n",
    "        'gear/gear-cmd-norm': 0,\n",
    "        'fcs/left-brake-cmd-norm': 0,\n",
    "        'fcs/right-brake-cmd-norm': 0,\n",
    "        'fcs/center-brake-cmd-norm': 0,\n",
    "        #'propulsion/engine/pitch-angle-rad': 0,\n",
    "    },\n",
    "    design_vector=[\n",
    "        'fcs/throttle-cmd-norm',\n",
    "        'fcs/elevator-cmd-norm',\n",
    "        'fcs/rudder-cmd-norm',\n",
    "        'fcs/aileron-cmd-norm',\n",
    "        'ic/alpha-rad',\n",
    "        'ic/beta-rad',\n",
    "        'propulsion/engine/pitch-angle-rad',\n",
    "    ],\n",
    "    cost=cost_cruise,\n",
    "    x0=[0.7, 0, 0, 0, 0, 0, 0],\n",
    "    verbose=True,\n",
    "    bounds=[[0, 1], [-1, 1], [-1, 1], [-1, 1], [-1, 1], [-1, 1], [np.deg2rad(0), np.deg2rad(120)]],\n",
    "    tol=1e-12,\n",
    ")\n",
    "op_cruise"
   ]
  },
  {
   "cell_type": "code",
   "execution_count": 7,
   "metadata": {},
   "outputs": [
    {
     "ename": "NameError",
     "evalue": "name 'op_cruise' is not defined",
     "output_type": "error",
     "traceback": [
      "\u001b[1;31m---------------------------------------------------------------------------\u001b[0m",
      "\u001b[1;31mNameError\u001b[0m                                 Traceback (most recent call last)",
      "\u001b[1;32m<ipython-input-7-148d1edb2058>\u001b[0m in \u001b[0;36m<module>\u001b[1;34m\u001b[0m\n\u001b[0;32m      1\u001b[0m log_cruise = simulate(\n\u001b[0;32m      2\u001b[0m     \u001b[0maircraft\u001b[0m\u001b[1;33m=\u001b[0m\u001b[1;34m'F-35B-2'\u001b[0m\u001b[1;33m,\u001b[0m\u001b[1;33m\u001b[0m\u001b[1;33m\u001b[0m\u001b[0m\n\u001b[1;32m----> 3\u001b[1;33m     \u001b[0mop_0\u001b[0m\u001b[1;33m=\u001b[0m\u001b[0mop_cruise\u001b[0m\u001b[1;33m,\u001b[0m\u001b[1;33m\u001b[0m\u001b[1;33m\u001b[0m\u001b[0m\n\u001b[0m\u001b[0;32m      4\u001b[0m     \u001b[0mtf\u001b[0m\u001b[1;33m=\u001b[0m\u001b[1;36m5\u001b[0m\u001b[1;33m,\u001b[0m\u001b[1;33m\u001b[0m\u001b[1;33m\u001b[0m\u001b[0m\n\u001b[0;32m      5\u001b[0m     realtime=True)\n",
      "\u001b[1;31mNameError\u001b[0m: name 'op_cruise' is not defined"
     ]
    }
   ],
   "source": [
    "log_cruise = simulate(\n",
    "    aircraft='F-35B-2',\n",
    "    op_0=op_cruise,\n",
    "    tf=5,\n",
    "    realtime=True)"
   ]
  },
  {
   "cell_type": "code",
   "execution_count": null,
   "metadata": {},
   "outputs": [],
   "source": []
  }
 ],
 "metadata": {
  "kernelspec": {
   "display_name": "Python 3",
   "language": "python",
   "name": "python3"
  },
  "language_info": {
   "codemirror_mode": {
    "name": "ipython",
    "version": 3
   },
   "file_extension": ".py",
   "mimetype": "text/x-python",
   "name": "python",
   "nbconvert_exporter": "python",
   "pygments_lexer": "ipython3",
   "version": "3.8.5"
  }
 },
 "nbformat": 4,
 "nbformat_minor": 5
}
