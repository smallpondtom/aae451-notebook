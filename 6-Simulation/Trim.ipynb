{
 "cells": [
  {
   "cell_type": "code",
   "execution_count": 14,
   "metadata": {},
   "outputs": [],
   "source": [
    "%load_ext autoreload\n",
    "%autoreload 2\n",
    "# pull in new changes to python modules without having to restart notebook\n",
    "\n",
    "import matplotlib.pyplot as plt\n",
    "import numpy as np\n",
    "import pandas as pd\n",
    "import matplotlib.pyplot as plt\n",
    "import json \n",
    "from jsbsim_utils import Logger, trim, simulate, linearize, rootlocus, clean_tf"
   ]
  },
  {
   "cell_type": "code",
   "execution_count": 15,
   "metadata": {},
   "outputs": [],
   "source": [
    "all_data = dict()"
   ]
  },
  {
   "cell_type": "markdown",
   "metadata": {},
   "source": [
    "Nonlinear-dynamics of aircraft\n",
    "\n",
    "$$\\dot{x} = f(x, u)$$\n",
    "\n",
    "Find equilibrium:\n",
    "\n",
    "Minimize $\\dot{x}$, or a subset for your problem, by changeing $x_0$, $u_0$\n",
    "\n",
    "$$0 = f(x_0, u_0)$$\n",
    "\n",
    "This is an optimization problem.\n",
    "\n",
    "* Matlab: fmincon, fminsearch\n",
    "* Python: scipy.minimize (Nelder-Mead, SLSQP)\n",
    "\n",
    "Can simplify this problem with mixing matrices, to decouple the dynamcis into SISO (single-input-single output) systems."
   ]
  },
  {
   "cell_type": "markdown",
   "metadata": {},
   "source": [
    "Due to Taylor series error on the order of (dx^2). We know the linear model approx, does well near the equilibrium point. "
   ]
  },
  {
   "cell_type": "markdown",
   "metadata": {},
   "source": [
    "$\\dot{\\vec{x}} = \\vec{f}(x, u) = A \\vec{x} + B \\vec{u}$\n",
    "\n",
    "$\\dot{\\vec{y}} = C \\vec{x} + D \\vec{u}$\n",
    "\n",
    "\n",
    "$A = \\dfrac{\\delta \\vec{f}(x0, u0)}{\\delta \\vec{x}}$\n",
    "\n",
    "$B = \\dfrac{\\delta \\vec{f}(x0, u0)}{\\delta \\vec{u}}$\n",
    "\n",
    "$C = \\dfrac{\\delta \\vec{y}(x0, u0)}{\\delta \\vec{x}}$\n",
    "\n",
    "$D = \\dfrac{\\delta \\vec{y}(x0, u0)}{\\delta \\vec{u}}$"
   ]
  },
  {
   "cell_type": "markdown",
   "metadata": {},
   "source": [
    "## Ground Trimming "
   ]
  },
  {
   "cell_type": "code",
   "execution_count": 16,
   "metadata": {},
   "outputs": [
    {
     "name": "stdout",
     "output_type": "stream",
     "text": [
      " final_simplex: (array([[0.00752277, 3.11212156],\n",
      "       [0.00748106, 3.11221532],\n",
      "       [0.00754464, 3.11216313]]), array([4.51973002e-06, 8.14117197e-06, 1.67505423e-05]))\n",
      "           fun: 4.519730024921744e-06\n",
      "       message: 'Optimization terminated successfully.'\n",
      "          nfev: 80\n",
      "           nit: 43\n",
      "        status: 0\n",
      "       success: True\n",
      "             x: array([0.00752277, 3.11212156])\n",
      " final_simplex: (array([[0.00752277, 3.11212156],\n",
      "       [0.00748106, 3.11221532],\n",
      "       [0.00754464, 3.11216313]]), array([4.51973002e-06, 8.14117197e-06, 1.67505423e-05]))\n",
      "           fun: 4.519730024921744e-06\n",
      "       message: 'Optimization terminated successfully.'\n",
      "          nfev: 80\n",
      "           nit: 43\n",
      "        status: 0\n",
      "       success: True\n",
      "             x: array([0.00752277, 3.11212156])\n",
      "{'ic/vt-fps': 0, 'ic/psi-true-deg': 280, 'ap/gear-enable': 1, 'fcs/left-brake-cmd-norm': 1, 'fcs/right-brake-cmd-norm': 1, 'fcs/center-brake-cmd-norm': 1, 'ic/theta-rad': 0.007522769802197068, 'ic/h-agl-ft': 3.1121215601541055}\n",
      "{'forces/fbz-aero-lbs': -0.0, 'forces/fbz-weight-lbs': 11358.889135720807, 'forces/fbz-total-lbs': -57634.20787943273, 'forces/fbz-gear-lbs': -57634.20787943273, 'forces/fbz-prop-lbs': 0.0}\n",
      "{'forces/fbz-aero-lbs': -0.0, 'forces/fbz-weight-lbs': 11358.590010803779, 'forces/fbz-total-lbs': -11336.041172343454, 'forces/fbz-gear-lbs': -11336.041172343454, 'forces/fbz-prop-lbs': 0.0}\n"
     ]
    }
   ],
   "source": [
    "ct = 0\n",
    "temp = []\n",
    "def cost_ground(fdm):\n",
    "    # modify cost to also penalize throttle   \n",
    "    udot = fdm['accelerations/udot-ft_sec2']\n",
    "    vdot = fdm['accelerations/vdot-ft_sec2']\n",
    "    wdot = fdm['accelerations/wdot-ft_sec2']\n",
    "    pdot = fdm['accelerations/pdot-rad_sec2']\n",
    "    qdot = fdm['accelerations/qdot-rad_sec2']\n",
    "    rdot = fdm['accelerations/rdot-rad_sec2']\n",
    "    temp.append(fdm.get_property_catalog('fbz'))\n",
    "    return udot**2 + vdot**2 + wdot**2 + pdot**2 + qdot**2 + rdot**2  \n",
    "        \n",
    "op_ground, props, res = trim(\n",
    "    aircraft='F-35B-2',\n",
    "    ic={\n",
    "          'ic/vt-fps': 0,\n",
    "          'ic/psi-true-deg': 280,\n",
    "          'ap/gear-enable': 1,\n",
    "          'fcs/left-brake-cmd-norm': 1,\n",
    "          'fcs/right-brake-cmd-norm': 1,\n",
    "          'fcs/center-brake-cmd-norm': 1,\n",
    "#         'ic/vt-fps': 0,\n",
    "#         'gear/gear-cmd-norm': 1,\n",
    "#         'propulsion/engine/pitch-angle-rad': np.deg2rad(0),\n",
    "#         'fcs/throttle-cmd-norm': 0,\n",
    "#         'fcs/aileron-cmd-norm': 0,\n",
    "#         'fcs/elevator-cmd-norm': 0,\n",
    "#         'fcs/rudder-cmd-norm': 0,\n",
    "#         'fcs/left-brake-cmd-norm': 1,\n",
    "#         'fcs/right-brake-cmd-norm': 1,\n",
    "#         'fcs/center-brake-cmd-norm': 1,\n",
    "    },\n",
    "    design_vector=['ic/theta-rad', 'ic/h-agl-ft'],\n",
    "    x0=[0, 0.31], # Initial guess for design_vec\n",
    "    verbose=True,\n",
    "    method='Nelder-Mead', # works better with ground interaction\n",
    "    tol=1e-12,\n",
    "    #bounds=[[np.deg2rad(-40), np.deg2rad(40)], [0, 20]],\n",
    "    cost=cost_ground,\n",
    ")\n",
    "\n",
    "print(res)\n",
    "print(op_ground)\n",
    "print(temp[0])\n",
    "print(temp[-1])\n",
    "\n",
    "data = dict()\n",
    "data['res'] = res\n",
    "data['op_ground'] = op_ground\n",
    "data['fbz_initial'] = temp[0]\n",
    "data['fbz_final'] = temp[-1]\n",
    "all_data = dict()\n",
    "all_data['groundTrim'] = data"
   ]
  },
  {
   "cell_type": "code",
   "execution_count": 17,
   "metadata": {},
   "outputs": [
    {
     "name": "stdout",
     "output_type": "stream",
     "text": [
      "warning: LOW FUEL 2.09 lbs, restart simulation\n"
     ]
    }
   ],
   "source": [
    "log_ground = simulate(\n",
    "    aircraft='F-35B-2',\n",
    "    op_0=op_ground,\n",
    "    tf=5,\n",
    "    realtime=True)"
   ]
  },
  {
   "cell_type": "code",
   "execution_count": 18,
   "metadata": {},
   "outputs": [
    {
     "data": {
      "text/plain": [
       "Text(0, 0.5, 'ft, altitude')"
      ]
     },
     "execution_count": 18,
     "metadata": {},
     "output_type": "execute_result"
    },
    {
     "data": {
      "image/png": "[encoded data removed]",
      "text/plain": [
       "<Figure size 432x288 with 1 Axes>"
      ]
     },
     "metadata": {
      "needs_background": "light"
     },
     "output_type": "display_data"
    }
   ],
   "source": [
    "log_ground['position/h-agl-ft'].plot()\n",
    "plt.grid(True)\n",
    "plt.ylabel('ft, altitude')"
   ]
  },
  {
   "cell_type": "code",
   "execution_count": 19,
   "metadata": {},
   "outputs": [
    {
     "data": {
      "text/plain": [
       "Text(0, 0.5, 'deg, aircraft pitch')"
      ]
     },
     "execution_count": 19,
     "metadata": {},
     "output_type": "execute_result"
    },
    {
     "data": {
      "image/png": "[encoded data removed]",
      "text/plain": [
       "<Figure size 432x288 with 1 Axes>"
      ]
     },
     "metadata": {
      "needs_background": "light"
     },
     "output_type": "display_data"
    }
   ],
   "source": [
    "log_ground['attitude/theta-deg'].plot()\n",
    "plt.grid(True)\n",
    "plt.ylabel('deg, aircraft pitch')"
   ]
  },
  {
   "cell_type": "code",
   "execution_count": 10,
   "metadata": {},
   "outputs": [],
   "source": [
    "#fdm.resume_integration()\n",
    "#fdm.get_propulsion().get_steady_state()"
   ]
  },
  {
   "cell_type": "markdown",
   "metadata": {},
   "source": [
    "## Hover Trimming"
   ]
  },
  {
   "cell_type": "code",
   "execution_count": 34,
   "metadata": {},
   "outputs": [
    {
     "name": "stdout",
     "output_type": "stream",
     "text": [
      "     fun: 0.9293618671566662\n",
      "     jac: array([1., 0., 0., 0., 0., 0.])\n",
      " message: 'Optimization terminated successfully'\n",
      "    nfev: 22\n",
      "     nit: 3\n",
      "    njev: 3\n",
      "  status: 0\n",
      " success: True\n",
      "       x: array([0.92936187, 0.71734941, 1.57079634, 1.57079635, 1.57079634,\n",
      "       1.57079634])\n",
      "constraint eq 9.185534277644791e-14\n",
      "constraint eq -3.04751779367507e-11\n",
      "constraint eq 2.551709053638221e-12\n",
      "{'ic/h-sl-ft': 650, 'ic/vt-fps': 0, 'ic/psi-true-deg': 280, 'ap/gear-enable': 1, 'fcs/throttle-cmd-norm': 0.9293618671566662, 'fcs/elevator-cmd-norm': 0.7173494106040665, 'propulsion/engine/pitch-angle-rad': 1.5707963395774596, 'propulsion/engine[1]/pitch-angle-rad': 1.5707963455541043, 'propulsion/engine[2]/pitch-angle-rad': 1.5707963395774596, 'propulsion/engine[3]/pitch-angle-rad': 1.5707963384164711}\n"
     ]
    }
   ],
   "source": [
    "op_hover, props, res = trim(\n",
    "    aircraft='F-35B-2',\n",
    "    ic={  \n",
    "          'ic/h-sl-ft': 650,\n",
    "          'ic/vt-fps': 0,\n",
    "          'ic/psi-true-deg': 280,\n",
    "          'ap/gear-enable': 1,\n",
    "#         'ic/h-agl-ft': 10,\n",
    "#         'ic/vd-fps': 0,\n",
    "#         'ic/vn-fps': 0*np.cos(np.deg2rad(280)),\n",
    "#         'ic/ve-fps': 0*np.sin(np.deg2rad(280)),\n",
    "#         'ic/theta-rad': 0,\n",
    "#         'gear/gear-cmd-norm': 1,\n",
    "#         'fcs/left-brake-cmd-norm': 0,\n",
    "#         'fcs/right-brake-cmd-norm': 0,\n",
    "#         'fcs/center-brake-cmd-norm': 0,\n",
    "    },\n",
    "    eq_constraints = [\n",
    "        lambda fdm: fdm['accelerations/udot-ft_sec2'],\n",
    "        #lambda fdm: fdm['accelerations/vdot-ft_sec2'],\n",
    "        lambda fdm: fdm['accelerations/wdot-ft_sec2'],\n",
    "        #lambda fdm: fdm['accelerations/pdot-rad_sec2'],\n",
    "        lambda fdm: fdm['accelerations/qdot-rad_sec2'],\n",
    "        #lambda fdm: fdm['accelerations/rdot-rad_sec2'],\n",
    "    ],\n",
    "    design_vector=[\n",
    "        'fcs/throttle-cmd-norm',\n",
    "        'fcs/elevator-cmd-norm',\n",
    "        'propulsion/engine/pitch-angle-rad',\n",
    "        'propulsion/engine[1]/pitch-angle-rad',\n",
    "        'propulsion/engine[2]/pitch-angle-rad',\n",
    "        'propulsion/engine[3]/pitch-angle-rad',\n",
    "    ],\n",
    "#     design_vector=[\n",
    "#         'fcs/throttle-cmd-norm',\n",
    "#         'fcs/elevator-cmd-norm',\n",
    "#         'propulsion/engine/pitch-angle-rad',\n",
    "#         'propulsion/engine[1]/pitch-angle-rad',\n",
    "#         'propulsion/engine[2]/pitch-angle-rad',\n",
    "#         'propulsion/engine[3]/pitch-angle-rad',\n",
    "#     ],\n",
    "    x0=[0.9, 0.5, np.deg2rad(90), np.deg2rad(90), np.deg2rad(90), np.deg2rad(90)], # In\n",
    "    cost= lambda fdm: fdm['fcs/throttle-cmd-norm'],\n",
    "    verbose=True,\n",
    "    method='SLSQP',\n",
    "    bounds=[[0, 1], [-1, 1], [np.deg2rad(0), np.deg2rad(120)], \n",
    "           [np.deg2rad(0), np.deg2rad(120)],\n",
    "           [np.deg2rad(0), np.deg2rad(120)],\n",
    "           [np.deg2rad(0), np.deg2rad(120)]],\n",
    "    tol=1e-12\n",
    ")\n",
    "\n",
    "print(op_hover)\n",
    "data1 = dict()\n",
    "data1['res'] = res\n",
    "data1['op_hover'] = op_hover\n",
    "all_data['hoverTrim'] = data1"
   ]
  },
  {
   "cell_type": "code",
   "execution_count": 35,
   "metadata": {},
   "outputs": [],
   "source": [
    "log_hover = simulate(\n",
    "    aircraft='F-35B-2',\n",
    "    op_0=op_hover,\n",
    "    tf=5,\n",
    "    realtime=True)"
   ]
  },
  {
   "cell_type": "code",
   "execution_count": 36,
   "metadata": {},
   "outputs": [
    {
     "data": {
      "text/plain": [
       "Text(0, 0.5, 'ft, altitude')"
      ]
     },
     "execution_count": 36,
     "metadata": {},
     "output_type": "execute_result"
    },
    {
     "data": {
      "image/png": "[encoded data removed]",
      "text/plain": [
       "<Figure size 432x288 with 1 Axes>"
      ]
     },
     "metadata": {
      "needs_background": "light"
     },
     "output_type": "display_data"
    }
   ],
   "source": [
    "log_hover['position/h-agl-ft'].plot()\n",
    "plt.grid(True)\n",
    "plt.ylabel('ft, altitude')"
   ]
  },
  {
   "cell_type": "code",
   "execution_count": 37,
   "metadata": {},
   "outputs": [
    {
     "data": {
      "image/png": "[encoded data removed]",
      "text/plain": [
       "<Figure size 432x288 with 1 Axes>"
      ]
     },
     "metadata": {
      "needs_background": "light"
     },
     "output_type": "display_data"
    }
   ],
   "source": [
    "plt.subplot()\n",
    "log_hover['propulsion/engine/thrust-lbs'].plot()\n",
    "log_hover['propulsion/engine[1]/thrust-lbs'].plot()\n",
    "log_hover['propulsion/engine[2]/thrust-lbs'].plot()\n",
    "log_hover['propulsion/engine[3]/thrust-lbs'].plot()\n",
    "plt.grid(True)\n",
    "plt.legend(['rcp', 'rhp', 'lcp', 'lhp'])\n",
    "plt.ylabel('lbs, engine thrusts')\n",
    "plt.show()"
   ]
  },
  {
   "cell_type": "code",
   "execution_count": 38,
   "metadata": {},
   "outputs": [
    {
     "data": {
      "image/png": "[encoded data removed]",
      "text/plain": [
       "<Figure size 432x288 with 1 Axes>"
      ]
     },
     "metadata": {
      "needs_background": "light"
     },
     "output_type": "display_data"
    }
   ],
   "source": [
    "plt.subplot()\n",
    "log_hover['propulsion/engine/pitch-angle-rad'].plot()\n",
    "log_hover['propulsion/engine[1]/pitch-angle-rad'].plot()\n",
    "log_hover['propulsion/engine[2]/pitch-angle-rad'].plot()\n",
    "log_hover['propulsion/engine[3]/pitch-angle-rad'].plot()\n",
    "plt.grid(True)\n",
    "plt.legend(['rcp', 'rhp', 'lcp', 'lhp'])\n",
    "plt.ylabel('deg, engine pitch angle')\n",
    "plt.show()"
   ]
  },
  {
   "cell_type": "code",
   "execution_count": 42,
   "metadata": {},
   "outputs": [
    {
     "name": "stdout",
     "output_type": "stream",
     "text": [
      "warning: LOW FUEL 4.25 lbs, restart simulation\n"
     ]
    }
   ],
   "source": [
    "op_hover_auto = dict(op_hover)\n",
    "op_hover_auto['ic/theta-deg'] = 0\n",
    "op_hover_auto['ic/phi-deg'] = 0\n",
    "op_hover_auto['ic/h-agl-ft'] = 60\n",
    "\n",
    "op_hover_auto['ap/heading-cmd-deg'] = 280\n",
    "op_hover_auto['ap/gear-enable'] = 1\n",
    "op_hover_auto['ap/roll-enable'] = 0\n",
    "op_hover_auto['ap/pitch-enable'] = 1\n",
    "op_hover_auto['ap/yaw-enable'] = 0\n",
    "op_hover_auto['ap/h-enable'] = 1\n",
    "op_hover_auto['ap/h-sl-cmd-ft'] = 700\n",
    "\n",
    "log_hover_auto = simulate(\n",
    "    aircraft='F-35B-2',\n",
    "    op_0=op_hover_auto,\n",
    "    tf=50,\n",
    "    realtime=False)"
   ]
  },
  {
   "cell_type": "code",
   "execution_count": 43,
   "metadata": {},
   "outputs": [
    {
     "data": {
      "text/plain": [
       "<matplotlib.legend.Legend at 0x1a75eba3280>"
      ]
     },
     "execution_count": 43,
     "metadata": {},
     "output_type": "execute_result"
    },
    {
     "data": {
      "image/png": "[encoded data removed]",
      "text/plain": [
       "<Figure size 432x288 with 1 Axes>"
      ]
     },
     "metadata": {
      "needs_background": "light"
     },
     "output_type": "display_data"
    }
   ],
   "source": [
    "log_hover_auto['fcs/throttle-pos-norm'].plot(label='0')\n",
    "log_hover_auto['fcs/throttle-pos-norm[1]'].plot(label='1')\n",
    "log_hover_auto['fcs/throttle-pos-norm[2]'].plot(label='2')\n",
    "log_hover_auto['fcs/throttle-pos-norm[3]'].plot(label='3')\n",
    "\n",
    "plt.legend()"
   ]
  },
  {
   "cell_type": "markdown",
   "metadata": {},
   "source": [
    "## Cruise Trimming"
   ]
  },
  {
   "cell_type": "code",
   "execution_count": 52,
   "metadata": {},
   "outputs": [
    {
     "name": "stdout",
     "output_type": "stream",
     "text": [
      "     fun: 0.16673315207787176\n",
      "     jac: array([1., 0., 0., 0., 0., 0.])\n",
      " message: 'Optimization terminated successfully'\n",
      "    nfev: 36\n",
      "     nit: 5\n",
      "    njev: 5\n",
      "  status: 0\n",
      " success: True\n",
      "       x: array([0.16673315, 0.14031067, 0.00075739, 0.00022614, 0.02018319,\n",
      "       0.00122505])\n",
      "constraint eq 7.932099421736893e-12\n",
      "constraint eq 7.108341693040643e-13\n",
      "constraint eq -4.156675004196586e-12\n",
      "constraint eq 6.37390942161292e-14\n",
      "constraint eq -1.0761591720791191e-13\n",
      "constraint eq -2.1582568283586667e-13\n",
      "{'ic/gamma-rad': 0, 'ic/vt-fps': 677, 'ic/h-agl-ft': 38000.0, 'gear/gear-cmd-norm': 0, 'fcs/left-brake-cmd-norm': 0, 'fcs/right-brake-cmd-norm': 0, 'fcs/center-brake-cmd-norm': 0, 'propulsion/engine/pitch-angle-rad': 0, 'fcs/throttle-cmd-norm': 0.16673315207787176, 'fcs/elevator-cmd-norm': 0.14031067006746925, 'fcs/rudder-cmd-norm': 0.0007573899576671861, 'fcs/aileron-cmd-norm': 0.00022613538432062958, 'ic/alpha-rad': 0.020183191364411775, 'ic/beta-rad': 0.0012250540353381126}\n"
     ]
    }
   ],
   "source": [
    "def cost_cruise(fdm):\n",
    "    # modify cost to also penalize throttle\n",
    "    delta = fdm['propulsion/engine/pitch-angle-rad']\n",
    "    theta = fdm['attitude/theta-rad']\n",
    "    drag = fdm['forces/fwx-aero-lbs']\n",
    "    lift = fdm['forces/fwz-aero-lbs']\n",
    "    alpha = fdm['aero/alpha-rad']\n",
    "    throttle = fdm['fcs/throttle-cmd-norm']\n",
    "    \n",
    "    udot = fdm['accelerations/udot-ft_sec2']\n",
    "    vdot = fdm['accelerations/vdot-ft_sec2']\n",
    "    wdot = fdm['accelerations/wdot-ft_sec2']\n",
    "    pdot = fdm['accelerations/pdot-rad_sec2']\n",
    "    qdot = fdm['accelerations/qdot-rad_sec2']\n",
    "    rdot = fdm['accelerations/rdot-rad_sec2']\n",
    "    return udot**2 + vdot**2 + wdot**2 + pdot**2 + qdot**2 + rdot**2 - 1e-3*(lift/drag)**2 + 1e-3*(theta < 0) + 1e-1*throttle + 2e-1*delta**2 \n",
    "        \n",
    "\n",
    "op_cruise, prop, res = trim(\n",
    "    aircraft='F-35B-2',\n",
    "    ic={\n",
    "        'ic/gamma-rad': 0, # Probably flight path angle\n",
    "        'ic/vt-fps': 677,\n",
    "        'ic/h-agl-ft': 38*1e3,\n",
    "        'gear/gear-cmd-norm': 0,\n",
    "        'fcs/left-brake-cmd-norm': 0,\n",
    "        'fcs/right-brake-cmd-norm': 0,\n",
    "        'fcs/center-brake-cmd-norm': 0,\n",
    "        'propulsion/engine/pitch-angle-rad': 0,\n",
    "        'propulsion/engine[1]/pitch-angle-rad': 0,\n",
    "        'propulsion/engine[2]/pitch-angle-rad': 0,\n",
    "        'propulsion/engine[3]/pitch-angle-rad': 0,\n",
    "    },\n",
    "#     design_vector=[\n",
    "#         'fcs/throttle-cmd-norm',\n",
    "#         'fcs/elevator-cmd-norm',\n",
    "#         'fcs/rudder-cmd-norm',\n",
    "#         'fcs/aileron-cmd-norm',\n",
    "#         'ic/alpha-rad',\n",
    "#         'ic/beta-rad',\n",
    "#         'propulsion/engine/pitch-angle-rad',\n",
    "#     ],\n",
    "#     cost=cost_cruise,\n",
    "    \n",
    "    design_vector=[\n",
    "        'fcs/throttle-cmd-norm',\n",
    "        'fcs/elevator-cmd-norm',\n",
    "        'fcs/rudder-cmd-norm',\n",
    "        'fcs/aileron-cmd-norm',\n",
    "        'ic/alpha-rad',\n",
    "        'ic/beta-rad',\n",
    "    ],\n",
    "    method='SLSQP',\n",
    "    eq_constraints= [\n",
    "        lambda fdm: fdm['accelerations/udot-ft_sec2'],\n",
    "        lambda fdm: fdm['accelerations/vdot-ft_sec2'],\n",
    "        lambda fdm: fdm['accelerations/wdot-ft_sec2'],\n",
    "        lambda fdm: fdm['accelerations/pdot-rad_sec2'],\n",
    "        lambda fdm: fdm['accelerations/qdot-rad_sec2'],\n",
    "        lambda fdm: fdm['accelerations/rdot-rad_sec2'],\n",
    "    ],\n",
    "#     cost=lambda fdm: fdm['fcs/throttle-cmd-norm'],\n",
    "    cost=cost_cruise,\n",
    "    x0=[0.4, 0, 0, 0, 0, 0],\n",
    "    verbose=True,\n",
    "    bounds=[[0, 1], [-1, 1], [-1, 1], [-1, 1], [-1, 1], [-1, 1]],\n",
    "    tol=1e-12,\n",
    ")\n",
    "print(op_cruise)\n",
    "\n",
    "data2 = dict()\n",
    "data2['res'] = res\n",
    "data2['op_cruise'] = op_cruise\n",
    "\n",
    "all_data['cruiseTrim'] = data2"
   ]
  },
  {
   "cell_type": "code",
   "execution_count": 55,
   "metadata": {},
   "outputs": [],
   "source": [
    "log_cruise = simulate(\n",
    "    aircraft='F-35B-2',\n",
    "    op_0=op_cruise,\n",
    "    tf=10,\n",
    "    realtime=True)"
   ]
  },
  {
   "cell_type": "code",
   "execution_count": 56,
   "metadata": {},
   "outputs": [
    {
     "data": {
      "image/png": "[encoded data removed]",
      "text/plain": [
       "<Figure size 432x288 with 1 Axes>"
      ]
     },
     "metadata": {
      "needs_background": "light"
     },
     "output_type": "display_data"
    }
   ],
   "source": [
    "plt.subplot()\n",
    "log_cruise['propulsion/engine/pitch-angle-rad'].plot()\n",
    "log_cruise['propulsion/engine[1]/pitch-angle-rad'].plot()\n",
    "log_cruise['propulsion/engine[2]/pitch-angle-rad'].plot()\n",
    "log_cruise['propulsion/engine[3]/pitch-angle-rad'].plot()\n",
    "plt.grid(True)\n",
    "plt.legend(['rcp', 'rhp', 'lcp', 'lhp'])\n",
    "plt.ylabel('lb, pounds')\n",
    "plt.show()"
   ]
  },
  {
   "cell_type": "code",
   "execution_count": 57,
   "metadata": {},
   "outputs": [
    {
     "data": {
      "image/png": "[encoded data removed]",
      "text/plain": [
       "<Figure size 432x288 with 1 Axes>"
      ]
     },
     "metadata": {
      "needs_background": "light"
     },
     "output_type": "display_data"
    }
   ],
   "source": [
    "log_cruise['forces/fwx-aero-lbs'].plot()\n",
    "plt.ylabel('lbs, drag')\n",
    "plt.grid(True)"
   ]
  },
  {
   "cell_type": "code",
   "execution_count": 58,
   "metadata": {},
   "outputs": [
    {
     "data": {
      "text/plain": [
       "Text(0, 0.5, 'lbs, side-force')"
      ]
     },
     "execution_count": 58,
     "metadata": {},
     "output_type": "execute_result"
    },
    {
     "data": {
      "image/png": "[encoded data removed]",
      "text/plain": [
       "<Figure size 432x288 with 1 Axes>"
      ]
     },
     "metadata": {
      "needs_background": "light"
     },
     "output_type": "display_data"
    }
   ],
   "source": [
    "log_cruise['forces/fwy-aero-lbs'].plot()\n",
    "plt.grid(True)\n",
    "plt.ylabel('lbs, side-force')"
   ]
  },
  {
   "cell_type": "code",
   "execution_count": 59,
   "metadata": {},
   "outputs": [
    {
     "data": {
      "text/plain": [
       "Text(0, 0.5, 'lbs, lift')"
      ]
     },
     "execution_count": 59,
     "metadata": {},
     "output_type": "execute_result"
    },
    {
     "data": {
      "image/png": "[encoded data removed]",
      "text/plain": [
       "<Figure size 432x288 with 1 Axes>"
      ]
     },
     "metadata": {
      "needs_background": "light"
     },
     "output_type": "display_data"
    }
   ],
   "source": [
    "log_cruise['forces/fwz-aero-lbs'].plot()\n",
    "plt.grid(True)\n",
    "plt.ylabel('lbs, lift')"
   ]
  },
  {
   "cell_type": "code",
   "execution_count": 60,
   "metadata": {},
   "outputs": [
    {
     "data": {
      "image/png": "[encoded data removed]",
      "text/plain": [
       "<Figure size 432x288 with 1 Axes>"
      ]
     },
     "metadata": {
      "needs_background": "light"
     },
     "output_type": "display_data"
    }
   ],
   "source": [
    "log_cruise['aero/alpha-deg'].plot()\n",
    "plt.ylabel('deg, angle of attack')\n",
    "plt.grid(True)"
   ]
  },
  {
   "cell_type": "code",
   "execution_count": 61,
   "metadata": {},
   "outputs": [
    {
     "data": {
      "text/plain": [
       "Text(0, 0.5, 'deg, elevator angle')"
      ]
     },
     "execution_count": 61,
     "metadata": {},
     "output_type": "execute_result"
    },
    {
     "data": {
      "image/png": "[encoded data removed]",
      "text/plain": [
       "<Figure size 432x288 with 1 Axes>"
      ]
     },
     "metadata": {
      "needs_background": "light"
     },
     "output_type": "display_data"
    }
   ],
   "source": [
    "log_cruise['fcs/elevator-pos-deg'].plot()\n",
    "plt.grid(True)\n",
    "plt.ylabel('deg, elevator angle')"
   ]
  },
  {
   "cell_type": "code",
   "execution_count": 62,
   "metadata": {},
   "outputs": [
    {
     "data": {
      "image/png": "[encoded data removed]",
      "text/plain": [
       "<Figure size 432x288 with 1 Axes>"
      ]
     },
     "metadata": {
      "needs_background": "light"
     },
     "output_type": "display_data"
    }
   ],
   "source": [
    "plt.subplot()\n",
    "log_cruise['fcs/left-aileron-pos-deg'].plot()\n",
    "log_cruise['fcs/right-aileron-pos-deg'].plot()\n",
    "plt.grid(True)\n",
    "plt.legend(['left aileron', 'right aileron'])\n",
    "plt.ylabel(\"deg, aileron angle\")\n",
    "plt.show()"
   ]
  },
  {
   "cell_type": "code",
   "execution_count": 63,
   "metadata": {},
   "outputs": [
    {
     "data": {
      "text/plain": [
       "Text(0, 0.5, 'deg, rudder angle')"
      ]
     },
     "execution_count": 63,
     "metadata": {},
     "output_type": "execute_result"
    },
    {
     "data": {
      "image/png": "[encoded data removed]",
      "text/plain": [
       "<Figure size 432x288 with 1 Axes>"
      ]
     },
     "metadata": {
      "needs_background": "light"
     },
     "output_type": "display_data"
    }
   ],
   "source": [
    "log_cruise['fcs/rudder-pos-deg'].plot()\n",
    "plt.grid(True)\n",
    "plt.ylabel('deg, rudder angle')"
   ]
  },
  {
   "cell_type": "code",
   "execution_count": 64,
   "metadata": {},
   "outputs": [
    {
     "data": {
      "text/plain": [
       "Text(0, 0.5, 'fps, velocity')"
      ]
     },
     "execution_count": 64,
     "metadata": {},
     "output_type": "execute_result"
    },
    {
     "data": {
      "image/png": "[encoded data removed]",
      "text/plain": [
       "<Figure size 432x288 with 1 Axes>"
      ]
     },
     "metadata": {
      "needs_background": "light"
     },
     "output_type": "display_data"
    }
   ],
   "source": [
    "log_cruise['velocities/vt-fps'].plot()\n",
    "plt.grid(True)\n",
    "plt.ylabel(\"fps, velocity\")"
   ]
  },
  {
   "cell_type": "markdown",
   "metadata": {},
   "source": [
    "## Export Data"
   ]
  },
  {
   "cell_type": "code",
   "execution_count": 66,
   "metadata": {},
   "outputs": [
    {
     "ename": "KeyError",
     "evalue": "'hess_inv'",
     "output_type": "error",
     "traceback": [
      "\u001b[1;31m---------------------------------------------------------------------------\u001b[0m",
      "\u001b[1;31mKeyError\u001b[0m                                  Traceback (most recent call last)",
      "\u001b[1;32m<ipython-input-66-871aa2a6bceb>\u001b[0m in \u001b[0;36m<module>\u001b[1;34m\u001b[0m\n\u001b[1;32m----> 1\u001b[1;33m \u001b[1;32mdel\u001b[0m \u001b[0mall_data\u001b[0m\u001b[1;33m[\u001b[0m\u001b[1;34m'cruiseTrim'\u001b[0m\u001b[1;33m]\u001b[0m\u001b[1;33m[\u001b[0m\u001b[1;34m'res'\u001b[0m\u001b[1;33m]\u001b[0m\u001b[1;33m[\u001b[0m\u001b[1;34m'hess_inv'\u001b[0m\u001b[1;33m]\u001b[0m\u001b[1;33m\u001b[0m\u001b[1;33m\u001b[0m\u001b[0m\n\u001b[0m",
      "\u001b[1;31mKeyError\u001b[0m: 'hess_inv'"
     ]
    }
   ],
   "source": [
    "del all_data['cruiseTrim']['res']['hess_inv']"
   ]
  },
  {
   "cell_type": "code",
   "execution_count": 67,
   "metadata": {},
   "outputs": [
    {
     "ename": "KeyError",
     "evalue": "'hess_inv'",
     "output_type": "error",
     "traceback": [
      "\u001b[1;31m---------------------------------------------------------------------------\u001b[0m",
      "\u001b[1;31mKeyError\u001b[0m                                  Traceback (most recent call last)",
      "\u001b[1;32m<ipython-input-67-aa79e9e06e71>\u001b[0m in \u001b[0;36m<module>\u001b[1;34m\u001b[0m\n\u001b[1;32m----> 1\u001b[1;33m \u001b[1;32mdel\u001b[0m \u001b[0mall_data\u001b[0m\u001b[1;33m[\u001b[0m\u001b[1;34m'hoverTrim'\u001b[0m\u001b[1;33m]\u001b[0m\u001b[1;33m[\u001b[0m\u001b[1;34m'res'\u001b[0m\u001b[1;33m]\u001b[0m\u001b[1;33m[\u001b[0m\u001b[1;34m'hess_inv'\u001b[0m\u001b[1;33m]\u001b[0m\u001b[1;33m\u001b[0m\u001b[1;33m\u001b[0m\u001b[0m\n\u001b[0m",
      "\u001b[1;31mKeyError\u001b[0m: 'hess_inv'"
     ]
    }
   ],
   "source": [
    "del all_data['hoverTrim']['res']['hess_inv']"
   ]
  },
  {
   "cell_type": "code",
   "execution_count": 68,
   "metadata": {},
   "outputs": [],
   "source": [
    "del all_data['cruiseTrim']['res']['message']\n",
    "del all_data['groundTrim']['res']['message']\n",
    "del all_data['hoverTrim']['res']['message']"
   ]
  },
  {
   "cell_type": "code",
   "execution_count": null,
   "metadata": {},
   "outputs": [],
   "source": [
    "# encode numpy array for JSON serializable\n",
    "class NumpyEncoder(json.JSONEncoder):\n",
    "    def default(self, obj):\n",
    "        if isinstance(obj, np.ndarray):\n",
    "            return obj.tolist()\n",
    "        return json.JSONEncoder.default(self, obj)\n",
    "\n",
    "# save all output as JSON file \n",
    "with open('jsbsim_opt.json', '+w') as jfile:\n",
    "    json.dump(all_data, jfile, indent=4, cls=NumpyEncoder)"
   ]
  },
  {
   "cell_type": "code",
   "execution_count": null,
   "metadata": {},
   "outputs": [],
   "source": [
    "result = log_cruise.to_json(orient=\"split\")\n",
    "parsed = json.loads(result)\n",
    "with open('log_cruise.json', 'w') as jfile: \n",
    "    json.dump(parsed, jfile, indent=4)"
   ]
  },
  {
   "cell_type": "code",
   "execution_count": null,
   "metadata": {},
   "outputs": [],
   "source": [
    "result = log_ground.to_json(orient=\"split\")\n",
    "parsed = json.loads(result)\n",
    "with open('log_ground.json', 'w') as jfile: \n",
    "    json.dump(parsed, jfile, indent=4)"
   ]
  },
  {
   "cell_type": "code",
   "execution_count": null,
   "metadata": {},
   "outputs": [],
   "source": [
    "result = log_hover.to_json(orient=\"split\")\n",
    "parsed = json.loads(result)\n",
    "with open('log_hover.json', 'w') as jfile: \n",
    "    json.dump(parsed, jfile, indent=4)"
   ]
  },
  {
   "cell_type": "markdown",
   "metadata": {},
   "source": [
    "## Transition "
   ]
  },
  {
   "cell_type": "code",
   "execution_count": 35,
   "metadata": {},
   "outputs": [
    {
     "name": "stdout",
     "output_type": "stream",
     "text": [
      "trimming @ Vt= 10 fps gamma =  0 deg\n",
      "trimming @ Vt= 50 fps gamma =  0 deg\n",
      "trimming @ Vt= 100 fps gamma =  0 deg\n",
      "trimming @ Vt= 150 fps gamma =  0 deg\n",
      "trimming @ Vt= 200 fps gamma =  0 deg\n",
      "trimming @ Vt= 250 fps gamma =  0 deg\n",
      "trimming @ Vt= 300 fps gamma =  0 deg\n",
      "trimming @ Vt= 400 fps gamma =  0 deg\n",
      "trimming @ Vt= 500 fps gamma =  0 deg\n",
      "trimming @ Vt= 600 fps gamma =  0 deg\n",
      "\n",
      "vt fps 10\n",
      "theta deg 5.729577792218203\n",
      "elevator 0.6710420656064066\n",
      "aileron 2.2693378436793652e-05\n",
      "rudder 5.06222364686447e-07\n",
      "throttle 0.9257660328032375\n",
      "\n",
      "vt fps 50\n",
      "theta deg 5.729577951308233\n",
      "elevator 0.9999999999999996\n",
      "aileron 9.463146684658394e-05\n",
      "rudder -0.0008565431940129579\n",
      "throttle 0.8893793793809612\n",
      "\n",
      "vt fps 100\n",
      "theta deg 1.7103079143637894\n",
      "elevator 1.0\n",
      "aileron 0.0004493619743805558\n",
      "rudder 0.001232625279854894\n",
      "throttle 0.8421432204783876\n",
      "\n",
      "vt fps 150\n",
      "theta deg 5.729577951308107\n",
      "elevator 0.855137465923621\n",
      "aileron 0.00044018824011450347\n",
      "rudder 0.0017751956474354343\n",
      "throttle 0.6977257471262603\n",
      "\n",
      "vt fps 200\n",
      "theta deg 5.729577951308233\n",
      "elevator 0.5943804743105567\n",
      "aileron 0.0002651388026723141\n",
      "rudder 0.000895760944332427\n",
      "throttle 0.406082907160462\n",
      "\n",
      "vt fps 250\n",
      "theta deg 4.470853711336951\n",
      "elevator 0.414623175679483\n",
      "aileron 0.00018909603323235232\n",
      "rudder 0.0006202389477868508\n",
      "throttle 0.09816984661235575\n",
      "\n",
      "vt fps 300\n",
      "theta deg 2.0510664508240755\n",
      "elevator 0.21189696357742605\n",
      "aileron 0.00013809665042932874\n",
      "rudder 0.0004607347618300342\n",
      "throttle 0.1813007358796449\n",
      "\n",
      "vt fps 400\n",
      "theta deg 0.2752808924424831\n",
      "elevator 0.08551643606006519\n",
      "aileron 0.00010420066389424295\n",
      "rudder 0.0003504229051416255\n",
      "throttle 0.33089755187552056\n",
      "\n",
      "vt fps 500\n",
      "theta deg -0.8373586120047419\n",
      "elevator 0.017498925714241952\n",
      "aileron 8.349359458236942e-05\n",
      "rudder 0.00028196277769138337\n",
      "throttle 0.4527469433925268\n",
      "\n",
      "vt fps 600\n",
      "theta deg -1.2816403205901106\n",
      "elevator -0.013497897128785765\n",
      "aileron 6.959126654189497e-05\n",
      "rudder 0.00023516880789841807\n",
      "throttle 0.5915598389286832\n"
     ]
    }
   ],
   "source": [
    "# print(log_cruise['ic']"
   ]
  },
  {
   "cell_type": "code",
   "execution_count": 74,
   "metadata": {},
   "outputs": [
    {
     "name": "stdout",
     "output_type": "stream",
     "text": [
      "trimming @ Vt= 10 fps gamma =  0 deg\n"
     ]
    },
    {
     "ename": "RuntimeError",
     "evalue": "trim failed:\n     fun: 0.8997073582260232\n     jac: array([1., 0., 0., 0., 0., 0., 0.])\n message: 'Positive directional derivative for linesearch'\n    nfev: 27\n     nit: 7\n    njev: 3\n  status: 8\n success: False\n       x: array([ 8.99707358e-01,  4.83234296e-03, -2.09423819e-10,  2.41617171e-03,\n        1.56843520e+00,  2.24842388e-11,  9.55983355e-14])\n{'accelerations/a-pilot-x-ft_sec2': 21.247846841699822, 'accelerations/a-pilot-y-ft_sec2': 6.441618349813111, 'accelerations/a-pilot-z-ft_sec2': -20.636074391430153, 'accelerations/n-pilot-x-norm': 0.6604032689399648, 'accelerations/n-pilot-y-norm': 0.2002116189547946, 'accelerations/n-pilot-z-norm': -0.6413887998967956, 'accelerations/Nx': 0.6979360877669825, 'accelerations/Ny': -1.906654778215907e-11, 'accelerations/Nz': 0.2332613345321418, 'accelerations/pdot-rad_sec2': -1.269434605154257, 'accelerations/qdot-rad_sec2': 1.0347606686758135, 'accelerations/rdot-rad_sec2': 0.6243553461526832, 'accelerations/udot-ft_sec2': 22.455429809866764, 'accelerations/vdot-ft_sec2': 0.0009467702486339186, 'accelerations/wdot-ft_sec2': 24.652828663453846, 'accelerations/gravity-ft_sec2': 32.22134694557555}",
     "output_type": "error",
     "traceback": [
      "\u001b[1;31m---------------------------------------------------------------------------\u001b[0m",
      "\u001b[1;31mRuntimeError\u001b[0m                              Traceback (most recent call last)",
      "\u001b[1;32m<ipython-input-74-af35e3724bf4>\u001b[0m in \u001b[0;36m<module>\u001b[1;34m\u001b[0m\n\u001b[0;32m     60\u001b[0m     \u001b[1;32mreturn\u001b[0m \u001b[0mop\u001b[0m\u001b[1;33m\u001b[0m\u001b[1;33m\u001b[0m\u001b[0m\n\u001b[0;32m     61\u001b[0m \u001b[1;33m\u001b[0m\u001b[0m\n\u001b[1;32m---> 62\u001b[1;33m ops_trim = [trim_transition(vt_fps=vt, gamma_deg=0, accel_g=0)\n\u001b[0m\u001b[0;32m     63\u001b[0m                   for vt in [10, 50, 100, 150, 200, 250, 300, 400, 500, 600]]\n\u001b[0;32m     64\u001b[0m \u001b[1;32mfor\u001b[0m \u001b[0mop\u001b[0m \u001b[1;32min\u001b[0m \u001b[0mops_trim\u001b[0m\u001b[1;33m:\u001b[0m\u001b[1;33m\u001b[0m\u001b[1;33m\u001b[0m\u001b[0m\n",
      "\u001b[1;32m<ipython-input-74-af35e3724bf4>\u001b[0m in \u001b[0;36m<listcomp>\u001b[1;34m(.0)\u001b[0m\n\u001b[0;32m     60\u001b[0m     \u001b[1;32mreturn\u001b[0m \u001b[0mop\u001b[0m\u001b[1;33m\u001b[0m\u001b[1;33m\u001b[0m\u001b[0m\n\u001b[0;32m     61\u001b[0m \u001b[1;33m\u001b[0m\u001b[0m\n\u001b[1;32m---> 62\u001b[1;33m ops_trim = [trim_transition(vt_fps=vt, gamma_deg=0, accel_g=0)\n\u001b[0m\u001b[0;32m     63\u001b[0m                   for vt in [10, 50, 100, 150, 200, 250, 300, 400, 500, 600]]\n\u001b[0;32m     64\u001b[0m \u001b[1;32mfor\u001b[0m \u001b[0mop\u001b[0m \u001b[1;32min\u001b[0m \u001b[0mops_trim\u001b[0m\u001b[1;33m:\u001b[0m\u001b[1;33m\u001b[0m\u001b[1;33m\u001b[0m\u001b[0m\n",
      "\u001b[1;32m<ipython-input-74-af35e3724bf4>\u001b[0m in \u001b[0;36mtrim_transition\u001b[1;34m(vt_fps, gamma_deg, accel_g)\u001b[0m\n\u001b[0;32m     25\u001b[0m \u001b[1;33m\u001b[0m\u001b[0m\n\u001b[0;32m     26\u001b[0m     \u001b[1;31m## Trimming of transition\u001b[0m\u001b[1;33m\u001b[0m\u001b[1;33m\u001b[0m\u001b[1;33m\u001b[0m\u001b[0m\n\u001b[1;32m---> 27\u001b[1;33m     op, props = trim(      # What does op, props stand for?\n\u001b[0m\u001b[0;32m     28\u001b[0m         \u001b[0maircraft\u001b[0m\u001b[1;33m=\u001b[0m\u001b[1;34m'F-35B-2'\u001b[0m\u001b[1;33m,\u001b[0m\u001b[1;33m\u001b[0m\u001b[1;33m\u001b[0m\u001b[0m\n\u001b[0;32m     29\u001b[0m         ic={\n",
      "\u001b[1;32mD:\\AAE 451\\aae451-notebook\\6-Simulation\\jsbsim_utils.py\u001b[0m in \u001b[0;36mtrim\u001b[1;34m(aircraft, ic, design_vector, x0, verbose, cost, eq_constraints, tol, ftol, show, **kwargs)\u001b[0m\n\u001b[0;32m    121\u001b[0m \u001b[1;33m\u001b[0m\u001b[0m\n\u001b[0;32m    122\u001b[0m     \u001b[1;32mif\u001b[0m \u001b[1;32mnot\u001b[0m \u001b[0mres\u001b[0m\u001b[1;33m[\u001b[0m\u001b[1;34m'success'\u001b[0m\u001b[1;33m]\u001b[0m \u001b[1;32mor\u001b[0m \u001b[0mftol\u001b[0m \u001b[1;32mis\u001b[0m \u001b[1;32mnot\u001b[0m \u001b[1;32mNone\u001b[0m \u001b[1;32mand\u001b[0m \u001b[0mabs\u001b[0m\u001b[1;33m(\u001b[0m\u001b[0mres\u001b[0m\u001b[1;33m[\u001b[0m\u001b[1;34m'fun'\u001b[0m\u001b[1;33m]\u001b[0m\u001b[1;33m)\u001b[0m \u001b[1;33m>\u001b[0m \u001b[0mftol\u001b[0m\u001b[1;33m:\u001b[0m\u001b[1;33m\u001b[0m\u001b[1;33m\u001b[0m\u001b[0m\n\u001b[1;32m--> 123\u001b[1;33m         raise RuntimeError('trim failed:\\n' + str(res) + '\\n' + \\\n\u001b[0m\u001b[0;32m    124\u001b[0m                            str(fdm.get_property_catalog('acceleration')))\n\u001b[0;32m    125\u001b[0m     \u001b[0mprops\u001b[0m \u001b[1;33m=\u001b[0m \u001b[0mfdm\u001b[0m\u001b[1;33m.\u001b[0m\u001b[0mget_property_catalog\u001b[0m\u001b[1;33m(\u001b[0m\u001b[1;34m''\u001b[0m\u001b[1;33m)\u001b[0m\u001b[1;33m\u001b[0m\u001b[1;33m\u001b[0m\u001b[0m\n",
      "\u001b[1;31mRuntimeError\u001b[0m: trim failed:\n     fun: 0.8997073582260232\n     jac: array([1., 0., 0., 0., 0., 0., 0.])\n message: 'Positive directional derivative for linesearch'\n    nfev: 27\n     nit: 7\n    njev: 3\n  status: 8\n success: False\n       x: array([ 8.99707358e-01,  4.83234296e-03, -2.09423819e-10,  2.41617171e-03,\n        1.56843520e+00,  2.24842388e-11,  9.55983355e-14])\n{'accelerations/a-pilot-x-ft_sec2': 21.247846841699822, 'accelerations/a-pilot-y-ft_sec2': 6.441618349813111, 'accelerations/a-pilot-z-ft_sec2': -20.636074391430153, 'accelerations/n-pilot-x-norm': 0.6604032689399648, 'accelerations/n-pilot-y-norm': 0.2002116189547946, 'accelerations/n-pilot-z-norm': -0.6413887998967956, 'accelerations/Nx': 0.6979360877669825, 'accelerations/Ny': -1.906654778215907e-11, 'accelerations/Nz': 0.2332613345321418, 'accelerations/pdot-rad_sec2': -1.269434605154257, 'accelerations/qdot-rad_sec2': 1.0347606686758135, 'accelerations/rdot-rad_sec2': 0.6243553461526832, 'accelerations/udot-ft_sec2': 22.455429809866764, 'accelerations/vdot-ft_sec2': 0.0009467702486339186, 'accelerations/wdot-ft_sec2': 24.652828663453846, 'accelerations/gravity-ft_sec2': 32.22134694557555}"
     ]
    }
   ],
   "source": [
    "# !! This is not gonna run !!\n",
    "\n",
    "# Nested function structure\n",
    "\n",
    "# What is accel_g?\n",
    "\n",
    "def trim_transition(vt_fps, gamma_deg, accel_g):\n",
    "    print('trimming @ Vt=', vt_fps, 'fps', 'gamma = ', gamma_deg, 'deg', 'accel_g = ', accel_g, 'Unit?')\n",
    "    \n",
    "    def accel_gamma(fdm, accel_g, gamma_deg): # Need explanation on this nested function\n",
    "        gamma = np.deg2rad(gamma_deg)\n",
    "        g = 32.2            # ft/s^2\n",
    "        theta = fdm['attitude/theta-rad']\n",
    "        C_nb = np.array([\n",
    "            [np.cos(theta), -np.sin(theta)],\n",
    "            [np.sin(theta), np.cos(theta)]\n",
    "        ])\n",
    "        a_n = accel_g*g*np.array([np.cos(gamma), np.sin(gamma)])   # Not sure what this does...\n",
    "        a_b = C_nb.T.dot(a_n)       # What is a_n, what is a_b\n",
    "        return a_b\n",
    "    \n",

    "    ## Initial design_vec guess selection\n",
    "    if vt_fps < 300:\n",
    "        x0 = [0.9, 0, 0, 0, np.deg2rad(90), np.deg2rad(0), 0],\n",

    "    if vt_fps < 250:\n",
    "        x0 = [0.9, 0, 0, 0, np.deg2rad(90), \n",
    "                            np.deg2rad(90),\n",
    "                            np.deg2rad(90),\n",
    "                            np.deg2rad(90),\n",
    "              np.deg2rad(0), 0],\n",
    "    elif vt_fps < 260:\n",
    "        x0 = [0.9, 0, 0, 0, np.deg2rad(90), \n",
    "                            np.deg2rad(80),\n",
    "                            np.deg2rad(90),\n",
    "                            np.deg2rad(80),\n",
    "              np.deg2rad(0), 0],\n",
    "    elif vt_fps < 270:\n",
    "        x0 = [0.9, 0, 0, 0, np.deg2rad(80), \n",
    "                            np.deg2rad(60),\n",
    "                            np.deg2rad(80),\n",
    "                            np.deg2rad(60),\n",
    "              np.deg2rad(0), 0],\n",
    "    elif vt_fps < 280:\n",
    "        x0 = [0.9, 0, 0, 0, np.deg2rad(60), \n",
    "                            np.deg2rad(45),\n",
    "                            np.deg2rad(60),\n",
    "                            np.deg2rad(45),\n",
    "              np.deg2rad(0), 0],\n",
    "    elif vt_fps < 285:\n",
    "        x0 = [0.9, 0, 0, 0, np.deg2rad(40), \n",
    "                            np.deg2rad(20),\n",
    "                            np.deg2rad(40),\n",
    "                            np.deg2rad(20),\n",
    "              np.deg2rad(0), 0],\n",
    "    elif vt_fps < 290:\n",
    "        x0 = [0.9, 0, 0, 0, np.deg2rad(15), \n",
    "                            np.deg2rad(5),\n",
    "                            np.deg2rad(15),\n",
    "                            np.deg2rad(5),\n",
    "              np.deg2rad(0), 0],\n",
    "    elif vt_fps < 300:\n",
    "        x0 = [0.9, 0, 0, 0, np.deg2rad(3), \n",
    "                            np.deg2rad(3),\n",
    "                            np.deg2rad(3),\n",
    "                            np.deg2rad(3),\n",
    "              np.deg2rad(0), 0],\n",

    "    else:\n",
    "        x0 = [0.9, 0, 0, 0, np.deg2rad(0),\n",
    "                            np.deg2rad(0),\n",
    "                            np.deg2rad(0),\n",
    "                            np.deg2rad(0),\n",
    "              np.deg2rad(0), 0],\n",
    "\n",
    "    ## Trimming of transition\n",
    "    op, props = trim(      # What does op, props stand for?\n",
    "        aircraft='F-35B-2',\n",
    "        ic={\n",
    "            'ic/h-sl-ft': 800,    # Why do we trim the aircraft always at 800 ft above ground?\n",
    "            'ic/vt-fps': vt_fps,\n",
    "            'ic/gamma-deg': gamma_deg,\n",
    "            'ap/gear-enable': 1,\n",
    "        },\n",
    "        design_vector=[\n",
    "            'fcs/throttle-cmd-norm',\n",
    "            'fcs/elevator-cmd-norm',\n",
    "            'fcs/rudder-cmd-norm',\n",
    "            'fcs/aileron-cmd-norm',\n",
    "            'propulsion/engine/pitch-angle-rad',\n",
    "            'propulsion/engine[1]/pitch-angle-rad',\n",
    "            'propulsion/engine[2]/pitch-angle-rad',\n",
    "            'propulsion/engine[3]/pitch-angle-rad',\n",
    "            'ic/alpha-rad',\n",
    "            'ic/beta-rad',\n",
    "        ],\n",
    "        x0=x0,\n",
    "        verbose=False,\n",
    "        method='SLSQP',\n",
    "        eq_constraints= [\n",
    "            lambda fdm: fdm['accelerations/udot-ft_sec2'] - accel_gamma(fdm, accel_g, gamma_deg)[0],     # Need reasoning\n",
    "            lambda fdm: fdm['accelerations/vdot-ft_sec2'],\n",
    "            lambda fdm: fdm['accelerations/wdot-ft_sec2'] - accel_gamma(fdm, accel_g, gamma_deg)[1],     # Need reasoning\n",
    "            lambda fdm: fdm['accelerations/pdot-rad_sec2'],\n",
    "            lambda fdm: fdm['accelerations/qdot-rad_sec2'],\n",
    "            lambda fdm: fdm['accelerations/rdot-rad_sec2'],\n",
    "        ],\n",
    "        cost=lambda fdm: fdm['fcs/throttle-cmd-norm'],  # Define the cost just as the value of throttle-cmd-norm, minimizing cost means minimizing throttle-cmd-norm \n",
    "        bounds=[[0, 1], [-1, 1], [-1, 1], [-1, 1],\n",
    "                [np.deg2rad(0), np.deg2rad(120)],\n",
    "                [np.deg2rad(0), np.deg2rad(120)],\n",
    "                [np.deg2rad(0), np.deg2rad(120)],\n",
    "                [np.deg2rad(0), np.deg2rad(120)],\n",
    "                [-0.1, 0.1], [-0.1, 0.1]],\n",
    "        tol=1e-12)\n",
    "    return op\n",
    "\n",
    "ops_trim = [trim_transition(vt_fps=vt, gamma_deg=0, accel_g=0)\n",
    "                  for vt in [10, 50, 100, 150, 200, 250, 300, 400, 500, 600]]       # Storing the outputs of each iteration of trim_transition using input vt(k), gamma_deg = 0, accel_g = 0\n",
    "for op in ops_trim:\n",
    "    print('\\nvt fps', op['ic/vt-fps'])\n",
    "    print('theta deg', op['ic/gamma-deg'] + np.rad2deg(op['ic/alpha-rad']))\n",
    "    print('elevator', op['fcs/elevator-cmd-norm'])\n",
    "    print('aileron', op['fcs/aileron-cmd-norm'])\n",
    "    print('rudder', op['fcs/rudder-cmd-norm'])\n",
    "    print('throttle', op['fcs/throttle-cmd-norm'])"
   ]
  },
  {
   "cell_type": "code",
   "execution_count": 36,
   "metadata": {},
   "outputs": [
    {
     "name": "stdout",
     "output_type": "stream",
     "text": [
      "trimming @ Vt= 10 fps gamma =  10 deg\n",
      "trimming @ Vt= 50 fps gamma =  10 deg\n",
      "trimming @ Vt= 100 fps gamma =  10 deg\n",
      "trimming @ Vt= 150 fps gamma =  10 deg\n",
      "trimming @ Vt= 200 fps gamma =  10 deg\n",
      "trimming @ Vt= 250 fps gamma =  10 deg\n",
      "trimming @ Vt= 300 fps gamma =  10 deg\n",
      "trimming @ Vt= 400 fps gamma =  10 deg\n",
      "trimming @ Vt= 500 fps gamma =  10 deg\n",
      "trimming @ Vt= 600 fps gamma =  10 deg\n",
      "\n",
      "vt fps 10\n",
      "theta deg 4.270422048691768\n",
      "elevator 0.5770666565804813\n",
      "aileron -2.0483140179548457e-06\n",
      "rudder 5.270211927688648e-07\n",
      "throttle 0.9295032561066235\n",
      "\n",
      "vt fps 50\n",
      "theta deg 15.729577951308233\n",
      "elevator 0.8379113346312043\n",
      "aileron -0.00038430705630779883\n",
      "rudder 0.00020537496168948667\n",
      "throttle 0.9046795159419647\n",
      "\n",
      "vt fps 100\n",
      "theta deg 15.729537163773182\n",
      "elevator 1.0\n",
      "aileron -0.0008069173095788827\n",
      "rudder 0.0019449260578031959\n",
      "throttle 0.8320856534400345\n",
      "\n",
      "vt fps 150\n",
      "theta deg 15.729577951308233\n",
      "elevator 0.7887419599001066\n",
      "aileron 0.0003810742539728812\n",
      "rudder 0.0016804242513083077\n",
      "throttle 0.7565741993470452\n",
      "\n",
      "vt fps 200\n",
      "theta deg 15.729577951308233\n",
      "elevator 0.5671626523396548\n",
      "aileron 0.00025550510559884434\n",
      "rudder 0.0008563531368579332\n",
      "throttle 0.6257582538339478\n",
      "\n",
      "vt fps 250\n",
      "theta deg 14.26733056989182\n",
      "elevator 0.38288591807788114\n",
      "aileron 0.00017950363695442626\n",
      "rudder 0.0005909216512411969\n",
      "throttle 0.5562235159830621\n",
      "\n",
      "vt fps 300\n",
      "theta deg 11.893067337609814\n",
      "elevator 0.19124981570485936\n",
      "aileron 0.0001316404638380432\n",
      "rudder 0.0004382149343892046\n",
      "throttle 0.5347822188613218\n",
      "\n",
      "vt fps 400\n",
      "theta deg 10.1803154557109\n",
      "elevator 0.07367243870933386\n",
      "aileron 9.897502370669826e-05\n",
      "rudder 0.0003330128506830281\n",
      "throttle 0.630559264209322\n",
      "\n",
      "vt fps 500\n",
      "theta deg 9.097315274904522\n",
      "elevator 0.009726885061706401\n",
      "aileron 7.928295589772498e-05\n",
      "rudder 0.0002678597184134932\n",
      "throttle 0.7335297781733984\n",
      "\n",
      "vt fps 600\n",
      "theta deg 8.704528814390233\n",
      "elevator -0.017208206757795327\n",
      "aileron 6.606563074907606e-05\n",
      "rudder 0.0002232402422571778\n",
      "throttle 0.8651721473625814\n"
     ]
    }
   ],
   "source": [
    "ops_transition = [trim_transition(vt_fps=vt, gamma_deg=10, accel_g=0.1)\n",
    "                  for vt in [10, 50, 100, 150, 200, 250, 300, 400, 500, 600]]\n",
    "\n",
    "ops_transition_auto = []\n",
    "for op in ops_transition:\n",
    "    op = dict(op)\n",
    "    print('\\nvt fps', op['ic/vt-fps'])\n",
    "    print('theta deg', op['ic/gamma-deg'] + np.rad2deg(op['ic/alpha-rad']))\n",
    "    print('elevator', op['fcs/elevator-cmd-norm'])\n",
    "    print('aileron', op['fcs/aileron-cmd-norm'])\n",
    "    print('rudder', op['fcs/rudder-cmd-norm'])\n",
    "    print('throttle', op['fcs/throttle-cmd-norm'])\n",
    "    op['ap/roll-enable'] = 1\n",
    "    op['ap/pitch-enable'] = 1\n",
    "    op['ap/yaw-enable'] = 1\n",
    "    op['ap/h-enable'] = 0\n",
    "    op['ap/h-sl-cmd-ft'] = 1000\n",
    "    ops_transition_auto.append(op)"
   ]
  },
  {
   "cell_type": "code",
   "execution_count": null,
   "metadata": {},
   "outputs": [],
   "source": [
    "log_transition_auto = []\n",
    "for op in ops_transition_auto:\n",
    "    log = simulate(\n",
    "        aircraft='F-35B-2',\n",
    "        op_0=op,\n",
    "        tf=10,\n",
    "        realtime=False)\n",
    "    log_transition_auto.append(log)"
   ]
  },
  {
   "cell_type": "markdown",
   "metadata": {},
   "source": [
    "## Auto takeoff "
   ]
  },
  {
   "cell_type": "code",
   "execution_count": null,
   "metadata": {},
   "outputs": [],
   "source": [
    "log_takeoff_auto = simulate(\n",
    "    aircraft='F-35B-2',\n",
    "    op_0=op_ground,\n",
    "    op_list=[('hover', op_hover_auto, lambda fdm: fdm.get_sim_time() > 1),\n",
    "             ('10 fps', ops_transition_auto[0], lambda fdm: fdm.get_sim_time() > 10),\n",
    "             ('50 fps', ops_transition_auto[1], lambda fdm: fdm['velocities/vt-fps'] > 50),\n",
    "             ('100 fps', ops_transition_auto[2], lambda fdm: fdm['velocities/vt-fps'] > 100),\n",
    "             ('150 fps', ops_transition_auto[3], lambda fdm: fdm['velocities/vt-fps'] > 150),\n",
    "             ('200 fps', ops_transition_auto[4], lambda fdm: fdm['velocities/vt-fps'] > 200),\n",
    "             ('250 fps', ops_transition_auto[5], lambda fdm: fdm['velocities/vt-fps'] > 250),\n",
    "             ('300 fps', ops_transition_auto[6], lambda fdm: fdm['velocities/vt-fps'] > 300),\n",
    "             ('400 fps', ops_transition_auto[7], lambda fdm: fdm['velocities/vt-fps'] > 400),\n",
    "             ('500 fps', ops_transition_auto[7], lambda fdm: fdm['velocities/vt-fps'] > 500),\n",
    "             ('600 fps', ops_transition_auto[7], lambda fdm: fdm['velocities/vt-fps'] > 600),\n",
    "    ],\n",
    "    tf=120,\n",
    "    realtime=True, verbose=True)"
   ]
  },
  {
   "cell_type": "markdown",
   "metadata": {},
   "source": [
    "# Controller Design"
   ]
  },
  {
   "cell_type": "code",
   "execution_count": null,
   "metadata": {},
   "outputs": [],
   "source": []
  }
 ],
 "metadata": {
  "kernelspec": {
   "display_name": "Python 3",
   "language": "python",
   "name": "python3"
  },
  "language_info": {
   "codemirror_mode": {
    "name": "ipython",
    "version": 3
   },
   "file_extension": ".py",
   "mimetype": "text/x-python",
   "name": "python",
   "nbconvert_exporter": "python",
   "pygments_lexer": "ipython3",
   "version": "3.8.5"
  },
  "metadata": {
   "interpreter": {
    "hash": "f1b82cffc61be27678f1d47a128eaa4a669f389d3430f480176844fbc028fe63"
   }
  }
 },
 "nbformat": 4,
 "nbformat_minor": 5
}
