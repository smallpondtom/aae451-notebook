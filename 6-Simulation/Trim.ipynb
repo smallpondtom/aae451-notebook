{
 "cells": [
  {
   "cell_type": "code",
<<<<<<< HEAD
   "execution_count": 21,
=======
   "execution_count": null,
>>>>>>> master
   "metadata": {},
   "outputs": [],
   "source": [
    "import matplotlib.pyplot as plt\n",
    "import numpy as np\n",
    "import pandas as pd\n",
    "import matplotlib.pyplot as plt\n",
    "\n",
    "from jsbsim_utils import Logger, trim, simulate"
   ]
  },
  {
   "cell_type": "markdown",
   "metadata": {},
   "source": [
    "Nonlinear-dynamics of aircraft\n",
    "\n",
    "$$\\dot{x} = f(x, u)$$\n",
    "\n",
    "Find equilibrium:\n",
    "\n",
    "Minimize $\\dot{x}$, or a subset for your problem, by changeing $x_0$, $u_0$\n",
    "\n",
    "$$0 = f(x_0, u_0)$$\n",
    "\n",
    "This is an optimization problem.\n",
    "\n",
    "* Matlab: fmincon, fminsearch\n",
    "* Python: scipy.minimize (Nelder-Mead, SLSQP)\n",
    "\n",
    "Can simplify this problem with mixing matrices, to decouple the dynamcis into SISO (single-input-single output) systems."
   ]
  },
  {
   "cell_type": "markdown",
   "metadata": {},
   "source": [
    "Due to Taylor series error on the order of (dx^2). We know the linear model approx, does well near the equilibrium point. "
   ]
  },
  {
   "cell_type": "markdown",
   "metadata": {},
   "source": [
    "$\\dot{\\vec{x}} = \\vec{f}(x, u) = A \\vec{x} + B \\vec{u}$\n",
    "\n",
    "$\\dot{\\vec{y}} = C \\vec{x} + D \\vec{u}$\n",
    "\n",
    "\n",
    "$A = \\dfrac{\\delta \\vec{f}(x0, u0)}{\\delta \\vec{x}}$\n",
    "\n",
    "$B = \\dfrac{\\delta \\vec{f}(x0, u0)}{\\delta \\vec{u}}$\n",
    "\n",
    "$C = \\dfrac{\\delta \\vec{y}(x0, u0)}{\\delta \\vec{x}}$\n",
    "\n",
    "$D = \\dfrac{\\delta \\vec{y}(x0, u0)}{\\delta \\vec{u}}$"
   ]
  },
  {
   "cell_type": "code",
<<<<<<< HEAD
   "execution_count": 44,
   "metadata": {},
   "outputs": [
    {
     "name": "stdout",
     "output_type": "stream",
     "text": [
      " final_simplex: (array([[-0.00460671,  3.72082751],\n",
      "       [-0.00460671,  3.72082751],\n",
      "       [-0.00460671,  3.72082751]]), array([9.23149162e-12, 1.27766530e-11, 1.27766546e-11]))\n",
      "           fun: 9.231491615808635e-12\n",
      "       message: 'Optimization terminated successfully.'\n",
      "          nfev: 159\n",
      "           nit: 75\n",
      "        status: 0\n",
      "       success: True\n",
      "             x: array([-0.00460671,  3.72082751])\n"
     ]
    },
    {
     "data": {
      "text/plain": [
       "{'ic/vt-fps': 0,\n",
       " 'gear/gear-cmd-norm': 1,\n",
       " 'propulsion/engine/pitch-angle-rad': 0.0,\n",
       " 'fcs/throttle-cmd-norm': 0,\n",
       " 'fcs/aileron-cmd-norm': 0,\n",
       " 'fcs/elevator-cmd-norm': 0,\n",
       " 'fcs/rudder-cmd-norm': 0,\n",
       " 'fcs/left-brake-cmd-norm': 1,\n",
       " 'fcs/right-brake-cmd-norm': 1,\n",
       " 'fcs/center-brake-cmd-norm': 1,\n",
       " 'ic/theta-rad': -0.004606711640429833,\n",
       " 'ic/h-agl-ft': 3.7208275115270806}"
      ]
     },
     "execution_count": 44,
     "metadata": {},
     "output_type": "execute_result"
    }
   ],
=======
   "execution_count": null,
   "metadata": {},
   "outputs": [],
>>>>>>> master
   "source": [
    "ct = 0\n",
    "temp = []\n",
    "\n",
    "# User defined cost definition\n",
    "def cost_ground(fdm):\n",
    "    # modify cost to also penalize throttle   \n",
    "    udot = fdm['accelerations/udot-ft_sec2']\n",
    "    vdot = fdm['accelerations/vdot-ft_sec2']\n",
    "    wdot = fdm['accelerations/wdot-ft_sec2']\n",
    "    pdot = fdm['accelerations/pdot-rad_sec2']\n",
    "    qdot = fdm['accelerations/qdot-rad_sec2']\n",
    "    rdot = fdm['accelerations/rdot-rad_sec2']\n",
    "    temp.append(fdm.get_property_catalog('fbz'))\n",
    "    return udot**2 + vdot**2 + wdot**2 + pdot**2 + qdot**2 + rdot**2  \n",
    "        \n",
    "# Trimming process (Usually, parameters without dynamics can be considered as input, while the ones with dynamics can be considered states)\n",
    "op_ground, fdm = trim(\n",
    "    # Aircraft xml file selection\n",
    "    aircraft='F-35B-2',\n",
    "    \n",
    "    # Specifying desired states and inputs under equilibrium condition\n",
    "    ic={\n",
    "        'ic/vt-fps': 0, # Aircraft speed\n",
    "        'gear/gear-cmd-norm': 1, # Whether or not I want landing gear up or down\n",
    "        'propulsion/engine/pitch-angle-rad': np.deg2rad(0), # Aircraft engine nozzle pitch angle in radians\n",
    "        'fcs/throttle-cmd-norm': 0,  # Desired throttle input (normalized: 0 means completely closed, 1 means completely deployed)\n",
    "        'fcs/aileron-cmd-norm': 0,  # Desired aileron input\n",
    "        'fcs/elevator-cmd-norm': 0, # Desired elevator input\n",
    "        'fcs/rudder-cmd-norm': 0,  # Desired rudder input\n",
    "            \n",
    "        # Desired brake inputs\n",
    "        'fcs/left-brake-cmd-norm': 1, \n",
    "        'fcs/right-brake-cmd-norm': 1,\n",
    "        'fcs/center-brake-cmd-norm': 1,\n",
    "    },\n",
    "    \n",
    "    # Find the states and inputs of interest under equilibrium condition with specified desired states and inputs\n",
    "    design_vector=['ic/theta-rad', 'ic/h-agl-ft'],\n",
    "    \n",
    "    # Initial guess of design_vector\n",
    "    x0=[0, 3.681],\n",
    "    \n",
    "    # Syntax to show results\n",
    "    verbose=True,\n",
    "    \n",
    "    # Numerical trimming solver selection\n",
    "    method='Nelder-Mead', # works better with ground interaction\n",
    "    tol=1e-11,\n",
    "    \n",
    "    # Setting allowable bounds for states and inputs solved during trim\n",
    "    bounds=[[np.deg2rad(-40), np.deg2rad(40)], [0, 20]],\n",
    "    \n",
    "    # Specifying cost function definition\n",
    "    cost=cost_ground,\n",
    "    \n",
    "    # Trim finds the design_vector values that makes x_d = f(x,u) = 0 by numerically find the design_vector values that minimizes cost function of state derivatives (default def: L2 norm (x_d))\n",
    ")\n",
    "\n",
    "\n",
    "op_ground\n",
    "#print(temp[0])\n",
    "#print(temp[-1])"
   ]
  },
  {
   "cell_type": "code",
<<<<<<< HEAD
   "execution_count": 45,
=======
   "execution_count": null,
>>>>>>> master
   "metadata": {},
   "outputs": [],
   "source": [
    "log_ground = simulate(\n",
    "    aircraft='F-35B-2',\n",
    "    op_0=op_ground,\n",
    "    tf=5,\n",
    "    realtime=True)"
   ]
  },
  {
   "cell_type": "code",
<<<<<<< HEAD
   "execution_count": 46,
   "metadata": {},
   "outputs": [
    {
     "data": {
      "text/plain": [
       "<AxesSubplot:xlabel='t, sec'>"
      ]
     },
     "execution_count": 46,
     "metadata": {},
     "output_type": "execute_result"
    },
    {
     "data": {
      "image/png": "iVBORw0KGgoAAAANSUhEUgAAAYcAAAEGCAYAAACO8lkDAAAAOXRFWHRTb2Z0d2FyZQBNYXRwbG90bGliIHZlcnNpb24zLjMuMiwgaHR0cHM6Ly9tYXRwbG90bGliLm9yZy8vihELAAAACXBIWXMAAAsTAAALEwEAmpwYAAAm+klEQVR4nO3deXhV1bnH8e/LIPMgMsrQqGABQQEjCgjIoFIqKlrqgFy1KlJrFUsde73a3ts6UHHEgWqdykUtYLWACCIzCiTKHFHEARQFRIQgBEje+8fZbHLJgZxAkp2c8/s8Tx6y1lnrnHfbJr/scZm7IyIikl+FqAsQEZGyR+EgIiIFKBxERKQAhYOIiBSgcBARkQIqRV1Acahfv76npaVFXYaISLmSmZm52d0bxHstKcIhLS2NjIyMqMsQESlXzOyLg72mw0oiIlKAwkFERApQOIiISAEKBxERKUDhICIiBSgcRESkAIWDiIgUoHAQESmH3J1731zJpGVfl8j7J8VNcCIiqWTBp5u5/G8LAdi0PYfzTj622D9D4SAiUk5s2p7DWSNnsmN3LgAVKxh/uuCkEvkshYOISBmXm+fc/MqHTFq2Iex7/qrT6NW6YYl9psJBRKQMe3Pp19w07sOwfWWXn3Dv+SdhZiX6uQoHEZEy6IvvdtBz5Kyw3bxeNabe3IMaVUrn13ahn2JmVYE5QJVg/Hh3v+eAMbcCg/O9ZxugAVADeAloDOQBY9z90WDOSGAAsBv4FLja3bcGr90JXAPkAje5+9tHtJUiIuVEzt5chjy3iEWfbQn73ryxGyc3q1uqdZi7H3pAbN+lhrtnm1llYB5ws7u/f5DxA4Bb3L23mTUBmrj7B2ZWC8gELnT3VWZ2DvCuu+81swcA3P12M2sLjAM6A8cC7wAnunvuwWpMT093PbJbRMq7Z+eu5X8mZ4XtO3/Wmut7nlBin2dmme6eHu+1QvccPJYe2UGzcvB1qES5jNgvd9x9A7Ah+H67mWUBTYFV7j4t35z3gV8E318AvOLuOcBnZraGWFC8V1itIiLl0fL1PzDgiXlh+7S0o/nHtadTpVLFyGpK6OCVmVUk9ld/S2C0uy88yLjqQD/gxjivpQEdgXhzfwW8GnzflFhY7LM+6Dvw/YYCQwFatGiRyGaIiJQpO3L2cs7Dc/hq686wb+bvz+K4+jUirComoXAIDul0MLO6wOtm1s7dV8QZOgCY7+5b8neaWU1gAjDc3bcd8NofgL3A2H1d8UqIU9MYYAzEDislsh0iImWBu/PHf6/ihQWfh30PX3IKAzs2i66oAxTptLe7bzWzWcT2DuKFw6UEh5T2Cc5TTADGuvvEA167EjgP6OP7T36sB5rnG9YMKJn7w0VEStnMjzZy9QuLw/bPT27CY5d2pGKFkr00tagSuVqpAbAnCIZqQF/ggTjj6gA9gSvy9RnwHJDl7qMOGN8PuB3o6e4/5nvpTeB/zWwUsRPSrYBFRd0wEZGyZNP2HM64bwa5ebG/g6tVrsic23rRoFaViCuLL5E9hybAi8F5hwrAa+4+ycyGAbj708G4gcA0d9+Rb243YAiw3MyWBH13ufsU4Alil8dOD27meN/dh7n7SjN7DVhF7HDTbw51pZKISFmWm+dc/3IG72RtDPvGXns63VrWj7CqwhV6KWt5oEtZRaQsGrfoS+6cuDxsX9f9OO7q36bE725O1BFdyioiIkXz6aZs+jw0O2ynHVOdyTd1L7W7m4tD+alURKSM27k7l4ufWsCqDfsvypw6vDutG9eOsKrDo3AQETlC7s7D0z/msXfXhH33DGjL1d2Oi7CqI6NwEBE5AplfbOHip/Y/wKHL8cfw8jWdqVSxfC+0qXAQETkM3+/YzdkPz2Zz9u6wb+FdfWhUu2qEVRUfhYOISBHk5Tm3T1jGPzPXh31PX9GJfu2aRFhV8VM4iIgkaNrKbxj6cmbY/mV6Mx64+OQyc2lqcVI4iIgU4qutO+l2/7thu0GtKswY0ZPaVStHWFXJUjiIiBzEntw8rnkxgzkfbwr7Jvy6C6f+pF6EVZUOhYOISBxjF37BH17f/3zR4X1bMbzviRFWVLoUDiIi+az+ZjvnPjInbLdvWod/DutC1crRLbwTBYWDiAixu5t//vhc1m7a/+zQ6bf0oFWjWhFWFR2Fg4ikvAemfsRTsz4N2/dd1J7LOqf2CpMKBxFJWQvWbObyZ/evXNy3TSOevqJTub+7uTgoHEQk5WzZsZszH3iXH3fHloqpYLDgjj40rpMcdzcXB4WDiKSM3Dzn5lc+ZNKyDWHf369Kp3frRhFWVTYpHEQkJUz8YD2/e21p2B5yxk/44/knUaGMrd1cVigcRCSpffHdDnqOnBW2G9euyrTf9Ujqu5uLg8JBRJLSrj25DH52IZlffB/2/fvGM2nfrE6EVZUfCgcRSTqjZ65h5Nurw/YdP2vNsJ4nRFhR+aNwEJGksXTdVi4YPT9sd2xRl9eu70JlXZpaZAoHESn3fti5h/6PzuWrrTvDvrm39aJ5veoRVlW+KRxEpNxyd+55cyUvvfdF2PfYZR05/5RjI6wqOSgcRKRcmrl6I1c/vzhsDzjlWB69pIMuTS0mhYaDmVUF5gBVgvHj3f2eA8bcCgzO955tgAZADeAloDGQB4xx90eDOYOAe4Oxnd09I+ivDDwLdAre6yV3v++ItlJEksbGbbs484GZ7M7NA6B21UrMvrUXR9c4KuLKkksiew45QG93zw5+cc8zs7fc/f19A9x9JDASwMwGALe4+xYzqwKMcPcPzKwWkGlm0919FbACuAh45oDPGwRUcff2ZlYdWGVm49z98yPdWBEpv/bm5vHrsR8wfdW3Yd//Xnc6XU+oH2FVyavQcHB3B7KDZuXgyw8x5TJgXDB3A7Ah+H67mWUBTYFV7p4FxFt71YEaZlYJqAbsBrYluD0ikoT+mbGOW8cvC9vX9zyeO/q1Tsq1m8uKhM45mFlFIBNoCYx294UHGVcd6AfcGOe1NKAjEHduPuOBC4iFSnWCvZA47zcUGArQokVqP1pXJFl9uimbPg/NDtutGtbkjRu7Uf0onS4taQn9F3b3XKCDmdUFXjezdu6+Is7QAcD8A3+Zm1lNYAIw3N0L2wvoDOQCxwJHA3PN7B13X3tATWOAMQDp6emH2pMRkXJm155cBj65gKwN+39dTLmpO22PrR1hVamlSPHr7lvNbBaxvYN44XApwSGlfYLzFBOAse4+MYGPuRyY6u57gI1mNh9IB9YeepqIJIPHZnzCqOkfh+17BrTl6m7HRVhRakrkaqUGwJ4gGKoBfYEH4oyrA/QErsjXZ8BzQJa7j0qwpi+B3mb2D2KHlc4AHklwroiUU4s/38Kgp98L291b1ee5K0/jqEq6uzkKiew5NAFeDM47VABec/dJZjYMwN2fDsYNBKa5+458c7sBQ4DlZrYk6LvL3aeY2UDgcWKXvE42syXufi4wGnie2J6JAc+7+zJEJCn98OMeev51Jlt/3BP2zb+jN03rVouwKrHYxUjlW3p6umdkZERdhogUQV6ec9uEZYzPXB/2PTW4Ez9r3yTCqlKLmWW6e3q813TKX0RK3eyPN3Hl3xeF7UvSm3PfRe11d3MZonAQkVKzbsuPdH9wZthu3bgWrw7tQp3qWninrFE4iEiJ2703j6tfWMT8Nd+FfVOHd6d1Y12aWlYpHESkRD07dy3/MzkrbI84+0R+26dVhBVJIhQOIlIiVn79Az9/bF7YbtukNq//pitVKlWMsCpJlMJBRIpVds5ezn9iHms37b+qfebvz+K4+jUirEqKSuEgIsXC3fnLlCz+NvezsO+vg07hF6c2i7AqOVwKBxE5YvPXbGbws/ufqXnuSY14cvCpVNSlqeWWwkFEDtt32Tn0HDmL7Jy9AFSpVIG5t/eiYa2qEVcmR0rhICJFlpfn3PTKh0xatiHse/FXnel5YoMIq5LipHAQkSJ5Y8lX3PzKkrB9Vdc07hnQVgvvJBmFg4gk5MC7m1vUq87km86kVlXd3ZyMFA4icki79+Yx6OkFLF3/Q9j37xvPpH2zOhFWJSVN4SAiB/XkrDU8OHV12L7jZ60Z1vOECCuS0qJwEJEClqzbyoWj54ftzmn1ePnazrq7OYUoHEQktG3XHvo8NJtN23PCvjm39qLFMdUjrEqioHAQEfLynLvfWMHYhV+GfY9e2oELOjSNsCqJksJBJMVNW/kNQ1/ODNsXdjiWUb/soIV3UpzCQSRFbfhhJ13uezds16xSibm39eLoGkdFWJWUFQoHkRSzJzeP61/O5N2PNoZ94647gy4nHBNhVVLWKBxEUsjL733O3W+sDNu/7d2SEef8NMKKpKxSOIikgNXfbOfcR+aE7ZYNazLpt2dStbIuTZX4FA4iSWzn7lwuemoBWRu2hX3Tb+lBq0a1IqxKyoNCw8HMqgJzgCrB+PHufs8BY24FBud7zzZAA6AG8BLQGMgDxrj7o8GcQcC9wdjO7p6R7/1OBp4BagfzTnP3XYe9lSIpxt15aNrHPDFzTdh3/0XtubRziwirkvIkkT2HHKC3u2ebWWVgnpm95e7v7xvg7iOBkQBmNgC4xd23mFkVYIS7f2BmtYBMM5vu7quAFcBFxEIgZGaVgH8AQ9x9qZkdA+wphm0VSQkL137HJWPCH096/bQBf/uPdCpVrBBhVVLeFBoO7u5AdtCsHHz5IaZcBowL5m4ANgTfbzezLKApsMrds4B4j/k9B1jm7kuDed8lujEiqWzrj7vp/dBstuzYDUAFgwV39KFxHS28I0WX0DkHM6sIZAItgdHuvvAg46oD/YAb47yWBnQE4s7N50TAzextYoemXnH3B+O831BgKECLFtpVltS1NzeP28YvY+KHX4V9z12ZTp82jSKsSsq7hMLB3XOBDmZWF3jdzNq5+4o4QwcA8919S/5OM6sJTACGu/u2OPMOrOlM4DTgR2CGmWW6+4wDahoDjAFIT08/1J6MSNKasnwDN4z9IGxf1rkFf76wne5uliNWpKuV3H2rmc0itncQLxwuJTiktE9wnmICMNbdJybwMeuB2e6+OZg/BegEzDjkLJEU8tXWnXS7f//dzVd3S2N4nxOpU10L70jxSORqpQbAniAYqgF9gQfijKsD9ASuyNdnwHNAlruPSrCmt4HbgkNUu4P3fDjBuSJJbU9uHpf/7X0Wf/592Dfxhq50anF0hFVJMkpkz6EJ8GJw3qEC8Jq7TzKzYQDu/nQwbiAwzd135JvbDRgCLDezJUHfXe4+xcwGAo8TO68w2cyWuPu57v69mY0CFhM78T3F3Scf4XaKlHvPzl3L/0zOCtu/O/tEftu7pdZulhJhsYuRyrf09HTPyMgofKBIObTiqx847/F5YfuU5nV5degZurtZjlhwPjc93mu6Q1qkjNq+aw/9HpnLV1t3hn0zf38Wx9WvEWFVkioUDiJlTF6e86dJq3hhwedh38hfnMyg9ObRFSUpR+EgUobMXL2Rq59fHLZ/1q4xT1zeiYq6NFVKmcJBpAzYuG0X3R54lz25sXOAR1WqwHt39OaYmlUirkxSlcJBJEJ7c/O4YewHTFv1bdj38jWd6d6qQYRViSgcRCLz2uJ13DZhWdge2uN47urfJsKKRPZTOIiUsjUbs+k7anbYTjumOm/d3INqR+nSVCk7FA4ipWTXnlwuGfM+S9dtDfum3NSdtsfWjq4okYNQOIiUgsdnfMJD0z8O23+64CT+o0tadAWJFELhIFKCMr/4noufWhC2u7U8hheu7kxlLbwjZZzCQaQEbN+1h7NHzeGbbftXt513ey+aHV09wqpEEqdwEClG7s6dE5fzyuJ1Yd/TV5xKv3aNI6xKpOgUDiLF5O2V33D9y5lh++JOzRj5i5O18I6USwoHkSO0cdsuOv9l/1pUR1evzIwRZ1GvxlERViVyZBQOIodpb24eVz6/iPlrvgv7xg/rQnpavQirEikeCgeRw/Digs+5582VYfvGXi0Zcc6JWnhHkobCQaQIVn+znXMfmRO2WzeuxcQbulL9KP0oSXLR/6NFErAjZy/nPT6PzzbvXwX3nd/1pGXDmhFWJVJyFA4ih+Du3PfWR4yZszbs+8vA9lx+eosIqxIpeQoHkYOYv2Yzg59dGLb7tG7IM0NOpZLubpYUoHAQOcCm7Tn0HDmTH3fnAlDBYOFdfWlQSwvvSOpQOIgE9ubmcfOrS5i8bEPY9/xVp9GrdcMIqxKJhsJBBHj9w/Xc8urSsH1V1zTuGdBWl6ZKyio0HMysKjAHqBKMH+/u9xww5lZgcL73bAM0AGoALwGNgTxgjLs/GswZBNwbjO3s7hkHvGcLYBVwr7v/9TC3T+SQPtu8g15/nRW2m9atxrRbelCjiv5uktSWyE9ADtDb3bPNrDIwz8zecvf39w1w95HASAAzGwDc4u5bzKwKMMLdPzCzWkCmmU1391XACuAi4JmDfO7DwFuHv2kiB5ezN5crnl3I4s+/D/v+feOZtG9WJ8KqRMqOQsPB3R3IDpqVgy8/xJTLgHHB3A3AhuD77WaWBTQFVrl7FhB3t93MLgTWAjsKvChyhJ6e/Sn3v/VR2P7Pn7fh2u7HR1iRSNmT0L6zmVUEMoGWwGh3X3iQcdWBfsCNcV5LAzoCcefmG1cDuB04G/h9IvWJJGLpuq1cMHp+2D79uHq8fM3pHFVJl6aKHCihcHD3XKCDmdUFXjezdu6+Is7QAcB8d9+Sv9PMagITgOHuvq2Qj/sj8HBwGOugg8xsKDAUoEUL3ZAkB5eds5dzH57DV1t3hn1zbu1Fi2O08I7IwRTprJu7bzWzWcT2DuKFw6UEh5T2Cc5TTADGuvvEBD7mdOAXZvYgUBfIM7Nd7v7EAbWMAcYApKenH+owl6Qod+eeN1fy0ntfhH1PXN6R804+NsKqRMqHRK5WagDsCYKhGtAXeCDOuDpAT+CKfH0GPAdkufuoRApy9+755t8LZB8YDCKFmZH1Lde8uP8CuPNPOZaHL+lARS28I5KQRPYcmgAvBucdKgCvufskMxsG4O5PB+MGAtPcPf9J5G7AEGC5mS0J+u5y9ylmNhB4nNglr5PNbIm7n3vkmySpbHN2Dqf9+R082JesVaUSM289i/o1dXezSFGYe/k/IpOenu4ZGRmFD5SklZvnXPPiYmat3hT2vTL0DM44/pgIqxIp28ws093T472mO32k3PvH+1/wn//afwrs+h7Hc8fPWuvuZpEjoHCQcmvNxmz6jpodtls2rMkbv+mmu5tFioF+iqTc2bk7lwtGz+Pjb7PDvum39KBVo1oRViWSXBQOUm64Ow++vZqnZn0a9v3x/JO4smtadEWJJCmFg5QLC9d+xyVjwsd50b1VfZ6/6jQtvCNSQhQOUqZ9l51Dr7/OYtuuvWHforv60LB21QirEkl+Cgcpk3LznBGvLeFfS74O+8YMOZVzTmocYVUiqUPhIGXOv5d+zW/HfRi2Lz+9BX++sJ0uTRUpRQoHKTO+/O5HeoycGbYb1a7CjBFnUVOXpoqUOv3USeRy9uZy5d8X8f7a/Q/zff2GrnRscXSEVYmkNoWDROq5eZ/x35NWhe3b+7Xm12edEGFFIgIKB4nIiq9+4LzH54XtU39yNGOvPZ2qlStGWJWI7KNwkFK1I2cv/R+byxff/Rj2vTuiJ8c3qBlhVSJyIIWDlAp3578nZfH3+Z+FfQ9fcgoDOzaLsCoRORiFg5S4mas3cvXzi8N2//aNeezSjrq7WaQMUzhIifkuO4cz7pvBntzYmiHVKldk9m1n0bCW7m4WKesUDlLs8vKcoS9n8k7Wt2Hf2GtPp1vL+hFWJSJFoXCQYvXq4i+5fcLysP2rbsdx93ltdHezSDmjcJBi8dnmHfT666ywnXZMdSbd1F13N4uUU/rJlSOyc3cuFz+1gFUbtoV9bw/vwU8ba+EdkfJM4SCHxd0ZNf1jHn93Tdh393ltuebM4yKsSkSKi8JBiizziy1c/NR7YbvL8cfw8jWddWmqSBJROEjCtuzYTZ+HZvH9j3vCvoV39aGRFt4RSToKBylUbp5z+4RljM9cH/Y9fUUn+rVrEmFVIlKSCj0OYGZVzWyRmS01s5Vm9sc4Y241syXB1wozyzWzembW3MxmmllWMPfmfHMGBX15Zpaer/9sM8s0s+XBv72Lb3OlqKau2MAJd00Jg+GX6c347L7+CgaRJJfInkMO0Nvds82sMjDPzN5y93C1d3cfCYwEMLMBwC3uvsXMqgAj3P0DM6sFZJrZdHdfBawALgKeOeDzNgMD3P1rM2sHvA00PdINlaJZt+VHuj+4f+Gd+jWrMPP3PalVtXKEVYlIaSk0HNzdgeygWTn48kNMuQwYF8zdAGwIvt9uZlnEftGvcvcsoMDNUe7+Yb7mSqCqmVVx95xENkiOzO69efzqhcXMW7M57Jvw666c+hMtvCOSShI652BmFYFMoCUw2t0XHmRcdaAfcGOc19KAjkDcuQdxMfBhvGAws6HAUIAWLVoU4S3lYF5673P+642VYXvE2Sfy2z6tIqxIRKKSUDi4ey7QwczqAq+bWTt3XxFn6ABgvrtvyd9pZjWBCcBwd98WZ14BZnYS8ABwzkFqGgOMAUhPTz/UnowUYtXX2+j/2NywfUrzurw69AwtvCOSwop0tZK7bzWzWcT2DuKFw6UEh5T2Cc5TTADGuvvERD7HzJoBrwP/4e6fFqVGSdyPu/dy3mPzWLt5R9j3zu960rKhFt4RSXWFhoOZNQD2BMFQDehL7C/6A8fVAXoCV+TrM+A5IMvdRyVSULB3Mhm4093nJzJHisbdue+tjxgzZ23YN/IXJzMovXmEVYlIWZLInkMT4MXgvEMF4DV3n2RmwwDc/elg3EBgmrvvyDe3GzAEWG5mS4K+u9x9ipkNBB4HGgCTzWyJu59L7HxFS+BuM7s7mHOOu288/M2UfeZ+sokhzy0K2+e0bcSTgzvp7mYR+X8sdjFS+Zaenu4ZGRlRl1Gmbdmxmy73zSBnbx4AR1WswNzbe+nuZpEUZmaZ7p4e7zXdIZ3k8vKcG8Z+wNSV34R9L/6qMz1PbBBhVSJS1ikckthrGeu4bfyysH1V1zT+67y2VKighXdE5NAUDkno8807OCvfwjvNjq7GWzd3193NIpIwhUMS2bUnl0FPv8fyr34I+6bc1J22x9aOsCoRKY8UDknA3Xl0xic88s4nYd8f+rfh2u7Hae1mETksCody7sMvv2fgkwvCdue0eoy97nQq69JUETkCCodyauuPu+k7ag6bs/c/dur9O/vQuI4uTRWRI6dwKGfy8pw7Jy7n1Yx1Yd+TgzvRv73WVxCR4qNwKEemr/qW617af7PfRZ2a8tCgU3ReQUSKncKhHPh660663v9u2K5X4yhm3XoWtXVpqoiUEIVDGbYnN4/rXspg1upNYd8/h3XhtLR6EVYlIqlA4VBG/e/CL7nr9eVh+6Y+rfjd2SdGWJGIpBKFQxmz+pvtnPvInLB90rG1mfDrrlp4R0RKlcKhjNi5O5fzn5jHJxuzw75pt/TgxEa1IqxKRFKVwqEMeHDqRzw5a/+Cd38Z2J7LT9e62CISHYVDhOav2czgZxeG7T6tG/L0kFN1d7OIRE7hEIEtO3bT9f4Z7NoTW3inYgVj3u29aFKnWsSViYjEKBxKUW6ec8PYTN5e+W3Y9/xVp9GrdcMIqxIRKUjhUErGLfqSOyfuvzRVC++ISFmmcChhazZm03fU7LDdol51ptzcnZpV9J9eRMou/YYqITty9nL+E/P4dNOOsO/t4T34aWNdmioiZZ/CoZi5O3+ZksXf5n4W9v33BScxpEtadEWJiBSRwqEYvffpd1z2t/fDdq+fNuDZK0+jos4riEg5U2g4mFlVYA5QJRg/3t3vOWDMrcDgfO/ZBmgA1ABeAhoDecAYd380mDMIuDcY29ndM/K9353ANUAucJO7v334m1jytuzYTc+RM9m+ay8AFQwW/6Evx9SsEnFlIiKHJ5E9hxygt7tnm1llYJ6ZveXu4Z/I7j4SGAlgZgOAW9x9i5lVAUa4+wdmVgvINLPp7r4KWAFcBDyT/8PMrC1wKXAScCzwjpmd6O65R765xcvd+c9/rWDswi/Dvr9flU7v1o0irEpE5MgVGg7u7sC+B/5UDr78EFMuA8YFczcAG4Lvt5tZFtAUWOXuWUC8hWouAF5x9xzgMzNbA3QG3ktwm0rF0nVbuWD0/LB9SXpz7r+4vRbeEZGkkNA5BzOrCGQCLYHR7r7wIOOqA/2AG+O8lgZ0BOLOzacp8H6+9vqg78D3GwoMBWjRonSfQ/TkrDU8OHU1AJUrGov/0Je61Y8q1RpEREpSQg/xcfdcd+8ANAM6m1m7gwwdAMx39y35O82sJjABGO7u2wr5uHh/ehfYU3H3Me6e7u7pDRo0KHQbist9b2WFwfCnC07ikz/3VzCISNIp0tVK7r7VzGYR2ztYEWfIpQSHlPYJzlNMAMa6+8QEPmY90DxfuxnwdVHqLCnjFn3JM7PXAjDxhq50anF0xBWJiJSMQvcczKyBmdUNvq8G9AU+ijOuDtATeCNfnwHPAVnuPirBmt4ELjWzKmZ2HNAKWJTg3BLzybfbw8dfjB/WRcEgIkktkcNKTYCZZrYMWAxMd/dJZjbMzIblGzcQmObuO/L1dQOGAL3NbEnw1R/AzAaa2XqgCzDZzN4GcPeVwGvAKmAq8Juor1Tam5vH2Q/HVmf7Q/82pGsNZxFJcha7GKl8S09P94yMjMIHHqZLnnmPhZ9toW2T2ky5uXuJfY6ISGkys0x3T4/3mlaVKcSHX37Pws9i59fH/7pLxNWIiJQOhcMh5OU5A59cAMBzV6ZT/Sg9bUREUoPC4RD+mbkOgCZ1qtKnje56FpHUoXA4iN1787h9QuzqpHHXnRFxNSIipUvhcBDPzYs9crtzWj3S6teIuBoRkdKlcIhj155cHpgau5Xjics7RlyNiEjpUzjE8fz8zwE4s2V9GtauGm0xIiIRUDgcIGfv/r2GkYNOjrgaEZFoKBwO8K8PvwLglOZ1aVKnWsTViIhEQ+GQj7uHz0964OL2EVcjIhIdhUM+H67bSp5Dg1pVaN24dtTliIhERuGQz6PvfAJor0FEROEQ2Jydw+yPNwHQ66cNI65GRCRaCofA8/NjN71d1/04rQMtIilP4QDk5jmjZ34KwLXdj4+4GhGR6CkcgBVf/QDA8fVr0Eg3vYmIKBwAHpsROxF994C2EVciIlI2pHw4/LBzDzM+2ghAj1YNIq5GRKRsSPlwmLU6Fgw/b9+EihV0IlpEBBQO/DNjPQDX9dCJaBGRfVI6HDb8sJN5azbTol51OjSvG3U5IiJlRkqHw8ZtOQD0b98k4kpERMqWlA6HOtUq0799Y36ucBAR+X8qRV1AlNLq1+DJwadGXYaISJlT6J6DmVU1s0VmttTMVprZH+OMudXMlgRfK8ws18zqmVlzM5tpZlnB3JvzzalnZtPN7JPg36OD/spm9qKZLQ/m3Vm8mywiIoVJ5LBSDtDb3U8BOgD9zOyM/APcfaS7d3D3DsCdwGx33wLsBUa4exvgDOA3ZrbvTrM7gBnu3gqYEbQBBgFV3L09cCpwvZmlHcE2iohIERUaDh6THTQrB19+iCmXAeOCuRvc/YPg++1AFtA0GHcB8GLw/YvAhfs+EqhhZpWAasBuYFuC2yMiIsUgoRPSZlbRzJYAG4Hp7r7wIOOqA/2ACXFeSwM6AvvmNnL3DRALEWDfc7LHAzuADcCXwF+DvZAD32+omWWYWcamTZsS2QwREUlQQuHg7rnBIaNmQGcza3eQoQOA+Qf+MjezmsQCY7i7F7YX0BnIBY4FjgNGmFmBO9TcfYy7p7t7eoMGeuyFiEhxKtKlrO6+FZhFbO8gnksJDintY2aViQXDWHefmO+lb82sSTCmCbG9EoDLganuvsfdNwLzgfSi1CkiIkcmkauVGphZ3eD7akBf4KM44+oAPYE38vUZ8ByQ5e6jDpjyJnBl8P2V+eZ9CfS2mBrETmQX+DwRESk5iew5NAFmmtkyYDGxcw6TzGyYmQ3LN24gMM3dd+Tr6wYMIfbLft+lrv2D1+4HzjazT4CzgzbAaKAmsCL4vOfdfdnhbqCIiBSduR/qwqPywcw2AV8c5vT6wOZiLKc80DanBm1zajiSbf6Ju8c9aZsU4XAkzCzD3VPqnIa2OTVom1NDSW1zSj9bSURE4lM4iIhIAQoHGBN1ARHQNqcGbXNqKJFtTvlzDiIiUpD2HEREpACFg4iIFJCy4WBm/cxstZmtMbM7Cp9R/pnZ381so5mtiLqW0nKoNUWSVSJrsCSr4CGhH5rZpKhrKQ1m9nmw9s0SM8so1vdOxXMOZlYR+JjYndnrid2JfZm7r4q0sBJmZj2AbOAldz/YwxOTSvDcribu/oGZ1QIygQuT+X/r4LE1Ndw9O3i22TzgZnd/P+LSSpyZ/Y7Ys9hqu/t5UddT0szscyDd3Yv9xr9U3XPoDKxx97Xuvht4hdj6EknN3ecABR5/nswKWVMkKR3GGixJwcyaAT8Hno26lmSQquHQFFiXr72eJP+FIXHXFElaia7BkmQeAW4D8iKuozQ5MM3MMs1saHG+caqGg8XpS/q/rFJZEdcUKfeKsAZLUjCz84CN7p4ZdS2lrJu7dwJ+RmwZ5h7F9capGg7rgeb52s2AryOqRUrYIdYUSXoJrMGSLLoB5wfH4F8h9iTof0RbUslz96+DfzcCrxM7ZF4sUjUcFgOtzOw4MzuK2CJFb0Zck5SAQtYUSUqJrsGSTNz9Tndv5u5pxH6e33X3KyIuq0SZWY3gIguCtW/OIbbUQbFIyXBw973AjcDbxE5QvubuK6OtquSZ2TjgPeCnZrbezK6JuqZScKg1RZJV3DVYIq5Jil8jYJ6ZLQUWAZPdfWpxvXlKXsoqIiKHlpJ7DiIicmgKBxERKUDhICIiBSgcRESkAIWDiIgUoHAQSZCZ1TWzG6KuQ6Q0KBxEElcXUDhISlA4iCTufuCE4Ea6kQcbFDz07gUzWxE8a/+WoP8EM5saPCRtrpm1DvobmdnrwfoLS82sayltj8hBVYq6AJFy5A6gXfBAu0PpADTdt2bGvkdZEFsIfpi7f2JmpwNPAr2Bx4DZ7j4wWGukZgnULlIkukNaJEHBI78nFbZQkpkdDWQAU4DJwDSgOrAJWJ1vaBV3b2Nmm4Bm7p5TIoWLHAbtOYgUM3f/3sxOAc4FfgP8EhgObE1gr0OkTNA5B5HEbQdq5e8wswJPOzWz+kAFd58A3A10CtaQ+MzMBgVjLAgQgBnAr4P+imZWuwS3QSQhCgeRBLn7d8D84ETzyCAE4i0c1RSYFazE9gJwZ9A/GLgmeIrmSvYvTXsz0MvMlhNb4/qkktsKkcTonIPIYQpWHzve3R+LuhaR4qZwEBGRAnRYSUREClA4iIhIAQoHEREpQOEgIiIFKBxERKQAhYOIiBTwf+oAnXjAhe4xAAAAAElFTkSuQmCC\n",
      "text/plain": [
       "<Figure size 432x288 with 1 Axes>"
      ]
     },
     "metadata": {
      "needs_background": "light"
     },
     "output_type": "display_data"
    }
   ],
=======
   "execution_count": null,
   "metadata": {},
   "outputs": [],
>>>>>>> master
   "source": [
    "log_ground['position/h-agl-ft'].plot()"
   ]
  },
  {
   "cell_type": "code",
<<<<<<< HEAD
   "execution_count": 47,
   "metadata": {},
   "outputs": [
    {
     "data": {
      "text/plain": [
       "<AxesSubplot:xlabel='t, sec'>"
      ]
     },
     "execution_count": 47,
     "metadata": {},
     "output_type": "execute_result"
    },
    {
     "data": {
      "image/png": "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\n",
      "text/plain": [
       "<Figure size 432x288 with 1 Axes>"
      ]
     },
     "metadata": {
      "needs_background": "light"
     },
     "output_type": "display_data"
    }
   ],
=======
   "execution_count": null,
   "metadata": {},
   "outputs": [],
>>>>>>> master
   "source": [
    "log_ground['ic/theta-rad'].plot()"
   ]
  },
  {
   "cell_type": "code",
<<<<<<< HEAD
   "execution_count": 48,
   "metadata": {},
   "outputs": [
    {
     "data": {
      "text/plain": [
       "<AxesSubplot:xlabel='t, sec'>"
      ]
     },
     "execution_count": 48,
     "metadata": {},
     "output_type": "execute_result"
    },
    {
     "data": {
      "image/png": "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\n",
      "text/plain": [
       "<Figure size 432x288 with 1 Axes>"
      ]
     },
     "metadata": {
      "needs_background": "light"
     },
     "output_type": "display_data"
    }
   ],
   "source": [
    "log_ground['attitude/theta-deg'].plot()"
   ]
  },
  {
   "cell_type": "code",
   "execution_count": 6,
   "metadata": {},
   "outputs": [
    {
     "data": {
      "text/plain": [
       "False"
      ]
     },
     "execution_count": 6,
     "metadata": {},
     "output_type": "execute_result"
    }
   ],
=======
   "execution_count": null,
   "metadata": {},
   "outputs": [],
>>>>>>> master
   "source": [
    "fdm.resume_integration()\n",
    "fdm.get_propulsion().get_steady_state()"
   ]
  },
  {
   "cell_type": "code",
<<<<<<< HEAD
   "execution_count": 8,
   "metadata": {},
   "outputs": [
    {
     "data": {
      "text/plain": [
       "<AxesSubplot:xlabel='t, sec'>"
      ]
     },
     "execution_count": 8,
     "metadata": {},
     "output_type": "execute_result"
    },
    {
     "data": {
      "image/png": "iVBORw0KGgoAAAANSUhEUgAAAXoAAAERCAYAAAB1k2wJAAAAOXRFWHRTb2Z0d2FyZQBNYXRwbG90bGliIHZlcnNpb24zLjMuMiwgaHR0cHM6Ly9tYXRwbG90bGliLm9yZy8vihELAAAACXBIWXMAAAsTAAALEwEAmpwYAAAlsklEQVR4nO3dd5hU5d3/8feXJtJRihQpUqyhriC9qChGxf4YFftDUDH29nseU0xyxUdiFwu2JIqaWDBYgiAiTSlL77gCwoK6dFj67n5/f8xhGJaFHXR3z5TP67rm2rnvc87M92Dy2bP3nLlvc3dERCR1lQu7ABERKV0KehGRFKegFxFJcQp6EZEUp6AXEUlxCnoRkRSXsEFvZq+ZWY6ZLSih12tiZmPMbLGZLTKzZnEed7WZzQseX5lZ22L2f9bMcmPaA4Jj55hZppl1D/qPN7PxQT0LzeyOQq9zu5ktDbY9FvQdGxyTa2bPxexbxcw+MbMlwf6Pxmxrambjghq+NLPGxdR/2LpEJAm5e0I+gJ5AB2BBCb3el8DZwfNqQJUi9llZRF9XoHbwvD8w7TDvkQG8AeTG9FUDLHjeBlgSPG8AdAieVweWAacE7T7A58BRQbte8LMq0B0YDDwX8x5VgD7B80rAJKB/0H4XuC543hd4o5h/p0PWpYceeiTnI2Gv6N19IrAxts/MWpjZaDObaWaTzOykeF7LzE4BKrj72OC1c919R5x1fOXum4LmVKDIK2IzKw8MBe4vdHyuu+/7VlpVwIP+7919VvB8G7AYaBTsdwvwqLvvDrbnBD+3u/tkYFeh99jh7uOD53uAWTF1ngKMC56PBwbE1Hyfmc0Irvb/EEddIpKEEjboD2E4cLu7dwTuBZ6P87jWwGYz+8DMZpvZ0CCYj9RNwH8OsW0IMMrdvy+8wcwuNrMlwCfAjUVsbwa0B6bF1NvDzKaZ2QQzOz3eAs2sFnAB+8N9LnBp8PxioHowBNQPaAV0AtoBHc2sZzF1iUgSqhB2AfEys2pEhlHeNbN93UcF2y4BHinisDXufg6R8+xBJLRWAf8ErgdeNbNhQLdg/4ZmNid4/q67/znm/fsQCfruRdTWELgc6F1U7e4+EhgZBOkfgbMKndf7wJ3uvjXorgDUBs4ATgf+ZWYnxPxlUCQzqwC8DTzj7suD7nuB58zsemAisAbIA/oFj9nBftWIBP/Ew9QlIkkoaYKeyF8fm929XeEN7v4B8MFhjs0GZu8LPzP7kEiIvurut+3bycxWFvX6ZtYGeIXIuPeGIl6/PdASyAp+CVUxsyx3b1mozonB8FMdd19vZhWJhOmI4Bxi6/0gCPbpZlYA1AHWHeYcIfIXzzfu/lTMe64FLgnOoxpwqbtvsUihf3H3l4o430PVJSJJKGmGboKryhVmdjmARRz2DpgYM4DaZlY3aPcFFsVzoJk1IfJLZKC7LztEbZ+4+3Hu3szdmwE79oW8mbUMQhUz60Dkw9INQd+rwGJ3f6LQS34Y1IiZtQ6OWV9MnX8CagJ3FuqvY2b7/js/BLwWPP8MuDEIf8yskZnVK6YuEUlGYX8afKgHkSGI74G9RK5wbwKaA6OJjDsvAn57BK93NjAPmA/8DahUxD4ri+h7BdgEzAkemTHbPgUaFnFM7F03DwALg2O/BroH/d2JfDA7L+a1zwu2VQLeBBYQ+WC1b2yNRD6kzg3+XU4h8sGrE/ngdN9r3RzsfxnwDZG7Z14huJMn2HZH8O8xP6itxeHq0kMPPZLzse+2PxERSVFJM3QjIiI/TUJ+GFunTh1v1qxZ2GWIiCSNmTNnrnf3ukVtS8igb9asGZmZmWGXISKSNMzsu0Nt09CNiEiKU9CLiKQ4Bb2ISIpT0IuIpDgFvYhIiosr6M2slpm9FyxssdjMuhTa3tvMtgSLa8wxs9/GbDs3WEAjy8weLOkTEBGRw4v39sqngdHufpmZVSKy0EVhk9z9/NiOYCrgYUSmH8gGZpjZKHePa54ZERH5+Yq9ojezGkRWe3oVIgtbuPvmOF+/E5Dl7ss9siDGO8QsfCEiIhGvTl7BsPFZpfLa8VzRn0BketzXg9kiZwJ3uPv2Qvt1MbO5wFrgXndfSGRlotUx+2QDnYt6EzMbBAwCaNKkyRGdhIhIslq1YQc9h44H4KgK5bitT8tijjhy8YzRVyCydusL7t4e2A4UHmufBTR197bAs0Sm2QUwDlbkLGruPtzdM9w9o27dIr/FKyKSMnbtzeecJydGQx7gzZuLvA7+2eK5os8Gst1933Jy71Eo6D1mBSJ3/9TMnjezOsGxx8fs2pjIFb+ISFpydx7+9wLenLoq2vdQ/5P4da8WpfaexQa9u/9gZqvN7ER3XwqcSaFFO8zsOOBHd3cz60TkL4UNwGaglZk1J7KE3ZXAVSV8DiIiSeHD2Wu4859zou1+p9Rn2NUdqFi+dO90j/eum9uBEcEdN8uBG8xsMIC7v0hkcYtbzCwP2Alc6ZGJ7vPMbAiR1YzKA68FY/ciImkjK2cbZz0xMdquXaUin9/di2OrHVUm75+QC49kZGS4Zq8UkWS3Zedeznt6Ems274z2fTSkO79oXLPE38vMZrp7RlHbEnKaYhGRZJZf4Nz37lw+mL0m2veni07jmjOahlKPgl5EpAS9OfU7/vfDBdH2Je0b8dfL21KuXFE3IZYNBb2ISAmYl72ZC5+bEm03qnU0n93Vk2pHhR+z4VcgIpLE1ufupt+TE9m4fU+07/O7e9KyXvUQqzqQgl5E5CfYm1/ArSNmMXbRj9G+Z3/VngvaNgyxqqIp6EVEjtDLE5fz508XR9vXdWnK7y88FbPwxuEPR0EvIhKnacs38F/Dp0bbpzWqwbu/7srRlcqHWFXxFPQiIsX4cesueg/9kp1786N9E+7rTdNjq4ZYVfwU9CIih7Anr4DrXpvO18s3RPtev/50+pxUL8SqjpyCXkSkCE+OXcbT476Jtm/r04J7+52YsOPwh6OgFxGJMX5JDjf8bUa03bn5Mfzjpk4cVSGxx+EPR0EvIgKs2byTbo9+EW1XLG9MuK8PDWsdHWJVJUNBLyJpbdfefC5+/isWfx9dVoN3Bp3BGSccG2JVJUtBLyJpyd155ONFvD5lZbTvvnNO5NbeLZJyHP5wFPQiknZGzV3Lb96eHW33ObEuLw3MoFKF0l0AJCwKehFJG9+uy+XMxydE29UrV2D8vb2pU0YLgIRFQS8iKW/Lzr1c8OxkVm3cEe378LZutDu+VnhFlSEFvYikrPwC5/735vH+rOxo3x8vOo2BIS0AEhYFvYikpLenr+KhD+ZH2xe2bchT/9Uu1AVAwqKgF5GUMj97Cxc8NznablizMmPu7pUQC4CEJX3PXERSyobc3Zzz1ETW5+5fAGTMXT1pXT9xFgAJS1xBb2a1gFeA0wAHbnT3r2O2Xw08EDRzgVvcfW6wbSWwDcgH8g61SrmIyE+Rl1/AkLdmM3rhD9G+Z37VngsTcAGQsMR7Rf80MNrdLzOzSkCVQttXAL3cfZOZ9QeGA51jtvdx9/U/v1wRkf1enbyCP368KNoeeEZTHhmQuAuAhKXYoDezGkBP4HoAd98D7Indx92/imlOBRqXXIkiIgeavmIjV7wUHVTglAY1eP+WxF8AJCzxXNGfAKwDXjeztsBM4A53336I/W8C/hPTdmCMmTnwkrsPL+ogMxsEDAJo0qRJnOWLSDrJ2baLXo8duADI+Ht707xOciwAEpZ4gr4C0AG43d2nmdnTwIPAw4V3NLM+RIK+e0x3N3dfa2b1gLFmtsTdJxY+NvgFMBwgIyPDj/xURCRVFbUAyGvXZ9D3pPohVpU84gn6bCDb3acF7feIBP0BzKwNkQ9s+7t79L+Gu68NfuaY2UigE3BQ0IuIFOXpz7/hyc+XRduDe7XggXOTcwGQsBQb9O7+g5mtNrMT3X0pcCawKHYfM2sCfAAMdPdlMf1VgXLuvi143g94pETPQERS0vilOdzw+v4FQDo1iywAUrmixuGPVLx33dwOjAjuuFkO3GBmgwHc/UXgt8CxwPPBb9l9t1HWB0YGfRWAt9x9dMmegoikksILgJQvZ0y8vw+NUmABkLCYe+INh2dkZHhmZmbYZYhIGSpqAZC3/rszXVvUCbGq5GFmMw/1PSV9M1ZEQpVOC4CERUEvIqH595w13PHOnGi794l1efnaDCqWT80FQMKioBeRMpeVs42znth/812NYAGQY1N8AZCwKOhFpMwUtQDIv2/rRts0WQAkLAp6ESl1+QXOfe/O5YPZa6J9f7roNK5JswVAwqKgF5FSNWLad/zPyAXR9oB2DXnyivRcACQsCnoRKRVzV29mwLAp0Xbj2kcz+s6eab0ASFj0Ly4iJWpD7m76PTmRDdu1AEiiUNCLSInYm1/ArSNmMXbRj9G+565qz/lttABI2BT0IvKzvTJpOX/6ZHG0fX3XZvzuglP0hacEoaAXkZ9s6vINXDl8arTdpnFN/jmoixYASTAKehE5Yjlbd9H9sfHsySuI9n15b2+aaQGQhKSgF5G47ckr4OpXpjJj5aZo3+s3nE6fE+uFWJUUR0EvInF5fMxSnv0iK9q+rU8L7u2nBUCSgYJeRA7r80U/cvM/9k8bfsYJx/C3G7QASDJR0ItIkVZv3EGPx8ZH25XKl2PC/b1pUFMLgCQbBb2IHGDHnjwuGjaFZT/mRvv+OegMOp9wbIhVyc+hoBcRAAoKnN+NWsgbU7+L9j3U/yQG9TxB4/BJTkEvIrw/M5t73p0bbZ91cn1evKYDFbQASEpQ0IuksSU/bOXcpyZF28dUrcQX9/SiVpVKIVYlJU1BL5KGNu/YQ/+nJ/H9ll3Rvo9v785pjWqGWJWUlrj+LjOzWmb2npktMbPFZtal0HYzs2fMLMvM5plZh5ht55rZ0mDbgyV9AiISv7z8Aoa8NYt2j4yNhvxjl7Vh5aO/VMinsHiv6J8GRrv7ZWZWCahSaHt/oFXw6Ay8AHQ2s/LAMOBsIBuYYWaj3H1RiVQvInH725QV/P6j/f/Xu7xjYx67rI0+aE0DxQa9mdUAegLXA7j7HmBPod0GAP9wdwemBn8BNACaAVnuvjx4rXeCfRX0ImVk5nebuPSFr6LtE+pW5ePbu1OlkkZu00U8/6VPANYBr5tZW2AmcIe7b4/ZpxGwOqadHfQV1d+5qDcxs0HAIIAmTZrEW7+IHELOtl2c9fgEtu7Ki/aNu6cXLepWC7EqCUM8Y/QVgA7AC+7eHtgOFB5rL+pvPz9M/8Gd7sPdPcPdM+rWrRtHWSJSlD15BVz/+nQ6/XlcNORfGtiRlY/+UiGfpuK5os8Gst19WtB+j4ODPhs4PqbdGFgLVDpEv4iUgmHjsxj62dJo+9c9T+DB/idpHD7NFRv07v6Dma02sxPdfSlwJgePsY8ChgRj8J2BLe7+vZmtA1qZWXNgDXAlcFXJnoKITPpmHQNfnR5td2xamxE3d9bEYwLEf9fN7cCI4I6b5cANZjYYwN1fBD4FzgOygB3ADcG2PDMbAnwGlAdec/eFJXsKIulr7eaddH30iwP6Jt3fh+OPKXxjnKQzi9wok1gyMjI8MzOz+B1F0tSuvflc/uLXzF+zJdo34ubOdGtZJ8SqJExmNtPdM4rapvurRJKIu/PnTxbzyuQV0b67z27N7X1bahxeDklBL5IkPp63liFvzY62e7Wuy8vXZlCpgiYek8NT0IskuG/X5XLm4xOi7WpHVeCLe3tRr3rlEKuSZKKgF0lQW3ft5fxnJrNq445o38hbu9K+Se0Qq5JkpKAXSTD5Bc79783j/VnZ0b5HBpzKtV2ahVeUJDUFvUgCeXPqd/zvhwui7QHtGvLkFe0oV04ftMpPp6AXSQDzsjdz4XNTou1GtY5m9J09qF65YohVSapQ0IuEaN223fR7cgKbduyN9o29qyet6lcPsSpJNQp6kRDszS/gljdn8vninGjfM79qz4VtG4ZYlaQqBb1IGXv+yyweG71/4rHruzbjdxecoi88SalR0IuUka++Xc9VL0+Ltn/RqCbvDu6iicek1CnoRUrZ2s076TV0PHvz988rpYnHpCwp6EVKya69+Qx8dRozVm6K9v39xk70aq2FdaRsKehFSpi783+jl/LihG+jfXee1Yo7zmylcXgJhYJepASNXvADg9+cGW33aFWHV687XROPSagU9CIlYMX67fT565fRdtVK5fni3t7Ur6GJxyR8CnqRn2H77jx++cwkVm7YP/HY+7d0pWNTTTwmiUNBL/ITFBQ4978/j/dm7p947Lfnn8KN3ZuHWJVI0RT0Ikfo7emreOiD+dH2BW0b8uQVbalQXuPwkpgU9CJxmp+9hQuemxxtN6hZmdF39KRmFU08JoktrqA3s5XANiAfyCu8AK2Z3QdcHfOaJwN13X1jcceKJLoNubs584kJbI6ZeGzMXT1prYnHJEkcyRV9H3dfX9QGdx8KDAUwswuAu9x9YzzHiiSqvfkFDH5jJuOW7J947Kn/asdF7RuFWJXIkSuNoZtfAW+XwuuKlAl35/kvv2XoZ/snHruuS1N+f+Gp+sKTJKV4g96BMWbmwEvuPryoncysCnAuMOQnHDsIGATQpEmTOMsSKVmFJx47uUENRt7aVROPSVKLN+i7uftaM6sHjDWzJe4+sYj9LgCmFBq2ievY4BfAcICMjAwvvF2kNGVv2kHPx8ZTEPO/vCkP9qVRraPDK0qkhMQV9O6+NviZY2YjgU5AUUF/JYWGbY7gWJEyt2tvPte8Mo3M7zTxmKSuYoPezKoC5dx9W/C8H/BIEfvVBHoB1xzpsSJlzd35y3+WMHzi8mjfPWe35vYzW4VYlUjpiOeKvj4wMvgQqgLwlruPNrPBAO7+YrDfxcAYd99e3LElVbzITzFm4Q8MemP/xGM9W9fllWszNPGYpCxzT7zh8IyMDM/MzAy7DEkxWTm5nPXEhGi7RuUKjLunN3WrHxViVSIlw8xmHup7SvpmrKS87bvzuODZySxfv/+PTU08JulEQS8pq6DAufe9uXwwa020748DTmVgl2bhFSUSAgW9pKR3pq/iwZiJxwa0a8gTV7SjfDl94UnSj4JeUsrc1ZsZMGxKtN2o1tF8+psemnhM0pqCXlLCxu176DV0PNt25UX7NPGYSISCXpLa3vwCbv57JhOWrYv2PX1lOwa008RjIvso6CUpuTvPfZHF42OXRftu6NaMh395CuU0Di9yAAW9JJ0Jy9Zx3WvTo+1TG9bgvcFdObqSJh4TKYqCXpLG6o076PHY+AP6vn6oLw1qauIxkcNR0EvC27EnjyuHT2Ve9pZo3xs3daJHK008JhIPBb0krIIC5w8fLeTvX38X7Xvg3JO4pXeLEKsSST4KeklIH81dy+1vz462e58YmXisQnlNPCZypBT0klCW/rCNc57av1zBMVUr8cU9vahVpVKIVYkkNwW9JIQtO/dy4XOT+W7Djmjfv2/rRtvja4VXlEiKUNBLqPILnHv+NYcP56yN9j12aRuuOP34EKsSSS0KegnNiGnf8T8jF0Tbl3dszP9d2kZfeBIpYQp6KXOzVm3ikue/irZb1K3Kh7d1o3plTTwmUhoU9FJmNm3fQ8/HxrNt9/6Jx8be1ZNWmnhMpFQp6KXU5eUXcP3rM5ictT7a98LVHej/iwYhViWSPhT0UqqGjc9i6GdLo+2bujfnf395MsGC8SJSBhT0UioKTzzW7vhavP3fZ2jiMZEQxBX0ZrYS2AbkA3mFVxo3s97Av4EVQdcH7v5IsO1c4GmgPPCKuz9aEoVLYlq7eSddH/3igL7JD/Shce0qIVUkIkdyRd/H3dcfZvskdz8/tsPMygPDgLOBbGCGmY1y90VHXqoksp178rnipa+Zv0YTj4kkmtIeuukEZLn7cgAzewcYACjoU0RBgfPnTxfz6uQV0b57zm7NkL4tNQ4vkiDiDXoHxpiZAy+5+/Ai9uliZnOBtcC97r4QaASsjtknG+hc1BuY2SBgEECTJk3iLEvC9On877l1xKxou0erOrx2/elU1MRjIgkl3qDv5u5rzaweMNbMlrj7xJjts4Cm7p5rZucBHwKtgKIu6byoNwh+eQwHyMjIKHIfSQzfrsvlzMcnRNtVK5Vn0gN9OaaqJh4TSURxBb27rw1+5pjZSCJDMhNjtm+Nef6pmT1vZnWIXMHHTlrSmMgVvySh3N15XDxsCt/k5Eb73r+lKx2b1g6xKhEpTrFBb2ZVgXLuvi143g94pNA+xwE/urubWSegHLAB2Ay0MrPmwBrgSuCqkj0FKW0FBc7D/17AiGmron2PDDiVa7s0C68oEYlbPFf09YGRwQdrFYC33H20mQ0GcPcXgcuAW8wsD9gJXOnuDuSZ2RDgMyK3V74WjN1Lkvh43lqGvLV/AZBzTz2OYVd3oLwmHhNJGhbJ48SSkZHhmZmZYZeR1rJytnHWE/s/hqlT7SjG3d2LmlU08ZhIIjKzmYW/47SPvhkrB9ixJ49Lnv+KJT9si/ZpARCR5KagFwDcnd+POnAh7j9ddBrXnNE0xKpEpCQo6IXRC35g8Jszo+3+px3Hs79qr4W4RVKEgj6Nrd64gx6PjY+2a1WpyOd396JOtaNCrEpESpqCPg3tzsvn0he+YsGa6NcfdD+8SApT0KeZx8cs5dkvsqLtB/ufxOBeLUKsSERKm4I+TRSeH75Hqzq8et3pVKqgcXiRVKegT3E5W3dxxl/GURB8XaKcwZQH+9Kg5tHhFiYiZUZBn6L25BVw/evT+erbDdG+f9zYiZ6tNT+8SLpR0KcYd+f5L789YJ3WW3q34P5zTtT88CJpSkGfQmas3MjlL34dbZ/WqAbvDe5K5Ypap1UknSnoU8CPW3fRa+h4du0tiPZNebAvjWppHF5EFPRJbXdePje8PuOAcfjhAzvS79TjQqxKRBKNgj4JuTt/+c8Shk9cHu27pXcLHjj3pBCrEpFEpaBPMu/NzObed+dG252aH8ObN3XW/fAickgK+iTx1bfruerladF2rSoVGXd3L47VvDQiUgwFfYKbs3ozFw2bckDff+7owckNaoRUkYgkGwV9gpq9ahMXP//VAX1v3dyZri3rhFSRiCQrBX2CGb80hxten3FA30sDO3KO7qQRkZ9IQZ8ACgqcp8Z9wzPjvjmgX7dKikhJUNCHKCtnG7eOmMWyH3OjfRXKGf8a3IUOTTQ3vIiUjLiC3sxWAtuAfCCv8ErjZnY18EDQzAVucfe58RybbtZs3skfP1rE6IU/HNCf0bQ2L1zTkbrVdReNiJSsI7mi7+Pu6w+xbQXQy903mVl/YDjQOc5jU9ruvHw+nL2GVyevOODKHSJX7/93aRsu6dBIE46JSKkpkaEbd4+9PWQq0LgkXjeZuDvZm3Yyf80W5mZvZuGarSxYu4XNO/YesF+NyhX4zZmtuK5rMypq8W0RKQPxBr0DY8zMgZfcffhh9r0J+M+RHmtmg4BBAE2aNImzrLK3ZvNOpi3fwII1W8lal8uqDdtZvWkn+ftW9ohxTNVKdGp2DC3qVeXGbs1pVb96CBWLSLqLN+i7uftaM6sHjDWzJe4+sfBOZtaHSNB3P9Jjg18AwwEyMjIOTs2Q5Bc4L3yZxTPjstiTX3DQ9iqVytOybjWaHluFlvWqcVKDGvyiUU2aHFOF8uU0HCMi4Ysr6N19bfAzx8xGAp2AA8LazNoArwD93X3DkRybiPbkFXDT32cw6ZsDP1ro1boul2c0pmPT2hxXo7LG1kUk4RUb9GZWFSjn7tuC5/2ARwrt0wT4ABjo7suO5NhE9NnCH/j1GzOj7a4tjuXpK9vrjhgRSUrxXNHXB0YGV64VgLfcfbSZDQZw9xeB3wLHAs8H++27jbLIY0v8LErQ/xs5n7emrQKgTeOa/OvXXbRCk4gkNXNPmOHwqIyMDM/MzCzz973rn3MYOXsNAC9fm8HZp9Qv8xpERH4KM5t5qO8p6Zuxgb9/tTIa8p/8pjunNqwZckUiIiVDN3ITmYrgd6MWAvCvX3dRyItISkn7oC8ocM56InIT0O19W9Kp+TEhVyQiUrLSPuhHTF8VfX7XWa1DrEREpHSkddDvySvg4Q8XADD6zh6U0xecRCQFpXXQ/3NG5Gq+Y9PanHScluYTkdSUtkFfUOD84aNFADx6yS9CrkZEpPSkbdDPXr2ZvAKnVb1qmmxMRFJa2gb9Ix9HruYfPv+UkCsRESldaRn0P27dxdzVm4HIPDYiIqksLYP+3czVAFzftRkVtPiHiKS4tEy5UXPXAnBjt+YhVyIiUvrSLugXf7+VZT/m0rFpbZocWyXsckRESl3aBf3bwTdhL+nQKORKRETKRtoF/dffRha/0hTEIpIu0iroF6zZwjc5ufRoVYd61SuHXY6ISJlIq6D/aF7kQ9gB7TRsIyLpI62C/vNFPwLQvWWdkCsRESk7aRP0y9fl8u267fQ+sS7H1dSwjYikj7QJ+szvNgHQubm+CSsi6SWuoDezlWY238zmmNlBq3ZbxDNmlmVm88ysQ8y2c81sabDtwZIs/kj89bOlAPQ/7biwShARCcWRLA7ex93XH2Jbf6BV8OgMvAB0NrPywDDgbCAbmGFmo9x90c+o+Yht27WXnG27Oa5GZZrVqVqWby0iErqSGroZAPzDI6YCtcysAdAJyHL35e6+B3gn2LdMTfom8vupeyt9CCsi6SfeoHdgjJnNNLNBRWxvBKyOaWcHfYfqP4iZDTKzTDPLXLduXZxlxef1KSsAGNzrhBJ9XRGRZBBv0Hdz9w5EhmhuM7OehbYXtdiqH6b/4E734e6e4e4ZdevWjbOs+PywdRcAjWtrbhsRST9xBb27rw1+5gAjiQzJxMoGjo9pNwbWHqa/zExfsZHVG3dy3i+Oo3LF8mX51iIiCaHYoDezqmZWfd9zoB+woNBuo4Brg7tvzgC2uPv3wAyglZk1N7NKwJXBvmVm2vLI3DaXtG9clm8rIpIw4rnrpj4w0sz27f+Wu482s8EA7v4i8ClwHpAF7ABuCLblmdkQ4DOgPPCauy8s8bM4jFcmR8bn2xxfsyzfVkQkYRQb9O6+HGhbRP+LMc8duO0Qx39K5BdBmdu0fQ9bdu6lQ5NamsRMRNJWSn8z9oslOQB0bFo75EpERMKT0kH/8qTlAFzbpVm4hYiIhCilg37fbZUNNImZiKSxlA36CcvWsXnHXi7r2JgK5VP2NEVEipWyCThucWTu+cs76rZKEUlvKRv0783MBuDkhjVCrkREJFwpGfQr129nx558+p1SnxqVK4ZdjohIqFIy6L9cGrmtsodmqxQRSc2g//1Hkenuz2/TMORKRETCl3JBvz53NwCNah1N7aqVQq5GRCR8KRf0n8z7HoCrOjcJuRIRkcSQckH/u1GROdMGdmkaciUiIokhpYJ+5frtABxXo7LuthERCaRU0Pf+65cA3N2vdbiFiIgkkHjmo08a951zIlt37tW3YUVEYqRU0N/Wp2XYJYiIJJyUGroREZGDKehFRFKcgl5EJMUp6EVEUpyCXkQkxSnoRURSnIJeRCTFKehFRFKcuXvYNRzEzNYB3/2EQ+sA60u4nESnc04f6XjeOuf4NXX3ukVtSMig/6nMLNPdM8KuoyzpnNNHOp63zrlkaOhGRCTFKehFRFJcqgX98LALCIHOOX2k43nrnEtASo3Ri4jIwVLtil5ERApR0IuIpLiUCXozO9fMlppZlpk9GHY9pc3MXjOzHDNbEHYtZcXMjjez8Wa22MwWmtkdYddU2syssplNN7O5wTn/IeyayoqZlTez2Wb2cdi1lAUzW2lm881sjpllluhrp8IYvZmVB5YBZwPZwAzgV+6+KNTCSpGZ9QRygX+4+2lh11MWzKwB0MDdZ5lZdWAmcFGK/3c2oKq755pZRWAycIe7Tw25tFJnZncDGUANdz8/7HpKm5mtBDLcvcS/IJYqV/SdgCx3X+7ue4B3gAEh11Sq3H0isDHsOsqSu3/v7rOC59uAxUCjcKsqXR6RGzQrBo/kvzorhpk1Bn4JvBJ2LakgVYK+EbA6pp1NigdAujOzZkB7YFrIpZS6YAhjDpADjHX3lD9n4CngfqAg5DrKkgNjzGymmQ0qyRdOlaC3IvpS/qonXZlZNeB94E533xp2PaXN3fPdvR3QGOhkZik9VGdm5wM57j4z7FrKWDd37wD0B24LhmdLRKoEfTZwfEy7MbA2pFqkFAXj1O8DI9z9g7DrKUvuvhn4Ejg33EpKXTfgwmDM+h2gr5m9GW5Jpc/d1wY/c4CRRIakS0SqBP0MoJWZNTezSsCVwKiQa5ISFnww+Sqw2N2fCLuesmBmdc2sVvD8aOAsYEmoRZUyd3/I3Ru7ezMi/1/+wt2vCbmsUmVmVYMbDDCzqkA/oMTuqEuJoHf3PGAI8BmRD+j+5e4Lw62qdJnZ28DXwIlmlm1mN4VdUxnoBgwkcoU3J3icF3ZRpawBMN7M5hG5oBnr7mlxu2GaqQ9MNrO5wHTgE3cfXVIvnhK3V4qIyKGlxBW9iIgcmoJeRCTFKehFRFKcgl5EJMUp6EVEUpyCXtKSmdUys1vDrkOkLCjoJV3VAhT0khYU9JKuHgVaBF+6GnqonYIJxf5mZguCucLvCvpbmNnoYAKqSWZ2UtBf38xGBvPHzzWzrmV0PiKHVCHsAkRC8iBwWjBZ2OG0Axrtm/N/33QERBZwHuzu35hZZ+B5oC/wDDDB3S8O1kmoVgq1ixwRfTNW0lIwzfHHxS3aYma1gUzgU+ATYAxQBVgHLI3Z9Sh3P9nM1gGN3X13qRQu8hPoil7kMNx9k5m1Bc4BbgOuAO4ENsfx14BIQtAYvaSrbUD12A4zO2hWSDOrA5Rz9/eBh4EOwRz4K8zs8mAfC34ZAIwDbgn6y5tZjVI8B5G4KOglLbn7BmBK8CHr0CDQi1rAphHwZbDC09+Ah4L+q4GbgtkGF7J/6co7gD5mNp/Imranlt5ZiMRHY/QiRFc1OsHdnwm7FpGSpqAXEUlxGroREUlxCnoRkRSnoBcRSXEKehGRFKegFxFJcQp6EZEU9/8B3TzHpBPCHAEAAAAASUVORK5CYII=\n",
      "text/plain": [
       "<Figure size 432x288 with 1 Axes>"
      ]
     },
     "metadata": {
      "needs_background": "light"
     },
     "output_type": "display_data"
    }
   ],
   "source": [
    "log_ground['propulsion/engine/thrust-lbs'].plot()"
   ]
  },
  {
   "cell_type": "code",
   "execution_count": 11,
   "metadata": {},
   "outputs": [
    {
     "name": "stdout",
     "output_type": "stream",
     "text": [
      "      fun: 3.605381414218594e-08\n",
      " hess_inv: <6x6 LbfgsInvHessProduct with dtype=float64>\n",
      "      jac: array([-5.97535241e-08,  8.35486825e-10,  8.31636871e-08, -9.22908100e-08,\n",
      "        7.28189954e-08, -9.98700906e-08])\n",
      "  message: b'CONVERGENCE: REL_REDUCTION_OF_F_<=_FACTR*EPSMCH'\n",
      "     nfev: 182\n",
      "      nit: 23\n",
      "     njev: 26\n",
      "   status: 0\n",
      "  success: True\n",
      "        x: array([0.93023497, 0.66212959, 1.57251119, 1.57631666, 1.5725112 ,\n",
      "       1.57631665])\n",
      "{'velocities/h-dot-fps': 9.999999999999995, 'velocities/phidot-rad_sec': 0.0, 'velocities/thetadot-rad_sec': 0.0, 'velocities/psidot-rad_sec': 0.0, 'accelerations/pdot-rad_sec2': 1.866206195293343e-09, 'accelerations/qdot-rad_sec2': 2.8163135970682133e-07, 'accelerations/rdot-rad_sec2': -2.3290234371983458e-09, 'accelerations/udot-ft_sec2': -3.0467149924467973e-08, 'accelerations/vdot-ft_sec2': -0.0001898779489113711, 'accelerations/wdot-ft_sec2': 3.121014557905255e-07, 'aero/alphadot-rad_sec': -3.046714992446486e-09, 'aero/betadot-rad_sec': -1.8987794891137118e-05, 'aero/alphadot-deg_sec': -1.7456391044641613e-07, 'aero/betadot-deg_sec': -0.0010879205095222233, 'aero/coefficient/Cmadot': 1.6290441370691538e-06}\n"
     ]
    }
   ],
=======
   "execution_count": null,
   "metadata": {},
   "outputs": [],
>>>>>>> master
   "source": [
    "op_hover, fdm = trim(\n",
    "    aircraft='F-35B-2',\n",
    "    ic={\n",
    "        'ic/h-agl-ft': 10,\n",
    "        'ic/vd-fps': -10,\n",
    "        'ic/vn-fps': 0*np.cos(np.deg2rad(280)),\n",
    "        'ic/ve-fps': 0*np.sin(np.deg2rad(280)),\n",
    "        'ic/theta-rad': 0,\n",
    "        'gear/gear-cmd-norm': 1,    # Whether or not I want landing gear up or down\n",
    "        'fcs/left-brake-cmd-norm': 0,\n",
    "        'fcs/right-brake-cmd-norm': 0,\n",
    "        'fcs/center-brake-cmd-norm': 0,\n",
    "    },\n",
    "    design_vector=[\n",
    "        'fcs/throttle-cmd-norm',\n",
    "        'fcs/elevator-cmd-norm',\n",
    "        'propulsion/engine/pitch-angle-rad',\n",
    "        'propulsion/engine[1]/pitch-angle-rad',\n",
    "        'propulsion/engine[2]/pitch-angle-rad',\n",
    "        'propulsion/engine[3]/pitch-angle-rad',\n",
    "    ],\n",
    "    x0=[0.5, 0, np.deg2rad(90), np.deg2rad(90), np.deg2rad(90), np.deg2rad(90)],\n",
    "    verbose=True,\n",
    "    bounds=[[0, 1], [-1, 1], [np.deg2rad(0), np.deg2rad(120)], \n",
    "           [np.deg2rad(0), np.deg2rad(120)],\n",
    "           [np.deg2rad(0), np.deg2rad(120)],\n",
    "           [np.deg2rad(0), np.deg2rad(120)]],\n",
    "    tol=1e-12\n",
    ")\n",
    "op_hover\n",
    "print(fdm.get_property_catalog('dot'))"
   ]
  },
  {
   "cell_type": "code",
<<<<<<< HEAD
   "execution_count": 12,
=======
   "execution_count": null,
>>>>>>> master
   "metadata": {},
   "outputs": [],
   "source": [
    "log_hover = simulate(\n",
    "    aircraft='F-35B-2',\n",
    "    op_0=op_hover,\n",
    "    tf=5,\n",
    "    realtime=True)"
   ]
  },
  {
   "cell_type": "code",
<<<<<<< HEAD
   "execution_count": 27,
   "metadata": {},
   "outputs": [
    {
     "name": "stdout",
     "output_type": "stream",
     "text": [
      "      fun: -0.07279137319063003\n",
      " hess_inv: <7x7 LbfgsInvHessProduct with dtype=float64>\n",
      "      jac: array([ 1.00000068e-01,  9.11520859e-05, -3.62682107e-05,  6.78235246e-05,\n",
      "        3.34029193e-03,  2.59819943e-05,  5.21585969e-03])\n",
      "  message: b'CONVERGENCE: REL_REDUCTION_OF_F_<=_FACTR*EPSMCH'\n",
      "     nfev: 760\n",
      "      nit: 69\n",
      "     njev: 95\n",
      "   status: 0\n",
      "  success: True\n",
      "        x: array([ 0.        , -0.12367121,  0.00069518, -0.00020624,  0.02021778,\n",
      "        0.00129227,  0.        ])\n"
     ]
    },
    {
     "data": {
      "text/plain": [
       "{'ic/gamma-rad': 0,\n",
       " 'ic/vt-fps': 677,\n",
       " 'ic/h-agl-ft': 38000.0,\n",
       " 'gear/gear-cmd-norm': 0,\n",
       " 'fcs/left-brake-cmd-norm': 0,\n",
       " 'fcs/right-brake-cmd-norm': 0,\n",
       " 'fcs/center-brake-cmd-norm': 0,\n",
       " 'propulsion/engine/pitch-angle-rad': 0.0,\n",
       " 'fcs/throttle-cmd-norm': 0.0,\n",
       " 'fcs/elevator-cmd-norm': -0.12367121178077818,\n",
       " 'fcs/rudder-cmd-norm': 0.0006951847767905014,\n",
       " 'fcs/aileron-cmd-norm': -0.00020624021382990634,\n",
       " 'ic/alpha-rad': 0.02021777920968398,\n",
       " 'ic/beta-rad': 0.0012922701882664349}"
      ]
     },
     "execution_count": 27,
     "metadata": {},
     "output_type": "execute_result"
    }
   ],
=======
   "execution_count": null,
   "metadata": {},
   "outputs": [],
   "source": [
    "log_hover['position/h-agl-ft'].plot()\n",
    "plt.grid(True)\n",
    "plt.ylabel('ft, altitude')"
   ]
  },
  {
   "cell_type": "code",
   "execution_count": null,
   "metadata": {},
   "outputs": [],
   "source": [
    "plt.subplot()\n",
    "log_hover['propulsion/engine/thrust-lbs'].plot()\n",
    "log_hover['propulsion/engine[1]/thrust-lbs'].plot()\n",
    "log_hover['propulsion/engine[2]/thrust-lbs'].plot()\n",
    "log_hover['propulsion/engine[3]/thrust-lbs'].plot()\n",
    "plt.grid(True)\n",
    "plt.legend(['rcp', 'rhp', 'lcp', 'lhp'])\n",
    "plt.ylabel('lbs, engine thrusts')\n",
    "plt.show()"
   ]
  },
  {
   "cell_type": "code",
   "execution_count": null,
   "metadata": {},
   "outputs": [],
   "source": [
    "plt.subplot()\n",
    "log_hover['propulsion/engine/pitch-angle-rad'].plot()\n",
    "log_hover['propulsion/engine[1]/pitch-angle-rad'].plot()\n",
    "log_hover['propulsion/engine[2]/pitch-angle-rad'].plot()\n",
    "log_hover['propulsion/engine[3]/pitch-angle-rad'].plot()\n",
    "plt.grid(True)\n",
    "plt.legend(['rcp', 'rhp', 'lcp', 'lhp'])\n",
    "plt.ylabel('deg, engine pitch angle')\n",
    "plt.show()"
   ]
  },
  {
   "cell_type": "code",
   "execution_count": null,
   "metadata": {},
   "outputs": [],
>>>>>>> master
   "source": [
    "def cost_cruise(fdm):\n",
    "    # modify cost to also penalize throttle\n",
    "    delta = fdm['propulsion/engine/pitch-angle-rad']\n",
    "    theta = fdm['attitude/theta-rad']\n",
    "    drag = fdm['forces/fwx-aero-lbs']\n",
    "    lift = fdm['forces/fwz-aero-lbs']\n",
    "    alpha = fdm['aero/alpha-rad']\n",
    "    throttle = fdm['fcs/throttle-cmd-norm']\n",
    "    \n",
    "    udot = fdm['accelerations/udot-ft_sec2']\n",
    "    vdot = fdm['accelerations/vdot-ft_sec2']\n",
    "    wdot = fdm['accelerations/wdot-ft_sec2']\n",
    "    pdot = fdm['accelerations/pdot-rad_sec2']\n",
    "    qdot = fdm['accelerations/qdot-rad_sec2']\n",
    "    rdot = fdm['accelerations/rdot-rad_sec2']\n",
    "    return udot**2 + vdot**2 + wdot**2 + pdot**2 + qdot**2 + rdot**2 - 1e-3*(lift/drag)**2 + 1e-3*(theta < 0) + 1e-1*throttle + 2e-1*delta**2 \n",
    "        \n",
    "op_cruise, fdm = trim(\n",
    "    aircraft='F-35B-2',\n",
    "    ic={\n",
    "        'ic/gamma-rad': 0,\n",
    "        'ic/vt-fps': 677,\n",
    "        'ic/h-agl-ft': 38*1e3,\n",
    "        'gear/gear-cmd-norm': 0,\n",
    "        'fcs/left-brake-cmd-norm': 0,\n",
    "        'fcs/right-brake-cmd-norm': 0,\n",
    "        'fcs/center-brake-cmd-norm': 0,\n",
    "        'propulsion/engine/pitch-angle-rad': 0,\n",
    "    },\n",
    "    design_vector=[\n",
    "        'fcs/throttle-cmd-norm',\n",
    "        'fcs/elevator-cmd-norm',\n",
    "        'fcs/rudder-cmd-norm',\n",
    "        'fcs/aileron-cmd-norm',\n",
    "        'ic/alpha-rad',\n",
    "        'ic/beta-rad',\n",
    "        'propulsion/engine/pitch-angle-rad',\n",
    "    ],\n",
    "    cost=cost_cruise,\n",
    "    x0=[0.4, 0, 0, 0, 0, 0, 0],\n",
    "    verbose=True,\n",
    "    bounds=[[0, 1], [-1, 1], [-1, 1], [-1, 1], [-1, 1], [-1, 1], [np.deg2rad(0), np.deg2rad(120)]],\n",
    "    tol=1e-12,\n",
    ")\n",
    "op_cruise"
   ]
  },
  {
   "cell_type": "code",
<<<<<<< HEAD
   "execution_count": 28,
=======
   "execution_count": null,
>>>>>>> master
   "metadata": {},
   "outputs": [],
   "source": [
    "log_cruise = simulate(\n",
    "    aircraft='F-35B-2',\n",
    "    op_0=op_cruise,\n",
    "    tf=10,\n",
    "    realtime=True)"
   ]
  },
  {
   "cell_type": "code",
<<<<<<< HEAD
   "execution_count": 12,
   "metadata": {},
   "outputs": [
    {
     "data": {
      "text/plain": [
       "0.0"
      ]
     },
     "execution_count": 12,
     "metadata": {},
     "output_type": "execute_result"
    }
   ],
=======
   "execution_count": null,
   "metadata": {},
   "outputs": [],
   "source": [
    "plt.subplot()\n",
    "log_cruise['propulsion/engine/pitch-angle-rad'].plot()\n",
    "log_cruise['propulsion/engine[1]/pitch-angle-rad'].plot()\n",
    "log_cruise['propulsion/engine[2]/pitch-angle-rad'].plot()\n",
    "log_cruise['propulsion/engine[3]/pitch-angle-rad'].plot()\n",
    "plt.grid(True)\n",
    "plt.legend(['rcp', 'rhp', 'lcp', 'lhp'])\n",
    "plt.ylabel('lb, pounds')\n",
    "plt.show()"
   ]
  },
  {
   "cell_type": "code",
   "execution_count": null,
   "metadata": {},
   "outputs": [],
   "source": [
    "log_cruise['forces/fwx-aero-lbs'].plot()\n",
    "plt.ylabel('lbs, drag')\n",
    "plt.grid(True)"
   ]
  },
  {
   "cell_type": "code",
   "execution_count": null,
   "metadata": {},
   "outputs": [],
>>>>>>> master
   "source": [
    "fdm['propulsion']"
   ]
  },
  {
   "cell_type": "code",
<<<<<<< HEAD
   "execution_count": 14,
   "metadata": {},
   "outputs": [
    {
     "data": {
      "text/plain": [
       "<AxesSubplot:xlabel='t, sec'>"
      ]
     },
     "execution_count": 14,
     "metadata": {},
     "output_type": "execute_result"
    },
    {
     "data": {
      "image/png": "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\n",
      "text/plain": [
       "<Figure size 432x288 with 1 Axes>"
      ]
     },
     "metadata": {
      "needs_background": "light"
     },
     "output_type": "display_data"
    }
   ],
   "source": [
    "log_cruise['forces/fwx-aero-lbs'].plot()"
=======
   "execution_count": null,
   "metadata": {},
   "outputs": [],
   "source": [
    "log_cruise['forces/fwz-aero-lbs'].plot()\n",
    "plt.grid(True)\n",
    "plt.ylabel('lbs, lift')"
   ]
  },
  {
   "cell_type": "code",
   "execution_count": null,
   "metadata": {},
   "outputs": [],
   "source": [
    "log_cruise['aero/alpha-deg'].plot()\n",
    "plt.ylabel('deg, angle of attack')\n",
    "plt.grid(True)"
   ]
  },
  {
   "cell_type": "code",
   "execution_count": null,
   "metadata": {},
   "outputs": [],
   "source": [
    "log_cruise['fcs/elevator-pos-deg'].plot()\n",
    "plt.grid(True)\n",
    "plt.ylabel('deg, elevator angle')"
   ]
  },
  {
   "cell_type": "code",
   "execution_count": null,
   "metadata": {},
   "outputs": [],
   "source": [
    "plt.subplot()\n",
    "log_cruise['fcs/left-aileron-pos-deg'].plot()\n",
    "log_cruise['fcs/right-aileron-pos-deg'].plot()\n",
    "plt.grid(True)\n",
    "plt.legend(['left aileron', 'right aileron'])\n",
    "plt.ylabel(\"deg, aileron angle\")\n",
    "plt.show()"
   ]
  },
  {
   "cell_type": "code",
   "execution_count": null,
   "metadata": {},
   "outputs": [],
   "source": [
    "log_cruise['fcs/rudder-pos-deg'].plot()\n",
    "plt.grid(True)\n",
    "plt.ylabel('deg, rudder angle')"
   ]
  },
  {
   "cell_type": "code",
   "execution_count": null,
   "metadata": {},
   "outputs": [],
   "source": [
    "log_cruise['velocities/vt-fps'].plot()\n",
    "plt.grid(True)\n",
    "plt.ylabel(\"fps, velocity\")"
   ]
  },
  {
   "cell_type": "code",
   "execution_count": null,
   "metadata": {},
   "outputs": [],
   "source": [
    "del all_data['cruiseTrim']['res']['hess_inv']"
   ]
  },
  {
   "cell_type": "code",
   "execution_count": null,
   "metadata": {},
   "outputs": [],
   "source": [
    "del all_data['hoverTrim']['res']['hess_inv']"
   ]
  },
  {
   "cell_type": "code",
   "execution_count": null,
   "metadata": {},
   "outputs": [],
   "source": [
    "del all_data['cruiseTrim']['res']['message']\n",
    "del all_data['groundTrim']['res']['message']\n",
    "del all_data['hoverTrim']['res']['message']"
   ]
  },
  {
   "cell_type": "code",
   "execution_count": null,
   "metadata": {},
   "outputs": [],
   "source": [
    "# encode numpy array for JSON serializable\n",
    "class NumpyEncoder(json.JSONEncoder):\n",
    "    def default(self, obj):\n",
    "        if isinstance(obj, np.ndarray):\n",
    "            return obj.tolist()\n",
    "        return json.JSONEncoder.default(self, obj)\n",
    "\n",
    "# save all output as JSON file \n",
    "with open('jsbsim_opt.json', '+w') as jfile:\n",
    "    json.dump(all_data, jfile, indent=4, cls=NumpyEncoder)"
>>>>>>> master
   ]
  },
  {
   "cell_type": "code",
   "execution_count": null,
   "metadata": {},
   "outputs": [],
   "source": [
    "result = log_cruise.to_json(orient=\"split\")\n",
    "parsed = json.loads(result)\n",
    "with open('log_cruise.json', 'w') as jfile: \n",
    "    json.dump(parsed, jfile, indent=4)"
   ]
  },
  {
   "cell_type": "code",
   "execution_count": null,
   "metadata": {},
   "outputs": [],
   "source": [
    "result = log_ground.to_json(orient=\"split\")\n",
    "parsed = json.loads(result)\n",
    "with open('log_ground.json', 'w') as jfile: \n",
    "    json.dump(parsed, jfile, indent=4)"
   ]
  },
  {
   "cell_type": "code",
   "execution_count": null,
   "metadata": {},
   "outputs": [],
   "source": [
    "result = log_hover.to_json(orient=\"split\")\n",
    "parsed = json.loads(result)\n",
    "with open('log_hover.json', 'w') as jfile: \n",
    "    json.dump(parsed, jfile, indent=4)"
   ]
  }
 ],
 "metadata": {
  "kernelspec": {
   "display_name": "Python 3",
   "language": "python",
   "name": "python3"
  },
  "language_info": {
   "codemirror_mode": {
    "name": "ipython",
    "version": 3
   },
   "file_extension": ".py",
   "mimetype": "text/x-python",
   "name": "python",
   "nbconvert_exporter": "python",
   "pygments_lexer": "ipython3",
   "version": "3.8.5"
  }
 },
 "nbformat": 4,
 "nbformat_minor": 5
}
