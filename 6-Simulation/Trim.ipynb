{
 "cells": [
  {
   "cell_type": "code",
   "execution_count": 1,
   "metadata": {},
   "outputs": [],
   "source": [
    "%load_ext autoreload\n",
    "%autoreload 2\n",
    "# pull in new changes to python modules without having to restart notebook\n",
    "\n",
    "import matplotlib.pyplot as plt\n",
    "import numpy as np\n",
    "import pandas as pd\n",
    "import matplotlib.pyplot as plt\n",
    "import json \n",
    "from jsbsim_utils import Logger, trim, simulate, linearize, rootlocus, clean_tf\n",
    "import control "
   ]
  },
  {
   "cell_type": "code",
   "execution_count": 2,
   "metadata": {},
   "outputs": [],
   "source": [
    "all_data = dict()"
   ]
  },
  {
   "cell_type": "markdown",
   "metadata": {},
   "source": [
    "Nonlinear-dynamics of aircraft\n",
    "\n",
    "$$\\dot{x} = f(x, u)$$\n",
    "\n",
    "Find equilibrium:\n",
    "\n",
    "Minimize $\\dot{x}$, or a subset for your problem, by changeing $x_0$, $u_0$\n",
    "\n",
    "$$0 = f(x_0, u_0)$$\n",
    "\n",
    "This is an optimization problem.\n",
    "\n",
    "* Matlab: fmincon, fminsearch\n",
    "* Python: scipy.minimize (Nelder-Mead, SLSQP)\n",
    "\n",
    "Can simplify this problem with mixing matrices, to decouple the dynamcis into SISO (single-input-single output) systems."
   ]
  },
  {
   "cell_type": "markdown",
   "metadata": {},
   "source": [
    "Due to Taylor series error on the order of (dx^2). We know the linear model approx, does well near the equilibrium point. "
   ]
  },
  {
   "cell_type": "markdown",
   "metadata": {},
   "source": [
    "$\\dot{\\vec{x}} = \\vec{f}(x, u) = A \\vec{x} + B \\vec{u}$\n",
    "\n",
    "$\\dot{\\vec{y}} = C \\vec{x} + D \\vec{u}$\n",
    "\n",
    "\n",
    "$A = \\dfrac{\\delta \\vec{f}(x0, u0)}{\\delta \\vec{x}}$\n",
    "\n",
    "$B = \\dfrac{\\delta \\vec{f}(x0, u0)}{\\delta \\vec{u}}$\n",
    "\n",
    "$C = \\dfrac{\\delta \\vec{y}(x0, u0)}{\\delta \\vec{x}}$\n",
    "\n",
    "$D = \\dfrac{\\delta \\vec{y}(x0, u0)}{\\delta \\vec{u}}$"
   ]
  },
  {
   "cell_type": "markdown",
   "metadata": {},
   "source": [
    "## Ground Trimming "
   ]
  },
  {
   "cell_type": "code",
   "execution_count": 17,
   "metadata": {},
   "outputs": [
    {
     "name": "stdout",
     "output_type": "stream",
     "text": [
      " final_simplex: (array([[0.00752277, 3.11212156],\n",
      "       [0.00748106, 3.11221532],\n",
      "       [0.00754464, 3.11216313]]), array([4.51973002e-06, 8.14117197e-06, 1.67505423e-05]))\n",
      "           fun: 4.519730024921744e-06\n",
      "       message: 'Optimization terminated successfully.'\n",
      "          nfev: 80\n",
      "           nit: 43\n",
      "        status: 0\n",
      "       success: True\n",
      "             x: array([0.00752277, 3.11212156])\n",
      " final_simplex: (array([[0.00752277, 3.11212156],\n",
      "       [0.00748106, 3.11221532],\n",
      "       [0.00754464, 3.11216313]]), array([4.51973002e-06, 8.14117197e-06, 1.67505423e-05]))\n",
      "           fun: 4.519730024921744e-06\n",
      "       message: 'Optimization terminated successfully.'\n",
      "          nfev: 80\n",
      "           nit: 43\n",
      "        status: 0\n",
      "       success: True\n",
      "             x: array([0.00752277, 3.11212156])\n",
      "{'ic/vt-fps': 0, 'ic/psi-true-deg': 280, 'ap/gear-enable': 1, 'fcs/left-brake-cmd-norm': 1, 'fcs/right-brake-cmd-norm': 1, 'fcs/center-brake-cmd-norm': 1, 'ic/theta-rad': 0.007522769802197068, 'ic/h-agl-ft': 3.1121215601541055}\n",
      "{'forces/fbz-aero-lbs': -0.0, 'forces/fbz-weight-lbs': 11358.889135720807, 'forces/fbz-total-lbs': -57634.20787943273, 'forces/fbz-gear-lbs': -57634.20787943273, 'forces/fbz-prop-lbs': 0.0}\n",
      "{'forces/fbz-aero-lbs': -0.0, 'forces/fbz-weight-lbs': 11358.590010803779, 'forces/fbz-total-lbs': -11336.041172343454, 'forces/fbz-gear-lbs': -11336.041172343454, 'forces/fbz-prop-lbs': 0.0}\n"
     ]
    }
   ],
   "source": [
    "ct = 0\n",
    "temp = []\n",
    "def cost_ground(fdm):\n",
    "    # modify cost to also penalize throttle   \n",
    "    udot = fdm['accelerations/udot-ft_sec2']\n",
    "    vdot = fdm['accelerations/vdot-ft_sec2']\n",
    "    wdot = fdm['accelerations/wdot-ft_sec2']\n",
    "    pdot = fdm['accelerations/pdot-rad_sec2']\n",
    "    qdot = fdm['accelerations/qdot-rad_sec2']\n",
    "    rdot = fdm['accelerations/rdot-rad_sec2']\n",
    "    temp.append(fdm.get_property_catalog('fbz'))\n",
    "    return udot**2 + vdot**2 + wdot**2 + pdot**2 + qdot**2 + rdot**2  \n",
    "        \n",
    "op_ground, props, res = trim(\n",
    "    aircraft='F-35B-2',\n",
    "    ic={\n",
    "          'ic/vt-fps': 0,\n",
    "          'ic/psi-true-deg': 280,\n",
    "          'ap/gear-enable': 1,\n",
    "          'fcs/left-brake-cmd-norm': 1,\n",
    "          'fcs/right-brake-cmd-norm': 1,\n",
    "          'fcs/center-brake-cmd-norm': 1,\n",
    "#         'ic/vt-fps': 0,\n",
    "#         'gear/gear-cmd-norm': 1,\n",
    "#         'propulsion/engine/pitch-angle-rad': np.deg2rad(0),\n",
    "#         'fcs/throttle-cmd-norm': 0,\n",
    "#         'fcs/aileron-cmd-norm': 0,\n",
    "#         'fcs/elevator-cmd-norm': 0,\n",
    "#         'fcs/rudder-cmd-norm': 0,\n",
    "#         'fcs/left-brake-cmd-norm': 1,\n",
    "#         'fcs/right-brake-cmd-norm': 1,\n",
    "#         'fcs/center-brake-cmd-norm': 1,\n",
    "    },\n",
    "    design_vector=['ic/theta-rad', 'ic/h-agl-ft'],\n",
    "    x0=[0, 0.31],\n",
    "    verbose=True,\n",
    "    method='Nelder-Mead', # works better with ground interaction\n",
    "    tol=1e-12,\n",
    "    #bounds=[[np.deg2rad(-40), np.deg2rad(40)], [0, 20]],\n",
    "    cost=cost_ground,\n",
    ")\n",
    "\n",
    "print(res)\n",
    "print(op_ground)\n",
    "print(temp[0])\n",
    "print(temp[-1])\n",
    "\n",
    "data = dict()\n",
    "data['res'] = res\n",
    "data['op_ground'] = op_ground\n",
    "data['fbz_initial'] = temp[0]\n",
    "data['fbz_final'] = temp[-1]\n",
    "all_data = dict()\n",
    "all_data['groundTrim'] = data"
   ]
  },
  {
   "cell_type": "code",
   "execution_count": 18,
   "metadata": {},
   "outputs": [],
   "source": [
    "# log_ground = simulate(\n",
    "#     aircraft='F-35B-2',\n",
    "#     op_0=op_ground,\n",
    "#     tf=5,\n",
    "#     realtime=True)"
   ]
  },
  {
   "cell_type": "code",
   "execution_count": 19,
   "metadata": {},
   "outputs": [],
   "source": [
    "# log_ground['position/h-agl-ft'].plot()\n",
    "# plt.grid(True)\n",
    "# plt.ylabel('ft, altitude')"
   ]
  },
  {
   "cell_type": "code",
   "execution_count": 20,
   "metadata": {},
   "outputs": [],
   "source": [
    "# log_ground['attitude/theta-deg'].plot()\n",
    "# plt.grid(True)\n",
    "# plt.ylabel('deg, aircraft pitch')"
   ]
  },
  {
   "cell_type": "markdown",
   "metadata": {},
   "source": [
    "## Hover Trimming"
   ]
  },
  {
   "cell_type": "code",
   "execution_count": 167,
   "metadata": {},
   "outputs": [
    {
     "name": "stdout",
     "output_type": "stream",
     "text": [
      "     fun: 0.929361866372507\n",
      "     jac: array([1., 0., 0., 0., 0., 0.])\n",
      " message: 'Optimization terminated successfully'\n",
      "    nfev: 28\n",
      "     nit: 4\n",
      "    njev: 4\n",
      "  status: 0\n",
      " success: True\n",
      "       x: array([0.92936187, 0.71734948, 1.57079641, 1.5707964 , 1.57079641,\n",
      "       1.5707964 ])\n",
      "constraint eq 6.793177131925177e-13\n",
      "constraint eq -2.0955823742951907e-09\n",
      "constraint eq 1.6212036530902444e-10\n",
      "{'ic/h-sl-ft': 650, 'ic/vt-fps': 0, 'ic/psi-true-deg': 0, 'ap/gear-enable': 1, 'fcs/throttle-cmd-norm': 0.929361866372507, 'fcs/elevator-cmd-norm': 0.7173494783548715, 'propulsion/engine/pitch-angle-rad': 1.5707964099772886, 'propulsion/engine[1]/pitch-angle-rad': 1.5707963999209869, 'propulsion/engine[2]/pitch-angle-rad': 1.570796409815362, 'propulsion/engine[3]/pitch-angle-rad': 1.5707964016066742}\n"
     ]
    }
   ],
   "source": [
    "op_hover, props, res = trim(\n",
    "    aircraft='F-35B-2',\n",
    "    ic={  \n",
    "          'ic/h-sl-ft': 650,\n",
    "          'ic/vt-fps': 0,\n",
    "          'ic/psi-true-deg': 0,\n",
    "          'ap/gear-enable': 1,\n",
    "#         'ic/h-agl-ft': 10,\n",
    "#         'ic/vd-fps': 0,\n",
    "#         'ic/vn-fps': 0*np.cos(np.deg2rad(280)),\n",
    "#         'ic/ve-fps': 0*np.sin(np.deg2rad(280)),\n",
    "#         'ic/theta-rad': 0,\n",
    "#         'gear/gear-cmd-norm': 1,\n",
    "#         'fcs/left-brake-cmd-norm': 0,\n",
    "#         'fcs/right-brake-cmd-norm': 0,\n",
    "#         'fcs/center-brake-cmd-norm': 0,\n",
    "    },\n",
    "    eq_constraints = [\n",
    "        lambda fdm: fdm['accelerations/udot-ft_sec2'],\n",
    "        #lambda fdm: fdm['accelerations/vdot-ft_sec2'],\n",
    "        lambda fdm: fdm['accelerations/wdot-ft_sec2'],\n",
    "        #lambda fdm: fdm['accelerations/pdot-rad_sec2'],\n",
    "        lambda fdm: fdm['accelerations/qdot-rad_sec2'],\n",
    "        #lambda fdm: fdm['accelerations/rdot-rad_sec2'],\n",
    "    ],\n",
    "    design_vector=[\n",
    "        'fcs/throttle-cmd-norm',\n",
    "        'fcs/elevator-cmd-norm',\n",
    "        'propulsion/engine/pitch-angle-rad',\n",
    "        'propulsion/engine[1]/pitch-angle-rad',\n",
    "        'propulsion/engine[2]/pitch-angle-rad',\n",
    "        'propulsion/engine[3]/pitch-angle-rad',\n",
    "    ],\n",
    "#     design_vector=[\n",
    "#         'fcs/throttle-cmd-norm',\n",
    "#         'fcs/elevator-cmd-norm',\n",
    "#         'propulsion/engine/pitch-angle-rad',\n",
    "#         'propulsion/engine[1]/pitch-angle-rad',\n",
    "#         'propulsion/engine[2]/pitch-angle-rad',\n",
    "#         'propulsion/engine[3]/pitch-angle-rad',\n",
    "#     ],\n",
    "    x0=[0.9, 0.2, np.deg2rad(90), np.deg2rad(90), np.deg2rad(90), np.deg2rad(90)],\n",
    "    cost= lambda fdm: fdm['fcs/throttle-cmd-norm'],\n",
    "    verbose=True,\n",
    "    method='SLSQP',\n",
    "    bounds=[[0, 1], [-1, 1], [np.deg2rad(0), np.deg2rad(120)], \n",
    "           [np.deg2rad(0), np.deg2rad(120)],\n",
    "           [np.deg2rad(0), np.deg2rad(120)],\n",
    "           [np.deg2rad(0), np.deg2rad(120)]],\n",
    "    tol=1e-12\n",
    ")\n",
    "\n",
    "print(op_hover)\n",
    "data1 = dict()\n",
    "data1['res'] = res\n",
    "data1['op_hover'] = op_hover\n",
    "all_data['hoverTrim'] = data1"
   ]
  },
  {
   "cell_type": "code",
   "execution_count": 22,
   "metadata": {},
   "outputs": [],
   "source": [
    "# log_hover = simulate(\n",
    "#     aircraft='F-35B-2',\n",
    "#     op_0=op_hover,\n",
    "#     tf=10,\n",
    "#     realtime=True)"
   ]
  },
  {
   "cell_type": "code",
   "execution_count": 23,
   "metadata": {},
   "outputs": [],
   "source": [
    "# log_hover['position/h-agl-ft'].plot()\n",
    "# plt.grid(True)\n",
    "# plt.ylabel('ft, altitude')"
   ]
  },
  {
   "cell_type": "code",
   "execution_count": 24,
   "metadata": {},
   "outputs": [],
   "source": [
    "# plt.subplot()\n",
    "# log_hover['propulsion/engine/thrust-lbs'].plot()\n",
    "# log_hover['propulsion/engine[1]/thrust-lbs'].plot()\n",
    "# log_hover['propulsion/engine[2]/thrust-lbs'].plot()\n",
    "# log_hover['propulsion/engine[3]/thrust-lbs'].plot()\n",
    "# plt.grid(True)\n",
    "# plt.legend(['rcp', 'rhp', 'lcp', 'lhp'])\n",
    "# plt.ylabel('lbs, engine thrusts')\n",
    "# plt.show()"
   ]
  },
  {
   "cell_type": "code",
   "execution_count": 25,
   "metadata": {},
   "outputs": [],
   "source": [
    "# plt.subplot()\n",
    "# log_hover['propulsion/engine/pitch-angle-rad'].plot()\n",
    "# log_hover['propulsion/engine[1]/pitch-angle-rad'].plot()\n",
    "# log_hover['propulsion/engine[2]/pitch-angle-rad'].plot()\n",
    "# log_hover['propulsion/engine[3]/pitch-angle-rad'].plot()\n",
    "# plt.grid(True)\n",
    "# plt.legend(['rcp', 'rhp', 'lcp', 'lhp'])\n",
    "# plt.ylabel('deg, engine pitch angle')\n",
    "# plt.show()"
   ]
  },
  {
   "cell_type": "markdown",
   "metadata": {},
   "source": [
    "## Hover Auto Pilot"
   ]
  },
  {
   "cell_type": "code",
   "execution_count": 166,
   "metadata": {},
   "outputs": [],
   "source": [
    "op_hover_auto = dict(op_hover)\n",
    "op_hover_auto['ic/theta-deg'] = 0\n",
    "op_hover_auto['ic/phi-deg'] = 0\n",
    "\n",
    "op_hover_auto['ap/heading-cmd-deg'] = 280\n",
    "op_hover_auto['ap/gear-enable'] = 1\n",
    "op_hover_auto['ap/roll-enable'] = 0\n",
    "op_hover_auto['ap/pitch-enable'] = 0\n",
    "op_hover_auto['ap/yaw-enable'] = 0\n",
    "op_hover_auto['ap/h-enable'] = 0\n",
    "op_hover_auto['ap/h-sl-cmd-ft'] = 650\n",
    "\n",
    "log_hover_auto = simulate(\n",
    "    aircraft='F-35B-2',\n",
    "    op_0=op_hover_auto,\n",
    "    tf=5,\n",
    "    realtime=False)"
   ]
  },
  {
   "cell_type": "code",
   "execution_count": 165,
   "metadata": {},
   "outputs": [
    {
     "data": {
      "text/plain": [
       "<matplotlib.legend.Legend at 0x25d18d1f220>"
      ]
     },
     "execution_count": 165,
     "metadata": {},
     "output_type": "execute_result"
    },
    {
     "data": {
      "image/png": "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\n",
      "text/plain": [
       "<Figure size 432x288 with 1 Axes>"
      ]
     },
     "metadata": {
      "needs_background": "light"
     },
     "output_type": "display_data"
    }
   ],
   "source": [
    "log_hover_auto['fcs/throttle-pos-norm'].plot(label='0')\n",
    "log_hover_auto['fcs/throttle-pos-norm[1]'].plot(label='1')\n",
    "log_hover_auto['fcs/throttle-pos-norm[2]'].plot(label='2')\n",
    "log_hover_auto['fcs/throttle-pos-norm[3]'].plot(label='3')\n",
    "\n",
    "plt.legend()"
   ]
  },
  {
   "cell_type": "code",
   "execution_count": 164,
   "metadata": {},
   "outputs": [
    {
     "data": {
      "text/plain": [
       "<matplotlib.legend.Legend at 0x25d182f1b20>"
      ]
     },
     "execution_count": 164,
     "metadata": {},
     "output_type": "execute_result"
    },
    {
     "data": {
      "image/png": "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\n",
      "text/plain": [
       "<Figure size 432x288 with 1 Axes>"
      ]
     },
     "metadata": {
      "needs_background": "light"
     },
     "output_type": "display_data"
    }
   ],
   "source": [
    "log_hover_auto['fcs/elevator-cmd-norm'].plot(label='0')\n",
    "log_hover_auto['fcs/aileron-cmd-norm'].plot(label='1')\n",
    "log_hover_auto['fcs/rudder-cmd-norm'].plot(label='2')\n",
    "log_hover_auto['fcs/throttle-cmd-norm'].plot(label='3')\n",
    "\n",
    "plt.legend()"
   ]
  },
  {
   "cell_type": "markdown",
   "metadata": {},
   "source": [
    "## Cruise Trimming"
   ]
  },
  {
   "cell_type": "code",
   "execution_count": 169,
   "metadata": {},
   "outputs": [
    {
     "name": "stdout",
     "output_type": "stream",
     "text": [
      "     fun: -0.0658821910745617\n",
      "     jac: array([ 1.00028949e-01,  2.59588238e-01,  4.67710197e-06,  5.65499067e-06,\n",
      "       -4.25912814e+00,  4.25211880e-02])\n",
      " message: 'Optimization terminated successfully'\n",
      "    nfev: 36\n",
      "     nit: 5\n",
      "    njev: 5\n",
      "  status: 0\n",
      " success: True\n",
      "       x: array([0.16673315, 0.14031067, 0.00075739, 0.00022614, 0.02018319,\n",
      "       0.00122505])\n",
      "constraint eq 7.932099421736893e-12\n",
      "constraint eq 7.108341693040643e-13\n",
      "constraint eq -4.156675004196586e-12\n",
      "constraint eq 6.37390942161292e-14\n",
      "constraint eq -1.0761591720791191e-13\n",
      "constraint eq -2.1582568283586667e-13\n",
      "{'ic/gamma-rad': 0, 'ic/vt-fps': 677, 'ic/h-agl-ft': 38000.0, 'gear/gear-cmd-norm': 0, 'fcs/left-brake-cmd-norm': 0, 'fcs/right-brake-cmd-norm': 0, 'fcs/center-brake-cmd-norm': 0, 'propulsion/engine/pitch-angle-rad': 0, 'propulsion/engine[1]/pitch-angle-rad': 0, 'propulsion/engine[2]/pitch-angle-rad': 0, 'propulsion/engine[3]/pitch-angle-rad': 0, 'fcs/throttle-cmd-norm': 0.16673315207787176, 'fcs/elevator-cmd-norm': 0.14031067006746925, 'fcs/rudder-cmd-norm': 0.0007573899576671861, 'fcs/aileron-cmd-norm': 0.00022613538432062958, 'ic/alpha-rad': 0.020183191364411775, 'ic/beta-rad': 0.0012250540353381126}\n"
     ]
    }
   ],
   "source": [
    "def cost_cruise(fdm):\n",
    "    # modify cost to also penalize throttle\n",
    "    delta = fdm['propulsion/engine/pitch-angle-rad']\n",
    "    theta = fdm['attitude/theta-rad']\n",
    "    drag = fdm['forces/fwx-aero-lbs']\n",
    "    lift = fdm['forces/fwz-aero-lbs']\n",
    "    alpha = fdm['aero/alpha-rad']\n",
    "    throttle = fdm['fcs/throttle-cmd-norm']\n",
    "    \n",
    "    udot = fdm['accelerations/udot-ft_sec2']\n",
    "    vdot = fdm['accelerations/vdot-ft_sec2']\n",
    "    wdot = fdm['accelerations/wdot-ft_sec2']\n",
    "    pdot = fdm['accelerations/pdot-rad_sec2']\n",
    "    qdot = fdm['accelerations/qdot-rad_sec2']\n",
    "    rdot = fdm['accelerations/rdot-rad_sec2']\n",
    "    return udot**2 + vdot**2 + wdot**2 + pdot**2 + qdot**2 + rdot**2 - 1e-3*(lift/drag)**2 + 1e-3*(theta < 0) + 1e-1*throttle + 2e-1*delta**2 \n",
    "        \n",
    "\n",
    "op_cruise, prop, res = trim(\n",
    "    aircraft='F-35B-2',\n",
    "    ic={\n",
    "        'ic/gamma-rad': 0,\n",
    "#         'ic/vt-fps': 677,\n",
    "        \n",
    "        ## Modification\n",
    "        'ic/u-fps': 677,\n",
    "        'ic/v-fps': 0,\n",
    "        'ic/w-fps': 0,\n",
    "        \n",
    "        'ic/q-rad_sec': 0,\n",
    "        'ic/p-rad_sec': 0,\n",
    "        'ic/r-rad_sec': 0,\n",
    "        ## End of modification\n",
    "        \n",
    "        'ic/h-agl-ft': 38000,\n",
    "        'gear/gear-cmd-norm': 0,\n",
    "        'fcs/left-brake-cmd-norm': 0,\n",
    "        'fcs/right-brake-cmd-norm': 0,\n",
    "        'fcs/center-brake-cmd-norm': 0,\n",
    "        'propulsion/engine/pitch-angle-rad': 0,\n",
    "        'propulsion/engine[1]/pitch-angle-rad': 0,\n",
    "        'propulsion/engine[2]/pitch-angle-rad': 0,\n",
    "        'propulsion/engine[3]/pitch-angle-rad': 0,\n",
    "    },\n",
    "#     design_vector=[\n",
    "#         'fcs/throttle-cmd-norm',\n",
    "#         'fcs/elevator-cmd-norm',\n",
    "#         'fcs/rudder-cmd-norm',\n",
    "#         'fcs/aileron-cmd-norm',\n",
    "#         'ic/alpha-rad',\n",
    "#         'ic/beta-rad',\n",
    "#         'propulsion/engine/pitch-angle-rad',\n",
    "#     ],\n",
    "#     cost=cost_cruise,\n",
    "    \n",
    "    design_vector=[\n",
    "        'fcs/throttle-cmd-norm',\n",
    "        'fcs/elevator-cmd-norm',\n",
    "        'fcs/rudder-cmd-norm',\n",
    "        'fcs/aileron-cmd-norm',\n",
    "        'ic/alpha-rad',\n",
    "        'ic/beta-rad',\n",
    "    ],\n",
    "    method='SLSQP',\n",
    "    eq_constraints= [\n",
    "        lambda fdm: fdm['accelerations/udot-ft_sec2'],\n",
    "        lambda fdm: fdm['accelerations/vdot-ft_sec2'],\n",
    "        lambda fdm: fdm['accelerations/wdot-ft_sec2'],\n",
    "        lambda fdm: fdm['accelerations/pdot-rad_sec2'],\n",
    "        lambda fdm: fdm['accelerations/qdot-rad_sec2'],\n",
    "        lambda fdm: fdm['accelerations/rdot-rad_sec2'],\n",
    "    ],\n",
    "#     cost=lambda fdm: fdm['fcs/throttle-cmd-norm'],\n",
    "    cost=cost_cruise,\n",
    "    x0=[0.4, 0, 0, 0, 0, 0],\n",
    "    verbose=True,\n",
    "    bounds=[[0, 1], [-1, 1], [-1, 1], [-1, 1], [-1, 1], [-1, 1]],\n",
    "    tol=1e-12,\n",
    ")\n",
    "print(op_cruise)\n",
    "\n",
    "data2 = dict()\n",
    "data2['res'] = res\n",
    "data2['op_cruise'] = op_cruise\n",
    "\n",
    "all_data['cruiseTrim'] = data2"
   ]
  },
  {
   "cell_type": "code",
   "execution_count": 20,
   "metadata": {},
   "outputs": [
    {
     "data": {
      "text/plain": [
       "{'ic/gamma-rad': 0,\n",
       " 'ic/vt-fps': 677,\n",
       " 'ic/h-agl-ft': 38000.0,\n",
       " 'gear/gear-cmd-norm': 0,\n",
       " 'fcs/left-brake-cmd-norm': 0,\n",
       " 'fcs/right-brake-cmd-norm': 0,\n",
       " 'fcs/center-brake-cmd-norm': 0,\n",
       " 'propulsion/engine/pitch-angle-rad': 0,\n",
       " 'propulsion/engine[1]/pitch-angle-rad': 0,\n",
       " 'propulsion/engine[2]/pitch-angle-rad': 0,\n",
       " 'propulsion/engine[3]/pitch-angle-rad': 0,\n",
       " 'fcs/throttle-cmd-norm': 0.16673315207787176,\n",
       " 'fcs/elevator-cmd-norm': 0.14031067006746925,\n",
       " 'fcs/rudder-cmd-norm': 0.0007573899576671861,\n",
       " 'fcs/aileron-cmd-norm': 0.00022613538432062958,\n",
       " 'ic/alpha-rad': 0.020183191364411775,\n",
       " 'ic/beta-rad': 0.0012250540353381126}"
      ]
     },
     "execution_count": 20,
     "metadata": {},
     "output_type": "execute_result"
    }
   ],
   "source": [
    "op_cruise"
   ]
  },
  {
   "cell_type": "code",
   "execution_count": 29,
   "metadata": {},
   "outputs": [],
   "source": [
    "# log_cruise = simulate(\n",
    "#     aircraft='F-35B-2',\n",
    "#     op_0=op_cruise,\n",
    "#     tf=10,\n",
    "#     realtime=True)"
   ]
  },
  {
   "cell_type": "code",
   "execution_count": 30,
   "metadata": {},
   "outputs": [],
   "source": [
    "# plt.subplot()\n",
    "# log_cruise['propulsion/engine/pitch-angle-rad'].plot()\n",
    "# log_cruise['propulsion/engine[1]/pitch-angle-rad'].plot()\n",
    "# log_cruise['propulsion/engine[2]/pitch-angle-rad'].plot()\n",
    "# log_cruise['propulsion/engine[3]/pitch-angle-rad'].plot()\n",
    "# plt.grid(True)\n",
    "# plt.legend(['rcp', 'rhp', 'lcp', 'lhp'])\n",
    "# plt.ylabel('lb, pounds')\n",
    "# plt.show()"
   ]
  },
  {
   "cell_type": "code",
   "execution_count": 31,
   "metadata": {},
   "outputs": [],
   "source": [
    "# log_cruise['forces/fwx-aero-lbs'].plot()\n",
    "# plt.ylabel('lbs, drag')\n",
    "# plt.grid(True)"
   ]
  },
  {
   "cell_type": "code",
   "execution_count": 32,
   "metadata": {},
   "outputs": [],
   "source": [
    "# log_cruise['forces/fwy-aero-lbs'].plot()\n",
    "# plt.grid(True)\n",
    "# plt.ylabel('lbs, side-force')"
   ]
  },
  {
   "cell_type": "code",
   "execution_count": 33,
   "metadata": {},
   "outputs": [],
   "source": [
    "# log_cruise['forces/fwz-aero-lbs'].plot()\n",
    "# plt.grid(True)\n",
    "# plt.ylabel('lbs, lift')"
   ]
  },
  {
   "cell_type": "code",
   "execution_count": 34,
   "metadata": {},
   "outputs": [],
   "source": [
    "# log_cruise['aero/alpha-deg'].plot()\n",
    "# plt.ylabel('deg, angle of attack')\n",
    "# plt.grid(True)"
   ]
  },
  {
   "cell_type": "code",
   "execution_count": 35,
   "metadata": {},
   "outputs": [],
   "source": [
    "# log_cruise['fcs/elevator-pos-deg'].plot()\n",
    "# plt.grid(True)\n",
    "# plt.ylabel('deg, elevator angle')"
   ]
  },
  {
   "cell_type": "code",
   "execution_count": 36,
   "metadata": {},
   "outputs": [],
   "source": [
    "# plt.subplot()\n",
    "# log_cruise['fcs/left-aileron-pos-deg'].plot()\n",
    "# log_cruise['fcs/right-aileron-pos-deg'].plot()\n",
    "# plt.grid(True)\n",
    "# plt.legend(['left aileron', 'right aileron'])\n",
    "# plt.ylabel(\"deg, aileron angle\")\n",
    "# plt.show()"
   ]
  },
  {
   "cell_type": "code",
   "execution_count": 37,
   "metadata": {},
   "outputs": [],
   "source": [
    "# log_cruise['fcs/rudder-pos-deg'].plot()\n",
    "# plt.grid(True)\n",
    "# plt.ylabel('deg, rudder angle')"
   ]
  },
  {
   "cell_type": "code",
   "execution_count": 38,
   "metadata": {},
   "outputs": [],
   "source": [
    "# log_cruise['velocities/vt-fps'].plot()\n",
    "# plt.grid(True)\n",
    "# plt.ylabel(\"fps, velocity\")"
   ]
  },
  {
   "cell_type": "code",
   "execution_count": 27,
   "metadata": {},
   "outputs": [],
   "source": [
    "# log_hover_auto['fcs/throttle-pos-norm'].plot(label='0')\n",
    "# log_hover_auto['fcs/throttle-pos-norm[1]'].plot(label='1')\n",
    "# log_hover_auto['fcs/throttle-pos-norm[2]'].plot(label='2')\n",
    "# log_hover_auto['fcs/throttle-pos-norm[3]'].plot(label='3')\n",
    "\n",
    "# plt.legend()"
   ]
  },
  {
   "cell_type": "markdown",
   "metadata": {},
   "source": [
    "## Cruise Auto Pilot"
   ]
  },
  {
   "cell_type": "code",
   "execution_count": 13,
   "metadata": {},
   "outputs": [],
   "source": [
    "## Initial state\n",
    "op_cruise_auto = dict(op_cruise)\n",
    "op_cruise_auto['ic/theta-deg'] = 0\n",
    "op_cruise_auto['ic/phi-deg'] = 0\n",
    "op_cruise_auto['ic/h-agl-ft'] = 38000\n",
    "# op_cruise_auto['ic/u-fps'] = 677\n",
    "op_cruise_auto['ic/vt-fps'] = 677\n",
    "op_cruise_auto['ic/beta-rad'] = 0\n",
    "\n",
    "## Command\n",
    "op_cruise_auto['ap/heading-cmd-deg'] = 300\n",
    "op_cruise_auto['ap/gear-enable'] = 0\n",
    "op_cruise_auto['ap/roll-enable'] = 1\n",
    "op_cruise_auto['ap/pitch-enable'] = 1\n",
    "op_cruise_auto['ap/yaw-enable'] = 0\n",
    "op_cruise_auto['ap/h-enable'] = 1\n",
    "op_cruise_auto['ap/h-sl-cmd-ft'] = 38000\n",
    "\n",
    "# log_cruise_auto = simulate(\n",
    "#     aircraft='F-35B-2',\n",
    "#     op_0=op_cruise_auto,\n",
    "#     tf=5,\n",
    "#     realtime=False)"
   ]
  },
  {
   "cell_type": "code",
   "execution_count": 37,
   "metadata": {},
   "outputs": [
    {
     "ename": "KeyError",
     "evalue": "'hess_inv'",
     "output_type": "error",
     "traceback": [
      "\u001b[1;31m---------------------------------------------------------------------------\u001b[0m",
      "\u001b[1;31mKeyError\u001b[0m                                  Traceback (most recent call last)",
      "\u001b[1;32m<ipython-input-37-871aa2a6bceb>\u001b[0m in \u001b[0;36m<module>\u001b[1;34m\u001b[0m\n\u001b[1;32m----> 1\u001b[1;33m \u001b[1;32mdel\u001b[0m \u001b[0mall_data\u001b[0m\u001b[1;33m[\u001b[0m\u001b[1;34m'cruiseTrim'\u001b[0m\u001b[1;33m]\u001b[0m\u001b[1;33m[\u001b[0m\u001b[1;34m'res'\u001b[0m\u001b[1;33m]\u001b[0m\u001b[1;33m[\u001b[0m\u001b[1;34m'hess_inv'\u001b[0m\u001b[1;33m]\u001b[0m\u001b[1;33m\u001b[0m\u001b[1;33m\u001b[0m\u001b[0m\n\u001b[0m",
      "\u001b[1;31mKeyError\u001b[0m: 'hess_inv'"
     ]
    }
   ],
   "source": [
    "del all_data['cruiseTrim']['res']['hess_inv']"
   ]
  },
  {
   "cell_type": "code",
   "execution_count": null,
   "metadata": {},
   "outputs": [],
   "source": [
    "del all_data['hoverTrim']['res']['hess_inv']"
   ]
  },
  {
   "cell_type": "code",
   "execution_count": null,
   "metadata": {},
   "outputs": [],
   "source": [
    "del all_data['cruiseTrim']['res']['message']\n",
    "del all_data['groundTrim']['res']['message']\n",
    "del all_data['hoverTrim']['res']['message']"
   ]
  },
  {
   "cell_type": "code",
   "execution_count": null,
   "metadata": {},
   "outputs": [],
   "source": [
    "# encode numpy array for JSON serializable\n",
    "class NumpyEncoder(json.JSONEncoder):\n",
    "    def default(self, obj):\n",
    "        if isinstance(obj, np.ndarray):\n",
    "            return obj.tolist()\n",
    "        return json.JSONEncoder.default(self, obj)\n",
    "\n",
    "# save all output as JSON file \n",
    "with open('jsbsim_opt.json', '+w') as jfile:\n",
    "    json.dump(all_data, jfile, indent=4, cls=NumpyEncoder)"
   ]
  },
  {
   "cell_type": "code",
   "execution_count": null,
   "metadata": {},
   "outputs": [],
   "source": [
    "result = log_cruise.to_json(orient=\"split\")\n",
    "parsed = json.loads(result)\n",
    "with open('log_cruise.json', 'w') as jfile: \n",
    "    json.dump(parsed, jfile, indent=4)"
   ]
  },
  {
   "cell_type": "code",
   "execution_count": null,
   "metadata": {},
   "outputs": [],
   "source": [
    "result = log_ground.to_json(orient=\"split\")\n",
    "parsed = json.loads(result)\n",
    "with open('log_ground.json', 'w') as jfile: \n",
    "    json.dump(parsed, jfile, indent=4)"
   ]
  },
  {
   "cell_type": "code",
   "execution_count": null,
   "metadata": {},
   "outputs": [],
   "source": [
    "result = log_hover.to_json(orient=\"split\")\n",
    "parsed = json.loads(result)\n",
    "with open('log_hover.json', 'w') as jfile: \n",
    "    json.dump(parsed, jfile, indent=4)"
   ]
  },
  {
   "cell_type": "markdown",
   "metadata": {},
   "source": [
    "## Transition "
   ]
  },
  {
   "cell_type": "code",
   "execution_count": null,
   "metadata": {},
   "outputs": [],
   "source": [
    "def trim_transition(vt_fps, gamma_deg, accel_g):\n",
    "    print('trimming @ Vt=', vt_fps, 'fps', 'gamma = ', gamma_deg, 'deg')\n",
    "    \n",
    "    def accel_gamma(fdm, accel_g, gamma_deg):\n",
    "        gamma = np.deg2rad(gamma_deg)\n",
    "        g = 32.2\n",
    "        theta = fdm['attitude/theta-rad']\n",
    "        C_nb = np.array([\n",
    "            [np.cos(theta), -np.sin(theta)],\n",
    "            [np.sin(theta), np.cos(theta)]\n",
    "        ])\n",
    "        a_n = accel_g*g*np.array([np.cos(gamma), np.sin(gamma)])\n",
    "        a_b = C_nb.T.dot(a_n)\n",
    "        return a_b\n",
    "    \n",
    "    if vt_fps < 250:\n",
    "        x0 = [0.9, 0, 0, 0, np.deg2rad(90), \n",
    "                            np.deg2rad(90),\n",
    "                            np.deg2rad(90),\n",
    "                            np.deg2rad(90),\n",
    "              np.deg2rad(0), 0],\n",
    "    elif vt_fps < 260:\n",
    "        x0 = [0.9, 0, 0, 0, np.deg2rad(90), \n",
    "                            np.deg2rad(80),\n",
    "                            np.deg2rad(90),\n",
    "                            np.deg2rad(80),\n",
    "              np.deg2rad(0), 0],\n",
    "    elif vt_fps < 270:\n",
    "        x0 = [0.9, 0, 0, 0, np.deg2rad(80), \n",
    "                            np.deg2rad(60),\n",
    "                            np.deg2rad(80),\n",
    "                            np.deg2rad(60),\n",
    "              np.deg2rad(0), 0],\n",
    "    elif vt_fps < 280:\n",
    "        x0 = [0.9, 0, 0, 0, np.deg2rad(60), \n",
    "                            np.deg2rad(45),\n",
    "                            np.deg2rad(60),\n",
    "                            np.deg2rad(45),\n",
    "              np.deg2rad(0), 0],\n",
    "    elif vt_fps < 285:\n",
    "        x0 = [0.9, 0, 0, 0, np.deg2rad(40), \n",
    "                            np.deg2rad(20),\n",
    "                            np.deg2rad(40),\n",
    "                            np.deg2rad(20),\n",
    "              np.deg2rad(0), 0],\n",
    "    elif vt_fps < 290:\n",
    "        x0 = [0.9, 0, 0, 0, np.deg2rad(15), \n",
    "                            np.deg2rad(5),\n",
    "                            np.deg2rad(15),\n",
    "                            np.deg2rad(5),\n",
    "              np.deg2rad(0), 0],\n",
    "    elif vt_fps < 300:\n",
    "        x0 = [0.9, 0, 0, 0, np.deg2rad(3), \n",
    "                            np.deg2rad(3),\n",
    "                            np.deg2rad(3),\n",
    "                            np.deg2rad(3),\n",
    "              np.deg2rad(0), 0],\n",
    "    else:\n",
    "        x0 = [0.9, 0, 0, 0, np.deg2rad(0),\n",
    "                            np.deg2rad(0),\n",
    "                            np.deg2rad(0),\n",
    "                            np.deg2rad(0),\n",
    "              np.deg2rad(0), 0],\n",
    "\n",
    "    op, props, res = trim(\n",
    "        aircraft='F-35B-2',\n",
    "        ic={\n",
    "            'ic/h-sl-ft': 800,\n",
    "            'ic/vt-fps': vt_fps,\n",
    "            'ic/gamma-deg': gamma_deg,\n",
    "            'ap/gear-enable': 1,\n",
    "        },\n",
    "        design_vector=[\n",
    "            'fcs/throttle-cmd-norm',\n",
    "            'fcs/elevator-cmd-norm',\n",
    "            'fcs/rudder-cmd-norm',\n",
    "            'fcs/aileron-cmd-norm',\n",
    "            'propulsion/engine/pitch-angle-rad',\n",
    "            'propulsion/engine[1]/pitch-angle-rad',\n",
    "            'propulsion/engine[2]/pitch-angle-rad',\n",
    "            'propulsion/engine[3]/pitch-angle-rad',\n",
    "            'ic/alpha-rad',\n",
    "            'ic/beta-rad',\n",
    "        ],\n",
    "        x0=x0,\n",
    "        verbose=False,\n",
    "        method='SLSQP',\n",
    "        eq_constraints= [\n",
    "            lambda fdm: fdm['accelerations/udot-ft_sec2'] - accel_gamma(fdm, accel_g, gamma_deg)[0],\n",
    "            lambda fdm: fdm['accelerations/vdot-ft_sec2'],\n",
    "            lambda fdm: fdm['accelerations/wdot-ft_sec2'] - accel_gamma(fdm, accel_g, gamma_deg)[1],\n",
    "            lambda fdm: fdm['accelerations/pdot-rad_sec2'],\n",
    "            lambda fdm: fdm['accelerations/qdot-rad_sec2'],\n",
    "            lambda fdm: fdm['accelerations/rdot-rad_sec2'],\n",
    "        ],\n",
    "        cost=lambda fdm: fdm['fcs/throttle-cmd-norm'],\n",
    "        bounds=[[0, 1], [-1, 1], [-1, 1], [-1, 1],\n",
    "                [np.deg2rad(0), np.deg2rad(120)],\n",
    "                [np.deg2rad(0), np.deg2rad(120)],\n",
    "                [np.deg2rad(0), np.deg2rad(120)],\n",
    "                [np.deg2rad(0), np.deg2rad(120)],\n",
    "                [-0.1, 0.1], [-0.1, 0.1]],\n",
    "        tol=1e-12)\n",
    "    return op\n",
    "\n",
    "ops_trim = [trim_transition(vt_fps=vt, gamma_deg=0, accel_g=0)\n",
    "                  for vt in [10, 50, 100, 150, 200, 250, 300, 400, 500, 600, 700, 790]]\n",
    "for op in ops_trim:\n",
    "    print('\\nvt fps', op['ic/vt-fps'])\n",
    "    print('theta deg', op['ic/gamma-deg'] + np.rad2deg(op['ic/alpha-rad']))\n",
    "    print('elevator', op['fcs/elevator-cmd-norm'])\n",
    "    print('aileron', op['fcs/aileron-cmd-norm'])\n",
    "    print('rudder', op['fcs/rudder-cmd-norm'])\n",
    "    print('throttle', op['fcs/throttle-cmd-norm'])"
   ]
  },
  {
   "cell_type": "code",
   "execution_count": null,
   "metadata": {},
   "outputs": [],
   "source": [
    "ops_transition = [trim_transition(vt_fps=vt, gamma_deg=10, accel_g=0.1)\n",
    "                  for vt in [10, 50, 100, 150, 200, 250, 300, 400, 500, 600, 650]]\n",
    "\n",
    "ops_transition_auto = []\n",
    "for op in ops_transition:\n",
    "    op = dict(op)\n",
    "    print('\\nvt fps', op['ic/vt-fps'])\n",
    "    print('theta deg', op['ic/gamma-deg'] + np.rad2deg(op['ic/alpha-rad']))\n",
    "    print('elevator', op['fcs/elevator-cmd-norm'])\n",
    "    print('aileron', op['fcs/aileron-cmd-norm'])\n",
    "    print('rudder', op['fcs/rudder-cmd-norm'])\n",
    "    print('throttle', op['fcs/throttle-cmd-norm'])\n",
    "    op['ap/roll-enable'] = 1\n",
    "    op['ap/pitch-enable'] = 1\n",
    "    op['ap/yaw-enable'] = 1\n",
    "    op['ap/h-enable'] = 0\n",
    "    op['ap/h-sl-cmd-ft'] = 1000\n",
    "    ops_transition_auto.append(op)"
   ]
  },
  {
   "cell_type": "code",
   "execution_count": null,
   "metadata": {},
   "outputs": [],
   "source": [
    "# log_transition_auto = []\n",
    "# for op in ops_transition_auto:\n",
    "#     log = simulate(\n",
    "#         aircraft='F-35B-2',\n",
    "#         op_0=op,\n",
    "#         tf=10,\n",
    "#         realtime=False)\n",
    "#     log_transition_auto.append(log)"
   ]
  },
  {
   "cell_type": "markdown",
   "metadata": {},
   "source": [
    "## Auto takeoff "
   ]
  },
  {
   "cell_type": "code",
   "execution_count": null,
   "metadata": {},
   "outputs": [],
   "source": [
    "# log_takeoff_auto = simulate(\n",
    "#     aircraft='F-35B-2',\n",
    "#     op_0=op_ground,\n",
    "#     op_list=[('hover', op_hover_auto, lambda fdm: fdm.get_sim_time() > 1),\n",
    "#              ('10 fps', ops_transition_auto[0], lambda fdm: fdm.get_sim_time() > 10),\n",
    "#              ('50 fps', ops_transition_auto[1], lambda fdm: fdm['velocities/vt-fps'] > 50),\n",
    "#              ('100 fps', ops_transition_auto[2], lambda fdm: fdm['velocities/vt-fps'] > 100),\n",
    "#              ('150 fps', ops_transition_auto[3], lambda fdm: fdm['velocities/vt-fps'] > 150),\n",
    "#              ('200 fps', ops_transition_auto[4], lambda fdm: fdm['velocities/vt-fps'] > 200),\n",
    "#              ('250 fps', ops_transition_auto[5], lambda fdm: fdm['velocities/vt-fps'] > 250),\n",
    "#              ('300 fps', ops_transition_auto[6], lambda fdm: fdm['velocities/vt-fps'] > 300),\n",
    "#              ('400 fps', ops_transition_auto[7], lambda fdm: fdm['velocities/vt-fps'] > 400),\n",
    "#              ('500 fps', ops_transition_auto[7], lambda fdm: fdm['velocities/vt-fps'] > 500),\n",
    "#              ('600 fps', ops_transition_auto[7], lambda fdm: fdm['velocities/vt-fps'] > 600),\n",
    "#     ],\n",
    "#     tf=120,\n",
    "#     realtime=True, verbose=True)"
   ]
  },
  {
   "cell_type": "markdown",
   "metadata": {},
   "source": [
    "# Hover Controller Design"
   ]
  },
  {
   "cell_type": "markdown",
   "metadata": {},
   "source": [
    "## Pitch"
   ]
  },
  {
   "cell_type": "code",
   "execution_count": 213,
   "metadata": {},
   "outputs": [
    {
     "name": "stdout",
     "output_type": "stream",
     "text": [
      "0 states have been removed from the model\n"
     ]
    },
    {
     "data": {
      "text/latex": [
       "$$\\frac{41.57}{s^2}$$"
      ],
      "text/plain": [
       "TransferFunction(array([41.56841179]), array([1., 0., 0.]))"
      ]
     },
     "execution_count": 213,
     "metadata": {},
     "output_type": "execute_result"
    }
   ],
   "source": [
    "sys = control.ss(*linearize(\n",
    "    aircraft='F-35B-2',\n",
    "    states=['ic/q-rad_sec'],\n",
    "    states_deriv = ['accelerations/qdot-rad_sec2'],\n",
    "    inputs=['fcs/elevator-cmd-norm'],\n",
    "    outputs=['ic/q-rad_sec'],\n",
    "    ic=op_hover,\n",
    "    dx=1e-3,\n",
    "    n_round=10\n",
    "))\n",
    "s = control.tf([1, 0], [1])\n",
    "rad2deg = 180/np.pi\n",
    "G_elev_to_pitch = rad2deg*clean_tf(control.minreal(control.ss2tf(sys), 1e-10))/s  # in degrees\n",
    "G_elev_to_pitch"
   ]
  },
  {
   "cell_type": "code",
   "execution_count": 11,
   "metadata": {},
   "outputs": [
    {
     "data": {
      "text/latex": [
       "$$\\frac{16.64}{s^3 + 0.4 s^2}$$"
      ],
      "text/plain": [
       "TransferFunction(array([16.63869437]), array([1. , 0.4, 0. , 0. ]))"
      ]
     },
     "execution_count": 11,
     "metadata": {},
     "output_type": "execute_result"
    }
   ],
   "source": [
    "# # Add the actuator \n",
    "# tau = 0.4\n",
    "# G_act = tau / (s + tau)\n",
    "# G_elev_to_pitch *= G_act\n",
    "# G_elev_to_pitch"
   ]
  },
  {
   "cell_type": "code",
   "execution_count": 240,
   "metadata": {},
   "outputs": [
    {
     "name": "stdout",
     "output_type": "stream",
     "text": [
      "gain margin:  inf\n",
      "phase margin (in degrees):  122.7856267951608\n",
      "Frequency for gain margin (at phase crossover, phase = -180 degrees):  nan\n",
      "Frequency for phase margin (at gain crossover, gain = 1):  1.488022487197787\n"
     ]
    },
    {
     "name": "stderr",
     "output_type": "stream",
     "text": [
      "C:\\Users\\12646\\anaconda3\\lib\\site-packages\\control\\margins.py:322: RuntimeWarning: invalid value encountered in less_equal\n",
      "  w_180 = w_180[w180_resp <= 0.]\n",
      "C:\\Users\\12646\\anaconda3\\lib\\site-packages\\control\\margins.py:323: RuntimeWarning: invalid value encountered in less_equal\n",
      "  w180_resp = w180_resp[w180_resp <= 0.]\n"
     ]
    },
    {
     "data": {
      "image/png": "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\n",
      "text/plain": [
       "<Figure size 432x288 with 1 Axes>"
      ]
     },
     "metadata": {
      "needs_background": "light"
     },
     "output_type": "display_data"
    },
    {
     "data": {
      "image/png": "iVBORw0KGgoAAAANSUhEUgAAAZgAAAEGCAYAAABYV4NmAAAAOXRFWHRTb2Z0d2FyZQBNYXRwbG90bGliIHZlcnNpb24zLjMuMiwgaHR0cHM6Ly9tYXRwbG90bGliLm9yZy8vihELAAAACXBIWXMAAAsTAAALEwEAmpwYAAA09UlEQVR4nO3dd3hUZdrH8e+d3iEJkIReBQEFDErRpUgVC2LvKO4irqhY1/Ja1u66ay+oyGJHXUVA6UrEXSsgVQVDRyAhIQTSICH3+8cZMECAIZnJmQn357rONXPac34zF5Ob054jqooxxhjjayFuBzDGGFM7WYExxhjjF1ZgjDHG+IUVGGOMMX5hBcYYY4xfhLkdoCbVq1dPmzdv7vN2CwsLiY2N9Xm7/mSZ/S/Y8kLwZQ62vBCcmRcsWJCjqvWPdr1jqsA0b96c+fPn+7zdjIwM+vTp4/N2/cky+1+w5YXgyxxseSE4M4vIuqqsZ4fIjDHG+IUVGGOMMX5hBcYYY4xfWIExxhjjF1ZgjDHG+IWrBUZExotItogsO8R8EZHnRSRTRJaIyEkV5g0WkRWeeXfVXGpjjDHecHsPZgIw+DDzzwDaeIaRwCsAIhIKvOSZ3x64VETa+zWpMcaYo+JqgVHVecC2wywyFHhLHd8BdUUkDTgFyFTV1aq6G5joWdbUUmU5OYRu3ep2DGPMUQj0Gy0bARsqjG/0TKtserfKGhCRkTh7P6SkpJCRkeHzkAUFBX5p15+CLXP8xA9InjePBbPnUDjkDMrr1nU70hEF23cMwZc52PJCcGauqkAvMFLJND3M9IMnqr4GvAbQtWtX9ccdtMF4Z26wZS49vj1L7ruPmG++Ifb770m8/HKS//JnwhIT3Y52SMH2HUPwZQ62vBCcmavK7XMwR7IRaFJhvDGw6TDTTS0VntKAnZddSqvp00gYPJhtEyZQvHCh27GMMYcR6AVmCnCV52qy7kC+qm4GfgTaiEgLEYkALvEsa2q5iCZNaPjkE7SaPo24008HIPeN8eS+8QblxcUupzPGVOTqITIReR/oA9QTkY3AA0A4gKqOBaYBQ4BMoAi4xjOvTERGAzOBUGC8qi6v8Q9gXBPRrBkAqkrx0qXsnDGD3AkTqDdqFIkXXohERLic0BjjaoFR1UuPMF+BGw4xbxpOATLHMBGh8bPPULTgCrKfeYashx9h2xvjSXvkYWJ79nQ7njHHtEA/RGaMV2LS02n29ts0ef11QpOTCfVcZbanoBAtL3c3nDHHqEC/iswYr4kIcX86jdjTTkXEudAw6+GHKFn5Gw3G3Exsr177phtj/M/2YEytU7GIxJ52GuUFBWy4bhTrLrucwh9+cDGZMccWKzCmVqtz9tm0+vwzUh98gNLff2f9VcPZ9tbbbscy5phgh8hMrScRESRecgl1zj2XvPfeJ37QIABKVqwEgajjjnM5oTG1k+3BmGNGSFQUySOuITylAQBbn36aNUPP5fc77mT3uio9ctwYcxhWYMwxK+2Jx0m+dgQ7Z89m1Zlnsfn+ByjdssXtWMbUGlZgzDErLDGRBrffTqtZM0m86CK2T5pE/pSpbscyptawczDmmBfeoAGp999H0ogRhCU5nWfumDmLkl9/IfmaawhNSHA5oTHByfZgjPGIaNyIkJgYAIoXLyb3lbFkDhhIzmuvU15U5HI6Y4KPFRhjKpFy5x20+ORjYjp3ZuvTT5M5cBD5n33udixjgooVGGMOIap9e5q8OpZm771HZMuW+6aX796NlpW5mMyY4GAFxpgjiDmpC03fnEDCmUMA2DbhTVafdTY7pk2zfs6MOQwrMMZ4QUT2dUET1a4tEh7O77fexprzzmfn3Lk4HX8bYyqyAmPMUYrr1YsWn06i4VNPUV5cxMbr/0rWY4+7HcuYgGOXKRtTBRIaSp2zzyJh8CC2T5pEVLt2AJRmZ1O2eTPRnTq5nNAY91mBMaYaJDycxIsu2je+7Y3xbHvzTeJOP52wnj1cTGaM+6zAGOND9W+6kdDEuuS+MZ6kuXP5/adF1L9xNBHNm7sdzZgaZ+dgjPGhkNhY6o0aRes5sykaNJCdX35JzthX3Y5ljCuswBjjB6F16lBw7rm0nj2L+rfeAkDx8uVseewxynJyXE5nTM1wtcCIyGARWSEimSJyVyXz7xCRRZ5hmYjsEZEkz7y1IrLUM29+zac35sjC6tUjvIHzeIDinxaR9+57ZA4YSPYzz7InP9/ldMb4l2sFRkRCgZeAM4D2wKUi0r7iMqr6lKp2VtXOwN3AV6q6rcIifT3zu9ZUbmOqKumKy2n52VTi+/Yl99VXyRwwkG1vvul2LGP8xs09mFOATFVdraq7gYnA0MMsfynwfo0kM8ZPIlu0oNHT/6LFp5OISU9nT/4OAFSV8l27XE5njG+JW3cgi8gFwGBV/bNn/Eqgm6qOrmTZGGAj0HrvHoyIrAHyAAVeVdXXDrGdkcBIgJSUlPSJEyf6/LMUFBQQFxfn83b9yTL7n1d5y8shJITIRYuJ/+ADCocMobhnDwgNrZmQB6iV33GACcbMffv2XVClI0Wq6soAXAiMqzB+JfDCIZa9GJh6wLSGntcGwGKg15G2mZ6erv4wd+5cv7TrT5bZ/44mb+HChbrmoov157bt9LeBA3X7lKlavmeP/8IdQm3+jgNFMGYG5msV/s67eYhsI9CkwnhjYNMhlr2EAw6Pqeomz2s2MAnnkJsxQSmmSxeaTXyfxi+/TEhUNJvuuIMN11/vdixjqsXNGy1/BNqISAvgd5wictmBC4lIHaA3cEWFabFAiKru9LwfCDxUI6mN8YPUVMjKEqAvQm8Gx0+n7L1wlkyGTet3U7xwITHduu3rcNOYYOBagVHVMhEZDcwEQoHxqrpcREZ55o/1LDoMmKWqhRVWTwEmeX5sYcB7qjqj5tIb41tZWX+8V0KYvvNMZ6QA8j+ZxJYHHyTmlFOoP2YMMSd1cSekMUfJ1a5iVHUaMO2AaWMPGJ8ATDhg2mrAehM0x4Tpx5eQNKI/DT/+hqLLLmN7ems2XdabkpZpCM5jBAQhLCSMyNBIIkMjiQqL2vd+3xAWSVx4HHHhcYSGuHMRgTm2WF9kxgS4xxf9E1Ig8s/KGfNDOOf7TML+lckTV4VCFQ+ZxYbHEh8RT1x4HAkRCcRHxBMfEU/BtgIyl2aSHJVMcnQySVFJJEclkxSdRGRopI8/mantrMAYE+C+vvhrQkNCEQQdruzZsYOWubl83awpe/Ly2PHiq8SMuAJNrcfuPbsp2VPCrrJd7Nqz/1BSVkJhaSE7d+9kZ+lO59UzZBdlk7k9k5zCHDIWZlSaIz48npTYFNJi00iLTSM1NpXU2FRnPC6NBjENCA8Jr9kvxwQ0KzDGBLi6UXX3n1AvHuo1AmDnLwvZNXU6JVOmkXjRRTQcdR1h9ZtWeVsZGRl0O60b20q2kVucu+81tySXnOIcthRuYUvhFpblLCNvV95+64ZICGmxaTSNb0rThKY0S2i2b2gY19CKzzHICowxASAlZf8T/RWnH0786afTauYMcl4ZS97EiWz/+GOSrryS+rfeUuUrzqLDomkU14hGcY0Ou1xxWTFbCrewuXAzWwq3sKlgE+t3rmf9jvV8vvpzCkoL9i0bKqE0iW9Cm8Q2tK7bet9r0/imdj6oFrMCY0wA2LKl6uuGp6WR9tDfSb52BFtffIndGzfsKy66ezcSEeGjlPuLDoumRZ0WtKjT4qB5qkrerjzW71jPuh3rWLdjHWvy17AybyVz1s1BcXoQiQyNpGWdlrRJbEPbxLZ0rNeRdkntiAmP8UtmU7OswBhTS0Q0a0ajp/6B7tkDwK5Vq1g3/GqSr72WxEsvISQqqsayiAhJUUkkRSXRuUHn/eYVlxWzOn81v+X9RmZeJr9t/41vN33LlFVTAOdQW8s6LemQ3IEO9TrQIbkDbZPa2kUGQcgKjDG1jFToxyyqbVuyn3ySbRMmUO/666l7/nlIuLvnQqLDop3ikdxhv+lbi7byc+7PLMtdxvKc5Xz9+9dMXjUZgPCQcDrW60iXBl04qcFJdG7QmTqRddyIb46CFRhjaqnIVq1o+sY4Cn/4ga3PPseWBx8k7913aDFpEhIWeD/9+jH16R3Tm95NegPOYbasoiyW5SxjydYlLMhewFs/v8X4ZeMBaF23NallqRSuLqRbWjfqRddzM76pROD9KzPG+FTsKacQ8+47FM6bx+71G5CwMFSVoh9+JOaUkwO2+xkR2XcpdP9m/QHn8NqynGX8lP0TC7MXMn/TfP779X8Bp+B0T+tOj4Y96JrS1c7jBAArMMYcA0SEuN69940X/fgj64cPJ6pjR+qPGUPsqT0DttBUFB0WzcmpJ3Ny6skAfDn3S1JOTOH7zd/z3abv+GjlR7zzyzuESRgn1j+Rng170rtJb9omtg2Kz1fbWIEx5hgUc9JJpD32GDkvvsiGP/+ZmK5dqX/LGLdjHbUQCdl3PmdExxHs2rOLRdmL+HbTt3y7+VteWvQSLy56kdTYVHo37k3vxr05Je0Uu2CghliBMeYYJGFh1D1vGAlnncn2jz4iZ+xYNt50Mzz4gNvRqiUyNJJuad3oltaNMYwhpziHrzd+zVcbv2LKqil8sOIDosOi6Z7WnX5N+9G3aV8SIhLcjl1rWYEx5hgWEhFB0uWXU/e889i1ajWbcraiZWVkPfEkiZdeQmSrVm5HrJZ60fUY1mYYw9oMY9eeXfy45UcyNmTw1cavmLthLmHfhnFqw1MZ1HwQfZr0IT4i3u3ItYoVGGMMIdHRRHfsABkZ7Fq5kvxPPiHvvfeoc8451Bt9AxGNG7sdsdoiQyM5rdFpnNboNO7Ve1mas5RZa2cxc91Mvtr4FeEh4Zza8FQGNh9Iv6b97CIBH7ACY4zZT1T79rSaM5vc18eR99575H/+OXUvOJ+UO+4gJKZ2/NEVEU6sfyIn1j+RW7veytKcpcxcO5NZa2eRsTGD6LBoBjYbyNDWQ0lPSSdE3Hz4b/CyAmOMOUhYUhIpf7uTpKuHk/PKK5QsXoJ4egLQsrKAvI+mqkIkhE71O9Gpfidu73o7C7MWMmXVFGatm8XkVZNpFNeIs1udzTktz6FJQpMjN2j2qT3/SowxPheekkLagw+ipaVISAh7du5kzdBzqXPeeSRdPZzQuDi3I/pUiITQNbUrXVO7cne3u/li/RdMzpzMq4tfZezisfRI68HFbS+md5PehIXYn88jsf0+Y8wR7e1epryoiKgOHch58UVW9R9A7htvUF5c7HI6/4gOi+aslmfx+sDXmXXBLG7ofAOr81czJmMMgz4exCuLXyG7KNvtmAHNCowxxmvhKSk0fuF5mn/0EVEdO5L91D9ZNXAQZdu2uR3Nr1JjUxnVaRQzzp/Bs32fpXXd1ry86GUG/WcQt2bcyqLsRW5HDEi2j2eMOWrRJ3Sk6bjXKfrxRwrmfU1YUhIAxYsWEXXCCft1uFmbhIWE0a9pP/o17cf6Hev5aOVHfPzbx8xeN5suDbowvMNw+jTuY8+48XB1D0ZEBovIChHJFJG7KpnfR0TyRWSRZ7jf23WNMf4Xc/LJNLjtVgBKN21i7ZVXsfqcoeyYMRMtL3c5nX81TWjKbV1vY84Fc7jrlLvILspmzNwxDJ08lA9XfEhJWYnbEV3nWoERkVDgJeAMoD1wqYi0r2TRr1W1s2d46CjXNcbUkLDUVBo99RSo8vuYMay94EIK5s1DVd2O5lcx4TFcfvzlfDbsM57q/RRx4XE8/N3DDPp4EG8uf5Pistp5jsobbu7BnAJkqupqVd0NTASG1sC6xhg/kJAQEgYPouXUKaQ9/jh78vPZ8NcbKKvO4zqDSFhIGIObD+b9M99n/KDxtElswz/n/5PBHw8+ZguNuPW/CxG5ABisqn/2jF8JdFPV0RWW6QN8DGwENgG3q+pyb9at0MZIYCRASkpK+sSJE33+WQoKCogLsss1LbP/BVte8HHmsjLCV6+m9LjjAIj97DN2nXACZc2a+aZ9Av87zizJZHr+dFaWrCQ+JJ7+dfrTRbqQGJ/odrSj0rdv3wWq2vWoV1RVVwbgQmBchfErgRcOWCYBiPO8HwL85u26lQ3p6enqD3PnzvVLu/5kmf0v2PKq+i9zaU6OrujWXX9u2043jB6tJStX+qTdYPmO52+Zr9fOvFY7Tuiof3r7Tzolc4ruKd/jdiyvAfO1Cn/n3TxEthGoeFtsY5y9lH1UdYeqFnjeTwPCRaSeN+saYwJHWHIyrebMpt7o0RR+8y2rzxnK73feSdnWrW5HqxHpKemMGziOcQPHERcaxz3/vYdLPruE7zZ/53Y0v3KzwPwItBGRFiISAVwCTKm4gIikiucpQSJyCk7eXG/WNcYEltC4OOqPvoFWc2aTfO0Iir77Hol0nstS268426tbWjduT72dJ/70BPm78vnLrL9w/ZzrWZu/1u1ofuFagVHVMmA0MBP4BfhQnfMro0RklGexC4BlIrIYeB64xLPHVum6Nf8pjDFHKywxkQa3306rObMJTUhAy8tZe+mlZD35D8ry8tyO53chEsKZLc9kyrAp3JZ+G4uyF3HelPN4fuHzFJUWuR3Pp1y9D0ZVp6nqcaraSlUf9Uwbq6pjPe9fVNUOqtpJVbur6jeHW9cYEzxCIiIAKC8qJrJlK7a9+Sar+vVn6/PPs2fnTpfT+V9kaCRXd7yaqcOmckaLM3h96esMnTyUOevm1JpLu62rGGOMq0LjYmn4+GO0/Gwqsb16kfPyK2T2H0DJihVuR6sR9aLr8ehpjzJh8ATiI+K5JeMWRn85mi2FwX95txUYY0xAiGzZksbPPkOLTz4mYeAAIlu2BKBkxUrKd+92OZ3/paek8+FZH3JH1zv4YfMPDJs8jI9XfhzUezNWYIwxASWqfXvSHn4YCQ+nvKSE9ddey+rBZ7D940/QsjK34/lVWEgYV3W4ik/O+YTjk4/nwW8fZOTskfxe8Lvb0arECowxJmBJZCQNn3iC0KQkNt97L6vPPocd06fX+qvOmiQ0YdzAcdzX/T6WbF3C+VPOZ+qqqW7HOmpWYIwxAUtEiDvtVJp/9CGNXngeCQvl91tupWj+fLej+V2IhHBR24uYNHQSbRPbcs9/7+Hur++mYHeB29G8ZgXGGBPwRISEAQNo8emnNHntVWJOPhmA6K+/pvD7H1xO518N4xryxqA3uKHzDUxfM50Lpl7Akq1L3I7lFSswxpigIaGhxPXqhYigpaXEzJrN+uHDWT9iBMVLguOPblWEhYQxqtMoJgyeAMDwGcP54NcPAv4CACswxpigJOHh5N73fzS462+U/PIray+6mA03jGb32rVuR/Obzg068+HZH9KzYU8e+f4R7vvffQH93BkrMMaY4BURQfLVV9Nq9mzq33wTRfPno6WlAAH/v/uqSohI4IXTX+D6TtczedVkrpp+FZsKArMrRiswxpigFxoXS73rr6fNVxlEtmkDwKY77mTzffdTunmzy+l8L0RC+Gvnv/Li6S+ycedGLvv8MpbnBF5vWVZgjDG1RkhUFOB0nhmamMj2Tz9l1aDBZD3+OGW5uS6n873eTXrzzpB3iAqL4pqZ15CxIcPtSPuxAmOMqXUkJITUe++h9YzpJJx9FtvefofMAQMp+Oort6P5XMu6LXlnyDu0rNOSm+fezPu/vu92pH2swBhjaq3wRo1o+OijtPzsMxIG9CeqY0cAdq9fT3lhocvpfKdedD3GDxpPr8a9eOz7x3htyWtuRwKswBhjjgGRLVvQ8MknCUtORlXZdMedZA4cxLa33q41/ZzFhMfwTJ9nOLvl2bzw0ws8t/A51y90sAJjjDmmiAgN7vobka1akfXYY6waNJjt//lPrejnLCwkjEdOe4QLjruAcUvH8Y8f/+FqkQlzbcvGGOOSmC5daPrmBIq+/ZbsZ59j8//dh5aXk3jRRW5Hq7YQCeH+7vcTFRrFO7+8Q1hIGLem34rn4cA1ygqMMeaYJCLE9uxJ8x49KMjIILZnTwB2fjkXUOL69nXlj7IviAh3nnwnZeVlTFg+gbjwOK7rdF2N57ACY4w5pokI8X377hvPe+dtCr/5lqhOJ9JgzBhie/RwMV3ViQh3d7ubwtJCXlz0InERcVx+/OU1msHOwRhjTAVNXn2V1Icfoiwrm/XXjGDd8KspXhZ4NzF6I0RCeOjUhzi9yek88cMTzFk3p2a3X6NbM8aYACfh4SReeCGtZs4g5Z672ZWZSelmpysWt6/KqoqwkDCe7PUkJ9Y7kXv+ew8/5/5cY9t2tcCIyGARWSEimSJyVyXzLxeRJZ7hGxHpVGHeWhFZKiKLRKT2PxzCGFOjQiIjSbrqKlrPnkV8//4A5Lz8Mr/fehu71qxxOd3RiQqL4rnTn6NuZF1u/OJGsgqzamS7rhUYEQkFXgLOANoDl4pI+wMWWwP0VtUTgYeBA+8e6quqnVW1q98DG2OOSSExMftO9ktYODszMlh91tls+r//o3RTYHYyWZl60fV44fQXKCgt4NavbqW0vNTv23RzD+YUIFNVV6vqbmAiMLTiAqr6jarmeUa/AxrXcEZjjNmn3nUjaT17FklXXM6OyVNYNWgweR986HYsr7VNasvfT/07S7Yu4fmFz/t9e24WmEbAhgrjGz3TDuVaYHqFcQVmicgCERnph3zGGHOQsORkUu6+m1azZlLn3HOJau8ceCnLzWVPfr7L6Y5scPPBXNz2YiYsn+D3zjHFrZNWInIhMEhV/+wZvxI4RVVvrGTZvsDLwGmqmuuZ1lBVN4lIA2A2cKOqzqtk3ZHASICUlJT0iRMn+vyzFBQUEBcX5/N2/cky+1+w5YXgyxxIeRPeeovInxZRNKA/Raefjnp6dj5QIGQu1VKe2fIMuWW53NvwXhJCEw67fN++fRdU6VSEqh5xAJIqGcK9WfcwbfYAZlYYvxu4u5LlTgRWAccdpq0HgduPtM309HT1h7lz5/qlXX+yzP4XbHlVgy9zIOUt/nWFrv/rDfpz23a6okdPzfn3v3VPSclBywVK5lXbV+lJb52kN395s5aXlx92WWC+VuHvvLeHyBYCW4GVwG+e92tEZKGIpB91VXP8CLQRkRYiEgFcAkypuICINAU+Aa5U1ZUVpseKSPze98BAYFkVcxhjTLVFtT2OJi+9SPMPJhLVri3ZTzzJ1mefczvWIbWs05LRXUbzxfovmLF2hl+24e2d/DOASao6E0BEBgKDgQ9xDl11O9oNq2qZiIwGZgKhwHhVXS4iozzzxwL3A8nAy56rOMrU2U1LASZ5poUB76mqf74hY4w5CtGdOtF0/HgKv/ueiBbNAShetpzda1aTMGSIu+EOcFX7q5izbg6Pf/84PRv2pE5kHZ+27+0eTNe9xQVAVWcBvVT1OyCyqhtX1WmqepyqtlLVRz3TxnqKC6r6Z1VNVOdS5H2XI6tz5Vknz9Bh77rGGBMoYrt3IzwlBYDtH33EpjvuZM25w4hctChgbtgMDQnlvh73kb87n7GLx/q8fW8LzDYR+ZuINPMMdwJ5nntZyn2eyhhjapHUB+6n0dP/QktLqTv2VdZedDGF333ndiwA2iW14/w25/P+r++zavsqn7btbYG5DOcelE+ByUBTz7RQIPj7tzbGGD+SkBAShgyh5WdTyb/ySspycyhetAgIjO5nbuxyIzHhMTy94GmftutVgVHVHFW9UVW7eA5VjVbVraq6W1UzfZrIGGNqKQkLo+TUnrSaMYOkq68GYOf06ay/7jpKfq65PsIOlBiVyIiOI5i3cR7Lcnx3vZRXBUZE6ovIUyIyTUS+3Dv4LIUxxhxDQiIiCPHcJ1NeXELxosWsOe98No65hV2rV7uS6dJ2l1Insg6vLH7FZ216e4jsXeBXoAXwd2AtzmXGxhhjqqHu+efRevYskq8fRcG8eaw+62y2Pu//blwOFBsey/D2w5m3cR6/5P7ikza9LTDJqvoGUKqqX6nqCKC7TxIYY8wxLjQhgQY330zrObNJuuoqIlu3BqC8uJjS7Oway3Fxu4uJDovm/V/f90l73haYvd1ubhaRM0WkC9bxpDHG+FRYUhIpd/1t3/0yee+9x6qBg8j+5z8py8s7wtrVlxCRwFktz2LammlsL9le7fa8LTCPiEgd4DbgdmAccEu1t26MMeaQ4gcMIH7gAHLfGM+qAQPZ+tJL7Cko8Os2L2l3Cbv27GLyqsnVbsvbq8g+U9V8VV2mqn1VNV1Vpxx5TWOMMVUV0bQpjf7xD1pM/pTYHt3JeeFFNt1xp1+3eVzicXRM7sjnqz+vdltedRUjIi2AG4HmFddR1XOqncAYY8xhRR13HI1feIHipcuQUGe/oDQ7m4IvvqDu+ecjERE+3d7gFoP55/x/sjZ/Lc3rNK9yO94eIvsU58qxF4B/VRiMMcbUkOgTOu57/syOqZ+x5e8PsWrImWz/9FN0zx6fbWdQ80EAzFw78whLHp63BaZEVZ9X1bmeq8i+UtWvqrVlY4wxVZY04hqavDqWkIR4Nt91N6uHDmXH7Nk+aTs1NpUOyR3436b/VasdbwvMcyLygIj0EJGT9g7V2rIxxpgqExHievemxX/+Q6Nnn4VyZecs3xQYgB4Ne7Bk6xIKdlf9ogJvu+s/AbgSOJ0/OrdUz7gxxhiXSEgICYMHEd+/H+VFRQCUrFhB1iOPUv/mm4jpevQPogTokdaDcUvHMT9rfpWzeVtghgEtVXV3lbdkjDHGbyQsjNAE59HHZVlZ7F67lnVXXEnsn/5E/ZtvJrpjh6Nq78T6JxIqoSzNWVrlTN4eIlsM1K3yVowxxtSYuF69aDVrJg3uuJ2SJUtYe8EFbLrr7qNqIyosihZ1WlSr2xhv92BSgF9F5Edg196JdpmyMcYEppDoaJKvvZa6F1/MtglvImHOn3tVpSwri/DU1CO20T65Pd9s+qbKGbwtMA9UeQvGGGNcExoXR/3RN+wbL8jIYONNN1P3gvOpN+p6wlMaHHLdFnVaMGVV1e+p96rA2CXJxhhTO0S170DihReQ9+FH5H8yicTLLiN55F8IS0w8aNmGsQ2rta3DnoMRkf96XneKyI4Kw04R2VGtLRtjjKlx4SkNSL3/flrNmE7CGWew7c03WXfFlZU+WbNhnB8LjKqe5nmNV9WECkO8qiZUa8uAiAwWkRUikikid1UyX0Tkec/8JRXvvTnSusYYYw4tonFjGj7xOC2nTiHlnrsREXT3bra9/Q7lxcUANI5vTKf6naq8DW+vIvM5EQkFXgLOANoDl4pI+wMWOwNo4xlGAq8cxbrGHBPeXfouzZ9tTsjfQ2j+bHPeXfqu25FMEIls1Yq4U08FoODrr8l69FEyBw5k26mnkfziv3lnyDtVbtu1AgOcAmSq6mrP/TUTgaEHLDMUeEsd3wF1RSTNy3WNqfXeXfouI6eOZF3+OhRlXf46Rk4daUXGVEl8v340e+dtIpo1Iys3l1VjX2X7daOq3J6bBaYRsKHC+EbPNG+W8WZdY2q9e7+4l6LSov2mFZUWce8X97qUyAS7mK5dafb22zR5/XVC09LImzmT46FtVdry9jJlf5BKph14lulQy3izrtOAyEicw2ukpKSQkZFxFBG9U1BQ4Jd2/cky+19N5F2fv/6Q06uybfuO/S+oMj/8ECfcdBMxEFeV1d0sMBuBJhXGGwObvFwmwot1AVDV14DXALp27ap9+vSpVujKZGRk4I92/cky+19N5G26qCnr8tcdPL1O0ypt275j/wuqzE8/DcuXUwRV6vHSzUNkPwJtRKSFiEQAlwAH3tEzBbjKczVZdyBfVTd7ua4xtd6j/R4lJjxmv2kx4TE82u9RlxKZWuPpp+H22+Ha3vwCK6rShGt7MKpaJiKjgZlAKDBeVZeLyCjP/LHANGAIkAkUAdccbl0XPoYxrrr8hMsB51zM+vz1NK3TlEf7PbpvujFVNmcO3HcLyLgqN+HmITJUdRpOEak4bWyF9wrccOB6h1rXmGPR5SdcbgXF+N60afDzFPiw6gXGzUNkxhhjAln+hiMvcxhWYIwxxlQuNxMi61R5dSswxhhjKrd5CaSdWOXVrcAYY4w52J4yyFoGaUHYF5kxxpgAlrUUykogrXOVm7ACY4wx5mCrM5zXFr2q3IQVGGOMMQdbNRcadID4lCo3YQXGGGPM/oq3w/pvoVXfajVjBcYYY8z+fv0c9uyGDsOq1YwVGGOMMftb9jHUbQqN0qvVjBUYY4wxf9ixyTnB3/F8kMqejOI9KzDGGGP+MP/foOVw0vBqN2UFxhhjjKNsNyyYAMcNgqQW1W7OCowxxhjH0o+gMBtO/otPmrMCY4wxxukaZt5TkHoitO7nkyZdfR6MMcaYALH0Q8hbA5e8X+2T+3vZHowxxhzrSksg4wln76XtGT5r1vZgjDHmWPfdS7B9HVz5qc/2XsD2YIwx5ti2YxPM+xe0O6vaXcMcyAqMMcYcy2beA+VlMPARnzdtBcYYY45VP0+G5ZOg1x0+ue/lQK4UGBFJEpHZIvKb5zWxkmWaiMhcEflFRJaLyM0V5j0oIr+LyCLPMKRmP4ExxgS5wlz4/DbniZWnjfHLJtzag7kL+EJV2wBfeMYPVAbcpqrHA92BG0SkfYX5z6hqZ88wzf+RjTGmllCFz252uuUf+jKEhvtlM24VmKHAm573bwLnHriAqm5W1YWe9zuBX4BGNRXQGGNqrR9eg1+mQr/7ILWj3zYjquq3xg+5UZHtqlq3wnieqh50mKzC/ObAPKCjqu4QkQeBq4EdwHycPZ28Q6w7EhgJkJKSkj5x4kQffYo/FBQUEBcX5/N2/cky+1+w5YXgyxxsecH9zPE7fqPLT3exLakLyzreA3Lk/Yy+ffsuUNWuR70xVfXLAMwBllUyDAW2H7Bs3mHaiQMWAOdVmJYChOLsgT0KjPcmU3p6uvrD3Llz/dKuP1lm/wu2vKrBlznY8qq6nLlgq+ozHVWf7qBamOv1asB8rUId8NuNlqra/1DzRCRLRNJUdbOIpAHZh1guHPgYeFdVP6nQdlaFZV4HPvNdcmOMqYVKS2DiZVCQDddMg5gkv2/SrXMwU4C9DxsYDkw+cAEREeAN4BdVffqAeWkVRofh7BkZY4ypjCpMvQk2fA/Dxlb7SZXecqvAPAEMEJHfgAGecUSkoYjsvSLsVOBK4PRKLkf+h4gsFZElQF/glhrOb4wxwSPjcVjyAfT9P+gwrMY260pfZKqaCxzUH7SqbgKGeN7/F6i0UxxVvdKvAY0xprb49iX46knocgX0ur1GN2138htjTG218C2nK5j2Q+Hs533akaU3rMAYY0xttPgDmHITtO4P542DkNAaj2AFxhhjapv5/4ZJ10GLP8FFb0NYhCsxrMAYY0xt8t0r8NkYaDMALvsQImJci2IPHDPGmNpA1TmZn/E4HH8OnP+Ga3sue1mBMcaYYFe2G6beDIvfg86XOyf0Q93/8+5+AmOMMVVXvB0+vBLWzIM+90DvO2v8arFDsQJjjDHBKicTPrgccjPh3LHQ+VK3E+3HCowxxgSjX6c5V4qFhMGVk6BFL7cTHcQKjDHGBJPycvjqCeeEflpnuPhtqNvU7VSVsgJjjDHBYmcWfDoKVn0Jna+AM/8F4VFupzokKzDGGBMMVs6CT6+H3YVw1rOQfnXAnMw/FCswxhgTyEpLYM4D8P1YSOno3N/SoJ3bqbxiBcYYYwLVxvkw+QbY+it0/yv0eyCgD4kdyAqMMcYEmt1FMPdR+O5liE+Dyz+GNod8SHDAsgJjjDGBZO3/YMpo2LYa0q+BAQ9BVILbqarECowxxgSCgmyYfT8sft+57PiqydCyj9upqsUKjDHGuGlPGcx/A758BEqL4bRboNcdEBHrdrJqswJjjDFuWftfmH4XZC2Fln1hyFNQr43bqXzGCowxxtS07F+dS49XzoCExnDRW04X+wF+X8vRcqXAiEgS8AHQHFgLXKSqeZUstxbYCewBylS169Gsb4wxAWVnFseteBm+mg0RcdD/Qeg2CsKj3U7mF2490fIu4AtVbQN84Rk/lL6q2nlvcanC+sYY467CXJjzIDzfhdQtc+CUkXDTIud8Sy0tLuDeIbKhQB/P+zeBDOBvNbi+Mcb4X2EufPsCfP8alBZBx/P4MWYA3c4IrG71/UVUteY3KrJdVetWGM9T1cRKllsD5AEKvKqqrx3N+p55I4GRACkpKekTJ0705UcBoKCggLi4OJ+360+W2f+CLS8EX+ZAzRu+O5/GGyfTeOPnhJTvIrvBn1jX7CKKYpsEbObD6du374IDjiJ5R1X9MgBzgGWVDEOB7Qcsm3eINhp6XhsAi4FennGv1j9wSE9PV3+YO3euX9r1J8vsf8GWVzX4Mgdc3pxM1am3qD7cQPWBOqofjVDN/nW/RQIusxeA+VqFOuC3Q2Sqesh+DUQkS0TSVHWziKQB2YdoY5PnNVtEJgGnAPMAr9Y3xpgaseEH+N9z8OvnEBoOJ14MPW+E+m3dTuYqt87BTAGGA094XicfuICIxAIhqrrT834g8JC36xtjjF+V7YZfp8L3r8KG7yGqLvzpNucEfnyK2+kCglsF5gngQxG5FlgPXAggIg2Bcao6BEgBJolzXXgY8J6qzjjc+sYY43fb18OCCbDwbSjMhsTmcMY/oMsVteLue19ypcCoai7Qr5Lpm4AhnvergU5Hs74xxvhF+R7nKZI/vgG/zXSmtRkEJ18LrfpBiFt3fAQ2u5PfGGMOZetKWPweLP4Adm6C2PrOvSvpVzsdUprDsgJjjDEVFefBsk+cXo03/ggSAq37w6BHod1ZEBbhdsKgYQXGGGN27YSVM2H5JPhtNuzZBQ3aw4CH4cSLID7V7YRByQqMMebYtKvA6Wxy+STInANlJc7TI7uOgE6XQFqnWtf5ZE2zAmOMOXYUbHVO0q+Y/kdRiUt1zqm0PxeadLMT9j5kBcYYU3upQtZyWDndOQS2cT6gEN8QTroKOgyDJt2tqPiJFRhjTO1SnAdr5sHqDOd8Sv4GZ3rDk6DvPXDcIEg90Q5/1QArMMaY4FZa4txJvzrDGTb9BKjzvJUWvZzHDx83yE7Uu8AKjDEmuJTsgI0/wPrv6LRkOvw30zmXIqHQ+GTocxe07AON0p1+wYxrrMAYYwKXKuz43elMcv23zpC1HLQcJISw2BaQfo1TUJr1hKgEtxObCqzAGGMCx84s5xDXpoWe15+gcKszLzzG2UPpdSc07Q6Nu7Lg2wX06dPH1cjm0KzAGGNq3p5SyPkNsn92hqyfYfNipzsWcO6er98O2gyEhl2cw12pJ9ghryBjBcYY4z+lJZC3BnJXQc4Kp5Bk/+wUl/JSZxkJheTW0PxU50qvhl2cYhIZXE99NAezAmOMqTpVKNkO+Rth+wbYthq2rXIKyrbVznQqPJa9TlNocLxzVVeD9s5Qrw2ERbr1CYwfWYExJgCkpkJW1sHTU1Jgy5aazwM4h7GKcqEg23nuSUE25P8OOzY6hWPvsLtg//Wi6kJyK2jaw3lNbg1JLZ1XOwl/TLECY0wAqKy4HG76EZWXO5fu7h1Ki53XXTuhJN+51Ldku+f9H0OnTZmwvMwpJsXbKm87tj7UaewUjJZ9nfd1GkOdJpDUAmKSqhja1DZWYIwJdM+eACFhgADqHJbScs97/ni/pxTKdkFZMezZ7X37YVEQVQciEwgpD3MOWTU7FeIaQGw9iG3geV8fEhpCeLRfPqapfazAGBPomp3qFA8UEOcKK5GD34eGQVi0cz4jPNopHGFREB71x/vIeOcQVlQdz5Cw3/mPnzIy7LJf4zNWYIwJdMPGup3AmCqxLkSNMcb4hSsFRkSSRGS2iPzmeU2sZJm2IrKowrBDRMZ45j0oIr9XmDekxj+EMT6UknJ0040JBm7twdwFfKGqbYAvPOP7UdUVqtpZVTsD6UARMKnCIs/sna+q02oitDH+smWL59z9AYNrlygb4wNuFZihwJue928C5x5h+X7AKlVd589QxhhjfEdU9chL+XqjIttVtW6F8TxVPegwWYX544GFqvqiZ/xB4GpgBzAfuE1V8w6x7khgJEBKSkr6xIkTffQp/lBQUEBcXHB1a2GZ/S/Y8kLwZQ62vBCcmfv27btAVbse9Yqq6pcBmAMsq2QYCmw/YNm8w7QTAeQAKRWmpQChOHtgjwLjvcmUnp6u/jB37ly/tOtPltn/gi2vavBlDra8qsGZGZivVagDfrtMWVX7H2qeiGSJSJqqbhaRNCD7ME2dgbP3su+e5orvReR14DNfZDbGGOM7bp2DmQIM97wfDkw+zLKXAu9XnOApSnsNw9kzMsYYE0DcOgeTDHwINAXWAxeq6jYRaQiMU9UhnuVigA1AS1XNr7D+20BnnFub1wLXqepmL7a7FfDHhQL1cA7jBRPL7H/BlheCL3Ow5YXgzNxWVeOPdiVXCkxtIyLztSonwFxkmf0v2PJC8GUOtrxwbGW2O/mNMcb4hRUYY4wxfmEFxjdecztAFVhm/wu2vBB8mYMtLxxDme0cjDHGGL+wPRhjjDF+YQXGGGOMX1iBqQIRuVBElotIuYgc9tI9EQkVkZ9ExNXeBrzJLCJNRGSuiPziWfbmms5ZIYtX37GIDBaRFSKSKSIH9cpdk7x5DIVnuVs8n22ZiLwvIlE1nbVCFm8z1xWR/4jIr55/Hz1qOqsnh1d5PcsGym/Pm8eTuP7bO9JvSRzPe+YvEZGTjtSmFZiqWQacB8zzYtmbgV/8G8cr3mQuw+k49HigO3CDiLSviXCVOGJeEQkFXsLpTqg9cKmLecGLx1CISCPgJqCrqnbE6VPvkhpNub8jZvZ4Dpihqu2ATrj3b9rbvBA4vz1vMrv62/Pyt3QG0MYzjAReOVK7VmCqQFV/UdUVR1pORBoDZwLj/J/q8LzJrKqbVXWh5/1OnB9no5rIV0kWb77jU4BMVV2tqruBiTidqbrF28dQhAHRIhIGxACb/B/tkI6YWUQSgF7AGwCqultVt9dQvgN59R0H0m8PLzIHwG/Pm9/SUOAtT/+X3wF1D+i26yBWYPzrWeBOoNzlHEdNRJoDXYDvXY5yOI1wuhLaayMuFUSPlL1dFnleGxy4gKr+DvwTp4ukzUC+qs6q0ZT7O2JmoCWwFfi355DTOBGJrcmQFXiTFwLrt+dtZsC13543v6Wj/r35rTflYCcic4DUSmbdq6qH65xz7/pnAdmqukBE+vg43qG2Wa3MFdqJAz4GxqjqDl/lq2Q71c0rlUzz63X3h8vs5fqJOP8TbAFsBz4SkStU9R2fhTx4m9XKjPN34iTgRlX9XkSewznMc5+PIu7HB99xQP32jrKdGvntVbbpSqYd+Fs66t+bFZhDONzjBrx0KnCOiAwBooAEEXlHVa+ofrrK+SAzIhKO8w/8XVX9pPqpDs0HeTcCTSqMN8bPh5t88BiK/sAaVd3qWecToCfgtwLjg8wbgY2quvd/1P/h8Oc+qsUHeQPqt+dl5hr97VXCm9/SUf/e7BCZn6jq3araWFWb45zE/dKf/8B9QUQE5zj7L6r6tNt5vPAj0EZEWohIBM73PMXFPN48hmI90F1EYjzfdz/cPRF9xMyqugXYICJtPZP6AT/XTLyDeJM30H57R8wcAL89b35LU4CrPFeTdcc5vHv4Xuyr8pSyY33AeQbNRmAXkAXM9ExvCEyrZPk+wGeBnhk4DWeXdwmwyDMMCdS8nvEhwEpgFc6hNTe/42Scq4R+87wmHSLz34Ffca6UexuIDILMnXEeT74E+BRIDOS8FZYPhN/eETMHwm+vst8SMAoY5XkvOFearQKW4lwJedg2rasYY4wxfmGHyIwxxviFFRhjjDF+YQXGGGOMX1iBMcYY4xdWYIwxxviFFRhjgoCIrBWRem7nMOZoWIExpoZ5blSz356p9ewfuTE1QESae5718TKwELhPRH70PFfj7xWW+1REFnieCTLSvcTGVJ8VGGNqTlvgLeBvOL3QnoJzh3y6iPTyLDNCVdOBrsBNIpLsRlBjfMEKjDE1Z506z9EY6Bl+wtmbaYfzECdwispi4DucjgXbVNaQMcHAelM2puYUel4FeFxVX60409O1fH+gh6oWiUgGTm/AxgQl24MxpubNBEZ4nv2BiDQSkQZAHSDPU1za4Tw615igZXswxtQwVZ0lIscD3zq9tFMAXAHMAEaJyBJgBc5hMmOClvWmbIwxxi/sEJkxxhi/sAJjjDHGL6zAGGOM8QsrMMYYY/zCCowxxhi/sAJjjDHGL6zAGGOM8Yv/B+umYxSar614AAAAAElFTkSuQmCC\n",
      "text/plain": [
       "<Figure size 432x288 with 1 Axes>"
      ]
     },
     "metadata": {
      "needs_background": "light"
     },
     "output_type": "display_data"
    },
    {
     "data": {
      "image/png": "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\n",
      "text/plain": [
       "<Figure size 432x288 with 1 Axes>"
      ]
     },
     "metadata": {
      "needs_background": "light"
     },
     "output_type": "display_data"
    },
    {
     "data": {
      "image/png": "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\n",
      "text/plain": [
       "<Figure size 432x288 with 1 Axes>"
      ]
     },
     "metadata": {
      "needs_background": "light"
     },
     "output_type": "display_data"
    },
    {
     "data": {
      "image/png": "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\n",
      "text/plain": [
       "<Figure size 1080x504 with 4 Axes>"
      ]
     },
     "metadata": {
      "needs_background": "light"
     },
     "output_type": "display_data"
    },
    {
     "data": {
      "image/png": "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\n",
      "text/plain": [
       "<Figure size 432x288 with 1 Axes>"
      ]
     },
     "metadata": {
      "needs_background": "light"
     },
     "output_type": "display_data"
    }
   ],
   "source": [
    "# PD gains to lead-lag gains \n",
    "Kp = 0.023\n",
    "Kd = 0.033\n",
    "N = 20\n",
    "\n",
    "c1 = N*Kd + Kp\n",
    "c2 = N*Kp\n",
    "c3 = 1\n",
    "c4 = N\n",
    "\n",
    "H_elev_to_pitch = (c1 * s + c2) / (c3 * s + c4)\n",
    "# H_elev_to_pitch = 1 + 0.01*s\n",
    "\n",
    "plt.figure()\n",
    "rootlocus(G_elev_to_pitch*H_elev_to_pitch)\n",
    "plt.plot([0, -1], [0, 1], '--')\n",
    "\n",
    "plt.figure()\n",
    "rootlocus(G_elev_to_pitch*H_elev_to_pitch)\n",
    "plt.xlim([-1.5, 0])\n",
    "plt.plot([0, -1], [0, 1], '--')\n",
    "\n",
    "Gc_elev_to_pitch = G_elev_to_pitch*H_elev_to_pitch/(1 + G_elev_to_pitch*H_elev_to_pitch)\n",
    "\n",
    "plt.figure()\n",
    "step_size = 10\n",
    "t, y = control.step_response(step_size*Gc_elev_to_pitch, T=np.linspace(0, 30, 1000))\n",
    "plt.plot(t, y)\n",
    "plt.ylabel('pitch, deg')\n",
    "plt.xlabel('t, sec')\n",
    "plt.title('output')\n",
    "\n",
    "plt.figure()\n",
    "# actual error was computed in radians, so, converting back here\n",
    "e = np.deg2rad(step_size-y)\n",
    "t, u, _= control.forced_response(H_elev_to_pitch, T=t, U=e)\n",
    "plt.plot(t, u)\n",
    "plt.hlines([-1, 1], t[0], t[-1], linestyles='dashed')\n",
    "plt.title('input')\n",
    "plt.ylabel('elevator, norm')\n",
    "plt.xlabel('t, sec')\n",
    "\n",
    "plt.figure(figsize=(15, 7))\n",
    "control.gangof4(G_elev_to_pitch, H_elev_to_pitch, Hz=True, dB=True)\n",
    "\n",
    "plt.figure()\n",
    "control.nyquist(Gc_elev_to_pitch, omega=np.logspace(-3, 3, 1000))\n",
    "\n",
    "gm, pm, wg, wp = control.margin(Gc_elev_to_pitch)\n",
    "print('gain margin: ', gm)\n",
    "print('phase margin (in degrees): ', pm)\n",
    "print('Frequency for gain margin (at phase crossover, phase = -180 degrees): ', wg)\n",
    "print('Frequency for phase margin (at gain crossover, gain = 1): ', wp)"
   ]
  },
  {
   "cell_type": "markdown",
   "metadata": {},
   "source": [
    "## Roll"
   ]
  },
  {
   "cell_type": "code",
<<<<<<< HEAD
   "execution_count": 170,
=======
   "execution_count": 25,
>>>>>>> 7ea50ba453c0452554cc120d6802c0aab90344f3
   "metadata": {},
   "outputs": [
    {
     "name": "stdout",
     "output_type": "stream",
     "text": [
      "0 states have been removed from the model\n"
     ]
    },
    {
     "data": {
      "text/latex": [
       "$$\\frac{76.15}{s^2}$$"
      ],
      "text/plain": [
       "TransferFunction(array([76.14609097]), array([1., 0., 0.]))"
      ]
     },
     "execution_count": 170,
     "metadata": {},
     "output_type": "execute_result"
    }
   ],
   "source": [
    "sys = control.ss(*linearize(\n",
    "    aircraft='F-35B-2',\n",
    "    states=['ic/p-rad_sec'],\n",
    "    states_deriv = ['accelerations/pdot-rad_sec2'],\n",
    "    inputs=['fcs/aileron-cmd-norm'],\n",
    "    outputs=['ic/p-rad_sec'],\n",
    "    ic=op_hover,\n",
    "    dx=1e-3,\n",
    "    n_round=3\n",
    "))\n",
    "rad2deg = 180/np.pi\n",
    "s = control.tf([1, 0], [1])\n",
    "G_aileron_to_roll = rad2deg*clean_tf(control.minreal(control.ss2tf(sys), 1e-3))/s\n",
    "G_aileron_to_roll"
   ]
  },
  {
   "cell_type": "code",
   "execution_count": 26,
   "metadata": {},
   "outputs": [
    {
     "data": {
      "text/latex": [
       "$$\\frac{30.46}{s^3 + 0.4 s^2}$$"
      ],
      "text/plain": [
       "TransferFunction(array([30.45843639]), array([1. , 0.4, 0. , 0. ]))"
      ]
     },
     "execution_count": 26,
     "metadata": {},
     "output_type": "execute_result"
    }
   ],
   "source": [
    "# # Add the actuator \n",
    "# tau = 0.4\n",
    "# G_act = tau / (s + tau)\n",
    "# G_aileron_to_roll *= G_act\n",
    "# G_aileron_to_roll"
   ]
  },
  {
   "cell_type": "code",
   "execution_count": 212,
   "metadata": {},
   "outputs": [
    {
     "name": "stdout",
     "output_type": "stream",
     "text": [
      "gain margin:  inf\n",
      "phase margin (in degrees):  111.50982530598753\n",
      "Frequency for gain margin (at phase crossover, phase = -180 degrees):  nan\n",
      "Frequency for phase margin (at gain crossover, gain = 1):  2.132052704679188\n"
     ]
    },
    {
     "name": "stderr",
     "output_type": "stream",
     "text": [
      "C:\\Users\\12646\\anaconda3\\lib\\site-packages\\control\\margins.py:322: RuntimeWarning: invalid value encountered in less_equal\n",
      "  w_180 = w_180[w180_resp <= 0.]\n",
      "C:\\Users\\12646\\anaconda3\\lib\\site-packages\\control\\margins.py:323: RuntimeWarning: invalid value encountered in less_equal\n",
      "  w180_resp = w180_resp[w180_resp <= 0.]\n"
     ]
    },
    {
     "data": {
      "image/png": "iVBORw0KGgoAAAANSUhEUgAAAZAAAAEGCAYAAABLgMOSAAAAOXRFWHRTb2Z0d2FyZQBNYXRwbG90bGliIHZlcnNpb24zLjMuMiwgaHR0cHM6Ly9tYXRwbG90bGliLm9yZy8vihELAAAACXBIWXMAAAsTAAALEwEAmpwYAAAleklEQVR4nO3deZxU1Zn/8c/TDc3W7EghOyoaQRAFMYmC3SgJOolonBiNOs44kWFMMpk4jtHxl8UkTvw5/rKYaAxJzJAJhmEy7iHu3SoalUVkERWCgNDIIg100TTQ3c/vj1tg0fRSXd23blX19/161avuPfece5+DUg/nbsfcHRERkdYqiDoAERHJTUogIiKSFiUQERFJixKIiIikRQlERETS0inqADJpwIABPnLkyLTa7tu3jx49erRvQFlOfe4Y1OeOoS19Xrp06U53P65heYdKICNHjmTJkiVptS0vL6ekpKR9A8py6nPHoD53DG3ps5ltbKxcp7BERCQtSiAiIpIWJRAREUmLEoiIiKRFCURERNISaQIxswfMbLuZrWpiu5nZPWa2zsxWmNmZSdtmmNk7iW23ZC5qERGB6Ecg/wnMaGb7hcDoxGcW8HMAMysE7k1sHwNcaWZjQo1URESOEmkCcfcXgV3NVJkJ/NYDrwJ9zOx4YDKwzt3Xu/tBYH6iroiIZEi2P0g4BHg/aX1zoqyx8rMb24GZzSIYvRCLxSgvL08rkHg8nnbbXKU+dwzqc7g+97lPUllZxF/1fIIv9f8ll2/4Hw5RRN++B3nooVcyEgOE0+dsTyDWSJk3U35sofscYA7ApEmTPN0nMfXkasegPncMmexzZWXwvenQcB7YdV3w6+VQWVmU0T/3MPqc7QlkMzAsaX0oUAEUNVEuIpKVVtaMZ2XN+KPKKuIVDC4eHFFEbRf1RfSWPAb8TeJurI8De9x9K7AYGG1mo8ysCLgiUVdEJGvFOn3A53sv4PAJk4seuohvvvxNdtU0dyk4e0V9G+/vgT8Dp5jZZjP7ezObbWazE1UWAuuBdcAvgRsA3L0W+ArwFLAGWODuqzPeARGRVpja40VuH/RtTipaC8AXT/0iT/zlCS5+5GKe3/R8xNG1XqSnsNz9yha2O/DlJrYtJEgwIiI5oTxeAsC04jLW7TqZm8+6mctGX8Zti27ja2Vf44bTb2D26bMxa+wyb/bJ9lNYIiI5LRb7aHlH3UBW7B9HafHzR8pP7HMicy+cy8UnXsx9b97HXYvvIvi3c/bL9ovoIiI57YMPjl7f+fNSdvzkHjYv2QEEczR1KezC98/5Pr2KevG7Nb+jc2Fnbpx4Y+aDbSWNQEREMqh42jQoKGD/ihVHlZsZN591M5effDm/WfUbHl77cEQRpk4jEBGRDOpy8smMfnkRnfr2PWabmXHr2beyqWoT3331u4zqPYoJAydkPsgUaQQiIpJBZtZo8jisU0En7j7vbmLdY9z60q3sO7Qvg9G1jhKIiEiGHdq2jU3XXUf8hRca3d67S2/+/dx/p2JfBXe+fmeGo0udEoiISIZ16tuX/StWUvXss03WOTN2Jteddh2PrHuEV7e+msHoUqcEIiKSYVZURPHUKVSVleP19U3Wm336bIYWD+UHr/2AQ3WHMhhhapRAREQiUFw6jbqdO6lZubLJOl0Ku3DL5FtYv2c989bMy2B0qVECERGJQPHUKVBYSNXzZc3WO2/YeUwdOpU5K+aw58CeDEWXGiUQEZEIFPbuTd+rvkjRyJEt1v2nM/6JqkNVzF09N/zAWkEJREQkIoP+7d/oc+klLdY7pd8pfHrkp5m3Zh6VNZXhB5YiJRARkQjVxeMc3LixxXo3nH4DNXU1WTUKUQIREYnQxquvYeu3v9NivRP6nMAFwy9gwbsLqD5UHX5gKVACERGJUPGUKVQvXkzdnpYvkF8z5hqqDlbx2F+yY/48JRARkQgVTyuFujriLy1qse7px53OuAHjmLdmHvXe9PMjmRL1jIQzzOwdM1tnZrc0sv1fzWx54rPKzOrMrF9i2wYzW5nYtiTz0YuItF238eMp7N+feFnzt/NC8B6tq0+9mg17N/DylpczEF3zIksgZlYI3AtcCIwBrjSzMcl13P0/3H2Cu08AbgVecPfkyYNLE9snZSpuEZH2ZIWFFJecR/zFF/FDLT9tPn3EdPp26cvD66J/3XuUI5DJwDp3X+/uB4H5wMxm6l8J/D4jkYmIZFD/v/8SI3//IHRqeYaNzoWd+cyJn6Hs/bLIb+m1qKZONLO/Bma4+5cS69cAZ7v7Vxqp2x3YDJx0eARiZu8BlYADv3D3OU0cZxYwCyAWi02cP39+WvHG43GKi4vTapur1OeOQX3OPRUHK/jB1h9wWd/LKOlVklKbtvS5tLR0aaNnetw9kg/weeBXSevXAD9tou4XgMcblA1OfA8E3gSmtnTMiRMnerrKysrSbpur1OeOQX3ODvuWLvWtd9zh9fX1KdX/wuNf8MsevSzl/belz8ASb+Q3NcpTWJuBYUnrQ4GKJupeQYPTV+5ekfjeDjxMcEpMRCQnHVi3jsrf/hcH1q5Nqf5nT/ws71S+w/rd60OOrGlRJpDFwGgzG2VmRQRJ4pibm82sN3Ae8GhSWQ8z63l4GfgUsCojUYuIhKC4pASAeAsvVzxs+ojpGMbTG58OMarmRZZA3L0W+ArwFLAGWODuq81stpnNTqp6KfC0uyfP6xgDFpnZm8DrwB/d/clMxS4i0t46DxxI1/HjqSp7PqX6A7sP5IyBZ/DMxmdCjqxpkT4H4u4L3f1kdz/R3e9IlN3v7vcn1flPd7+iQbv17n564jP2cFsRkVzWc1opNW+uoHbHjpTqTx8xnXcr32XDng3hBtYEPYkuIpIlikun0XnoUA5t2ZJS/QtGXADAs5uanho3TEogIiJZosvJoznxmafpNmFCSvUH9RjE2P5jeeH9F8INrAlKICIiWcLMMDO8rg6vrU2pzblDzmXFzhWRzFaoBCIikkUOrFvH2nPOJf7iiynVP3fIudR7PX/e+ueQIzuWEoiISBYpGj4cr62l6vnU7sYaN2AcvYp6RfJyRSUQEZEsYkVFFE+dQrysHK9v+ZXthQWFfHLwJ3l5y8uH39KRMUogIiJZprh0GnUffkjNihUp1T9nyDns2L+DtbtTe4q9vSiBiIhkmeKpU6CwkKoUn0o/a9BZACzdtjTMsI6hBCIikmUKe/cm9o1v0HNaaUr1B/cYzKAegzKeQFp++byIiGRcv7+5JuW6ZsbE2ERe2/oa7o6ZhRjZRzQCERHJQu5O9bJlVC9NbVQxMTaRnft3sqlqU8iRfUQJREQkC5kZW7/1LXb87Gcp1Z8Ymwhk9jqIEoiISJbqWTqN6sVLqNu7t8W6o3qNol/XfkogIiICxdNKobaW+EsvtVjXzBjbfyxvffhWBiILKIGIiGSpbuPHU9i/f8qTTJ024DTW71lP9aHqkCMLKIGIiGQpKyykuOQ8qt9YltJT5mP7j6Xe61mza00Goos4gZjZDDN7x8zWmdktjWwvMbM9ZrY88flWqm1FRPLBwJtu4qQnn0zp1tyxA8YCsHrn6rDDAiJ8DsTMCoF7genAZmCxmT3m7g1P4L3k7p9Js62ISE7r1LdvynUHdBtArHuMVR+uCjGij0Q5ApkMrEtMT3sQmA/MzEBbEZGcsufRR9n0petTPo2V9yMQYAjwftL6ZuDsRup9wszeBCqAm9x9dSvaYmazgFkAsViM8vLytIKNx+Npt81V6nPHoD5nv24rVtJr0SIWPfggdUOGNFu3696ubKraxFPPP0WXgi5HysPoc5QJpLETeg3T6zJghLvHzewi4BFgdIptg0L3OcAcgEmTJnlJSUlawZaXl5Nu21ylPncM6nP2OzRmDOvmzePUqjgDWoi7dmMtC8sXMnT80CPXRCCcPkd5CmszMCxpfSjBKOMId9/r7vHE8kKgs5kNSKWtiEi+6DxwIF3HjaOqrOVJpk7qcxJARl7tHmUCWQyMNrNRZlYEXAE8llzBzAZZ4tYDM5tMEO+HqbQVEcknPaeVUvPmCmp37Gi23rCewygqKGJd5brQY4rsFJa715rZV4CngELgAXdfbWazE9vvB/4a+EczqwX2A1d4cBWp0baRdEREJAOKzz+fmnfepX7fPjjuuCbrFRYUckKfE1i3J48TCBw5LbWwQdn9Scs/Axp9k1hjbUVE8lXXk09m6I9/lFLdk/qcxOIPFocckZ5EFxHJKQfff5/6mppm65zU5yS2VW9j78GWX8LYFkogIiI5onrpUv4y/VPse+WVZuuN7D0SgE17w50bRAlERCRHdBs3joLiYqqeb/5urOE9hwPwftX7zdZrKyUQEZEcYUVFFE+dQrz8Bby+vsl6Q3sOBTQCERGRJMWl06jbuZOalSubrNOtUzcGdhsY+vS2SiAiIjmkeOoUKCykqoU5Qob1Gsbmqs2hxhLpbbwiItI6hb17M+z+n9P1tNOarTe853Be2tLyTIZtoQQiIpJjiqdMabHOsJ7D2Ll/J9WHquneuXsocegUlohIjvH6enb99r/Y+8wzTdY5fCF9S3xLaHEogYiI5BgrKKBywX9TOe/BJuvEuscA2F69PbQ4lEBERHJQz9JpVC9eTN2ePY1uj/UIEsi26m2hxaAEIiKSg4qnlUJdHfGXFjW6fWC3gQBs26cEIiIiSbqNH09h//7Em3gqvXNhZ/p37a8RiIiIHM0KC+k5bVrwevcmxHrEQk0guo1XRCRHDbr9O1hB0+OAgd0H6i4sERE51uHk4bW1jW6PdY/xwb4PQjt+pAnEzGaY2Ttmts7Mbmlk+1VmtiLxecXMTk/atsHMVprZcjNbktnIRUSyw/af/IT1n/kswWStRxvQbQBVB6s4VHcolGNHlkDMrBC4F7gQGANcaWZjGlR7DzjP3ccD3wPmNNhe6u4T3H1S6AGLiGShzoOO5+CGDRxYu/aYbf269gOg8kBlKMeOcgQyGVjn7uvd/SAwH5iZXMHdX3H3wz1/FRia4RhFRLJacUkJAPFGXq7Yp0sfACprwkkgUV5EHwIkz3ayGTi7mfp/D/wpad2Bp83MgV+4e8PRCQBmNguYBRCLxSgvL08r2Hg8nnbbXKU+dwzqc+7rN2IEWx59hFUfO+Wo8o01GwEof62cIXVD2r3PUSYQa6Ts2JN4gJmVEiSQc5OKz3H3CjMbCDxjZm+7+4vH7DBILHMAJk2a5CWJbN1a5eXlpNs2V6nPHYP6nPt2rlnDjnt+yrljx9LpuOOOlA+tHMo9j93D8I8Np9vGbu3e5ygTyGZgWNL6UKCiYSUzGw/8CrjQ3T88XO7uFYnv7Wb2MMEpsWMSiIhIvuv56RnQqVPwSdK3a18AdtXsYghD2v24UV4DWQyMNrNRZlYEXAE8llzBzIYDDwHXuPu7SeU9zKzn4WXgU8CqjEUuIpJFupwwigHXX0+nvn2PKu/dpTcAuw/sDuW4kY1A3L3WzL4CPAUUAg+4+2ozm53Yfj/wLaA/cJ+ZAdQm7riKAQ8nyjoBD7r7kxF0Q0QkK9TF97Fv0UsUn3ceBd26AdCpoBO9u/TOy4vouPtCYGGDsvuTlr8EfKmRduuB0xuWi4h0VDUr3mTLP3+doffdR89ppUfKexX1oupgVSjH1JPoIiJ5oPukSRQUFxMvO/rlij0692Dfoabfl9UWSiAiInnAiooonjqFqrJyvL7+SLkSiIiItKi4tJS6nTupWbnyo7LOxUogIiLSvOIpU6CwkH2vvX6krHvn7qElEL3OXUQkTxT26cOJTz1F5yGDj5QVdy4mfigeyvGUQERE8kjR0KMfGCzuXEz1oepQjqVTWCIieaT+4EEqvvENdv/hD0BwCqumroY6r2v3YymBiIjkkYKiIvavXs2eJ/4IQLdOwUOFh7z95wRJKYGYWb9GPp3bPRoREWmznqXTqF6yhLq9e+lcEPxU13rjsxa2RaojkGXADuBdYG1i+T0zW2ZmE9s9KhERSVvxtFKorSX+0ksUFRYB0SaQJ4GL3H2Au/cnmEVwAXADcF+7RyUiImnrNn48hf37E3++LCtGIJPc/anDK+7+NDDV3V8FurR7VCIikjYrLKTP5Z+naMTwj0YgtH8CSfU23l1m9g2CaWcBvgBUJuY1r2+6mYiIRGHg174GQNHG54BoRyBfJJjw6RHgUWB4oqwQuLzdoxIRkTbzujq67NgDhJNAUhqBuPtO4KtNbF7XfuGIiEh7qfjXm+nzxutwrUeXQMzsOOBmYCzQ9XC5u09r94hERKRddD/7bPYuXMiwnYXUxaJ7kHAe8DYwCrgd2EAwJW2bmNkMM3vHzNaZ2S2NbDczuyexfYWZnZlq23Zx111QVnZ0WVlZUJ6nBg0Cs+BTWlpyZHnQoKgjE8kf81bOY+SPR1JwewEjfzySeSvnhXKc4l//CoBfdfsHRncdHRT+8Idw0UXtsv9UE0h/d/81cMjdX3D364CPt+XAiQvw9xLcEjwGuNLMxjSodiEwOvGZBfy8FW3b7qyz4PLLP0oiZWXB+llntfuhssW2ba0rF5HWmbdyHrMen8XGPRtxnI17NjLr8VmhJJHOM2bQtWY/B/77DxRYQZA8broJLrigXfaf6l1Yh5+B32pmfwVUEFxUb4vJwLrE9LSY2XxgJvBWUp2ZwG/d3YFXzayPmR0PjEyhbduVlsKCBey75DK2TJrB3tf/xI+v/x6r3+0K7/65XQ+VPT4RdQAiee2252475uWG1Yeque2527hq3FXte7Abb6TnsmXsWLKUcV/9KqxeDXffDTfe2C67TzWBfN/MegP/AvwU6AV8vY3HHgK8n7S+GTg7hTpDUmwLgJnNIhi9EIvFKC8vb12UZlSdcyFX/elB5k27kpdjJ8Lu3a3bR55o9Z9dDorH4x2in8nU58zatGdTk+VhxFRw6aWcsnw5/VatYve4cSw/80xop+OkehfWE4nFPUBpc3VbwRo7VIp1UmkbFLrPAeYATJo0yUtKSloRIsFpq8VPs+Gaa7jqT3/iqv9zfTAyyVPNXU1q9Z9dDiovL+8Q/UymPmfW8OXD2bhn47HlvYeHE9MPfwhvvcXucePos2oVJcuWZXYEYmajCG7jHZncxt0vbsOxNwPDktaHEpwaS6VOUQpt2+7wNY8FC9hgxsi/+7sj6/mcREQkPHecfwezHp911Gms7p27c8f5d7T/wQ5f87j7bpafeWaQPG66KdjWDkkk1YvojxDcefVT4P8lfdpiMTDazEaZWRFwBfBYgzqPAX+TuBvr48Aed9+aYtu2W7z46GSRuCbC4jbfgJa1YrHWlYtI61w17irmfHYOI3qPwDBG9B7BnM/Oaf/rHwDPPgvfvRXGfki36oogadx9d1DeDlK9BlLj7ve0yxET3L3WzL4CPEXwRPsD7r7azGYntt8PLAQuInhYsRr4u+batmd8ANx887FlpaV5Pfr44IOPljviqQ2RTLhq3FXhJIyGFi6E916EuZ+ly+nfD8puvDHjF9F/YmbfBp4GDhwudPdlbTm4uy8kSBLJZfcnLTvw5VTbiohIA3UHAagvaP8pnFJNIOOAa4BpfPTyRE+si4hItqo9nEBS/blPXap7vBQ4wd0PtnsEIiISnrrgpJGHMIlsqhfR3wT6tPvRRUQkXHXBc+BRnsKKAW+b2WKOvgbSltt4RUQkbLXBT3aUCeTb7X5kEREJ35FTWBFdA3H3F9r9yCIiEr6oTmGZ2SJ3P9fMqjj6VSFGcJdtr3aPSERE2k9tDRBBAnH3cxPfPdv9yCIiEr6D+8AKqC8oavddp3oXloiI5KIDVVDUM5gZrp0pgYiI5LMDVdAlnJNISiAiIvnsQBV0KQ5l10ogIiL5TCMQERFJy4EqKNIIREREWutgXCMQERFJQ81eJRAREWkld9i/C7r1DWX3kSQQM+tnZs+Y2drE9zG9M7NhZlZmZmvMbLWZfS1p23fMbIuZLU98LspsD0REcsDBfcGT6D0GhLL7qEYgtwDPufto4LnEekO1wL+4+6nAx4Evm9mYpO0/cvcJiY9mJhQRaaj6w+C7e34lkJnA3MTyXOCShhXcfevhKXPdvQpYAwzJVIAiIjmvemfw3b1/KLu3YNrxzDKz3e7eJ2m90t2bPElnZiOBF4HT3H2vmX0H+FtgL7CEYKRS2UTbWcAsgFgsNnH+/PlpxRyPxykuDudWuGylPncM6nP+6vfhUsav/C7Lzvi/VBQOTbvPpaWlS9190jEb3D2UD/AssKqRz0xgd4O6lc3spxhYCnwuqSwGFBKMoO4AHkglpokTJ3q6ysrK0m6bq9TnjkF9zmNvPOj+7V7uO9e1qc/AEm/kN7X9Zxj5KDFd0NQ2M9tmZse7+1YzOx7Y3kS9zsD/AvPc/aGkfW9LqvNL4In2i1xEJE8cuQbSH3i/3Xcf1TWQx4BrE8vXAo82rGBmBvwaWOPuP2yw7fik1UsJRjYiIpJs3w4o6ARde4ey+6gSyJ3AdDNbC0xPrGNmg83s8B1V5wDXANMauV33LjNbaWYrgFLg6xmOX0Qk+1V9AD2PD+VV7pD6nOjtyt0/BM5vpLwCuCixvIhg5sPG2l8TaoAiIvlg7xboNTi03etJdBGRfLW3QglERERayT2RQMJ7fE4JREQkH+2vhNr9GoGIiEgrVW0NvpVARESkVfZWBN86hSUiIq2ye1PwrRGIiIi0SuV7UNgFeiqBiIhIa+x6D/qNgoLwfuaVQERE8tGu96DvqFAPoQQiIpJv3GHXeuh3QqiHUQIREck3VR8Ez4D00whERERaY9f64FsJREREWuVwAtE1EBERaZUdb0OnrtB3ZKiHUQIREck329+CASdDQWGoh1ECERHJN9vfhoFjQj9MJAnEzPqZ2TNmtjbx3beJehsSMw8uN7MlrW0vItLh7K+EqgoYeGroh4pqBHIL8Jy7jwaeS6w3pdTdJ7j7pDTbi4h0HNvfDr7zOIHMBOYmlucCl2S4vYhIftqxJvjOQAIxdw/9IMcc1Gy3u/dJWq9092NOQ5nZe0Al4MAv3H1Oa9onts0CZgHEYrGJ8+fPTyvmeDxOcXFxWm1zlfrcMajP+WX0u/cT21bGonPng9mR8rb0ubS0dGmDs0ABdw/lAzwLrGrkMxPY3aBuZRP7GJz4Hgi8CUxNrKfUvuFn4sSJnq6ysrK02+Yq9bljUJ/zzJxp7g9ceExxW/oMLPFGflM7pZWOUuDuFzS1zcy2mdnx7r7VzI4Htjexj4rE93YzexiYDLwIpNReRKRDqTsEH6yEyddn5HBRXQN5DLg2sXwt8GjDCmbWw8x6Hl4GPkUwgkmpvYhIh7P9Lag7AIPPyMjhokogdwLTzWwtMD2xjpkNNrOFiToxYJGZvQm8DvzR3Z9srr2ISIdW8UbwPeTMjBwutFNYzXH3D4HzGymvAC5KLK8HTm9NexGRDm3LMujaO/R3YB2mJ9FFRPJFxRvB6auku6/CpAQiIpIPDlTBttUw9KyMHVIJREQkH7z/OngdjPhkxg6pBCIikg82vgJWCEMnZ+yQSiAiIvlg4ysweAJ0ydwT9kogIiK57lANbFmS0dNXoAQiIpL7tiyFuoMw4pyMHlYJREQk160vAyuA4Z/I6GGVQEREct3aZ4KL5936ZPSwSiAiIrksvgO2LofRTb6/NjRKICIiuewvzwXfJ03P+KGVQEREctnaZ6DHcTBofMYPrQQiIpKr6g4FI5CTLoCCzP+cK4GIiOSqDYtgfyV87DORHF4JREQkV731KHTuASdFM7uFEoiISC6qq4U1j8PJn4bO3SIJIZIEYmb9zOwZM1ub+O7bSJ1TzGx50mevmf1zYtt3zGxL0raLMt4JEZEobXoFqnfC2EsiCyGqEcgtwHPuPhp4LrF+FHd/x90nuPsEYCJQDTycVOVHh7e7+8KG7UVE8trKP0Dn7sEF9IhElUBmAnMTy3OBS1qofz7wF3ffGGZQIiI54WA1rHoIxlwCRT0iC8PcPfMHNdvt7n2S1ivd/ZjTWEnbHwCWufvPEuvfAf4W2AssAf7F3SubaDsLmAUQi8Umzp8/P62Y4/E4xcWZe01yNlCfOwb1OffEPijn1Ld/xBsT7mBPn9NSatOWPpeWli5190nHbHD3UD7As8CqRj4zgd0N6lY2s58iYCcQSyqLAYUEI6g7gAdSiWnixImerrKysrTb5ir1uWNQn3PQb/7K/cfj3evrU27Slj4DS7yR39ROaaWjFLh7kyfmzGybmR3v7lvN7HhgezO7upBg9LEtad9Hls3sl8AT7RGziEjW27UeNrwEpbeBWaShRHUN5DHg2sTytcCjzdS9Evh9ckEi6Rx2KcHIRkQk/702Bwo6wRnXRB1JZAnkTmC6ma0FpifWMbPBZnbkjioz657Y/lCD9neZ2UozWwGUAl/PTNgiIhGq2Qtv/A7Gfg56Hd9y/ZCFdgqrOe7+IcGdVQ3LK4CLktargf6N1Is+9YqIZNobv4ODVfCJG6KOBNCT6CIiuaHuELz282DWwcFnRB0NoAQiIpIb3vgd7N4E594YdSRHKIGIiGS72gPw4t0w9CwYnfmJo5oSyTUQERFphaVzYe9mmPmzyG/dTaYRiIhINqveBeU/gJFT4ISSqKM5ihKIiEg2e/57ULMHZtyZVaMPUAIREcleFW/Akt/A5OthUGrvvMokJRARkWx0aD88PBuKY1Bya9TRNEoX0UVEstGzt8OOt+Hq/4VufaKOplEagYiIZJu3Hg0eGpz8D5FOGNUSJRARkWxSsRwe+ofgmY/p3406mmYpgYiIZIuda+HBL0D3/nDFg9C5a9QRNUvXQEREssG2t+C/LgGvh6sfgeKBUUfUIo1ARESituZx+HXiFSXXPgEDT402nhQpgYiIhGjQoOD5v4afQYOA+I7gVt3/vhqOOwVmlcPAj0Udcsp0CktEJETbtjVT/uNxUF8LU26Cqf+a9dc8GopkBGJmnzez1WZWb2aTmqk3w8zeMbN1ZnZLUnk/M3vGzNYmvvtmJnIRkXY07jK44c9w/jdzLnlAdKewVgGfA15sqoKZFQL3AhcCY4ArzWxMYvMtwHPuPhp4LrEuIpJbZt4LA0ZHHUXaIkkg7r7G3d9podpkYJ27r3f3g8B8YGZi20xgbmJ5LnBJKIGKiEiTsvkayBDg/aT1zcDZieWYu28FcPetZtbk/W5mNguYBRCLxSgvL08rmHg8nnbbXKU+dwzqc9hKmtySyT/3MPocWgIxs2eBQY1sus3dH01lF42UeWvjcPc5wByASZMmeUlJSWt3AQT/odNtm6vU545BfQ5XLNb4hfRYjIz+uYfR59ASiLu39QUum4FhSetDgYrE8jYzOz4x+jge2N7GY4mIhOKDD6KOIDzZ/BzIYmC0mY0ysyLgCuCxxLbHgGsTy9cCqYxoRESkHUV1G++lZrYZ+ATwRzN7KlE+2MwWArh7LfAV4ClgDbDA3VcndnEnMN3M1gLTE+siIpJBkVxEd/eHgYcbKa8ALkpaXwgsbKTeh8D5YcYoIiLNy+ZTWCIiksWUQEREJC3m3uo7Y3OWme0ANqbZfACwsx3DyQXqc8egPncMbenzCHc/rmFhh0ogbWFmS9y9yfd25SP1uWNQnzuGMPqsU1giIpIWJRAREUmLEkjq5kQdQATU545Bfe4Y2r3PugYiIiJp0QhERETSogQiIiJpUQJpQXPT75rZrYnpdt8xs09HFWOYzGyCmb1qZsvNbImZTY46pkwws68m/ruuNrO7oo4nU8zsJjNzMxsQdSxhMrP/MLO3zWyFmT1sZn2ijiksTU0N3h6UQFrW6PS7iel1rwDGAjOA+xLT8Oabu4Db3X0C8K3Eel4zs1KCWS/Hu/tY4O6IQ8oIMxtG8HLSTVHHkgHPAKe5+3jgXeDWiOMJRQtTg7eZEkgLmpl+dyYw390PuPt7wDqCaXjzjQO9Esu9+WhOlnz2j8Cd7n4AwN07ynwzPwJuJo2J23KNuz+deOM3wKsE8w3lo+amBm8zJZD0NTbl7pCIYgnTPwP/YWbvE/xLPC//pdbAycAUM3vNzF4ws7OiDihsZnYxsMXd34w6lghcB/wp6iBCEurvVDbPiZ4xaU6/2y5T7maD5vpP8Nr8r7v7/5rZ5cCvgbbONhm5FvrcCegLfBw4C1hgZid4jt/z3kKf/w34VGYjClcqf6/N7DagFpiXydgyKNTfKSUQ0p5+t7kpd3NKc/03s98CX0us/g/wq4wEFbIW+vyPwEOJhPG6mdUTvIhuR6biC0NTfTazccAo4E0zg+D/5WVmNtndc3ZC1pb+XpvZtcBngPNz/R8HzQj1d0qnsNL3GHCFmXUxs1HAaOD1iGMKQwVwXmJ5GrA2wlgy5RGCvmJmJwNF5PGbW919pbsPdPeR7j6S4EfnzFxOHi0xsxnAN4CL3b066nhC1NzU4G2mEUgLzOxS4KfAcQTT7y5390+7+2ozWwC8RTAE/rK710UZa0iuB35iZp2AGmBWxPFkwgPAA2a2CjgIXJvH/0LtqH4GdAGeSYy6XnX32dGG1P7cvdbMDk8NXgg8kDQ1eJvpVSYiIpIWncISEZG0KIGIiEhalEBERCQtSiAiIpIWJRAREUmLEohIDjCzDfn+hlzJPUogIhlmAf3dk5yn/4lFMsDMRprZGjO7D1gGfNPMFifmo7g9qd4jZrY0MQ9JR3hoU3KYEohI5pwC/JbgFRpDCF61PQGYaGZTE3Wuc/eJwCTgn8ysfxSBiqRCCUQkcza6+6sEb739FPAGwWjkYwTvUoMgabxJMEfFsKRykayjd2GJZM6+xLcBP3D3XyRvNLMSglflf8Ldq82sHOiayQBFWkMjEJHMewq4zsyKAcxsiJkNJJjxsTKRPD5GMB+JSNbSCEQkw9z9aTM7Ffhz4k2wceBq4ElgtpmtAN4hOI0lkrX0Nl4REUmLTmGJiEhalEBERCQtSiAiIpIWJRAREUmLEoiIiKRFCURERNKiBCIiImn5/8nVyZqx/p2uAAAAAElFTkSuQmCC\n",
      "text/plain": [
       "<Figure size 432x288 with 1 Axes>"
      ]
     },
     "metadata": {
      "needs_background": "light"
     },
     "output_type": "display_data"
    },
    {
     "data": {
      "image/png": "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\n",
      "text/plain": [
       "<Figure size 432x288 with 1 Axes>"
      ]
     },
     "metadata": {
      "needs_background": "light"
     },
     "output_type": "display_data"
    },
    {
     "data": {
      "image/png": "iVBORw0KGgoAAAANSUhEUgAAAX4AAAEWCAYAAABhffzLAAAAOXRFWHRTb2Z0d2FyZQBNYXRwbG90bGliIHZlcnNpb24zLjMuMiwgaHR0cHM6Ly9tYXRwbG90bGliLm9yZy8vihELAAAACXBIWXMAAAsTAAALEwEAmpwYAAAbvElEQVR4nO3deZxdZZ3n8c83VZVaklQSkgqQBAigoBERMQiKuK8t7iuDGw1Na7cz2jM9rXZPj/a82h5sHafbVys9mRZhXiK2gra0C4tLXOgWqCBLQtgNEAikkCy137pVv/njnkoqldSSyj331K3n+3698qq6p849z3Nykm+e/O5zzqOIwMzM0jGv6A6YmVltOfjNzBLj4DczS4yD38wsMQ5+M7PEOPjNzBLj4DczS4yD3+wQSApJz5itxzObDge/mVliHPyWJEnPlrRB0i5JmyW9Odu+QdJFY/b7kKRfZd//Itt8h6QeSe+R9HJJ2yT9uaSnJG2VdP6Y9x/S8fI+bzOAxqI7YFZrkpqAfwUuA14LvAT4nqR1k70vIl4qKYDnRcQD2bFeDhwFLAdWAWcBP5TUGRH3HurxzGrBI35L0VnAQuCSiChFxE+B7wPnHcYx/zIiBiPi58APgHdXoZ9muXDwW4pWAo9GxMiYbQ9TGbHPxM6I6B13rJUz7ZxZ3hz8lqLHgWMkjf3zfyzwGNALtI3ZftQ0jrdU0oJxx3o8+34mxzPLlYPfUnQzlUD+M0lNWZ3+TcA3gduBt0tqy6ZZXjjuvU8CJxzkmH8lab6kc4BzgW9n22d6PLPcOPgtORFRAt4MvAF4CvgK8IGIuAf430CJSiBfAVw57u2fAa7IZgON1vGfAHZSGeVfCXw4OxYzPJ5ZruSFWMxmLvvfwtcjYnXBXTGbNo/4zcwS4+A3M0uMSz1mZonxiN/MLDF18ciG5cuXx5o1a4ruhplZXdm4ceNTEdExfntdBP+aNWvo7OwsuhtmZnVF0sMH2+5Sj5lZYhz8ZmaJcfCbmSXGwW9mlhgHv5lZYhz8ZmaJcfCbmSXGwT+Jux/fw6UbHuSmB54quitmZlVTFzdwFeGGzU/wR1feRnmk8iyjC85ew38/dy2SCu6Zmdnh8Yj/IHb1lfjTb9/B2pXt/PpTr+JDL17D127aytdu2lp018zMDpuD/yAuu2kr3YNl/vadp3LU4hY+/aa1vPrZK/jcdfew9aneqQ9gZjaLOfjHGR4JvnXro7z0mR0866h2ACTx2bc9l8Z54nPX3TPFEczMZjcH/zgbH97JE3sGeMcL9l9J78j2Fi465wR+tOkJ7ty2q5jOmZlVgYN/nF/e30XDPPGykw54kikXnXM8S9qa+NJP7i+gZ2Zm1ZFb8Eu6TNIOSZvGbPu8pHsk3Snpu5KW5NX+TP3ivi5OO2YJi1ubDvjZopYmPvCiNfx4yw4e6uopoHdmZocvzxH/5cDrx227ETglIk4F7gM+lWP7h2x33xB3Prabc565fMJ93n/WccxvmMdlN/22hj0zM6ue3II/In4BPD1u2w0RUc5e/hpYfcAbC3TXY7uJgHXHHTHhPh2Lmnnr81dy9cZt7Oor1bB3ZmbVUWSN//eBH030Q0kXS+qU1NnV1VWTDt352C4Anrtq8aT7XXD28QwMjXD1xm016JWZWXUVEvyS/gIoA1dOtE9ErI+IdRGxrqPjwA9a83DXtt0ct6yNxW0H1vfHevbR7Zx+7BK+ccsjRERN+mZmVi01D35JHwTOBc6PWZaadz22m1OmGO2POv/M43ioq5dfP/T01Dubmc0iNQ1+Sa8HPgG8OSL6atn2VPYMDLFtZz/PWdk+rf3feOrRLG5t4sqbD7qWsZnZrJXndM6rgH8HTpa0TdKFwD8Ai4AbJd0u6R/zav9QPdRVeRTDMzoWTmv/lqYG3nH6aq7f/ARP9Qzm2TUzs6rKc1bPeRFxdEQ0RcTqiPhqRDwjIo6JiNOyXx/Oq/1DNTov/4RpBj/AfzjzGIaGg293+kNeM6sfvnM382BXD43zxHHL2qb9nmesWMSZxx/BVbc8wsjIrPq4wsxsQg7+zENdvRx7RBtNDYf2W3L+WcfxyNN9/NKLtZhZnXDwZx7s6jmkMs+o1z3nSJYtmM/Xf+0Pec2sPjj4gYjg4d/1cfzy6Zd5RjU3NvDeFx7DT7Y8yaNPz6qJSmZmB+XgB57qKTFYHmH10kMPfqjM6ZfE1z2108zqgIMfeGxXPwCrlrTO6P0rl7Ty2rVH8s+3PsrA0HA1u2ZmVnUOfmDbzkqJZtXSmQU/wAdetIZdfUNce8fj1eqWmVkuHPzAYzuzEf9hBP9ZJxzBSUcu5Ip/2+rn95jZrObgB7bt7Ke9pZH2lskfzjYZSXzgRWvY/Pgebt26s4q9MzOrLgc/lRr/qhl+sDvWO05fzREL5vOVDQ9UoVdmZvlw8FMp9cz0g92xWuc3cOFLjmfDvV1semx3FXpmZlZ9Dn5gR/cARy1ursqx3nfWcSxqbvSo38xmreSDv1QeYWffEB0LW6pyvMWtTXzgxcfxo01P8MCO7qoc08ysmpIP/q7skcor2qsz4gf4/bOPp62pgc9ff2/VjmlmVi0O/u4s+BdVL/iXLWzmwy87kes3P8ktv/UKXWY2uyQf/Dv2DADQUcXgB7jonBM4qr2Fz/7gbj+y2cxmleSDf2+pZ1F1avyjWuc38F9fdzJ3bNvNP3c+WtVjm5kdjuSDf8eeQSRYvnB+1Y/99tNX8aITlvE3P9jCE7sHqn58M7OZcPB3D7JswXwaD3EBlumQxCXveC5DIyN84po7XfIxs1kh+eDv6h5k+cLq1vfHOm7ZAv7bG9fy8/u6+PLPPLffzIrn4O8eYEV7dev7451/5rG89bSVfPHH93HD5idybcvMbCrJB/+O7sGqTuU8GEn8zdufy6mrl/DRq37Dvz3o9XnNrDi5Bb+kyyTtkLRpzLYjJN0o6f7s69K82p+OkZHgqZ7Bqk/lPJi2+Y1c/qEzWLOsjQu+divXbdqee5tmZgeT54j/cuD147Z9EvhJRDwT+En2ujB7BoYYGo5ca/xjLV0wn6v+4CzWrmznI1fexueuu4fBslfsMrPaaszrwBHxC0lrxm1+C/Dy7PsrgA3AJ/Lqw1Se7i0BsGxB9adyTmTZwmau+oOz+My1m7l0w4PcsPkJ/vS1J/O65xzFvHnKpc1SeYTd/UPs7h9iYGiYgaFhBssj2fcjDJaHKQ8HQTASMBKVr8S411OYqveaZIep3zv5Hodz7MnefDjnVHn/JMee8r35tDvVwfP5U2gzdc4zOzhqcXU/h8wt+CdwZERsB4iI7ZJWTLSjpIuBiwGOPfbYXDqzs28IgCVtM1+AZSZamhq45B2n8rrnHMVf/+BuPnLlbaxc3MJbnr+Ks09czvOOWcyiSRaFiQh29Q2xo3uQru5BdnQPZF8rr5/qGWRXXyXod/WV6C35fxVm9eryC86o++CftohYD6wHWLduXS4T4HdmI/6lbbUb8Y/1imet4KUndfCjTdu5euM2/s/PH+TSDQ8Clad8HtneTHNjA40NolQeoWewTO9gmd39lRLVeK1NDaxob2b5wmZWLmnh2Ue3s6StiSWtTSxpa6K9tYnWpgaamxpoaZxHS1MDLU0NNDfOo7FBzNPoL0Ds91po8qHgFFcoJtlhqpUqp7r4ky11OfV7J2v38Do22Y+nPueCfr98q8msk8dnkLUO/iclHZ2N9o8GdtS4/f3s7KsE/xE1LPWM1zBPnHvqSs49dSV7Bob4zSO72Pz4brbvGuDJPQMMDY9QHgnmt81jYUsjC5orS0SuWNTMivZmOhY207GomRXtLSyY3zBlScTMrNbBfy3wQeCS7Ov3atz+fnYVVOqZSHtLEy87qYOXndRRdFfMbA7LczrnVcC/AydL2ibpQiqB/xpJ9wOvyV4X5um+Ek0NYmHzrK14mZlVXZ6zes6b4EevyqvNQ7Wrr8SStvkuj5hZUpK+c/fp3hJLZ0mZx8ysVpIO/p19Q4XN6DEzK0rawd9bcvCbWXLSDv6+IZYWOJXTzKwIyQZ/5e5X1/jNLD3JBn/3YJnySLjUY2bJSTb4d/VWbt5yqcfMUpNs8D/dN/qcHpd6zCwtyQb/riz4Z8vjGszMaiXZ4N8zUAYqT8E0M0tJusHfX6nxt0/y3Hszs7ko3eAfqAT/ZAuemJnNRckGf/dAmaYG0dKU7G+BmSUq2dTb0z9Ee0uTn8xpZslJN/gHyixq8XP4zSw9yQZ/98AQ7Z7RY2YJSjb4R0s9ZmapSTf4Xeoxs0QlG/zdAx7xm1makg3+Pf1l2ls94jez9CQZ/EPDI/QPDfvmLTNLUpLB3509p6fdNX4zS1CSwb/3OT2ezmlmCSok+CX9iaTNkjZJukpSSy3b93N6zCxlNQ9+SauA/wSsi4hTgAbgvbXsg0s9Zpayoko9jUCrpEagDXi8lo271GNmKat58EfEY8AXgEeA7cDuiLhh/H6SLpbUKamzq6urqn3YV+rxiN/M0lNEqWcp8BbgeGAlsEDS+8bvFxHrI2JdRKzr6Oioah/29GelHo/4zSxBRZR6Xg38NiK6ImII+A7w4lp2oDsb8S+c7xG/maWniOB/BDhLUpsqD8N/FbCllh3oGRxmwfwG5s3zs/jNLD1F1PhvBq4GbgPuyvqwvpZ96B0ss6DZo30zS1Mh6RcRnwY+XUTbAD2lMgsd/GaWqCTv3PWI38xSlnDwNxTdDTOzQiQZ/D2Dwy71mFmypkw/SXcBMW7zbqAT+OuI+F0eHcuTSz1mlrLppN+PgGHgG9nr0efq7AEuB95U/W7ly8FvZimbTvqdHRFnj3l9l6SbIuLsg91xWw+6B8sscvCbWaKmU+NfKOnM0ReSXggszF6Wc+lVjoaGRyiVRzziN7NkTSf9LgIukzQa9t3ARZIWAP8zt57lpHew8m+Vg9/MUjVl+kXErcBzJS0GFBG7xvz4W3l1LC89WfAv9HROM0vUlKUeSUdK+irwzYjYJWmtpAtr0Ldc9A4OAx7xm1m6plPjvxy4nsojlAHuAz6eU39y1+NSj5klbjrBvzwivgWMAEREmcr0zrrUu7fU4+A3szRNJ/h7JS0ju4lL0llUbuCqS3s/3PWz+M0sUdNJv/8MXAucKOkmoAN4Z669ylGPR/xmlrjpzOq5TdLLgJMBAfdmK2fVpX3TOT2rx8zSNGHwS3r7BD86SRIR8Z2c+pSr3pJn9ZhZ2iZLv9Fn8KygsibuT7PXrwA2UFkrt+70DJZpahDNjUk+mNTMbOLgj4gLACR9H1gbEduz10cDX65N96qvZ6DygLbKcr9mZumZzrB3zWjoZ54ETsqpP7nrHSx7Ro+ZJW06CbhB0vXAVVSmdL4X+FmuvcpRz6DX2zWztE1nVs9HJb0NeGm2aX1EfDffbuWnrzRMm2f0mFnCpjX0zYK+bsN+rL5Smbb5Dn4zS1chU1skLZF0taR7JG2R9KJatd0/NEJrk0s9ZpauohLw74HrIuKdkuYDbbVquN8jfjNLXM2DX1I7lc8LPgQQESWgVKv2+0rDtDY5+M0sXYdc6pF0haRLJZ0ywzZPALqAr0n6jaR/ylbzGt/OxZI6JXV2dXXNsKkD9ZeGafWI38wSNpMa/z8APwbeP8M2G4HTgUsj4vlAL/DJ8TtFxPqIWBcR6zo6OmbY1AHHpG9o2KUeM0vaIZd6sqUYbwWumWGb24BtEXFz9vpqDhL8eRgaDoZHwsFvZkmb7CFt/0r2DP6DiYg3z6TBiHhC0qOSTo6Ie4FXAXfP5FiHqj97QFur79w1s4RNloBfyLHd/whcmc3oeQi4IMe29uobqjyS2SN+M0vZZA9p+3lejUbE7cC6vI4/kb7REb9n9ZhZwiYr9dzFwUs9AiIiTs2tVznZV+px8JtZuiYr9Zxbs17UyOiI36UeM0vZZKWeh0e/l3QkcEb28paI2JF3x/LQP+TgNzObch6/pHcDtwDvAt4N3CypLhdb7y9VPtz1s3rMLGXTScC/AM4YHeVL6qByA9fVeXYsD32u8ZuZTevO3XnjSju/m+b7Zh3X+M3Mpjfiv27MClwA7wF+mF+X8uNZPWZmUwS/KiuSf4nKB7svoTKVs25X4No74vc8fjNL2KTBHxEh6V8i4gXAd2rUp9z0Dw0zv2EejQ11WakyM6uK6STgryWdMfVus19/qewyj5klbzo1/lcAfyjpYSqPUK7bO3e9CIuZ2fSC/w2596JG/Cx+M7NpBP/YO3jrnVffMjOr0/n4M9Vf8ojfzCyp4O8bGvYiLGaWvKSCv79U9hx+M0teUsHf5xq/mVlawe8Pd83MEgv+vtKwSz1mlrxkgj8i6Pc8fjOzdIJ/YGgEwLN6zCx5yQR/397Vt5I5ZTOzg0omBfctwuIRv5mlrbDgl9Qg6TeSvl+L9kYXWvesHjNLXZEj/o8BW2rVmJddNDOrKCT4Ja0G3gj8U63a9LKLZmYVRY34/w74M2Bkoh0kXSypU1JnV1fXYTfYP1T5cNc1fjNLXc2DX9K5wI6I2DjZfhGxPiLWRcS6jo6Ow253tNTjhVjMLHVFjPjPBt4saSvwTeCVkr6ed6Ou8ZuZVdQ8+CPiUxGxOiLWAO8FfhoR78u7Xdf4zcwqkpnHPzqd0yN+M0tdoZ90RsQGYEMt2hot9bQ0OvjNLG3pjPhLZVqbGpg3T0V3xcysUMkEvxdhMTOrSCb4+0vDnsppZkZCwd9X8rP4zcwgoeD3IixmZhXpBL9r/GZmQELB3zdUdo3fzIyUgr807Ae0mZmRUPC71GNmVpFM8HtWj5lZRTLB3z/kEb+ZGSQS/MMjQak8QluTa/xmZkkEf1+psvpW6/wkTtfMbFJJJOG+Z/F7xG9mlkTw7119y/P4zczSCH4vwmJmtk8Swd/nZRfNzPZKIvj79y607hq/mVkSwb93Vo9r/GZmaQT/aI3fpR4zs0SCf++sHge/mVkawd/v4Dcz26vmwS/pGEk/k7RF0mZJH8u7TZd6zMz2KWKaSxn4LxFxm6RFwEZJN0bE3Xk12DtYpmGemN+QxH9wzMwmVfMkjIjtEXFb9n03sAVYlWebo49klpRnM2ZmdaHQIbCkNcDzgZsP8rOLJXVK6uzq6jqsdvpKZdf3zcwyhQW/pIXANcDHI2LP+J9HxPqIWBcR6zo6Og6rrb7SMAt885aZGVBQ8EtqohL6V0bEd/Juz8sumpntU8SsHgFfBbZExBdr0WavSz1mZnsVMeI/G3g/8EpJt2e/fi/PBvtLw35Oj5lZpuZpGBG/Amo6vaa3NMzKJR7xm5lBQnfuesRvZlaRRPB7OqeZ2T5JBH9vdgOXmZklEPzl4RFK5RGXeszMMnM++Pu83q6Z2X7mfPDvfSRzs4PfzAwSCH4vwmJmtr85H/y9g6Pr7brGb2YGCQT/6CIsC1zqMTMDEgj+0RG/Sz1mZhVzPvj3rbfrUo+ZGSQQ/L3+cNfMbD9zPvi7B4YAWNTSVHBPzMxmhwSCv1LjX9TiUo+ZGSQQ/Hv6h2htaqCpYc6fqpnZtMz5NOweKHu0b2Y2xtwP/sEh2ltd3zczGzX3g98jfjOz/cz54N/TP0S7Z/SYme0154PfI34zs/3N+eDfM1B2jd/MbIw5HfwRwZ6BIY/4zczGmNPBv2egTKk8QsfC5qK7YmY2axQS/JJeL+leSQ9I+mRe7XR1DwDQscjBb2Y2qubBL6kB+DLwBmAtcJ6ktXm09fiuSvCvWNSSx+HNzOpSESP+FwIPRMRDEVECvgm8JY+GNj68k3mCtUe353F4M7O6VETwrwIeHfN6W7ZtP5IultQpqbOrq2tGDa1c0sK7XnAMi9s8q8fMbFQRwa+DbIsDNkSsj4h1EbGuo6NjRg2954xj+dw7T53Re83M5qoign8bcMyY16uBxwvoh5lZkooI/luBZ0o6XtJ84L3AtQX0w8wsSTW/sykiypI+ClwPNACXRcTmWvfDzCxVhdzSGhE/BH5YRNtmZqmb03fumpnZgRz8ZmaJcfCbmSXGwW9mlhhFHHDv1KwjqQt4eIZvXw48VcXuFMnnMvvMlfMAn8tsdTjnclxEHHAHbF0E/+GQ1BkR64ruRzX4XGafuXIe4HOZrfI4F5d6zMwS4+A3M0tMCsG/vugOVJHPZfaZK+cBPpfZqurnMudr/GZmtr8URvxmZjaGg9/MLDFzOvhrtah7LUjaKukuSbdL6iy6P9Ml6TJJOyRtGrPtCEk3Sro/+7q0yD5O1wTn8hlJj2XX5XZJv1dkH6dD0jGSfiZpi6TNkj6Wba+76zLJudTjdWmRdIukO7Jz+atse9Wvy5yt8WeLut8HvIbK4i+3AudFxN2FdmyGJG0F1kVEXd2UIumlQA/w/yLilGzb3wJPR8Ql2T/ISyPiE0X2czomOJfPAD0R8YUi+3YoJB0NHB0Rt0laBGwE3gp8iDq7LpOcy7upv+siYEFE9EhqAn4FfAx4O1W+LnN5xF+zRd1tYhHxC+DpcZvfAlyRfX8Flb+os94E51J3ImJ7RNyWfd8NbKGy7nXdXZdJzqXuREVP9rIp+xXkcF3mcvBPa1H3OhLADZI2Srq46M4cpiMjYjtU/uICKwruz+H6qKQ7s1LQrC+PjCVpDfB84Gbq/LqMOxeow+siqUHS7cAO4MaIyOW6zOXgn9ai7nXk7Ig4HXgD8MdZ2cGKdylwInAasB34X4X25hBIWghcA3w8IvYU3Z/DcZBzqcvrEhHDEXEalbXIXyjplDzamcvBP6cWdY+Ix7OvO4DvUill1asns9rsaI12R8H9mbGIeDL7yzoC/F/q5LpkNeRrgCsj4jvZ5rq8Lgc7l3q9LqMiYhewAXg9OVyXuRz8c2ZRd0kLsg+ukLQAeC2wafJ3zWrXAh/Mvv8g8L0C+3JYRv9CZt5GHVyX7EPErwJbIuKLY35Ud9dlonOp0+vSIWlJ9n0r8GrgHnK4LnN2Vg9ANoXr79i3qPtni+3RzEg6gcooHyrrJH+jXs5F0lXAy6k8WvZJ4NPAvwDfAo4FHgHeFRGz/kPTCc7l5VTKCQFsBf5wtB47W0l6CfBL4C5gJNv851Rq43V1XSY5l/Oov+tyKpUPbxuoDMq/FRH/Q9Iyqnxd5nTwm5nZgeZyqcfMzA7CwW9mlhgHv5lZYhz8ZmaJcfCbmSXGwW+WkbRE0h8V3Q+zvDn4zfZZAjj4bc5z8JvtcwlwYvb89s9PtFP2IK3LJW3K1kj4k2z7iZKuyx6k90tJz8q2Hynpu9lz1u+Q9OIanY/ZQTUW3QGzWeSTwCnZQ7Imcxqwaswz+Zdk29cDH46I+yWdCXwFeCXwJeDnEfG2bJ2IhTn03WzafOeuWSZ7rO/3RwN9kv2WAp3AD4EfADcAbUAXcO+YXZsj4tmSuoDVETGYS8fNDpFH/GaHKCJ2Snoe8Drgj6ms9vRxYNc0/rdgVjjX+M326QYWjd0g6Z7xO0laDsyLiGuAvwROz54B/1tJ78r2UfaPA8BPgI9k2xskted4DmZTcvCbZSLid8BN2Ye2n88C/mAL+qwCNmQrJV0OfCrbfj5woaQ7gM3sW+rzY8ArJN1FZU3Y5+R3FmZTc43fbAKSzgVOiIgvFd0Xs2py8JuZJcalHjOzxDj4zcwS4+A3M0uMg9/MLDEOfjOzxDj4zcwS8/8BAVovQknCLAMAAAAASUVORK5CYII=\n",
      "text/plain": [
       "<Figure size 432x288 with 1 Axes>"
      ]
     },
     "metadata": {
      "needs_background": "light"
     },
     "output_type": "display_data"
    },
    {
     "data": {
      "image/png": "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\n",
      "text/plain": [
       "<Figure size 432x288 with 1 Axes>"
      ]
     },
     "metadata": {
      "needs_background": "light"
     },
     "output_type": "display_data"
    },
    {
     "data": {
      "image/png": "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\n",
      "text/plain": [
       "<Figure size 432x288 with 1 Axes>"
      ]
     },
     "metadata": {
      "needs_background": "light"
     },
     "output_type": "display_data"
    },
    {
     "data": {
      "image/png": "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\n",
      "text/plain": [
       "<Figure size 1080x504 with 4 Axes>"
      ]
     },
     "metadata": {
      "needs_background": "light"
     },
     "output_type": "display_data"
    }
   ],
   "source": [
    "# PD gains to lead-lag gains \n",
    "Kp = 0.0205\n",
    "Kd = 0.0215\n",
    "N = 10\n",
    "\n",
    "c1 = N*Kd + Kp\n",
    "c2 = N*Kp\n",
    "c3 = 1\n",
    "c4 = N\n",
    "\n",
    "H_aileron_to_roll = (c1 * s + c2) / (c3 * s + c4)\n",
    "\n",
    "plt.figure()\n",
    "rootlocus(G_aileron_to_roll*H_aileron_to_roll)\n",
    "plt.plot([0, -1], [0, 1], '--')\n",
    "\n",
    "plt.figure()\n",
    "rootlocus(G_aileron_to_roll*H_aileron_to_roll)\n",
    "plt.xlim([-1.5, 0])\n",
    "plt.plot([0, -1], [0, 1], '--')\n",
    "\n",
    "Gc_aileron_to_roll  = G_aileron_to_roll*H_aileron_to_roll/(1 + G_aileron_to_roll*H_aileron_to_roll)\n",
    "\n",
    "\n",
    "plt.figure()\n",
    "step_size = 10\n",
    "t, y = control.step_response(step_size*Gc_aileron_to_roll, T=np.linspace(0, 30, 1000))\n",
    "plt.plot(t, y)\n",
    "plt.xlabel('t, sec')\n",
    "plt.ylabel('roll, deg')\n",
    "plt.title('output')\n",
    "\n",
    "plt.figure()\n",
    "# actual error was computed in radians, so, converting back here\n",
    "e = np.deg2rad(step_size-y)\n",
    "t, u, _= control.forced_response(H_aileron_to_roll, T=t, U=e)\n",
    "plt.hlines([-0.1, 0.1], t[0], t[-1], linestyles='dashed')\n",
    "plt.plot(t, u)\n",
    "plt.xlabel('t, sec')\n",
    "plt.ylabel('aileron %')\n",
    "plt.title('input')\n",
    "\n",
    "plt.figure()\n",
    "control.nyquist(Gc_aileron_to_roll, omega=np.logspace(-3, 3, 1000))\n",
    "\n",
    "plt.figure(figsize=(15, 7))\n",
    "control.gangof4(G_aileron_to_roll, H_aileron_to_roll, Hz=True, dB=True)\n",
    "\n",
    "gm, pm, wg, wp = control.margin(Gc_aileron_to_roll)\n",
    "print('gain margin: ', gm)\n",
    "print('phase margin (in degrees): ', pm)\n",
    "print('Frequency for gain margin (at phase crossover, phase = -180 degrees): ', wg)\n",
    "print('Frequency for phase margin (at gain crossover, gain = 1): ', wp)"
   ]
  },
  {
   "cell_type": "markdown",
   "metadata": {},
   "source": [
    "## Yaw"
   ]
  },
  {
   "cell_type": "markdown",
   "metadata": {},
   "source": [
    "## Engine0 (right cold post) "
   ]
  },
  {
   "cell_type": "code",
   "execution_count": 21,
   "metadata": {},
   "outputs": [
    {
     "name": "stdout",
     "output_type": "stream",
     "text": [
      "0 states have been removed from the model\n"
     ]
    },
    {
     "data": {
      "text/latex": [
       "$$\\frac{-0.788}{s^2}$$"
      ],
      "text/plain": [
       "TransferFunction(array([-0.788]), array([1., 0., 0.]))"
      ]
     },
     "execution_count": 21,
     "metadata": {},
     "output_type": "execute_result"
    }
   ],
   "source": [
    "# import scipy.signal as scysig\n",
    "\n",
    "sys1 = control.ss(*linearize(\n",
    "    aircraft='F-35B-2',\n",
    "    states=['ic/r-rad_sec'],\n",
    "    states_deriv = ['accelerations/rdot-rad_sec2'],\n",
    "    inputs=['propulsion/engine/pitch-angle-rad'],\n",
    "    outputs=['ic/r-rad_sec'],\n",
    "    ic=op_hover,\n",
    "    dx=1e-3,\n",
    "    n_round=3\n",
    "))\n",
    "s = control.tf([1, 0], [1])\n",
    "\n",
    "# # G_rudder_to_yaw = -clean_tf(control.minreal(control.ss2tf(sys), 1e-3))/s\n",
    "# print(sys)\n",
    "# temp = scysig.ss2tf(sys.A, sys.B, sys.C, sys.D)\n",
    "# print(temp)\n",
    "\n",
    "G_rudder_to_yaw1 = -clean_tf(control.minreal(control.ss2tf(sys1), 1e-3))/s\n",
    "G_rudder_to_yaw1"
   ]
  },
  {
   "cell_type": "markdown",
   "metadata": {},
   "source": [
    "## Engine1 (right hot post)"
   ]
  },
  {
   "cell_type": "code",
   "execution_count": 22,
   "metadata": {},
   "outputs": [
    {
     "name": "stdout",
     "output_type": "stream",
     "text": [
      "0 states have been removed from the model\n"
     ]
    },
    {
     "data": {
      "text/latex": [
       "$$\\frac{-0.553}{s^2}$$"
      ],
      "text/plain": [
       "TransferFunction(array([-0.553]), array([1., 0., 0.]))"
      ]
     },
     "execution_count": 22,
     "metadata": {},
     "output_type": "execute_result"
    }
   ],
   "source": [
    "sys2 = control.ss(*linearize(\n",
    "    aircraft='F-35B-2',\n",
    "    states=['ic/r-rad_sec'],\n",
    "    states_deriv = ['accelerations/rdot-rad_sec2'],\n",
    "    inputs=['propulsion/engine[1]/pitch-angle-rad'],\n",
    "    outputs=['ic/r-rad_sec'],\n",
    "    ic=op_hover,\n",
    "    dx=1e-3,\n",
    "    n_round=3\n",
    "))\n",
    "s = control.tf([1, 0], [1])\n",
    "G_rudder_to_yaw2 = -clean_tf(control.minreal(control.ss2tf(sys2), 1e-3))/s\n",
    "G_rudder_to_yaw2"
   ]
  },
  {
   "cell_type": "markdown",
   "metadata": {},
   "source": [
    "## Engine2 (left cold post)"
   ]
  },
  {
   "cell_type": "code",
   "execution_count": null,
   "metadata": {},
   "outputs": [],
   "source": [
    "sys3 = control.ss(*linearize(\n",
    "    aircraft='F-35B-2',\n",
    "    states=['ic/r-rad_sec'],\n",
    "    states_deriv = ['accelerations/rdot-rad_sec2'],\n",
    "    inputs=['propulsion/engine[2]/pitch-angle-rad'],\n",
    "    outputs=['ic/r-rad_sec'],\n",
    "    ic=op_hover,\n",
    "    dx=1e-3,\n",
    "    n_round=3\n",
    "))\n",
    "s = control.tf([1, 0], [1])\n",
    "G_rudder_to_yaw3 = -clean_tf(control.minreal(control.ss2tf(sys3), 1e-3))/s\n",
    "G_rudder_to_yaw3"
   ]
  },
  {
   "cell_type": "markdown",
   "metadata": {},
   "source": [
    "## Engine3 (left hot post)"
   ]
  },
  {
   "cell_type": "code",
   "execution_count": null,
   "metadata": {},
   "outputs": [],
   "source": [
    "sys4 = control.ss(*linearize(\n",
    "    aircraft='F-35B-2',\n",
    "    states=['ic/r-rad_sec'],\n",
    "    states_deriv = ['accelerations/rdot-rad_sec2'],\n",
    "    inputs=['propulsion/engine[3]/pitch-angle-rad'],\n",
    "    outputs=['ic/r-rad_sec'],\n",
    "    ic=op_hover,\n",
    "    dx=1e-3,\n",
    "    n_round=3\n",
    "))\n",
    "s = control.tf([1, 0], [1])\n",
    "G_rudder_to_yaw4 = -clean_tf(control.minreal(control.ss2tf(sys4), 1e-3))/s\n",
    "G_rudder_to_yaw4"
   ]
  },
  {
   "cell_type": "code",
   "execution_count": null,
   "metadata": {},
   "outputs": [],
   "source": [
    "sys1 = control.series(sys1, -1/s)\n",
    "sys1 = control.tf2ss(sys1)\n",
    "sys2 = control.series(sys2, -1/s)\n",
    "sys2 = control.tf2ss(sys2)\n",
    "sys3 = control.series(sys3, -1/s)\n",
    "sys3 = control.tf2ss(sys3)\n",
    "sys4 = control.series(sys4, -1/s)\n",
    "sys4 = control.tf2ss(sys4)\n",
    "\n",
    "sys_yaw = control.append(sys1, sys2, sys3, sys4)\n",
    "sys_yaw = control.ss2tf(sys_yaw)\n",
    "sys_yaw"
   ]
  },
  {
   "cell_type": "code",
   "execution_count": null,
   "metadata": {},
   "outputs": [],
   "source": [
    "# Engine nozzle pitch actuator \n",
    "tau_enp = 2\n",
    "G_enp_act = tau_enp / (s + tau_enp)\n",
    "G_aileron_to_roll *= G_enp_act\n",
    "G_aileron_to_roll"
   ]
  },
  {
   "cell_type": "markdown",
   "metadata": {},
   "source": [
    "## Altitude "
   ]
  },
  {
   "cell_type": "code",
   "execution_count": null,
   "metadata": {},
   "outputs": [],
   "source": [
    "sys = control.ss(*linearize(\n",
    "    aircraft='F-35B-2',\n",
    "    states=['ic/w-fps'],\n",
    "    states_deriv = ['accelerations/wdot-ft_sec2'],\n",
    "    inputs=['fcs/throttle-cmd-norm'],\n",
    "    outputs=['ic/w-fps'],\n",
    "    ic=op_hover,\n",
    "    dx=1e-3,\n",
    "    n_round=3\n",
    "))\n",
    "G_throttle_to_alt = -clean_tf(control.minreal(control.ss2tf(sys), 1e-3))/s\n",
    "G_throttle_to_alt"
   ]
  },
  {
   "cell_type": "code",
   "execution_count": null,
   "metadata": {},
   "outputs": [],
   "source": [
    "# Add the actuator \n",
    "tau = 0.4\n",
    "G_act = tau / (s + tau)\n",
    "G_throttle_to_alt *= G_act\n",
    "G_throttle_to_alt"
   ]
  },
  {
   "cell_type": "code",
   "execution_count": null,
   "metadata": {},
   "outputs": [],
   "source": [
    "# PD gains to lead-lag gains \n",
    "Kp = 9.11459759968896e-10\n",
    "Kd = 0.00911454537591535\n",
    "N = 27.8343628363698\n",
    "\n",
    "c1 = N*Kd + Kp\n",
    "c2 = N*Kp\n",
    "c3 = 1\n",
    "c4 = N\n",
    "\n",
    "H_throttle_to_alt = (c1 * s + c2) / (c3 * s + c4)\n",
    "\n",
    "\n",
    "plt.figure()\n",
    "rootlocus(G_throttle_to_alt*H_throttle_to_alt)\n",
    "plt.plot([0, -1], [0, 1], '--')\n",
    "\n",
    "plt.figure()\n",
    "rootlocus(G_throttle_to_alt*H_throttle_to_alt)\n",
    "plt.xlim([-1.2, 0])\n",
    "plt.plot([0, -1], [0, 1], '--')\n",
    "\n",
    "Gc_throttle_to_alt = G_throttle_to_alt*H_throttle_to_alt/(1 + G_throttle_to_alt*H_throttle_to_alt)\n",
    "\n",
    "plt.figure()\n",
    "step_size = 10\n",
    "t, y = control.step_response(step_size*Gc_throttle_to_alt, T=np.linspace(0, 40, 1000))\n",
    "plt.plot(t, y)\n",
    "plt.xlabel('t, sec')\n",
    "plt.ylabel('altitude, ft')\n",
    "plt.title('output')\n",
    "\n",
    "plt.figure()\n",
    "# error computed in ft\n",
    "e = step_size-y\n",
    "t, u, _= control.forced_response(H_throttle_to_alt, T=t, U=e)\n",
    "plt.hlines([-0.1, 0.1], t[0], t[-1], linestyles='dashed')\n",
    "plt.plot(t, u)\n",
    "plt.xlabel('t, sec')\n",
    "plt.ylabel('throtle %')\n",
    "plt.title('input')\n",
    "\n",
    "plt.figure()\n",
    "control.nyquist(Gc_throttle_to_alt, omega=np.logspace(-3, 3, 1000))\n",
    "\n",
    "plt.figure(figsize=(15, 7))\n",
    "control.gangof4(G_throttle_to_alt, H_throttle_to_alt, Hz=True, dB=True)\n",
    "\n",
    "\n",
    "gm, pm, wg, wp = control.margin(Gc_throttle_to_alt)\n",
    "print('gain margin: ', gm)\n",
    "print('phase margin (in degrees): ', pm)\n",
    "print('Frequency for gain margin (at phase crossover, phase = -180 degrees): ', wg)\n",
    "print('Frequency for phase margin (at gain crossover, gain = 1): ', wp)"
   ]
  },
  {
   "cell_type": "markdown",
   "metadata": {},
   "source": [
    "# Cruise Controller Design"
   ]
  },
  {
   "cell_type": "markdown",
   "metadata": {},
   "source": [
    "## Cruise Velocity (with Pitch)"
   ]
  },
  {
   "cell_type": "code",
   "execution_count": 14,
   "metadata": {},
   "outputs": [
    {
     "data": {
      "text/plain": [
       "{'inertial/sea-level-radius_ft': 20896304.74500688,\n",
       " 'simulation/gravity-model': 1.0,\n",
       " 'simulation/integrator/rate/rotational': 1.0,\n",
       " 'simulation/integrator/rate/translational': 3.0,\n",
       " 'simulation/integrator/position/rotational': 1.0,\n",
       " 'simulation/integrator/position/translational': 4.0,\n",
       " 'simulation/write-state-file': 0.0,\n",
       " 'simulation/channel-dt': 0.008333333333333333,\n",
       " 'simulation/gravitational-torque': 0.0,\n",
       " 'simulation/force-output': 0.0,\n",
       " 'simulation/do_simple_trim': 0.0,\n",
       " 'simulation/reset': 0.0,\n",
       " 'simulation/disperse': 0.0,\n",
       " 'simulation/randomseed': 0.0,\n",
       " 'simulation/terminate': 0.0,\n",
       " 'simulation/pause': -1788215296.0,\n",
       " 'simulation/sim-time-sec': 0.0,\n",
       " 'simulation/dt': 0.008333333333333333,\n",
       " 'simulation/jsbsim-debug': 0.0,\n",
       " 'simulation/frame': 0.0,\n",
       " 'simulation/trim-completed': 0.0,\n",
       " 'velocities/h-dot-fps': -4.2099657093785936e-13,\n",
       " 'velocities/v-north-fps': 117.55981628051151,\n",
       " 'velocities/v-east-fps': -666.7148487892647,\n",
       " 'velocities/v-down-fps': 4.2099657093785936e-13,\n",
       " 'velocities/u-fps': 676.8616050072495,\n",
       " 'velocities/v-fps': 0.8293613744688884,\n",
       " 'velocities/w-fps': 13.663082621443927,\n",
       " 'velocities/p-rad_sec': 0.0,\n",
       " 'velocities/q-rad_sec': 0.0,\n",
       " 'velocities/r-rad_sec': 0.0,\n",
       " 'velocities/pi-rad_sec': 1.0526593919761569e-05,\n",
       " 'velocities/qi-rad_sec': 5.4691405729965164e-05,\n",
       " 'velocities/ri-rad_sec': -4.706947075388963e-05,\n",
       " 'velocities/eci-x-fps': 494.12139426818646,\n",
       " 'velocities/eci-y-fps': 102.84203458107199,\n",
       " 'velocities/eci-z-fps': 89.51164548775188,\n",
       " 'velocities/eci-velocity-mag-fps': 512.5863547035133,\n",
       " 'velocities/ned-velocity-mag-fps': 676.9999999999998,\n",
       " 'velocities/vc-fps': 364.86922541098835,\n",
       " 'velocities/vc-kts': 216.17908734454016,\n",
       " 'velocities/ve-fps': 348.100311182318,\n",
       " 'velocities/ve-kts': 206.24377813990793,\n",
       " 'velocities/vtrue-fps': 676.9999999999998,\n",
       " 'velocities/vtrue-kts': 401.1114995171256,\n",
       " 'velocities/machU': 0.6991834306063522,\n",
       " 'velocities/p-aero-rad_sec': 0.0,\n",
       " 'velocities/q-aero-rad_sec': 0.0,\n",
       " 'velocities/r-aero-rad_sec': 0.0,\n",
       " 'velocities/phidot-rad_sec': 0.0,\n",
       " 'velocities/thetadot-rad_sec': 0.0,\n",
       " 'velocities/psidot-rad_sec': 0.0,\n",
       " 'velocities/u-aero-fps': 676.8616050072495,\n",
       " 'velocities/v-aero-fps': 0.8293613744588098,\n",
       " 'velocities/w-aero-fps': 13.66308262144438,\n",
       " 'velocities/vt-fps': 676.9999999999998,\n",
       " 'velocities/mach': 0.6993263896471577,\n",
       " 'velocities/vg-fps': 676.9999999999998,\n",
       " 'position/h-sl-ft': 38586.21145321056,\n",
       " 'position/h-sl-meters': 11761.07725093858,\n",
       " 'position/lat-gc-rad': 0.7019978358098355,\n",
       " 'position/long-gc-rad': -1.5171722022611542,\n",
       " 'position/lat-gc-deg': 40.2215132192213,\n",
       " 'position/long-gc-deg': -86.92756398413263,\n",
       " 'position/lat-geod-rad': 0.705305376791543,\n",
       " 'position/lat-geod-deg': 40.4110213580397,\n",
       " 'position/geod-alt-ft': 38585.99999999827,\n",
       " 'position/h-agl-ft': 37999.99999999827,\n",
       " 'position/geod-alt-km': 11.761012799999472,\n",
       " 'position/h-agl-km': 11.582399999999472,\n",
       " 'position/radius-to-vehicle-ft': 20934890.956460092,\n",
       " 'position/terrain-elevation-asl-ft': 585.9999999973426,\n",
       " 'position/eci-x-ft': 856766.1506652607,\n",
       " 'position/eci-y-ft': -15961934.613046234,\n",
       " 'position/eci-z-ft': 13518589.22117191,\n",
       " 'position/ecef-x-ft': 856766.1506652607,\n",
       " 'position/ecef-y-ft': -15961934.613046234,\n",
       " 'position/ecef-z-ft': 13518589.22117191,\n",
       " 'position/epa-rad': 0.0,\n",
       " 'position/distance-from-start-lon-mt': 0.0,\n",
       " 'position/distance-from-start-lat-mt': 0.0,\n",
       " 'position/distance-from-start-mag-mt': 0.0,\n",
       " 'position/vrp-gc-latitude_deg': 40.22152404295962,\n",
       " 'position/vrp-longitude_deg': -86.92764493756849,\n",
       " 'position/vrp-radius-ft': 20934891.24321227,\n",
       " 'metrics/terrain-radius': 20896891.164694604,\n",
       " 'metrics/Sw-sqft': 237.34,\n",
       " 'metrics/bw-ft': 45.67,\n",
       " 'metrics/cbarw-ft': 5.67,\n",
       " 'metrics/iw-rad': 0.0,\n",
       " 'metrics/iw-deg': 0.0,\n",
       " 'metrics/Sh-sqft': 103.3,\n",
       " 'metrics/lh-ft': 22.2,\n",
       " 'metrics/Sv-sqft': 53.28,\n",
       " 'metrics/lv-ft': 16.88,\n",
       " 'metrics/lh-norm': 3.9153439153439153,\n",
       " 'metrics/lv-norm': 2.9770723104056436,\n",
       " 'metrics/vbarh-norm': 1.704116568867559,\n",
       " 'metrics/vbarv-norm': 0.08297260183662111,\n",
       " 'metrics/aero-rp-x-in': 346.44,\n",
       " 'metrics/aero-rp-y-in': 0.0,\n",
       " 'metrics/aero-rp-z-in': 59.04,\n",
       " 'metrics/eyepoint-x-in': 122.88,\n",
       " 'metrics/eyepoint-y-in': 0.0,\n",
       " 'metrics/eyepoint-z-in': 36.0,\n",
       " 'metrics/visualrefpoint-x-in': 0.0,\n",
       " 'metrics/visualrefpoint-y-in': 0.0,\n",
       " 'metrics/visualrefpoint-z-in': 20.04,\n",
       " 'attitude/phi-rad': -6.072769029211445e-17,\n",
       " 'attitude/theta-rad': 0.020183191364411785,\n",
       " 'attitude/psi-rad': 4.885696851548799,\n",
       " 'attitude/phi-deg': -3.4794403533157397e-15,\n",
       " 'attitude/theta-deg': 1.156411682285685,\n",
       " 'attitude/psi-deg': 279.9298095741005,\n",
       " 'attitude/roll-rad': -6.072769029211445e-17,\n",
       " 'attitude/pitch-rad': 0.020183191364411785,\n",
       " 'attitude/heading-true-rad': 4.885696851548799,\n",
       " 'atmosphere/T-R': 389.97,\n",
       " 'atmosphere/rho-slugs_ft3': 0.0006284121072017478,\n",
       " 'atmosphere/P-psf': 420.6627061995546,\n",
       " 'atmosphere/a-fps': 968.0744356602607,\n",
       " 'atmosphere/T-sl-R': 518.67,\n",
       " 'atmosphere/rho-sl-slugs_ft3': 0.0023769117527742576,\n",
       " 'atmosphere/a-sl-fps': 1116.4485575897318,\n",
       " 'atmosphere/theta': 0.7518653479090752,\n",
       " 'atmosphere/sigma': 0.26438175774438605,\n",
       " 'atmosphere/delta': 0.19877948226729567,\n",
       " 'atmosphere/a-ratio': 0.8671016940988382,\n",
       " 'atmosphere/density-altitude': 38586.21145321056,\n",
       " 'atmosphere/pressure-altitude': 38586.21145321056,\n",
       " 'atmosphere/delta-T': 0.0,\n",
       " 'atmosphere/SL-graded-delta-T': 0.0,\n",
       " 'atmosphere/P-sl-psf': 2116.228,\n",
       " 'atmosphere/dew-point-R': 54.05399999999995,\n",
       " 'atmosphere/vapor-pressure-psf': 0.0,\n",
       " 'atmosphere/saturated-vapor-pressure-psf': 0.06155626133386705,\n",
       " 'atmosphere/RH': 0.0,\n",
       " 'atmosphere/vapor-fraction-ppm': 0.0,\n",
       " 'atmosphere/psiw-rad': 0.1700165110096919,\n",
       " 'atmosphere/wind-north-fps': 9.9333874459262e-12,\n",
       " 'atmosphere/wind-east-fps': 1.7053025658242404e-12,\n",
       " 'atmosphere/wind-down-fps': -4.533213633891092e-13,\n",
       " 'atmosphere/wind-mag-fps': 1.0088892072492199e-11,\n",
       " 'atmosphere/gust-north-fps': 0.0,\n",
       " 'atmosphere/gust-east-fps': 0.0,\n",
       " 'atmosphere/gust-down-fps': 0.0,\n",
       " 'atmosphere/cosine-gust/startup-duration-sec': 0.0,\n",
       " 'atmosphere/cosine-gust/steady-duration-sec': 0.0,\n",
       " 'atmosphere/cosine-gust/end-duration-sec': 0.0,\n",
       " 'atmosphere/cosine-gust/magnitude-ft_sec': 0.0,\n",
       " 'atmosphere/cosine-gust/frame': 0.0,\n",
       " 'atmosphere/cosine-gust/X-velocity-ft_sec': 0.0,\n",
       " 'atmosphere/cosine-gust/Y-velocity-ft_sec': 0.0,\n",
       " 'atmosphere/cosine-gust/Z-velocity-ft_sec': 0.0,\n",
       " 'atmosphere/cosine-gust/start': 0.0,\n",
       " 'atmosphere/updownburst/number-of-cells': 0.0,\n",
       " 'atmosphere/turb-north-fps': 0.0,\n",
       " 'atmosphere/turb-east-fps': 0.0,\n",
       " 'atmosphere/turb-down-fps': 0.0,\n",
       " 'atmosphere/p-turb-rad_sec': 0.0,\n",
       " 'atmosphere/q-turb-rad_sec': 0.0,\n",
       " 'atmosphere/r-turb-rad_sec': 0.0,\n",
       " 'atmosphere/turb-type': 3.0,\n",
       " 'atmosphere/turb-rate': 10.0,\n",
       " 'atmosphere/turb-gain': 1.0,\n",
       " 'atmosphere/turb-rhythmicity': 0.1,\n",
       " 'atmosphere/turbulence/milspec/windspeed_at_20ft_AGL-fps': 0.0,\n",
       " 'atmosphere/turbulence/milspec/severity': 0.0,\n",
       " 'atmosphere/total-wind-north-fps': 9.9333874459262e-12,\n",
       " 'atmosphere/total-wind-east-fps': 1.7053025658242404e-12,\n",
       " 'atmosphere/total-wind-down-fps': -4.533213633891092e-13,\n",
       " 'fcs/aileron-cmd-norm': 0.00022613538432062958,\n",
       " 'fcs/elevator-cmd-norm': 0.14031067006746925,\n",
       " 'fcs/rudder-cmd-norm': 0.0007573899576671861,\n",
       " 'fcs/flap-cmd-norm': 0.0,\n",
       " 'fcs/speedbrake-cmd-norm': 0.0,\n",
       " 'fcs/spoiler-cmd-norm': 0.0,\n",
       " 'fcs/pitch-trim-cmd-norm': 0.0,\n",
       " 'fcs/roll-trim-cmd-norm': 0.0,\n",
       " 'fcs/yaw-trim-cmd-norm': 0.0,\n",
       " 'fcs/left-aileron-pos-rad': 0.00019734035058288732,\n",
       " 'fcs/left-aileron-pos-deg': 0.011306769216031479,\n",
       " 'fcs/left-aileron-pos-norm': 0.00022613538432062958,\n",
       " 'fcs/mag-left-aileron-pos-rad': 0.00019734035058288732,\n",
       " 'fcs/right-aileron-pos-rad': -0.00019734035058288732,\n",
       " 'fcs/right-aileron-pos-deg': -0.011306769216031479,\n",
       " 'fcs/right-aileron-pos-norm': -0.00022613538432062958,\n",
       " 'fcs/mag-right-aileron-pos-rad': 0.00019734035058288732,\n",
       " 'fcs/elevator-pos-rad': -0.12244415841783964,\n",
       " 'fcs/elevator-pos-deg': -7.0155335033734625,\n",
       " 'fcs/elevator-pos-norm': -0.14031067006746925,\n",
       " 'fcs/mag-elevator-pos-rad': 0.12244415841783964,\n",
       " 'fcs/rudder-pos-rad': 0.0006609474241416434,\n",
       " 'fcs/rudder-pos-deg': 0.037869497883359304,\n",
       " 'fcs/rudder-pos-norm': 0.0007573899576671861,\n",
       " 'fcs/mag-rudder-pos-rad': 0.0006609474241416434,\n",
       " 'fcs/flap-pos-rad': 0.0,\n",
       " 'fcs/flap-pos-deg': 0.0,\n",
       " 'fcs/flap-pos-norm': 0.0,\n",
       " 'fcs/speedbrake-pos-rad': 0.0,\n",
       " 'fcs/speedbrake-pos-deg': 0.0,\n",
       " 'fcs/speedbrake-pos-norm': 0.0,\n",
       " 'fcs/mag-speedbrake-pos-rad': 0.0,\n",
       " 'fcs/spoiler-pos-rad': 0.0,\n",
       " 'fcs/spoiler-pos-deg': 0.0,\n",
       " 'fcs/spoiler-pos-norm': 0.0,\n",
       " 'fcs/mag-spoiler-pos-rad': 0.0,\n",
       " 'fcs/left-brake-cmd-norm': 0.0,\n",
       " 'fcs/right-brake-cmd-norm': 0.0,\n",
       " 'fcs/center-brake-cmd-norm': 0.0,\n",
       " 'fcs/wing-fold-pos-norm': 0.0,\n",
       " 'fcs/steer-cmd-norm': 0.0,\n",
       " 'fcs/steer-pos-deg': 0.0,\n",
       " 'fcs/throttle-cmd-norm': 0.16673315207787176,\n",
       " 'fcs/throttle-pos-norm': 0.16673315207787176,\n",
       " 'fcs/mixture-cmd-norm': 0.0,\n",
       " 'fcs/mixture-pos-norm': 0.0,\n",
       " 'fcs/advance-cmd-norm': 0.0,\n",
       " 'fcs/advance-pos-norm': 0.0,\n",
       " 'fcs/feather-cmd-norm': 0.0,\n",
       " 'fcs/feather-pos-norm': 0.0,\n",
       " 'fcs/throttle-cmd-norm[1]': 0.0,\n",
       " 'fcs/throttle-pos-norm[1]': 0.16673315207787176,\n",
       " 'fcs/mixture-cmd-norm[1]': 0.0,\n",
       " 'fcs/mixture-pos-norm[1]': 0.0,\n",
       " 'fcs/advance-cmd-norm[1]': 0.0,\n",
       " 'fcs/advance-pos-norm[1]': 0.0,\n",
       " 'fcs/feather-cmd-norm[1]': 0.0,\n",
       " 'fcs/feather-pos-norm[1]': 0.0,\n",
       " 'fcs/throttle-cmd-norm[2]': 0.0,\n",
       " 'fcs/throttle-pos-norm[2]': 0.16673315207787176,\n",
       " 'fcs/mixture-cmd-norm[2]': 0.0,\n",
       " 'fcs/mixture-pos-norm[2]': 0.0,\n",
       " 'fcs/advance-cmd-norm[2]': 0.0,\n",
       " 'fcs/advance-pos-norm[2]': 0.0,\n",
       " 'fcs/feather-cmd-norm[2]': 0.0,\n",
       " 'fcs/feather-pos-norm[2]': 0.0,\n",
       " 'fcs/throttle-cmd-norm[3]': 0.0,\n",
       " 'fcs/throttle-pos-norm[3]': 0.16673315207787176,\n",
       " 'fcs/mixture-cmd-norm[3]': 0.0,\n",
       " 'fcs/mixture-pos-norm[3]': 0.0,\n",
       " 'fcs/advance-cmd-norm[3]': 0.0,\n",
       " 'fcs/advance-pos-norm[3]': 0.0,\n",
       " 'fcs/feather-cmd-norm[3]': 0.0,\n",
       " 'fcs/feather-pos-norm[3]': 0.0,\n",
       " 'gear/gear-pos-norm': 0.0,\n",
       " 'gear/gear-cmd-norm': 0.0,\n",
       " 'gear/tailhook-pos-norm': 0.0,\n",
       " 'gear/num-units': 5.0,\n",
       " 'gear/wow': 0.0,\n",
       " 'gear/unit/solid': 1.0,\n",
       " 'gear/unit/bumpiness': 0.0,\n",
       " 'gear/unit/maximum-force-lbs': 1.7976931348623157e+308,\n",
       " 'gear/unit/rolling_friction-factor': 1.0,\n",
       " 'gear/unit/static-friction-factor': 1.0,\n",
       " 'gear/unit/WOW': 0.0,\n",
       " 'gear/unit/x-position': 86.64,\n",
       " 'gear/unit/y-position': 0.0,\n",
       " 'gear/unit/z-position': -23.64,\n",
       " 'gear/unit/compression-ft': 0.0,\n",
       " 'gear/unit/compression-velocity-fps': 0.0,\n",
       " 'gear/unit/static_friction_coeff': 0.8,\n",
       " 'gear/unit/dynamic_friction_coeff': 0.5,\n",
       " 'gear/unit/slip-angle-deg': 0.0,\n",
       " 'gear/unit/wheel-speed-fps': 0.0,\n",
       " 'gear/unit/side_friction_coeff': 6.9519205310455e-310,\n",
       " 'gear/unit/rolling_friction_coeff': 0.02,\n",
       " 'gear/unit/pos-norm': 1.0,\n",
       " 'gear/unit[1]/solid': 1.0,\n",
       " 'gear/unit[1]/bumpiness': 0.0,\n",
       " 'gear/unit[1]/maximum-force-lbs': 1.7976931348623157e+308,\n",
       " 'gear/unit[1]/rolling_friction-factor': 1.0,\n",
       " 'gear/unit[1]/static-friction-factor': 1.0,\n",
       " 'gear/unit[1]/WOW': 0.0,\n",
       " 'gear/unit[1]/x-position': 300.96,\n",
       " 'gear/unit[1]/y-position': -47.04,\n",
       " 'gear/unit[1]/z-position': -23.64,\n",
       " 'gear/unit[1]/compression-ft': 0.0,\n",
       " 'gear/unit[1]/compression-velocity-fps': 0.0,\n",
       " 'gear/unit[1]/static_friction_coeff': 0.8,\n",
       " 'gear/unit[1]/dynamic_friction_coeff': 0.5,\n",
       " 'gear/unit[1]/slip-angle-deg': 0.0,\n",
       " 'gear/unit[1]/wheel-speed-fps': 0.0,\n",
       " 'gear/unit[1]/side_friction_coeff': 1.1747796062674e-311,\n",
       " 'gear/unit[1]/rolling_friction_coeff': 0.02,\n",
       " 'gear/unit[1]/pos-norm': 1.0,\n",
       " 'gear/unit[2]/solid': 1.0,\n",
       " 'gear/unit[2]/bumpiness': 0.0,\n",
       " 'gear/unit[2]/maximum-force-lbs': 1.7976931348623157e+308,\n",
       " 'gear/unit[2]/rolling_friction-factor': 1.0,\n",
       " 'gear/unit[2]/static-friction-factor': 1.0,\n",
       " 'gear/unit[2]/WOW': 0.0,\n",
       " 'gear/unit[2]/x-position': 300.96,\n",
       " 'gear/unit[2]/y-position': 47.04,\n",
       " 'gear/unit[2]/z-position': -23.64,\n",
       " 'gear/unit[2]/compression-ft': 0.0,\n",
       " 'gear/unit[2]/compression-velocity-fps': 0.0,\n",
       " 'gear/unit[2]/static_friction_coeff': 0.8,\n",
       " 'gear/unit[2]/dynamic_friction_coeff': 0.5,\n",
       " 'gear/unit[2]/slip-angle-deg': 0.0,\n",
       " 'gear/unit[2]/wheel-speed-fps': 0.0,\n",
       " 'gear/unit[2]/side_friction_coeff': 1.174774454056e-311,\n",
       " 'gear/unit[2]/rolling_friction_coeff': 0.02,\n",
       " 'gear/unit[2]/pos-norm': 1.0,\n",
       " 'inertia/mass-slugs': 352.52013198587474,\n",
       " 'inertia/weight-lbs': 11342.0,\n",
       " 'inertia/empty-weight-lbs': 9039.0,\n",
       " 'inertia/cg-x-in': 275.15999999999997,\n",
       " 'inertia/cg-y-in': 0.0,\n",
       " 'inertia/cg-z-in': 21.995803209310527,\n",
       " 'inertia/ixx-slugs_ft2': 18750.76900752994,\n",
       " 'inertia/iyy-slugs_ft2': 24625.76900752994,\n",
       " 'inertia/izz-slugs_ft2': 38124.0,\n",
       " 'inertia/ixy-slugs_ft2': -0.0,\n",
       " 'inertia/ixz-slugs_ft2': 0.0,\n",
       " 'inertia/iyz-slugs_ft2': -0.0,\n",
       " 'inertia/print-mass-properties': 0.0,\n",
       " 'propulsion/tat-r': 428.11354279764487,\n",
       " 'propulsion/tat-c': -35.3091428901973,\n",
       " 'propulsion/pt-lbs_sqft': 583.1512341148757,\n",
       " 'propulsion/tank/contents-lbs': 2303.0,\n",
       " 'propulsion/tank/unusable-volume-gal': 0.0,\n",
       " 'propulsion/tank/pct-full': 100.0,\n",
       " 'propulsion/tank/density-lbs_per_gal': 6.6,\n",
       " 'propulsion/tank/priority': 1.0,\n",
       " 'propulsion/tank/external-flow-rate-pps': 0.0,\n",
       " 'propulsion/tank/local-ixx-slug_ft2': 0.0,\n",
       " 'propulsion/tank/local-iyy-slug_ft2': 0.0,\n",
       " 'propulsion/tank/local-izz-slug_ft2': 0.0,\n",
       " 'propulsion/tank/x-position': 275.15999999999997,\n",
       " 'propulsion/tank/y-position': 0.0,\n",
       " 'propulsion/tank/z-position': 0.0,\n",
       " 'propulsion/set-running': 0.0,\n",
       " 'propulsion/starter_cmd': 0.0,\n",
       " 'propulsion/cutoff_cmd': 0.0,\n",
       " 'propulsion/active_engine': -1.0,\n",
       " 'propulsion/total-fuel-lbs': 2303.0,\n",
       " 'propulsion/total-oxidizer-lbs': 0.0,\n",
       " 'propulsion/refuel': 0.0,\n",
       " 'propulsion/fuel_dump': 0.0,\n",
       " 'propulsion/engine/IdleThrust': 0.05628080978782294,\n",
       " 'propulsion/engine/MilThrust': 0.24329603041896836,\n",
       " 'propulsion/engine/AugThrust': 0.24329603041896836,\n",
       " 'propulsion/engine/pitch-angle-rad': 0.0,\n",
       " 'propulsion/engine/yaw-angle-rad': 0.0,\n",
       " 'propulsion/engine/reverser-angle-rad': 0.0,\n",
       " 'propulsion/engine/set-running': 1.0,\n",
       " 'propulsion/engine/thrust-lbs': 310.87292807542855,\n",
       " 'propulsion/engine/fuel-flow-rate-pps': 0.21705447869795585,\n",
       " 'propulsion/engine/fuel-flow-rate-gph': 118.39335201706683,\n",
       " 'propulsion/engine/fuel-used-lbs': 0.0,\n",
       " 'propulsion/engine/n1': 100.0,\n",
       " 'propulsion/engine/n2': 100.0,\n",
       " 'propulsion/engine/injection_cmd': 0.0,\n",
       " 'propulsion/engine/seized': 0.0,\n",
       " 'propulsion/engine/stalled': 0.0,\n",
       " 'propulsion/engine/bleed-factor': 0.03,\n",
       " 'propulsion/engine/MaxN1': 100.0,\n",
       " 'propulsion/engine/MaxN2': 100.0,\n",
       " 'propulsion/engine/InjectionTimer': 0.0,\n",
       " 'propulsion/engine/InjWaterNorm': 0.0,\n",
       " 'propulsion/engine/InjN1increment': 0.0,\n",
       " 'propulsion/engine/InjN2increment': 0.0,\n",
       " 'propulsion/engine/pitch-angle-deg': 7.573899576671862e-05,\n",
       " 'propulsion/engine[1]/IdleThrust': 0.05628080978782294,\n",
       " 'propulsion/engine[1]/MilThrust': 0.24329603041896836,\n",
       " 'propulsion/engine[1]/AugThrust': 0.24329603041896836,\n",
       " 'propulsion/engine[1]/pitch-angle-rad': 0.0,\n",
       " 'propulsion/engine[1]/yaw-angle-rad': 0.0,\n",
       " 'propulsion/engine[1]/reverser-angle-rad': 0.0,\n",
       " 'propulsion/engine[1]/set-running': 1.0,\n",
       " 'propulsion/engine[1]/thrust-lbs': 310.87292807542855,\n",
       " 'propulsion/engine[1]/fuel-flow-rate-pps': 0.21705447869795585,\n",
       " 'propulsion/engine[1]/fuel-flow-rate-gph': 118.39335201706683,\n",
       " 'propulsion/engine[1]/fuel-used-lbs': 0.0,\n",
       " 'propulsion/engine[1]/n1': 100.0,\n",
       " 'propulsion/engine[1]/n2': 100.0,\n",
       " 'propulsion/engine[1]/injection_cmd': 0.0,\n",
       " 'propulsion/engine[1]/seized': 0.0,\n",
       " 'propulsion/engine[1]/stalled': 0.0,\n",
       " 'propulsion/engine[1]/bleed-factor': 0.03,\n",
       " 'propulsion/engine[1]/MaxN1': 100.0,\n",
       " 'propulsion/engine[1]/MaxN2': 100.0,\n",
       " 'propulsion/engine[1]/InjectionTimer': 0.0,\n",
       " 'propulsion/engine[1]/InjWaterNorm': 0.0,\n",
       " 'propulsion/engine[1]/InjN1increment': 0.0,\n",
       " 'propulsion/engine[1]/InjN2increment': 0.0,\n",
       " 'propulsion/engine[1]/pitch-angle-deg': 7.573899576671862e-05,\n",
       " 'propulsion/engine[2]/IdleThrust': 0.05628080978782294,\n",
       " 'propulsion/engine[2]/MilThrust': 0.24329603041896836,\n",
       " 'propulsion/engine[2]/AugThrust': 0.24329603041896836,\n",
       " 'propulsion/engine[2]/pitch-angle-rad': 0.0,\n",
       " 'propulsion/engine[2]/yaw-angle-rad': 0.0,\n",
       " 'propulsion/engine[2]/reverser-angle-rad': 0.0,\n",
       " 'propulsion/engine[2]/set-running': 1.0,\n",
       " 'propulsion/engine[2]/thrust-lbs': 310.87292807542855,\n",
       " 'propulsion/engine[2]/fuel-flow-rate-pps': 0.21705447869795585,\n",
       " 'propulsion/engine[2]/fuel-flow-rate-gph': 118.39335201706683,\n",
       " 'propulsion/engine[2]/fuel-used-lbs': 0.0,\n",
       " 'propulsion/engine[2]/n1': 100.0,\n",
       " 'propulsion/engine[2]/n2': 100.0,\n",
       " 'propulsion/engine[2]/injection_cmd': 0.0,\n",
       " 'propulsion/engine[2]/seized': 0.0,\n",
       " 'propulsion/engine[2]/stalled': 0.0,\n",
       " 'propulsion/engine[2]/bleed-factor': 0.03,\n",
       " 'propulsion/engine[2]/MaxN1': 100.0,\n",
       " 'propulsion/engine[2]/MaxN2': 100.0,\n",
       " 'propulsion/engine[2]/InjectionTimer': 0.0,\n",
       " 'propulsion/engine[2]/InjWaterNorm': 0.0,\n",
       " 'propulsion/engine[2]/InjN1increment': 0.0,\n",
       " 'propulsion/engine[2]/InjN2increment': 0.0,\n",
       " 'propulsion/engine[2]/pitch-angle-deg': 7.573899576671862e-05,\n",
       " 'propulsion/engine[3]/IdleThrust': 0.05628080978782294,\n",
       " 'propulsion/engine[3]/MilThrust': 0.24329603041896836,\n",
       " 'propulsion/engine[3]/AugThrust': 0.24329603041896836,\n",
       " 'propulsion/engine[3]/pitch-angle-rad': 0.0,\n",
       " 'propulsion/engine[3]/yaw-angle-rad': 0.0,\n",
       " 'propulsion/engine[3]/reverser-angle-rad': 0.0,\n",
       " 'propulsion/engine[3]/set-running': 1.0,\n",
       " 'propulsion/engine[3]/thrust-lbs': 310.87292807542855,\n",
       " 'propulsion/engine[3]/fuel-flow-rate-pps': 0.21705447869795585,\n",
       " 'propulsion/engine[3]/fuel-flow-rate-gph': 118.39335201706683,\n",
       " 'propulsion/engine[3]/fuel-used-lbs': 0.0,\n",
       " 'propulsion/engine[3]/n1': 100.0,\n",
       " 'propulsion/engine[3]/n2': 100.0,\n",
       " 'propulsion/engine[3]/injection_cmd': 0.0,\n",
       " 'propulsion/engine[3]/seized': 0.0,\n",
       " 'propulsion/engine[3]/stalled': 0.0,\n",
       " 'propulsion/engine[3]/bleed-factor': 0.03,\n",
       " 'propulsion/engine[3]/MaxN1': 100.0,\n",
       " 'propulsion/engine[3]/MaxN2': 100.0,\n",
       " 'propulsion/engine[3]/InjectionTimer': 0.0,\n",
       " 'propulsion/engine[3]/InjWaterNorm': 0.0,\n",
       " 'propulsion/engine[3]/InjN1increment': 0.0,\n",
       " 'propulsion/engine[3]/InjN2increment': 0.0,\n",
       " 'propulsion/engine[3]/pitch-angle-deg': 7.573899576671862e-05,\n",
       " 'accelerations/a-pilot-x-ft_sec2': 0.6482585836345807,\n",
       " 'accelerations/a-pilot-y-ft_sec2': -0.06370903953298691,\n",
       " 'accelerations/a-pilot-z-ft_sec2': -32.10791018602405,\n",
       " 'accelerations/n-pilot-x-norm': 0.020148492736237165,\n",
       " 'accelerations/n-pilot-y-norm': -0.001980137483203175,\n",
       " 'accelerations/n-pilot-z-norm': -0.9979443566049703,\n",
       " 'accelerations/Nx': 0.020148494771867434,\n",
       " 'accelerations/Ny': -0.0019801378035673492,\n",
       " 'accelerations/Nz': 0.9979443565221021,\n",
       " 'accelerations/pdot-rad_sec2': 7.95287904675479e-14,\n",
       " 'accelerations/qdot-rad_sec2': -1.1145691193994249e-13,\n",
       " 'accelerations/rdot-rad_sec2': -2.1582568283586667e-13,\n",
       " 'accelerations/udot-ft_sec2': 7.934208845483681e-12,\n",
       " 'accelerations/vdot-ft_sec2': 1.1290482437864569e-12,\n",
       " 'accelerations/wdot-ft_sec2': -4.099831585335778e-12,\n",
       " 'accelerations/gravity-ft_sec2': 32.10518413963992,\n",
       " 'forces/load-factor': 0.9959350665727601,\n",
       " 'forces/fbx-aero-lbs': -1014.9674877497577,\n",
       " 'forces/fby-aero-lbs': -22.458722658432276,\n",
       " 'forces/fbz-aero-lbs': -11318.68473562792,\n",
       " 'forces/fwx-aero-lbs': 1243.219016092371,\n",
       " 'forces/fwy-aero-lbs': -20.935728276663333,\n",
       " 'forces/fwz-aero-lbs': 11295.895525068245,\n",
       " 'forces/fsx-aero-lbs': 1243.1924358154329,\n",
       " 'forces/fsy-aero-lbs': -22.458722658432276,\n",
       " 'forces/fsz-aero-lbs': 11295.895525068245,\n",
       " 'forces/lod-norm': 9.086006068804341,\n",
       " 'forces/fbx-weight-lbs': -225.08136054708726,\n",
       " 'forces/fby-weight-lbs': 19.028806096901796,\n",
       " 'forces/fbz-weight-lbs': 11315.469374913604,\n",
       " 'forces/fbx-total-lbs': 228.52422455195654,\n",
       " 'forces/fby-total-lbs': -22.458722658432276,\n",
       " 'forces/fbz-total-lbs': -11318.68473562792,\n",
       " 'forces/fbx-gear-lbs': 0.0,\n",
       " 'forces/fby-gear-lbs': 0.0,\n",
       " 'forces/fbz-gear-lbs': 0.0,\n",
       " 'forces/hold-down': 0.0,\n",
       " 'forces/fbx-prop-lbs': 1243.4917123017142,\n",
       " 'forces/fby-prop-lbs': 0.0,\n",
       " 'forces/fbz-prop-lbs': 0.0,\n",
       " 'aero/alpha-rad': 0.020183191364413117,\n",
       " 'aero/beta-rad': 0.0012250540353085399,\n",
       " 'aero/mag-beta-rad': 0.0012250540353085399,\n",
       " 'aero/alpha-deg': 1.156411682285761,\n",
       " 'aero/beta-deg': 0.07019042589864986,\n",
       " 'aero/mag-beta-deg': 0.07019042589864986,\n",
       " 'aero/Re': 8124368.019456121,\n",
       " 'aero/qbar-psf': 144.00974634083485,\n",
       " 'aero/qbarUW-psf': 144.009530217252,\n",
       " 'aero/qbarUV-psf': 143.95109040919414,\n",
       " 'aero/alphadot-rad_sec': -6.291196426325085e-15,\n",
       " 'aero/betadot-rad_sec': 1.6535156450662048e-15,\n",
       " 'aero/alphadot-deg_sec': -3.604590033162135e-13,\n",
       " 'aero/betadot-deg_sec': 9.473946782114536e-14,\n",
       " 'aero/h_b-cg-ft': 832.0560543025676,\n",
       " 'aero/h_b-mac-ft': 831.99109902256,\n",
       " 'aero/cl-squared': 0.10922339887686607,\n",
       " 'aero/qbar-area': 34179.273196533744,\n",
       " 'aero/alpha-max-rad': 0.0,\n",
       " 'aero/alpha-min-rad': 0.0,\n",
       " 'aero/bi2vel': 0.03372968980797638,\n",
       " 'aero/ci2vel': 0.004187592319054655,\n",
       " 'aero/alpha-wing-rad': 0.020183191364413117,\n",
       " 'aero/stall-hyst-norm': 0.0,\n",
       " 'aero/coefficient/CLalpha': 12132.905993444845,\n",
       " 'aero/coefficient/dCLflap': 0.0,\n",
       " 'aero/coefficient/dCLsb': 0.0,\n",
       " 'aero/coefficient/CLde': -837.0104683765996,\n",
       " 'aero/coefficient/CD0': 910.6643267640202,\n",
       " 'aero/coefficient/CDi': 130.6611736383234,\n",
       " 'aero/coefficient/CDmach': 0.0,\n",
       " 'aero/coefficient/CDflap': 0.0,\n",
       " 'aero/coefficient/CDgear': 0.0,\n",
       " 'aero/coefficient/CDsb': 0.0,\n",
       " 'aero/coefficient/CDbeta': 0.3918860714700609,\n",
       " 'aero/coefficient/CDde': 201.50162961855773,\n",
       " 'aero/coefficient/CYb': -20.93572827666334,\n",
       " 'aero/coefficient/Clb': -19.122694207904296,\n",
       " 'aero/coefficient/Clp': -0.0,\n",
       " 'aero/coefficient/Clr': 0.0,\n",
       " 'aero/coefficient/Clda': 83.29451767941593,\n",
       " 'aero/coefficient/Cldr': 5.158586933750808,\n",
       " 'aero/coefficient/Cmalpha': -24238.145235216627,\n",
       " 'aero/coefficient/Cmde': 86374.45827365482,\n",
       " 'aero/coefficient/Cmq': -0.0,\n",
       " 'aero/coefficient/Cmadot': 6.126673942036252e-11,\n",
       " 'aero/coefficient/Cnb': 382.4538841580859,\n",
       " 'aero/coefficient/Cnr': -0.0,\n",
       " 'aero/coefficient/Cndr': -515.8586933750807,\n",
       " 'aero/coefficient/Cnda': 0.0,\n",
       " 'flight-path/gamma-rad': -6.218560870573996e-16,\n",
       " 'flight-path/gamma-deg': -3.562972925290889e-14,\n",
       " 'flight-path/psi-gt-rad': 4.886921905584122,\n",
       " 'moments/l-aero-lbsft': -3.474694437954895e-05,\n",
       " 'moments/m-aero-lbsft': -1963.4530118287948,\n",
       " 'moments/n-aero-lbsft': 3.374092898411618e-06,\n",
       " 'moments/roll-stab-aero-lbsft': -3.467177200188295e-05,\n",
       " 'moments/pitch-stab-aero-lbsft': -1963.4530118287948,\n",
       " 'moments/yaw-stab-aero-lbsft': 4.074662299139042e-06,\n",
       " 'moments/roll-wind-aero-lbsft': -2.4053701053879633,\n",
       " 'moments/pitch-wind-aero-lbsft': -1963.451538453196,\n",
       " 'moments/yaw-wind-aero-lbsft': 4.074662299139042e-06,\n",
       " 'moments/l-total-lbsft': -3.474694437954895e-05,\n",
       " 'moments/m-total-lbsft': 9.596327117833425e-06,\n",
       " 'moments/n-total-lbsft': 3.374092898411618e-06,\n",
       " 'moments/l-gear-lbsft': 0.0,\n",
       " 'moments/m-gear-lbsft': 0.0,\n",
       " 'moments/n-gear-lbsft': 0.0,\n",
       " 'moments/l-prop-lbsft': 0.0,\n",
       " 'moments/m-prop-lbsft': 1963.453021425122,\n",
       " 'moments/n-prop-lbsft': 0.0,\n",
       " 'systems/stall-warn-norm': 0.0,\n",
       " 'ground/solid': 1.0,\n",
       " 'ground/bumpiness': 0.0,\n",
       " 'ground/maximum-force-lbs': 1.7976931348623157e+308,\n",
       " 'ground/rolling_friction-factor': 1.0,\n",
       " 'ground/static-friction-factor': 1.0,\n",
       " 'ic/vc-kts': 216.17908734454016,\n",
       " 'ic/ve-kts': 206.243778139908,\n",
       " 'ic/vg-kts': 401.1114995171257,\n",
       " 'ic/vt-kts': 401.1114995171257,\n",
       " 'ic/mach': 0.6993263896471579,\n",
       " 'ic/roc-fpm': 2.818578703767116e-13,\n",
       " 'ic/gamma-deg': 3.975693351829396e-16,\n",
       " 'ic/alpha-deg': 1.1564116822856843,\n",
       " 'ic/beta-deg': 0.07019042590034426,\n",
       " 'ic/theta-deg': 1.156411682285684,\n",
       " 'ic/phi-deg': -1.0935383967563747e-15,\n",
       " 'ic/psi-true-deg': 279.9298095741005,\n",
       " 'ic/lat-gc-deg': 40.2215132192213,\n",
       " 'ic/long-gc-deg': -86.92756398413263,\n",
       " 'ic/h-sl-ft': 38586.21145321056,\n",
       " 'ic/h-agl-ft': 37999.99999999827,\n",
       " 'ic/terrain-elevation-ft': 585.9999999973426,\n",
       " 'ic/vg-fps': 677.0,\n",
       " 'ic/vt-fps': 677.0,\n",
       " 'ic/vw-bx-fps': 0.0,\n",
       " 'ic/vw-by-fps': 9.956591107140866e-12,\n",
       " 'ic/vw-bz-fps': -4.583000645652646e-13,\n",
       " 'ic/vw-north-fps': 9.9333874459262e-12,\n",
       " 'ic/vw-east-fps': 1.7053025658242404e-12,\n",
       " 'ic/vw-down-fps': -4.533213633891092e-13,\n",
       " 'ic/vw-mag-fps': 1.0078702445845446e-11,\n",
       " 'ic/vw-dir-deg': 9.74122852839484,\n",
       " 'ic/roc-fps': 4.697631172945194e-15,\n",
       " 'ic/u-fps': 676.8616050072498,\n",
       " 'ic/v-fps': 0.8293613744688741,\n",
       " 'ic/w-fps': 13.663082621443932,\n",
       " 'ic/vn-fps': 117.55981628051155,\n",
       " 'ic/ve-fps': -666.7148487892649,\n",
       " 'ic/vd-fps': 4.580189945620544e-13,\n",
       " 'ic/gamma-rad': 6.938893903907228e-18,\n",
       " 'ic/alpha-rad': 0.020183191364411775,\n",
       " 'ic/theta-rad': 0.02018319136441177,\n",
       " 'ic/beta-rad': 0.0012250540353381126,\n",
       " 'ic/phi-rad': -1.908584552037882e-17,\n",
       " 'ic/psi-true-rad': 4.885696851548799,\n",
       " 'ic/lat-gc-rad': 0.7019978358098355,\n",
       " 'ic/long-gc-rad': -1.5171722022611542,\n",
       " 'ic/p-rad_sec': 0.0,\n",
       " 'ic/q-rad_sec': 0.0,\n",
       " 'ic/r-rad_sec': 0.0,\n",
       " 'ic/lat-geod-rad': 0.705305376791543,\n",
       " 'ic/lat-geod-deg': 40.4110213580397,\n",
       " 'ic/geod-alt-ft': 38585.99999999827,\n",
       " 'ic/targetNlf': 1.0,\n",
       " 'contact/unit[3]/solid': 1.0,\n",
       " 'contact/unit[3]/bumpiness': 0.0,\n",
       " 'contact/unit[3]/maximum-force-lbs': 1.7976931348623157e+308,\n",
       " 'contact/unit[3]/rolling_friction-factor': 1.0,\n",
       " 'contact/unit[3]/static-friction-factor': 1.0,\n",
       " 'contact/unit[3]/WOW': 0.0,\n",
       " 'contact/unit[3]/x-position': 278.04,\n",
       " 'contact/unit[3]/y-position': -273.96,\n",
       " 'contact/unit[3]/z-position': 56.28,\n",
       " 'contact/unit[3]/compression-ft': 0.0,\n",
       " 'contact/unit[3]/compression-velocity-fps': 0.0,\n",
       " 'contact/unit[3]/static_friction_coeff': 0.8,\n",
       " 'contact/unit[3]/dynamic_friction_coeff': 0.5,\n",
       " 'contact/unit[4]/solid': 1.0,\n",
       " 'contact/unit[4]/bumpiness': 0.0,\n",
       " 'contact/unit[4]/maximum-force-lbs': 1.7976931348623157e+308,\n",
       " 'contact/unit[4]/rolling_friction-factor': 1.0,\n",
       " 'contact/unit[4]/static-friction-factor': 1.0,\n",
       " 'contact/unit[4]/WOW': 0.0,\n",
       " 'contact/unit[4]/x-position': 278.04,\n",
       " 'contact/unit[4]/y-position': 273.96,\n",
       " 'contact/unit[4]/z-position': 56.28,\n",
       " 'contact/unit[4]/compression-ft': 0.0,\n",
       " 'contact/unit[4]/compression-velocity-fps': 0.0,\n",
       " 'contact/unit[4]/static_friction_coeff': 0.8,\n",
       " 'contact/unit[4]/dynamic_friction_coeff': 0.5,\n",
       " 'ap/heading-cmd-deg': 280.0,\n",
       " 'ap/roll-enable': 0.0,\n",
       " 'ap/pitch-enable': 0.0,\n",
       " 'ap/yaw-enable': 0.0,\n",
       " 'ap/gear-enable': 0.0,\n",
       " 'ap/h-enable': 0.0,\n",
       " 'ap/h-sl-cmd-ft': 596.0,\n",
       " 'ap/v-cmd-fps': 677.0,\n",
       " 'ap/engine-roll-mix': 0.0,\n",
       " 'ap/engine-pitch-mix': 0.0,\n",
       " 'ap/engine-thrust-mix': 1.0,\n",
       " 'ap/aero-moment-mix': 1.0,\n",
       " 'ap/heading-error-to-phi-deg-cmd': 3.0,\n",
       " 'ap/engine-yaw-mix': 0.1,\n",
       " 'ap/roll-leadlag-c1': 6.0,\n",
       " 'ap/roll-leadlag-c2': 2e-07,\n",
       " 'ap/roll-leadlag-c3': 2.0,\n",
       " 'ap/roll-leadlag-c4': 800.0,\n",
       " 'ap/pitch-leadlag-c1': 6.0,\n",
       " 'ap/pitch-leadlag-c2': 2e-06,\n",
       " 'ap/pitch-leadlag-c3': 2.0,\n",
       " 'ap/pitch-leadlag-c4': 300.0,\n",
       " 'ap/kp-yaw': 0.01,\n",
       " 'ap/kd-yaw': 0.02,\n",
       " 'ap/h-leadlag-c1': 2.0,\n",
       " 'ap/h-leadlag-c2': 2e-07,\n",
       " 'ap/h-leadlag-c3': 1.0,\n",
       " 'ap/h-leadlag-c4': 70.0,\n",
       " 'ap/aileron-trim': 6.192891390473271e-05,\n",
       " 'ap/elevator-trim': -0.025844622867566572,\n",
       " 'ap/rudder-trim': 0.0002091951125062251,\n",
       " 'ap/throttle-trim': 0.7303479652854366,\n",
       " 'ap/theta-deg-trim': -1.4167522690646808,\n",
       " 'ap/spoiler-tbl-norm': 0.0,\n",
       " 'ap/gear-deploy': 0.0,\n",
       " 'ap/gear-cmd-norm': 0.0,\n",
       " 'ap/gear-servo': 0.0,\n",
       " 'ap/heading-error-deg': 0.07019042589951141,\n",
       " 'ap/phi-deg-cmd': 0.21057127769853423,\n",
       " 'ap/roll-error': 0.2105712776985377,\n",
       " 'ap/roll-leadlag': 5.2691791555097936e-11,\n",
       " 'ap/roll-leadlag-lp': 3.38990202584523e-05,\n",
       " 'ap/roll-auto': 9.582793416318501e-05,\n",
       " 'ap/aileron-cmd-norm': 0.00022613538432062958,\n",
       " 'ap/pitch-error': -2.573163951350343,\n",
       " 'ap/pitch-leadlag': -1.7154427831490763e-08,\n",
       " 'ap/pitch-leadlag-lp': -0.00037005049774364976,\n",
       " 'ap/pitch-auto': -0.025844640021994405,\n",
       " 'ap/elevator-cmd-norm': 0.14031067006746925,\n",
       " 'ap/velocity-error': 2.2737367544323206e-13,\n",
       " 'ap/theta-auto': 2.2737367544323207e-14,\n",
       " 'ap/yaw-pid/initial-integrator-value': 0.0,\n",
       " 'ap/yaw-pid-lp': 0.0,\n",
       " 'ap/yaw-auto': 0.0002091951125062251,\n",
       " 'ap/rudder-cmd-norm': 0.0007573899576671861,\n",
       " 'ap/h-error': -37990.21145321056,\n",
       " 'ap/h-leadlag': -0.00010854347211924114,\n",
       " 'ap/h-leadlag-lp': -0.0007180616246963062,\n",
       " 'ap/h-auto': 0.7296299036607402,\n",
       " 'ap/throttle-cmd-norm': 0.16673315207787176,\n",
       " 'ap/elevator_to_engine0': 0.0,\n",
       " 'ap/throttle_to_engine0': 0.16673315207787176,\n",
       " 'ap/aileron_to_engine0': -0.0,\n",
       " 'ap/rudder_to_engine0_yaw': 7.573899576671862e-05,\n",
       " 'ap/elevator_to_engine1': -0.0,\n",
       " 'ap/throttle_to_engine1': 0.16673315207787176,\n",
       " 'ap/aileron_to_engine1': -0.0,\n",
       " 'ap/rudder_to_engine1_yaw': 7.573899576671862e-05,\n",
       " 'ap/elevator_to_engine2': 0.0,\n",
       " 'ap/throttle_to_engine2': 0.16673315207787176,\n",
       " 'ap/aileron_to_engine2': 0.0,\n",
       " 'ap/rudder_to_engine2_yaw': 7.573899576671862e-05,\n",
       " 'ap/elevator_to_engine3': -0.0,\n",
       " 'ap/throttle_to_engine3': 0.16673315207787176,\n",
       " 'ap/aileron_to_engine3': 0.0,\n",
       " 'ap/rudder_to_engine3_yaw': 7.573899576671862e-05}"
      ]
     },
     "execution_count": 14,
     "metadata": {},
     "output_type": "execute_result"
    }
   ],
   "source": [
    "prop"
   ]
  },
  {
   "cell_type": "code",
   "execution_count": 241,
   "metadata": {},
   "outputs": [
    {
     "name": "stdout",
     "output_type": "stream",
     "text": [
      "0 states have been removed from the model\n"
     ]
    },
    {
     "data": {
      "text/latex": [
       "$$\\frac{1526}{s^2 + 5.268 s}$$"
      ],
      "text/plain": [
       "TransferFunction(array([1525.50012954]), array([1.   , 5.268, 0.   ]))"
      ]
     },
     "execution_count": 241,
     "metadata": {},
     "output_type": "execute_result"
    }
   ],
   "source": [
    "sys = control.ss(*linearize(\n",
    "    aircraft='F-35B-2',\n",
    "    states=['ic/u-fps','ic/v-fps','ic/w-fps'], # velocity and heading angle\n",
    "    states_deriv = ['accelerations/udot-ft_sec2','accelerations/vdot-ft_sec2','accelerations/wdot-ft_sec2'],\n",
    "    inputs=['fcs/elevator-cmd-norm'],\n",
    "    outputs=['ic/u-fps'],\n",
    "    \n",
    "#     ic=op_cruise,\n",
    "    dx=1e-3,\n",
    "    n_round=3\n",
    "))\n",
    "s = control.tf([1, 0], [1])\n",
    "rad2deg = 180/np.pi\n",
    "G_elev_to_pitch = rad2deg*clean_tf(control.minreal(control.ss2tf(sys), 1e-3))/s  # in degrees\n",
    "G_elev_to_pitch"
   ]
  },
  {
   "cell_type": "code",
   "execution_count": 6,
   "metadata": {},
   "outputs": [],
   "source": [
    "# Add the actuator \n",
    "# tau = 0.4\n",
    "# G_act = tau / (s + tau)\n",
    "# G_elev_to_pitch *= G_act\n",
    "# G_elev_to_pitch"
   ]
  },
  {
   "cell_type": "code",
   "execution_count": 7,
   "metadata": {},
   "outputs": [
    {
     "name": "stdout",
     "output_type": "stream",
     "text": [
      "gain margin:  inf\n",
      "phase margin (in degrees):  156.75768337632115\n",
      "Frequency for gain margin (at phase crossover, phase = -180 degrees):  nan\n",
      "Frequency for phase margin (at gain crossover, gain = 1):  1.1430218473672287\n"
     ]
    },
    {
     "name": "stderr",
     "output_type": "stream",
     "text": [
      "C:\\Users\\12646\\anaconda3\\lib\\site-packages\\control\\margins.py:322: RuntimeWarning: invalid value encountered in less_equal\n",
      "  w_180 = w_180[w180_resp <= 0.]\n",
      "C:\\Users\\12646\\anaconda3\\lib\\site-packages\\control\\margins.py:323: RuntimeWarning: invalid value encountered in less_equal\n",
      "  w180_resp = w180_resp[w180_resp <= 0.]\n"
     ]
    },
    {
     "data": {
      "image/png": "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\n",
      "text/plain": [
       "<Figure size 432x288 with 1 Axes>"
      ]
     },
     "metadata": {
      "needs_background": "light"
     },
     "output_type": "display_data"
    },
    {
     "data": {
      "image/png": "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\n",
      "text/plain": [
       "<Figure size 432x288 with 1 Axes>"
      ]
     },
     "metadata": {
      "needs_background": "light"
     },
     "output_type": "display_data"
    },
    {
     "data": {
      "image/png": "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\n",
      "text/plain": [
       "<Figure size 432x288 with 1 Axes>"
      ]
     },
     "metadata": {
      "needs_background": "light"
     },
     "output_type": "display_data"
    },
    {
     "data": {
      "image/png": "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\n",
      "text/plain": [
       "<Figure size 432x288 with 1 Axes>"
      ]
     },
     "metadata": {
      "needs_background": "light"
     },
     "output_type": "display_data"
    },
    {
     "data": {
      "image/png": "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\n",
      "text/plain": [
       "<Figure size 1080x504 with 4 Axes>"
      ]
     },
     "metadata": {
      "needs_background": "light"
     },
     "output_type": "display_data"
    },
    {
     "data": {
      "image/png": "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\n",
      "text/plain": [
       "<Figure size 432x288 with 1 Axes>"
      ]
     },
     "metadata": {
      "needs_background": "light"
     },
     "output_type": "display_data"
    }
   ],
   "source": [
    "# # Add the actuator \n",
    "# tau = 0.4\n",
    "# G_act = tau / (s + tau)\n",
    "# G_elev_to_pitch *= G_act\n",
    "# G_elev_to_pitch"
   ]
  },
  {
   "cell_type": "code",
   "execution_count": 242,
   "metadata": {},
   "outputs": [
    {
     "name": "stdout",
     "output_type": "stream",
     "text": [
      "gain margin:  inf\n",
      "phase margin (in degrees):  inf\n",
      "Frequency for gain margin (at phase crossover, phase = -180 degrees):  nan\n",
      "Frequency for phase margin (at gain crossover, gain = 1):  nan\n"
     ]
    },
    {
     "name": "stderr",
     "output_type": "stream",
     "text": [
      "C:\\Users\\Tomo\\anaconda3\\lib\\site-packages\\control\\margins.py:322: RuntimeWarning: invalid value encountered in less_equal\n",
      "  w_180 = w_180[w180_resp <= 0.]\n",
      "C:\\Users\\Tomo\\anaconda3\\lib\\site-packages\\control\\margins.py:323: RuntimeWarning: invalid value encountered in less_equal\n",
      "  w180_resp = w180_resp[w180_resp <= 0.]\n"
     ]
    },
    {
     "data": {
      "image/png": "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\n",
      "text/plain": [
       "<Figure size 432x288 with 1 Axes>"
      ]
     },
     "metadata": {
      "needs_background": "light"
     },
     "output_type": "display_data"
    },
    {
     "data": {
      "image/png": "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\n",
      "text/plain": [
       "<Figure size 432x288 with 1 Axes>"
      ]
     },
     "metadata": {
      "needs_background": "light"
     },
     "output_type": "display_data"
    },
    {
     "data": {
      "image/png": "iVBORw0KGgoAAAANSUhEUgAAAXgAAAEWCAYAAABsY4yMAAAAOXRFWHRTb2Z0d2FyZQBNYXRwbG90bGliIHZlcnNpb24zLjMuMiwgaHR0cHM6Ly9tYXRwbG90bGliLm9yZy8vihELAAAACXBIWXMAAAsTAAALEwEAmpwYAAAWR0lEQVR4nO3dfZBldX3n8fdnnkCeFoSODzwENVtKpARJlxp1iaIxYHxIqNXAmhhTbs26asTs1iaarZRmq3bXjXlwk4pJzSZETIhGEdRVYrA2EjW7YdODIA+D4irIk9BEEPCBYaa/+8c9Pd1zT0/P7Ttz+nafeb+quu495957fr9Th/nwq9/5nd8vVYUkqX82TLoCkqRuGPCS1FMGvCT1lAEvST1lwEtSTxnwktRTBrwk9ZQBLy0hSSX5kbV6PGkUBrwk9ZQBr15LclqSq5M8mOSmJK9q9l+d5F8v+t4bknyxef/5Zvf1SR5J8nNJXpTkziS/nuT+JLcled2i36/oeF2ftwSwadIVkLqSZDPwP4GLgZcBLwQ+kWR6ud9V1dlJCjijqr7WHOtFwBOBE4ATgecBVyaZqaqvrPR40mqwBa8+ex5wFPCeqtpZVX8LfAq48ACO+RtV9WhV/R3waeC1B6GeUicMePXZk4E7qmpu0b7bGbTAx/FAVX136FhPHrdyUtcMePXZ3cDJSRb/d34KcBfwXeCIRfufOMLxjkty5NCx7m7ej3M8qVMGvPrsGgbB+6tJNjf96K8EPgxcB5yf5Ihm+OIbh357L/DUJY75m0m2JPkXwCuAjzb7xz2e1BkDXr1VVTuBVwHnAfcD7wdeX1W3AL8H7GQQvJcAlw79/N3AJc3om/l+9m8BDzBotV8KvKk5FmMeT+pUXPBD2r+m9f8XVXXShKsijcwWvCT1lAEvST1lF40k9ZQteEnqqTU1VcEJJ5xQp5566qSrIUnrxvbt2++vqqmlPltTAX/qqacyMzMz6WpI0rqR5PZ9fdZpF02SX2lm8LsxyYeSHN5leZKkBZ0FfJITgbcB01V1OrARuKCr8iRJe+v6Jusm4HFJNjGYp+Pu/XxfknSQdBbwVXUX8NvAN4F7gO9U1VXD30uyNclMkpnZ2dmuqiNJh5wuu2iOA14NPIXBlKpHJvn54e9V1baqmq6q6ampJW8ES5LG0GUXzUuBb1TVbFU9BlwOPL/D8iRJi3QZ8N8EntdMnxrgJcCODsuTJC3S2Tj4qromyWXAtcAu4EvAtq7KA3h0126uvOEe7nrg++zcXeA0DJLWgSMO28SbfuJpB/24nT7oVFXvAt7VZRmL/YePfplPXr8wUCdZrZIlaXwnHHXY+gv41fSd7z3Gp2+4h9f/+A/zH3/6NLZs3EBMeEmHsN4E/Ffve5jdc8WLn/FDHLZp46SrI0kT15vZJL9x/2Cx+6ccf+R+vilJh4beBPz9jzwKwBP/mdPdSBL0KOAf+v4utmzawOGb7Z6RJOhTwP/gMY45vDe3FCTpgPUn4L//GMccvnnS1ZCkNaM/Af+DXRxtC16S9uhNwP9g524et8X+d0ma15uAf3T3HFsc/y5Je/Qm4HfummPLxt6cjiQdsN4k4s5du9myyakJJGlebwL+sd1lC16SFulNIu7cNceWTb05HUk6YL1JxJ27DXhJWqw3iTi4yeooGkma1+Wi209Pct2iv4eSvL2r8nbunmOzN1klaY8ul+z7CnAmQJKNwF3AFR2Vxc5dcxzmTVZJ2mO1EvElwP+rqtu7OPhjuwdrr9oHL0kLVisRLwA+tNQHSbYmmUkyMzs7O9bBH9s9B8BmW/CStEfniZhkC/Aq4KNLfV5V26pquqqmp6amxipjdw1a8Bs32AcvSfNWo8l7HnBtVd3bVQFzc4OA3+Ai25K0x2oE/IXso3vmYNk9ZwtekoZ1GvBJjgB+Eri8y3Lmu2g2GPCStEenK2RU1feA47ssA2BucI+VjXbRSNIevRh2snCTdcIVkaQ1pBeR6E1WSWrrRcB7k1WS2voR8I6Dl6SWXgR8lV00kjSsFwHfzFRgwEvSIj0JeEfRSNKwXkTinF00ktTSi4B3FI0ktfUj4J2qQJJaehHw8w86OVWBJC3oRcDbRSNJbf0IeG+ySlJLLwJ+z2yStuAlaY9eBLyzSUpSWy8i0dkkJamt6xWdjk1yWZJbkuxI8uNdlOODTpLU1umKTsB/Bz5TVf8yyRbgiC4KcRSNJLV1FvBJjgHOBt4AUFU7gZ1dlGULXpLauuyieSowC/xZki8l+ZMkR3ZR0G5H0UhSS5cBvwk4C/ijqno28F3gHcNfSrI1yUySmdnZ2bEKchSNJLV1GYl3AndW1TXN9mUMAn8vVbWtqqaranpqamqsguYX/IhdNJK0R2cBX1XfAu5I8vRm10uAm7spa/BqvEvSgq5H0fwycGkzgubrwC91UUhhC16ShnUa8FV1HTDdZRmDcgavxrskLejFbcn5gHeYpCQt6EXAz+25yTrhikjSGtKLgK9JV0CS1qBeBPx8wtuCl6QFvQh4R9FIUls/At5RNJLU0o+Ab15twEvSgn4E/J4WvAkvSfP6EfA4TFKShvUj4O2Dl6SWfgT8/BsTXpL26EXAzzfh7YOXpAW9CHhH0UhSWz8C3j54SWrpScD7JKskDetHwDevxrskLehHwDvZmCS1dLqiU5LbgIeB3cCuqupkdaeFFrwJL0nzul6TFeDFVXV/lwWUd1klqaUXXTTz7KKRpAVdB3wBVyXZnmTrUl9IsjXJTJKZ2dnZ8QqxAS9JLV0H/Auq6izgPOAtSc4e/kJVbauq6aqanpqaGqsQF/yQpLZOA76q7m5e7wOuAJ7TTTmDV+NdkhZ0FvBJjkxy9Px74GXAjV2U5VQFktTW5SiaJwBXNN0mm4C/rKrPdFGQC35IUtt+Az7J45fY/XBVPbbc76rq68AZ41ZsJVzwQ5LaRumiuRaYBb4K3Nq8/0aSa5P8WJeVG1XV/r8jSYeaUQL+M8DLq+qEqjqewYiYjwBvBt7fZeVWaoNNeEnaY5SAn66qv5nfqKqrgLOr6h+Awzqr2QrMzdlFI0nDRrnJ+u0kvwZ8uNn+OeCBJBuBuc5qtgLOJilJbaO04P8VcBLw8ebv5GbfRuC1XVVsJRZmkzTiJWneflvwzURhv5zkqKp6ZOjjr3VTrZXZM4pmwvWQpLVkvy34JM9PcjNwc7N9RpI1dXPV+eAlqW2ULprfA34K+CeAqroeaM0pM0kLT7Ka8JI0b6SpCqrqjqFduzuoy/gcCC9JLaOMorkjyfOBSrIFeBuwo9tqrUxh94wkDRulBf8m4C3AicCdwJnN9ppR5Q1WSRo26iia161CXcZWlP3vkjRknwGf5A9YuH/ZUlVv66RGY7AFL0lty3XRzADbgcOBsxhMNHYrgy6aNXWT1T54SWrbZwu+qi4BSPIG4MXz0wMn+WPgqlWp3YgGLXgTXpIWG+Um65OBoxdtH9XsWzMK+2gkadgowyTfA3wpyeea7Z8A3j1qAc2kZDPAXVX1ihXXcBTmuyS1jDKK5s+S/DXw3GbXO6rqWyso4yIG4+aPGaN+I7EPXpLaRn2S9VtV9Ynmb+RwT3IS8NPAn4xbwVFUlX3wkjRkpIA/AO8DfpVl5o1PsjXJTJKZ2dnZsQqpsgUvScM6C/gkrwDuq6rty32vqrZV1XRVTU9NTY1VVmEfvCQN67IF/wLgVUluY7Aa1DlJ/qKLggYteCNekhZbccAn2dH8vXW571XVO6vqpKo6FbgA+Nuq+vkx67msomzBS9KQUYZJ7qWqTktyAgujaiau7KORpJYVBzzsmYDs0yv4/tXA1eOUNSrzXZL2NsqSfecnuTXJd5I8lOThJA+tRuVGVeVskpI0bJQW/G8Br6yqNbXIx2I+6CRJbaPcZL13LYc7OF2wJC1lufngz2/eziT5K+DjwKPzn1fV5d1WbXQu+CFJbct10bxy0fvvAS9btF3A2gn4gg3muyTtZbn54H9pNStyIOYK7KSRpL2NMormkiTHLto+LsnFndZqxcqbrJI0ZJSbrM+qqgfnN6rqAeDZndVoDN5klaS2UQJ+Q5Lj5jeSPJ4xH5DqirNJSlLbKEH9O8D/TnIZg5urrwX+S6e1WqHBXDQmvCQtNsqKTh9MMgOcw6An5Pyqurnzmq2ALXhJattvwCf586r6BeDmJfatCc41Jklto/TBP3PxRrOI9o91U53xOB+8JLXtM+CTvDPJw8CzFk0y9jBwH/CJVavhCIqadBUkac3ZZ8BX1X+tqqOB91bVMVV1dPN3fFW9cxXruH/2wUtSy3Jz0Tyjqm4BPprkrOHPq+raTmu2As4mKUlty91k/XfAVgbDJIcVg1E1a0KVwyQladhyc9FsbV5fPM6BkxwOfB44rCnnsqp61zjH2h9b8JLUNsowycOBNwMvZJClXwD+uKp+sJ+fPgqcU1WPJNkMfDHJX1fVPxxopYc5VYEktY3yJOsHgYeBP2i2LwT+HHjNcj+qqgIeaTY3N3+dDHcZtOCNeElabJSAf3pVnbFo+3NJrh/l4M2Y+e3AjwB/WFXXLPGdrQz6+jnllFNGOWzLoA9ekrTYKA86fSnJ8+Y3kjwX+PtRDl5Vu6vqTOAk4DlJTl/iO9uqarqqpqempkas9tAxwD4aSRoySgv+ucDrk3yz2T4F2JHkBgY9Mc/a3wGq6sEkVwPnAjeOW9l9F2C+S9KwUQL+3HEOnGQKeKwJ98cBLwX+2zjH2h/XZJWktlFmk7x9zGM/Cbik6YffAHykqj415rGW5SgaSWrrbOGOqvoyq7Tyk9MFS1LbKDdZ1zwX/JCktn4EvC14SWrpR8BPugKStAb1I+Bd8EOSWnoR8OCTrJI0rBcBbx+8JLX1I+CBDSa8JO2lFwE/V2ULXpKG9CLgfZJVktr6EfBgJ7wkDelHwDsfvCS19CLgwQa8JA3rRcDbBy9Jbf0IeOeDl6SWfgS8LXhJaulPwJvwkrSXzgI+yclJPpdkR5KbklzUVVnOBy9JbZ2t6ATsAv59VV2b5Ghge5LPVtXNB7ugKuyjkaQhnbXgq+qeqrq2ef8wsAM4sZOyMN8ladiq9MEnOZXB+qzXLPHZ1iQzSWZmZ2fHK8A+eElq6TzgkxwFfAx4e1U9NPx5VW2rqumqmp6amhqrDPvgJamt04BPsplBuF9aVZd3VY6jaCSprctRNAH+FNhRVb/bVTnQ9MEb8JK0ly5b8C8AfgE4J8l1zd/LuyhoMNmYCS9Ji3U2TLKqvsgqDW6xBS9Jbb15klWStLd+BDw42ZgkDelFwOOCH5LU0ouAtw9ektr6EfBOFyxJLf0IeBf8kKSWfgS8LXhJaulPwJvwkrSXfgQ8DpOUpGH9CHiHSUpSS08C3i4aSRrWj4B3PnhJaulHwNuCl6SWfgQ8BrwkDetHwDsfvCS19CPgwSedJGlIl0v2XZzkviQ3dlXGHj7JKkktXbbgPwCc2+Hx9/BBJ0lq6yzgq+rzwLe7Ov5QWbbgJWlIb/rgbcBL0t4mHvBJtiaZSTIzOzs71jGcTVKS2iYe8FW1raqmq2p6ampqvGM4H7wktUw84A8GW/CS1NblMMkPAf8HeHqSO5O8sauyqjDhJWnIpq4OXFUXdnXspfgkqyTtrSddNOUoGkka0o+Axx4aSRrWj4B3umBJaulHwLvghyS19CPgbcFLUks/Ah4DXpKG9SPgnRBeklp6EfDgMElJGtaLgHeqAklq60fAYx+8JA3rR8C76LYktfQj4IEN5rsk7aUXAT8353zwkjSsFwFfk66AJK1BvQh4fJJVklp6EfCD2SRNeElarB8B73zwktTSacAnOTfJV5J8Lck7uirH+eAlqa3LNVk3An8InAf8KHBhkh/toixnk5Skti5b8M8BvlZVX6+qncCHgVd3UVDhMElJGtZlwJ8I3LFo+85m316SbE0yk2RmdnZ2rILOfeYTOe1JR49XS0nqqU0dHnupJnVryHpVbQO2AUxPT481pP19Fzx7nJ9JUq912YK/Ezh50fZJwN0dlidJWqTLgP9H4J8neUqSLcAFwCc7LE+StEhnXTRVtSvJW4G/ATYCF1fVTV2VJ0naW5d98FTVlcCVXZYhSVpaL55klSS1GfCS1FMGvCT1lAEvST2VqrWzXEaSWeD2MX9+AnD/QazOJPXlXPpyHuC5rEV9OQ84sHP54aqaWuqDNRXwByLJTFVNT7oeB0NfzqUv5wGey1rUl/OA7s7FLhpJ6ikDXpJ6qk8Bv23SFTiI+nIufTkP8FzWor6cB3R0Lr3pg5ck7a1PLXhJ0iIGvCT11LoP+NVa2Hs1JLktyQ1JrksyM+n6rESSi5Pcl+TGRfsen+SzSW5tXo+bZB1HtY9zeXeSu5prc12Sl0+yjqNIcnKSzyXZkeSmJBc1+9fddVnmXNbjdTk8yf9Ncn1zLr/Z7D/o12Vd98E3C3t/FfhJBguM/CNwYVXdPNGKjSnJbcB0Va27hzeSnA08Anywqk5v9v0W8O2qek/zP9/jqurXJlnPUezjXN4NPFJVvz3Juq1EkicBT6qqa5McDWwHfgZ4A+vsuixzLq9l/V2XAEdW1SNJNgNfBC4CzucgX5f13oJftYW9tbyq+jzw7aHdrwYuad5fwuAf5Jq3j3NZd6rqnqq6tnn/MLCDwbrI6+66LHMu604NPNJsbm7+ig6uy3oP+JEW9l5HCrgqyfYkWyddmYPgCVV1Dwz+gQI/NOH6HKi3Jvly04Wz5rs1FktyKvBs4BrW+XUZOhdYh9clycYk1wH3AZ+tqk6uy3oP+JEW9l5HXlBVZwHnAW9pugq0NvwR8DTgTOAe4HcmWpsVSHIU8DHg7VX10KTrcyCWOJd1eV2qandVnclgrernJDm9i3LWe8D3amHvqrq7eb0PuIJBF9R6dm/Tdzrfh3rfhOsztqq6t/lHOQf8D9bJtWn6eD8GXFpVlze71+V1Wepc1ut1mVdVDwJXA+fSwXVZ7wHfm4W9kxzZ3DwiyZHAy4Abl//VmvdJ4Beb978IfGKCdTkg8//wGj/LOrg2zc28PwV2VNXvLvpo3V2XfZ3LOr0uU0mObd4/DngpcAsdXJd1PYoGoBkW9T4WFvb+z5Ot0XiSPJVBqx0Ga+X+5Xo6lyQfAl7EYNrTe4F3AR8HPgKcAnwTeE1Vrfmbl/s4lxcx6AYo4Dbg38z3l65VSV4IfAG4AZhrdv86g77rdXVdljmXC1l/1+VZDG6ibmTQyP5IVf2nJMdzkK/Lug94SdLS1nsXjSRpHwx4SeopA16SesqAl6SeMuAlqacMeB1Skhyb5M2Troe0Ggx4HWqOBQx4HRIMeB1q3gM8rZk7/L37+lIzGdQHktzYzNH/K83+pyX5TDMh3BeSPKPZ/4QkVzRzfF+f5PmrdD7SPm2adAWkVfYO4PRmoqflnAmcuGg++GOb/duAN1XVrUmeC7wfOAf4feDvqupnm3UKjuqg7tKK+CSrDinNVLOfmg/uZb53HDADXAl8GrgKOAKYBb6y6KuHVdVpSWaBk6rq0U4qLo3BFry0hKp6IMkZwE8Bb2GwctDbgQdHaP1La4J98DrUPAwcvXhHkluGv5TkBGBDVX0M+A3grGb+8W8keU3znTT/EwD4X8C/bfZvTHJMh+cgjcSA1yGlqv4J+Pvm5ul7myBfauGYE4Grm1V3PgC8s9n/OuCNSa4HbmJhiciLgBcnuYHBeqHP7O4spNHYB69DWpJXAE+tqt+fdF2kg82Al6SesotGknrKgJeknjLgJamnDHhJ6ikDXpJ6yoCXpJ76/8A0MQAOwLvdAAAAAElFTkSuQmCC\n",
      "text/plain": [
       "<Figure size 432x288 with 1 Axes>"
      ]
     },
     "metadata": {
      "needs_background": "light"
     },
     "output_type": "display_data"
    },
    {
     "data": {
      "image/png": "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\n",
      "text/plain": [
       "<Figure size 432x288 with 1 Axes>"
      ]
     },
     "metadata": {
      "needs_background": "light"
     },
     "output_type": "display_data"
    },
    {
     "data": {
      "image/png": "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\n",
      "text/plain": [
       "<Figure size 1080x504 with 4 Axes>"
      ]
     },
     "metadata": {
      "needs_background": "light"
     },
     "output_type": "display_data"
    },
    {
     "data": {
      "image/png": "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\n",
      "text/plain": [
       "<Figure size 432x288 with 1 Axes>"
      ]
     },
     "metadata": {
      "needs_background": "light"
     },
     "output_type": "display_data"
    }
   ],
   "source": [
    "# !! <<<< THESE ARE FOR HOVER \n",
    "# PD gains to lead-lag gains \n",
    "Kp = 0.01\n",
    "Kd = 0.0001\n",
    "N = 5\n",
    "\n",
    "c1 = N*Kd + Kp\n",
    "c2 = N*Kp\n",
    "c3 = 1\n",
    "c4 = N\n",
    "\n",
    "# >>>> SUBJECT TO CHANGE !!\n",
    "\n",
    "\n",
    "\n",
    "\n",
    "H_elev_to_pitch = (c1 * s + c2) / (c3 * s + c4)\n",
    "# H_elev_to_pitch = 1 + 0.01*s\n",
    "\n",
    "plt.figure()\n",
    "rootlocus(G_elev_to_pitch*H_elev_to_pitch)\n",
    "plt.plot([0, -1], [0, 1], '--')\n",
    "\n",
    "plt.figure()\n",
    "rootlocus(G_elev_to_pitch*H_elev_to_pitch)\n",
    "plt.xlim([-1.5, 0])\n",
    "plt.plot([0, -1], [0, 1], '--')\n",
    "\n",
    "# Close loop transfer function\n",
    "Gc_elev_to_pitch = G_elev_to_pitch*H_elev_to_pitch/(1 + G_elev_to_pitch*H_elev_to_pitch)\n",
    "\n",
    "plt.figure()\n",
    "step_size = 10\n",
    "t, y = control.step_response(step_size*Gc_elev_to_pitch, T=np.linspace(0, 30, 1000))\n",
    "plt.plot(t, y)\n",
    "plt.ylabel('pitch, deg')\n",
    "plt.xlabel('t, sec')\n",
    "plt.title('output')\n",
    "\n",
    "plt.figure()\n",
    "# actual error was computed in radians, so, converting back here\n",
    "e = np.deg2rad(step_size-y)\n",
    "t, u, _= control.forced_response(H_elev_to_pitch, T=t, U=e)\n",
    "plt.plot(t, u)\n",
    "plt.hlines([-1, 1], t[0], t[-1], linestyles='dashed')\n",
    "plt.title('input')\n",
    "plt.ylabel('elevator, norm')\n",
    "plt.xlabel('t, sec')\n",
    "\n",
    "plt.figure(figsize=(15, 7))\n",
    "control.gangof4(G_elev_to_pitch, H_elev_to_pitch, Hz=True, dB=True)\n",
    "\n",
    "plt.figure()\n",
    "control.nyquist(Gc_elev_to_pitch, omega=np.logspace(-3, 3, 1000))\n",
    "\n",
    "gm, pm, wg, wp = control.margin(Gc_elev_to_pitch)\n",
    "print('gain margin: ', gm)\n",
    "print('phase margin (in degrees): ', pm)\n",
    "print('Frequency for gain margin (at phase crossover, phase = -180 degrees): ', wg)\n",
    "print('Frequency for phase margin (at gain crossover, gain = 1): ', wp)"
   ]
  },
  {
   "cell_type": "markdown",
   "metadata": {},
   "source": [
    "## Roll"
   ]
  },
  {
   "cell_type": "code",
   "execution_count": null,
   "metadata": {},
   "outputs": [],
   "source": [
    "sys = control.ss(*linearize(\n",
    "    aircraft='F-35B-2',\n",
    "    states=['ic/p-rad_sec'],\n",
    "    states_deriv = ['accelerations/pdot-rad_sec2'],\n",
    "    inputs=['fcs/aileron-cmd-norm'],\n",
    "    outputs=['ic/p-rad_sec'],\n",
    "    ic=op_cruise,\n",
    "    dx=1e-3,\n",
    "    n_round=3\n",
    "))\n",
    "rad2deg = 180/np.pi\n",
    "s = control.tf([1, 0], [1])\n",
    "G_aileron_to_roll = rad2deg*clean_tf(control.minreal(control.ss2tf(sys), 1e-3))/s\n",
    "G_aileron_to_roll"
   ]
  },
  {
   "cell_type": "code",
   "execution_count": null,
   "metadata": {},
   "outputs": [],
   "source": [
    "# Add the actuator \n",
    "tau = 0.4\n",
    "G_act = tau / (s + tau)\n",
    "G_aileron_to_roll *= G_act\n",
    "G_aileron_to_roll"
   ]
  },
  {
   "cell_type": "code",
   "execution_count": null,
   "metadata": {},
   "outputs": [],
   "source": [
    "# !! <<<< THESE ARE FOR HOVER \n",
    "# PD gains to lead-lag gains \n",
    "Kp = 7.66302615547072e-10\n",
    "Kd = 0.0076620813293718\n",
    "N = 505.040986830046\n",
    "\n",
    "c1 = N*Kd + Kp\n",
    "c2 = N*Kp\n",
    "c3 = 1\n",
    "c4 = N\n",
    "\n",
    "# >>>> SUBJECT TO CHANGE !!\n",
    "\n",
    "\n",
    "\n",
    "H_aileron_to_roll = (c1 * s + c2) / (c3 * s + c4)\n",
    "\n",
    "plt.figure()\n",
    "rootlocus(G_aileron_to_roll*H_aileron_to_roll)\n",
    "plt.plot([0, -1], [0, 1], '--')\n",
    "\n",
    "plt.figure()\n",
    "rootlocus(G_aileron_to_roll*H_aileron_to_roll)\n",
    "plt.xlim([-1.5, 0])\n",
    "plt.plot([0, -1], [0, 1], '--')\n",
    "\n",
    "Gc_aileron_to_roll  = G_aileron_to_roll*H_aileron_to_roll/(1 + G_aileron_to_roll*H_aileron_to_roll)\n",
    "\n",
    "\n",
    "plt.figure()\n",
    "step_size = 10\n",
    "t, y = control.step_response(step_size*Gc_aileron_to_roll, T=np.linspace(0, 30, 1000))\n",
    "plt.plot(t, y)\n",
    "plt.xlabel('t, sec')\n",
    "plt.ylabel('roll, deg')\n",
    "plt.title('output')\n",
    "\n",
    "plt.figure()\n",
    "# actual error was computed in radians, so, converting back here\n",
    "e = np.deg2rad(step_size-y)\n",
    "t, u, _= control.forced_response(H_aileron_to_roll, T=t, U=e)\n",
    "plt.hlines([-0.1, 0.1], t[0], t[-1], linestyles='dashed')\n",
    "plt.plot(t, u)\n",
    "plt.xlabel('t, sec')\n",
    "plt.ylabel('aileron %')\n",
    "plt.title('input')\n",
    "\n",
    "plt.figure()\n",
    "control.nyquist(Gc_aileron_to_roll, omega=np.logspace(-3, 3, 1000))\n",
    "\n",
    "plt.figure(figsize=(15, 7))\n",
    "control.gangof4(G_aileron_to_roll, H_aileron_to_roll, Hz=True, dB=True)\n",
    "\n",
    "gm, pm, wg, wp = control.margin(Gc_aileron_to_roll)\n",
    "print('gain margin: ', gm)\n",
    "print('phase margin (in degrees): ', pm)\n",
    "print('Frequency for gain margin (at phase crossover, phase = -180 degrees): ', wg)\n",
    "print('Frequency for phase margin (at gain crossover, gain = 1): ', wp)"
   ]
  },
  {
   "cell_type": "markdown",
   "metadata": {},
   "source": [
    "## Yaw"
   ]
  },
  {
   "cell_type": "code",
   "execution_count": null,
   "metadata": {},
   "outputs": [],
   "source": [
    "sys1 = control.ss(*linearize(\n",
    "    aircraft='F-35B-2',\n",
    "    states=['ic/r-rad_sec'],\n",
    "    states_deriv = ['accelerations/rdot-rad_sec2'],\n",
    "    inputs=['propulsion/engine/pitch-angle-rad'],\n",
    "    outputs=['ic/r-rad_sec'],\n",
    "    ic=op_hover,\n",
    "    dx=1e-3,\n",
    "    n_round=3\n",
    "))\n",
    "s = control.tf([1, 0], [1])\n",
    "\n",
    "# # G_rudder_to_yaw = -clean_tf(control.minreal(control.ss2tf(sys), 1e-3))/s\n",
    "# print(sys)\n",
    "# temp = scysig.ss2tf(sys.A, sys.B, sys.C, sys.D)\n",
    "# print(temp)\n",
    "\n",
    "G_rudder_to_yaw1 = -clean_tf(control.minreal(control.ss2tf(sys1), 1e-3))/s\n",
    "G_rudder_to_yaw1"
   ]
  },
  {
   "cell_type": "markdown",
   "metadata": {},
   "source": [
    "## Altitude "
   ]
  },
  {
   "cell_type": "code",
   "execution_count": null,
   "metadata": {},
   "outputs": [],
   "source": [
    "sys = control.ss(*linearize(\n",
    "    aircraft='F-35B-2',\n",
    "    states=['ic/w-fps'],\n",
    "    states_deriv = ['accelerations/wdot-ft_sec2'],\n",
    "    inputs=['fcs/throttle-cmd-norm'],\n",
    "    outputs=['ic/w-fps'],\n",
    "    ic=op_cruise,\n",
    "    dx=1e-3,\n",
    "    n_round=3\n",
    "))\n",
    "G_throttle_to_alt = -clean_tf(control.minreal(control.ss2tf(sys), 1e-3))/s\n",
    "G_throttle_to_alt"
   ]
  },
  {
   "cell_type": "code",
   "execution_count": null,
   "metadata": {},
   "outputs": [],
   "source": [
    "# Add the actuator \n",
    "tau = 0.4\n",
    "G_act = tau / (s + tau)\n",
    "G_throttle_to_alt *= G_act\n",
    "G_throttle_to_alt"
   ]
  },
  {
   "cell_type": "code",
   "execution_count": null,
   "metadata": {},
   "outputs": [],
   "source": [
    "# !! <<<< THESE ARE FOR HOVER \n",
    "# PD gains to lead-lag gains \n",
    "Kp = 9.11459759968896e-10\n",
    "Kd = 0.00911454537591535\n",
    "N = 27.8343628363698\n",
    "\n",
    "c1 = N*Kd + Kp\n",
    "c2 = N*Kp\n",
    "c3 = 1\n",
    "c4 = N\n",
    "\n",
    "# >>>> SUBJECT TO CHANGE !!\n",
    "\n",
    "\n",
    "\n",
    "\n",
    "\n",
    "\n",
    "H_throttle_to_alt = (c1 * s + c2) / (c3 * s + c4)\n",
    "\n",
    "\n",
    "plt.figure()\n",
    "rootlocus(G_throttle_to_alt*H_throttle_to_alt)\n",
    "plt.plot([0, -1], [0, 1], '--')\n",
    "\n",
    "plt.figure()\n",
    "rootlocus(G_throttle_to_alt*H_throttle_to_alt)\n",
    "plt.xlim([-1.2, 0])\n",
    "plt.plot([0, -1], [0, 1], '--')\n",
    "\n",
    "Gc_throttle_to_alt = G_throttle_to_alt*H_throttle_to_alt/(1 + G_throttle_to_alt*H_throttle_to_alt)\n",
    "\n",
    "plt.figure()\n",
    "step_size = 10\n",
    "t, y = control.step_response(step_size*Gc_throttle_to_alt, T=np.linspace(0, 40, 1000))\n",
    "plt.plot(t, y)\n",
    "plt.xlabel('t, sec')\n",
    "plt.ylabel('altitude, ft')\n",
    "plt.title('output')\n",
    "\n",
    "plt.figure()\n",
    "# error computed in ft\n",
    "e = step_size-y\n",
    "t, u, _= control.forced_response(H_throttle_to_alt, T=t, U=e)\n",
    "plt.hlines([-0.1, 0.1], t[0], t[-1], linestyles='dashed')\n",
    "plt.plot(t, u)\n",
    "plt.xlabel('t, sec')\n",
    "plt.ylabel('throtle %')\n",
    "plt.title('input')\n",
    "\n",
    "plt.figure()\n",
    "control.nyquist(Gc_throttle_to_alt, omega=np.logspace(-3, 3, 1000))\n",
    "\n",
    "plt.figure(figsize=(15, 7))\n",
    "control.gangof4(G_throttle_to_alt, H_throttle_to_alt, Hz=True, dB=True)\n",
    "\n",
    "\n",
    "gm, pm, wg, wp = control.margin(Gc_throttle_to_alt)\n",
    "print('gain margin: ', gm)\n",
    "print('phase margin (in degrees): ', pm)\n",
    "print('Frequency for gain margin (at phase crossover, phase = -180 degrees): ', wg)\n",
    "print('Frequency for phase margin (at gain crossover, gain = 1): ', wp)"
   ]
  }
 ],
 "metadata": {
  "kernelspec": {
   "display_name": "Python 3",
   "language": "python",
   "name": "python3"
  },
  "language_info": {
   "codemirror_mode": {
    "name": "ipython",
    "version": 3
   },
   "file_extension": ".py",
   "mimetype": "text/x-python",
   "name": "python",
   "nbconvert_exporter": "python",
   "pygments_lexer": "ipython3",
   "version": "3.8.5"
  },
  "metadata": {
   "interpreter": {
    "hash": "f1b82cffc61be27678f1d47a128eaa4a669f389d3430f480176844fbc028fe63"
   }
  }
 },
 "nbformat": 4,
 "nbformat_minor": 5
}
