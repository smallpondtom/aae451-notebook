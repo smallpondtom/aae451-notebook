{
 "cells": [
  {
   "cell_type": "code",
   "execution_count": 15,
   "metadata": {},
   "outputs": [
    {
     "name": "stdout",
     "output_type": "stream",
     "text": [
      "The autoreload extension is already loaded. To reload it, use:\n",
      "  %reload_ext autoreload\n"
     ]
    }
   ],
   "source": [
    "%load_ext autoreload\n",
    "%autoreload 2\n",
    "# pull in new changes to python modules without having to restart notebook\n",
    "\n",
    "import matplotlib.pyplot as plt\n",
    "import numpy as np\n",
    "import pandas as pd\n",
    "import matplotlib.pyplot as plt\n",
    "import json \n",
    "from jsbsim_utils import Logger, trim, simulate, linearize, rootlocus, clean_tf\n",
    "import control "
   ]
  },
  {
   "cell_type": "code",
   "execution_count": 16,
   "metadata": {},
   "outputs": [],
   "source": [
    "all_data = dict()"
   ]
  },
  {
   "cell_type": "markdown",
   "metadata": {},
   "source": [
    "Nonlinear-dynamics of aircraft\n",
    "\n",
    "$$\\dot{x} = f(x, u)$$\n",
    "\n",
    "Find equilibrium:\n",
    "\n",
    "Minimize $\\dot{x}$, or a subset for your problem, by changeing $x_0$, $u_0$\n",
    "\n",
    "$$0 = f(x_0, u_0)$$\n",
    "\n",
    "This is an optimization problem.\n",
    "\n",
    "* Matlab: fmincon, fminsearch\n",
    "* Python: scipy.minimize (Nelder-Mead, SLSQP)\n",
    "\n",
    "Can simplify this problem with mixing matrices, to decouple the dynamcis into SISO (single-input-single output) systems."
   ]
  },
  {
   "cell_type": "markdown",
   "metadata": {},
   "source": [
    "Due to Taylor series error on the order of (dx^2). We know the linear model approx, does well near the equilibrium point. "
   ]
  },
  {
   "cell_type": "markdown",
   "metadata": {},
   "source": [
    "$\\dot{\\vec{x}} = \\vec{f}(x, u) = A \\vec{x} + B \\vec{u}$\n",
    "\n",
    "$\\dot{\\vec{y}} = C \\vec{x} + D \\vec{u}$\n",
    "\n",
    "\n",
    "$A = \\dfrac{\\delta \\vec{f}(x0, u0)}{\\delta \\vec{x}}$\n",
    "\n",
    "$B = \\dfrac{\\delta \\vec{f}(x0, u0)}{\\delta \\vec{u}}$\n",
    "\n",
    "$C = \\dfrac{\\delta \\vec{y}(x0, u0)}{\\delta \\vec{x}}$\n",
    "\n",
    "$D = \\dfrac{\\delta \\vec{y}(x0, u0)}{\\delta \\vec{u}}$"
   ]
  },
  {
   "cell_type": "markdown",
   "metadata": {},
   "source": [
    "## Ground Trimming "
   ]
  },
  {
   "cell_type": "code",
   "execution_count": 17,
   "metadata": {},
   "outputs": [
    {
     "name": "stdout",
     "output_type": "stream",
     "text": [
      " final_simplex: (array([[0.00752277, 3.11212156],\n",
      "       [0.00748106, 3.11221532],\n",
      "       [0.00754464, 3.11216313]]), array([4.51973002e-06, 8.14117197e-06, 1.67505423e-05]))\n",
      "           fun: 4.519730024921744e-06\n",
      "       message: 'Optimization terminated successfully.'\n",
      "          nfev: 80\n",
      "           nit: 43\n",
      "        status: 0\n",
      "       success: True\n",
      "             x: array([0.00752277, 3.11212156])\n",
      " final_simplex: (array([[0.00752277, 3.11212156],\n",
      "       [0.00748106, 3.11221532],\n",
      "       [0.00754464, 3.11216313]]), array([4.51973002e-06, 8.14117197e-06, 1.67505423e-05]))\n",
      "           fun: 4.519730024921744e-06\n",
      "       message: 'Optimization terminated successfully.'\n",
      "          nfev: 80\n",
      "           nit: 43\n",
      "        status: 0\n",
      "       success: True\n",
      "             x: array([0.00752277, 3.11212156])\n",
      "{'ic/vt-fps': 0, 'ic/psi-true-deg': 280, 'ap/gear-enable': 1, 'fcs/left-brake-cmd-norm': 1, 'fcs/right-brake-cmd-norm': 1, 'fcs/center-brake-cmd-norm': 1, 'ic/theta-rad': 0.007522769802197068, 'ic/h-agl-ft': 3.1121215601541055}\n",
      "{'forces/fbz-aero-lbs': -0.0, 'forces/fbz-weight-lbs': 11358.889135720807, 'forces/fbz-total-lbs': -57634.20787943273, 'forces/fbz-gear-lbs': -57634.20787943273, 'forces/fbz-prop-lbs': 0.0}\n",
      "{'forces/fbz-aero-lbs': -0.0, 'forces/fbz-weight-lbs': 11358.590010803779, 'forces/fbz-total-lbs': -11336.041172343454, 'forces/fbz-gear-lbs': -11336.041172343454, 'forces/fbz-prop-lbs': 0.0}\n"
     ]
    }
   ],
   "source": [
    "ct = 0\n",
    "temp = []\n",
    "def cost_ground(fdm):\n",
    "    # modify cost to also penalize throttle   \n",
    "    udot = fdm['accelerations/udot-ft_sec2']\n",
    "    vdot = fdm['accelerations/vdot-ft_sec2']\n",
    "    wdot = fdm['accelerations/wdot-ft_sec2']\n",
    "    pdot = fdm['accelerations/pdot-rad_sec2']\n",
    "    qdot = fdm['accelerations/qdot-rad_sec2']\n",
    "    rdot = fdm['accelerations/rdot-rad_sec2']\n",
    "    temp.append(fdm.get_property_catalog('fbz'))\n",
    "    return udot**2 + vdot**2 + wdot**2 + pdot**2 + qdot**2 + rdot**2  \n",
    "        \n",
    "op_ground, props, res = trim(\n",
    "    aircraft='F-35B-2',\n",
    "    ic={\n",
    "          'ic/vt-fps': 0,\n",
    "          'ic/psi-true-deg': 280,\n",
    "          'ap/gear-enable': 1,\n",
    "          'fcs/left-brake-cmd-norm': 1,\n",
    "          'fcs/right-brake-cmd-norm': 1,\n",
    "          'fcs/center-brake-cmd-norm': 1,\n",
    "#         'ic/vt-fps': 0,\n",
    "#         'gear/gear-cmd-norm': 1,\n",
    "#         'propulsion/engine/pitch-angle-rad': np.deg2rad(0),\n",
    "#         'fcs/throttle-cmd-norm': 0,\n",
    "#         'fcs/aileron-cmd-norm': 0,\n",
    "#         'fcs/elevator-cmd-norm': 0,\n",
    "#         'fcs/rudder-cmd-norm': 0,\n",
    "#         'fcs/left-brake-cmd-norm': 1,\n",
    "#         'fcs/right-brake-cmd-norm': 1,\n",
    "#         'fcs/center-brake-cmd-norm': 1,\n",
    "    },\n",
    "    design_vector=['ic/theta-rad', 'ic/h-agl-ft'],\n",
    "    x0=[0, 0.31],\n",
    "    verbose=True,\n",
    "    method='Nelder-Mead', # works better with ground interaction\n",
    "    tol=1e-12,\n",
    "    #bounds=[[np.deg2rad(-40), np.deg2rad(40)], [0, 20]],\n",
    "    cost=cost_ground,\n",
    ")\n",
    "\n",
    "print(res)\n",
    "print(op_ground)\n",
    "print(temp[0])\n",
    "print(temp[-1])\n",
    "\n",
    "data = dict()\n",
    "data['res'] = res\n",
    "data['op_ground'] = op_ground\n",
    "data['fbz_initial'] = temp[0]\n",
    "data['fbz_final'] = temp[-1]\n",
    "all_data = dict()\n",
    "all_data['groundTrim'] = data"
   ]
  },
  {
   "cell_type": "code",
   "execution_count": 18,
   "metadata": {},
   "outputs": [],
   "source": [
    "# log_ground = simulate(\n",
    "#     aircraft='F-35B-2',\n",
    "#     op_0=op_ground,\n",
    "#     tf=5,\n",
    "#     realtime=True)"
   ]
  },
  {
   "cell_type": "code",
   "execution_count": 19,
   "metadata": {},
   "outputs": [],
   "source": [
    "# log_ground['position/h-agl-ft'].plot()\n",
    "# plt.grid(True)\n",
    "# plt.ylabel('ft, altitude')"
   ]
  },
  {
   "cell_type": "code",
   "execution_count": 20,
   "metadata": {},
   "outputs": [],
   "source": [
    "# log_ground['attitude/theta-deg'].plot()\n",
    "# plt.grid(True)\n",
    "# plt.ylabel('deg, aircraft pitch')"
   ]
  },
  {
   "cell_type": "markdown",
   "metadata": {},
   "source": [
    "## Hover Trimming"
   ]
  },
  {
   "cell_type": "code",
   "execution_count": 21,
   "metadata": {},
   "outputs": [
    {
     "name": "stdout",
     "output_type": "stream",
     "text": [
      "     fun: 0.929361866372507\n",
      "     jac: array([1., 0., 0., 0., 0., 0.])\n",
      " message: 'Optimization terminated successfully'\n",
      "    nfev: 28\n",
      "     nit: 4\n",
      "    njev: 4\n",
      "  status: 0\n",
      " success: True\n",
      "       x: array([0.92936187, 0.71734948, 1.57079641, 1.5707964 , 1.57079641,\n",
      "       1.5707964 ])\n",
      "constraint eq 6.793177131925177e-13\n",
      "constraint eq -2.0955823742951907e-09\n",
      "constraint eq 1.6212036530902444e-10\n",
      "{'ic/h-sl-ft': 650, 'ic/vt-fps': 0, 'ic/psi-true-deg': 0, 'ap/gear-enable': 1, 'fcs/throttle-cmd-norm': 0.929361866372507, 'fcs/elevator-cmd-norm': 0.7173494783548715, 'propulsion/engine/pitch-angle-rad': 1.5707964099772886, 'propulsion/engine[1]/pitch-angle-rad': 1.5707963999209869, 'propulsion/engine[2]/pitch-angle-rad': 1.570796409815362, 'propulsion/engine[3]/pitch-angle-rad': 1.5707964016066742}\n"
     ]
    }
   ],
   "source": [
    "op_hover, props, res = trim(\n",
    "    aircraft='F-35B-2',\n",
    "    ic={  \n",
    "          'ic/h-sl-ft': 650,\n",
    "          'ic/vt-fps': 0,\n",
    "          'ic/psi-true-deg': 0,\n",
    "          'ap/gear-enable': 1,\n",
    "#         'ic/h-agl-ft': 10,\n",
    "#         'ic/vd-fps': 0,\n",
    "#         'ic/vn-fps': 0*np.cos(np.deg2rad(280)),\n",
    "#         'ic/ve-fps': 0*np.sin(np.deg2rad(280)),\n",
    "#         'ic/theta-rad': 0,\n",
    "#         'gear/gear-cmd-norm': 1,\n",
    "#         'fcs/left-brake-cmd-norm': 0,\n",
    "#         'fcs/right-brake-cmd-norm': 0,\n",
    "#         'fcs/center-brake-cmd-norm': 0,\n",
    "    },\n",
    "    eq_constraints = [\n",
    "        lambda fdm: fdm['accelerations/udot-ft_sec2'],\n",
    "        #lambda fdm: fdm['accelerations/vdot-ft_sec2'],\n",
    "        lambda fdm: fdm['accelerations/wdot-ft_sec2'],\n",
    "        #lambda fdm: fdm['accelerations/pdot-rad_sec2'],\n",
    "        lambda fdm: fdm['accelerations/qdot-rad_sec2'],\n",
    "        #lambda fdm: fdm['accelerations/rdot-rad_sec2'],\n",
    "    ],\n",
    "    design_vector=[\n",
    "        'fcs/throttle-cmd-norm',\n",
    "        'fcs/elevator-cmd-norm',\n",
    "        'propulsion/engine/pitch-angle-rad',\n",
    "        'propulsion/engine[1]/pitch-angle-rad',\n",
    "        'propulsion/engine[2]/pitch-angle-rad',\n",
    "        'propulsion/engine[3]/pitch-angle-rad',\n",
    "    ],\n",
    "#     design_vector=[\n",
    "#         'fcs/throttle-cmd-norm',\n",
    "#         'fcs/elevator-cmd-norm',\n",
    "#         'propulsion/engine/pitch-angle-rad',\n",
    "#         'propulsion/engine[1]/pitch-angle-rad',\n",
    "#         'propulsion/engine[2]/pitch-angle-rad',\n",
    "#         'propulsion/engine[3]/pitch-angle-rad',\n",
    "#     ],\n",
    "    x0=[0.9, 0.2, np.deg2rad(90), np.deg2rad(90), np.deg2rad(90), np.deg2rad(90)],\n",
    "    cost= lambda fdm: fdm['fcs/throttle-cmd-norm'],\n",
    "    verbose=True,\n",
    "    method='SLSQP',\n",
    "    bounds=[[0, 1], [-1, 1], [np.deg2rad(0), np.deg2rad(120)], \n",
    "           [np.deg2rad(0), np.deg2rad(120)],\n",
    "           [np.deg2rad(0), np.deg2rad(120)],\n",
    "           [np.deg2rad(0), np.deg2rad(120)]],\n",
    "    tol=1e-12\n",
    ")\n",
    "\n",
    "print(op_hover)\n",
    "data1 = dict()\n",
    "data1['res'] = res\n",
    "data1['op_hover'] = op_hover\n",
    "all_data['hoverTrim'] = data1"
   ]
  },
  {
   "cell_type": "code",
   "execution_count": 22,
   "metadata": {},
   "outputs": [],
   "source": [
    "# log_hover = simulate(\n",
    "#     aircraft='F-35B-2',\n",
    "#     op_0=op_hover,\n",
    "#     tf=10,\n",
    "#     realtime=True)"
   ]
  },
  {
   "cell_type": "code",
   "execution_count": 23,
   "metadata": {},
   "outputs": [],
   "source": [
    "# log_hover['position/h-agl-ft'].plot()\n",
    "# plt.grid(True)\n",
    "# plt.ylabel('ft, altitude')"
   ]
  },
  {
   "cell_type": "code",
   "execution_count": 24,
   "metadata": {},
   "outputs": [],
   "source": [
    "# plt.subplot()\n",
    "# log_hover['propulsion/engine/thrust-lbs'].plot()\n",
    "# log_hover['propulsion/engine[1]/thrust-lbs'].plot()\n",
    "# log_hover['propulsion/engine[2]/thrust-lbs'].plot()\n",
    "# log_hover['propulsion/engine[3]/thrust-lbs'].plot()\n",
    "# plt.grid(True)\n",
    "# plt.legend(['rcp', 'rhp', 'lcp', 'lhp'])\n",
    "# plt.ylabel('lbs, engine thrusts')\n",
    "# plt.show()"
   ]
  },
  {
   "cell_type": "code",
   "execution_count": 25,
   "metadata": {},
   "outputs": [],
   "source": [
    "# plt.subplot()\n",
    "# log_hover['propulsion/engine/pitch-angle-rad'].plot()\n",
    "# log_hover['propulsion/engine[1]/pitch-angle-rad'].plot()\n",
    "# log_hover['propulsion/engine[2]/pitch-angle-rad'].plot()\n",
    "# log_hover['propulsion/engine[3]/pitch-angle-rad'].plot()\n",
    "# plt.grid(True)\n",
    "# plt.legend(['rcp', 'rhp', 'lcp', 'lhp'])\n",
    "# plt.ylabel('deg, engine pitch angle')\n",
    "# plt.show()"
   ]
  },
  {
   "cell_type": "markdown",
   "metadata": {},
   "source": [
    "## Hover Auto Pilot"
   ]
  },
  {
   "cell_type": "code",
   "execution_count": 26,
   "metadata": {},
   "outputs": [],
   "source": [
    "op_hover_auto = dict(op_hover)\n",
    "op_hover_auto['ic/theta-deg'] = 5\n",
    "op_hover_auto['ic/phi-deg'] = 5\n",
    "op_hover_auto['ic/h-agl-ft'] = 60\n",
    "\n",
    "op_hover_auto['ap/heading-cmd-deg'] = 280\n",
    "op_hover_auto['ap/gear-enable'] = 1\n",
    "op_hover_auto['ap/roll-enable'] = 1\n",
    "op_hover_auto['ap/pitch-enable'] = 1\n",
    "op_hover_auto['ap/yaw-enable'] = 0\n",
    "op_hover_auto['ap/h-enable'] = 1\n",
    "op_hover_auto['ap/h-sl-cmd-ft'] = 700\n",
    "\n",
    "# log_hover_auto = simulate(\n",
    "#     aircraft='F-35B-2',\n",
    "#     op_0=op_hover_auto,\n",
    "#     tf=20,\n",
    "#     realtime=False)"
   ]
  },
  {
   "cell_type": "code",
   "execution_count": 27,
   "metadata": {},
   "outputs": [],
   "source": [
    "# log_hover_auto['fcs/throttle-pos-norm'].plot(label='0')\n",
    "# log_hover_auto['fcs/throttle-pos-norm[1]'].plot(label='1')\n",
    "# log_hover_auto['fcs/throttle-pos-norm[2]'].plot(label='2')\n",
    "# log_hover_auto['fcs/throttle-pos-norm[3]'].plot(label='3')\n",
    "\n",
    "# plt.legend()"
   ]
  },
  {
   "cell_type": "markdown",
   "metadata": {},
   "source": [
    "## Cruise Trimming"
   ]
  },
  {
   "cell_type": "code",
   "execution_count": 28,
   "metadata": {},
   "outputs": [
    {
     "name": "stdout",
     "output_type": "stream",
     "text": [
      "     fun: -0.0658821910745617\n",
      "     jac: array([ 1.00028949e-01,  2.59588238e-01,  4.67710197e-06,  5.65499067e-06,\n",
      "       -4.25912814e+00,  4.25211880e-02])\n",
      " message: 'Optimization terminated successfully'\n",
      "    nfev: 36\n",
      "     nit: 5\n",
      "    njev: 5\n",
      "  status: 0\n",
      " success: True\n",
      "       x: array([0.16673315, 0.14031067, 0.00075739, 0.00022614, 0.02018319,\n",
      "       0.00122505])\n",
      "constraint eq 7.932099421736893e-12\n",
      "constraint eq 7.108341693040643e-13\n",
      "constraint eq -4.156675004196586e-12\n",
      "constraint eq 6.37390942161292e-14\n",
      "constraint eq -1.0761591720791191e-13\n",
      "constraint eq -2.1582568283586667e-13\n",
      "{'ic/gamma-rad': 0, 'ic/vt-fps': 677, 'ic/h-agl-ft': 38000.0, 'gear/gear-cmd-norm': 0, 'fcs/left-brake-cmd-norm': 0, 'fcs/right-brake-cmd-norm': 0, 'fcs/center-brake-cmd-norm': 0, 'propulsion/engine/pitch-angle-rad': 0, 'propulsion/engine[1]/pitch-angle-rad': 0, 'propulsion/engine[2]/pitch-angle-rad': 0, 'propulsion/engine[3]/pitch-angle-rad': 0, 'fcs/throttle-cmd-norm': 0.16673315207787176, 'fcs/elevator-cmd-norm': 0.14031067006746925, 'fcs/rudder-cmd-norm': 0.0007573899576671861, 'fcs/aileron-cmd-norm': 0.00022613538432062958, 'ic/alpha-rad': 0.020183191364411775, 'ic/beta-rad': 0.0012250540353381126}\n"
     ]
    }
   ],
   "source": [
    "def cost_cruise(fdm):\n",
    "    # modify cost to also penalize throttle\n",
    "    delta = fdm['propulsion/engine/pitch-angle-rad']\n",
    "    theta = fdm['attitude/theta-rad']\n",
    "    drag = fdm['forces/fwx-aero-lbs']\n",
    "    lift = fdm['forces/fwz-aero-lbs']\n",
    "    alpha = fdm['aero/alpha-rad']\n",
    "    throttle = fdm['fcs/throttle-cmd-norm']\n",
    "    \n",
    "    udot = fdm['accelerations/udot-ft_sec2']\n",
    "    vdot = fdm['accelerations/vdot-ft_sec2']\n",
    "    wdot = fdm['accelerations/wdot-ft_sec2']\n",
    "    pdot = fdm['accelerations/pdot-rad_sec2']\n",
    "    qdot = fdm['accelerations/qdot-rad_sec2']\n",
    "    rdot = fdm['accelerations/rdot-rad_sec2']\n",
    "    return udot**2 + vdot**2 + wdot**2 + pdot**2 + qdot**2 + rdot**2 - 1e-3*(lift/drag)**2 + 1e-3*(theta < 0) + 1e-1*throttle + 2e-1*delta**2 \n",
    "        \n",
    "\n",
    "op_cruise, prop, res = trim(\n",
    "    aircraft='F-35B-2',\n",
    "    ic={\n",
    "        'ic/gamma-rad': 0,\n",
    "        'ic/vt-fps': 677,\n",
    "        'ic/h-agl-ft': 38*1e3,\n",
    "        'gear/gear-cmd-norm': 0,\n",
    "        'fcs/left-brake-cmd-norm': 0,\n",
    "        'fcs/right-brake-cmd-norm': 0,\n",
    "        'fcs/center-brake-cmd-norm': 0,\n",
    "        'propulsion/engine/pitch-angle-rad': 0,\n",
    "        'propulsion/engine[1]/pitch-angle-rad': 0,\n",
    "        'propulsion/engine[2]/pitch-angle-rad': 0,\n",
    "        'propulsion/engine[3]/pitch-angle-rad': 0,\n",
    "    },\n",
    "#     design_vector=[\n",
    "#         'fcs/throttle-cmd-norm',\n",
    "#         'fcs/elevator-cmd-norm',\n",
    "#         'fcs/rudder-cmd-norm',\n",
    "#         'fcs/aileron-cmd-norm',\n",
    "#         'ic/alpha-rad',\n",
    "#         'ic/beta-rad',\n",
    "#         'propulsion/engine/pitch-angle-rad',\n",
    "#     ],\n",
    "#     cost=cost_cruise,\n",
    "    \n",
    "    design_vector=[\n",
    "        'fcs/throttle-cmd-norm',\n",
    "        'fcs/elevator-cmd-norm',\n",
    "        'fcs/rudder-cmd-norm',\n",
    "        'fcs/aileron-cmd-norm',\n",
    "        'ic/alpha-rad',\n",
    "        'ic/beta-rad',\n",
    "    ],\n",
    "    method='SLSQP',\n",
    "    eq_constraints= [\n",
    "        lambda fdm: fdm['accelerations/udot-ft_sec2'],\n",
    "        lambda fdm: fdm['accelerations/vdot-ft_sec2'],\n",
    "        lambda fdm: fdm['accelerations/wdot-ft_sec2'],\n",
    "        lambda fdm: fdm['accelerations/pdot-rad_sec2'],\n",
    "        lambda fdm: fdm['accelerations/qdot-rad_sec2'],\n",
    "        lambda fdm: fdm['accelerations/rdot-rad_sec2'],\n",
    "    ],\n",
    "#     cost=lambda fdm: fdm['fcs/throttle-cmd-norm'],\n",
    "    cost=cost_cruise,\n",
    "    x0=[0.4, 0, 0, 0, 0, 0],\n",
    "    verbose=True,\n",
    "    bounds=[[0, 1], [-1, 1], [-1, 1], [-1, 1], [-1, 1], [-1, 1]],\n",
    "    tol=1e-12,\n",
    ")\n",
    "print(op_cruise)\n",
    "\n",
    "data2 = dict()\n",
    "data2['res'] = res\n",
    "data2['op_cruise'] = op_cruise\n",
    "\n",
    "all_data['cruiseTrim'] = data2"
   ]
  },
  {
   "cell_type": "code",
   "execution_count": 29,
   "metadata": {},
   "outputs": [],
   "source": [
    "# log_cruise = simulate(\n",
    "#     aircraft='F-35B-2',\n",
    "#     op_0=op_cruise,\n",
    "#     tf=10,\n",
    "#     realtime=True)"
   ]
  },
  {
   "cell_type": "code",
   "execution_count": 30,
   "metadata": {},
   "outputs": [],
   "source": [
    "# plt.subplot()\n",
    "# log_cruise['propulsion/engine/pitch-angle-rad'].plot()\n",
    "# log_cruise['propulsion/engine[1]/pitch-angle-rad'].plot()\n",
    "# log_cruise['propulsion/engine[2]/pitch-angle-rad'].plot()\n",
    "# log_cruise['propulsion/engine[3]/pitch-angle-rad'].plot()\n",
    "# plt.grid(True)\n",
    "# plt.legend(['rcp', 'rhp', 'lcp', 'lhp'])\n",
    "# plt.ylabel('lb, pounds')\n",
    "# plt.show()"
   ]
  },
  {
   "cell_type": "code",
   "execution_count": 31,
   "metadata": {},
   "outputs": [],
   "source": [
    "# log_cruise['forces/fwx-aero-lbs'].plot()\n",
    "# plt.ylabel('lbs, drag')\n",
    "# plt.grid(True)"
   ]
  },
  {
   "cell_type": "code",
   "execution_count": 32,
   "metadata": {},
   "outputs": [],
   "source": [
    "# log_cruise['forces/fwy-aero-lbs'].plot()\n",
    "# plt.grid(True)\n",
    "# plt.ylabel('lbs, side-force')"
   ]
  },
  {
   "cell_type": "code",
   "execution_count": 33,
   "metadata": {},
   "outputs": [],
   "source": [
    "# log_cruise['forces/fwz-aero-lbs'].plot()\n",
    "# plt.grid(True)\n",
    "# plt.ylabel('lbs, lift')"
   ]
  },
  {
   "cell_type": "code",
   "execution_count": 34,
   "metadata": {},
   "outputs": [],
   "source": [
    "# log_cruise['aero/alpha-deg'].plot()\n",
    "# plt.ylabel('deg, angle of attack')\n",
    "# plt.grid(True)"
   ]
  },
  {
   "cell_type": "code",
   "execution_count": 35,
   "metadata": {},
   "outputs": [],
   "source": [
    "# log_cruise['fcs/elevator-pos-deg'].plot()\n",
    "# plt.grid(True)\n",
    "# plt.ylabel('deg, elevator angle')"
   ]
  },
  {
   "cell_type": "code",
   "execution_count": 36,
   "metadata": {},
   "outputs": [],
   "source": [
    "# plt.subplot()\n",
    "# log_cruise['fcs/left-aileron-pos-deg'].plot()\n",
    "# log_cruise['fcs/right-aileron-pos-deg'].plot()\n",
    "# plt.grid(True)\n",
    "# plt.legend(['left aileron', 'right aileron'])\n",
    "# plt.ylabel(\"deg, aileron angle\")\n",
    "# plt.show()"
   ]
  },
  {
   "cell_type": "code",
   "execution_count": 37,
   "metadata": {},
   "outputs": [],
   "source": [
    "# log_cruise['fcs/rudder-pos-deg'].plot()\n",
    "# plt.grid(True)\n",
    "# plt.ylabel('deg, rudder angle')"
   ]
  },
  {
   "cell_type": "code",
   "execution_count": 38,
   "metadata": {},
   "outputs": [],
   "source": [
    "# log_cruise['velocities/vt-fps'].plot()\n",
    "# plt.grid(True)\n",
    "# plt.ylabel(\"fps, velocity\")"
   ]
  },
  {
   "cell_type": "code",
   "execution_count": 39,
   "metadata": {},
   "outputs": [
    {
     "ename": "KeyError",
     "evalue": "'hess_inv'",
     "output_type": "error",
     "traceback": [
      "\u001b[1;31m---------------------------------------------------------------------------\u001b[0m",
      "\u001b[1;31mKeyError\u001b[0m                                  Traceback (most recent call last)",
      "\u001b[1;32m<ipython-input-39-871aa2a6bceb>\u001b[0m in \u001b[0;36m<module>\u001b[1;34m\u001b[0m\n\u001b[1;32m----> 1\u001b[1;33m \u001b[1;32mdel\u001b[0m \u001b[0mall_data\u001b[0m\u001b[1;33m[\u001b[0m\u001b[1;34m'cruiseTrim'\u001b[0m\u001b[1;33m]\u001b[0m\u001b[1;33m[\u001b[0m\u001b[1;34m'res'\u001b[0m\u001b[1;33m]\u001b[0m\u001b[1;33m[\u001b[0m\u001b[1;34m'hess_inv'\u001b[0m\u001b[1;33m]\u001b[0m\u001b[1;33m\u001b[0m\u001b[1;33m\u001b[0m\u001b[0m\n\u001b[0m",
      "\u001b[1;31mKeyError\u001b[0m: 'hess_inv'"
     ]
    }
   ],
   "source": [
    "del all_data['cruiseTrim']['res']['hess_inv']"
   ]
  },
  {
   "cell_type": "code",
   "execution_count": null,
   "metadata": {},
   "outputs": [],
   "source": [
    "del all_data['hoverTrim']['res']['hess_inv']"
   ]
  },
  {
   "cell_type": "code",
   "execution_count": null,
   "metadata": {},
   "outputs": [],
   "source": [
    "del all_data['cruiseTrim']['res']['message']\n",
    "del all_data['groundTrim']['res']['message']\n",
    "del all_data['hoverTrim']['res']['message']"
   ]
  },
  {
   "cell_type": "code",
   "execution_count": null,
   "metadata": {},
   "outputs": [],
   "source": [
    "# encode numpy array for JSON serializable\n",
    "class NumpyEncoder(json.JSONEncoder):\n",
    "    def default(self, obj):\n",
    "        if isinstance(obj, np.ndarray):\n",
    "            return obj.tolist()\n",
    "        return json.JSONEncoder.default(self, obj)\n",
    "\n",
    "# save all output as JSON file \n",
    "with open('jsbsim_opt.json', '+w') as jfile:\n",
    "    json.dump(all_data, jfile, indent=4, cls=NumpyEncoder)"
   ]
  },
  {
   "cell_type": "code",
   "execution_count": null,
   "metadata": {},
   "outputs": [],
   "source": [
    "result = log_cruise.to_json(orient=\"split\")\n",
    "parsed = json.loads(result)\n",
    "with open('log_cruise.json', 'w') as jfile: \n",
    "    json.dump(parsed, jfile, indent=4)"
   ]
  },
  {
   "cell_type": "code",
   "execution_count": null,
   "metadata": {},
   "outputs": [],
   "source": [
    "result = log_ground.to_json(orient=\"split\")\n",
    "parsed = json.loads(result)\n",
    "with open('log_ground.json', 'w') as jfile: \n",
    "    json.dump(parsed, jfile, indent=4)"
   ]
  },
  {
   "cell_type": "code",
   "execution_count": null,
   "metadata": {},
   "outputs": [],
   "source": [
    "result = log_hover.to_json(orient=\"split\")\n",
    "parsed = json.loads(result)\n",
    "with open('log_hover.json', 'w') as jfile: \n",
    "    json.dump(parsed, jfile, indent=4)"
   ]
  },
  {
   "cell_type": "markdown",
   "metadata": {},
   "source": [
    "## Transition "
   ]
  },
  {
   "cell_type": "code",
   "execution_count": null,
   "metadata": {},
   "outputs": [],
   "source": [
    "def trim_transition(vt_fps, gamma_deg, accel_g):\n",
    "    print('trimming @ Vt=', vt_fps, 'fps', 'gamma = ', gamma_deg, 'deg')\n",
    "    \n",
    "    def accel_gamma(fdm, accel_g, gamma_deg):\n",
    "        gamma = np.deg2rad(gamma_deg)\n",
    "        g = 32.2\n",
    "        theta = fdm['attitude/theta-rad']\n",
    "        C_nb = np.array([\n",
    "            [np.cos(theta), -np.sin(theta)],\n",
    "            [np.sin(theta), np.cos(theta)]\n",
    "        ])\n",
    "        a_n = accel_g*g*np.array([np.cos(gamma), np.sin(gamma)])\n",
    "        a_b = C_nb.T.dot(a_n)\n",
    "        return a_b\n",
    "    \n",
    "    if vt_fps < 250:\n",
    "        x0 = [0.9, 0, 0, 0, np.deg2rad(90), \n",
    "                            np.deg2rad(90),\n",
    "                            np.deg2rad(90),\n",
    "                            np.deg2rad(90),\n",
    "              np.deg2rad(0), 0],\n",
    "    elif vt_fps < 260:\n",
    "        x0 = [0.9, 0, 0, 0, np.deg2rad(90), \n",
    "                            np.deg2rad(80),\n",
    "                            np.deg2rad(90),\n",
    "                            np.deg2rad(80),\n",
    "              np.deg2rad(0), 0],\n",
    "    elif vt_fps < 270:\n",
    "        x0 = [0.9, 0, 0, 0, np.deg2rad(80), \n",
    "                            np.deg2rad(60),\n",
    "                            np.deg2rad(80),\n",
    "                            np.deg2rad(60),\n",
    "              np.deg2rad(0), 0],\n",
    "    elif vt_fps < 280:\n",
    "        x0 = [0.9, 0, 0, 0, np.deg2rad(60), \n",
    "                            np.deg2rad(45),\n",
    "                            np.deg2rad(60),\n",
    "                            np.deg2rad(45),\n",
    "              np.deg2rad(0), 0],\n",
    "    elif vt_fps < 285:\n",
    "        x0 = [0.9, 0, 0, 0, np.deg2rad(40), \n",
    "                            np.deg2rad(20),\n",
    "                            np.deg2rad(40),\n",
    "                            np.deg2rad(20),\n",
    "              np.deg2rad(0), 0],\n",
    "    elif vt_fps < 290:\n",
    "        x0 = [0.9, 0, 0, 0, np.deg2rad(15), \n",
    "                            np.deg2rad(5),\n",
    "                            np.deg2rad(15),\n",
    "                            np.deg2rad(5),\n",
    "              np.deg2rad(0), 0],\n",
    "    elif vt_fps < 300:\n",
    "        x0 = [0.9, 0, 0, 0, np.deg2rad(3), \n",
    "                            np.deg2rad(3),\n",
    "                            np.deg2rad(3),\n",
    "                            np.deg2rad(3),\n",
    "              np.deg2rad(0), 0],\n",
    "    else:\n",
    "        x0 = [0.9, 0, 0, 0, np.deg2rad(0),\n",
    "                            np.deg2rad(0),\n",
    "                            np.deg2rad(0),\n",
    "                            np.deg2rad(0),\n",
    "              np.deg2rad(0), 0],\n",
    "\n",
    "    op, props, res = trim(\n",
    "        aircraft='F-35B-2',\n",
    "        ic={\n",
    "            'ic/h-sl-ft': 800,\n",
    "            'ic/vt-fps': vt_fps,\n",
    "            'ic/gamma-deg': gamma_deg,\n",
    "            'ap/gear-enable': 1,\n",
    "        },\n",
    "        design_vector=[\n",
    "            'fcs/throttle-cmd-norm',\n",
    "            'fcs/elevator-cmd-norm',\n",
    "            'fcs/rudder-cmd-norm',\n",
    "            'fcs/aileron-cmd-norm',\n",
    "            'propulsion/engine/pitch-angle-rad',\n",
    "            'propulsion/engine[1]/pitch-angle-rad',\n",
    "            'propulsion/engine[2]/pitch-angle-rad',\n",
    "            'propulsion/engine[3]/pitch-angle-rad',\n",
    "            'ic/alpha-rad',\n",
    "            'ic/beta-rad',\n",
    "        ],\n",
    "        x0=x0,\n",
    "        verbose=False,\n",
    "        method='SLSQP',\n",
    "        eq_constraints= [\n",
    "            lambda fdm: fdm['accelerations/udot-ft_sec2'] - accel_gamma(fdm, accel_g, gamma_deg)[0],\n",
    "            lambda fdm: fdm['accelerations/vdot-ft_sec2'],\n",
    "            lambda fdm: fdm['accelerations/wdot-ft_sec2'] - accel_gamma(fdm, accel_g, gamma_deg)[1],\n",
    "            lambda fdm: fdm['accelerations/pdot-rad_sec2'],\n",
    "            lambda fdm: fdm['accelerations/qdot-rad_sec2'],\n",
    "            lambda fdm: fdm['accelerations/rdot-rad_sec2'],\n",
    "        ],\n",
    "        cost=lambda fdm: fdm['fcs/throttle-cmd-norm'],\n",
    "        bounds=[[0, 1], [-1, 1], [-1, 1], [-1, 1],\n",
    "                [np.deg2rad(0), np.deg2rad(120)],\n",
    "                [np.deg2rad(0), np.deg2rad(120)],\n",
    "                [np.deg2rad(0), np.deg2rad(120)],\n",
    "                [np.deg2rad(0), np.deg2rad(120)],\n",
    "                [-0.1, 0.1], [-0.1, 0.1]],\n",
    "        tol=1e-12)\n",
    "    return op\n",
    "\n",
    "ops_trim = [trim_transition(vt_fps=vt, gamma_deg=0, accel_g=0)\n",
    "                  for vt in [10, 50, 100, 150, 200, 250, 300, 400, 500, 600, 700, 790]]\n",
    "for op in ops_trim:\n",
    "    print('\\nvt fps', op['ic/vt-fps'])\n",
    "    print('theta deg', op['ic/gamma-deg'] + np.rad2deg(op['ic/alpha-rad']))\n",
    "    print('elevator', op['fcs/elevator-cmd-norm'])\n",
    "    print('aileron', op['fcs/aileron-cmd-norm'])\n",
    "    print('rudder', op['fcs/rudder-cmd-norm'])\n",
    "    print('throttle', op['fcs/throttle-cmd-norm'])"
   ]
  },
  {
   "cell_type": "code",
   "execution_count": null,
   "metadata": {},
   "outputs": [],
   "source": [
    "ops_transition = [trim_transition(vt_fps=vt, gamma_deg=10, accel_g=0.1)\n",
    "                  for vt in [10, 50, 100, 150, 200, 250, 300, 400, 500, 600, 650]]\n",
    "\n",
    "ops_transition_auto = []\n",
    "for op in ops_transition:\n",
    "    op = dict(op)\n",
    "    print('\\nvt fps', op['ic/vt-fps'])\n",
    "    print('theta deg', op['ic/gamma-deg'] + np.rad2deg(op['ic/alpha-rad']))\n",
    "    print('elevator', op['fcs/elevator-cmd-norm'])\n",
    "    print('aileron', op['fcs/aileron-cmd-norm'])\n",
    "    print('rudder', op['fcs/rudder-cmd-norm'])\n",
    "    print('throttle', op['fcs/throttle-cmd-norm'])\n",
    "    op['ap/roll-enable'] = 1\n",
    "    op['ap/pitch-enable'] = 1\n",
    "    op['ap/yaw-enable'] = 1\n",
    "    op['ap/h-enable'] = 0\n",
    "    op['ap/h-sl-cmd-ft'] = 1000\n",
    "    ops_transition_auto.append(op)"
   ]
  },
  {
   "cell_type": "code",
   "execution_count": null,
   "metadata": {},
   "outputs": [],
   "source": [
    "# log_transition_auto = []\n",
    "# for op in ops_transition_auto:\n",
    "#     log = simulate(\n",
    "#         aircraft='F-35B-2',\n",
    "#         op_0=op,\n",
    "#         tf=10,\n",
    "#         realtime=False)\n",
    "#     log_transition_auto.append(log)"
   ]
  },
  {
   "cell_type": "markdown",
   "metadata": {},
   "source": [
    "## Auto takeoff "
   ]
  },
  {
   "cell_type": "code",
   "execution_count": null,
   "metadata": {},
   "outputs": [],
   "source": [
    "# log_takeoff_auto = simulate(\n",
    "#     aircraft='F-35B-2',\n",
    "#     op_0=op_ground,\n",
    "#     op_list=[('hover', op_hover_auto, lambda fdm: fdm.get_sim_time() > 1),\n",
    "#              ('10 fps', ops_transition_auto[0], lambda fdm: fdm.get_sim_time() > 10),\n",
    "#              ('50 fps', ops_transition_auto[1], lambda fdm: fdm['velocities/vt-fps'] > 50),\n",
    "#              ('100 fps', ops_transition_auto[2], lambda fdm: fdm['velocities/vt-fps'] > 100),\n",
    "#              ('150 fps', ops_transition_auto[3], lambda fdm: fdm['velocities/vt-fps'] > 150),\n",
    "#              ('200 fps', ops_transition_auto[4], lambda fdm: fdm['velocities/vt-fps'] > 200),\n",
    "#              ('250 fps', ops_transition_auto[5], lambda fdm: fdm['velocities/vt-fps'] > 250),\n",
    "#              ('300 fps', ops_transition_auto[6], lambda fdm: fdm['velocities/vt-fps'] > 300),\n",
    "#              ('400 fps', ops_transition_auto[7], lambda fdm: fdm['velocities/vt-fps'] > 400),\n",
    "#              ('500 fps', ops_transition_auto[7], lambda fdm: fdm['velocities/vt-fps'] > 500),\n",
    "#              ('600 fps', ops_transition_auto[7], lambda fdm: fdm['velocities/vt-fps'] > 600),\n",
    "#     ],\n",
    "#     tf=120,\n",
    "#     realtime=True, verbose=True)"
   ]
  },
  {
   "cell_type": "markdown",
   "metadata": {},
   "source": [
    "# Hover Controller Design"
   ]
  },
  {
   "cell_type": "markdown",
   "metadata": {},
   "source": [
    "## Pitch"
   ]
  },
  {
   "cell_type": "code",
   "execution_count": null,
   "metadata": {},
   "outputs": [],
   "source": [
    "sys = control.ss(*linearize(\n",
    "    aircraft='F-35B-2',\n",
    "    states=['ic/q-rad_sec'],\n",
    "    states_deriv = ['accelerations/qdot-rad_sec2'],\n",
    "    inputs=['fcs/elevator-cmd-norm'],\n",
    "    outputs=['ic/q-rad_sec'],\n",
    "    ic=op_hover,\n",
    "    dx=1e-3,\n",
    "    n_round=3\n",
    "))\n",
    "s = control.tf([1, 0], [1])\n",
    "rad2deg = 180/np.pi\n",
    "G_elev_to_pitch = rad2deg*clean_tf(control.minreal(control.ss2tf(sys), 1e-3))/s  # in degrees\n",
    "G_elev_to_pitch"
   ]
  },
  {
   "cell_type": "code",
   "execution_count": null,
   "metadata": {},
   "outputs": [],
   "source": [
    "# Add the actuator \n",
    "tau = 0.4\n",
    "G_act = tau / (s + tau)\n",
    "G_elev_to_pitch *= G_act\n",
    "G_elev_to_pitch"
   ]
  },
  {
   "cell_type": "code",
   "execution_count": null,
   "metadata": {},
   "outputs": [],
   "source": [
    "# PD gains to lead-lag gains \n",
    "Kp = 1.27231590533845e-09\n",
    "Kd = 0.0127229959138648\n",
    "N = 148.271702233295\n",
    "\n",
    "c1 = N*Kd + Kp\n",
    "c2 = N*Kp\n",
    "c3 = 1\n",
    "c4 = N\n",
    "\n",
    "H_elev_to_pitch = (c1 * s + c2) / (c3 * s + c4)\n",
    "# H_elev_to_pitch = 1 + 0.01*s\n",
    "\n",
    "plt.figure()\n",
    "rootlocus(G_elev_to_pitch*H_elev_to_pitch)\n",
    "plt.plot([0, -1], [0, 1], '--')\n",
    "\n",
    "plt.figure()\n",
    "rootlocus(G_elev_to_pitch*H_elev_to_pitch)\n",
    "plt.xlim([-1.5, 0])\n",
    "plt.plot([0, -1], [0, 1], '--')\n",
    "\n",
    "Gc_elev_to_pitch = G_elev_to_pitch*H_elev_to_pitch/(1 + G_elev_to_pitch*H_elev_to_pitch)\n",
    "\n",
    "plt.figure()\n",
    "step_size = 10\n",
    "t, y = control.step_response(step_size*Gc_elev_to_pitch, T=np.linspace(0, 30, 1000))\n",
    "plt.plot(t, y)\n",
    "plt.ylabel('pitch, deg')\n",
    "plt.xlabel('t, sec')\n",
    "plt.title('output')\n",
    "\n",
    "plt.figure()\n",
    "# actual error was computed in radians, so, converting back here\n",
    "e = np.deg2rad(step_size-y)\n",
    "t, u, _= control.forced_response(H_elev_to_pitch, T=t, U=e)\n",
    "plt.plot(t, u)\n",
    "plt.hlines([-1, 1], t[0], t[-1], linestyles='dashed')\n",
    "plt.title('input')\n",
    "plt.ylabel('elevator, norm')\n",
    "plt.xlabel('t, sec')\n",
    "\n",
    "plt.figure(figsize=(15, 7))\n",
    "control.gangof4(G_elev_to_pitch, H_elev_to_pitch, Hz=True, dB=True)\n",
    "\n",
    "plt.figure()\n",
    "control.nyquist(Gc_elev_to_pitch, omega=np.logspace(-3, 3, 1000))\n",
    "\n",
    "gm, pm, wg, wp = control.margin(Gc_elev_to_pitch)\n",
    "print('gain margin: ', gm)\n",
    "print('phase margin (in degrees): ', pm)\n",
    "print('Frequency for gain margin (at phase crossover, phase = -180 degrees): ', wg)\n",
    "print('Frequency for phase margin (at gain crossover, gain = 1): ', wp)"
   ]
  },
  {
   "cell_type": "markdown",
   "metadata": {},
   "source": [
    "## Roll"
   ]
  },
  {
   "cell_type": "code",
   "execution_count": null,
   "metadata": {},
   "outputs": [],
   "source": [
    "sys = control.ss(*linearize(\n",
    "    aircraft='F-35B-2',\n",
    "    states=['ic/p-rad_sec'],\n",
    "    states_deriv = ['accelerations/pdot-rad_sec2'],\n",
    "    inputs=['fcs/aileron-cmd-norm'],\n",
    "    outputs=['ic/p-rad_sec'],\n",
    "    ic=op_hover,\n",
    "    dx=1e-3,\n",
    "    n_round=3\n",
    "))\n",
    "rad2deg = 180/np.pi\n",
    "s = control.tf([1, 0], [1])\n",
    "G_aileron_to_roll = rad2deg*clean_tf(control.minreal(control.ss2tf(sys), 1e-3))/s\n",
    "G_aileron_to_roll"
   ]
  },
  {
   "cell_type": "code",
   "execution_count": null,
   "metadata": {},
   "outputs": [],
   "source": [
    "# Add the actuator \n",
    "tau = 0.4\n",
    "G_act = tau / (s + tau)\n",
    "G_aileron_to_roll *= G_act\n",
    "G_aileron_to_roll"
   ]
  },
  {
   "cell_type": "code",
   "execution_count": null,
   "metadata": {},
   "outputs": [],
   "source": [
    "# PD gains to lead-lag gains \n",
    "Kp = 7.66302615547072e-10\n",
    "Kd = 0.0076620813293718\n",
    "N = 505.040986830046\n",
    "\n",
    "c1 = N*Kd + Kp\n",
    "c2 = N*Kp\n",
    "c3 = 1\n",
    "c4 = N\n",
    "\n",
    "H_aileron_to_roll = (c1 * s + c2) / (c3 * s + c4)\n",
    "\n",
    "plt.figure()\n",
    "rootlocus(G_aileron_to_roll*H_aileron_to_roll)\n",
    "plt.plot([0, -1], [0, 1], '--')\n",
    "\n",
    "plt.figure()\n",
    "rootlocus(G_aileron_to_roll*H_aileron_to_roll)\n",
    "plt.xlim([-1.5, 0])\n",
    "plt.plot([0, -1], [0, 1], '--')\n",
    "\n",
    "Gc_aileron_to_roll  = G_aileron_to_roll*H_aileron_to_roll/(1 + G_aileron_to_roll*H_aileron_to_roll)\n",
    "\n",
    "\n",
    "plt.figure()\n",
    "step_size = 10\n",
    "t, y = control.step_response(step_size*Gc_aileron_to_roll, T=np.linspace(0, 30, 1000))\n",
    "plt.plot(t, y)\n",
    "plt.xlabel('t, sec')\n",
    "plt.ylabel('roll, deg')\n",
    "plt.title('output')\n",
    "\n",
    "plt.figure()\n",
    "# actual error was computed in radians, so, converting back here\n",
    "e = np.deg2rad(step_size-y)\n",
    "t, u, _= control.forced_response(H_aileron_to_roll, T=t, U=e)\n",
    "plt.hlines([-0.1, 0.1], t[0], t[-1], linestyles='dashed')\n",
    "plt.plot(t, u)\n",
    "plt.xlabel('t, sec')\n",
    "plt.ylabel('aileron %')\n",
    "plt.title('input')\n",
    "\n",
    "plt.figure()\n",
    "control.nyquist(Gc_aileron_to_roll, omega=np.logspace(-3, 3, 1000))\n",
    "\n",
    "plt.figure(figsize=(15, 7))\n",
    "control.gangof4(G_aileron_to_roll, H_aileron_to_roll, Hz=True, dB=True)\n",
    "\n",
    "gm, pm, wg, wp = control.margin(Gc_aileron_to_roll)\n",
    "print('gain margin: ', gm)\n",
    "print('phase margin (in degrees): ', pm)\n",
    "print('Frequency for gain margin (at phase crossover, phase = -180 degrees): ', wg)\n",
    "print('Frequency for phase margin (at gain crossover, gain = 1): ', wp)"
   ]
  },
  {
   "cell_type": "markdown",
   "metadata": {},
   "source": [
    "## Yaw"
   ]
  },
  {
   "cell_type": "markdown",
   "metadata": {},
   "source": [
    "## Engine0 (right cold post) "
   ]
  },
  {
   "cell_type": "code",
   "execution_count": null,
   "metadata": {},
   "outputs": [],
   "source": [
    "# import scipy.signal as scysig\n",
    "\n",
    "sys1 = control.ss(*linearize(\n",
    "    aircraft='F-35B-2',\n",
    "    states=['ic/r-rad_sec'],\n",
    "    states_deriv = ['accelerations/rdot-rad_sec2'],\n",
    "    inputs=['propulsion/engine/pitch-angle-rad'],\n",
    "    outputs=['ic/r-rad_sec'],\n",
    "    ic=op_hover,\n",
    "    dx=1e-3,\n",
    "    n_round=3\n",
    "))\n",
    "s = control.tf([1, 0], [1])\n",
    "\n",
    "# # G_rudder_to_yaw = -clean_tf(control.minreal(control.ss2tf(sys), 1e-3))/s\n",
    "# print(sys)\n",
    "# temp = scysig.ss2tf(sys.A, sys.B, sys.C, sys.D)\n",
    "# print(temp)\n",
    "\n",
    "G_rudder_to_yaw1 = -clean_tf(control.minreal(control.ss2tf(sys1), 1e-3))/s\n",
    "G_rudder_to_yaw1"
   ]
  },
  {
   "cell_type": "markdown",
   "metadata": {},
   "source": [
    "## Engine1 (right hot post)"
   ]
  },
  {
   "cell_type": "code",
   "execution_count": null,
   "metadata": {},
   "outputs": [],
   "source": [
    "sys2 = control.ss(*linearize(\n",
    "    aircraft='F-35B-2',\n",
    "    states=['ic/r-rad_sec'],\n",
    "    states_deriv = ['accelerations/rdot-rad_sec2'],\n",
    "    inputs=['propulsion/engine[1]/pitch-angle-rad'],\n",
    "    outputs=['ic/r-rad_sec'],\n",
    "    ic=op_hover,\n",
    "    dx=1e-3,\n",
    "    n_round=3\n",
    "))\n",
    "s = control.tf([1, 0], [1])\n",
    "G_rudder_to_yaw2 = -clean_tf(control.minreal(control.ss2tf(sys2), 1e-3))/s\n",
    "G_rudder_to_yaw2"
   ]
  },
  {
   "cell_type": "markdown",
   "metadata": {},
   "source": [
    "## Engine2 (left cold post)"
   ]
  },
  {
   "cell_type": "code",
   "execution_count": null,
   "metadata": {},
   "outputs": [],
   "source": [
    "sys3 = control.ss(*linearize(\n",
    "    aircraft='F-35B-2',\n",
    "    states=['ic/r-rad_sec'],\n",
    "    states_deriv = ['accelerations/rdot-rad_sec2'],\n",
    "    inputs=['propulsion/engine[2]/pitch-angle-rad'],\n",
    "    outputs=['ic/r-rad_sec'],\n",
    "    ic=op_hover,\n",
    "    dx=1e-3,\n",
    "    n_round=3\n",
    "))\n",
    "s = control.tf([1, 0], [1])\n",
    "G_rudder_to_yaw3 = -clean_tf(control.minreal(control.ss2tf(sys3), 1e-3))/s\n",
    "G_rudder_to_yaw3"
   ]
  },
  {
   "cell_type": "markdown",
   "metadata": {},
   "source": [
    "## Engine3 (left hot post)"
   ]
  },
  {
   "cell_type": "code",
   "execution_count": null,
   "metadata": {},
   "outputs": [],
   "source": [
    "sys4 = control.ss(*linearize(\n",
    "    aircraft='F-35B-2',\n",
    "    states=['ic/r-rad_sec'],\n",
    "    states_deriv = ['accelerations/rdot-rad_sec2'],\n",
    "    inputs=['propulsion/engine[3]/pitch-angle-rad'],\n",
    "    outputs=['ic/r-rad_sec'],\n",
    "    ic=op_hover,\n",
    "    dx=1e-3,\n",
    "    n_round=3\n",
    "))\n",
    "s = control.tf([1, 0], [1])\n",
    "G_rudder_to_yaw4 = -clean_tf(control.minreal(control.ss2tf(sys4), 1e-3))/s\n",
    "G_rudder_to_yaw4"
   ]
  },
  {
   "cell_type": "code",
   "execution_count": null,
   "metadata": {},
   "outputs": [],
   "source": [
    "sys1 = control.series(sys1, -1/s)\n",
    "sys1 = control.tf2ss(sys1)\n",
    "sys2 = control.series(sys2, -1/s)\n",
    "sys2 = control.tf2ss(sys2)\n",
    "sys3 = control.series(sys3, -1/s)\n",
    "sys3 = control.tf2ss(sys3)\n",
    "sys4 = control.series(sys4, -1/s)\n",
    "sys4 = control.tf2ss(sys4)\n",
    "\n",
    "sys_yaw = control.append(sys1, sys2, sys3, sys4)\n",
    "sys_yaw = control.ss2tf(sys_yaw)\n",
    "sys_yaw"
   ]
  },
  {
   "cell_type": "code",
   "execution_count": null,
   "metadata": {},
   "outputs": [],
   "source": [
    "# Engine nozzle pitch actuator \n",
    "tau_enp = 2\n",
    "G_enp_act = tau_enp / (s + tau_enp)\n",
    "G_aileron_to_roll *= G_enp_act\n",
    "G_aileron_to_roll"
   ]
  },
  {
   "cell_type": "markdown",
   "metadata": {},
   "source": [
    "## Altitude "
   ]
  },
  {
   "cell_type": "code",
   "execution_count": null,
   "metadata": {},
   "outputs": [],
   "source": [
    "sys = control.ss(*linearize(\n",
    "    aircraft='F-35B-2',\n",
    "    states=['ic/w-fps'],\n",
    "    states_deriv = ['accelerations/wdot-ft_sec2'],\n",
    "    inputs=['fcs/throttle-cmd-norm'],\n",
    "    outputs=['ic/w-fps'],\n",
    "    ic=op_hover,\n",
    "    dx=1e-3,\n",
    "    n_round=3\n",
    "))\n",
    "G_throttle_to_alt = -clean_tf(control.minreal(control.ss2tf(sys), 1e-3))/s\n",
    "G_throttle_to_alt"
   ]
  },
  {
   "cell_type": "code",
   "execution_count": null,
   "metadata": {},
   "outputs": [],
   "source": [
    "# Add the actuator \n",
    "tau = 0.4\n",
    "G_act = tau / (s + tau)\n",
    "G_throttle_to_alt *= G_act\n",
    "G_throttle_to_alt"
   ]
  },
  {
   "cell_type": "code",
   "execution_count": null,
   "metadata": {},
   "outputs": [],
   "source": [
    "# PD gains to lead-lag gains \n",
    "Kp = 9.11459759968896e-10\n",
    "Kd = 0.00911454537591535\n",
    "N = 27.8343628363698\n",
    "\n",
    "c1 = N*Kd + Kp\n",
    "c2 = N*Kp\n",
    "c3 = 1\n",
    "c4 = N\n",
    "\n",
    "H_throttle_to_alt = (c1 * s + c2) / (c3 * s + c4)\n",
    "\n",
    "\n",
    "plt.figure()\n",
    "rootlocus(G_throttle_to_alt*H_throttle_to_alt)\n",
    "plt.plot([0, -1], [0, 1], '--')\n",
    "\n",
    "plt.figure()\n",
    "rootlocus(G_throttle_to_alt*H_throttle_to_alt)\n",
    "plt.xlim([-1.2, 0])\n",
    "plt.plot([0, -1], [0, 1], '--')\n",
    "\n",
    "Gc_throttle_to_alt = G_throttle_to_alt*H_throttle_to_alt/(1 + G_throttle_to_alt*H_throttle_to_alt)\n",
    "\n",
    "plt.figure()\n",
    "step_size = 10\n",
    "t, y = control.step_response(step_size*Gc_throttle_to_alt, T=np.linspace(0, 40, 1000))\n",
    "plt.plot(t, y)\n",
    "plt.xlabel('t, sec')\n",
    "plt.ylabel('altitude, ft')\n",
    "plt.title('output')\n",
    "\n",
    "plt.figure()\n",
    "# error computed in ft\n",
    "e = step_size-y\n",
    "t, u, _= control.forced_response(H_throttle_to_alt, T=t, U=e)\n",
    "plt.hlines([-0.1, 0.1], t[0], t[-1], linestyles='dashed')\n",
    "plt.plot(t, u)\n",
    "plt.xlabel('t, sec')\n",
    "plt.ylabel('throtle %')\n",
    "plt.title('input')\n",
    "\n",
    "plt.figure()\n",
    "control.nyquist(Gc_throttle_to_alt, omega=np.logspace(-3, 3, 1000))\n",
    "\n",
    "plt.figure(figsize=(15, 7))\n",
    "control.gangof4(G_throttle_to_alt, H_throttle_to_alt, Hz=True, dB=True)\n",
    "\n",
    "\n",
    "gm, pm, wg, wp = control.margin(Gc_throttle_to_alt)\n",
    "print('gain margin: ', gm)\n",
    "print('phase margin (in degrees): ', pm)\n",
    "print('Frequency for gain margin (at phase crossover, phase = -180 degrees): ', wg)\n",
    "print('Frequency for phase margin (at gain crossover, gain = 1): ', wp)"
   ]
  },
  {
   "cell_type": "markdown",
   "metadata": {},
   "source": [
    "# Cruise Controller Design"
   ]
  },
  {
   "cell_type": "markdown",
   "metadata": {},
   "source": [
    "## Pitch"
   ]
  },
  {
   "cell_type": "code",
   "execution_count": 40,
   "metadata": {},
   "outputs": [
    {
     "name": "stdout",
     "output_type": "stream",
     "text": [
      "0 states have been removed from the model\n"
     ]
    },
    {
     "data": {
      "text/latex": [
       "$$\\frac{1459}{s^2 + 5.268 s}$$"
      ],
      "text/plain": [
       "TransferFunction(array([1458.57865906]), array([1.   , 5.268, 0.   ]))"
      ]
     },
     "execution_count": 40,
     "metadata": {},
     "output_type": "execute_result"
    }
   ],
   "source": [
    "sys = control.ss(*linearize(\n",
    "    aircraft='F-35B-2',\n",
    "    states=['ic/q-rad_sec'],\n",
    "    states_deriv = ['accelerations/qdot-rad_sec2'],\n",
    "    inputs=['fcs/elevator-cmd-norm'],\n",
    "    outputs=['ic/q-rad_sec'],\n",
    "    ic=op_cruise,\n",
    "    dx=1e-3,\n",
    "    n_round=3\n",
    "))\n",
    "s = control.tf([1, 0], [1])\n",
    "rad2deg = 180/np.pi\n",
    "G_elev_to_pitch = rad2deg*clean_tf(control.minreal(control.ss2tf(sys), 1e-3))/s  # in degrees\n",
    "G_elev_to_pitch"
   ]
  },
  {
   "cell_type": "code",
   "execution_count": null,
   "metadata": {},
   "outputs": [],
   "source": [
    "# Add the actuator \n",
    "# tau = 0.4\n",
    "# G_act = tau / (s + tau)\n",
    "# G_elev_to_pitch *= G_act\n",
    "# G_elev_to_pitch"
   ]
  },
  {
   "cell_type": "code",
   "execution_count": 41,
   "metadata": {},
   "outputs": [
    {
     "name": "stdout",
     "output_type": "stream",
     "text": [
      "gain margin:  inf\n",
      "phase margin (in degrees):  inf\n",
      "Frequency for gain margin (at phase crossover, phase = -180 degrees):  nan\n",
      "Frequency for phase margin (at gain crossover, gain = 1):  nan\n"
     ]
    },
    {
     "name": "stderr",
     "output_type": "stream",
     "text": [
      "C:\\Users\\12646\\anaconda3\\lib\\site-packages\\control\\margins.py:322: RuntimeWarning: invalid value encountered in less_equal\n",
      "  w_180 = w_180[w180_resp <= 0.]\n",
      "C:\\Users\\12646\\anaconda3\\lib\\site-packages\\control\\margins.py:323: RuntimeWarning: invalid value encountered in less_equal\n",
      "  w180_resp = w180_resp[w180_resp <= 0.]\n"
     ]
    },
    {
     "data": {
      "image/png": "[encoded data removed]",
      "text/plain": [
       "<Figure size 432x288 with 1 Axes>"
      ]
     },
     "metadata": {
      "needs_background": "light"
     },
     "output_type": "display_data"
    },
    {
     "data": {
      "image/png": "[encoded data removed]",
      "text/plain": [
       "<Figure size 432x288 with 1 Axes>"
      ]
     },
     "metadata": {
      "needs_background": "light"
     },
     "output_type": "display_data"
    },
    {
     "data": {
      "image/png": "[encoded data removed]",
      "text/plain": [
       "<Figure size 432x288 with 1 Axes>"
      ]
     },
     "metadata": {
      "needs_background": "light"
     },
     "output_type": "display_data"
    },
    {
     "data": {
      "image/png": "[encoded data removed]",
      "text/plain": [
       "<Figure size 432x288 with 1 Axes>"
      ]
     },
     "metadata": {
      "needs_background": "light"
     },
     "output_type": "display_data"
    },
    {
     "data": {
      "image/png": "[encoded data removed]",
      "text/plain": [
       "<Figure size 1080x504 with 4 Axes>"
      ]
     },
     "metadata": {
      "needs_background": "light"
     },
     "output_type": "display_data"
    },
    {
     "data": {
      "image/png": "[encoded data removed]",
      "text/plain": [
       "<Figure size 432x288 with 1 Axes>"
      ]
     },
     "metadata": {
      "needs_background": "light"
     },
     "output_type": "display_data"
    }
   ],
   "source": [
    "# !! <<<< THESE ARE FOR HOVER \n",
    "# PD gains to lead-lag gains \n",
    "Kp = 1.27231590533845e-09\n",
    "Kd = 0.0127229959138648\n",
    "N = 148.271702233295\n",
    "\n",
    "c1 = N*Kd + Kp\n",
    "c2 = N*Kp\n",
    "c3 = 1\n",
    "c4 = N\n",
    "\n",
    "# >>>> SUBJECT TO CHANGE !!\n",
    "\n",
    "\n",
    "\n",
    "\n",
    "H_elev_to_pitch = (c1 * s + c2) / (c3 * s + c4)\n",
    "# H_elev_to_pitch = 1 + 0.01*s\n",
    "\n",
    "plt.figure()\n",
    "rootlocus(G_elev_to_pitch*H_elev_to_pitch)\n",
    "plt.plot([0, -1], [0, 1], '--')\n",
    "\n",
    "plt.figure()\n",
    "rootlocus(G_elev_to_pitch*H_elev_to_pitch)\n",
    "plt.xlim([-1.5, 0])\n",
    "plt.plot([0, -1], [0, 1], '--')\n",
    "\n",
    "# Close loop transfer function\n",
    "Gc_elev_to_pitch = G_elev_to_pitch*H_elev_to_pitch/(1 + G_elev_to_pitch*H_elev_to_pitch)\n",
    "\n",
    "plt.figure()\n",
    "step_size = 10\n",
    "t, y = control.step_response(step_size*Gc_elev_to_pitch, T=np.linspace(0, 30, 1000))\n",
    "plt.plot(t, y)\n",
    "plt.ylabel('pitch, deg')\n",
    "plt.xlabel('t, sec')\n",
    "plt.title('output')\n",
    "\n",
    "plt.figure()\n",
    "# actual error was computed in radians, so, converting back here\n",
    "e = np.deg2rad(step_size-y)\n",
    "t, u, _= control.forced_response(H_elev_to_pitch, T=t, U=e)\n",
    "plt.plot(t, u)\n",
    "plt.hlines([-1, 1], t[0], t[-1], linestyles='dashed')\n",
    "plt.title('input')\n",
    "plt.ylabel('elevator, norm')\n",
    "plt.xlabel('t, sec')\n",
    "\n",
    "plt.figure(figsize=(15, 7))\n",
    "control.gangof4(G_elev_to_pitch, H_elev_to_pitch, Hz=True, dB=True)\n",
    "\n",
    "plt.figure()\n",
    "control.nyquist(Gc_elev_to_pitch, omega=np.logspace(-3, 3, 1000))\n",
    "\n",
    "gm, pm, wg, wp = control.margin(Gc_elev_to_pitch)\n",
    "print('gain margin: ', gm)\n",
    "print('phase margin (in degrees): ', pm)\n",
    "print('Frequency for gain margin (at phase crossover, phase = -180 degrees): ', wg)\n",
    "print('Frequency for phase margin (at gain crossover, gain = 1): ', wp)"
   ]
  },
  {
   "cell_type": "markdown",
   "metadata": {},
   "source": [
    "## Roll"
   ]
  },
  {
   "cell_type": "code",
   "execution_count": null,
   "metadata": {},
   "outputs": [],
   "source": [
    "sys = control.ss(*linearize(\n",
    "    aircraft='F-35B-2',\n",
    "    states=['ic/p-rad_sec'],\n",
    "    states_deriv = ['accelerations/pdot-rad_sec2'],\n",
    "    inputs=['fcs/aileron-cmd-norm'],\n",
    "    outputs=['ic/p-rad_sec'],\n",
    "    ic=op_cruise,\n",
    "    dx=1e-3,\n",
    "    n_round=3\n",
    "))\n",
    "rad2deg = 180/np.pi\n",
    "s = control.tf([1, 0], [1])\n",
    "G_aileron_to_roll = rad2deg*clean_tf(control.minreal(control.ss2tf(sys), 1e-3))/s\n",
    "G_aileron_to_roll"
   ]
  },
  {
   "cell_type": "code",
   "execution_count": null,
   "metadata": {},
   "outputs": [],
   "source": [
    "# Add the actuator \n",
    "tau = 0.4\n",
    "G_act = tau / (s + tau)\n",
    "G_aileron_to_roll *= G_act\n",
    "G_aileron_to_roll"
   ]
  },
  {
   "cell_type": "code",
   "execution_count": null,
   "metadata": {},
   "outputs": [],
   "source": [
    "# !! <<<< THESE ARE FOR HOVER \n",
    "# PD gains to lead-lag gains \n",
    "Kp = 7.66302615547072e-10\n",
    "Kd = 0.0076620813293718\n",
    "N = 505.040986830046\n",
    "\n",
    "c1 = N*Kd + Kp\n",
    "c2 = N*Kp\n",
    "c3 = 1\n",
    "c4 = N\n",
    "\n",
    "# >>>> SUBJECT TO CHANGE !!\n",
    "\n",
    "\n",
    "\n",
    "H_aileron_to_roll = (c1 * s + c2) / (c3 * s + c4)\n",
    "\n",
    "plt.figure()\n",
    "rootlocus(G_aileron_to_roll*H_aileron_to_roll)\n",
    "plt.plot([0, -1], [0, 1], '--')\n",
    "\n",
    "plt.figure()\n",
    "rootlocus(G_aileron_to_roll*H_aileron_to_roll)\n",
    "plt.xlim([-1.5, 0])\n",
    "plt.plot([0, -1], [0, 1], '--')\n",
    "\n",
    "Gc_aileron_to_roll  = G_aileron_to_roll*H_aileron_to_roll/(1 + G_aileron_to_roll*H_aileron_to_roll)\n",
    "\n",
    "\n",
    "plt.figure()\n",
    "step_size = 10\n",
    "t, y = control.step_response(step_size*Gc_aileron_to_roll, T=np.linspace(0, 30, 1000))\n",
    "plt.plot(t, y)\n",
    "plt.xlabel('t, sec')\n",
    "plt.ylabel('roll, deg')\n",
    "plt.title('output')\n",
    "\n",
    "plt.figure()\n",
    "# actual error was computed in radians, so, converting back here\n",
    "e = np.deg2rad(step_size-y)\n",
    "t, u, _= control.forced_response(H_aileron_to_roll, T=t, U=e)\n",
    "plt.hlines([-0.1, 0.1], t[0], t[-1], linestyles='dashed')\n",
    "plt.plot(t, u)\n",
    "plt.xlabel('t, sec')\n",
    "plt.ylabel('aileron %')\n",
    "plt.title('input')\n",
    "\n",
    "plt.figure()\n",
    "control.nyquist(Gc_aileron_to_roll, omega=np.logspace(-3, 3, 1000))\n",
    "\n",
    "plt.figure(figsize=(15, 7))\n",
    "control.gangof4(G_aileron_to_roll, H_aileron_to_roll, Hz=True, dB=True)\n",
    "\n",
    "gm, pm, wg, wp = control.margin(Gc_aileron_to_roll)\n",
    "print('gain margin: ', gm)\n",
    "print('phase margin (in degrees): ', pm)\n",
    "print('Frequency for gain margin (at phase crossover, phase = -180 degrees): ', wg)\n",
    "print('Frequency for phase margin (at gain crossover, gain = 1): ', wp)"
   ]
  },
  {
   "cell_type": "markdown",
   "metadata": {},
   "source": [
    "## Yaw"
   ]
  },
  {
   "cell_type": "code",
   "execution_count": null,
   "metadata": {},
   "outputs": [],
   "source": [
    "sys1 = control.ss(*linearize(\n",
    "    aircraft='F-35B-2',\n",
    "    states=['ic/r-rad_sec'],\n",
    "    states_deriv = ['accelerations/rdot-rad_sec2'],\n",
    "    inputs=['propulsion/engine/pitch-angle-rad'],\n",
    "    outputs=['ic/r-rad_sec'],\n",
    "    ic=op_hover,\n",
    "    dx=1e-3,\n",
    "    n_round=3\n",
    "))\n",
    "s = control.tf([1, 0], [1])\n",
    "\n",
    "# # G_rudder_to_yaw = -clean_tf(control.minreal(control.ss2tf(sys), 1e-3))/s\n",
    "# print(sys)\n",
    "# temp = scysig.ss2tf(sys.A, sys.B, sys.C, sys.D)\n",
    "# print(temp)\n",
    "\n",
    "G_rudder_to_yaw1 = -clean_tf(control.minreal(control.ss2tf(sys1), 1e-3))/s\n",
    "G_rudder_to_yaw1"
   ]
  },
  {
   "cell_type": "markdown",
   "metadata": {},
   "source": [
    "## Altitude "
   ]
  },
  {
   "cell_type": "code",
   "execution_count": null,
   "metadata": {},
   "outputs": [],
   "source": [
    "sys = control.ss(*linearize(\n",
    "    aircraft='F-35B-2',\n",
    "    states=['ic/w-fps'],\n",
    "    states_deriv = ['accelerations/wdot-ft_sec2'],\n",
    "    inputs=['fcs/throttle-cmd-norm'],\n",
    "    outputs=['ic/w-fps'],\n",
    "    ic=op_cruise,\n",
    "    dx=1e-3,\n",
    "    n_round=3\n",
    "))\n",
    "G_throttle_to_alt = -clean_tf(control.minreal(control.ss2tf(sys), 1e-3))/s\n",
    "G_throttle_to_alt"
   ]
  },
  {
   "cell_type": "code",
   "execution_count": null,
   "metadata": {},
   "outputs": [],
   "source": [
    "# Add the actuator \n",
    "tau = 0.4\n",
    "G_act = tau / (s + tau)\n",
    "G_throttle_to_alt *= G_act\n",
    "G_throttle_to_alt"
   ]
  },
  {
   "cell_type": "code",
   "execution_count": null,
   "metadata": {},
   "outputs": [],
   "source": [
    "# !! <<<< THESE ARE FOR HOVER \n",
    "# PD gains to lead-lag gains \n",
    "Kp = 9.11459759968896e-10\n",
    "Kd = 0.00911454537591535\n",
    "N = 27.8343628363698\n",
    "\n",
    "c1 = N*Kd + Kp\n",
    "c2 = N*Kp\n",
    "c3 = 1\n",
    "c4 = N\n",
    "\n",
    "# >>>> SUBJECT TO CHANGE !!\n",
    "\n",
    "\n",
    "\n",
    "\n",
    "\n",
    "\n",
    "H_throttle_to_alt = (c1 * s + c2) / (c3 * s + c4)\n",
    "\n",
    "\n",
    "plt.figure()\n",
    "rootlocus(G_throttle_to_alt*H_throttle_to_alt)\n",
    "plt.plot([0, -1], [0, 1], '--')\n",
    "\n",
    "plt.figure()\n",
    "rootlocus(G_throttle_to_alt*H_throttle_to_alt)\n",
    "plt.xlim([-1.2, 0])\n",
    "plt.plot([0, -1], [0, 1], '--')\n",
    "\n",
    "Gc_throttle_to_alt = G_throttle_to_alt*H_throttle_to_alt/(1 + G_throttle_to_alt*H_throttle_to_alt)\n",
    "\n",
    "plt.figure()\n",
    "step_size = 10\n",
    "t, y = control.step_response(step_size*Gc_throttle_to_alt, T=np.linspace(0, 40, 1000))\n",
    "plt.plot(t, y)\n",
    "plt.xlabel('t, sec')\n",
    "plt.ylabel('altitude, ft')\n",
    "plt.title('output')\n",
    "\n",
    "plt.figure()\n",
    "# error computed in ft\n",
    "e = step_size-y\n",
    "t, u, _= control.forced_response(H_throttle_to_alt, T=t, U=e)\n",
    "plt.hlines([-0.1, 0.1], t[0], t[-1], linestyles='dashed')\n",
    "plt.plot(t, u)\n",
    "plt.xlabel('t, sec')\n",
    "plt.ylabel('throtle %')\n",
    "plt.title('input')\n",
    "\n",
    "plt.figure()\n",
    "control.nyquist(Gc_throttle_to_alt, omega=np.logspace(-3, 3, 1000))\n",
    "\n",
    "plt.figure(figsize=(15, 7))\n",
    "control.gangof4(G_throttle_to_alt, H_throttle_to_alt, Hz=True, dB=True)\n",
    "\n",
    "\n",
    "gm, pm, wg, wp = control.margin(Gc_throttle_to_alt)\n",
    "print('gain margin: ', gm)\n",
    "print('phase margin (in degrees): ', pm)\n",
    "print('Frequency for gain margin (at phase crossover, phase = -180 degrees): ', wg)\n",
    "print('Frequency for phase margin (at gain crossover, gain = 1): ', wp)"
   ]
  }
 ],
 "metadata": {
  "kernelspec": {
   "display_name": "Python 3",
   "language": "python",
   "name": "python3"
  },
  "language_info": {
   "codemirror_mode": {
    "name": "ipython",
    "version": 3
   },
   "file_extension": ".py",
   "mimetype": "text/x-python",
   "name": "python",
   "nbconvert_exporter": "python",
   "pygments_lexer": "ipython3",
   "version": "3.8.5"
  },
  "metadata": {
   "interpreter": {
    "hash": "f1b82cffc61be27678f1d47a128eaa4a669f389d3430f480176844fbc028fe63"
   }
  }
 },
 "nbformat": 4,
 "nbformat_minor": 5
}
