{
 "cells": [
  {
   "cell_type": "code",
   "execution_count": 1,
   "metadata": {},
   "outputs": [],
   "source": [
    "%load_ext autoreload\n",
    "%autoreload 2\n",
    "# pull in new changes to python modules without having to restart notebook\n",
    "\n",
    "import matplotlib.pyplot as plt\n",
    "import numpy as np\n",
    "import pandas as pd\n",
    "import matplotlib.pyplot as plt\n",
    "import json \n",
    "from jsbsim_utils import Logger, trim, simulate, linearize, rootlocus, clean_tf\n",
    "import control "
   ]
  },
  {
   "cell_type": "code",
   "execution_count": 2,
   "metadata": {},
   "outputs": [],
   "source": [
    "all_data = dict()"
   ]
  },
  {
   "cell_type": "markdown",
   "metadata": {},
   "source": [
    "Nonlinear-dynamics of aircraft\n",
    "\n",
    "$$\\dot{x} = f(x, u)$$\n",
    "\n",
    "Find equilibrium:\n",
    "\n",
    "Minimize $\\dot{x}$, or a subset for your problem, by changeing $x_0$, $u_0$\n",
    "\n",
    "$$0 = f(x_0, u_0)$$\n",
    "\n",
    "This is an optimization problem.\n",
    "\n",
    "* Matlab: fmincon, fminsearch\n",
    "* Python: scipy.minimize (Nelder-Mead, SLSQP)\n",
    "\n",
    "Can simplify this problem with mixing matrices, to decouple the dynamcis into SISO (single-input-single output) systems."
   ]
  },
  {
   "cell_type": "markdown",
   "metadata": {},
   "source": [
    "Due to Taylor series error on the order of (dx^2). We know the linear model approx, does well near the equilibrium point. "
   ]
  },
  {
   "cell_type": "markdown",
   "metadata": {},
   "source": [
    "$\\dot{\\vec{x}} = \\vec{f}(x, u) = A \\vec{x} + B \\vec{u}$\n",
    "\n",
    "$\\dot{\\vec{y}} = C \\vec{x} + D \\vec{u}$\n",
    "\n",
    "\n",
    "$A = \\dfrac{\\delta \\vec{f}(x0, u0)}{\\delta \\vec{x}}$\n",
    "\n",
    "$B = \\dfrac{\\delta \\vec{f}(x0, u0)}{\\delta \\vec{u}}$\n",
    "\n",
    "$C = \\dfrac{\\delta \\vec{y}(x0, u0)}{\\delta \\vec{x}}$\n",
    "\n",
    "$D = \\dfrac{\\delta \\vec{y}(x0, u0)}{\\delta \\vec{u}}$"
   ]
  },
  {
   "cell_type": "markdown",
   "metadata": {},
   "source": [
    "## Ground Trimming "
   ]
  },
  {
   "cell_type": "code",
   "execution_count": 17,
   "metadata": {},
   "outputs": [
    {
     "name": "stdout",
     "output_type": "stream",
     "text": [
      " final_simplex: (array([[0.00752277, 3.11212156],\n",
      "       [0.00748106, 3.11221532],\n",
      "       [0.00754464, 3.11216313]]), array([4.51973002e-06, 8.14117197e-06, 1.67505423e-05]))\n",
      "           fun: 4.519730024921744e-06\n",
      "       message: 'Optimization terminated successfully.'\n",
      "          nfev: 80\n",
      "           nit: 43\n",
      "        status: 0\n",
      "       success: True\n",
      "             x: array([0.00752277, 3.11212156])\n",
      " final_simplex: (array([[0.00752277, 3.11212156],\n",
      "       [0.00748106, 3.11221532],\n",
      "       [0.00754464, 3.11216313]]), array([4.51973002e-06, 8.14117197e-06, 1.67505423e-05]))\n",
      "           fun: 4.519730024921744e-06\n",
      "       message: 'Optimization terminated successfully.'\n",
      "          nfev: 80\n",
      "           nit: 43\n",
      "        status: 0\n",
      "       success: True\n",
      "             x: array([0.00752277, 3.11212156])\n",
      "{'ic/vt-fps': 0, 'ic/psi-true-deg': 280, 'ap/gear-enable': 1, 'fcs/left-brake-cmd-norm': 1, 'fcs/right-brake-cmd-norm': 1, 'fcs/center-brake-cmd-norm': 1, 'ic/theta-rad': 0.007522769802197068, 'ic/h-agl-ft': 3.1121215601541055}\n",
      "{'forces/fbz-aero-lbs': -0.0, 'forces/fbz-weight-lbs': 11358.889135720807, 'forces/fbz-total-lbs': -57634.20787943273, 'forces/fbz-gear-lbs': -57634.20787943273, 'forces/fbz-prop-lbs': 0.0}\n",
      "{'forces/fbz-aero-lbs': -0.0, 'forces/fbz-weight-lbs': 11358.590010803779, 'forces/fbz-total-lbs': -11336.041172343454, 'forces/fbz-gear-lbs': -11336.041172343454, 'forces/fbz-prop-lbs': 0.0}\n"
     ]
    }
   ],
   "source": [
    "ct = 0\n",
    "temp = []\n",
    "def cost_ground(fdm):\n",
    "    # modify cost to also penalize throttle   \n",
    "    udot = fdm['accelerations/udot-ft_sec2']\n",
    "    vdot = fdm['accelerations/vdot-ft_sec2']\n",
    "    wdot = fdm['accelerations/wdot-ft_sec2']\n",
    "    pdot = fdm['accelerations/pdot-rad_sec2']\n",
    "    qdot = fdm['accelerations/qdot-rad_sec2']\n",
    "    rdot = fdm['accelerations/rdot-rad_sec2']\n",
    "    temp.append(fdm.get_property_catalog('fbz'))\n",
    "    return udot**2 + vdot**2 + wdot**2 + pdot**2 + qdot**2 + rdot**2  \n",
    "        \n",
    "op_ground, props, res = trim(\n",
    "    aircraft='F-35B-2',\n",
    "    ic={\n",
    "          'ic/vt-fps': 0,\n",
    "          'ic/psi-true-deg': 280,\n",
    "          'ap/gear-enable': 1,\n",
    "          'fcs/left-brake-cmd-norm': 1,\n",
    "          'fcs/right-brake-cmd-norm': 1,\n",
    "          'fcs/center-brake-cmd-norm': 1,\n",
    "#         'ic/vt-fps': 0,\n",
    "#         'gear/gear-cmd-norm': 1,\n",
    "#         'propulsion/engine/pitch-angle-rad': np.deg2rad(0),\n",
    "#         'fcs/throttle-cmd-norm': 0,\n",
    "#         'fcs/aileron-cmd-norm': 0,\n",
    "#         'fcs/elevator-cmd-norm': 0,\n",
    "#         'fcs/rudder-cmd-norm': 0,\n",
    "#         'fcs/left-brake-cmd-norm': 1,\n",
    "#         'fcs/right-brake-cmd-norm': 1,\n",
    "#         'fcs/center-brake-cmd-norm': 1,\n",
    "    },\n",
    "    design_vector=['ic/theta-rad', 'ic/h-agl-ft'],\n",
    "    x0=[0, 0.31],\n",
    "    verbose=True,\n",
    "    method='Nelder-Mead', # works better with ground interaction\n",
    "    tol=1e-12,\n",
    "    #bounds=[[np.deg2rad(-40), np.deg2rad(40)], [0, 20]],\n",
    "    cost=cost_ground,\n",
    ")\n",
    "\n",
    "print(res)\n",
    "print(op_ground)\n",
    "print(temp[0])\n",
    "print(temp[-1])\n",
    "\n",
    "data = dict()\n",
    "data['res'] = res\n",
    "data['op_ground'] = op_ground\n",
    "data['fbz_initial'] = temp[0]\n",
    "data['fbz_final'] = temp[-1]\n",
    "all_data = dict()\n",
    "all_data['groundTrim'] = data"
   ]
  },
  {
   "cell_type": "code",
   "execution_count": 18,
   "metadata": {},
   "outputs": [],
   "source": [
    "# log_ground = simulate(\n",
    "#     aircraft='F-35B-2',\n",
    "#     op_0=op_ground,\n",
    "#     tf=5,\n",
    "#     realtime=True)"
   ]
  },
  {
   "cell_type": "code",
   "execution_count": 19,
   "metadata": {},
   "outputs": [],
   "source": [
    "# log_ground['position/h-agl-ft'].plot()\n",
    "# plt.grid(True)\n",
    "# plt.ylabel('ft, altitude')"
   ]
  },
  {
   "cell_type": "code",
   "execution_count": 20,
   "metadata": {},
   "outputs": [],
   "source": [
    "# log_ground['attitude/theta-deg'].plot()\n",
    "# plt.grid(True)\n",
    "# plt.ylabel('deg, aircraft pitch')"
   ]
  },
  {
   "cell_type": "markdown",
   "metadata": {},
   "source": [
    "## Hover Trimming"
   ]
  },
  {
   "cell_type": "code",
   "execution_count": 3,
   "metadata": {},
   "outputs": [
    {
     "name": "stdout",
     "output_type": "stream",
     "text": [
      "     fun: 0.929361866372507\n",
      "     jac: array([1., 0., 0., 0., 0., 0.])\n",
      " message: 'Optimization terminated successfully'\n",
      "    nfev: 28\n",
      "     nit: 4\n",
      "    njev: 4\n",
      "  status: 0\n",
      " success: True\n",
      "       x: array([0.92936187, 0.71734948, 1.57079641, 1.5707964 , 1.57079641,\n",
      "       1.5707964 ])\n",
      "constraint eq 6.793177131925177e-13\n",
      "constraint eq -2.0955823742951907e-09\n",
      "constraint eq 1.6212036530902444e-10\n",
      "{'ic/h-sl-ft': 650, 'ic/vt-fps': 0, 'ic/psi-true-deg': 0, 'ap/gear-enable': 1, 'fcs/throttle-cmd-norm': 0.929361866372507, 'fcs/elevator-cmd-norm': 0.7173494783548715, 'propulsion/engine/pitch-angle-rad': 1.5707964099772886, 'propulsion/engine[1]/pitch-angle-rad': 1.5707963999209869, 'propulsion/engine[2]/pitch-angle-rad': 1.570796409815362, 'propulsion/engine[3]/pitch-angle-rad': 1.5707964016066742}\n"
     ]
    }
   ],
   "source": [
    "op_hover, props, res = trim(\n",
    "    aircraft='F-35B-2',\n",
    "    ic={  \n",
    "          'ic/h-sl-ft': 650,\n",
    "          'ic/vt-fps': 0,\n",
    "          'ic/psi-true-deg': 0,\n",
    "          'ap/gear-enable': 1,\n",
    "#         'ic/h-agl-ft': 10,\n",
    "#         'ic/vd-fps': 0,\n",
    "#         'ic/vn-fps': 0*np.cos(np.deg2rad(280)),\n",
    "#         'ic/ve-fps': 0*np.sin(np.deg2rad(280)),\n",
    "#         'ic/theta-rad': 0,\n",
    "#         'gear/gear-cmd-norm': 1,\n",
    "#         'fcs/left-brake-cmd-norm': 0,\n",
    "#         'fcs/right-brake-cmd-norm': 0,\n",
    "#         'fcs/center-brake-cmd-norm': 0,\n",
    "    },\n",
    "    eq_constraints = [\n",
    "        lambda fdm: fdm['accelerations/udot-ft_sec2'],\n",
    "        #lambda fdm: fdm['accelerations/vdot-ft_sec2'],\n",
    "        lambda fdm: fdm['accelerations/wdot-ft_sec2'],\n",
    "        #lambda fdm: fdm['accelerations/pdot-rad_sec2'],\n",
    "        lambda fdm: fdm['accelerations/qdot-rad_sec2'],\n",
    "        #lambda fdm: fdm['accelerations/rdot-rad_sec2'],\n",
    "    ],\n",
    "    design_vector=[\n",
    "        'fcs/throttle-cmd-norm',\n",
    "        'fcs/elevator-cmd-norm',\n",
    "        'propulsion/engine/pitch-angle-rad',\n",
    "        'propulsion/engine[1]/pitch-angle-rad',\n",
    "        'propulsion/engine[2]/pitch-angle-rad',\n",
    "        'propulsion/engine[3]/pitch-angle-rad',\n",
    "    ],\n",
    "#     design_vector=[\n",
    "#         'fcs/throttle-cmd-norm',\n",
    "#         'fcs/elevator-cmd-norm',\n",
    "#         'propulsion/engine/pitch-angle-rad',\n",
    "#         'propulsion/engine[1]/pitch-angle-rad',\n",
    "#         'propulsion/engine[2]/pitch-angle-rad',\n",
    "#         'propulsion/engine[3]/pitch-angle-rad',\n",
    "#     ],\n",
    "    x0=[0.9, 0.2, np.deg2rad(90), np.deg2rad(90), np.deg2rad(90), np.deg2rad(90)],\n",
    "    cost= lambda fdm: fdm['fcs/throttle-cmd-norm'],\n",
    "    verbose=True,\n",
    "    method='SLSQP',\n",
    "    bounds=[[0, 1], [-1, 1], [np.deg2rad(0), np.deg2rad(120)], \n",
    "           [np.deg2rad(0), np.deg2rad(120)],\n",
    "           [np.deg2rad(0), np.deg2rad(120)],\n",
    "           [np.deg2rad(0), np.deg2rad(120)]],\n",
    "    tol=1e-12\n",
    ")\n",
    "\n",
    "print(op_hover)\n",
    "data1 = dict()\n",
    "data1['res'] = res\n",
    "data1['op_hover'] = op_hover\n",
    "all_data['hoverTrim'] = data1"
   ]
  },
  {
   "cell_type": "code",
   "execution_count": 22,
   "metadata": {},
   "outputs": [],
   "source": [
    "# log_hover = simulate(\n",
    "#     aircraft='F-35B-2',\n",
    "#     op_0=op_hover,\n",
    "#     tf=10,\n",
    "#     realtime=True)"
   ]
  },
  {
   "cell_type": "code",
   "execution_count": 23,
   "metadata": {},
   "outputs": [],
   "source": [
    "# log_hover['position/h-agl-ft'].plot()\n",
    "# plt.grid(True)\n",
    "# plt.ylabel('ft, altitude')"
   ]
  },
  {
   "cell_type": "code",
   "execution_count": 24,
   "metadata": {},
   "outputs": [],
   "source": [
    "# plt.subplot()\n",
    "# log_hover['propulsion/engine/thrust-lbs'].plot()\n",
    "# log_hover['propulsion/engine[1]/thrust-lbs'].plot()\n",
    "# log_hover['propulsion/engine[2]/thrust-lbs'].plot()\n",
    "# log_hover['propulsion/engine[3]/thrust-lbs'].plot()\n",
    "# plt.grid(True)\n",
    "# plt.legend(['rcp', 'rhp', 'lcp', 'lhp'])\n",
    "# plt.ylabel('lbs, engine thrusts')\n",
    "# plt.show()"
   ]
  },
  {
   "cell_type": "code",
   "execution_count": 25,
   "metadata": {},
   "outputs": [],
   "source": [
    "# plt.subplot()\n",
    "# log_hover['propulsion/engine/pitch-angle-rad'].plot()\n",
    "# log_hover['propulsion/engine[1]/pitch-angle-rad'].plot()\n",
    "# log_hover['propulsion/engine[2]/pitch-angle-rad'].plot()\n",
    "# log_hover['propulsion/engine[3]/pitch-angle-rad'].plot()\n",
    "# plt.grid(True)\n",
    "# plt.legend(['rcp', 'rhp', 'lcp', 'lhp'])\n",
    "# plt.ylabel('deg, engine pitch angle')\n",
    "# plt.show()"
   ]
  },
  {
   "cell_type": "markdown",
   "metadata": {},
   "source": [
    "## Hover Auto Pilot"
   ]
  },
  {
   "cell_type": "code",
   "execution_count": 5,
   "metadata": {},
   "outputs": [],
   "source": [
    "op_hover_auto = dict(op_hover)\n",
    "op_hover_auto['ic/theta-deg'] = 5\n",
    "op_hover_auto['ic/phi-deg'] = 5\n",
    "op_hover_auto['ic/h-agl-ft'] = 60\n",
    "\n",
    "op_hover_auto['ap/heading-cmd-deg'] = 280\n",
    "op_hover_auto['ap/gear-enable'] = 1\n",
    "op_hover_auto['ap/roll-enable'] = 1\n",
    "op_hover_auto['ap/pitch-enable'] = 1\n",
    "op_hover_auto['ap/yaw-enable'] = 0\n",
    "op_hover_auto['ap/h-enable'] = 1\n",
    "op_hover_auto['ap/h-sl-cmd-ft'] = 700\n",
    "\n",
    "# log_hover_auto = simulate(\n",
    "#     aircraft='F-35B-2',\n",
    "#     op_0=op_hover_auto,\n",
    "#     tf=20,\n",
    "#     realtime=False)"
   ]
  },
  {
   "cell_type": "markdown",
   "metadata": {},
   "source": [
    "## Cruise Trimming"
   ]
  },
  {
   "cell_type": "code",
   "execution_count": 21,
   "metadata": {},
   "outputs": [
    {
     "name": "stdout",
     "output_type": "stream",
     "text": [
      "     fun: 0.04616143216595925\n",
      "     jac: array([-2395.82825243, -2724.66478909, -3074.23672021, -3413.39964   ,\n",
      "       -4080.17502356, -4100.23550488])\n",
      " message: 'Iteration limit reached'\n",
      "    nfev: 1513\n",
      "     nit: 100\n",
      "    njev: 100\n",
      "  status: 9\n",
      " success: False\n",
      "       x: array([ 2.74980309e-01,  1.37261698e-01, -8.65638182e-05, -2.58746520e-05,\n",
      "        1.95964398e-02, -1.39936257e-04])\n",
      "constraint eq 0.005052623397873157\n",
      "constraint eq 0.06993098310341513\n",
      "constraint eq 0.30851235039476776\n",
      "constraint eq -1.0428191007522104e-06\n",
      "constraint eq -0.003548193887460573\n",
      "constraint eq 1.023386070566982e-06\n"
     ]
    },
    {
     "ename": "RuntimeError",
     "evalue": "trim failed:\n     fun: 0.04616143216595925\n     jac: array([-2395.82825243, -2724.66478909, -3074.23672021, -3413.39964   ,\n       -4080.17502356, -4100.23550488])\n message: 'Iteration limit reached'\n    nfev: 1513\n     nit: 100\n    njev: 100\n  status: 9\n success: False\n       x: array([ 2.74980309e-01,  1.37261698e-01, -8.65638182e-05, -2.58746520e-05,\n        1.95964398e-02, -1.39936257e-04])\n{'accelerations/a-pilot-x-ft_sec2': 1.2657773461112503, 'accelerations/a-pilot-y-ft_sec2': 0.0072862283127884285, 'accelerations/a-pilot-z-ft_sec2': -31.70932047362321, 'accelerations/n-pilot-x-norm': 0.03934156262278241, 'accelerations/n-pilot-y-norm': 0.0002264628991284397, 'accelerations/n-pilot-z-norm': -0.9855558096149405, 'accelerations/Nx': 0.0392128638294621, 'accelerations/Ny': 0.00022609640738922976, 'accelerations/Nz': 0.986955277824784, 'accelerations/pdot-rad_sec2': -1.0428195016423922e-06, 'accelerations/qdot-rad_sec2': -0.003548189093110293, 'accelerations/rdot-rad_sec2': 1.023386070566982e-06, 'accelerations/udot-ft_sec2': 0.005053295005837732, 'accelerations/vdot-ft_sec2': 0.06993059890420354, 'accelerations/wdot-ft_sec2': 0.30848773264879625, 'accelerations/gravity-ft_sec2': 32.10518413963992}",
     "output_type": "error",
     "traceback": [
      "\u001b[1;31m---------------------------------------------------------------------------\u001b[0m",
      "\u001b[1;31mRuntimeError\u001b[0m                              Traceback (most recent call last)",
      "\u001b[1;32m<ipython-input-21-774c7db4d75f>\u001b[0m in \u001b[0;36m<module>\u001b[1;34m\u001b[0m\n\u001b[0;32m     17\u001b[0m \u001b[1;33m\u001b[0m\u001b[0m\n\u001b[0;32m     18\u001b[0m \u001b[1;33m\u001b[0m\u001b[0m\n\u001b[1;32m---> 19\u001b[1;33m op_cruise, prop, res = trim(\n\u001b[0m\u001b[0;32m     20\u001b[0m     \u001b[0maircraft\u001b[0m\u001b[1;33m=\u001b[0m\u001b[1;34m'F-35B-2'\u001b[0m\u001b[1;33m,\u001b[0m\u001b[1;33m\u001b[0m\u001b[1;33m\u001b[0m\u001b[0m\n\u001b[0;32m     21\u001b[0m     ic={\n",
      "\u001b[1;32mD:\\AAE 451\\aae451-notebook\\6-Simulation\\jsbsim_utils.py\u001b[0m in \u001b[0;36mtrim\u001b[1;34m(aircraft, ic, design_vector, x0, verbose, cost, eq_constraints, tol, ftol, show, **kwargs)\u001b[0m\n\u001b[0;32m    121\u001b[0m \u001b[1;33m\u001b[0m\u001b[0m\n\u001b[0;32m    122\u001b[0m     \u001b[1;32mif\u001b[0m \u001b[1;32mnot\u001b[0m \u001b[0mres\u001b[0m\u001b[1;33m[\u001b[0m\u001b[1;34m'success'\u001b[0m\u001b[1;33m]\u001b[0m \u001b[1;32mor\u001b[0m \u001b[0mftol\u001b[0m \u001b[1;32mis\u001b[0m \u001b[1;32mnot\u001b[0m \u001b[1;32mNone\u001b[0m \u001b[1;32mand\u001b[0m \u001b[0mabs\u001b[0m\u001b[1;33m(\u001b[0m\u001b[0mres\u001b[0m\u001b[1;33m[\u001b[0m\u001b[1;34m'fun'\u001b[0m\u001b[1;33m]\u001b[0m\u001b[1;33m)\u001b[0m \u001b[1;33m>\u001b[0m \u001b[0mftol\u001b[0m\u001b[1;33m:\u001b[0m\u001b[1;33m\u001b[0m\u001b[1;33m\u001b[0m\u001b[0m\n\u001b[1;32m--> 123\u001b[1;33m         raise RuntimeError('trim failed:\\n' + str(res) + '\\n' + \\\n\u001b[0m\u001b[0;32m    124\u001b[0m                            str(fdm.get_property_catalog('acceleration')))\n\u001b[0;32m    125\u001b[0m     \u001b[0mprops\u001b[0m \u001b[1;33m=\u001b[0m \u001b[0mfdm\u001b[0m\u001b[1;33m.\u001b[0m\u001b[0mget_property_catalog\u001b[0m\u001b[1;33m(\u001b[0m\u001b[1;34m''\u001b[0m\u001b[1;33m)\u001b[0m\u001b[1;33m\u001b[0m\u001b[1;33m\u001b[0m\u001b[0m\n",
      "\u001b[1;31mRuntimeError\u001b[0m: trim failed:\n     fun: 0.04616143216595925\n     jac: array([-2395.82825243, -2724.66478909, -3074.23672021, -3413.39964   ,\n       -4080.17502356, -4100.23550488])\n message: 'Iteration limit reached'\n    nfev: 1513\n     nit: 100\n    njev: 100\n  status: 9\n success: False\n       x: array([ 2.74980309e-01,  1.37261698e-01, -8.65638182e-05, -2.58746520e-05,\n        1.95964398e-02, -1.39936257e-04])\n{'accelerations/a-pilot-x-ft_sec2': 1.2657773461112503, 'accelerations/a-pilot-y-ft_sec2': 0.0072862283127884285, 'accelerations/a-pilot-z-ft_sec2': -31.70932047362321, 'accelerations/n-pilot-x-norm': 0.03934156262278241, 'accelerations/n-pilot-y-norm': 0.0002264628991284397, 'accelerations/n-pilot-z-norm': -0.9855558096149405, 'accelerations/Nx': 0.0392128638294621, 'accelerations/Ny': 0.00022609640738922976, 'accelerations/Nz': 0.986955277824784, 'accelerations/pdot-rad_sec2': -1.0428195016423922e-06, 'accelerations/qdot-rad_sec2': -0.003548189093110293, 'accelerations/rdot-rad_sec2': 1.023386070566982e-06, 'accelerations/udot-ft_sec2': 0.005053295005837732, 'accelerations/vdot-ft_sec2': 0.06993059890420354, 'accelerations/wdot-ft_sec2': 0.30848773264879625, 'accelerations/gravity-ft_sec2': 32.10518413963992}"
     ]
    }
   ],
   "source": [
    "def cost_cruise(fdm):\n",
    "    # modify cost to also penalize throttle\n",
    "    delta = fdm['propulsion/engine/pitch-angle-rad']\n",
    "    theta = fdm['attitude/theta-rad']\n",
    "    drag = fdm['forces/fwx-aero-lbs']\n",
    "    lift = fdm['forces/fwz-aero-lbs']\n",
    "    alpha = fdm['aero/alpha-rad']\n",
    "    throttle = fdm['fcs/throttle-cmd-norm']\n",
    "    \n",
    "    udot = fdm['accelerations/udot-ft_sec2']\n",
    "    vdot = fdm['accelerations/vdot-ft_sec2']\n",
    "    wdot = fdm['accelerations/wdot-ft_sec2']\n",
    "    pdot = fdm['accelerations/pdot-rad_sec2']\n",
    "    qdot = fdm['accelerations/qdot-rad_sec2']\n",
    "    rdot = fdm['accelerations/rdot-rad_sec2']\n",
    "    return udot**2 + vdot**2 + wdot**2 + pdot**2 + qdot**2 + rdot**2 - 1e-3*(lift/drag)**2 + 1e-3*(theta < 0) + 1e-1*throttle + 2e-1*delta**2 \n",
    "        \n",
    "\n",
    "op_cruise, prop, res = trim(\n",
    "    aircraft='F-35B-2',\n",
    "    ic={\n",
    "        'ic/gamma-rad': 0,\n",
    "#         'ic/vt-fps': 677,\n",
    "        \n",
    "        ## Modification\n",
    "        'ic/u-fps': 677,\n",
    "        'ic/v-fps': 0,\n",
    "        'ic/w-fps': 0,\n",
    "        \n",
    "        'ic/q-rad_sec': 0,\n",
    "        'ic/p-rad_sec': 0,\n",
    "        'ic/r-rad_sec': 0,\n",
    "        ## End of modification\n",
    "        \n",
    "        'ic/h-agl-ft': 38000,\n",
    "        'gear/gear-cmd-norm': 0,\n",
    "        'fcs/left-brake-cmd-norm': 0,\n",
    "        'fcs/right-brake-cmd-norm': 0,\n",
    "        'fcs/center-brake-cmd-norm': 0,\n",
    "        'propulsion/engine/pitch-angle-rad': 0,\n",
    "        'propulsion/engine[1]/pitch-angle-rad': 0,\n",
    "        'propulsion/engine[2]/pitch-angle-rad': 0,\n",
    "        'propulsion/engine[3]/pitch-angle-rad': 0,\n",
    "    },\n",
    "#     design_vector=[\n",
    "#         'fcs/throttle-cmd-norm',\n",
    "#         'fcs/elevator-cmd-norm',\n",
    "#         'fcs/rudder-cmd-norm',\n",
    "#         'fcs/aileron-cmd-norm',\n",
    "#         'ic/alpha-rad',\n",
    "#         'ic/beta-rad',\n",
    "#         'propulsion/engine/pitch-angle-rad',\n",
    "#     ],\n",
    "#     cost=cost_cruise,\n",
    "    \n",
    "    design_vector=[\n",
    "        'fcs/throttle-cmd-norm',\n",
    "        'fcs/elevator-cmd-norm',\n",
    "        'fcs/rudder-cmd-norm',\n",
    "        'fcs/aileron-cmd-norm',\n",
    "        'ic/alpha-rad',\n",
    "        'ic/beta-rad',\n",
    "    ],\n",
    "    method='SLSQP',\n",
    "    eq_constraints= [\n",
    "        lambda fdm: fdm['accelerations/udot-ft_sec2'],\n",
    "        lambda fdm: fdm['accelerations/vdot-ft_sec2'],\n",
    "        lambda fdm: fdm['accelerations/wdot-ft_sec2'],\n",
    "        lambda fdm: fdm['accelerations/pdot-rad_sec2'],\n",
    "        lambda fdm: fdm['accelerations/qdot-rad_sec2'],\n",
    "        lambda fdm: fdm['accelerations/rdot-rad_sec2'],\n",
    "    ],\n",
    "#     cost=lambda fdm: fdm['fcs/throttle-cmd-norm'],\n",
    "    cost=cost_cruise,\n",
    "    x0=[0.4, 0, 0, 0, 0, 0],\n",
    "    verbose=True,\n",
    "    bounds=[[0, 1], [-1, 1], [-1, 1], [-1, 1], [-1, 1], [-1, 1]],\n",
    "    tol=1e-12,\n",
    ")\n",
    "print(op_cruise)\n",
    "\n",
    "data2 = dict()\n",
    "data2['res'] = res\n",
    "data2['op_cruise'] = op_cruise\n",
    "\n",
    "all_data['cruiseTrim'] = data2"
   ]
  },
  {
   "cell_type": "code",
   "execution_count": 20,
   "metadata": {},
   "outputs": [
    {
     "data": {
      "text/plain": [
       "{'ic/gamma-rad': 0,\n",
       " 'ic/vt-fps': 677,\n",
       " 'ic/h-agl-ft': 38000.0,\n",
       " 'gear/gear-cmd-norm': 0,\n",
       " 'fcs/left-brake-cmd-norm': 0,\n",
       " 'fcs/right-brake-cmd-norm': 0,\n",
       " 'fcs/center-brake-cmd-norm': 0,\n",
       " 'propulsion/engine/pitch-angle-rad': 0,\n",
       " 'propulsion/engine[1]/pitch-angle-rad': 0,\n",
       " 'propulsion/engine[2]/pitch-angle-rad': 0,\n",
       " 'propulsion/engine[3]/pitch-angle-rad': 0,\n",
       " 'fcs/throttle-cmd-norm': 0.16673315207787176,\n",
       " 'fcs/elevator-cmd-norm': 0.14031067006746925,\n",
       " 'fcs/rudder-cmd-norm': 0.0007573899576671861,\n",
       " 'fcs/aileron-cmd-norm': 0.00022613538432062958,\n",
       " 'ic/alpha-rad': 0.020183191364411775,\n",
       " 'ic/beta-rad': 0.0012250540353381126}"
      ]
     },
     "execution_count": 20,
     "metadata": {},
     "output_type": "execute_result"
    }
   ],
   "source": [
    "op_cruise"
   ]
  },
  {
   "cell_type": "code",
   "execution_count": 29,
   "metadata": {},
   "outputs": [],
   "source": [
    "# log_cruise = simulate(\n",
    "#     aircraft='F-35B-2',\n",
    "#     op_0=op_cruise,\n",
    "#     tf=10,\n",
    "#     realtime=True)"
   ]
  },
  {
   "cell_type": "code",
   "execution_count": 30,
   "metadata": {},
   "outputs": [],
   "source": [
    "# plt.subplot()\n",
    "# log_cruise['propulsion/engine/pitch-angle-rad'].plot()\n",
    "# log_cruise['propulsion/engine[1]/pitch-angle-rad'].plot()\n",
    "# log_cruise['propulsion/engine[2]/pitch-angle-rad'].plot()\n",
    "# log_cruise['propulsion/engine[3]/pitch-angle-rad'].plot()\n",
    "# plt.grid(True)\n",
    "# plt.legend(['rcp', 'rhp', 'lcp', 'lhp'])\n",
    "# plt.ylabel('lb, pounds')\n",
    "# plt.show()"
   ]
  },
  {
   "cell_type": "code",
   "execution_count": 31,
   "metadata": {},
   "outputs": [],
   "source": [
    "# log_cruise['forces/fwx-aero-lbs'].plot()\n",
    "# plt.ylabel('lbs, drag')\n",
    "# plt.grid(True)"
   ]
  },
  {
   "cell_type": "code",
   "execution_count": 32,
   "metadata": {},
   "outputs": [],
   "source": [
    "# log_cruise['forces/fwy-aero-lbs'].plot()\n",
    "# plt.grid(True)\n",
    "# plt.ylabel('lbs, side-force')"
   ]
  },
  {
   "cell_type": "code",
   "execution_count": 33,
   "metadata": {},
   "outputs": [],
   "source": [
    "# log_cruise['forces/fwz-aero-lbs'].plot()\n",
    "# plt.grid(True)\n",
    "# plt.ylabel('lbs, lift')"
   ]
  },
  {
   "cell_type": "code",
   "execution_count": 34,
   "metadata": {},
   "outputs": [],
   "source": [
    "# log_cruise['aero/alpha-deg'].plot()\n",
    "# plt.ylabel('deg, angle of attack')\n",
    "# plt.grid(True)"
   ]
  },
  {
   "cell_type": "code",
   "execution_count": 35,
   "metadata": {},
   "outputs": [],
   "source": [
    "# log_cruise['fcs/elevator-pos-deg'].plot()\n",
    "# plt.grid(True)\n",
    "# plt.ylabel('deg, elevator angle')"
   ]
  },
  {
   "cell_type": "code",
   "execution_count": 36,
   "metadata": {},
   "outputs": [],
   "source": [
    "# plt.subplot()\n",
    "# log_cruise['fcs/left-aileron-pos-deg'].plot()\n",
    "# log_cruise['fcs/right-aileron-pos-deg'].plot()\n",
    "# plt.grid(True)\n",
    "# plt.legend(['left aileron', 'right aileron'])\n",
    "# plt.ylabel(\"deg, aileron angle\")\n",
    "# plt.show()"
   ]
  },
  {
   "cell_type": "code",
   "execution_count": 37,
   "metadata": {},
   "outputs": [],
   "source": [
    "# log_cruise['fcs/rudder-pos-deg'].plot()\n",
    "# plt.grid(True)\n",
    "# plt.ylabel('deg, rudder angle')"
   ]
  },
  {
   "cell_type": "code",
   "execution_count": 38,
   "metadata": {},
   "outputs": [],
   "source": [
    "# log_cruise['velocities/vt-fps'].plot()\n",
    "# plt.grid(True)\n",
    "# plt.ylabel(\"fps, velocity\")"
   ]
  },
  {
   "cell_type": "code",
   "execution_count": 27,
   "metadata": {},
   "outputs": [],
   "source": [
    "# log_hover_auto['fcs/throttle-pos-norm'].plot(label='0')\n",
    "# log_hover_auto['fcs/throttle-pos-norm[1]'].plot(label='1')\n",
    "# log_hover_auto['fcs/throttle-pos-norm[2]'].plot(label='2')\n",
    "# log_hover_auto['fcs/throttle-pos-norm[3]'].plot(label='3')\n",
    "\n",
    "# plt.legend()"
   ]
  },
  {
   "cell_type": "markdown",
   "metadata": {},
   "source": [
    "## Cruise Auto Pilot"
   ]
  },
  {
   "cell_type": "code",
   "execution_count": 13,
   "metadata": {},
   "outputs": [],
   "source": [
    "## Initial state\n",
    "op_cruise_auto = dict(op_cruise)\n",
    "op_cruise_auto['ic/theta-deg'] = 0\n",
    "op_cruise_auto['ic/phi-deg'] = 0\n",
    "op_cruise_auto['ic/h-agl-ft'] = 38000\n",
    "# op_cruise_auto['ic/u-fps'] = 677\n",
    "op_cruise_auto['ic/vt-fps'] = 677\n",
    "op_cruise_auto['ic/beta-rad'] = 0\n",
    "\n",
    "## Command\n",
    "op_cruise_auto['ap/heading-cmd-deg'] = 300\n",
    "op_cruise_auto['ap/gear-enable'] = 0\n",
    "op_cruise_auto['ap/roll-enable'] = 1\n",
    "op_cruise_auto['ap/pitch-enable'] = 1\n",
    "op_cruise_auto['ap/yaw-enable'] = 0\n",
    "op_cruise_auto['ap/h-enable'] = 1\n",
    "op_cruise_auto['ap/h-sl-cmd-ft'] = 38000\n",
    "\n",
    "# log_cruise_auto = simulate(\n",
    "#     aircraft='F-35B-2',\n",
    "#     op_0=op_cruise_auto,\n",
    "#     tf=5,\n",
    "#     realtime=False)"
   ]
  },
  {
   "cell_type": "code",
   "execution_count": 37,
   "metadata": {},
   "outputs": [
    {
     "ename": "KeyError",
     "evalue": "'hess_inv'",
     "output_type": "error",
     "traceback": [
      "\u001b[1;31m---------------------------------------------------------------------------\u001b[0m",
      "\u001b[1;31mKeyError\u001b[0m                                  Traceback (most recent call last)",
      "\u001b[1;32m<ipython-input-37-871aa2a6bceb>\u001b[0m in \u001b[0;36m<module>\u001b[1;34m\u001b[0m\n\u001b[1;32m----> 1\u001b[1;33m \u001b[1;32mdel\u001b[0m \u001b[0mall_data\u001b[0m\u001b[1;33m[\u001b[0m\u001b[1;34m'cruiseTrim'\u001b[0m\u001b[1;33m]\u001b[0m\u001b[1;33m[\u001b[0m\u001b[1;34m'res'\u001b[0m\u001b[1;33m]\u001b[0m\u001b[1;33m[\u001b[0m\u001b[1;34m'hess_inv'\u001b[0m\u001b[1;33m]\u001b[0m\u001b[1;33m\u001b[0m\u001b[1;33m\u001b[0m\u001b[0m\n\u001b[0m",
      "\u001b[1;31mKeyError\u001b[0m: 'hess_inv'"
     ]
    }
   ],
   "source": [
    "del all_data['cruiseTrim']['res']['hess_inv']"
   ]
  },
  {
   "cell_type": "code",
   "execution_count": null,
   "metadata": {},
   "outputs": [],
   "source": [
    "del all_data['hoverTrim']['res']['hess_inv']"
   ]
  },
  {
   "cell_type": "code",
   "execution_count": null,
   "metadata": {},
   "outputs": [],
   "source": [
    "del all_data['cruiseTrim']['res']['message']\n",
    "del all_data['groundTrim']['res']['message']\n",
    "del all_data['hoverTrim']['res']['message']"
   ]
  },
  {
   "cell_type": "code",
   "execution_count": null,
   "metadata": {},
   "outputs": [],
   "source": [
    "# encode numpy array for JSON serializable\n",
    "class NumpyEncoder(json.JSONEncoder):\n",
    "    def default(self, obj):\n",
    "        if isinstance(obj, np.ndarray):\n",
    "            return obj.tolist()\n",
    "        return json.JSONEncoder.default(self, obj)\n",
    "\n",
    "# save all output as JSON file \n",
    "with open('jsbsim_opt.json', '+w') as jfile:\n",
    "    json.dump(all_data, jfile, indent=4, cls=NumpyEncoder)"
   ]
  },
  {
   "cell_type": "code",
   "execution_count": null,
   "metadata": {},
   "outputs": [],
   "source": [
    "result = log_cruise.to_json(orient=\"split\")\n",
    "parsed = json.loads(result)\n",
    "with open('log_cruise.json', 'w') as jfile: \n",
    "    json.dump(parsed, jfile, indent=4)"
   ]
  },
  {
   "cell_type": "code",
   "execution_count": null,
   "metadata": {},
   "outputs": [],
   "source": [
    "result = log_ground.to_json(orient=\"split\")\n",
    "parsed = json.loads(result)\n",
    "with open('log_ground.json', 'w') as jfile: \n",
    "    json.dump(parsed, jfile, indent=4)"
   ]
  },
  {
   "cell_type": "code",
   "execution_count": null,
   "metadata": {},
   "outputs": [],
   "source": [
    "result = log_hover.to_json(orient=\"split\")\n",
    "parsed = json.loads(result)\n",
    "with open('log_hover.json', 'w') as jfile: \n",
    "    json.dump(parsed, jfile, indent=4)"
   ]
  },
  {
   "cell_type": "markdown",
   "metadata": {},
   "source": [
    "## Transition "
   ]
  },
  {
   "cell_type": "code",
   "execution_count": null,
   "metadata": {},
   "outputs": [],
   "source": [
    "def trim_transition(vt_fps, gamma_deg, accel_g):\n",
    "    print('trimming @ Vt=', vt_fps, 'fps', 'gamma = ', gamma_deg, 'deg')\n",
    "    \n",
    "    def accel_gamma(fdm, accel_g, gamma_deg):\n",
    "        gamma = np.deg2rad(gamma_deg)\n",
    "        g = 32.2\n",
    "        theta = fdm['attitude/theta-rad']\n",
    "        C_nb = np.array([\n",
    "            [np.cos(theta), -np.sin(theta)],\n",
    "            [np.sin(theta), np.cos(theta)]\n",
    "        ])\n",
    "        a_n = accel_g*g*np.array([np.cos(gamma), np.sin(gamma)])\n",
    "        a_b = C_nb.T.dot(a_n)\n",
    "        return a_b\n",
    "    \n",
    "    if vt_fps < 250:\n",
    "        x0 = [0.9, 0, 0, 0, np.deg2rad(90), \n",
    "                            np.deg2rad(90),\n",
    "                            np.deg2rad(90),\n",
    "                            np.deg2rad(90),\n",
    "              np.deg2rad(0), 0],\n",
    "    elif vt_fps < 260:\n",
    "        x0 = [0.9, 0, 0, 0, np.deg2rad(90), \n",
    "                            np.deg2rad(80),\n",
    "                            np.deg2rad(90),\n",
    "                            np.deg2rad(80),\n",
    "              np.deg2rad(0), 0],\n",
    "    elif vt_fps < 270:\n",
    "        x0 = [0.9, 0, 0, 0, np.deg2rad(80), \n",
    "                            np.deg2rad(60),\n",
    "                            np.deg2rad(80),\n",
    "                            np.deg2rad(60),\n",
    "              np.deg2rad(0), 0],\n",
    "    elif vt_fps < 280:\n",
    "        x0 = [0.9, 0, 0, 0, np.deg2rad(60), \n",
    "                            np.deg2rad(45),\n",
    "                            np.deg2rad(60),\n",
    "                            np.deg2rad(45),\n",
    "              np.deg2rad(0), 0],\n",
    "    elif vt_fps < 285:\n",
    "        x0 = [0.9, 0, 0, 0, np.deg2rad(40), \n",
    "                            np.deg2rad(20),\n",
    "                            np.deg2rad(40),\n",
    "                            np.deg2rad(20),\n",
    "              np.deg2rad(0), 0],\n",
    "    elif vt_fps < 290:\n",
    "        x0 = [0.9, 0, 0, 0, np.deg2rad(15), \n",
    "                            np.deg2rad(5),\n",
    "                            np.deg2rad(15),\n",
    "                            np.deg2rad(5),\n",
    "              np.deg2rad(0), 0],\n",
    "    elif vt_fps < 300:\n",
    "        x0 = [0.9, 0, 0, 0, np.deg2rad(3), \n",
    "                            np.deg2rad(3),\n",
    "                            np.deg2rad(3),\n",
    "                            np.deg2rad(3),\n",
    "              np.deg2rad(0), 0],\n",
    "    else:\n",
    "        x0 = [0.9, 0, 0, 0, np.deg2rad(0),\n",
    "                            np.deg2rad(0),\n",
    "                            np.deg2rad(0),\n",
    "                            np.deg2rad(0),\n",
    "              np.deg2rad(0), 0],\n",
    "\n",
    "    op, props, res = trim(\n",
    "        aircraft='F-35B-2',\n",
    "        ic={\n",
    "            'ic/h-sl-ft': 800,\n",
    "            'ic/vt-fps': vt_fps,\n",
    "            'ic/gamma-deg': gamma_deg,\n",
    "            'ap/gear-enable': 1,\n",
    "        },\n",
    "        design_vector=[\n",
    "            'fcs/throttle-cmd-norm',\n",
    "            'fcs/elevator-cmd-norm',\n",
    "            'fcs/rudder-cmd-norm',\n",
    "            'fcs/aileron-cmd-norm',\n",
    "            'propulsion/engine/pitch-angle-rad',\n",
    "            'propulsion/engine[1]/pitch-angle-rad',\n",
    "            'propulsion/engine[2]/pitch-angle-rad',\n",
    "            'propulsion/engine[3]/pitch-angle-rad',\n",
    "            'ic/alpha-rad',\n",
    "            'ic/beta-rad',\n",
    "        ],\n",
    "        x0=x0,\n",
    "        verbose=False,\n",
    "        method='SLSQP',\n",
    "        eq_constraints= [\n",
    "            lambda fdm: fdm['accelerations/udot-ft_sec2'] - accel_gamma(fdm, accel_g, gamma_deg)[0],\n",
    "            lambda fdm: fdm['accelerations/vdot-ft_sec2'],\n",
    "            lambda fdm: fdm['accelerations/wdot-ft_sec2'] - accel_gamma(fdm, accel_g, gamma_deg)[1],\n",
    "            lambda fdm: fdm['accelerations/pdot-rad_sec2'],\n",
    "            lambda fdm: fdm['accelerations/qdot-rad_sec2'],\n",
    "            lambda fdm: fdm['accelerations/rdot-rad_sec2'],\n",
    "        ],\n",
    "        cost=lambda fdm: fdm['fcs/throttle-cmd-norm'],\n",
    "        bounds=[[0, 1], [-1, 1], [-1, 1], [-1, 1],\n",
    "                [np.deg2rad(0), np.deg2rad(120)],\n",
    "                [np.deg2rad(0), np.deg2rad(120)],\n",
    "                [np.deg2rad(0), np.deg2rad(120)],\n",
    "                [np.deg2rad(0), np.deg2rad(120)],\n",
    "                [-0.1, 0.1], [-0.1, 0.1]],\n",
    "        tol=1e-12)\n",
    "    return op\n",
    "\n",
    "ops_trim = [trim_transition(vt_fps=vt, gamma_deg=0, accel_g=0)\n",
    "                  for vt in [10, 50, 100, 150, 200, 250, 300, 400, 500, 600, 700, 790]]\n",
    "for op in ops_trim:\n",
    "    print('\\nvt fps', op['ic/vt-fps'])\n",
    "    print('theta deg', op['ic/gamma-deg'] + np.rad2deg(op['ic/alpha-rad']))\n",
    "    print('elevator', op['fcs/elevator-cmd-norm'])\n",
    "    print('aileron', op['fcs/aileron-cmd-norm'])\n",
    "    print('rudder', op['fcs/rudder-cmd-norm'])\n",
    "    print('throttle', op['fcs/throttle-cmd-norm'])"
   ]
  },
  {
   "cell_type": "code",
   "execution_count": null,
   "metadata": {},
   "outputs": [],
   "source": [
    "ops_transition = [trim_transition(vt_fps=vt, gamma_deg=10, accel_g=0.1)\n",
    "                  for vt in [10, 50, 100, 150, 200, 250, 300, 400, 500, 600, 650]]\n",
    "\n",
    "ops_transition_auto = []\n",
    "for op in ops_transition:\n",
    "    op = dict(op)\n",
    "    print('\\nvt fps', op['ic/vt-fps'])\n",
    "    print('theta deg', op['ic/gamma-deg'] + np.rad2deg(op['ic/alpha-rad']))\n",
    "    print('elevator', op['fcs/elevator-cmd-norm'])\n",
    "    print('aileron', op['fcs/aileron-cmd-norm'])\n",
    "    print('rudder', op['fcs/rudder-cmd-norm'])\n",
    "    print('throttle', op['fcs/throttle-cmd-norm'])\n",
    "    op['ap/roll-enable'] = 1\n",
    "    op['ap/pitch-enable'] = 1\n",
    "    op['ap/yaw-enable'] = 1\n",
    "    op['ap/h-enable'] = 0\n",
    "    op['ap/h-sl-cmd-ft'] = 1000\n",
    "    ops_transition_auto.append(op)"
   ]
  },
  {
   "cell_type": "code",
   "execution_count": null,
   "metadata": {},
   "outputs": [],
   "source": [
    "# log_transition_auto = []\n",
    "# for op in ops_transition_auto:\n",
    "#     log = simulate(\n",
    "#         aircraft='F-35B-2',\n",
    "#         op_0=op,\n",
    "#         tf=10,\n",
    "#         realtime=False)\n",
    "#     log_transition_auto.append(log)"
   ]
  },
  {
   "cell_type": "markdown",
   "metadata": {},
   "source": [
    "## Auto takeoff "
   ]
  },
  {
   "cell_type": "code",
   "execution_count": null,
   "metadata": {},
   "outputs": [],
   "source": [
    "# log_takeoff_auto = simulate(\n",
    "#     aircraft='F-35B-2',\n",
    "#     op_0=op_ground,\n",
    "#     op_list=[('hover', op_hover_auto, lambda fdm: fdm.get_sim_time() > 1),\n",
    "#              ('10 fps', ops_transition_auto[0], lambda fdm: fdm.get_sim_time() > 10),\n",
    "#              ('50 fps', ops_transition_auto[1], lambda fdm: fdm['velocities/vt-fps'] > 50),\n",
    "#              ('100 fps', ops_transition_auto[2], lambda fdm: fdm['velocities/vt-fps'] > 100),\n",
    "#              ('150 fps', ops_transition_auto[3], lambda fdm: fdm['velocities/vt-fps'] > 150),\n",
    "#              ('200 fps', ops_transition_auto[4], lambda fdm: fdm['velocities/vt-fps'] > 200),\n",
    "#              ('250 fps', ops_transition_auto[5], lambda fdm: fdm['velocities/vt-fps'] > 250),\n",
    "#              ('300 fps', ops_transition_auto[6], lambda fdm: fdm['velocities/vt-fps'] > 300),\n",
    "#              ('400 fps', ops_transition_auto[7], lambda fdm: fdm['velocities/vt-fps'] > 400),\n",
    "#              ('500 fps', ops_transition_auto[7], lambda fdm: fdm['velocities/vt-fps'] > 500),\n",
    "#              ('600 fps', ops_transition_auto[7], lambda fdm: fdm['velocities/vt-fps'] > 600),\n",
    "#     ],\n",
    "#     tf=120,\n",
    "#     realtime=True, verbose=True)"
   ]
  },
  {
   "cell_type": "markdown",
   "metadata": {},
   "source": [
    "# Hover Controller Design"
   ]
  },
  {
   "cell_type": "markdown",
   "metadata": {},
   "source": [
    "## Pitch"
   ]
  },
  {
   "cell_type": "code",
   "execution_count": 10,
   "metadata": {},
   "outputs": [
    {
     "name": "stdout",
     "output_type": "stream",
     "text": [
      "0 states have been removed from the model\n"
     ]
    },
    {
     "data": {
      "text/latex": [
       "$$\\frac{41.6}{s^2}$$"
      ],
      "text/plain": [
       "TransferFunction(array([41.59673593]), array([1., 0., 0.]))"
      ]
     },
     "execution_count": 10,
     "metadata": {},
     "output_type": "execute_result"
    }
   ],
   "source": [
    "sys = control.ss(*linearize(\n",
    "    aircraft='F-35B-2',\n",
    "    states=['ic/q-rad_sec'],\n",
    "    states_deriv = ['accelerations/qdot-rad_sec2'],\n",
    "    inputs=['fcs/elevator-cmd-norm'],\n",
    "    outputs=['ic/q-rad_sec'],\n",
    "    ic=op_hover,\n",
    "    dx=1e-3,\n",
    "    n_round=3\n",
    "))\n",
    "s = control.tf([1, 0], [1])\n",
    "rad2deg = 180/np.pi\n",
    "G_elev_to_pitch = rad2deg*clean_tf(control.minreal(control.ss2tf(sys), 1e-3))/s  # in degrees\n",
    "G_elev_to_pitch"
   ]
  },
  {
   "cell_type": "code",
   "execution_count": 11,
   "metadata": {},
   "outputs": [
    {
     "data": {
      "text/latex": [
       "$$\\frac{16.64}{s^3 + 0.4 s^2}$$"
      ],
      "text/plain": [
       "TransferFunction(array([16.63869437]), array([1. , 0.4, 0. , 0. ]))"
      ]
     },
     "execution_count": 11,
     "metadata": {},
     "output_type": "execute_result"
    }
   ],
   "source": [
    "# Add the actuator \n",
    "tau = 0.4\n",
    "G_act = tau / (s + tau)\n",
    "G_elev_to_pitch *= G_act\n",
    "G_elev_to_pitch"
   ]
  },
  {
   "cell_type": "code",
   "execution_count": 12,
   "metadata": {},
   "outputs": [
    {
     "name": "stdout",
     "output_type": "stream",
     "text": [
      "gain margin:  279.91799754174247\n",
      "phase margin (in degrees):  75.34873520188515\n",
      "Frequency for gain margin (at phase crossover, phase = -180 degrees):  7.701211984224118\n",
      "Frequency for phase margin (at gain crossover, gain = 1):  0.5143201650762546\n"
     ]
    },
    {
     "name": "stderr",
     "output_type": "stream",
     "text": [
      "C:\\Users\\12646\\anaconda3\\lib\\site-packages\\control\\margins.py:322: RuntimeWarning: invalid value encountered in less_equal\n",
      "  w_180 = w_180[w180_resp <= 0.]\n",
      "C:\\Users\\12646\\anaconda3\\lib\\site-packages\\control\\margins.py:323: RuntimeWarning: invalid value encountered in less_equal\n",
      "  w180_resp = w180_resp[w180_resp <= 0.]\n"
     ]
    },
    {
     "data": {
      "image/png": "[encoded data removed]",
      "text/plain": [
       "<Figure size 432x288 with 1 Axes>"
      ]
     },
     "metadata": {
      "needs_background": "light"
     },
     "output_type": "display_data"
    },
    {
     "data": {
      "image/png": "[encoded data removed]",
      "text/plain": [
       "<Figure size 432x288 with 1 Axes>"
      ]
     },
     "metadata": {
      "needs_background": "light"
     },
     "output_type": "display_data"
    },
    {
     "data": {
      "image/png": "[encoded data removed]",
      "text/plain": [
       "<Figure size 432x288 with 1 Axes>"
      ]
     },
     "metadata": {
      "needs_background": "light"
     },
     "output_type": "display_data"
    },
    {
     "data": {
      "image/png": "[encoded data removed]",
      "text/plain": [
       "<Figure size 432x288 with 1 Axes>"
      ]
     },
     "metadata": {
      "needs_background": "light"
     },
     "output_type": "display_data"
    },
    {
     "data": {
      "image/png": "[encoded data removed]",
      "text/plain": [
       "<Figure size 1080x504 with 4 Axes>"
      ]
     },
     "metadata": {
      "needs_background": "light"
     },
     "output_type": "display_data"
    },
    {
     "data": {
      "image/png": "[encoded data removed]",
      "text/plain": [
       "<Figure size 432x288 with 1 Axes>"
      ]
     },
     "metadata": {
      "needs_background": "light"
     },
     "output_type": "display_data"
    }
   ],
   "source": [
    "# PD gains to lead-lag gains \n",
    "Kp = 1.27231590533845e-09\n",
    "Kd = 0.0127229959138648\n",
    "N = 148.271702233295\n",
    "\n",
    "c1 = N*Kd + Kp\n",
    "c2 = N*Kp\n",
    "c3 = 1\n",
    "c4 = N\n",
    "\n",
    "H_elev_to_pitch = (c1 * s + c2) / (c3 * s + c4)\n",
    "# H_elev_to_pitch = 1 + 0.01*s\n",
    "\n",
    "plt.figure()\n",
    "rootlocus(G_elev_to_pitch*H_elev_to_pitch)\n",
    "plt.plot([0, -1], [0, 1], '--')\n",
    "\n",
    "plt.figure()\n",
    "rootlocus(G_elev_to_pitch*H_elev_to_pitch)\n",
    "plt.xlim([-1.5, 0])\n",
    "plt.plot([0, -1], [0, 1], '--')\n",
    "\n",
    "Gc_elev_to_pitch = G_elev_to_pitch*H_elev_to_pitch/(1 + G_elev_to_pitch*H_elev_to_pitch)\n",
    "\n",
    "plt.figure()\n",
    "step_size = 10\n",
    "t, y = control.step_response(step_size*Gc_elev_to_pitch, T=np.linspace(0, 30, 1000))\n",
    "plt.plot(t, y)\n",
    "plt.ylabel('pitch, deg')\n",
    "plt.xlabel('t, sec')\n",
    "plt.title('output')\n",
    "\n",
    "plt.figure()\n",
    "# actual error was computed in radians, so, converting back here\n",
    "e = np.deg2rad(step_size-y)\n",
    "t, u, _= control.forced_response(H_elev_to_pitch, T=t, U=e)\n",
    "plt.plot(t, u)\n",
    "plt.hlines([-1, 1], t[0], t[-1], linestyles='dashed')\n",
    "plt.title('input')\n",
    "plt.ylabel('elevator, norm')\n",
    "plt.xlabel('t, sec')\n",
    "\n",
    "plt.figure(figsize=(15, 7))\n",
    "control.gangof4(G_elev_to_pitch, H_elev_to_pitch, Hz=True, dB=True)\n",
    "\n",
    "plt.figure()\n",
    "control.nyquist(Gc_elev_to_pitch, omega=np.logspace(-3, 3, 1000))\n",
    "\n",
    "gm, pm, wg, wp = control.margin(Gc_elev_to_pitch)\n",
    "print('gain margin: ', gm)\n",
    "print('phase margin (in degrees): ', pm)\n",
    "print('Frequency for gain margin (at phase crossover, phase = -180 degrees): ', wg)\n",
    "print('Frequency for phase margin (at gain crossover, gain = 1): ', wp)"
   ]
  },
  {
   "cell_type": "markdown",
   "metadata": {},
   "source": [
    "## Roll"
   ]
  },
  {
   "cell_type": "code",
   "execution_count": 25,
   "metadata": {},
   "outputs": [
    {
     "name": "stdout",
     "output_type": "stream",
     "text": [
      "0 states have been removed from the model\n"
     ]
    },
    {
     "data": {
      "text/latex": [
       "$$\\frac{76.15}{s^2}$$"
      ],
      "text/plain": [
       "TransferFunction(array([76.14609097]), array([1., 0., 0.]))"
      ]
     },
     "execution_count": 25,
     "metadata": {},
     "output_type": "execute_result"
    }
   ],
   "source": [
    "sys = control.ss(*linearize(\n",
    "    aircraft='F-35B-2',\n",
    "    states=['ic/p-rad_sec'],\n",
    "    states_deriv = ['accelerations/pdot-rad_sec2'],\n",
    "    inputs=['fcs/aileron-cmd-norm'],\n",
    "    outputs=['ic/p-rad_sec'],\n",
    "    ic=op_hover,\n",
    "    dx=1e-3,\n",
    "    n_round=3\n",
    "))\n",
    "rad2deg = 180/np.pi\n",
    "s = control.tf([1, 0], [1])\n",
    "G_aileron_to_roll = rad2deg*clean_tf(control.minreal(control.ss2tf(sys), 1e-3))/s\n",
    "G_aileron_to_roll"
   ]
  },
  {
   "cell_type": "code",
   "execution_count": 26,
   "metadata": {},
   "outputs": [
    {
     "data": {
      "text/latex": [
       "$$\\frac{30.46}{s^3 + 0.4 s^2}$$"
      ],
      "text/plain": [
       "TransferFunction(array([30.45843639]), array([1. , 0.4, 0. , 0. ]))"
      ]
     },
     "execution_count": 26,
     "metadata": {},
     "output_type": "execute_result"
    }
   ],
   "source": [
    "# Add the actuator \n",
    "tau = 0.4\n",
    "G_act = tau / (s + tau)\n",
    "G_aileron_to_roll *= G_act\n",
    "G_aileron_to_roll"
   ]
  },
  {
   "cell_type": "code",
   "execution_count": 29,
   "metadata": {},
   "outputs": [
    {
     "name": "stdout",
     "output_type": "stream",
     "text": [
      "gain margin:  865.3152846943185\n",
      "phase margin (in degrees):  71.51644079345976\n",
      "Frequency for gain margin (at phase crossover, phase = -180 degrees):  14.213245378226855\n",
      "Frequency for phase margin (at gain crossover, gain = 1):  0.5541833675809549\n"
     ]
    },
    {
     "name": "stderr",
     "output_type": "stream",
     "text": [
      "C:\\Users\\12646\\anaconda3\\lib\\site-packages\\control\\margins.py:322: RuntimeWarning: invalid value encountered in less_equal\n",
      "  w_180 = w_180[w180_resp <= 0.]\n",
      "C:\\Users\\12646\\anaconda3\\lib\\site-packages\\control\\margins.py:323: RuntimeWarning: invalid value encountered in less_equal\n",
      "  w180_resp = w180_resp[w180_resp <= 0.]\n"
     ]
    },
    {
     "data": {
      "image/png": "[encoded data removed]",
      "text/plain": [
       "<Figure size 432x288 with 1 Axes>"
      ]
     },
     "metadata": {
      "needs_background": "light"
     },
     "output_type": "display_data"
    },
    {
     "data": {
      "image/png": "[encoded data removed]",
      "text/plain": [
       "<Figure size 432x288 with 1 Axes>"
      ]
     },
     "metadata": {
      "needs_background": "light"
     },
     "output_type": "display_data"
    },
    {
     "data": {
      "image/png": "[encoded data removed]",
      "text/plain": [
       "<Figure size 432x288 with 1 Axes>"
      ]
     },
     "metadata": {
      "needs_background": "light"
     },
     "output_type": "display_data"
    },
    {
     "data": {
      "image/png": "[encoded data removed]",
      "text/plain": [
       "<Figure size 432x288 with 1 Axes>"
      ]
     },
     "metadata": {
      "needs_background": "light"
     },
     "output_type": "display_data"
    },
    {
     "data": {
      "image/png": "[encoded data removed]",
      "text/plain": [
       "<Figure size 432x288 with 1 Axes>"
      ]
     },
     "metadata": {
      "needs_background": "light"
     },
     "output_type": "display_data"
    },
    {
     "data": {
      "image/png": "[encoded data removed]",
      "text/plain": [
       "<Figure size 1080x504 with 4 Axes>"
      ]
     },
     "metadata": {
      "needs_background": "light"
     },
     "output_type": "display_data"
    }
   ],
   "source": [
    "# PD gains to lead-lag gains \n",
    "Kp = 7.66302615547072e-10\n",
    "Kd = 0.0076620813293718\n",
    "N = 505.040986830046\n",
    "\n",
    "c1 = N*Kd + Kp\n",
    "c2 = N*Kp\n",
    "c3 = 1\n",
    "c4 = N\n",
    "\n",
    "H_aileron_to_roll = (c1 * s + c2) / (c3 * s + c4)\n",
    "\n",
    "plt.figure()\n",
    "rootlocus(G_aileron_to_roll*H_aileron_to_roll)\n",
    "plt.plot([0, -1], [0, 1], '--')\n",
    "\n",
    "plt.figure()\n",
    "rootlocus(G_aileron_to_roll*H_aileron_to_roll)\n",
    "plt.xlim([-1.5, 0])\n",
    "plt.plot([0, -1], [0, 1], '--')\n",
    "\n",
    "Gc_aileron_to_roll  = G_aileron_to_roll*H_aileron_to_roll/(1 + G_aileron_to_roll*H_aileron_to_roll)\n",
    "\n",
    "\n",
    "plt.figure()\n",
    "step_size = 10\n",
    "t, y = control.step_response(step_size*Gc_aileron_to_roll, T=np.linspace(0, 30, 1000))\n",
    "plt.plot(t, y)\n",
    "plt.xlabel('t, sec')\n",
    "plt.ylabel('roll, deg')\n",
    "plt.title('output')\n",
    "\n",
    "plt.figure()\n",
    "# actual error was computed in radians, so, converting back here\n",
    "e = np.deg2rad(step_size-y)\n",
    "t, u, _= control.forced_response(H_aileron_to_roll, T=t, U=e)\n",
    "plt.hlines([-0.1, 0.1], t[0], t[-1], linestyles='dashed')\n",
    "plt.plot(t, u)\n",
    "plt.xlabel('t, sec')\n",
    "plt.ylabel('aileron %')\n",
    "plt.title('input')\n",
    "\n",
    "plt.figure()\n",
    "control.nyquist(Gc_aileron_to_roll, omega=np.logspace(-3, 3, 1000))\n",
    "\n",
    "plt.figure(figsize=(15, 7))\n",
    "control.gangof4(G_aileron_to_roll, H_aileron_to_roll, Hz=True, dB=True)\n",
    "\n",
    "gm, pm, wg, wp = control.margin(Gc_aileron_to_roll)\n",
    "print('gain margin: ', gm)\n",
    "print('phase margin (in degrees): ', pm)\n",
    "print('Frequency for gain margin (at phase crossover, phase = -180 degrees): ', wg)\n",
    "print('Frequency for phase margin (at gain crossover, gain = 1): ', wp)"
   ]
  },
  {
   "cell_type": "markdown",
   "metadata": {},
   "source": [
    "## Yaw"
   ]
  },
  {
   "cell_type": "markdown",
   "metadata": {},
   "source": [
    "## Engine0 (right cold post) "
   ]
  },
  {
   "cell_type": "code",
   "execution_count": 21,
   "metadata": {},
   "outputs": [
    {
     "name": "stdout",
     "output_type": "stream",
     "text": [
      "0 states have been removed from the model\n"
     ]
    },
    {
     "data": {
      "text/latex": [
       "$$\\frac{-0.788}{s^2}$$"
      ],
      "text/plain": [
       "TransferFunction(array([-0.788]), array([1., 0., 0.]))"
      ]
     },
     "execution_count": 21,
     "metadata": {},
     "output_type": "execute_result"
    }
   ],
   "source": [
    "# import scipy.signal as scysig\n",
    "\n",
    "sys1 = control.ss(*linearize(\n",
    "    aircraft='F-35B-2',\n",
    "    states=['ic/r-rad_sec'],\n",
    "    states_deriv = ['accelerations/rdot-rad_sec2'],\n",
    "    inputs=['propulsion/engine/pitch-angle-rad'],\n",
    "    outputs=['ic/r-rad_sec'],\n",
    "    ic=op_hover,\n",
    "    dx=1e-3,\n",
    "    n_round=3\n",
    "))\n",
    "s = control.tf([1, 0], [1])\n",
    "\n",
    "# # G_rudder_to_yaw = -clean_tf(control.minreal(control.ss2tf(sys), 1e-3))/s\n",
    "# print(sys)\n",
    "# temp = scysig.ss2tf(sys.A, sys.B, sys.C, sys.D)\n",
    "# print(temp)\n",
    "\n",
    "G_rudder_to_yaw1 = -clean_tf(control.minreal(control.ss2tf(sys1), 1e-3))/s\n",
    "G_rudder_to_yaw1"
   ]
  },
  {
   "cell_type": "markdown",
   "metadata": {},
   "source": [
    "## Engine1 (right hot post)"
   ]
  },
  {
   "cell_type": "code",
   "execution_count": 22,
   "metadata": {},
   "outputs": [
    {
     "name": "stdout",
     "output_type": "stream",
     "text": [
      "0 states have been removed from the model\n"
     ]
    },
    {
     "data": {
      "text/latex": [
       "$$\\frac{-0.553}{s^2}$$"
      ],
      "text/plain": [
       "TransferFunction(array([-0.553]), array([1., 0., 0.]))"
      ]
     },
     "execution_count": 22,
     "metadata": {},
     "output_type": "execute_result"
    }
   ],
   "source": [
    "sys2 = control.ss(*linearize(\n",
    "    aircraft='F-35B-2',\n",
    "    states=['ic/r-rad_sec'],\n",
    "    states_deriv = ['accelerations/rdot-rad_sec2'],\n",
    "    inputs=['propulsion/engine[1]/pitch-angle-rad'],\n",
    "    outputs=['ic/r-rad_sec'],\n",
    "    ic=op_hover,\n",
    "    dx=1e-3,\n",
    "    n_round=3\n",
    "))\n",
    "s = control.tf([1, 0], [1])\n",
    "G_rudder_to_yaw2 = -clean_tf(control.minreal(control.ss2tf(sys2), 1e-3))/s\n",
    "G_rudder_to_yaw2"
   ]
  },
  {
   "cell_type": "markdown",
   "metadata": {},
   "source": [
    "## Engine2 (left cold post)"
   ]
  },
  {
   "cell_type": "code",
   "execution_count": null,
   "metadata": {},
   "outputs": [],
   "source": [
    "sys3 = control.ss(*linearize(\n",
    "    aircraft='F-35B-2',\n",
    "    states=['ic/r-rad_sec'],\n",
    "    states_deriv = ['accelerations/rdot-rad_sec2'],\n",
    "    inputs=['propulsion/engine[2]/pitch-angle-rad'],\n",
    "    outputs=['ic/r-rad_sec'],\n",
    "    ic=op_hover,\n",
    "    dx=1e-3,\n",
    "    n_round=3\n",
    "))\n",
    "s = control.tf([1, 0], [1])\n",
    "G_rudder_to_yaw3 = -clean_tf(control.minreal(control.ss2tf(sys3), 1e-3))/s\n",
    "G_rudder_to_yaw3"
   ]
  },
  {
   "cell_type": "markdown",
   "metadata": {},
   "source": [
    "## Engine3 (left hot post)"
   ]
  },
  {
   "cell_type": "code",
   "execution_count": null,
   "metadata": {},
   "outputs": [],
   "source": [
    "sys4 = control.ss(*linearize(\n",
    "    aircraft='F-35B-2',\n",
    "    states=['ic/r-rad_sec'],\n",
    "    states_deriv = ['accelerations/rdot-rad_sec2'],\n",
    "    inputs=['propulsion/engine[3]/pitch-angle-rad'],\n",
    "    outputs=['ic/r-rad_sec'],\n",
    "    ic=op_hover,\n",
    "    dx=1e-3,\n",
    "    n_round=3\n",
    "))\n",
    "s = control.tf([1, 0], [1])\n",
    "G_rudder_to_yaw4 = -clean_tf(control.minreal(control.ss2tf(sys4), 1e-3))/s\n",
    "G_rudder_to_yaw4"
   ]
  },
  {
   "cell_type": "code",
   "execution_count": null,
   "metadata": {},
   "outputs": [],
   "source": [
    "sys1 = control.series(sys1, -1/s)\n",
    "sys1 = control.tf2ss(sys1)\n",
    "sys2 = control.series(sys2, -1/s)\n",
    "sys2 = control.tf2ss(sys2)\n",
    "sys3 = control.series(sys3, -1/s)\n",
    "sys3 = control.tf2ss(sys3)\n",
    "sys4 = control.series(sys4, -1/s)\n",
    "sys4 = control.tf2ss(sys4)\n",
    "\n",
    "sys_yaw = control.append(sys1, sys2, sys3, sys4)\n",
    "sys_yaw = control.ss2tf(sys_yaw)\n",
    "sys_yaw"
   ]
  },
  {
   "cell_type": "code",
   "execution_count": null,
   "metadata": {},
   "outputs": [],
   "source": [
    "# Engine nozzle pitch actuator \n",
    "tau_enp = 2\n",
    "G_enp_act = tau_enp / (s + tau_enp)\n",
    "G_aileron_to_roll *= G_enp_act\n",
    "G_aileron_to_roll"
   ]
  },
  {
   "cell_type": "markdown",
   "metadata": {},
   "source": [
    "## Altitude "
   ]
  },
  {
   "cell_type": "code",
   "execution_count": null,
   "metadata": {},
   "outputs": [],
   "source": [
    "sys = control.ss(*linearize(\n",
    "    aircraft='F-35B-2',\n",
    "    states=['ic/w-fps'],\n",
    "    states_deriv = ['accelerations/wdot-ft_sec2'],\n",
    "    inputs=['fcs/throttle-cmd-norm'],\n",
    "    outputs=['ic/w-fps'],\n",
    "    ic=op_hover,\n",
    "    dx=1e-3,\n",
    "    n_round=3\n",
    "))\n",
    "G_throttle_to_alt = -clean_tf(control.minreal(control.ss2tf(sys), 1e-3))/s\n",
    "G_throttle_to_alt"
   ]
  },
  {
   "cell_type": "code",
   "execution_count": null,
   "metadata": {},
   "outputs": [],
   "source": [
    "# Add the actuator \n",
    "tau = 0.4\n",
    "G_act = tau / (s + tau)\n",
    "G_throttle_to_alt *= G_act\n",
    "G_throttle_to_alt"
   ]
  },
  {
   "cell_type": "code",
   "execution_count": null,
   "metadata": {},
   "outputs": [],
   "source": [
    "# PD gains to lead-lag gains \n",
    "Kp = 9.11459759968896e-10\n",
    "Kd = 0.00911454537591535\n",
    "N = 27.8343628363698\n",
    "\n",
    "c1 = N*Kd + Kp\n",
    "c2 = N*Kp\n",
    "c3 = 1\n",
    "c4 = N\n",
    "\n",
    "H_throttle_to_alt = (c1 * s + c2) / (c3 * s + c4)\n",
    "\n",
    "\n",
    "plt.figure()\n",
    "rootlocus(G_throttle_to_alt*H_throttle_to_alt)\n",
    "plt.plot([0, -1], [0, 1], '--')\n",
    "\n",
    "plt.figure()\n",
    "rootlocus(G_throttle_to_alt*H_throttle_to_alt)\n",
    "plt.xlim([-1.2, 0])\n",
    "plt.plot([0, -1], [0, 1], '--')\n",
    "\n",
    "Gc_throttle_to_alt = G_throttle_to_alt*H_throttle_to_alt/(1 + G_throttle_to_alt*H_throttle_to_alt)\n",
    "\n",
    "plt.figure()\n",
    "step_size = 10\n",
    "t, y = control.step_response(step_size*Gc_throttle_to_alt, T=np.linspace(0, 40, 1000))\n",
    "plt.plot(t, y)\n",
    "plt.xlabel('t, sec')\n",
    "plt.ylabel('altitude, ft')\n",
    "plt.title('output')\n",
    "\n",
    "plt.figure()\n",
    "# error computed in ft\n",
    "e = step_size-y\n",
    "t, u, _= control.forced_response(H_throttle_to_alt, T=t, U=e)\n",
    "plt.hlines([-0.1, 0.1], t[0], t[-1], linestyles='dashed')\n",
    "plt.plot(t, u)\n",
    "plt.xlabel('t, sec')\n",
    "plt.ylabel('throtle %')\n",
    "plt.title('input')\n",
    "\n",
    "plt.figure()\n",
    "control.nyquist(Gc_throttle_to_alt, omega=np.logspace(-3, 3, 1000))\n",
    "\n",
    "plt.figure(figsize=(15, 7))\n",
    "control.gangof4(G_throttle_to_alt, H_throttle_to_alt, Hz=True, dB=True)\n",
    "\n",
    "\n",
    "gm, pm, wg, wp = control.margin(Gc_throttle_to_alt)\n",
    "print('gain margin: ', gm)\n",
    "print('phase margin (in degrees): ', pm)\n",
    "print('Frequency for gain margin (at phase crossover, phase = -180 degrees): ', wg)\n",
    "print('Frequency for phase margin (at gain crossover, gain = 1): ', wp)"
   ]
  },
  {
   "cell_type": "markdown",
   "metadata": {},
   "source": [
    "# Cruise Controller Design"
   ]
  },
  {
   "cell_type": "markdown",
   "metadata": {},
   "source": [
    "## Cruise Velocity (with Pitch)"
   ]
  },
  {
   "cell_type": "code",
   "execution_count": 14,
   "metadata": {},
   "outputs": [
    {
     "data": {
      "text/plain": [
       "{'inertial/sea-level-radius_ft': 20896304.74500688,\n",
       " 'simulation/gravity-model': 1.0,\n",
       " 'simulation/integrator/rate/rotational': 1.0,\n",
       " 'simulation/integrator/rate/translational': 3.0,\n",
       " 'simulation/integrator/position/rotational': 1.0,\n",
       " 'simulation/integrator/position/translational': 4.0,\n",
       " 'simulation/write-state-file': 0.0,\n",
       " 'simulation/channel-dt': 0.008333333333333333,\n",
       " 'simulation/gravitational-torque': 0.0,\n",
       " 'simulation/force-output': 0.0,\n",
       " 'simulation/do_simple_trim': 0.0,\n",
       " 'simulation/reset': 0.0,\n",
       " 'simulation/disperse': 0.0,\n",
       " 'simulation/randomseed': 0.0,\n",
       " 'simulation/terminate': 0.0,\n",
       " 'simulation/pause': -1788215296.0,\n",
       " 'simulation/sim-time-sec': 0.0,\n",
       " 'simulation/dt': 0.008333333333333333,\n",
       " 'simulation/jsbsim-debug': 0.0,\n",
       " 'simulation/frame': 0.0,\n",
       " 'simulation/trim-completed': 0.0,\n",
       " 'velocities/h-dot-fps': -4.2099657093785936e-13,\n",
       " 'velocities/v-north-fps': 117.55981628051151,\n",
       " 'velocities/v-east-fps': -666.7148487892647,\n",
       " 'velocities/v-down-fps': 4.2099657093785936e-13,\n",
       " 'velocities/u-fps': 676.8616050072495,\n",
       " 'velocities/v-fps': 0.8293613744688884,\n",
       " 'velocities/w-fps': 13.663082621443927,\n",
       " 'velocities/p-rad_sec': 0.0,\n",
       " 'velocities/q-rad_sec': 0.0,\n",
       " 'velocities/r-rad_sec': 0.0,\n",
       " 'velocities/pi-rad_sec': 1.0526593919761569e-05,\n",
       " 'velocities/qi-rad_sec': 5.4691405729965164e-05,\n",
       " 'velocities/ri-rad_sec': -4.706947075388963e-05,\n",
       " 'velocities/eci-x-fps': 494.12139426818646,\n",
       " 'velocities/eci-y-fps': 102.84203458107199,\n",
       " 'velocities/eci-z-fps': 89.51164548775188,\n",
       " 'velocities/eci-velocity-mag-fps': 512.5863547035133,\n",
       " 'velocities/ned-velocity-mag-fps': 676.9999999999998,\n",
       " 'velocities/vc-fps': 364.86922541098835,\n",
       " 'velocities/vc-kts': 216.17908734454016,\n",
       " 'velocities/ve-fps': 348.100311182318,\n",
       " 'velocities/ve-kts': 206.24377813990793,\n",
       " 'velocities/vtrue-fps': 676.9999999999998,\n",
       " 'velocities/vtrue-kts': 401.1114995171256,\n",
       " 'velocities/machU': 0.6991834306063522,\n",
       " 'velocities/p-aero-rad_sec': 0.0,\n",
       " 'velocities/q-aero-rad_sec': 0.0,\n",
       " 'velocities/r-aero-rad_sec': 0.0,\n",
       " 'velocities/phidot-rad_sec': 0.0,\n",
       " 'velocities/thetadot-rad_sec': 0.0,\n",
       " 'velocities/psidot-rad_sec': 0.0,\n",
       " 'velocities/u-aero-fps': 676.8616050072495,\n",
       " 'velocities/v-aero-fps': 0.8293613744588098,\n",
       " 'velocities/w-aero-fps': 13.66308262144438,\n",
       " 'velocities/vt-fps': 676.9999999999998,\n",
       " 'velocities/mach': 0.6993263896471577,\n",
       " 'velocities/vg-fps': 676.9999999999998,\n",
       " 'position/h-sl-ft': 38586.21145321056,\n",
       " 'position/h-sl-meters': 11761.07725093858,\n",
       " 'position/lat-gc-rad': 0.7019978358098355,\n",
       " 'position/long-gc-rad': -1.5171722022611542,\n",
       " 'position/lat-gc-deg': 40.2215132192213,\n",
       " 'position/long-gc-deg': -86.92756398413263,\n",
       " 'position/lat-geod-rad': 0.705305376791543,\n",
       " 'position/lat-geod-deg': 40.4110213580397,\n",
       " 'position/geod-alt-ft': 38585.99999999827,\n",
       " 'position/h-agl-ft': 37999.99999999827,\n",
       " 'position/geod-alt-km': 11.761012799999472,\n",
       " 'position/h-agl-km': 11.582399999999472,\n",
       " 'position/radius-to-vehicle-ft': 20934890.956460092,\n",
       " 'position/terrain-elevation-asl-ft': 585.9999999973426,\n",
       " 'position/eci-x-ft': 856766.1506652607,\n",
       " 'position/eci-y-ft': -15961934.613046234,\n",
       " 'position/eci-z-ft': 13518589.22117191,\n",
       " 'position/ecef-x-ft': 856766.1506652607,\n",
       " 'position/ecef-y-ft': -15961934.613046234,\n",
       " 'position/ecef-z-ft': 13518589.22117191,\n",
       " 'position/epa-rad': 0.0,\n",
       " 'position/distance-from-start-lon-mt': 0.0,\n",
       " 'position/distance-from-start-lat-mt': 0.0,\n",
       " 'position/distance-from-start-mag-mt': 0.0,\n",
       " 'position/vrp-gc-latitude_deg': 40.22152404295962,\n",
       " 'position/vrp-longitude_deg': -86.92764493756849,\n",
       " 'position/vrp-radius-ft': 20934891.24321227,\n",
       " 'metrics/terrain-radius': 20896891.164694604,\n",
       " 'metrics/Sw-sqft': 237.34,\n",
       " 'metrics/bw-ft': 45.67,\n",
       " 'metrics/cbarw-ft': 5.67,\n",
       " 'metrics/iw-rad': 0.0,\n",
       " 'metrics/iw-deg': 0.0,\n",
       " 'metrics/Sh-sqft': 103.3,\n",
       " 'metrics/lh-ft': 22.2,\n",
       " 'metrics/Sv-sqft': 53.28,\n",
       " 'metrics/lv-ft': 16.88,\n",
       " 'metrics/lh-norm': 3.9153439153439153,\n",
       " 'metrics/lv-norm': 2.9770723104056436,\n",
       " 'metrics/vbarh-norm': 1.704116568867559,\n",
       " 'metrics/vbarv-norm': 0.08297260183662111,\n",
       " 'metrics/aero-rp-x-in': 346.44,\n",
       " 'metrics/aero-rp-y-in': 0.0,\n",
       " 'metrics/aero-rp-z-in': 59.04,\n",
       " 'metrics/eyepoint-x-in': 122.88,\n",
       " 'metrics/eyepoint-y-in': 0.0,\n",
       " 'metrics/eyepoint-z-in': 36.0,\n",
       " 'metrics/visualrefpoint-x-in': 0.0,\n",
       " 'metrics/visualrefpoint-y-in': 0.0,\n",
       " 'metrics/visualrefpoint-z-in': 20.04,\n",
       " 'attitude/phi-rad': -6.072769029211445e-17,\n",
       " 'attitude/theta-rad': 0.020183191364411785,\n",
       " 'attitude/psi-rad': 4.885696851548799,\n",
       " 'attitude/phi-deg': -3.4794403533157397e-15,\n",
       " 'attitude/theta-deg': 1.156411682285685,\n",
       " 'attitude/psi-deg': 279.9298095741005,\n",
       " 'attitude/roll-rad': -6.072769029211445e-17,\n",
       " 'attitude/pitch-rad': 0.020183191364411785,\n",
       " 'attitude/heading-true-rad': 4.885696851548799,\n",
       " 'atmosphere/T-R': 389.97,\n",
       " 'atmosphere/rho-slugs_ft3': 0.0006284121072017478,\n",
       " 'atmosphere/P-psf': 420.6627061995546,\n",
       " 'atmosphere/a-fps': 968.0744356602607,\n",
       " 'atmosphere/T-sl-R': 518.67,\n",
       " 'atmosphere/rho-sl-slugs_ft3': 0.0023769117527742576,\n",
       " 'atmosphere/a-sl-fps': 1116.4485575897318,\n",
       " 'atmosphere/theta': 0.7518653479090752,\n",
       " 'atmosphere/sigma': 0.26438175774438605,\n",
       " 'atmosphere/delta': 0.19877948226729567,\n",
       " 'atmosphere/a-ratio': 0.8671016940988382,\n",
       " 'atmosphere/density-altitude': 38586.21145321056,\n",
       " 'atmosphere/pressure-altitude': 38586.21145321056,\n",
       " 'atmosphere/delta-T': 0.0,\n",
       " 'atmosphere/SL-graded-delta-T': 0.0,\n",
       " 'atmosphere/P-sl-psf': 2116.228,\n",
       " 'atmosphere/dew-point-R': 54.05399999999995,\n",
       " 'atmosphere/vapor-pressure-psf': 0.0,\n",
       " 'atmosphere/saturated-vapor-pressure-psf': 0.06155626133386705,\n",
       " 'atmosphere/RH': 0.0,\n",
       " 'atmosphere/vapor-fraction-ppm': 0.0,\n",
       " 'atmosphere/psiw-rad': 0.1700165110096919,\n",
       " 'atmosphere/wind-north-fps': 9.9333874459262e-12,\n",
       " 'atmosphere/wind-east-fps': 1.7053025658242404e-12,\n",
       " 'atmosphere/wind-down-fps': -4.533213633891092e-13,\n",
       " 'atmosphere/wind-mag-fps': 1.0088892072492199e-11,\n",
       " 'atmosphere/gust-north-fps': 0.0,\n",
       " 'atmosphere/gust-east-fps': 0.0,\n",
       " 'atmosphere/gust-down-fps': 0.0,\n",
       " 'atmosphere/cosine-gust/startup-duration-sec': 0.0,\n",
       " 'atmosphere/cosine-gust/steady-duration-sec': 0.0,\n",
       " 'atmosphere/cosine-gust/end-duration-sec': 0.0,\n",
       " 'atmosphere/cosine-gust/magnitude-ft_sec': 0.0,\n",
       " 'atmosphere/cosine-gust/frame': 0.0,\n",
       " 'atmosphere/cosine-gust/X-velocity-ft_sec': 0.0,\n",
       " 'atmosphere/cosine-gust/Y-velocity-ft_sec': 0.0,\n",
       " 'atmosphere/cosine-gust/Z-velocity-ft_sec': 0.0,\n",
       " 'atmosphere/cosine-gust/start': 0.0,\n",
       " 'atmosphere/updownburst/number-of-cells': 0.0,\n",
       " 'atmosphere/turb-north-fps': 0.0,\n",
       " 'atmosphere/turb-east-fps': 0.0,\n",
       " 'atmosphere/turb-down-fps': 0.0,\n",
       " 'atmosphere/p-turb-rad_sec': 0.0,\n",
       " 'atmosphere/q-turb-rad_sec': 0.0,\n",
       " 'atmosphere/r-turb-rad_sec': 0.0,\n",
       " 'atmosphere/turb-type': 3.0,\n",
       " 'atmosphere/turb-rate': 10.0,\n",
       " 'atmosphere/turb-gain': 1.0,\n",
       " 'atmosphere/turb-rhythmicity': 0.1,\n",
       " 'atmosphere/turbulence/milspec/windspeed_at_20ft_AGL-fps': 0.0,\n",
       " 'atmosphere/turbulence/milspec/severity': 0.0,\n",
       " 'atmosphere/total-wind-north-fps': 9.9333874459262e-12,\n",
       " 'atmosphere/total-wind-east-fps': 1.7053025658242404e-12,\n",
       " 'atmosphere/total-wind-down-fps': -4.533213633891092e-13,\n",
       " 'fcs/aileron-cmd-norm': 0.00022613538432062958,\n",
       " 'fcs/elevator-cmd-norm': 0.14031067006746925,\n",
       " 'fcs/rudder-cmd-norm': 0.0007573899576671861,\n",
       " 'fcs/flap-cmd-norm': 0.0,\n",
       " 'fcs/speedbrake-cmd-norm': 0.0,\n",
       " 'fcs/spoiler-cmd-norm': 0.0,\n",
       " 'fcs/pitch-trim-cmd-norm': 0.0,\n",
       " 'fcs/roll-trim-cmd-norm': 0.0,\n",
       " 'fcs/yaw-trim-cmd-norm': 0.0,\n",
       " 'fcs/left-aileron-pos-rad': 0.00019734035058288732,\n",
       " 'fcs/left-aileron-pos-deg': 0.011306769216031479,\n",
       " 'fcs/left-aileron-pos-norm': 0.00022613538432062958,\n",
       " 'fcs/mag-left-aileron-pos-rad': 0.00019734035058288732,\n",
       " 'fcs/right-aileron-pos-rad': -0.00019734035058288732,\n",
       " 'fcs/right-aileron-pos-deg': -0.011306769216031479,\n",
       " 'fcs/right-aileron-pos-norm': -0.00022613538432062958,\n",
       " 'fcs/mag-right-aileron-pos-rad': 0.00019734035058288732,\n",
       " 'fcs/elevator-pos-rad': -0.12244415841783964,\n",
       " 'fcs/elevator-pos-deg': -7.0155335033734625,\n",
       " 'fcs/elevator-pos-norm': -0.14031067006746925,\n",
       " 'fcs/mag-elevator-pos-rad': 0.12244415841783964,\n",
       " 'fcs/rudder-pos-rad': 0.0006609474241416434,\n",
       " 'fcs/rudder-pos-deg': 0.037869497883359304,\n",
       " 'fcs/rudder-pos-norm': 0.0007573899576671861,\n",
       " 'fcs/mag-rudder-pos-rad': 0.0006609474241416434,\n",
       " 'fcs/flap-pos-rad': 0.0,\n",
       " 'fcs/flap-pos-deg': 0.0,\n",
       " 'fcs/flap-pos-norm': 0.0,\n",
       " 'fcs/speedbrake-pos-rad': 0.0,\n",
       " 'fcs/speedbrake-pos-deg': 0.0,\n",
       " 'fcs/speedbrake-pos-norm': 0.0,\n",
       " 'fcs/mag-speedbrake-pos-rad': 0.0,\n",
       " 'fcs/spoiler-pos-rad': 0.0,\n",
       " 'fcs/spoiler-pos-deg': 0.0,\n",
       " 'fcs/spoiler-pos-norm': 0.0,\n",
       " 'fcs/mag-spoiler-pos-rad': 0.0,\n",
       " 'fcs/left-brake-cmd-norm': 0.0,\n",
       " 'fcs/right-brake-cmd-norm': 0.0,\n",
       " 'fcs/center-brake-cmd-norm': 0.0,\n",
       " 'fcs/wing-fold-pos-norm': 0.0,\n",
       " 'fcs/steer-cmd-norm': 0.0,\n",
       " 'fcs/steer-pos-deg': 0.0,\n",
       " 'fcs/throttle-cmd-norm': 0.16673315207787176,\n",
       " 'fcs/throttle-pos-norm': 0.16673315207787176,\n",
       " 'fcs/mixture-cmd-norm': 0.0,\n",
       " 'fcs/mixture-pos-norm': 0.0,\n",
       " 'fcs/advance-cmd-norm': 0.0,\n",
       " 'fcs/advance-pos-norm': 0.0,\n",
       " 'fcs/feather-cmd-norm': 0.0,\n",
       " 'fcs/feather-pos-norm': 0.0,\n",
       " 'fcs/throttle-cmd-norm[1]': 0.0,\n",
       " 'fcs/throttle-pos-norm[1]': 0.16673315207787176,\n",
       " 'fcs/mixture-cmd-norm[1]': 0.0,\n",
       " 'fcs/mixture-pos-norm[1]': 0.0,\n",
       " 'fcs/advance-cmd-norm[1]': 0.0,\n",
       " 'fcs/advance-pos-norm[1]': 0.0,\n",
       " 'fcs/feather-cmd-norm[1]': 0.0,\n",
       " 'fcs/feather-pos-norm[1]': 0.0,\n",
       " 'fcs/throttle-cmd-norm[2]': 0.0,\n",
       " 'fcs/throttle-pos-norm[2]': 0.16673315207787176,\n",
       " 'fcs/mixture-cmd-norm[2]': 0.0,\n",
       " 'fcs/mixture-pos-norm[2]': 0.0,\n",
       " 'fcs/advance-cmd-norm[2]': 0.0,\n",
       " 'fcs/advance-pos-norm[2]': 0.0,\n",
       " 'fcs/feather-cmd-norm[2]': 0.0,\n",
       " 'fcs/feather-pos-norm[2]': 0.0,\n",
       " 'fcs/throttle-cmd-norm[3]': 0.0,\n",
       " 'fcs/throttle-pos-norm[3]': 0.16673315207787176,\n",
       " 'fcs/mixture-cmd-norm[3]': 0.0,\n",
       " 'fcs/mixture-pos-norm[3]': 0.0,\n",
       " 'fcs/advance-cmd-norm[3]': 0.0,\n",
       " 'fcs/advance-pos-norm[3]': 0.0,\n",
       " 'fcs/feather-cmd-norm[3]': 0.0,\n",
       " 'fcs/feather-pos-norm[3]': 0.0,\n",
       " 'gear/gear-pos-norm': 0.0,\n",
       " 'gear/gear-cmd-norm': 0.0,\n",
       " 'gear/tailhook-pos-norm': 0.0,\n",
       " 'gear/num-units': 5.0,\n",
       " 'gear/wow': 0.0,\n",
       " 'gear/unit/solid': 1.0,\n",
       " 'gear/unit/bumpiness': 0.0,\n",
       " 'gear/unit/maximum-force-lbs': 1.7976931348623157e+308,\n",
       " 'gear/unit/rolling_friction-factor': 1.0,\n",
       " 'gear/unit/static-friction-factor': 1.0,\n",
       " 'gear/unit/WOW': 0.0,\n",
       " 'gear/unit/x-position': 86.64,\n",
       " 'gear/unit/y-position': 0.0,\n",
       " 'gear/unit/z-position': -23.64,\n",
       " 'gear/unit/compression-ft': 0.0,\n",
       " 'gear/unit/compression-velocity-fps': 0.0,\n",
       " 'gear/unit/static_friction_coeff': 0.8,\n",
       " 'gear/unit/dynamic_friction_coeff': 0.5,\n",
       " 'gear/unit/slip-angle-deg': 0.0,\n",
       " 'gear/unit/wheel-speed-fps': 0.0,\n",
       " 'gear/unit/side_friction_coeff': 6.9519205310455e-310,\n",
       " 'gear/unit/rolling_friction_coeff': 0.02,\n",
       " 'gear/unit/pos-norm': 1.0,\n",
       " 'gear/unit[1]/solid': 1.0,\n",
       " 'gear/unit[1]/bumpiness': 0.0,\n",
       " 'gear/unit[1]/maximum-force-lbs': 1.7976931348623157e+308,\n",
       " 'gear/unit[1]/rolling_friction-factor': 1.0,\n",
       " 'gear/unit[1]/static-friction-factor': 1.0,\n",
       " 'gear/unit[1]/WOW': 0.0,\n",
       " 'gear/unit[1]/x-position': 300.96,\n",
       " 'gear/unit[1]/y-position': -47.04,\n",
       " 'gear/unit[1]/z-position': -23.64,\n",
       " 'gear/unit[1]/compression-ft': 0.0,\n",
       " 'gear/unit[1]/compression-velocity-fps': 0.0,\n",
       " 'gear/unit[1]/static_friction_coeff': 0.8,\n",
       " 'gear/unit[1]/dynamic_friction_coeff': 0.5,\n",
       " 'gear/unit[1]/slip-angle-deg': 0.0,\n",
       " 'gear/unit[1]/wheel-speed-fps': 0.0,\n",
       " 'gear/unit[1]/side_friction_coeff': 1.1747796062674e-311,\n",
       " 'gear/unit[1]/rolling_friction_coeff': 0.02,\n",
       " 'gear/unit[1]/pos-norm': 1.0,\n",
       " 'gear/unit[2]/solid': 1.0,\n",
       " 'gear/unit[2]/bumpiness': 0.0,\n",
       " 'gear/unit[2]/maximum-force-lbs': 1.7976931348623157e+308,\n",
       " 'gear/unit[2]/rolling_friction-factor': 1.0,\n",
       " 'gear/unit[2]/static-friction-factor': 1.0,\n",
       " 'gear/unit[2]/WOW': 0.0,\n",
       " 'gear/unit[2]/x-position': 300.96,\n",
       " 'gear/unit[2]/y-position': 47.04,\n",
       " 'gear/unit[2]/z-position': -23.64,\n",
       " 'gear/unit[2]/compression-ft': 0.0,\n",
       " 'gear/unit[2]/compression-velocity-fps': 0.0,\n",
       " 'gear/unit[2]/static_friction_coeff': 0.8,\n",
       " 'gear/unit[2]/dynamic_friction_coeff': 0.5,\n",
       " 'gear/unit[2]/slip-angle-deg': 0.0,\n",
       " 'gear/unit[2]/wheel-speed-fps': 0.0,\n",
       " 'gear/unit[2]/side_friction_coeff': 1.174774454056e-311,\n",
       " 'gear/unit[2]/rolling_friction_coeff': 0.02,\n",
       " 'gear/unit[2]/pos-norm': 1.0,\n",
       " 'inertia/mass-slugs': 352.52013198587474,\n",
       " 'inertia/weight-lbs': 11342.0,\n",
       " 'inertia/empty-weight-lbs': 9039.0,\n",
       " 'inertia/cg-x-in': 275.15999999999997,\n",
       " 'inertia/cg-y-in': 0.0,\n",
       " 'inertia/cg-z-in': 21.995803209310527,\n",
       " 'inertia/ixx-slugs_ft2': 18750.76900752994,\n",
       " 'inertia/iyy-slugs_ft2': 24625.76900752994,\n",
       " 'inertia/izz-slugs_ft2': 38124.0,\n",
       " 'inertia/ixy-slugs_ft2': -0.0,\n",
       " 'inertia/ixz-slugs_ft2': 0.0,\n",
       " 'inertia/iyz-slugs_ft2': -0.0,\n",
       " 'inertia/print-mass-properties': 0.0,\n",
       " 'propulsion/tat-r': 428.11354279764487,\n",
       " 'propulsion/tat-c': -35.3091428901973,\n",
       " 'propulsion/pt-lbs_sqft': 583.1512341148757,\n",
       " 'propulsion/tank/contents-lbs': 2303.0,\n",
       " 'propulsion/tank/unusable-volume-gal': 0.0,\n",
       " 'propulsion/tank/pct-full': 100.0,\n",
       " 'propulsion/tank/density-lbs_per_gal': 6.6,\n",
       " 'propulsion/tank/priority': 1.0,\n",
       " 'propulsion/tank/external-flow-rate-pps': 0.0,\n",
       " 'propulsion/tank/local-ixx-slug_ft2': 0.0,\n",
       " 'propulsion/tank/local-iyy-slug_ft2': 0.0,\n",
       " 'propulsion/tank/local-izz-slug_ft2': 0.0,\n",
       " 'propulsion/tank/x-position': 275.15999999999997,\n",
       " 'propulsion/tank/y-position': 0.0,\n",
       " 'propulsion/tank/z-position': 0.0,\n",
       " 'propulsion/set-running': 0.0,\n",
       " 'propulsion/starter_cmd': 0.0,\n",
       " 'propulsion/cutoff_cmd': 0.0,\n",
       " 'propulsion/active_engine': -1.0,\n",
       " 'propulsion/total-fuel-lbs': 2303.0,\n",
       " 'propulsion/total-oxidizer-lbs': 0.0,\n",
       " 'propulsion/refuel': 0.0,\n",
       " 'propulsion/fuel_dump': 0.0,\n",
       " 'propulsion/engine/IdleThrust': 0.05628080978782294,\n",
       " 'propulsion/engine/MilThrust': 0.24329603041896836,\n",
       " 'propulsion/engine/AugThrust': 0.24329603041896836,\n",
       " 'propulsion/engine/pitch-angle-rad': 0.0,\n",
       " 'propulsion/engine/yaw-angle-rad': 0.0,\n",
       " 'propulsion/engine/reverser-angle-rad': 0.0,\n",
       " 'propulsion/engine/set-running': 1.0,\n",
       " 'propulsion/engine/thrust-lbs': 310.87292807542855,\n",
       " 'propulsion/engine/fuel-flow-rate-pps': 0.21705447869795585,\n",
       " 'propulsion/engine/fuel-flow-rate-gph': 118.39335201706683,\n",
       " 'propulsion/engine/fuel-used-lbs': 0.0,\n",
       " 'propulsion/engine/n1': 100.0,\n",
       " 'propulsion/engine/n2': 100.0,\n",
       " 'propulsion/engine/injection_cmd': 0.0,\n",
       " 'propulsion/engine/seized': 0.0,\n",
       " 'propulsion/engine/stalled': 0.0,\n",
       " 'propulsion/engine/bleed-factor': 0.03,\n",
       " 'propulsion/engine/MaxN1': 100.0,\n",
       " 'propulsion/engine/MaxN2': 100.0,\n",
       " 'propulsion/engine/InjectionTimer': 0.0,\n",
       " 'propulsion/engine/InjWaterNorm': 0.0,\n",
       " 'propulsion/engine/InjN1increment': 0.0,\n",
       " 'propulsion/engine/InjN2increment': 0.0,\n",
       " 'propulsion/engine/pitch-angle-deg': 7.573899576671862e-05,\n",
       " 'propulsion/engine[1]/IdleThrust': 0.05628080978782294,\n",
       " 'propulsion/engine[1]/MilThrust': 0.24329603041896836,\n",
       " 'propulsion/engine[1]/AugThrust': 0.24329603041896836,\n",
       " 'propulsion/engine[1]/pitch-angle-rad': 0.0,\n",
       " 'propulsion/engine[1]/yaw-angle-rad': 0.0,\n",
       " 'propulsion/engine[1]/reverser-angle-rad': 0.0,\n",
       " 'propulsion/engine[1]/set-running': 1.0,\n",
       " 'propulsion/engine[1]/thrust-lbs': 310.87292807542855,\n",
       " 'propulsion/engine[1]/fuel-flow-rate-pps': 0.21705447869795585,\n",
       " 'propulsion/engine[1]/fuel-flow-rate-gph': 118.39335201706683,\n",
       " 'propulsion/engine[1]/fuel-used-lbs': 0.0,\n",
       " 'propulsion/engine[1]/n1': 100.0,\n",
       " 'propulsion/engine[1]/n2': 100.0,\n",
       " 'propulsion/engine[1]/injection_cmd': 0.0,\n",
       " 'propulsion/engine[1]/seized': 0.0,\n",
       " 'propulsion/engine[1]/stalled': 0.0,\n",
       " 'propulsion/engine[1]/bleed-factor': 0.03,\n",
       " 'propulsion/engine[1]/MaxN1': 100.0,\n",
       " 'propulsion/engine[1]/MaxN2': 100.0,\n",
       " 'propulsion/engine[1]/InjectionTimer': 0.0,\n",
       " 'propulsion/engine[1]/InjWaterNorm': 0.0,\n",
       " 'propulsion/engine[1]/InjN1increment': 0.0,\n",
       " 'propulsion/engine[1]/InjN2increment': 0.0,\n",
       " 'propulsion/engine[1]/pitch-angle-deg': 7.573899576671862e-05,\n",
       " 'propulsion/engine[2]/IdleThrust': 0.05628080978782294,\n",
       " 'propulsion/engine[2]/MilThrust': 0.24329603041896836,\n",
       " 'propulsion/engine[2]/AugThrust': 0.24329603041896836,\n",
       " 'propulsion/engine[2]/pitch-angle-rad': 0.0,\n",
       " 'propulsion/engine[2]/yaw-angle-rad': 0.0,\n",
       " 'propulsion/engine[2]/reverser-angle-rad': 0.0,\n",
       " 'propulsion/engine[2]/set-running': 1.0,\n",
       " 'propulsion/engine[2]/thrust-lbs': 310.87292807542855,\n",
       " 'propulsion/engine[2]/fuel-flow-rate-pps': 0.21705447869795585,\n",
       " 'propulsion/engine[2]/fuel-flow-rate-gph': 118.39335201706683,\n",
       " 'propulsion/engine[2]/fuel-used-lbs': 0.0,\n",
       " 'propulsion/engine[2]/n1': 100.0,\n",
       " 'propulsion/engine[2]/n2': 100.0,\n",
       " 'propulsion/engine[2]/injection_cmd': 0.0,\n",
       " 'propulsion/engine[2]/seized': 0.0,\n",
       " 'propulsion/engine[2]/stalled': 0.0,\n",
       " 'propulsion/engine[2]/bleed-factor': 0.03,\n",
       " 'propulsion/engine[2]/MaxN1': 100.0,\n",
       " 'propulsion/engine[2]/MaxN2': 100.0,\n",
       " 'propulsion/engine[2]/InjectionTimer': 0.0,\n",
       " 'propulsion/engine[2]/InjWaterNorm': 0.0,\n",
       " 'propulsion/engine[2]/InjN1increment': 0.0,\n",
       " 'propulsion/engine[2]/InjN2increment': 0.0,\n",
       " 'propulsion/engine[2]/pitch-angle-deg': 7.573899576671862e-05,\n",
       " 'propulsion/engine[3]/IdleThrust': 0.05628080978782294,\n",
       " 'propulsion/engine[3]/MilThrust': 0.24329603041896836,\n",
       " 'propulsion/engine[3]/AugThrust': 0.24329603041896836,\n",
       " 'propulsion/engine[3]/pitch-angle-rad': 0.0,\n",
       " 'propulsion/engine[3]/yaw-angle-rad': 0.0,\n",
       " 'propulsion/engine[3]/reverser-angle-rad': 0.0,\n",
       " 'propulsion/engine[3]/set-running': 1.0,\n",
       " 'propulsion/engine[3]/thrust-lbs': 310.87292807542855,\n",
       " 'propulsion/engine[3]/fuel-flow-rate-pps': 0.21705447869795585,\n",
       " 'propulsion/engine[3]/fuel-flow-rate-gph': 118.39335201706683,\n",
       " 'propulsion/engine[3]/fuel-used-lbs': 0.0,\n",
       " 'propulsion/engine[3]/n1': 100.0,\n",
       " 'propulsion/engine[3]/n2': 100.0,\n",
       " 'propulsion/engine[3]/injection_cmd': 0.0,\n",
       " 'propulsion/engine[3]/seized': 0.0,\n",
       " 'propulsion/engine[3]/stalled': 0.0,\n",
       " 'propulsion/engine[3]/bleed-factor': 0.03,\n",
       " 'propulsion/engine[3]/MaxN1': 100.0,\n",
       " 'propulsion/engine[3]/MaxN2': 100.0,\n",
       " 'propulsion/engine[3]/InjectionTimer': 0.0,\n",
       " 'propulsion/engine[3]/InjWaterNorm': 0.0,\n",
       " 'propulsion/engine[3]/InjN1increment': 0.0,\n",
       " 'propulsion/engine[3]/InjN2increment': 0.0,\n",
       " 'propulsion/engine[3]/pitch-angle-deg': 7.573899576671862e-05,\n",
       " 'accelerations/a-pilot-x-ft_sec2': 0.6482585836345807,\n",
       " 'accelerations/a-pilot-y-ft_sec2': -0.06370903953298691,\n",
       " 'accelerations/a-pilot-z-ft_sec2': -32.10791018602405,\n",
       " 'accelerations/n-pilot-x-norm': 0.020148492736237165,\n",
       " 'accelerations/n-pilot-y-norm': -0.001980137483203175,\n",
       " 'accelerations/n-pilot-z-norm': -0.9979443566049703,\n",
       " 'accelerations/Nx': 0.020148494771867434,\n",
       " 'accelerations/Ny': -0.0019801378035673492,\n",
       " 'accelerations/Nz': 0.9979443565221021,\n",
       " 'accelerations/pdot-rad_sec2': 7.95287904675479e-14,\n",
       " 'accelerations/qdot-rad_sec2': -1.1145691193994249e-13,\n",
       " 'accelerations/rdot-rad_sec2': -2.1582568283586667e-13,\n",
       " 'accelerations/udot-ft_sec2': 7.934208845483681e-12,\n",
       " 'accelerations/vdot-ft_sec2': 1.1290482437864569e-12,\n",
       " 'accelerations/wdot-ft_sec2': -4.099831585335778e-12,\n",
       " 'accelerations/gravity-ft_sec2': 32.10518413963992,\n",
       " 'forces/load-factor': 0.9959350665727601,\n",
       " 'forces/fbx-aero-lbs': -1014.9674877497577,\n",
       " 'forces/fby-aero-lbs': -22.458722658432276,\n",
       " 'forces/fbz-aero-lbs': -11318.68473562792,\n",
       " 'forces/fwx-aero-lbs': 1243.219016092371,\n",
       " 'forces/fwy-aero-lbs': -20.935728276663333,\n",
       " 'forces/fwz-aero-lbs': 11295.895525068245,\n",
       " 'forces/fsx-aero-lbs': 1243.1924358154329,\n",
       " 'forces/fsy-aero-lbs': -22.458722658432276,\n",
       " 'forces/fsz-aero-lbs': 11295.895525068245,\n",
       " 'forces/lod-norm': 9.086006068804341,\n",
       " 'forces/fbx-weight-lbs': -225.08136054708726,\n",
       " 'forces/fby-weight-lbs': 19.028806096901796,\n",
       " 'forces/fbz-weight-lbs': 11315.469374913604,\n",
       " 'forces/fbx-total-lbs': 228.52422455195654,\n",
       " 'forces/fby-total-lbs': -22.458722658432276,\n",
       " 'forces/fbz-total-lbs': -11318.68473562792,\n",
       " 'forces/fbx-gear-lbs': 0.0,\n",
       " 'forces/fby-gear-lbs': 0.0,\n",
       " 'forces/fbz-gear-lbs': 0.0,\n",
       " 'forces/hold-down': 0.0,\n",
       " 'forces/fbx-prop-lbs': 1243.4917123017142,\n",
       " 'forces/fby-prop-lbs': 0.0,\n",
       " 'forces/fbz-prop-lbs': 0.0,\n",
       " 'aero/alpha-rad': 0.020183191364413117,\n",
       " 'aero/beta-rad': 0.0012250540353085399,\n",
       " 'aero/mag-beta-rad': 0.0012250540353085399,\n",
       " 'aero/alpha-deg': 1.156411682285761,\n",
       " 'aero/beta-deg': 0.07019042589864986,\n",
       " 'aero/mag-beta-deg': 0.07019042589864986,\n",
       " 'aero/Re': 8124368.019456121,\n",
       " 'aero/qbar-psf': 144.00974634083485,\n",
       " 'aero/qbarUW-psf': 144.009530217252,\n",
       " 'aero/qbarUV-psf': 143.95109040919414,\n",
       " 'aero/alphadot-rad_sec': -6.291196426325085e-15,\n",
       " 'aero/betadot-rad_sec': 1.6535156450662048e-15,\n",
       " 'aero/alphadot-deg_sec': -3.604590033162135e-13,\n",
       " 'aero/betadot-deg_sec': 9.473946782114536e-14,\n",
       " 'aero/h_b-cg-ft': 832.0560543025676,\n",
       " 'aero/h_b-mac-ft': 831.99109902256,\n",
       " 'aero/cl-squared': 0.10922339887686607,\n",
       " 'aero/qbar-area': 34179.273196533744,\n",
       " 'aero/alpha-max-rad': 0.0,\n",
       " 'aero/alpha-min-rad': 0.0,\n",
       " 'aero/bi2vel': 0.03372968980797638,\n",
       " 'aero/ci2vel': 0.004187592319054655,\n",
       " 'aero/alpha-wing-rad': 0.020183191364413117,\n",
       " 'aero/stall-hyst-norm': 0.0,\n",
       " 'aero/coefficient/CLalpha': 12132.905993444845,\n",
       " 'aero/coefficient/dCLflap': 0.0,\n",
       " 'aero/coefficient/dCLsb': 0.0,\n",
       " 'aero/coefficient/CLde': -837.0104683765996,\n",
       " 'aero/coefficient/CD0': 910.6643267640202,\n",
       " 'aero/coefficient/CDi': 130.6611736383234,\n",
       " 'aero/coefficient/CDmach': 0.0,\n",
       " 'aero/coefficient/CDflap': 0.0,\n",
       " 'aero/coefficient/CDgear': 0.0,\n",
       " 'aero/coefficient/CDsb': 0.0,\n",
       " 'aero/coefficient/CDbeta': 0.3918860714700609,\n",
       " 'aero/coefficient/CDde': 201.50162961855773,\n",
       " 'aero/coefficient/CYb': -20.93572827666334,\n",
       " 'aero/coefficient/Clb': -19.122694207904296,\n",
       " 'aero/coefficient/Clp': -0.0,\n",
       " 'aero/coefficient/Clr': 0.0,\n",
       " 'aero/coefficient/Clda': 83.29451767941593,\n",
       " 'aero/coefficient/Cldr': 5.158586933750808,\n",
       " 'aero/coefficient/Cmalpha': -24238.145235216627,\n",
       " 'aero/coefficient/Cmde': 86374.45827365482,\n",
       " 'aero/coefficient/Cmq': -0.0,\n",
       " 'aero/coefficient/Cmadot': 6.126673942036252e-11,\n",
       " 'aero/coefficient/Cnb': 382.4538841580859,\n",
       " 'aero/coefficient/Cnr': -0.0,\n",
       " 'aero/coefficient/Cndr': -515.8586933750807,\n",
       " 'aero/coefficient/Cnda': 0.0,\n",
       " 'flight-path/gamma-rad': -6.218560870573996e-16,\n",
       " 'flight-path/gamma-deg': -3.562972925290889e-14,\n",
       " 'flight-path/psi-gt-rad': 4.886921905584122,\n",
       " 'moments/l-aero-lbsft': -3.474694437954895e-05,\n",
       " 'moments/m-aero-lbsft': -1963.4530118287948,\n",
       " 'moments/n-aero-lbsft': 3.374092898411618e-06,\n",
       " 'moments/roll-stab-aero-lbsft': -3.467177200188295e-05,\n",
       " 'moments/pitch-stab-aero-lbsft': -1963.4530118287948,\n",
       " 'moments/yaw-stab-aero-lbsft': 4.074662299139042e-06,\n",
       " 'moments/roll-wind-aero-lbsft': -2.4053701053879633,\n",
       " 'moments/pitch-wind-aero-lbsft': -1963.451538453196,\n",
       " 'moments/yaw-wind-aero-lbsft': 4.074662299139042e-06,\n",
       " 'moments/l-total-lbsft': -3.474694437954895e-05,\n",
       " 'moments/m-total-lbsft': 9.596327117833425e-06,\n",
       " 'moments/n-total-lbsft': 3.374092898411618e-06,\n",
       " 'moments/l-gear-lbsft': 0.0,\n",
       " 'moments/m-gear-lbsft': 0.0,\n",
       " 'moments/n-gear-lbsft': 0.0,\n",
       " 'moments/l-prop-lbsft': 0.0,\n",
       " 'moments/m-prop-lbsft': 1963.453021425122,\n",
       " 'moments/n-prop-lbsft': 0.0,\n",
       " 'systems/stall-warn-norm': 0.0,\n",
       " 'ground/solid': 1.0,\n",
       " 'ground/bumpiness': 0.0,\n",
       " 'ground/maximum-force-lbs': 1.7976931348623157e+308,\n",
       " 'ground/rolling_friction-factor': 1.0,\n",
       " 'ground/static-friction-factor': 1.0,\n",
       " 'ic/vc-kts': 216.17908734454016,\n",
       " 'ic/ve-kts': 206.243778139908,\n",
       " 'ic/vg-kts': 401.1114995171257,\n",
       " 'ic/vt-kts': 401.1114995171257,\n",
       " 'ic/mach': 0.6993263896471579,\n",
       " 'ic/roc-fpm': 2.818578703767116e-13,\n",
       " 'ic/gamma-deg': 3.975693351829396e-16,\n",
       " 'ic/alpha-deg': 1.1564116822856843,\n",
       " 'ic/beta-deg': 0.07019042590034426,\n",
       " 'ic/theta-deg': 1.156411682285684,\n",
       " 'ic/phi-deg': -1.0935383967563747e-15,\n",
       " 'ic/psi-true-deg': 279.9298095741005,\n",
       " 'ic/lat-gc-deg': 40.2215132192213,\n",
       " 'ic/long-gc-deg': -86.92756398413263,\n",
       " 'ic/h-sl-ft': 38586.21145321056,\n",
       " 'ic/h-agl-ft': 37999.99999999827,\n",
       " 'ic/terrain-elevation-ft': 585.9999999973426,\n",
       " 'ic/vg-fps': 677.0,\n",
       " 'ic/vt-fps': 677.0,\n",
       " 'ic/vw-bx-fps': 0.0,\n",
       " 'ic/vw-by-fps': 9.956591107140866e-12,\n",
       " 'ic/vw-bz-fps': -4.583000645652646e-13,\n",
       " 'ic/vw-north-fps': 9.9333874459262e-12,\n",
       " 'ic/vw-east-fps': 1.7053025658242404e-12,\n",
       " 'ic/vw-down-fps': -4.533213633891092e-13,\n",
       " 'ic/vw-mag-fps': 1.0078702445845446e-11,\n",
       " 'ic/vw-dir-deg': 9.74122852839484,\n",
       " 'ic/roc-fps': 4.697631172945194e-15,\n",
       " 'ic/u-fps': 676.8616050072498,\n",
       " 'ic/v-fps': 0.8293613744688741,\n",
       " 'ic/w-fps': 13.663082621443932,\n",
       " 'ic/vn-fps': 117.55981628051155,\n",
       " 'ic/ve-fps': -666.7148487892649,\n",
       " 'ic/vd-fps': 4.580189945620544e-13,\n",
       " 'ic/gamma-rad': 6.938893903907228e-18,\n",
       " 'ic/alpha-rad': 0.020183191364411775,\n",
       " 'ic/theta-rad': 0.02018319136441177,\n",
       " 'ic/beta-rad': 0.0012250540353381126,\n",
       " 'ic/phi-rad': -1.908584552037882e-17,\n",
       " 'ic/psi-true-rad': 4.885696851548799,\n",
       " 'ic/lat-gc-rad': 0.7019978358098355,\n",
       " 'ic/long-gc-rad': -1.5171722022611542,\n",
       " 'ic/p-rad_sec': 0.0,\n",
       " 'ic/q-rad_sec': 0.0,\n",
       " 'ic/r-rad_sec': 0.0,\n",
       " 'ic/lat-geod-rad': 0.705305376791543,\n",
       " 'ic/lat-geod-deg': 40.4110213580397,\n",
       " 'ic/geod-alt-ft': 38585.99999999827,\n",
       " 'ic/targetNlf': 1.0,\n",
       " 'contact/unit[3]/solid': 1.0,\n",
       " 'contact/unit[3]/bumpiness': 0.0,\n",
       " 'contact/unit[3]/maximum-force-lbs': 1.7976931348623157e+308,\n",
       " 'contact/unit[3]/rolling_friction-factor': 1.0,\n",
       " 'contact/unit[3]/static-friction-factor': 1.0,\n",
       " 'contact/unit[3]/WOW': 0.0,\n",
       " 'contact/unit[3]/x-position': 278.04,\n",
       " 'contact/unit[3]/y-position': -273.96,\n",
       " 'contact/unit[3]/z-position': 56.28,\n",
       " 'contact/unit[3]/compression-ft': 0.0,\n",
       " 'contact/unit[3]/compression-velocity-fps': 0.0,\n",
       " 'contact/unit[3]/static_friction_coeff': 0.8,\n",
       " 'contact/unit[3]/dynamic_friction_coeff': 0.5,\n",
       " 'contact/unit[4]/solid': 1.0,\n",
       " 'contact/unit[4]/bumpiness': 0.0,\n",
       " 'contact/unit[4]/maximum-force-lbs': 1.7976931348623157e+308,\n",
       " 'contact/unit[4]/rolling_friction-factor': 1.0,\n",
       " 'contact/unit[4]/static-friction-factor': 1.0,\n",
       " 'contact/unit[4]/WOW': 0.0,\n",
       " 'contact/unit[4]/x-position': 278.04,\n",
       " 'contact/unit[4]/y-position': 273.96,\n",
       " 'contact/unit[4]/z-position': 56.28,\n",
       " 'contact/unit[4]/compression-ft': 0.0,\n",
       " 'contact/unit[4]/compression-velocity-fps': 0.0,\n",
       " 'contact/unit[4]/static_friction_coeff': 0.8,\n",
       " 'contact/unit[4]/dynamic_friction_coeff': 0.5,\n",
       " 'ap/heading-cmd-deg': 280.0,\n",
       " 'ap/roll-enable': 0.0,\n",
       " 'ap/pitch-enable': 0.0,\n",
       " 'ap/yaw-enable': 0.0,\n",
       " 'ap/gear-enable': 0.0,\n",
       " 'ap/h-enable': 0.0,\n",
       " 'ap/h-sl-cmd-ft': 596.0,\n",
       " 'ap/v-cmd-fps': 677.0,\n",
       " 'ap/engine-roll-mix': 0.0,\n",
       " 'ap/engine-pitch-mix': 0.0,\n",
       " 'ap/engine-thrust-mix': 1.0,\n",
       " 'ap/aero-moment-mix': 1.0,\n",
       " 'ap/heading-error-to-phi-deg-cmd': 3.0,\n",
       " 'ap/engine-yaw-mix': 0.1,\n",
       " 'ap/roll-leadlag-c1': 6.0,\n",
       " 'ap/roll-leadlag-c2': 2e-07,\n",
       " 'ap/roll-leadlag-c3': 2.0,\n",
       " 'ap/roll-leadlag-c4': 800.0,\n",
       " 'ap/pitch-leadlag-c1': 6.0,\n",
       " 'ap/pitch-leadlag-c2': 2e-06,\n",
       " 'ap/pitch-leadlag-c3': 2.0,\n",
       " 'ap/pitch-leadlag-c4': 300.0,\n",
       " 'ap/kp-yaw': 0.01,\n",
       " 'ap/kd-yaw': 0.02,\n",
       " 'ap/h-leadlag-c1': 2.0,\n",
       " 'ap/h-leadlag-c2': 2e-07,\n",
       " 'ap/h-leadlag-c3': 1.0,\n",
       " 'ap/h-leadlag-c4': 70.0,\n",
       " 'ap/aileron-trim': 6.192891390473271e-05,\n",
       " 'ap/elevator-trim': -0.025844622867566572,\n",
       " 'ap/rudder-trim': 0.0002091951125062251,\n",
       " 'ap/throttle-trim': 0.7303479652854366,\n",
       " 'ap/theta-deg-trim': -1.4167522690646808,\n",
       " 'ap/spoiler-tbl-norm': 0.0,\n",
       " 'ap/gear-deploy': 0.0,\n",
       " 'ap/gear-cmd-norm': 0.0,\n",
       " 'ap/gear-servo': 0.0,\n",
       " 'ap/heading-error-deg': 0.07019042589951141,\n",
       " 'ap/phi-deg-cmd': 0.21057127769853423,\n",
       " 'ap/roll-error': 0.2105712776985377,\n",
       " 'ap/roll-leadlag': 5.2691791555097936e-11,\n",
       " 'ap/roll-leadlag-lp': 3.38990202584523e-05,\n",
       " 'ap/roll-auto': 9.582793416318501e-05,\n",
       " 'ap/aileron-cmd-norm': 0.00022613538432062958,\n",
       " 'ap/pitch-error': -2.573163951350343,\n",
       " 'ap/pitch-leadlag': -1.7154427831490763e-08,\n",
       " 'ap/pitch-leadlag-lp': -0.00037005049774364976,\n",
       " 'ap/pitch-auto': -0.025844640021994405,\n",
       " 'ap/elevator-cmd-norm': 0.14031067006746925,\n",
       " 'ap/velocity-error': 2.2737367544323206e-13,\n",
       " 'ap/theta-auto': 2.2737367544323207e-14,\n",
       " 'ap/yaw-pid/initial-integrator-value': 0.0,\n",
       " 'ap/yaw-pid-lp': 0.0,\n",
       " 'ap/yaw-auto': 0.0002091951125062251,\n",
       " 'ap/rudder-cmd-norm': 0.0007573899576671861,\n",
       " 'ap/h-error': -37990.21145321056,\n",
       " 'ap/h-leadlag': -0.00010854347211924114,\n",
       " 'ap/h-leadlag-lp': -0.0007180616246963062,\n",
       " 'ap/h-auto': 0.7296299036607402,\n",
       " 'ap/throttle-cmd-norm': 0.16673315207787176,\n",
       " 'ap/elevator_to_engine0': 0.0,\n",
       " 'ap/throttle_to_engine0': 0.16673315207787176,\n",
       " 'ap/aileron_to_engine0': -0.0,\n",
       " 'ap/rudder_to_engine0_yaw': 7.573899576671862e-05,\n",
       " 'ap/elevator_to_engine1': -0.0,\n",
       " 'ap/throttle_to_engine1': 0.16673315207787176,\n",
       " 'ap/aileron_to_engine1': -0.0,\n",
       " 'ap/rudder_to_engine1_yaw': 7.573899576671862e-05,\n",
       " 'ap/elevator_to_engine2': 0.0,\n",
       " 'ap/throttle_to_engine2': 0.16673315207787176,\n",
       " 'ap/aileron_to_engine2': 0.0,\n",
       " 'ap/rudder_to_engine2_yaw': 7.573899576671862e-05,\n",
       " 'ap/elevator_to_engine3': -0.0,\n",
       " 'ap/throttle_to_engine3': 0.16673315207787176,\n",
       " 'ap/aileron_to_engine3': 0.0,\n",
       " 'ap/rudder_to_engine3_yaw': 7.573899576671862e-05}"
      ]
     },
     "execution_count": 14,
     "metadata": {},
     "output_type": "execute_result"
    }
   ],
   "source": [
    "prop"
   ]
  },
  {
   "cell_type": "code",
   "execution_count": 5,
   "metadata": {},
   "outputs": [
    {
     "name": "stdout",
     "output_type": "stream",
     "text": [
      "0 states have been removed from the model\n"
     ]
    },
    {
     "data": {
      "text/latex": [
       "$$\\frac{1526}{s^2 + 5.268 s}$$"
      ],
      "text/plain": [
       "TransferFunction(array([1525.50012954]), array([1.   , 5.268, 0.   ]))"
      ]
     },
     "execution_count": 5,
     "metadata": {},
     "output_type": "execute_result"
    }
   ],
   "source": [
    "sys = control.ss(*linearize(\n",
    "    aircraft='F-35B-2',\n",
    "    states=['ic/u-fps','ic/v-fps','ic/w-fps'], # velocity and heading angle\n",
    "    states_deriv = ['accelerations/udot-ft_sec2','accelerations/vdot-ft_sec2','accelerations/wdot-ft_sec2'],\n",
    "    inputs=['fcs/elevator-cmd-norm'],\n",
    "    outputs=['ic/u-fps'],\n",
    "    \n",
    "#     ic=op_cruise,\n",
    "    dx=1e-3,\n",
    "    n_round=3\n",
    "))\n",
    "s = control.tf([1, 0], [1])\n",
    "rad2deg = 180/np.pi\n",
    "G_elev_to_pitch = rad2deg*clean_tf(control.minreal(control.ss2tf(sys), 1e-3))/s  # in degrees\n",
    "G_elev_to_pitch"
   ]
  },
  {
   "cell_type": "code",
   "execution_count": 6,
   "metadata": {},
   "outputs": [],
   "source": [
    "# Add the actuator \n",
    "# tau = 0.4\n",
    "# G_act = tau / (s + tau)\n",
    "# G_elev_to_pitch *= G_act\n",
    "# G_elev_to_pitch"
   ]
  },
  {
   "cell_type": "code",
   "execution_count": 7,
   "metadata": {},
   "outputs": [
    {
     "name": "stdout",
     "output_type": "stream",
     "text": [
      "gain margin:  inf\n",
      "phase margin (in degrees):  156.75768337632115\n",
      "Frequency for gain margin (at phase crossover, phase = -180 degrees):  nan\n",
      "Frequency for phase margin (at gain crossover, gain = 1):  1.1430218473672287\n"
     ]
    },
    {
     "name": "stderr",
     "output_type": "stream",
     "text": [
      "C:\\Users\\12646\\anaconda3\\lib\\site-packages\\control\\margins.py:322: RuntimeWarning: invalid value encountered in less_equal\n",
      "  w_180 = w_180[w180_resp <= 0.]\n",
      "C:\\Users\\12646\\anaconda3\\lib\\site-packages\\control\\margins.py:323: RuntimeWarning: invalid value encountered in less_equal\n",
      "  w180_resp = w180_resp[w180_resp <= 0.]\n"
     ]
    },
    {
     "data": {
      "image/png": "[encoded data removed]",
      "text/plain": [
       "<Figure size 432x288 with 1 Axes>"
      ]
     },
     "metadata": {
      "needs_background": "light"
     },
     "output_type": "display_data"
    },
    {
     "data": {
      "image/png": "[encoded data removed]",
      "text/plain": [
       "<Figure size 432x288 with 1 Axes>"
      ]
     },
     "metadata": {
      "needs_background": "light"
     },
     "output_type": "display_data"
    },
    {
     "data": {
      "image/png": "[encoded data removed]",
      "text/plain": [
       "<Figure size 432x288 with 1 Axes>"
      ]
     },
     "metadata": {
      "needs_background": "light"
     },
     "output_type": "display_data"
    },
    {
     "data": {
      "image/png": "[encoded data removed]",
      "text/plain": [
       "<Figure size 432x288 with 1 Axes>"
      ]
     },
     "metadata": {
      "needs_background": "light"
     },
     "output_type": "display_data"
    },
    {
     "data": {
      "image/png": "[encoded data removed]",
      "text/plain": [
       "<Figure size 1080x504 with 4 Axes>"
      ]
     },
     "metadata": {
      "needs_background": "light"
     },
     "output_type": "display_data"
    },
    {
     "data": {
      "image/png": "[encoded data removed]",
      "text/plain": [
       "<Figure size 432x288 with 1 Axes>"
      ]
     },
     "metadata": {
      "needs_background": "light"
     },
     "output_type": "display_data"
    }
   ],
   "source": [
    "# !! <<<< THESE ARE FOR HOVER \n",
    "# PD gains to lead-lag gains \n",
    "Kp = 0.01\n",
    "Kd = 0.0001\n",
    "N = 5\n",
    "\n",
    "c1 = N*Kd + Kp\n",
    "c2 = N*Kp\n",
    "c3 = 1\n",
    "c4 = N\n",
    "\n",
    "# >>>> SUBJECT TO CHANGE !!\n",
    "\n",
    "\n",
    "\n",
    "\n",
    "H_elev_to_pitch = (c1 * s + c2) / (c3 * s + c4)\n",
    "# H_elev_to_pitch = 1 + 0.01*s\n",
    "\n",
    "plt.figure()\n",
    "rootlocus(G_elev_to_pitch*H_elev_to_pitch)\n",
    "plt.plot([0, -1], [0, 1], '--')\n",
    "\n",
    "plt.figure()\n",
    "rootlocus(G_elev_to_pitch*H_elev_to_pitch)\n",
    "plt.xlim([-1.5, 0])\n",
    "plt.plot([0, -1], [0, 1], '--')\n",
    "\n",
    "# Close loop transfer function\n",
    "Gc_elev_to_pitch = G_elev_to_pitch*H_elev_to_pitch/(1 + G_elev_to_pitch*H_elev_to_pitch)\n",
    "\n",
    "plt.figure()\n",
    "step_size = 10\n",
    "t, y = control.step_response(step_size*Gc_elev_to_pitch, T=np.linspace(0, 30, 1000))\n",
    "plt.plot(t, y)\n",
    "plt.ylabel('pitch, deg')\n",
    "plt.xlabel('t, sec')\n",
    "plt.title('output')\n",
    "\n",
    "plt.figure()\n",
    "# actual error was computed in radians, so, converting back here\n",
    "e = np.deg2rad(step_size-y)\n",
    "t, u, _= control.forced_response(H_elev_to_pitch, T=t, U=e)\n",
    "plt.plot(t, u)\n",
    "plt.hlines([-1, 1], t[0], t[-1], linestyles='dashed')\n",
    "plt.title('input')\n",
    "plt.ylabel('elevator, norm')\n",
    "plt.xlabel('t, sec')\n",
    "\n",
    "plt.figure(figsize=(15, 7))\n",
    "control.gangof4(G_elev_to_pitch, H_elev_to_pitch, Hz=True, dB=True)\n",
    "\n",
    "plt.figure()\n",
    "control.nyquist(Gc_elev_to_pitch, omega=np.logspace(-3, 3, 1000))\n",
    "\n",
    "gm, pm, wg, wp = control.margin(Gc_elev_to_pitch)\n",
    "print('gain margin: ', gm)\n",
    "print('phase margin (in degrees): ', pm)\n",
    "print('Frequency for gain margin (at phase crossover, phase = -180 degrees): ', wg)\n",
    "print('Frequency for phase margin (at gain crossover, gain = 1): ', wp)"
   ]
  },
  {
   "cell_type": "markdown",
   "metadata": {},
   "source": [
    "## Roll"
   ]
  },
  {
   "cell_type": "code",
   "execution_count": null,
   "metadata": {},
   "outputs": [],
   "source": [
    "sys = control.ss(*linearize(\n",
    "    aircraft='F-35B-2',\n",
    "    states=['ic/p-rad_sec'],\n",
    "    states_deriv = ['accelerations/pdot-rad_sec2'],\n",
    "    inputs=['fcs/aileron-cmd-norm'],\n",
    "    outputs=['ic/p-rad_sec'],\n",
    "    ic=op_cruise,\n",
    "    dx=1e-3,\n",
    "    n_round=3\n",
    "))\n",
    "rad2deg = 180/np.pi\n",
    "s = control.tf([1, 0], [1])\n",
    "G_aileron_to_roll = rad2deg*clean_tf(control.minreal(control.ss2tf(sys), 1e-3))/s\n",
    "G_aileron_to_roll"
   ]
  },
  {
   "cell_type": "code",
   "execution_count": null,
   "metadata": {},
   "outputs": [],
   "source": [
    "# Add the actuator \n",
    "tau = 0.4\n",
    "G_act = tau / (s + tau)\n",
    "G_aileron_to_roll *= G_act\n",
    "G_aileron_to_roll"
   ]
  },
  {
   "cell_type": "code",
   "execution_count": null,
   "metadata": {},
   "outputs": [],
   "source": [
    "# !! <<<< THESE ARE FOR HOVER \n",
    "# PD gains to lead-lag gains \n",
    "Kp = 7.66302615547072e-10\n",
    "Kd = 0.0076620813293718\n",
    "N = 505.040986830046\n",
    "\n",
    "c1 = N*Kd + Kp\n",
    "c2 = N*Kp\n",
    "c3 = 1\n",
    "c4 = N\n",
    "\n",
    "# >>>> SUBJECT TO CHANGE !!\n",
    "\n",
    "\n",
    "\n",
    "H_aileron_to_roll = (c1 * s + c2) / (c3 * s + c4)\n",
    "\n",
    "plt.figure()\n",
    "rootlocus(G_aileron_to_roll*H_aileron_to_roll)\n",
    "plt.plot([0, -1], [0, 1], '--')\n",
    "\n",
    "plt.figure()\n",
    "rootlocus(G_aileron_to_roll*H_aileron_to_roll)\n",
    "plt.xlim([-1.5, 0])\n",
    "plt.plot([0, -1], [0, 1], '--')\n",
    "\n",
    "Gc_aileron_to_roll  = G_aileron_to_roll*H_aileron_to_roll/(1 + G_aileron_to_roll*H_aileron_to_roll)\n",
    "\n",
    "\n",
    "plt.figure()\n",
    "step_size = 10\n",
    "t, y = control.step_response(step_size*Gc_aileron_to_roll, T=np.linspace(0, 30, 1000))\n",
    "plt.plot(t, y)\n",
    "plt.xlabel('t, sec')\n",
    "plt.ylabel('roll, deg')\n",
    "plt.title('output')\n",
    "\n",
    "plt.figure()\n",
    "# actual error was computed in radians, so, converting back here\n",
    "e = np.deg2rad(step_size-y)\n",
    "t, u, _= control.forced_response(H_aileron_to_roll, T=t, U=e)\n",
    "plt.hlines([-0.1, 0.1], t[0], t[-1], linestyles='dashed')\n",
    "plt.plot(t, u)\n",
    "plt.xlabel('t, sec')\n",
    "plt.ylabel('aileron %')\n",
    "plt.title('input')\n",
    "\n",
    "plt.figure()\n",
    "control.nyquist(Gc_aileron_to_roll, omega=np.logspace(-3, 3, 1000))\n",
    "\n",
    "plt.figure(figsize=(15, 7))\n",
    "control.gangof4(G_aileron_to_roll, H_aileron_to_roll, Hz=True, dB=True)\n",
    "\n",
    "gm, pm, wg, wp = control.margin(Gc_aileron_to_roll)\n",
    "print('gain margin: ', gm)\n",
    "print('phase margin (in degrees): ', pm)\n",
    "print('Frequency for gain margin (at phase crossover, phase = -180 degrees): ', wg)\n",
    "print('Frequency for phase margin (at gain crossover, gain = 1): ', wp)"
   ]
  },
  {
   "cell_type": "markdown",
   "metadata": {},
   "source": [
    "## Yaw"
   ]
  },
  {
   "cell_type": "code",
   "execution_count": null,
   "metadata": {},
   "outputs": [],
   "source": [
    "sys1 = control.ss(*linearize(\n",
    "    aircraft='F-35B-2',\n",
    "    states=['ic/r-rad_sec'],\n",
    "    states_deriv = ['accelerations/rdot-rad_sec2'],\n",
    "    inputs=['propulsion/engine/pitch-angle-rad'],\n",
    "    outputs=['ic/r-rad_sec'],\n",
    "    ic=op_hover,\n",
    "    dx=1e-3,\n",
    "    n_round=3\n",
    "))\n",
    "s = control.tf([1, 0], [1])\n",
    "\n",
    "# # G_rudder_to_yaw = -clean_tf(control.minreal(control.ss2tf(sys), 1e-3))/s\n",
    "# print(sys)\n",
    "# temp = scysig.ss2tf(sys.A, sys.B, sys.C, sys.D)\n",
    "# print(temp)\n",
    "\n",
    "G_rudder_to_yaw1 = -clean_tf(control.minreal(control.ss2tf(sys1), 1e-3))/s\n",
    "G_rudder_to_yaw1"
   ]
  },
  {
   "cell_type": "markdown",
   "metadata": {},
   "source": [
    "## Altitude "
   ]
  },
  {
   "cell_type": "code",
   "execution_count": null,
   "metadata": {},
   "outputs": [],
   "source": [
    "sys = control.ss(*linearize(\n",
    "    aircraft='F-35B-2',\n",
    "    states=['ic/w-fps'],\n",
    "    states_deriv = ['accelerations/wdot-ft_sec2'],\n",
    "    inputs=['fcs/throttle-cmd-norm'],\n",
    "    outputs=['ic/w-fps'],\n",
    "    ic=op_cruise,\n",
    "    dx=1e-3,\n",
    "    n_round=3\n",
    "))\n",
    "G_throttle_to_alt = -clean_tf(control.minreal(control.ss2tf(sys), 1e-3))/s\n",
    "G_throttle_to_alt"
   ]
  },
  {
   "cell_type": "code",
   "execution_count": null,
   "metadata": {},
   "outputs": [],
   "source": [
    "# Add the actuator \n",
    "tau = 0.4\n",
    "G_act = tau / (s + tau)\n",
    "G_throttle_to_alt *= G_act\n",
    "G_throttle_to_alt"
   ]
  },
  {
   "cell_type": "code",
   "execution_count": null,
   "metadata": {},
   "outputs": [],
   "source": [
    "# !! <<<< THESE ARE FOR HOVER \n",
    "# PD gains to lead-lag gains \n",
    "Kp = 9.11459759968896e-10\n",
    "Kd = 0.00911454537591535\n",
    "N = 27.8343628363698\n",
    "\n",
    "c1 = N*Kd + Kp\n",
    "c2 = N*Kp\n",
    "c3 = 1\n",
    "c4 = N\n",
    "\n",
    "# >>>> SUBJECT TO CHANGE !!\n",
    "\n",
    "\n",
    "\n",
    "\n",
    "\n",
    "\n",
    "H_throttle_to_alt = (c1 * s + c2) / (c3 * s + c4)\n",
    "\n",
    "\n",
    "plt.figure()\n",
    "rootlocus(G_throttle_to_alt*H_throttle_to_alt)\n",
    "plt.plot([0, -1], [0, 1], '--')\n",
    "\n",
    "plt.figure()\n",
    "rootlocus(G_throttle_to_alt*H_throttle_to_alt)\n",
    "plt.xlim([-1.2, 0])\n",
    "plt.plot([0, -1], [0, 1], '--')\n",
    "\n",
    "Gc_throttle_to_alt = G_throttle_to_alt*H_throttle_to_alt/(1 + G_throttle_to_alt*H_throttle_to_alt)\n",
    "\n",
    "plt.figure()\n",
    "step_size = 10\n",
    "t, y = control.step_response(step_size*Gc_throttle_to_alt, T=np.linspace(0, 40, 1000))\n",
    "plt.plot(t, y)\n",
    "plt.xlabel('t, sec')\n",
    "plt.ylabel('altitude, ft')\n",
    "plt.title('output')\n",
    "\n",
    "plt.figure()\n",
    "# error computed in ft\n",
    "e = step_size-y\n",
    "t, u, _= control.forced_response(H_throttle_to_alt, T=t, U=e)\n",
    "plt.hlines([-0.1, 0.1], t[0], t[-1], linestyles='dashed')\n",
    "plt.plot(t, u)\n",
    "plt.xlabel('t, sec')\n",
    "plt.ylabel('throtle %')\n",
    "plt.title('input')\n",
    "\n",
    "plt.figure()\n",
    "control.nyquist(Gc_throttle_to_alt, omega=np.logspace(-3, 3, 1000))\n",
    "\n",
    "plt.figure(figsize=(15, 7))\n",
    "control.gangof4(G_throttle_to_alt, H_throttle_to_alt, Hz=True, dB=True)\n",
    "\n",
    "\n",
    "gm, pm, wg, wp = control.margin(Gc_throttle_to_alt)\n",
    "print('gain margin: ', gm)\n",
    "print('phase margin (in degrees): ', pm)\n",
    "print('Frequency for gain margin (at phase crossover, phase = -180 degrees): ', wg)\n",
    "print('Frequency for phase margin (at gain crossover, gain = 1): ', wp)"
   ]
  }
 ],
 "metadata": {
  "kernelspec": {
   "display_name": "Python 3",
   "language": "python",
   "name": "python3"
  },
  "language_info": {
   "codemirror_mode": {
    "name": "ipython",
    "version": 3
   },
   "file_extension": ".py",
   "mimetype": "text/x-python",
   "name": "python",
   "nbconvert_exporter": "python",
   "pygments_lexer": "ipython3",
   "version": "3.8.5"
  },
  "metadata": {
   "interpreter": {
    "hash": "f1b82cffc61be27678f1d47a128eaa4a669f389d3430f480176844fbc028fe63"
   }
  }
 },
 "nbformat": 4,
 "nbformat_minor": 5
}
