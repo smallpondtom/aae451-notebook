{
 "cells": [
  {
   "cell_type": "code",
   "execution_count": 4,
   "metadata": {},
   "outputs": [],
   "source": [
    "%load_ext autoreload\n",
    "%autoreload 2\n",
    "# pull in new changes to python modules without having to restart notebook\n",
    "\n",
    "import matplotlib.pyplot as plt\n",
    "import numpy as np\n",
    "import pandas as pd\n",
    "import matplotlib.pyplot as plt\n",
    "import json \n",
    "from jsbsim_utils import Logger, trim, simulate, linearize, rootlocus, clean_tf\n",
    "import control "
   ]
  },
  {
   "cell_type": "code",
   "execution_count": 5,
   "metadata": {},
   "outputs": [],
   "source": [
    "all_data = dict()"
   ]
  },
  {
   "cell_type": "markdown",
   "metadata": {},
   "source": [
    "Nonlinear-dynamics of aircraft\n",
    "\n",
    "$$\\dot{x} = f(x, u)$$\n",
    "\n",
    "Find equilibrium:\n",
    "\n",
    "Minimize $\\dot{x}$, or a subset for your problem, by changeing $x_0$, $u_0$\n",
    "\n",
    "$$0 = f(x_0, u_0)$$\n",
    "\n",
    "This is an optimization problem.\n",
    "\n",
    "* Matlab: fmincon, fminsearch\n",
    "* Python: scipy.minimize (Nelder-Mead, SLSQP)\n",
    "\n",
    "Can simplify this problem with mixing matrices, to decouple the dynamcis into SISO (single-input-single output) systems."
   ]
  },
  {
   "cell_type": "markdown",
   "metadata": {},
   "source": [
    "Due to Taylor series error on the order of (dx^2). We know the linear model approx, does well near the equilibrium point. "
   ]
  },
  {
   "cell_type": "markdown",
   "metadata": {},
   "source": [
    "$\\dot{\\vec{x}} = \\vec{f}(x, u) = A \\vec{x} + B \\vec{u}$\n",
    "\n",
    "$\\dot{\\vec{y}} = C \\vec{x} + D \\vec{u}$\n",
    "\n",
    "\n",
    "$A = \\dfrac{\\delta \\vec{f}(x0, u0)}{\\delta \\vec{x}}$\n",
    "\n",
    "$B = \\dfrac{\\delta \\vec{f}(x0, u0)}{\\delta \\vec{u}}$\n",
    "\n",
    "$C = \\dfrac{\\delta \\vec{y}(x0, u0)}{\\delta \\vec{x}}$\n",
    "\n",
    "$D = \\dfrac{\\delta \\vec{y}(x0, u0)}{\\delta \\vec{u}}$"
   ]
  },
  {
   "cell_type": "markdown",
   "metadata": {},
   "source": [
    "## Ground Trimming "
   ]
  },
  {
   "cell_type": "code",
   "execution_count": 17,
   "metadata": {},
   "outputs": [
    {
     "name": "stdout",
     "output_type": "stream",
     "text": [
      " final_simplex: (array([[0.00752277, 3.11212156],\n",
      "       [0.00748106, 3.11221532],\n",
      "       [0.00754464, 3.11216313]]), array([4.51973002e-06, 8.14117197e-06, 1.67505423e-05]))\n",
      "           fun: 4.519730024921744e-06\n",
      "       message: 'Optimization terminated successfully.'\n",
      "          nfev: 80\n",
      "           nit: 43\n",
      "        status: 0\n",
      "       success: True\n",
      "             x: array([0.00752277, 3.11212156])\n",
      " final_simplex: (array([[0.00752277, 3.11212156],\n",
      "       [0.00748106, 3.11221532],\n",
      "       [0.00754464, 3.11216313]]), array([4.51973002e-06, 8.14117197e-06, 1.67505423e-05]))\n",
      "           fun: 4.519730024921744e-06\n",
      "       message: 'Optimization terminated successfully.'\n",
      "          nfev: 80\n",
      "           nit: 43\n",
      "        status: 0\n",
      "       success: True\n",
      "             x: array([0.00752277, 3.11212156])\n",
      "{'ic/vt-fps': 0, 'ic/psi-true-deg': 280, 'ap/gear-enable': 1, 'fcs/left-brake-cmd-norm': 1, 'fcs/right-brake-cmd-norm': 1, 'fcs/center-brake-cmd-norm': 1, 'ic/theta-rad': 0.007522769802197068, 'ic/h-agl-ft': 3.1121215601541055}\n",
      "{'forces/fbz-aero-lbs': -0.0, 'forces/fbz-weight-lbs': 11358.889135720807, 'forces/fbz-total-lbs': -57634.20787943273, 'forces/fbz-gear-lbs': -57634.20787943273, 'forces/fbz-prop-lbs': 0.0}\n",
      "{'forces/fbz-aero-lbs': -0.0, 'forces/fbz-weight-lbs': 11358.590010803779, 'forces/fbz-total-lbs': -11336.041172343454, 'forces/fbz-gear-lbs': -11336.041172343454, 'forces/fbz-prop-lbs': 0.0}\n"
     ]
    }
   ],
   "source": [
    "ct = 0\n",
    "temp = []\n",
    "def cost_ground(fdm):\n",
    "    # modify cost to also penalize throttle   \n",
    "    udot = fdm['accelerations/udot-ft_sec2']\n",
    "    vdot = fdm['accelerations/vdot-ft_sec2']\n",
    "    wdot = fdm['accelerations/wdot-ft_sec2']\n",
    "    pdot = fdm['accelerations/pdot-rad_sec2']\n",
    "    qdot = fdm['accelerations/qdot-rad_sec2']\n",
    "    rdot = fdm['accelerations/rdot-rad_sec2']\n",
    "    temp.append(fdm.get_property_catalog('fbz'))\n",
    "    return udot**2 + vdot**2 + wdot**2 + pdot**2 + qdot**2 + rdot**2  \n",
    "        \n",
    "op_ground, props, res = trim(\n",
    "    aircraft='F-35B-2',\n",
    "    ic={\n",
    "          'ic/vt-fps': 0,\n",
    "          'ic/psi-true-deg': 280,\n",
    "          'ap/gear-enable': 1,\n",
    "          'fcs/left-brake-cmd-norm': 1,\n",
    "          'fcs/right-brake-cmd-norm': 1,\n",
    "          'fcs/center-brake-cmd-norm': 1,\n",
    "#         'ic/vt-fps': 0,\n",
    "#         'gear/gear-cmd-norm': 1,\n",
    "#         'propulsion/engine/pitch-angle-rad': np.deg2rad(0),\n",
    "#         'fcs/throttle-cmd-norm': 0,\n",
    "#         'fcs/aileron-cmd-norm': 0,\n",
    "#         'fcs/elevator-cmd-norm': 0,\n",
    "#         'fcs/rudder-cmd-norm': 0,\n",
    "#         'fcs/left-brake-cmd-norm': 1,\n",
    "#         'fcs/right-brake-cmd-norm': 1,\n",
    "#         'fcs/center-brake-cmd-norm': 1,\n",
    "    },\n",
    "    design_vector=['ic/theta-rad', 'ic/h-agl-ft'],\n",
    "    x0=[0, 0.31],\n",
    "    verbose=True,\n",
    "    method='Nelder-Mead', # works better with ground interaction\n",
    "    tol=1e-12,\n",
    "    #bounds=[[np.deg2rad(-40), np.deg2rad(40)], [0, 20]],\n",
    "    cost=cost_ground,\n",
    ")\n",
    "\n",
    "print(res)\n",
    "print(op_ground)\n",
    "print(temp[0])\n",
    "print(temp[-1])\n",
    "\n",
    "data = dict()\n",
    "data['res'] = res\n",
    "data['op_ground'] = op_ground\n",
    "data['fbz_initial'] = temp[0]\n",
    "data['fbz_final'] = temp[-1]\n",
    "all_data = dict()\n",
    "all_data['groundTrim'] = data"
   ]
  },
  {
   "cell_type": "code",
   "execution_count": 18,
   "metadata": {},
   "outputs": [],
   "source": [
    "# log_ground = simulate(\n",
    "#     aircraft='F-35B-2',\n",
    "#     op_0=op_ground,\n",
    "#     tf=5,\n",
    "#     realtime=True)"
   ]
  },
  {
   "cell_type": "code",
   "execution_count": 19,
   "metadata": {},
   "outputs": [],
   "source": [
    "# log_ground['position/h-agl-ft'].plot()\n",
    "# plt.grid(True)\n",
    "# plt.ylabel('ft, altitude')"
   ]
  },
  {
   "cell_type": "code",
   "execution_count": 20,
   "metadata": {},
   "outputs": [],
   "source": [
    "# log_ground['attitude/theta-deg'].plot()\n",
    "# plt.grid(True)\n",
    "# plt.ylabel('deg, aircraft pitch')"
   ]
  },
  {
   "cell_type": "markdown",
   "metadata": {},
   "source": [
    "## Hover Trimming"
   ]
  },
  {
   "cell_type": "code",
   "execution_count": 167,
   "metadata": {},
   "outputs": [
    {
     "name": "stdout",
     "output_type": "stream",
     "text": [
      "     fun: 0.929361866372507\n",
      "     jac: array([1., 0., 0., 0., 0., 0.])\n",
      " message: 'Optimization terminated successfully'\n",
      "    nfev: 28\n",
      "     nit: 4\n",
      "    njev: 4\n",
      "  status: 0\n",
      " success: True\n",
      "       x: array([0.92936187, 0.71734948, 1.57079641, 1.5707964 , 1.57079641,\n",
      "       1.5707964 ])\n",
      "constraint eq 6.793177131925177e-13\n",
      "constraint eq -2.0955823742951907e-09\n",
      "constraint eq 1.6212036530902444e-10\n",
      "{'ic/h-sl-ft': 650, 'ic/vt-fps': 0, 'ic/psi-true-deg': 0, 'ap/gear-enable': 1, 'fcs/throttle-cmd-norm': 0.929361866372507, 'fcs/elevator-cmd-norm': 0.7173494783548715, 'propulsion/engine/pitch-angle-rad': 1.5707964099772886, 'propulsion/engine[1]/pitch-angle-rad': 1.5707963999209869, 'propulsion/engine[2]/pitch-angle-rad': 1.570796409815362, 'propulsion/engine[3]/pitch-angle-rad': 1.5707964016066742}\n"
     ]
    }
   ],
   "source": [
    "op_hover, props, res = trim(\n",
    "    aircraft='F-35B-2',\n",
    "    ic={  \n",
    "          'ic/h-sl-ft': 650,\n",
    "          'ic/vt-fps': 0,\n",
    "          'ic/psi-true-deg': 0,\n",
    "          'ap/gear-enable': 1,\n",
    "#         'ic/h-agl-ft': 10,\n",
    "#         'ic/vd-fps': 0,\n",
    "#         'ic/vn-fps': 0*np.cos(np.deg2rad(280)),\n",
    "#         'ic/ve-fps': 0*np.sin(np.deg2rad(280)),\n",
    "#         'ic/theta-rad': 0,\n",
    "#         'gear/gear-cmd-norm': 1,\n",
    "#         'fcs/left-brake-cmd-norm': 0,\n",
    "#         'fcs/right-brake-cmd-norm': 0,\n",
    "#         'fcs/center-brake-cmd-norm': 0,\n",
    "    },\n",
    "    eq_constraints = [\n",
    "        lambda fdm: fdm['accelerations/udot-ft_sec2'],\n",
    "        #lambda fdm: fdm['accelerations/vdot-ft_sec2'],\n",
    "        lambda fdm: fdm['accelerations/wdot-ft_sec2'],\n",
    "        #lambda fdm: fdm['accelerations/pdot-rad_sec2'],\n",
    "        lambda fdm: fdm['accelerations/qdot-rad_sec2'],\n",
    "        #lambda fdm: fdm['accelerations/rdot-rad_sec2'],\n",
    "    ],\n",
    "    design_vector=[\n",
    "        'fcs/throttle-cmd-norm',\n",
    "        'fcs/elevator-cmd-norm',\n",
    "        'propulsion/engine/pitch-angle-rad',\n",
    "        'propulsion/engine[1]/pitch-angle-rad',\n",
    "        'propulsion/engine[2]/pitch-angle-rad',\n",
    "        'propulsion/engine[3]/pitch-angle-rad',\n",
    "    ],\n",
    "#     design_vector=[\n",
    "#         'fcs/throttle-cmd-norm',\n",
    "#         'fcs/elevator-cmd-norm',\n",
    "#         'propulsion/engine/pitch-angle-rad',\n",
    "#         'propulsion/engine[1]/pitch-angle-rad',\n",
    "#         'propulsion/engine[2]/pitch-angle-rad',\n",
    "#         'propulsion/engine[3]/pitch-angle-rad',\n",
    "#     ],\n",
    "    x0=[0.9, 0.2, np.deg2rad(90), np.deg2rad(90), np.deg2rad(90), np.deg2rad(90)],\n",
    "    cost= lambda fdm: fdm['fcs/throttle-cmd-norm'],\n",
    "    verbose=True,\n",
    "    method='SLSQP',\n",
    "    bounds=[[0, 1], [-1, 1], [np.deg2rad(0), np.deg2rad(120)], \n",
    "           [np.deg2rad(0), np.deg2rad(120)],\n",
    "           [np.deg2rad(0), np.deg2rad(120)],\n",
    "           [np.deg2rad(0), np.deg2rad(120)]],\n",
    "    tol=1e-12\n",
    ")\n",
    "\n",
    "print(op_hover)\n",
    "data1 = dict()\n",
    "data1['res'] = res\n",
    "data1['op_hover'] = op_hover\n",
    "all_data['hoverTrim'] = data1"
   ]
  },
  {
   "cell_type": "code",
   "execution_count": 22,
   "metadata": {},
   "outputs": [],
   "source": [
    "# log_hover = simulate(\n",
    "#     aircraft='F-35B-2',\n",
    "#     op_0=op_hover,\n",
    "#     tf=10,\n",
    "#     realtime=True)"
   ]
  },
  {
   "cell_type": "code",
   "execution_count": 23,
   "metadata": {},
   "outputs": [],
   "source": [
    "# log_hover['position/h-agl-ft'].plot()\n",
    "# plt.grid(True)\n",
    "# plt.ylabel('ft, altitude')"
   ]
  },
  {
   "cell_type": "code",
   "execution_count": 24,
   "metadata": {},
   "outputs": [],
   "source": [
    "# plt.subplot()\n",
    "# log_hover['propulsion/engine/thrust-lbs'].plot()\n",
    "# log_hover['propulsion/engine[1]/thrust-lbs'].plot()\n",
    "# log_hover['propulsion/engine[2]/thrust-lbs'].plot()\n",
    "# log_hover['propulsion/engine[3]/thrust-lbs'].plot()\n",
    "# plt.grid(True)\n",
    "# plt.legend(['rcp', 'rhp', 'lcp', 'lhp'])\n",
    "# plt.ylabel('lbs, engine thrusts')\n",
    "# plt.show()"
   ]
  },
  {
   "cell_type": "code",
   "execution_count": 25,
   "metadata": {},
   "outputs": [],
   "source": [
    "# plt.subplot()\n",
    "# log_hover['propulsion/engine/pitch-angle-rad'].plot()\n",
    "# log_hover['propulsion/engine[1]/pitch-angle-rad'].plot()\n",
    "# log_hover['propulsion/engine[2]/pitch-angle-rad'].plot()\n",
    "# log_hover['propulsion/engine[3]/pitch-angle-rad'].plot()\n",
    "# plt.grid(True)\n",
    "# plt.legend(['rcp', 'rhp', 'lcp', 'lhp'])\n",
    "# plt.ylabel('deg, engine pitch angle')\n",
    "# plt.show()"
   ]
  },
  {
   "cell_type": "markdown",
   "metadata": {},
   "source": [
    "## Hover Auto Pilot"
   ]
  },
  {
   "cell_type": "code",
   "execution_count": 166,
   "metadata": {},
   "outputs": [],
   "source": [
    "op_hover_auto = dict(op_hover)\n",
    "op_hover_auto['ic/theta-deg'] = 0\n",
    "op_hover_auto['ic/phi-deg'] = 0\n",
    "\n",
    "op_hover_auto['ap/heading-cmd-deg'] = 280\n",
    "op_hover_auto['ap/gear-enable'] = 1\n",
    "op_hover_auto['ap/roll-enable'] = 0\n",
    "op_hover_auto['ap/pitch-enable'] = 0\n",
    "op_hover_auto['ap/yaw-enable'] = 0\n",
    "op_hover_auto['ap/h-enable'] = 0\n",
    "op_hover_auto['ap/h-sl-cmd-ft'] = 650\n",
    "\n",
    "log_hover_auto = simulate(\n",
    "    aircraft='F-35B-2',\n",
    "    op_0=op_hover_auto,\n",
    "    tf=5,\n",
    "    realtime=False)"
   ]
  },
  {
   "cell_type": "code",
   "execution_count": 165,
   "metadata": {},
   "outputs": [
    {
     "data": {
      "text/plain": [
       "<matplotlib.legend.Legend at 0x25d18d1f220>"
      ]
     },
     "execution_count": 165,
     "metadata": {},
     "output_type": "execute_result"
    },
    {
     "data": {
      "image/png": "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\n",
      "text/plain": [
       "<Figure size 432x288 with 1 Axes>"
      ]
     },
     "metadata": {
      "needs_background": "light"
     },
     "output_type": "display_data"
    }
   ],
   "source": [
    "log_hover_auto['fcs/throttle-pos-norm'].plot(label='0')\n",
    "log_hover_auto['fcs/throttle-pos-norm[1]'].plot(label='1')\n",
    "log_hover_auto['fcs/throttle-pos-norm[2]'].plot(label='2')\n",
    "log_hover_auto['fcs/throttle-pos-norm[3]'].plot(label='3')\n",
    "\n",
    "plt.legend()"
   ]
  },
  {
   "cell_type": "code",
   "execution_count": 164,
   "metadata": {},
   "outputs": [
    {
     "data": {
      "text/plain": [
       "<matplotlib.legend.Legend at 0x25d182f1b20>"
      ]
     },
     "execution_count": 164,
     "metadata": {},
     "output_type": "execute_result"
    },
    {
     "data": {
      "image/png": "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\n",
      "text/plain": [
       "<Figure size 432x288 with 1 Axes>"
      ]
     },
     "metadata": {
      "needs_background": "light"
     },
     "output_type": "display_data"
    }
   ],
   "source": [
    "log_hover_auto['fcs/elevator-cmd-norm'].plot(label='0')\n",
    "log_hover_auto['fcs/aileron-cmd-norm'].plot(label='1')\n",
    "log_hover_auto['fcs/rudder-cmd-norm'].plot(label='2')\n",
    "log_hover_auto['fcs/throttle-cmd-norm'].plot(label='3')\n",
    "\n",
    "plt.legend()"
   ]
  },
  {
   "cell_type": "markdown",
   "metadata": {},
   "source": [
    "## Cruise Trimming"
   ]
  },
  {
   "cell_type": "code",
   "execution_count": 7,
   "metadata": {},
   "outputs": [
    {
     "name": "stdout",
     "output_type": "stream",
     "text": [
      "     fun: -0.0658821910745617\n",
      "     jac: array([ 1.00028949e-01,  2.59588238e-01,  4.67710197e-06,  5.65499067e-06,\n",
      "       -4.25912814e+00,  4.25211880e-02])\n",
      " message: 'Optimization terminated successfully'\n",
      "    nfev: 36\n",
      "     nit: 5\n",
      "    njev: 5\n",
      "  status: 0\n",
      " success: True\n",
      "       x: array([0.16673315, 0.14031067, 0.00075739, 0.00022614, 0.02018319,\n",
      "       0.00122505])\n",
      "constraint eq 7.932099421736893e-12\n",
      "constraint eq 7.108341693040643e-13\n",
      "constraint eq -4.156675004196586e-12\n",
      "constraint eq 6.37390942161292e-14\n",
      "constraint eq -1.0761591720791191e-13\n",
      "constraint eq -2.1582568283586667e-13\n",
      "{'ic/gamma-rad': 0, 'ic/vt-fps': 677, 'ic/h-agl-ft': 38000, 'gear/gear-cmd-norm': 0, 'fcs/left-brake-cmd-norm': 0, 'fcs/right-brake-cmd-norm': 0, 'fcs/center-brake-cmd-norm': 0, 'propulsion/engine/pitch-angle-rad': 0, 'propulsion/engine[1]/pitch-angle-rad': 0, 'propulsion/engine[2]/pitch-angle-rad': 0, 'propulsion/engine[3]/pitch-angle-rad': 0, 'fcs/throttle-cmd-norm': 0.16673315207787176, 'fcs/elevator-cmd-norm': 0.14031067006746925, 'fcs/rudder-cmd-norm': 0.0007573899576671861, 'fcs/aileron-cmd-norm': 0.00022613538432062958, 'ic/alpha-rad': 0.020183191364411775, 'ic/beta-rad': 0.0012250540353381126}\n"
     ]
    }
   ],
   "source": [
    "def cost_cruise(fdm):\n",
    "    # modify cost to also penalize throttle\n",
    "    delta = fdm['propulsion/engine/pitch-angle-rad']\n",
    "    theta = fdm['attitude/theta-rad']\n",
    "    drag = fdm['forces/fwx-aero-lbs']\n",
    "    lift = fdm['forces/fwz-aero-lbs']\n",
    "    alpha = fdm['aero/alpha-rad']\n",
    "    throttle = fdm['fcs/throttle-cmd-norm']\n",
    "    \n",
    "    udot = fdm['accelerations/udot-ft_sec2']\n",
    "    vdot = fdm['accelerations/vdot-ft_sec2']\n",
    "    wdot = fdm['accelerations/wdot-ft_sec2']\n",
    "    pdot = fdm['accelerations/pdot-rad_sec2']\n",
    "    qdot = fdm['accelerations/qdot-rad_sec2']\n",
    "    rdot = fdm['accelerations/rdot-rad_sec2']\n",
    "    return udot**2 + vdot**2 + wdot**2 + pdot**2 + qdot**2 + rdot**2 - 1e-3*(lift/drag)**2 + 1e-3*(theta < 0) + 1e-1*throttle + 2e-1*delta**2 \n",
    "        \n",
    "\n",
    "op_cruise, prop, res = trim(\n",
    "    aircraft='F-35B-2',\n",
    "    ic={\n",
    "        'ic/gamma-rad': 0,\n",
    "        'ic/vt-fps': 677,\n",
    "        \n",
    "        ## Modification\n",
    "#         'ic/u-fps': 677,\n",
    "#         'ic/v-fps': 0,\n",
    "#         'ic/w-fps': 0,\n",
    "        \n",
    "#         'ic/q-rad_sec': 0,\n",
    "#         'ic/p-rad_sec': 0,\n",
    "#         'ic/r-rad_sec': 0,\n",
    "        ## End of modification\n",
    "        \n",
    "        'ic/h-agl-ft': 38000,\n",
    "        'gear/gear-cmd-norm': 0,\n",
    "        'fcs/left-brake-cmd-norm': 0,\n",
    "        'fcs/right-brake-cmd-norm': 0,\n",
    "        'fcs/center-brake-cmd-norm': 0,\n",
    "        'propulsion/engine/pitch-angle-rad': 0,\n",
    "        'propulsion/engine[1]/pitch-angle-rad': 0,\n",
    "        'propulsion/engine[2]/pitch-angle-rad': 0,\n",
    "        'propulsion/engine[3]/pitch-angle-rad': 0,\n",
    "    },\n",
    "#     design_vector=[\n",
    "#         'fcs/throttle-cmd-norm',\n",
    "#         'fcs/elevator-cmd-norm',\n",
    "#         'fcs/rudder-cmd-norm',\n",
    "#         'fcs/aileron-cmd-norm',\n",
    "#         'ic/alpha-rad',\n",
    "#         'ic/beta-rad',\n",
    "#         'propulsion/engine/pitch-angle-rad',\n",
    "#     ],\n",
    "#     cost=cost_cruise,\n",
    "    \n",
    "    design_vector=[\n",
    "        'fcs/throttle-cmd-norm',\n",
    "        'fcs/elevator-cmd-norm',\n",
    "        'fcs/rudder-cmd-norm',\n",
    "        'fcs/aileron-cmd-norm',\n",
    "        'ic/alpha-rad',\n",
    "        'ic/beta-rad',\n",
    "    ],\n",
    "    method='SLSQP',\n",
    "    eq_constraints= [\n",
    "        lambda fdm: fdm['accelerations/udot-ft_sec2'],\n",
    "        lambda fdm: fdm['accelerations/vdot-ft_sec2'],\n",
    "        lambda fdm: fdm['accelerations/wdot-ft_sec2'],\n",
    "        lambda fdm: fdm['accelerations/pdot-rad_sec2'],\n",
    "        lambda fdm: fdm['accelerations/qdot-rad_sec2'],\n",
    "        lambda fdm: fdm['accelerations/rdot-rad_sec2'],\n",
    "    ],\n",
    "#     cost=lambda fdm: fdm['fcs/throttle-cmd-norm'],\n",
    "    cost=cost_cruise,\n",
    "    x0=[0.4, 0, 0, 0, 0, 0],\n",
    "    verbose=True,\n",
    "    bounds=[[0, 1], [-1, 1], [-1, 1], [-1, 1], [-1, 1], [-1, 1]],\n",
    "    tol=1e-12,\n",
    ")\n",
    "print(op_cruise)\n",
    "\n",
    "data2 = dict()\n",
    "data2['res'] = res\n",
    "data2['op_cruise'] = op_cruise\n",
    "\n",
    "all_data['cruiseTrim'] = data2"
   ]
  },
  {
   "cell_type": "code",
   "execution_count": 20,
   "metadata": {},
   "outputs": [
    {
     "data": {
      "text/plain": [
       "{'ic/gamma-rad': 0,\n",
       " 'ic/vt-fps': 677,\n",
       " 'ic/h-agl-ft': 38000.0,\n",
       " 'gear/gear-cmd-norm': 0,\n",
       " 'fcs/left-brake-cmd-norm': 0,\n",
       " 'fcs/right-brake-cmd-norm': 0,\n",
       " 'fcs/center-brake-cmd-norm': 0,\n",
       " 'propulsion/engine/pitch-angle-rad': 0,\n",
       " 'propulsion/engine[1]/pitch-angle-rad': 0,\n",
       " 'propulsion/engine[2]/pitch-angle-rad': 0,\n",
       " 'propulsion/engine[3]/pitch-angle-rad': 0,\n",
       " 'fcs/throttle-cmd-norm': 0.16673315207787176,\n",
       " 'fcs/elevator-cmd-norm': 0.14031067006746925,\n",
       " 'fcs/rudder-cmd-norm': 0.0007573899576671861,\n",
       " 'fcs/aileron-cmd-norm': 0.00022613538432062958,\n",
       " 'ic/alpha-rad': 0.020183191364411775,\n",
       " 'ic/beta-rad': 0.0012250540353381126}"
      ]
     },
     "execution_count": 20,
     "metadata": {},
     "output_type": "execute_result"
    }
   ],
   "source": [
    "op_cruise"
   ]
  },
  {
   "cell_type": "code",
   "execution_count": 29,
   "metadata": {},
   "outputs": [],
   "source": [
    "# log_cruise = simulate(\n",
    "#     aircraft='F-35B-2',\n",
    "#     op_0=op_cruise,\n",
    "#     tf=10,\n",
    "#     realtime=True)"
   ]
  },
  {
   "cell_type": "code",
   "execution_count": 30,
   "metadata": {},
   "outputs": [],
   "source": [
    "# plt.subplot()\n",
    "# log_cruise['propulsion/engine/pitch-angle-rad'].plot()\n",
    "# log_cruise['propulsion/engine[1]/pitch-angle-rad'].plot()\n",
    "# log_cruise['propulsion/engine[2]/pitch-angle-rad'].plot()\n",
    "# log_cruise['propulsion/engine[3]/pitch-angle-rad'].plot()\n",
    "# plt.grid(True)\n",
    "# plt.legend(['rcp', 'rhp', 'lcp', 'lhp'])\n",
    "# plt.ylabel('lb, pounds')\n",
    "# plt.show()"
   ]
  },
  {
   "cell_type": "code",
   "execution_count": 31,
   "metadata": {},
   "outputs": [],
   "source": [
    "# log_cruise['forces/fwx-aero-lbs'].plot()\n",
    "# plt.ylabel('lbs, drag')\n",
    "# plt.grid(True)"
   ]
  },
  {
   "cell_type": "code",
   "execution_count": 32,
   "metadata": {},
   "outputs": [],
   "source": [
    "# log_cruise['forces/fwy-aero-lbs'].plot()\n",
    "# plt.grid(True)\n",
    "# plt.ylabel('lbs, side-force')"
   ]
  },
  {
   "cell_type": "code",
   "execution_count": 33,
   "metadata": {},
   "outputs": [],
   "source": [
    "# log_cruise['forces/fwz-aero-lbs'].plot()\n",
    "# plt.grid(True)\n",
    "# plt.ylabel('lbs, lift')"
   ]
  },
  {
   "cell_type": "code",
   "execution_count": 34,
   "metadata": {},
   "outputs": [],
   "source": [
    "# log_cruise['aero/alpha-deg'].plot()\n",
    "# plt.ylabel('deg, angle of attack')\n",
    "# plt.grid(True)"
   ]
  },
  {
   "cell_type": "code",
   "execution_count": 35,
   "metadata": {},
   "outputs": [],
   "source": [
    "# log_cruise['fcs/elevator-pos-deg'].plot()\n",
    "# plt.grid(True)\n",
    "# plt.ylabel('deg, elevator angle')"
   ]
  },
  {
   "cell_type": "code",
   "execution_count": 36,
   "metadata": {},
   "outputs": [],
   "source": [
    "# plt.subplot()\n",
    "# log_cruise['fcs/left-aileron-pos-deg'].plot()\n",
    "# log_cruise['fcs/right-aileron-pos-deg'].plot()\n",
    "# plt.grid(True)\n",
    "# plt.legend(['left aileron', 'right aileron'])\n",
    "# plt.ylabel(\"deg, aileron angle\")\n",
    "# plt.show()"
   ]
  },
  {
   "cell_type": "code",
   "execution_count": 37,
   "metadata": {},
   "outputs": [],
   "source": [
    "# log_cruise['fcs/rudder-pos-deg'].plot()\n",
    "# plt.grid(True)\n",
    "# plt.ylabel('deg, rudder angle')"
   ]
  },
  {
   "cell_type": "code",
   "execution_count": 38,
   "metadata": {},
   "outputs": [],
   "source": [
    "# log_cruise['velocities/vt-fps'].plot()\n",
    "# plt.grid(True)\n",
    "# plt.ylabel(\"fps, velocity\")"
   ]
  },
  {
   "cell_type": "code",
   "execution_count": 27,
   "metadata": {},
   "outputs": [],
   "source": [
    "# log_hover_auto['fcs/throttle-pos-norm'].plot(label='0')\n",
    "# log_hover_auto['fcs/throttle-pos-norm[1]'].plot(label='1')\n",
    "# log_hover_auto['fcs/throttle-pos-norm[2]'].plot(label='2')\n",
    "# log_hover_auto['fcs/throttle-pos-norm[3]'].plot(label='3')\n",
    "\n",
    "# plt.legend()"
   ]
  },
  {
   "cell_type": "markdown",
   "metadata": {},
   "source": [
    "## Cruise Auto Pilot"
   ]
  },
  {
   "cell_type": "code",
   "execution_count": 8,
   "metadata": {},
   "outputs": [],
   "source": [
    "## Initial state\n",
    "op_cruise_auto = dict(op_cruise)\n",
    "op_cruise_auto['ic/theta-deg'] = 0\n",
    "op_cruise_auto['ic/phi-deg'] = 0\n",
    "op_cruise_auto['ic/h-agl-ft'] = 38000\n",
    "# op_cruise_auto['ic/u-fps'] = 677\n",
    "op_cruise_auto['ic/vt-fps'] = 677\n",
    "op_cruise_auto['ic/beta-rad'] = 0\n",
    "\n",
    "## Command\n",
    "op_cruise_auto['ap/heading-cmd-deg'] = 300\n",
    "op_cruise_auto['ap/gear-enable'] = 0\n",
    "op_cruise_auto['ap/roll-enable'] = 1\n",
    "op_cruise_auto['ap/pitch-enable'] = 1\n",
    "op_cruise_auto['ap/yaw-enable'] = 0\n",
    "op_cruise_auto['ap/h-enable'] = 1\n",
    "op_cruise_auto['ap/h-sl-cmd-ft'] = 38000\n",
    "\n",
    "# log_cruise_auto = simulate(\n",
    "#     aircraft='F-35B-2',\n",
    "#     op_0=op_cruise_auto,\n",
    "#     tf=5,\n",
    "#     realtime=False)"
   ]
  },
  {
   "cell_type": "code",
   "execution_count": 37,
   "metadata": {},
   "outputs": [
    {
     "ename": "KeyError",
     "evalue": "'hess_inv'",
     "output_type": "error",
     "traceback": [
      "\u001b[1;31m---------------------------------------------------------------------------\u001b[0m",
      "\u001b[1;31mKeyError\u001b[0m                                  Traceback (most recent call last)",
      "\u001b[1;32m<ipython-input-37-871aa2a6bceb>\u001b[0m in \u001b[0;36m<module>\u001b[1;34m\u001b[0m\n\u001b[1;32m----> 1\u001b[1;33m \u001b[1;32mdel\u001b[0m \u001b[0mall_data\u001b[0m\u001b[1;33m[\u001b[0m\u001b[1;34m'cruiseTrim'\u001b[0m\u001b[1;33m]\u001b[0m\u001b[1;33m[\u001b[0m\u001b[1;34m'res'\u001b[0m\u001b[1;33m]\u001b[0m\u001b[1;33m[\u001b[0m\u001b[1;34m'hess_inv'\u001b[0m\u001b[1;33m]\u001b[0m\u001b[1;33m\u001b[0m\u001b[1;33m\u001b[0m\u001b[0m\n\u001b[0m",
      "\u001b[1;31mKeyError\u001b[0m: 'hess_inv'"
     ]
    }
   ],
   "source": [
    "del all_data['cruiseTrim']['res']['hess_inv']"
   ]
  },
  {
   "cell_type": "code",
   "execution_count": null,
   "metadata": {},
   "outputs": [],
   "source": [
    "del all_data['hoverTrim']['res']['hess_inv']"
   ]
  },
  {
   "cell_type": "code",
   "execution_count": null,
   "metadata": {},
   "outputs": [],
   "source": [
    "del all_data['cruiseTrim']['res']['message']\n",
    "del all_data['groundTrim']['res']['message']\n",
    "del all_data['hoverTrim']['res']['message']"
   ]
  },
  {
   "cell_type": "code",
   "execution_count": null,
   "metadata": {},
   "outputs": [],
   "source": [
    "# encode numpy array for JSON serializable\n",
    "class NumpyEncoder(json.JSONEncoder):\n",
    "    def default(self, obj):\n",
    "        if isinstance(obj, np.ndarray):\n",
    "            return obj.tolist()\n",
    "        return json.JSONEncoder.default(self, obj)\n",
    "\n",
    "# save all output as JSON file \n",
    "with open('jsbsim_opt.json', '+w') as jfile:\n",
    "    json.dump(all_data, jfile, indent=4, cls=NumpyEncoder)"
   ]
  },
  {
   "cell_type": "code",
   "execution_count": null,
   "metadata": {},
   "outputs": [],
   "source": [
    "result = log_cruise.to_json(orient=\"split\")\n",
    "parsed = json.loads(result)\n",
    "with open('log_cruise.json', 'w') as jfile: \n",
    "    json.dump(parsed, jfile, indent=4)"
   ]
  },
  {
   "cell_type": "code",
   "execution_count": null,
   "metadata": {},
   "outputs": [],
   "source": [
    "result = log_ground.to_json(orient=\"split\")\n",
    "parsed = json.loads(result)\n",
    "with open('log_ground.json', 'w') as jfile: \n",
    "    json.dump(parsed, jfile, indent=4)"
   ]
  },
  {
   "cell_type": "code",
   "execution_count": null,
   "metadata": {},
   "outputs": [],
   "source": [
    "result = log_hover.to_json(orient=\"split\")\n",
    "parsed = json.loads(result)\n",
    "with open('log_hover.json', 'w') as jfile: \n",
    "    json.dump(parsed, jfile, indent=4)"
   ]
  },
  {
   "cell_type": "markdown",
   "metadata": {},
   "source": [
    "## Transition "
   ]
  },
  {
   "cell_type": "code",
   "execution_count": null,
   "metadata": {},
   "outputs": [],
   "source": [
    "def trim_transition(vt_fps, gamma_deg, accel_g):\n",
    "    print('trimming @ Vt=', vt_fps, 'fps', 'gamma = ', gamma_deg, 'deg')\n",
    "    \n",
    "    def accel_gamma(fdm, accel_g, gamma_deg):\n",
    "        gamma = np.deg2rad(gamma_deg)\n",
    "        g = 32.2\n",
    "        theta = fdm['attitude/theta-rad']\n",
    "        C_nb = np.array([\n",
    "            [np.cos(theta), -np.sin(theta)],\n",
    "            [np.sin(theta), np.cos(theta)]\n",
    "        ])\n",
    "        a_n = accel_g*g*np.array([np.cos(gamma), np.sin(gamma)])\n",
    "        a_b = C_nb.T.dot(a_n)\n",
    "        return a_b\n",
    "    \n",
    "    if vt_fps < 250:\n",
    "        x0 = [0.9, 0, 0, 0, np.deg2rad(90), \n",
    "                            np.deg2rad(90),\n",
    "                            np.deg2rad(90),\n",
    "                            np.deg2rad(90),\n",
    "              np.deg2rad(0), 0],\n",
    "    elif vt_fps < 260:\n",
    "        x0 = [0.9, 0, 0, 0, np.deg2rad(90), \n",
    "                            np.deg2rad(80),\n",
    "                            np.deg2rad(90),\n",
    "                            np.deg2rad(80),\n",
    "              np.deg2rad(0), 0],\n",
    "    elif vt_fps < 270:\n",
    "        x0 = [0.9, 0, 0, 0, np.deg2rad(80), \n",
    "                            np.deg2rad(60),\n",
    "                            np.deg2rad(80),\n",
    "                            np.deg2rad(60),\n",
    "              np.deg2rad(0), 0],\n",
    "    elif vt_fps < 280:\n",
    "        x0 = [0.9, 0, 0, 0, np.deg2rad(60), \n",
    "                            np.deg2rad(45),\n",
    "                            np.deg2rad(60),\n",
    "                            np.deg2rad(45),\n",
    "              np.deg2rad(0), 0],\n",
    "    elif vt_fps < 285:\n",
    "        x0 = [0.9, 0, 0, 0, np.deg2rad(40), \n",
    "                            np.deg2rad(20),\n",
    "                            np.deg2rad(40),\n",
    "                            np.deg2rad(20),\n",
    "              np.deg2rad(0), 0],\n",
    "    elif vt_fps < 290:\n",
    "        x0 = [0.9, 0, 0, 0, np.deg2rad(15), \n",
    "                            np.deg2rad(5),\n",
    "                            np.deg2rad(15),\n",
    "                            np.deg2rad(5),\n",
    "              np.deg2rad(0), 0],\n",
    "    elif vt_fps < 300:\n",
    "        x0 = [0.9, 0, 0, 0, np.deg2rad(3), \n",
    "                            np.deg2rad(3),\n",
    "                            np.deg2rad(3),\n",
    "                            np.deg2rad(3),\n",
    "              np.deg2rad(0), 0],\n",
    "    else:\n",
    "        x0 = [0.9, 0, 0, 0, np.deg2rad(0),\n",
    "                            np.deg2rad(0),\n",
    "                            np.deg2rad(0),\n",
    "                            np.deg2rad(0),\n",
    "              np.deg2rad(0), 0],\n",
    "\n",
    "    op, props, res = trim(\n",
    "        aircraft='F-35B-2',\n",
    "        ic={\n",
    "            'ic/h-sl-ft': 800,\n",
    "            'ic/vt-fps': vt_fps,\n",
    "            'ic/gamma-deg': gamma_deg,\n",
    "            'ap/gear-enable': 1,\n",
    "        },\n",
    "        design_vector=[\n",
    "            'fcs/throttle-cmd-norm',\n",
    "            'fcs/elevator-cmd-norm',\n",
    "            'fcs/rudder-cmd-norm',\n",
    "            'fcs/aileron-cmd-norm',\n",
    "            'propulsion/engine/pitch-angle-rad',\n",
    "            'propulsion/engine[1]/pitch-angle-rad',\n",
    "            'propulsion/engine[2]/pitch-angle-rad',\n",
    "            'propulsion/engine[3]/pitch-angle-rad',\n",
    "            'ic/alpha-rad',\n",
    "            'ic/beta-rad',\n",
    "        ],\n",
    "        x0=x0,\n",
    "        verbose=False,\n",
    "        method='SLSQP',\n",
    "        eq_constraints= [\n",
    "            lambda fdm: fdm['accelerations/udot-ft_sec2'] - accel_gamma(fdm, accel_g, gamma_deg)[0],\n",
    "            lambda fdm: fdm['accelerations/vdot-ft_sec2'],\n",
    "            lambda fdm: fdm['accelerations/wdot-ft_sec2'] - accel_gamma(fdm, accel_g, gamma_deg)[1],\n",
    "            lambda fdm: fdm['accelerations/pdot-rad_sec2'],\n",
    "            lambda fdm: fdm['accelerations/qdot-rad_sec2'],\n",
    "            lambda fdm: fdm['accelerations/rdot-rad_sec2'],\n",
    "        ],\n",
    "        cost=lambda fdm: fdm['fcs/throttle-cmd-norm'],\n",
    "        bounds=[[0, 1], [-1, 1], [-1, 1], [-1, 1],\n",
    "                [np.deg2rad(0), np.deg2rad(120)],\n",
    "                [np.deg2rad(0), np.deg2rad(120)],\n",
    "                [np.deg2rad(0), np.deg2rad(120)],\n",
    "                [np.deg2rad(0), np.deg2rad(120)],\n",
    "                [-0.1, 0.1], [-0.1, 0.1]],\n",
    "        tol=1e-12)\n",
    "    return op\n",
    "\n",
    "ops_trim = [trim_transition(vt_fps=vt, gamma_deg=0, accel_g=0)\n",
    "                  for vt in [10, 50, 100, 150, 200, 250, 300, 400, 500, 600, 700, 790]]\n",
    "for op in ops_trim:\n",
    "    print('\\nvt fps', op['ic/vt-fps'])\n",
    "    print('theta deg', op['ic/gamma-deg'] + np.rad2deg(op['ic/alpha-rad']))\n",
    "    print('elevator', op['fcs/elevator-cmd-norm'])\n",
    "    print('aileron', op['fcs/aileron-cmd-norm'])\n",
    "    print('rudder', op['fcs/rudder-cmd-norm'])\n",
    "    print('throttle', op['fcs/throttle-cmd-norm'])"
   ]
  },
  {
   "cell_type": "code",
   "execution_count": null,
   "metadata": {},
   "outputs": [],
   "source": [
    "ops_transition = [trim_transition(vt_fps=vt, gamma_deg=10, accel_g=0.1)\n",
    "                  for vt in [10, 50, 100, 150, 200, 250, 300, 400, 500, 600, 650]]\n",
    "\n",
    "ops_transition_auto = []\n",
    "for op in ops_transition:\n",
    "    op = dict(op)\n",
    "    print('\\nvt fps', op['ic/vt-fps'])\n",
    "    print('theta deg', op['ic/gamma-deg'] + np.rad2deg(op['ic/alpha-rad']))\n",
    "    print('elevator', op['fcs/elevator-cmd-norm'])\n",
    "    print('aileron', op['fcs/aileron-cmd-norm'])\n",
    "    print('rudder', op['fcs/rudder-cmd-norm'])\n",
    "    print('throttle', op['fcs/throttle-cmd-norm'])\n",
    "    op['ap/roll-enable'] = 1\n",
    "    op['ap/pitch-enable'] = 1\n",
    "    op['ap/yaw-enable'] = 1\n",
    "    op['ap/h-enable'] = 0\n",
    "    op['ap/h-sl-cmd-ft'] = 1000\n",
    "    ops_transition_auto.append(op)"
   ]
  },
  {
   "cell_type": "code",
   "execution_count": null,
   "metadata": {},
   "outputs": [],
   "source": [
    "# log_transition_auto = []\n",
    "# for op in ops_transition_auto:\n",
    "#     log = simulate(\n",
    "#         aircraft='F-35B-2',\n",
    "#         op_0=op,\n",
    "#         tf=10,\n",
    "#         realtime=False)\n",
    "#     log_transition_auto.append(log)"
   ]
  },
  {
   "cell_type": "markdown",
   "metadata": {},
   "source": [
    "## Auto takeoff "
   ]
  },
  {
   "cell_type": "code",
   "execution_count": null,
   "metadata": {},
   "outputs": [],
   "source": [
    "# log_takeoff_auto = simulate(\n",
    "#     aircraft='F-35B-2',\n",
    "#     op_0=op_ground,\n",
    "#     op_list=[('hover', op_hover_auto, lambda fdm: fdm.get_sim_time() > 1),\n",
    "#              ('10 fps', ops_transition_auto[0], lambda fdm: fdm.get_sim_time() > 10),\n",
    "#              ('50 fps', ops_transition_auto[1], lambda fdm: fdm['velocities/vt-fps'] > 50),\n",
    "#              ('100 fps', ops_transition_auto[2], lambda fdm: fdm['velocities/vt-fps'] > 100),\n",
    "#              ('150 fps', ops_transition_auto[3], lambda fdm: fdm['velocities/vt-fps'] > 150),\n",
    "#              ('200 fps', ops_transition_auto[4], lambda fdm: fdm['velocities/vt-fps'] > 200),\n",
    "#              ('250 fps', ops_transition_auto[5], lambda fdm: fdm['velocities/vt-fps'] > 250),\n",
    "#              ('300 fps', ops_transition_auto[6], lambda fdm: fdm['velocities/vt-fps'] > 300),\n",
    "#              ('400 fps', ops_transition_auto[7], lambda fdm: fdm['velocities/vt-fps'] > 400),\n",
    "#              ('500 fps', ops_transition_auto[7], lambda fdm: fdm['velocities/vt-fps'] > 500),\n",
    "#              ('600 fps', ops_transition_auto[7], lambda fdm: fdm['velocities/vt-fps'] > 600),\n",
    "#     ],\n",
    "#     tf=120,\n",
    "#     realtime=True, verbose=True)"
   ]
  },
  {
   "cell_type": "markdown",
   "metadata": {},
   "source": [
    "# Hover Controller Design"
   ]
  },
  {
   "cell_type": "markdown",
   "metadata": {},
   "source": [
    "## Pitch"
   ]
  },
  {
   "cell_type": "code",
   "execution_count": 213,
   "metadata": {},
   "outputs": [
    {
     "name": "stdout",
     "output_type": "stream",
     "text": [
      "0 states have been removed from the model\n"
     ]
    },
    {
     "data": {
      "text/latex": [
       "$$\\frac{41.57}{s^2}$$"
      ],
      "text/plain": [
       "TransferFunction(array([41.56841179]), array([1., 0., 0.]))"
      ]
     },
     "execution_count": 213,
     "metadata": {},
     "output_type": "execute_result"
    }
   ],
   "source": [
    "sys = control.ss(*linearize(\n",
    "    aircraft='F-35B-2',\n",
    "    states=['ic/q-rad_sec'],\n",
    "    states_deriv = ['accelerations/qdot-rad_sec2'],\n",
    "    inputs=['fcs/elevator-cmd-norm'],\n",
    "    outputs=['ic/q-rad_sec'],\n",
    "    ic=op_hover,\n",
    "    dx=1e-3,\n",
    "    n_round=10\n",
    "))\n",
    "s = control.tf([1, 0], [1])\n",
    "rad2deg = 180/np.pi\n",
    "G_elev_to_pitch = rad2deg*clean_tf(control.minreal(control.ss2tf(sys), 1e-10))/s  # in degrees\n",
    "G_elev_to_pitch"
   ]
  },
  {
   "cell_type": "code",
   "execution_count": 11,
   "metadata": {},
   "outputs": [
    {
     "data": {
      "text/latex": [
       "$$\\frac{16.64}{s^3 + 0.4 s^2}$$"
      ],
      "text/plain": [
       "TransferFunction(array([16.63869437]), array([1. , 0.4, 0. , 0. ]))"
      ]
     },
     "execution_count": 11,
     "metadata": {},
     "output_type": "execute_result"
    }
   ],
   "source": [
    "# # Add the actuator \n",
    "# tau = 0.4\n",
    "# G_act = tau / (s + tau)\n",
    "# G_elev_to_pitch *= G_act\n",
    "# G_elev_to_pitch"
   ]
  },
  {
   "cell_type": "code",
   "execution_count": 240,
   "metadata": {},
   "outputs": [
    {
     "name": "stdout",
     "output_type": "stream",
     "text": [
      "gain margin:  inf\n",
      "phase margin (in degrees):  122.7856267951608\n",
      "Frequency for gain margin (at phase crossover, phase = -180 degrees):  nan\n",
      "Frequency for phase margin (at gain crossover, gain = 1):  1.488022487197787\n"
     ]
    },
    {
     "name": "stderr",
     "output_type": "stream",
     "text": [
      "C:\\Users\\12646\\anaconda3\\lib\\site-packages\\control\\margins.py:322: RuntimeWarning: invalid value encountered in less_equal\n",
      "  w_180 = w_180[w180_resp <= 0.]\n",
      "C:\\Users\\12646\\anaconda3\\lib\\site-packages\\control\\margins.py:323: RuntimeWarning: invalid value encountered in less_equal\n",
      "  w180_resp = w180_resp[w180_resp <= 0.]\n"
     ]
    },
    {
     "data": {
      "image/png": "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\n",
      "text/plain": [
       "<Figure size 432x288 with 1 Axes>"
      ]
     },
     "metadata": {
      "needs_background": "light"
     },
     "output_type": "display_data"
    },
    {
     "data": {
      "image/png": "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\n",
      "text/plain": [
       "<Figure size 432x288 with 1 Axes>"
      ]
     },
     "metadata": {
      "needs_background": "light"
     },
     "output_type": "display_data"
    },
    {
     "data": {
      "image/png": "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\n",
      "text/plain": [
       "<Figure size 432x288 with 1 Axes>"
      ]
     },
     "metadata": {
      "needs_background": "light"
     },
     "output_type": "display_data"
    },
    {
     "data": {
      "image/png": "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\n",
      "text/plain": [
       "<Figure size 432x288 with 1 Axes>"
      ]
     },
     "metadata": {
      "needs_background": "light"
     },
     "output_type": "display_data"
    },
    {
     "data": {
      "image/png": "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\n",
      "text/plain": [
       "<Figure size 1080x504 with 4 Axes>"
      ]
     },
     "metadata": {
      "needs_background": "light"
     },
     "output_type": "display_data"
    },
    {
     "data": {
      "image/png": "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\n",
      "text/plain": [
       "<Figure size 432x288 with 1 Axes>"
      ]
     },
     "metadata": {
      "needs_background": "light"
     },
     "output_type": "display_data"
    }
   ],
   "source": [
    "# PD gains to lead-lag gains \n",
    "Kp = 0.023\n",
    "Kd = 0.033\n",
    "N = 20\n",
    "\n",
    "c1 = N*Kd + Kp\n",
    "c2 = N*Kp\n",
    "c3 = 1\n",
    "c4 = N\n",
    "\n",
    "H_elev_to_pitch = (c1 * s + c2) / (c3 * s + c4)\n",
    "# H_elev_to_pitch = 1 + 0.01*s\n",
    "\n",
    "plt.figure()\n",
    "rootlocus(G_elev_to_pitch*H_elev_to_pitch)\n",
    "plt.plot([0, -1], [0, 1], '--')\n",
    "\n",
    "plt.figure()\n",
    "rootlocus(G_elev_to_pitch*H_elev_to_pitch)\n",
    "plt.xlim([-1.5, 0])\n",
    "plt.plot([0, -1], [0, 1], '--')\n",
    "\n",
    "Gc_elev_to_pitch = G_elev_to_pitch*H_elev_to_pitch/(1 + G_elev_to_pitch*H_elev_to_pitch)\n",
    "\n",
    "plt.figure()\n",
    "step_size = 10\n",
    "t, y = control.step_response(step_size*Gc_elev_to_pitch, T=np.linspace(0, 30, 1000))\n",
    "plt.plot(t, y)\n",
    "plt.ylabel('pitch, deg')\n",
    "plt.xlabel('t, sec')\n",
    "plt.title('output')\n",
    "\n",
    "plt.figure()\n",
    "# actual error was computed in radians, so, converting back here\n",
    "e = np.deg2rad(step_size-y)\n",
    "t, u, _= control.forced_response(H_elev_to_pitch, T=t, U=e)\n",
    "plt.plot(t, u)\n",
    "plt.hlines([-1, 1], t[0], t[-1], linestyles='dashed')\n",
    "plt.title('input')\n",
    "plt.ylabel('elevator, norm')\n",
    "plt.xlabel('t, sec')\n",
    "\n",
    "plt.figure(figsize=(15, 7))\n",
    "control.gangof4(G_elev_to_pitch, H_elev_to_pitch, Hz=True, dB=True)\n",
    "\n",
    "plt.figure()\n",
    "control.nyquist(Gc_elev_to_pitch, omega=np.logspace(-3, 3, 1000))\n",
    "\n",
    "gm, pm, wg, wp = control.margin(Gc_elev_to_pitch)\n",
    "print('gain margin: ', gm)\n",
    "print('phase margin (in degrees): ', pm)\n",
    "print('Frequency for gain margin (at phase crossover, phase = -180 degrees): ', wg)\n",
    "print('Frequency for phase margin (at gain crossover, gain = 1): ', wp)"
   ]
  },
  {
   "cell_type": "markdown",
   "metadata": {},
   "source": [
    "## Roll"
   ]
  },
  {
   "cell_type": "code",
   "execution_count": 25,
   "metadata": {},
   "outputs": [
    {
     "name": "stdout",
     "output_type": "stream",
     "text": [
      "0 states have been removed from the model\n"
     ]
    },
    {
     "data": {
      "text/latex": [
       "$$\\frac{76.15}{s^2}$$"
      ],
      "text/plain": [
       "TransferFunction(array([76.14609097]), array([1., 0., 0.]))"
      ]
     },
     "execution_count": 170,
     "metadata": {},
     "output_type": "execute_result"
    }
   ],
   "source": [
    "sys = control.ss(*linearize(\n",
    "    aircraft='F-35B-2',\n",
    "    states=['ic/p-rad_sec'],\n",
    "    states_deriv = ['accelerations/pdot-rad_sec2'],\n",
    "    inputs=['fcs/aileron-cmd-norm'],\n",
    "    outputs=['ic/p-rad_sec'],\n",
    "    ic=op_hover,\n",
    "    dx=1e-3,\n",
    "    n_round=3\n",
    "))\n",
    "rad2deg = 180/np.pi\n",
    "s = control.tf([1, 0], [1])\n",
    "G_aileron_to_roll = rad2deg*clean_tf(control.minreal(control.ss2tf(sys), 1e-3))/s\n",
    "G_aileron_to_roll"
   ]
  },
  {
   "cell_type": "code",
   "execution_count": 26,
   "metadata": {},
   "outputs": [
    {
     "data": {
      "text/latex": [
       "$$\\frac{30.46}{s^3 + 0.4 s^2}$$"
      ],
      "text/plain": [
       "TransferFunction(array([30.45843639]), array([1. , 0.4, 0. , 0. ]))"
      ]
     },
     "execution_count": 26,
     "metadata": {},
     "output_type": "execute_result"
    }
   ],
   "source": [
    "# # Add the actuator \n",
    "# tau = 0.4\n",
    "# G_act = tau / (s + tau)\n",
    "# G_aileron_to_roll *= G_act\n",
    "# G_aileron_to_roll"
   ]
  },
  {
   "cell_type": "code",
   "execution_count": 212,
   "metadata": {},
   "outputs": [
    {
     "name": "stdout",
     "output_type": "stream",
     "text": [
      "gain margin:  inf\n",
      "phase margin (in degrees):  111.50982530598753\n",
      "Frequency for gain margin (at phase crossover, phase = -180 degrees):  nan\n",
      "Frequency for phase margin (at gain crossover, gain = 1):  2.132052704679188\n"
     ]
    },
    {
     "name": "stderr",
     "output_type": "stream",
     "text": [
      "C:\\Users\\12646\\anaconda3\\lib\\site-packages\\control\\margins.py:322: RuntimeWarning: invalid value encountered in less_equal\n",
      "  w_180 = w_180[w180_resp <= 0.]\n",
      "C:\\Users\\12646\\anaconda3\\lib\\site-packages\\control\\margins.py:323: RuntimeWarning: invalid value encountered in less_equal\n",
      "  w180_resp = w180_resp[w180_resp <= 0.]\n"
     ]
    },
    {
     "data": {
      "image/png": "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\n",
      "text/plain": [
       "<Figure size 432x288 with 1 Axes>"
      ]
     },
     "metadata": {
      "needs_background": "light"
     },
     "output_type": "display_data"
    },
    {
     "data": {
      "image/png": "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\n",
      "text/plain": [
       "<Figure size 432x288 with 1 Axes>"
      ]
     },
     "metadata": {
      "needs_background": "light"
     },
     "output_type": "display_data"
    },
    {
     "data": {
      "image/png": "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\n",
      "text/plain": [
       "<Figure size 432x288 with 1 Axes>"
      ]
     },
     "metadata": {
      "needs_background": "light"
     },
     "output_type": "display_data"
    },
    {
     "data": {
      "image/png": "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\n",
      "text/plain": [
       "<Figure size 432x288 with 1 Axes>"
      ]
     },
     "metadata": {
      "needs_background": "light"
     },
     "output_type": "display_data"
    },
    {
     "data": {
      "image/png": "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\n",
      "text/plain": [
       "<Figure size 432x288 with 1 Axes>"
      ]
     },
     "metadata": {
      "needs_background": "light"
     },
     "output_type": "display_data"
    },
    {
     "data": {
      "image/png": "iVBORw0KGgoAAAANSUhEUgAABDAAAAHwCAYAAABQRJ8FAAAAOXRFWHRTb2Z0d2FyZQBNYXRwbG90bGliIHZlcnNpb24zLjMuMiwgaHR0cHM6Ly9tYXRwbG90bGliLm9yZy8vihELAAAACXBIWXMAAAsTAAALEwEAmpwYAACdjUlEQVR4nOzdd3xV9f3H8df33psNhB1W2HuPsEXjtrYVtQ4UFRwMxdra2lprW+vP0tpqbetABUTAwXCida84kL2H7Bn2huzk3u/vj1xoxEDuvbnJuTd5Px+P+0jud5zzIR8y7ud+z/cYay0iIiIiIiIiIpHM5XQAIiIiIiIiIiJlUQFDRERERERERCKeChgiIiIiIiIiEvFUwBARERERERGRiKcChoiIiIiIiIhEPI/TAVS2+vXr25YtWzp2/uzsbJKSkhw7VjBzyhoban9p7YG2Vbbqkq9g+5Sv8s+p7vlyOlfBzAtkXCj5Ku/PyMoUzPmXLFly0FrboIJDclR1/1simHn6/lG+gm1XviIzX5GYq3DHEMl/+52tv6rm64x/T1hrq9WjT58+1klffPGFo8cKZk5ZY0PtL6090LbKVl3yFWyf8lX+OdU9X07nKph5gYwLJV/l/RlZmYI5P7DYRsDv+4p8VPe/JYKZp+8f5SvYduUrMvMVibkKdwyR/Lff2fqrar7O9PeELiERERERERERkYinAoaIiIiIiIiIRDwVMEREREREREQk4qmAISIiIiIiIiIRTwUMEREREREREYl4KmCIiIiIiIiISMRTAUNEREREREREIp7H6QBERKqKQp/lwIl8jucVcjy3kBN5RWTlF1Ho9VHotRR5fac+X7+1kDV2E0Vei9daDGAMGAwuA1u3FbDGbgLAZQxuF3hcLmI8LrbsLOTgkkxi3IYYtwuPyxDjcRHndrHpiJf6u44RH+MizuMmLsZFdqElr9BLnMeFMcbZL5KI/EBugZdnv9wc8Pjt2wpYWrghLOcO9ViBzgtk3PZtBSw7w5htZ+gLpv1MYytSyR+127YVsLwo+PMbfvjzetu2AlZ6N5YYU/o5T/9Zv3VLAWvZdOqYJ7tPjnIZgzGweVshm7/ZWuJ3ErhcBmOKfze5jGFDZiH7F+/EVaLNGHC7DOv2FlG4dh8el8HtMqc+bjzipfbOo8R5XMR5XMR6in9H5RRa8ou8xLr1+0lEAqMChohIGbw+y55juew4nMPOwznsPFz8eeaRHI76CxXHcwvJL/LBx58GfuD168/ev/Es/WtWnLlvwTc/bPvsQwASYtwkxLox3kLqLP2y+Lm/7eTHxFg3SXEeEmLcJMW5SYj1kORvT4z1kBRX/LHk84QYt/74FAlRfpGXJz/bWPbAkjYHOb4ijhXovEDGnW3MmfqCaQ/n1ysUm8J4/k0hFmPO9julpHVryx6zeuWZ+5YvLr19wdzS2/2/n+I8LuJj3HhsEQ2Wf0Wt+BhqJXioGR9DzXiP/xFD3cRYGteOp3FyAk1qx5MYq5czItVJ1H/HG2MuA/4DuIHJ1tpHHQ5JRKLY/uN5LNh6mLfX5vPC5gXsPJzDrqO5FHrtqTFul6Fp7QSa1UmgU+2EU39kHdy9k56d21MrIYZa/j+4asR7iHG7iHG58PhXTMS4DfO+ncv5551LjNuF22Ww1mItWMBaS8aXXzLk3HOL2yx47ckVHJavvplL334DKPQVr+go8loKvD4KinwsWrKMDp27klfkI7/QS36RjzXrNtCsRSvyC73k+h9bd+wmuV4NcguKnx/NKWBPoZecAi+5BV6yC4rIK/QF/HUzBhJj3CTG/a+wkegvehQXQjzFxZGY4ra9mQVsj91GQoyb+JPFkxg3CbHFf8CeLKbE+1eRxHncuF0qkEjVVDsxlm2P/jjg8RkZGaSnp4fl3KEeK9B5gYw725gz9QXTHs6vVyCstd97Hsr5TztEcRvw5ZcZnHde+g/OU3J4ybnW3/Pll19x7rnnfq//ZN/J3z0+a/n66284Z/A5WOz32ot/F1l8FuZ++y39BwzA2uI+ny0u9PusZf6ChfTqnYbXWry+4t9PXp9l6fLldO7ajYIiH/lFPvILfeR7faw9+fupqPh3WF6hl43bMkmsncjx3EJ2H83jRP6JU28U+Er5utROjKFxcgJN/UWNxrXjadOgBj1Ta5NSKz6or7uIRL6oLmAYY9zAM8DFQCawyBjzjrU2gNKxiFR31loyj+SyYOthFm49xMKth9l2KAeAODd0bFxI16bJXN6tMc3rJtK8biKpdRNpnByPx/3DLYQyMvaRPrBlQOdO8BjiY9ynnhv/Elz/MzwuQ5zHXercegkumtdLLLUvb4eH9C6Nvh9X3lbS09ueFush0tP7nDVGn8+SW1hczMgt8JKd7yW3sIisfC+5BUVk53vJKSgip8BLdoGXnPwisgu8ZOcXt+UWFnEir4j9x/PJKSx5DG/xCTasOev5TxfjLv6alLw8Js7jJi8nl2fWfUusx0Ws20WMu3h5csnnnhKX23jcLmJchh3bC9jk3nKq7dSSZ7fB7Sp+7jKG7/YXYdfvx22K+43h1Ocu/5htx7ys2X3Mv6S6eFn1ySXX+7J97DiUU7wcu8Ry6yN5PvYfz4MSlw4ZY8gqsBzNKShe6u2fk1tkycov+t6lRqeWgJ9aCm6+tyy85IqYk5/9b46KQSIV5fTvr+Kf78F9z51puMv/s8c/KuDjxbq//zvnTJJiDMmJMWcdUy/BRbM6pf8O2l3LTbdmyT9oL8j0kN4x5Qftpf9+OkB6etoPxlprySnwcji7gN1Hc9l9LJfdR/PY4/+YeSSXhVsPczyv6NScRrXi6d4smR6ptenRrDbdmiWTnHD2f5+IRLaoLmAA/YBN1totAMaYmcBQQAUMESlVboGXD1bv4csNB1i49TB7juUBkJwQQ9+WdRnevwX9WtXl4MZlXHjBOQ5H6yyXy5AU5yEpLry/Knw+yyefZ5A2YBC5hV7yCr3kFvhOrQ7JLfC3+ftOvluXV+T93sf8Ii95hT72FWbjcbnIL/RxIq+IgiLfqRUphf6PRV5Lof/dwKKSb+Ft+C6woJcuKnvMvFIu3Tnp6y9Kb8/4rPT2zz/5YdunH5UdQ5Aev7YH1/RpFvbjioiEmzH/+52UWrf0AgpAVn4R6/eeYMXOo6zMPMqKzGN8vHbfqf7WDZLo0aw26R0acHHnFF2CIhJlov07timws8TzTKD/6YOMMaOB0QApKSlkZGRUSnClycrKCtv5QzlWMHPKGhtqf2ntgbZVtuqSr2D7oi1f1lq2HffxVWYR8/cUkVsEyXGGDnVcXNgklg513TStYXCZLPBlcWTzDnJzspWvClSYl82qxfNK7Yv3P2qXbPT4H6WsBs6qV0SNGnmlHMlFaTfbstbitXD8RDbxiUkU2eKiig/w+iheDm1PfrRkZecSl5DgXy5d/Di5rPrk85zcPOLi40tcBgQ+/8fcvDzi4uJOzTvZn5efT1xs3PfaLJCfn0+svx1/e35+PrFxccVLvksc5+Qgy5mXkJ9qK6Uve9d6Mk5sKuVrd9rXOAK+v0VEAlEjzkOfFnXo06LOqbZjOYWs3HWUFTuLCxpfbzzAW8t2kRDj5pIuKQzt2YQh7RoQU8rqShGJLNFewCht7dwP/myz1k4EJgKkpaXZyrwO8nROX7cazJyyxobaH+j1qZV9zWppqku+gu2LlnwdzSng7WW7mLloJ+v25hAf4+Ly7k25Pi2Vfq3qnnVJr/JVsZz+3gpmXiDjQslXeX9GVianzy8iUh7JiTEMadeAIe0aAMVF60XbDjNnxW7eX7WHOct3UycxpviSUevlXJ/FpX2XRCJStBcwMoHUEs+bAbsdikVEIoDPZ5m35RCzFu3kwzV7KSjy0b1ZMn+5sitX9GxCrXhd+yoiIlKduVyG/q3r0b91Pf780y58vfEAc5bv5s2lu8gt9DJt/ef8tGcTRg5qSePkBKfDFZESor2AsQhoZ4xpBewChgE3OhuSiDjBWsvKA0U8+uTXrNt7guSEGG7s15zr0lLp3KSW0+GJiMOMMfHAV0AcxX//vG6tfcgYUxeYBbQEtgHXWWuPOBWniFSuWI+LCzulcGGnFLLzi3jyjQw2FtTiha+38uLcbdwyoAV3prehXo04p0MVEaK8gGGtLTLG3A18RPFtVKdYa4Pb1l5Eot6qzGP87YPv+HZzPs3ruvnntT34cffGAe24LiLVRj5wgbU2yxgTA3xjjPkAuBr4zFr7qDHmd8DvgPudDFREnJEU52FgEw8PpPdl5+Ec/vPZRqbM3cqMhTu4fUhrRg1pRU2t5BRxVFQXMACste8D7zsdh4hUvu2Hsnn84w28u2I3dZNiGd4ploeGn0esR5twicj3WWstkOV/GuN/WIrvXpbub58GZKAChki1l1o3kcev7cHY81rzxCcbePKzjUyft4270ttwy8CWepNExCFRX8AQkernUFY+T32+iVcWbMfjcvHzC9oy+tzWLJk/V8ULETkjY4wbWAK0BZ6x1i4wxqRYa/cAWGv3GGManmGu7mgWwrxAxoVy16Xy3umsMilf0Z+v65pCvxrxvLGxkL++v44Jn63nijYxnNvMg+csm31WpXxFYq7CHUMk3zHwbP3VLV8qYIhI1Mgr9DLpqy08/9UWcgu9XJeWyr0XtaNhrVLurSkichprrRfoaYypDbxljOkaxFzd0SyEebqLj/IVbHsk52sksGDLIR77aD3T1x7hy30e/vGzbvRvXS/oY4UaQ7DjwpWvSMxVuGMI5VjBzClrbKj91S1fKmCISFRYsv0w9722kq0Hs7mkcwq/vawjbRvWcDosEYlC1tqjxpgM4DJgnzGmsX/1RWNgv7PRiUgk69+6Hq+NHcgX6/fz8LtrGTZpPnec04pfX9JBl5WIVAKttRaRiJZX6GX8e2u55rl5FBT5eOWO/ky8JU3FCxEJijGmgX/lBcaYBOAiYB3wDjDCP2wEMMeRAEUkahhjuKBjCu/fM4Th/Zsz6eutXPH0N6zedczp0ESqPK3AEJGItWT7EX7z+gq2HMhmeP/mPHB5J2rE6ceWiISkMTDNvw+GC5htrf2vMWYeMNsYczuwA7jWySBFJHokxXn4y5XduKhTCr99fSVXPjOXX1zYjjvT2+Bx631ikYqgVwIiEnHyCr088ckGJn+9hcbJCbxyR38Gt63vdFgiEsWstSuBXqW0HwIurPyIRKSqSO/QkI/vPZc/zlnDPz/ZwGfr9vPEdT2cDkukSlIBQ0QiytIdR/jNayvYfCCbG/s35/dadSEiIiIRrnZiLE/d0IuLO6fwx7dXc/mTX3NNWw/n+iyus9ypRESCo7VNIhIRCop8PPrBOq559ltyC7y8dHs//npVNxUvREREJGpc0aMJH997Lv1b1ePl7woYOXURR7ILnA5LpMpQAUNEHLfzcA7XPvctz325mev7pvLRvecypF0Dp8MSERERCVpKrXim3tqXWzrHMn/zIYY+M5f1e084HZZIlaAChog46qM1e/nxk1+z5WA2z93Uh79d3Z2a8TFOhyUiIiISMmMMFzSPYeaYAeQWerlqwlw+XL3X6bBEop4KGCLiiIIiH4/8dy1jXlpCy/pJvH/PEC7r2sjpsERERETCpnfzOrx79zm0S6nJ2JeX8K9PNuDzWafDEolaKmCISKXLPJLDdc/P44VvtjJyUEteGzuQ1LqJToclIiIiEnaNkuOZNXoAP+vdjP98tpGxLy8hK7/I6bBEopIKGCJSqT5du48fP/kNm/dnMWF4b/58RRfiPG6nwxIRERGpMPExbh6/tjt//ElnPlu3n6snzGX7oWynwxKJOipgiEilKPT6+Ov733HH9MU0q5PAf+85h8u7NXY6LBEREZFKYYzh9nNaMe3Wfuw7ns8VT8/l640HnA5LJKqogCEiFW7f8TyGTZzPxK+2cNOA5rxx5yBa1EtyOiwRERGRSndOu/q8c/dgGtWKZ8SUhbw4d6vTIYlEDY/TAYhI1bZk+xHu9F/r+eQNvbiiRxOnQxIRERFxVIt6Sbx51yDunbWch99dy+6juTzwo064XMbp0EQimlZgiEiFmbFwB8MmziM+xs1bdw1W8UJERETELynOw7M39eGWgS2Y9PVWfjFrOflFXqfDEoloWoEhImFXUOTjz++u4dUFOxjSrj5P3dCL2omxToclIiIiElHcLsPDV3ShcXICf/9wHQdP5HNzK91mVeRMVMAQkbDafyKPu15eyuLtRxh7Xht+c2kH3FoOKSIiIlIqYwx3prchpVYcv319JZkHDL375dEoOd7p0EQiji4hEZGwWbbjCD996hvW7D7OUzf04nc/6qjihYiIiEgAru7djBdv7cuBHB9XT5jLxn0nnA5JJOKogCEiYfFVZiHXPz+fGLeLN+4cxE+134WIiIhIUIa0a8AD/eMp9Fl+9uy3LNp22OmQRCKKChgiUi6FXh8PzVnNlNUF9GtVl3fvPofOTWo5HZaIiIhIVGpRy82bdw6ifs04hk9ewIer9zgdkkjEUAFDREJ2NKeAkS8uZNq87VzW0sPUW/tSJ0mbdYqIiIiUR2rdRN4YO4iuTWpx5ytLeWn+dqdDEokIKmCISEg27c/iymfmsmjrER6/tgfDOsbhcetHiohEJmNMqjHmC2PMd8aYNcaYX/jb6xpjPjHGbPR/rON0rCIiAHWSYnnljgFc2LEhf3x7Nc98sQlrdYcSqd70akNEgrbyQBFXTZhLVn4RM0b355o+zZwOSUSkLEXAr621nYABwDhjTGfgd8Bn1tp2wGf+5yIiESEh1s2zN/Xhyp5NeOyj9Tz64ToVMaRa021URSRg1lqmzN3Gv5bk07FxLSaPSKNp7QSnwxIRKZO1dg+wx//5CWPMd0BTYCiQ7h82DcgA7ncgRBGRUsW4XTxxXU9qxsfw/JdbOJ5bxF+u7Op0WCKOUAFDRAJSUOTjT3NWM3PRTvqkuJk+diBJcfoRIiLRxxjTEugFLABS/MUNrLV7jDENzzBnNDAaICUlhYyMjMoJthRZWVlhO3+oxwp0XiDjzjbmTH3BtIfz6xUK5Uv5Cte8C5ItR1rHMGPhDrbs2MWNrYsqLV+RmKtwxxDKsYKZU9bYUPurW7706kNEynQoK587X17Kwm2HueeCtvSM2a3ihYhEJWNMDeAN4JfW2uPGmIDmWWsnAhMB0tLSbHp6eoXFWJaMjAzCdf5QjxXovEDGnW3MmfqCaQ/n1ysUypfyFc55558PXb/czKMfrCPX62HWz4eQEOsO6VjlzYvTuQp3DKEcK5g5ZY0Ntb+65Ut7YIjIWe084eOKp+eyIvMoT97Qi19d0gFXgH/wi4hEEmNMDMXFi1estW/6m/cZYxr7+xsD+52KT0QkEGPPa8Nfr+rGqgNeRry4kBN5hU6HJFJpVMAQkTP6fN0+xs/Ppcjn47WxA7miRxOnQxIRCYkpXmrxAvCdtfaJEl3vACP8n48A5lR2bCIiwbqxf3PG9ohj6fYj3DhpAYezC5wOSaRSqIAhIj9grWXy11u4Y9piUpJczBl3Dt2b1XY6LBGR8hgM3AxcYIxZ7n9cDjwKXGyM2Qhc7H8uIhLx+jf2MOmWNDbsO8G1z33L3mN5TockUuF0EbuIfE+h18ef5qxhxsIdXNalEVc1Pk6j5HinwxIRKRdr7TfAma5/u7AyYxERCZfzOzZk+m39uH3aYq57fh6vjupPszqJToclUmG0AkNETjmWU8iIKQuZsXAH485vw4ThvYnzaL8LERERkUjVv3U9Xr6jP0dzCrjuuXlsO5jtdEgiFUYFDBEBYOvBbK6aMJfF247wxHU9+M2lHXG5VLwQERERiXQ9U2vz6qgB5BZ6ue75eWzaf8LpkEQqhAoYIsJ3h7xc+cxcjuYW8sqo/lzdu5nTIYmIiIhIELo2TWbWmIH4LFz//Hy+23Pc6ZBEwk4FDJFqbubCHTy+OI+GNeN4+67B9G1Z1+mQRERERCQE7VNqMnvMAGI9Lm6YNJ+tx7xOhyQSVipgiFRTXp9l/Htr+d2bq+hcz80bdw2ieT1t+iQiIiISzVo3qMHsMQOpEefhH4vyWLL9sNMhiYRNxBcwjDGPGWPWGWNWGmPeMsbULtH3gDFmkzFmvTHmUgfDFIkq2flFjHlpCZO+3sqIgS34Ze84asXHOB2WiIiIiIRBat1EZo8ZSK1Yw80vLGTe5kNOhyQSFhFfwAA+Abpaa7sDG4AHAIwxnYFhQBfgMmCCMcbtWJQiUWLPsVyufW4en6/bx8NXdOHhoV1xa7NOERERkSqlSe0EHugXT9PaCYx8cSFfbTjgdEgi5RbxBQxr7cfW2iL/0/nAyd0FhwIzrbX51tqtwCagnxMxikSLVZnHuPKZuew4nMMLI/syYlBLp0MSERERkQpSO97FzNEDaN2gBndMW8xn3+1zOiSRcvE4HUCQbgNm+T9vSnFB46RMf9sPGGNGA6MBUlJSyMjIqMAQzy4rKyts5w/lWMHMKWtsqP2ltQfaVtmqUr7mbsti2iffUDPGcH9aPGbPWjL2rC1zrvJVMXPK8/1VFfLldK6CmRfIuFDyVd6fkZXJ6fOLiEjo6tWIY8ao/twyZSFjX17CMzf25pIujZwOSyQkEVHAMMZ8CpT2XfSgtXaOf8yDQBHwyslppYy3pR3fWjsRmAiQlpZm09PTyxtyyDIyMgjX+UM5VjBzyhoban9p7YG2VbaqkC9rLc9/tYXJ69bRI7U2E2/pQ8Oa8QGfR/mqmDnl+f6qCvlyOlfBzAtkXCj5Ku/PyMrk9PlFRKR8aifG8tLt/RkxZSF3vbKUp2/sRXzZ00QiTkQUMKy1F52t3xgzAvgJcKG19mSRIhNILTGsGbC7YiIUiU4FRT7++PZqZi3eSb9GbqaPHkB8jLaKEREREalukhNieOn2fox8cRHjXl3GmG6xpDsdlEiQIn4PDGPMZcD9wBXW2pwSXe8Aw4wxccaYVkA7YKETMYpEomM5hYyYspBZi3fy8wvaMrZHnIoXIiIiItVYzfgYpt3Wjz7N6/DsinzmLN/ldEgiQYn4AgbwNFAT+MQYs9wY8xyAtXYNMBtYC3wIjLPWep0LUyRybDuYzVUT5rJ4+2H+eW0Pfn1JB1xGdxoRERERqe5qxHmYeltfOtR1ce+s5by5NNPpkEQCFhGXkJyNtbbtWfrGA+MrMRyRiLdw62HGvLQYC7x8e3/6t67ndEgiIiIiEkESYz3c2yee6VsT+PVrKyjyWa5LSy17oojDomEFhogE6K1lmdw0eQF1EmN5+67BKl6IiIiISKni3IYXRvTlnLb1+e3rK5mxcIfTIYmUKeJXYIhI2ay1vLmxgHc2r2BA67o8d1MfaifGOh2WiIiIiESw+Bg3k25J486Xl/DAm6so8lm0DkMimVZgiES5vEIvv5i5nHc2F3Jtn2ZMv62/ihciIiIiEpD4GDfP3dyHizql8Me3V/Pp9kKnQxI5IxUwRKLYoax8bpw0n3dW7Oaa9jH845ruxHr0bS0icjpjzBRjzH5jzOoSbXWNMZ8YYzb6P9ZxMkYREafEedxMGN6bizun8PJ3BUz7dpvTIYmUSq90RKLUxn0nuHLCXNbsPs6E4b35SetYjO40IiJyJlOBy05r+x3wmbW2HfCZ/7mISLUU63HxzI296d3QzUPvrFERQyKSChgiUeibjQe5+tlvyS3wMWvMQC7v1tjpkEREIpq19ivg8GnNQ4Fp/s+nAVdWZkwiIpEm1uPirp5xXNolhYfeWcPUuVudDknke7SJp0iUmbFwB394ezVtG9TghZFpNKuT6HRIIiLRKsVauwfAWrvHGNPwTAONMaOB0QApKSlkZGRUToSlyMrKCtv5Qz1WoPMCGXe2MWfqC6Y9nF+vUChfyldFzauofOXlZHNtUzh40M2f313Lxo2bGFg/P+JyFe4YQjlWMHPKGhtqf6DfR1UlXypgiEQJn8/y9w/X8fxXWzivfQOevrEXNeNjnA5LRKRasNZOBCYCpKWl2fT0dMdiycjIIFznD/VYgc4LZNzZxpypL5j2cH69QqF8KV8VNa+i83XeeT5+/uoyXlmzF9sxjr/+JD2g+ZXJ6XwFM6essaH2B/p9VFXypUtIRKJAboGXO19ZwvNfbeGmAc15YUSaihciIuW3zxjTGMD/cb/D8YiIRIwYt4unbuzFj7o24tV1BbzwjS4nEeepgCES4fYfz+P6ifP4eO0+/viTzjwytCset751RUTC4B1ghP/zEcAcB2MREYk4MW4XT97Qi7QUN4/8dy2Tv97idEhSzekSEpEItvOEj98/M5ejuYVMujmNizqnOB2SiEhUMsbMANKB+saYTOAh4FFgtjHmdmAHcK1zEYqIRKYYt4uxPeJ4a08yf3nvOwDuGNLa4aikulIBQyRCfbF+P+Pn55KcFMfsMQPp2jTZ6ZBERKKWtfaGM3RdWKmBiIhEIY/L8O9hPQFOFTHaOhiPVF8qYIhEoJfmbeOhd9aQWtPFrHHn0Cg53umQRERERKQai3G7+Pewnlgsf3nvO27sGEu600FJtaMChkgE8fosf3lvLS/O3cZFnRpyTdMsFS9EREREJCLEuF38Z1gvrF3Gq6v30m7uVm4d3MrpsKQa0U6AIhEiO7+I0dMX8+Lcbdw2uBXP35xGvMc4HZaIiIiIyCknN/bsk+Lm4XfXMnWu7k4ilUcrMEQiwJ5judw+dTHr9h7nkaFduHlgS6dDEhEREREpVYzbxZ094nhtV03+/O5ajDGMGNTS6bCkGtAKDBGHrd51jCufmcuOwzlMGdlXxQsRERERiXgel+GpG3pzSecUHnpnDdPnbXM6JKkGVMAQcdAna/dx7XPzcBvD63cOJL1DQ6dDEhEREREJSKzHxdM39ubizin8ac4aXlIRQyqYChgiDrDWMvnrLYx+aTHtUmrw9rjBdGxUy+mwRERERESCEutx8cyNvbmoUwp/nLOGl+dvdzokqcJUwBCpZEVeH3+cs5q/vPcdl3ZuxKzRA2lYS3caEREREZHoFOtxMWF4by7q1JA/vL2aVxaoiCEVQwUMkUp0Iq+Q26ct5uX5OxhzbmsmDO9NQqzb6bBERERERMol1uPimeG9uaBjQx58azUzFu5wOiSpglTAEKkkh3J9XPvcPL7ZdJC/XtWNBy7vhMul26SKiIiISNUQ53Hz7E29Se/QgAfeXMXsRTudDkmqGBUwRCrBip1HeXheHruO5DLt1n7c2L+50yGJiIiIiIRdnMfNczf14dz2Dbj/zZW8tlhFDAkfFTBEKtiHq/dw/cR5xLrhzbsGcU67+k6HJCISsYwxScYYXVsnIhLF4mPcTLy5D+e0rc9v31jJG0synQ5JqggVMEQqiLWW57/czJ2vLKVT41r8cUAC7VJqOh2WiEhEMca4jDE3GmPeM8bsB9YBe4wxa4wxjxlj2jkdo4iIBC8+xs2kW9IY1KYe972+greX7XI6JKkCVMAQqQCFXh+/f2sVf/tgHZd3a8yMUQNIjtN+FyIipfgCaAM8ADSy1qZaaxsCQ4D5wKPGmJucDFBEREITH+Nm8i19GdCqHr+avZw5y1XEkPLxhPNgxpgkIM9a6w3ncUWiybHcQsa9spRvNh1k3Plt+PXFHbRZp4jImV1krS08vdFaexh4A3jDGBNT+WGJiEg4JMS6eWFkGrdNXcS9s5bjMoaf9mjidFgSpcq1AkPLPkW+b+fhHK559lvmbznEP67pzm8u7ajihYjIWZRWvDDG1DfGmLONERGR6JEY62HKyL6ktajLL2ct572Ve5wOSaJUeS8h0bJPEb+lO45w1YS57Duex/Tb+3FdWqrTIYmIRDxjzABjTIYx5k1jTC9jzGpgNbDPGHNZJcVwmTFmvTFmkzHmd5VxThGR6iYx1sOLt/ald/Pa3DNzGR+sUhFDglfeS0i07FMEeG/lHn41ezkpteKZNaYvbRrUcDokEZFo8TTweyAZ+Bz4kbV2vjGmIzAD+LAiT+6/48kzwMVAJrDIGPOOtXZtRZ5XRKQ6Sorz8OKt/RgxZSE/n7GMp43hsq6NnA5Loki5VmBo2adUd9ZanvliE+NeXUq3psm8PW6wihciIsHxWGs/tta+Buy11s4HsNauq6Tz9wM2WWu3WGsLgJnA0Eo6t4hItVMjzsPUW/vSrVkyd7+6lE/W7nM6JIki5d0Dw/FlnyJOKSjycf8bK3nso/UM7dmEl+/oT92kWKfDEhGJNr4Sn+ee1mcr4fxNgZ0lnmf620REpILUjI9h2m396NI0mbteWcJn36mIIYEp7yUkji77FHHKsZxCxr68hHlbDnHPhe2496J2lFh4JCIigethjDkOGCDBGHOC4sKFAeIr4fyl/fD+QeHEGDMaGA2QkpJCRkZGBYd1ZllZWWE7f6jHCnReIOPONuZMfcG0h/PrFQrlS/mqqHmVma+KytXo9pbHjxnGTF/Mz3vH0aNBcC9Pnc5XMHPKGhtqf2Xmq7zCEUN5Cxgea+3HAMaY/yu57FMv5qSq2n4om1unLmLn4Rz+eW0PftanmdMhiYhELWut2+EQMoGSuy43A3afPshaOxGYCJCWlmbT09MrJbjSZGRkEK7zh3qsQOcFMu5sY87UF0x7OL9eoVC+lK+KmleZ+arIXJ0zuJDhL8znmRVZTLqlB+e1bxDwXKfzFcycssaG2l/Z+SqPcMRQ3gKG08s+RSrV4m2HGf3SEnzW8vLt/enfup7TIYmIRDVjzK/O1m+tfaKCQ1gEtDPGtAJ2AcOAGyv4nCIi4pecGMPLt/fnxkkLGDV9MS+MSGNIu8CLGFK9lPc2qj2MMcf9yz27G2NOlHjeLQzxiUSMOct3cePkBdSK9/DWXYNVvBARCY+a/kcacCfF+080BcYCnSv65NbaIuBu4CPgO2C2tXZNRZ9XRET+p3ZiLK/c0Z/W9ZO4Y9pi5m466HRIEqHKtQIjApZ9ilQ4ay1Pfb6JJz7ZQL+WdXn+5j7U0WadIiJhYa19GMAY8zHQ21p7wv/8z8BrlRTD+8D7lXEuEREpXZ2k4iLGjZMWcPu0RUwZ2ZdBbeo7HZZEmHIVMCpz2acx5j7gMaCBtfagv+0B4HbAC9xjrf0oXOcTASj0WX792greXLqLq3o15dGfdSPOo7qdiEgFaA4UlHheALR0JhQREXFCvRpxvDKqPzdMnM/tUxfz4q19GaBVz1JCeS8hqZRln8aYVOBiYEeJts4UX6faBbgMmGCM0StLCZsj2QU8viiPN5fu4t6L2vPEdT1UvBARqTgvAQuNMX82xjwELACmORyTiIhUsvo14nh11ACa1kng1hcXsXDrYadDkghSrgKGtfZh/9LP+hQv+/y1tfbXQB+Kd/EOl38Bv+X7G4MOBWZaa/OttVuBTUC/MJ5TqrGtB7O5+tlv2XzUx3+G9eQXuk2qiEiFstaOB24FjgBHgVuttX9zNCgREXFEg5pxvDqqP01qxzPyxYUs2qYihhQr711ITqqwZZ/GmCuAXdbaFae9gGwKzC/xPNPfVtoxdO/2EOZU13sVrz/s5clleRjg590syUc3kpGxsdzHjeR8BdsXSfmqqBiUr4rldK6CmRfIuFDyVd6fkZWpIs9vjDHWWgtgrV0KLD3bGBERqR4a1oxnxqgBDJs4n5FTFjL99n70aVHX6bDEYeEqYJxc9vkWxaskriKIZZ/GmE+BRqV0PQj8HriktGmltJX6x43u3R7anOp4r+K3lmXy+CcrSa2bxIsj+7J11aJqka9g+yIlX6erLt9fVSFfTucqmHmBjAslX+X9GVmZKvj8Xxhj3gDmWGtLXioaC5wDjAC+AKZWVAAiIhKZGtaKZ8bo4iLGiCmLmH57P3o3r+N0WOKg8u6BAZR/2ae19iJrbdfTH8AWoBWwwhizjeLLUpYaYxpRvOIitcRhmgG7w/HvkerHWssTn2zg3lkr6NOiDm/dOZgW9ZKcDktEpDq4jOLNuGcYY3YbY9YaY7YCG4EbgH9Za6c6GaCIiDgnpVbxSoz6NWIZ8cJClu044nRI4qDy3oWkQpd9WmtXAQ1LHGsbkGatPWiMeQd41RjzBNAEaAcsDOU8Ur3lFXq5/42VzFm+m2v6NOOvV3Uj1hOW2p6IiJTBWpsHTKB4M+4YivfVyrXWHnU0MBERiRiNkv+3EuOWFxby8h396ZFa2+mwxAHlfZX2hTHm58aY5iUbjTGxxpgLjDHTKF76GXbW2jXAbGAt8CEwzlrrrYhzSdV1OLuAmyYvYM7y3fzm0g48dk13FS9ERBxirS201u5R8UJERE7XODmBGaMGUCcplpteWMDKzKNOhyQOKO8rtUpd9mmtbWmtPVji+XhrbRtrbQdr7QfhOo9UD5sPZHHVhLms3HWMp27oxbjz2+pOIyIiIiIiEapJ7QRmjB5A7cQYbpq8gG3H9P51dVPe26jmWWsnWGsHAy2AC4Fe1toW1tpR1trl4QhSJNzmbT7E1RO+JSuviBmjBvDTHk2cDklERERERMrQtHbxSoxaCTE8tjiP1buOOR2SVKKwrZXXsk+JFq8vyeSWKQtoUDOOt8cNpk8L7WQsIiIiIhItmtVJZMaoAcS7DcMnL1ARoxrRxf5Sbfh8lsc/Ws99r62gX6u6vHHnIFLrJjodlohItWaMaR7go5bTsYqISORIrZvI7/rFUyPOw00vLGDNbhUxqoNy3YVEJFrkFXq577UV/HflHob1TeWRK7sS41b9TkQkAkwLYIwFpgLTKzYUERGJJg0SXcwc3Y9hE+czfPICXrmjP12aJDsdllQgFTCkyjuUlc+o6YtZuuMoD/yoI6PPba3NOkVEIoS19nynYxARkeiVWrf4cpJhE+cxfPICXr1jAJ2baNFeVVWut6C17FMi3ab9J7hywlzW7D7Os8N7M+a8NipeiIhEEGPMZ8aYLiWeX2GM+YMxpp+TcYmISPRoXi+RmaMHkhjjZvjk+azdfdzpkKSClHcFhpZ9SsSau+kgY19eQpzHzawxA+mZWtvpkERE5IeaWWvXABhjBgEvAzOBqcaYB621bzkanYiIRIXm9RKZMXqA/3KS+bw6agCdGut99KqmXAUMLfuUSDVr0Q4efGs1rRskMWVkX5rV0WadIiIRquTbZLcAz1pr7zfGNATeAVTAEBGRgLSol8TMU0WMBbw6qj8dG6mIUZWU9xISLfuUiOLzWf7+4Truf2MVA9vU4/U7B6l4ISIS2TYZY67xFyyuBOYAWGv3A3HhOIEx5lpjzBpjjM8Yk3Za3wPGmE3GmPXGmEvDcT4REXFOi3pJzBg1gFi3ixsnLWDdXl1OUpWU9zYMpS37bE7xss+ryhucSDDyCr3cPWMpz2Zs5sb+zZkysi+14mOcDktERM7uXmAMsAtYZq39FsAYEwPUCNM5VgNXA1+VbDTGdAaGAV2Ay4AJxhh3mM4pIiIOaVm/eCWGihhVT3kLGKUt+xwNpAP3l/PYIgE7cCKf6yfO54PVe3nw8k6M121SRUSigrV2r7X2YiDOWvujEl3nA1+E6RzfWWvXl9I1FJhprc231m4FNgFaRSoiUgW0rJ/EjBJFjO/2qIhRFZR3E89NxphrKH5H40qK393AWrvfGBOWZZ8iZdmw7wS3vriIQ9n5PHdTHy7t0sjpkEREJEDGmBHAPwGXMeZd4G5r7Qlr7cfAxxV8+qbA/BLPM/1tpcU5GhgNkJKSQkZGRgWHdmZZWVlhO3+oxwp0XiDjzjbmTH3BtIfz6xUK5Uv5qqh5lZmvSMxVoDHc28Pw6MJCrp3wNff3SyC1Zulvcoby7wlmTlljQ+2vavkqS3kLGPcCLwEzgE9OW/ZZs5zHFinT1xsPcNfLS4mPdTN7zEC6N6vtdEgiIhKcPwIXU3wJyc+Bv/o/BsUY8ylQWgX7QWvtnDNNK6XNljbQWjsRmAiQlpZm09PTgw0xbDIyMgjX+UM9VqDzAhl3tjFn6gumPZxfr1AoX8pXRc2rzHxFYq6CiaF//2xumDSfJ5YV8codA+jc5Icbe4by7wlmTlljQ+2vivk6m3KtsT9t2eflJbrOBz4vV2QiZZixcAcjX1xE0zoJvD1usIoXIiLR6bi1dpm1dr+19o+EeAmHtfYia23XUh5nKl5A8YqL1BLPmwG7Qzm/iIhErpN7YsTHuBk+eT5rd+tykmhV3ruQNDfGNAeanfzc/3wd8JcSbbp3jYSNz2f52/vf8cCbqzinbX1eGzuQprUTnA5LRERC09gYM9oYM8QY0wCozN2X3wGGGWPijDGtgHbAwko8v4iIVJKTt1hNiHFz4+T5rNl9zOmQJATlvYRk2ln6LMVLMy0wFZheznOJkFvg5ZezlvHRmn3cPKAFD/20Mx5t1ikiEs0eAroDw4FuQA1jzPvACmCltXZGeU/gvzPaU0AD4D1jzHJr7aXW2jXGmNnAWqAIGGet9Zb3fCIiEpmKixgDGTZxHsMnL+Dl2/vTtWmy02FJEMpVwLDWnh+uQETKsv9EHqOmLWblrmP88SeduW1wS4wp7fJlERGJFv69JU4xxjSjuKDRDbic4n22ynuOt4C3ztA3Hhhf3nOIiEh0aF4vkZmjB3LDpPkMn7yAV+5QESOalHcFhkilWL/3BLdNXcTh7AIm3pzGxZ1TnA5JRETCwH/p6elW+x8l+49aa3XRsoiIlFtxEWMAwyb+r4gh0UEFDIl4X244wLhXlpIU5+a1sQNVIRURqVrOdDnqybuB6HJUEREJu9S6/yti3DhpPr/qpZfG0UBZkoj28vztPPTOGjqk1OSFkWk0TtZmnSIiVYkuRxUREaecLGLcMGk+f1+US6/eR+mRWtvpsOQstPuhRCSvzzJjXT5/eHs157VvwGtjB6p4ISIiIiIiYXWyiFEjxnDT5AUs23HE6ZDkLFTAkIiTU1DE2JeX8NG2IkYOasmkW9JIitNiIRERERERCb9mdRL5Xb946taI5eYXFrJku4oYkUoFDIko+47ncf3z8/nsu33c1CmWP1/RBbdLdxoREREREZGKUy/BxczRA2hQM45bXljA4m2HnQ5JSqEChkSMtbuPc+Uzc9lyIIvJI9K4qEWM0yGJiIiIiEg10Tg5gRmjBpBSK55bpixk4VYVMSKNChgSEVYcKOLa577FWnht7CAu6KjbpIqIiIiISOVqlBzPzNEDaJQcz8gXFzJ/yyGnQ5ISVMAQx037dhv/XpJPy/pJvD1uMJ2b1HI6JBERERERqaYa1iouYjSpncCtLy5i3mYVMSKFChjiGK/P8ud31vDQO2vo0cDN7DEDaZQc73RYIiIiIiJSzTWsGc+MUQNIrZvArVMXMnfTQadDElTAEIdk5xcxevpipn67jdsGt+Ke3nG604iIiIiIiESMBjXjeHXUAFrWS+K2qYv4csMBp0Oq9lTAkEp3OM/Htc/N44v1+3lkaBf+9NPOuIzuNCIiIiIiIpGlfo3iIkabBjUYNX0xX6zb73RI1ZoKGFKpVu86xv/Ny2P7oWxeGNmXmwe2dDokERERERGRM6qbFMuro/rTPqUGY15awqdr9zkdUrWlAoZUmk/X7uO65+fhMvD6nYM4v0NDp0MSEREREREpU+3EWF65fQCdGtdk7MtL+HD1XqdDqpZUwJAKZ61lyjdbGfXSYto0qMGfBsTTqbHuNCIiIiIiItEjOTGGl+7oT7dmyYx7dSkL9xY5HVK1owKGVKgir4+H3lnD//13LZd0TmHWmAHUjtd/OxERERERiT614mOYfls/eqXW5rkV+byzYrfTIVUreiUpFSa3yHLH9MVMn7ed0ee25tnhfUiM1Z1GREREREQketWMj2Habf1oV9vFL2cu461lmU6HVG2ogCEVYvfRXP66II+vNx5k/FVd+f3lnXC5dKcRERGpfMaYx4wx64wxK40xbxljapfoe8AYs8kYs94Yc6mDYYqISBRJivPwqz7xDGhdj1/NXsFri3c6HVK1oAKGhN2qzGNc+cxcDub6eHFkX4b3b+F0SCIiUr19AnS11nYHNgAPABhjOgPDgC7AZcAEY4zbsShFRCSqxHkML4zoyzlt6/Ob11cyY+EOp0Oq8lTAkLD6eM1ernt+HjFuFw/2T+Dc9g2cDklERKo5a+3H1tqTO63NB5r5Px8KzLTW5ltrtwKbgH5OxCgiItEpIdbNpFvSOL9DAx54cxXT521zOqQqLSo2JDDG/By4GygC3rPW/tbf/gBwO+AF7rHWfuRclNWbtZYXvtnK+Pe/o3uz2ky6pQ9rl8x3OiwREZHT3QbM8n/elOKCxkmZ/rYfMMaMBkYDpKSkkJGRUYEhnl1WVlbYzh/qsQKdF8i4s405U18w7eH8eoVC+VK+KmpeZeYrEnMV7hhCOVbJOTe2sBw94uZPc9bw3fqNXNoyJqjjh9pf3fIV8QUMY8z5FL9D0t1am2+MaehvL7nsswnwqTGmvbXW61y01dPJO428smAHP+raiCeu60lCrJu1TgcmIiLVhjHmU6BRKV0PWmvn+Mc8SPGbIa+cnFbKeFva8a21E4GJAGlpaTY9Pb28IYcsIyODcJ0/1GMFOi+QcWcbc6a+YNrD+fUKhfKlfFXUvMrMVyTmKtwxhHKs0+ecd66PX8xcxozVe2nRqjVjz2sT8PFD7a9u+Yr4AgZwJ/CotTYfwFq7399+atknsNUYc3LZ5zxnwqyeTuQVMu7VZXy14QB3prfhN5d00GadIiJS6ay1F52t3xgzAvgJcKG19mSRIhNILTGsGaD74YmISEhiPS6euqEXv5q9gkc/WEdBkY97LmzndFhVSjQUMNoDQ4wx44E84D5r7SK07LPcy5zKO3bHwSz+8Pgn7Mm23No1lv7xe/nqq71lzq9uy5zKc6xw5iuUJYRn6lO+yj+nuufL6VwFM09Lqp0/f3kZYy4D7gfOs9bmlOh6B3jVGPMExas52wELHQhRRESqCI/bxb+u74nHZXjikw0Uen386uL2TodVZUREAeNsyz4pjrEOMADoC8w2xrRGyz7Dsswp1LErdh7lns+/xbrcTL+9D4Pb1g94fnVb5lSeY4UrX2X1B9unfJV/TnXPl9O5CmZeIONCyVd5f0ZWJqfPHwZPA3HAJ8YYgPnW2rHW2jXGmNnAWoovLRmnS1FFRKS83C7DY9f2IMbt4qnPN1HotfSPL/WlqgQpIgoYZ1v2aYy5E3jTv9xzoTHGB9RHyz4d8+HqPfxy1nJqemDGnYNo27Cm0yGJiIickbW27Vn6xgPjKzEcERGpBtwuw9+u7kaMx/Dcl5vZ2sJDerrFX0iXEEXDbVTfBi4AMMa0B2KBgxQv+xxmjIkzxrRCyz4rnLWW57/czJ2vLKVT41r8cUCCihciIiIiIiKlcLkMjwztyq2DW/LR9iIeemcNPp9WYpRHRKzAKMMUYIoxZjVQAIzwr8bQss9KVOj18ac5q5mxcCc/6d6Yx6/twfy5XzsdloiIiIiISMQyxvCnn3Rm7+5dTJ+3nYIiH3+9qptufBCiiC9gWGsLgJvO0Kdln5XgWG4h415ZyjebDjLu/Db8+mLdaURERERERCQQxhiuax9D21YteOrzTRR4fTx2TQ/cek0VtIgvYIizdh7O4bapi9h2KJvHrunOtWmpZU8SERERERGRU4wx/PqSDsS4Xf67k1ieuK54o08JnAoYckabjnq5b8JcCop8TL+tPwPb1HM6JBERERERkah1z4XtiPW4ePSDdRQW+Xjyhl7EelTECJS+UlKq91bu4e8L80iM9fDWuMEqXoiIiIiIiITB2PPa8KefdObDNXu58+Ul5BVqK8dAaQWGfI+1lgkZm3nso/W0re1i1l2DqFcjzumwREREREREqozbzmlFrMfFH95ezajpi7m5pe5OEggVMOSUgiIff3h7FbMXZ/LTHk34acOjKl6IiIiIiIhUgJsGtCDW7eL+N1dy8JCLc4YUkRirl+hno0tIBIBjOYWMfHEhsxdncs+F7XhyWE9i3doVV0REREREpKJc1zeVJ67rwbrDPkZMWciJvEKnQ4poKmAIOw7lcPWzc1m07TD/vLYHv7q4PcaoeCEiIiIiIlLRrurVjDt7xLF0x1FufmEhx3JVxDgTFTCquSXbD3PlhLkczCrgpdv787M+zZwOSUREREREpFrp19jDhOG9WbP7GMMnz+dIdoHTIUUkFTCqsXdW7OaGSQuoFe/hrbsGMaC17jQiIiIiIiLihEu7NGLizWls2JfFDZPmc+BEvtMhRRwVMKohay1Pf76Re2Yso2ez2rx512BaN6jhdFgiIiIiIiLV2vkdG/LiyL5sO5TNsInz2Hc8z+mQIooKGNVMkc9y32srefzjDVzVqykv3dGPukmxToclIiIiIiIiwOC29Zl2az/2HsvjuufnsetortMhRQwVMKqRozkFPLYojzeWZvLLi9rxxHU9iPO4nQ5LRERERERESujfuh4v3dGfw9kFXPfcPPbn+JwOKSKogFFNbDuYzdUTvmXzUR//vr4nv7xIdxoRERERERGJVL2b1+HVOwaQXVDE3xbkseVAltMhOU4FjGpg0bbDXDVhLkdyCvhN33iu7NXU6ZBERERERESkDN2aJTNj1ACKrOW65+ezYd8Jp0NylAoYVdyc5bsYPmkBdRJjeeuuwXSoq0tGRESkejHGPGKMWWmMWW6M+dgY06RE3wPGmE3GmPXGmEudjFNERKQ0nRrX4oF+CbgMDJs4nzW7jzkdkmNUwKiirLX859ON/GLmcno1r82bdw2iZf0kp8MSERFxwmPW2u7W2p7Af4E/ARhjOgPDgC7AZcAEY4wq/SIiEnGa1HAxe8xA4j0ubpg4nxU7jzodkiNUwKiC8ou8/Gr2Cv716Qau7t2Ul27vT+1E3WlERESqJ2vt8RJPkwDr/3woMNNam2+t3QpsAvpVdnwiIiKBaFk/iVljBpKcGMPwyQtYvO2w0yFVOo/TAUh4HckuYMxLS1i47TC/vrg9d1/QVpt1iohItWeMGQ/cAhwDzvc3NwXmlxiW6W8rbf5oYDRASkoKGRkZFRZrWbKyssJ2/lCPFei8QMadbcyZ+oJpD+fXKxTKl/JVUfMqM1+RmKtwxxDKsYKZU9bYYPrv7Q7/WOhl+KR5jOlkoRrlSwWMKmTrwWxum7qIXUdz+c+wngztqc06RUSkejDGfAo0KqXrQWvtHGvtg8CDxpgHgLuBh4DSKvy2lDastROBiQBpaWk2PT09LHGHIiMjg3CdP9RjBTovkHFnG3OmvmDaw/n1CoXypXxV1LzKzFck5ircMYRyrGDmlDU22P5zBudx0+QFPLs2i0l9O5PeoeFZj1VV8qVLSKqIBVsOcdWEuRzLLeTVO/qreCEiItWKtfYia23XUh5zThv6KvAz/+eZQGqJvmbA7sqIV0REpDwa1oxn5uiBNE5yMXr6Ej5es9fpkCqFChhVwJtLM7nphQXUTYrlrbsGkdayrtMhiYiIRAxjTLsST68A1vk/fwcYZoyJM8a0AtoBCys7PhERkVDUTYrl/n7xdGpSi7teWcp7K/c4HVKF0yUkUcxayxOfbODJzzYysHU9nrupD8mJMU6HJSIiEmkeNcZ0AHzAdmAsgLV2jTFmNrAWKALGWWu9zoUpIiISnKQYw8u39+O2qYv4+Yyl5Bf1oCq/na0CRpTKK/Ty/Mp85u/ZyLV9mjH+qm7EerSgRkRE5HTW2p+dpW88ML4SwxEREQmrmvExTLutH6OmL+bXr61gROdY0p0OqoLoFW8UOpSVz02TFzB/j5ffXNqBf1zTXcULERERERGRaiox1sMLI/qS3r4BU9cUMHXuVqdDqhB61RtlNh/I4qoJ37Jq1zHu6hnHuPN1m1QREREREZHqLj7GzXM396F3Qzd/fnctz3252emQwk6XkESRbzcfZOxLS4j1uJgxegDHt6xwOiQRERERERGJEHEeN3f1jGPOvto8+sE68gq9/OLCdmVPjBIqYESJ1xbv5PdvraJlvSSmjOxLat1EMrY4HZWIiIiIiIhEEo/L8O/rexLncfHvTzeSV+ijf7x1OqywUAEjwvl8ln9+sp5nvtjMOW3r88zw3iQn6E4jIiIiIiIiUjq3y/CPn3UnPsbFc19uZnMLD+npNuq3H9AeGBEsr9DLPTOX8cwXm7mhXyov3tpXxQsREREREREpk8tleGRoV24/pxWfbC/i92+twueL7pUYWoERoQ5m5TNq+mKW7TjKAz/qyOhzW0d9tUxEREREREQqjzGGP/y4E/t2ZzJj4U7yC33845rueNzRuZZBBYwItGn/CW6duoj9x/N5dnhvftStsdMhiYiIiIiISBQyxnBN+1g6tGnFPz/ZQH6Rj38P60lMFBYxVMCIMHM3HWTsy0uI87iZNWYgPVNrOx2SiIiIiIiIRLmfX9iO+Bg349//jvwiH88M70Wcx+10WEGJvpJLFTZr0Q5GTFlIk+QE3h43SMULERERERERCZtR57bmkaFd+PS7fdwxbTG5BV6nQwqKChgRwOezPPrBOu5/YxUD29TjtTsH0qxOotNhiYiIiIiISBVz88CW/ONn3flm00FunbqQrPwip0MKmAoYDssr9HL3jKU89+VmbuzfnCkj+1IrXncaERERERERkYpxXd9U/n19TxZtO8ItLyzgWG6h0yEFRAUMBx04kc/1E+fzweq9PHh5J8Zf2TUqN1IRERERERGR6DK0Z1OeubEXq3YdY/jk+RzJLnA6pDLp1bJDNuw7wZXPzGXD3hM8d1MfRuk2qSIiIiIiIlKJLuvamIk3p7FhXxbDJs7nwIl8p0M6q4gvYBhjehpj5htjlhtjFhtj+pXoe8AYs8kYs94Yc6mTcQbj640H+NmEbynw+pg9ZiCXdmnkdEgiIiIiIiJSDZ3fsSEvjuzLjsM5XP/8PPYcy3U6pDOK+AIG8A/gYWttT+BP/ucYYzoDw4AuwGXABGNMxN8DJmNnISNfXETTOgm8PW4w3ZolOx2SiIiIiIiIVGOD29Zn+u392H8in+uen8fOwzlOh1SqaChgWKCW//NkYLf/86HATGttvrV2K7AJ6FfK/Ijg81nGv7eWqWsKOKdtfV4bO5CmtROcDktERERERESEvi3r8sod/TmeW8R1z89j68Fsp0P6AY/TAQTgl8BHxpjHKS64DPK3NwXmlxiX6W/7AWPMaGA0QEpKChkZGRUVa6nyvZaJK/NZss/LkMaWW1pms2T+3HIfNysrK+h/SzBzyhoban9p7YG2VbZwxhDJ+Qq2T/kq/5zqni+ncxXMvEDGhZKv8v6MrExOnz9cjDH3AY8BDay1B/1tDwC3A17gHmvtRw6GKCIi4qgeqbWZMWoAN72wgOuen8crd/SnfUpNp8M6JSIKGMaYT4HSNoJ4ELgQuNda+4Yx5jrgBeAioLQdL21px7fWTgQmAqSlpdn09PRwhB2Q/cfzuGP6Ylbtz+FPP+lMq8JtnH/++WE5dkZGBsH+W4KZU9bYUPtLaw+0rbKFM4ZIzlewfcpX+edU93w5natg5gUyLpR8lfdnZGVy+vzhYIxJBS4GdpRoK3k5ahPgU2NMe2ut15koRUREnNe5SS1mjR7A8MkLGDZxPtNv60fXppGx9UFEXEJirb3IWtu1lMccYATwpn/oa/zvMpFMILXEYZrxv8tLIsK6vce58pm5bNyXxcSb07jtnFa604iIiIgz/gX8lu+/2RFVl6OKiIhUlnYpNZk9ZiAJMW5unDSfZTuOOB0SECErMMqwGzgPyAAuADb6298BXjXGPEHxuybtgIVOBFiajPX7ufvVZSTFuXlt7MCIqViJiIhUN8aYK4Bd1toVp72REDWXo5akS7Cq7yVYylfFU76i53LUcMcQyZcPn62/ovN1bw/4+0IvNzz/Lff2iadD3dDvmxGOfEVDAWMU8B9jjAfIw//Hg7V2jTFmNrAWKALGRcqSz5fmb+ehOavp2KgWL4xMo3GyNusUERGpSGVcjvp74JLSppXSFnGXo55Ol2BV30uwlK+Kp3xFz+Wo4Y4hlGMFM6essaH2V0a+zhmUx/DJ8/nXslwm39KXc9rVD+k44chXxBcwrLXfAH3O0DceGF+5EZ2Z12f56/vf8cI3W7mwY0OevKEXSXER/yUWERGJetbai0prN8Z0A1oBJ1dfNAOWGmP6EQWXo4qIiDitUXI8s8YM5KbJC7ht2iKeHd6bCzulOBJLROyBURXkFBQx5qUlvPDNVkYOasnEW9JUvBAREXGYtXaVtbahtbaltbYlxUWL3tbavRRfjjrMGBNnjGlFhF2OKiIiEinq14hj5ugBdGxUkzEvLeH9VXsciUMFjDDYdzyP656fx+fr9vHwFV348xVdcLu0WaeIiEgks9auAU5ejvohEXQ5qoiISKSpnRjLy3f0p2dqbe5+dSlvLcus9BhUwCintbuL7zSy9UA2k0ekMWJQS6dDEhERkTPwr8Q4WOL5eGttG2ttB2vtB07GJiIiEulqxccw/fZ+DGhdj1/NXsGMhTvKnhRGKmCU0zebDgDw2thBXNDRmeuARERERERERCpDYqyHKSP7kt6+AXOW78LrK3X/6wqhTRrKadSQ1lyf1pzkxBinQxERERERERGpcPExbp6/OY1Cr69St09QAaOcjDEqXoiIiIiIiEi1EutxEeup3Is6dAmJiIiIiIiIiEQ8FTBEREREREREJOKpgCEiIiIiIiIiEU8FDBERERERERGJeCpgiIiIiIiIiEjEUwFDRERERERERCKeChgiIiIiIiIiEvGMtdbpGCqVMeYAsN3BEJKBYw4eK5g5ZY0Ntb+09tLa6gMHy4ixolWXfAXbp3yVf051z5fTuQpmXiDjQslXMO3RlK8W1toGFRmM0/S3RFDz9P2jfAXbrnxFZr4iMVfgfL702io45f97wlqrRyU+gIlOHiuYOWWNDbW/tPYztC1WvionX8H2KV/KV7TnKph5gYwLJV9B/oysMvnSI7Lyoe8f5Uv5Ur4CzEvE5SoS8qXXVpWfL11CUvnedfhYwcwpa2yo/aW1h/PrEk7VJV/B9ilf5Z9T3fPldK6CmRfIuFDyFWy7kyIxpupM3z/V9/tH+ap4ylf0/C0BzudLr62CU+64qt0lJBI9jDGLrbVpTschgVG+oovyFV2UL5HQ6fsnuihf0UO5ii5VJV9agSGRbKLTAUhQlK/oonxFF+VLJHT6/okuylf0UK6iS5XIl1ZgiIiIiIiIiEjE0woMEREREREREYl4KmCIiIiIiIiISMRTAUNEREREREREIp4KGCIiIiIiIiIS8VTAEBEREREREZGIpwKGiIiIiIiIiEQ8FTBEREREREREJOKpgCEiIiIiIiIiEc/jdACVrX79+rZly5aOnT87O5ukpCTHjhXMnLLGhtpfWnugbZWtuuQr2D7lq/xzqnu+nM5VMPMCGRdKvsr7M7IyBXP+JUuWHLTWNqjgkBxV3f+WCGaevn+Ur2Dbla/IzFck5ircMUTy335n66+q+Trj3xPW2mr16NOnj3XSF1984eixgplT1thQ+0trD7StslWXfAXbp3yVf051z5fTuQpmXiDjQslXeX9GVqZgzg8sthHw+74iH9X9b4lg5un7R/kKtl35isx8RWKuwh1DJP/td7b+qpqvM/09oUtIRERERERERCTiqYAhIiIiIiIiIhFPBQwRERERERERiXgqYIiIiIiIiIhIxFMBQ0REREREREQingoYIiIiIiIiIhLxVMAQERERERERkYjncToAERGRSOLzWQp9Pgq9lsIiH0fzfGQeyaHIaynyWbw+S6HXh9dX/LzI62PtIS+uDQfw+vu91uLzWXwWVu0p4uiyXafarS1uX7ejkJ3ztxc/94/1WcvGrYWsN5uxFD+3FjZvKWCVdyM+C5biNgtgLbb4w/farS3+t1iKG/xP/fdQP9kHV/RoQo/U2pX7BRYRqQQ+n+V4XiGHsws4klPA4exCjmQXcDin+HmMy0XNeA814j3UjI+hZryHmnEeMk/42HU0l+SEGGrE6aWSSKTRd6WIiESVvEIvx/MKOZ5byPG8ItYc9JK/Zi85BUVk53u//7HAS26Bl/wiL3mFPvIKveQXFX88ciwH14LPySv0UVDkLS5YeH0U+ewPT5rxRdmBLVp45r4Vy0tvX7u69Pb1637YtnFDqUONAQMYY/wfweBvhO+3lRgP0L1ZsgoYIhKVrLUczi5g68Fsth7MZtuhbP/nOew/nseRnAJK+3EOEOM2eP2F41LN/RyAVvWT6NeyLn1b1aVfy7qk1k3AGHOGSSJSGVTAEBERR1hrySnwciirgIPZ+RzKKuBQVj6Hsgs4mJXP4ewCjuUWciz3f8WKY7mFFBT5fniwxUt+0JQQ4yYpzk18zMmHizhP8cfaCTEkeLNp3qQucTFuYt2GWI+LGHfxI9bjItbtIsZt2Lp5E106dcTjNnjcLjwug9tliHEb3K7i56tXrqBP7164/X0u87+PSxYvYkD/fj9onz/vWwYPHozLgMsUtxkXzP3mG84dMqT4uSkuOHz91Vekn3fe94sU+iNaRKqBgiIf2w5ls2l/Fpv2Z7H5QBbbDmaz5WA2J/KKTo1zuwzN6ybSsl4ivZrXpl5SLHUSY6mTFEOdxFjq+p/XTYolMdYNQE6BlxN5RWTlF/+OOZFXxIKlK2jeuj2HsgtYtuMIH67Zy6zFOwFoVCveX8yoQ79W9WjXsAYul34Wi1QmFTBERCTsfD7LoewC9h7LY/exXPYczWXP8Tz2HM1j77E8tu7L4cRnH5JXWEoxAqgR56FuUiy1E2NIToihSXICtRI81IqPoVaC/xFf/HzD2lUM7p9GUpyHpFg3iXEeEmLcuMv4ozIjI4P09J5l/lsyCreT3jf1rGMKM92ktaxbat+eGi5aN6jxg/ba8S4a1Iz7QXuCx5B02rJlj6u4eCIiUlVl5xex9WA23+4uYtFH69i0P4uN+7PYfigHb4mlEk1rJ9CqfhJX9mxKy/pJtK6fRMv6STSrk0BMkD8nk+I8/p+38afa7G4P6f2an3ru81k27D/Boq2HWbjtCIu2HubdFbsBqJcUyzVpzbipfwtS6yaW7wsgIgFRAUNEREJS6PWReSSXbf6lu9sP5bDtUDbbDmaz+2geBd7vFydi3S4aJcfTKDmeNrVddG/XgnpJsdSrEef/+L/P42PcAcdh9rrp2jQ53P88EREJs4IiHzuP5LD1QPHlHnNX5/PchnlsPZjNvuP5p8a5XVtoWS+Rdg1r8KOujWjXsCZtG9agdYMkEmMr9+WLy2Xo2KgWHRvV4uaBLbHWknkkl4VbD/PJ2n1M/norE7/awoUdG3LLwJac07a+VmWIVCAVMERE5Kyy8ovYuO8EG/adYN3eE2zyvyO262ju994VqxHnoUW9RLo0SebSro1okpxAo+R4miQn0Lh2PHUTY0/9UVe8+qGTU/8kERGpAF6fJfNIDplHctl1JJddR3PJPJLD6q25/GnhFz/4vVEzBto3sQxp14BW/tUUh7d/x7WXpRPricxVZ8YYUusmklo3kZ/1acbuo7m8umAHMxbu4NPvFtK6fhI3DWjBNWnNnA5VpEpSAUNERIDiFRWbD2Sxfu8J1u/9X8Ei80juqTEJMW7aNqxBj9TaDO3ZhBb1kmhVP5EW9ZKolxSrfRlERKogr694w8z9J/JYeaCIA4t3sv9EPgdO5HMgK58Dx/PZdTSXPcdy8X38/U2PG9SMo6YLurdIZmjPJrSqn3TqsXzht6SnD/re+IxD6yO2eFGaJrUTuO/SDvz8wrZ8sGov0+Zt4//+u5bHP15PvxRD004naJdS0+kwRaoMFTBERKohn7Vs3HeClZnHWJl5lJW7jrF293Hy/RtkelyGNg1q0Kt5HYb1TaVDo1p0SKlJszoJWhorVY4x5jLgP4AbmGytfdThkETCrqDIR3Z+EVn+x8nPT+QVcTS3kGM5Baxan8+7+1dwLLeAozmFHM0t5GhOAUdyCr+3coIlKwGoGe+hQc04GtSIo1+ruhQd38/gHh1pWieBprUTaFI7gfgYt3/VXW+H/uWVI87j5speTbmyV1NWZR5j+rxtvL0sk0v+/RXX9mnGry/pQEqt+LIPJCJnpQKGiEg1sOtoLou3HWZV5jFWZh5jxc4c8j/6CoDE2OI9JG4e0IJuzZLp2KgWreonRdU7YCKhMsa4gWeAi4FMYJEx5h1r7VpnI5No4vNZfLb4tpw+a/H6LEU+i89nOZ5v2X88D6+//WSf1+e/dbO3+HmR/zbOJz8v9PrIL/JRUOSj0GspKPLy3dZC1thNp9rzCr2nHrmFxbeLzi3RllPgJTu/iBO5hRR9+EGZ/454N9Q7dojkhBjqJMXQoVZNkhNjqJcUS8OacTSoGUfmxrVcet5A6teIIyH2+/sVZWRkfG8DzOqqW7NkHru2B+cmH2ZlYQpTv93Guyv2MOa81ow+t3Wl7+MhUpXou0dEpIrx+izr955g8fbDLNp2hLnrczj8YfE97eM8Lro0qcWQph5+1L8LPVKTaVW/Rpl37BCpwvoBm6y1WwCMMTOBoUClFTBO5BVyy5SFZY6z/jfAjx/P5d9r5oZ8vhLvo3PieC7/Ov1Y1lKW48dzeWL1N2c/j4UTJ3Kpueob/3l/eFxrISsrl6QVX38vNuuPITs7l6TlX30vLIslOzuHxKVf/mBOdk4OiYszvteWk5tL/MIvsFisLXEcWxyRtfyv72S7vxDhs/97bjnZZvH5Snxe9pcLvvgsgEEBWr8eKN4YOS7GRYL/VtEJ/ttFx8e4qZMYS0KMm4TY4ttJH963h87tWp2660ZN/8ekOA814z3UToyhdkIs337zFenp6Wc9fcbB9brjRoBqxhoevKQzNw9oyd8/XMe/P93Iqwt2cN8lHfhZn2b63SsSAhUwRESiXH6Rl2U7jrJo62E+WpbHz7/4mBP5RQCk1IqjbW0XP+7XkT4t6tChUU1i3K7id8n6aIMxEaApsLPE80yg/+mDjDGjgdEAKSkpZGRkhC2A3CJLYXZ+2QMBDMQZL0W5J8p1zpMvm+JdXnylHKusl1UJbi/kZ5V5jiS3F1fB2cfV9HjxFGVz+hY6BoiN8eLx5fygLzHOh8f8b3+ek/3JCT48njxMibYil48YTz4YMJhT/zZj+N7nAC7/iV0l277XZ3AZF8bfbkqMdfmPd/JztzG4gIKCfBLi4/xtxX0uY3C7ip+ferhMic/9t0824HEVP2JchrycbGrXSsJtKGXPIZ//UfSDr3GWp4Aarl1QSPEjq3jkCf9j98lxWVll/t8+25gz9QXTHkgMFSmc5y95rGubQs/EeGauK+C3b6zkqY9XM6xDLF3q//CuW4HGUJn5isRchTuGUI4VzJyyxobaX93ypQKGiEiU8fosy3ceZe6mg8zbfIhF2w6f2ruiWQ3DFT1T6duyLn1a1KFZnQS+/PJL0ge1dDZokchV2mv1H7ynbq2dCEwESEtLs2W9Sx2sH10U+Nji/QTCc/5QjxXovEDGnW3MmfqCaQ/n1ysUypfydVI6cIe1/HflHv7+4ToeW5xLeocG/OHHnWjbsOYZ55Un1nDlKxJzFe4YQjlWMHPKGhtqf3XLV8QXMIwxjwE/BQqAzcCt1tqj/r4HgNsBL3CPtfYjp+IUEako1lo27Mti7qaDfLv5EHM35pD7cfGS746NanJj/+YMalOffi3rsmzhXNLTuzkcsUhUyQRSSzxvxv/ekBYRCStjDD/t0YSLO6cwfd42nvp8E5f/5xvuvqAtY89ro/2nRMoQ8QUM4BPgAWttkTHm78ADwP3GmM7AMKAL0AT41BjT3lrrdTBWEZGwyCqwvLtiNxnrD/DVxgMcOFG8vLxFvUT6NfJwzZBuDGhdjwY14xyOVCTqLQLaGWNaAbso/tviRmdDEpGqLj7Gzehz23B172Y8/O5anvhkA++v2sM/runudGgiES3iCxjW2o9LPJ0PXOP/fCgw01qbD2w1xmyieCOueZUcoohIufl8llW7jvHlhgNkrN/Psh05WJaRnBDDkHb1ObddAwa1rUezOonFy+96NHE6ZJEqwf8Gyd3ARxTfRnWKtXaNw2GJSDVRv0YcT93Qiyt6NOEPb6/iymfmcmnLGPoP8v7gLi8iEgUFjNPcBszyf96U4oLGSZn+th+oyI23gqWNZqrfRjPlOVZl5SvYPuWr/HOysrJ4/5MvWHnQy4oDRaw+6OVEQfHF+C2TXVyWaunTJIHWtV24zHHIPs6mFZvZVMZ5oiVfTucqmHna1M7581c0a+37wPtOxyEi1dfFnVPo16ouj37wHTMW7uS7/3zF367uzsA29ZwOTSSiREQBwxjzKdColK4HrbVz/GMepHhb5VdOTitlfKk3sqrojbeCoY1mqt9GM+U5VmXlK9g+5Sv0ObuO5vLp2n3M/u471h/JpchnqZcUy0VdGnFe+wYMaVefejXiqny+nM5VMPMCGRdKvsr7M7IyOX1+EZHqIDkhhr9d3Z1Ue4CZm+GGSfO5sX9zfvejjtSKj3E6PJGIEBEFDGvtWffeNsaMAH4CXGjtqZuTa9MtEYl41lrW7D7OJ2v38el3+1iz+zgAjZIMtw9pxSWdU+iZWkf3ghcREREAOtdz89FPh/DEJ+t54ZutfP7dfh79WTfSOzR0OjQRx0VEAeNsjDGXAfcD51lrc0p0vQO8aox5guJNPNsBCx0IUUTke6wtvs3pf1fu4cPVe9l1NBdjoE/zOjzwo45c1DmFnWsWk57eyelQRUREJAIlxLp58Med+XH3Jvz29RWMfHERIwa24IHLOxEfo70xpPqK+AIG8DQQB3xijAGYb60da61dY4yZDayl+NKScboDiYg4xVrLtmNe/vbBd7y3cg+ZR3KJcRvObdeAX1zYjgs6NaR+jf/dMWSng7GKiIhIdOiZWpt37j6Hv3+4jhfnbuPbzYf4z7BedG5Sy+nQRBwR8QUMa23bs/SNB8ZXYjgiIt+zfu8J3l2xm/+u3M22Q3l4XFsZ3LY+v7iwHZd0aURygq5ZFRERkdDFx7h56KddSO/QkPteW8GVz8zlN5d2oI0tdfs/kSot4gsYIiKR5mBWPm8uzeT1JZls2JeFy8DANvVIb1TEL64+jzpJsU6HKCIiIlXMee0b8NEvz+V3b6xk/Pvf0bmei86982iUHO90aCKVRgUMEZEAeH2WrzceYNainXyydh9FPkvv5rV5ZGgXLuvamAY1i+8couKFiIiIVJS6SbE8f3MfZi3ayZ/mrOLSf3/F367uxuXdGjsdmkilUAFDROQsMo/k8NriTF5bvJPdx/KomxTLyEEtub5vKu1SajodnoiIiFQzxhiG9WsOBzYxY2ssd72ylGv6NOPhK7qQFKeXd1K16X+4iMhpvD7Lor1FTJmykK83HgBgSLsG/OEnnbmoUwqxHpfDEYqIiEh11yjJxet3DuLJzzbyzBebWLrjCBOG96ZjI23wKVWXChgiIn55hV5eX5LJpK+3sP1QPk2ST3DPBe24Nq0ZzeokOh2eiIiIyPfEuF38+pIODGxTj1/MXM7Qp+fyf0O7cF1aKv47OIpUKSpgiEi1dyy3kJfnb+fFuVs5mFVAj2bJ/KRnHL+67gLcLv3yFxERkcg2qE193r9nCL+ctYz731jFgi2H+ctVXZ0OSyTsVMAQkWpr77E8pszdyqsLdpCVX8R57Rsw5rzWDGxdjy+//FLFCxEREYkaDWrGMf22/jz1+Ub+89lGVu46xq3tfE6HJRJWKmCISLWz5UAWz325mbeW7cLrs/ykexPGnNeaLk2SnQ5NREREJGRul+GXF7Wnb8u6/GLmMh6eV0Bs451cm5bqdGgiYaEChohUG0eyC/j3pxt4ecEOPC7DDf2aM2pIa1Lran8LERERqToGty2+pOSW577gN6+vZMHWwzwytCsJsW6nQxMpFxUwRKTKKyjyMX3eNp78bCNZ+UXc2L85v7iwPQ1qxjkdmoiIiEiFaFgrnt/2jWd5YROe+mITKzOP8txNfWjdoIbToYmETAUMEamyrLV8tGYfj37wHdsO5XBe+wY8+ONOtE+p6XRoIiIiIhXOZQy/uqQDaf5LSoY+M5d/X9+TCzulOB2aSEhUwBCRKmn1rmM88t+1LNh6mHYNazD11r6kd2jodFgiIiIile7c9g149+fnMOalJdw+bTH3XtSebm7rdFgiQVMBQ0SqlP3H8/jHR+t5Y2kmdRJjeeTKrtzQNxWP2+V0aCIiIiKOaVYnkTfuHMTv31zFvz7dQK+GbtIGFlIrPsbp0EQCpgKGiFQJ1lrm7irknowvySv0MXpIa8Zd0Fa/lEVERET84mPc/PO6HnRvlsz//XctVz4zl4k3p9G2ofbFkOigtyRFJOrtPZbH7dMWM2lVAe1TavLhL4fwwOWdVLwQEREROY0xhpGDW/HbvvEcyynkymfm8tGavU6HJRIQFTBEJGpZa3lt8U4u/teXfLv5IDd2jGXWmIHaXVtERESkDB3runn35+fQpkESY15awj8/Xo/Pp30xJLLpEhIRiUp7juXywJuryFh/gL4t6/CPa3qwffUi3C7jdGgiIiIiUaFJ7QRmjRnIH99ezVOfb2LN7uNc20xFDIlcKmCISFQpXnWRySP/XUuhz8dDP+3MiIEtcbkM250OTkRERCTKxMe4+cc13eneLJk/v7uWDZnQtXcOqXUTnQ5N5Ad0CYmIRI29x/IY+eIifvvGSjo1qcWHvziXWwe3wqVVFyIiIiIhM8Zw88CWTLu1H4fyLFdNmMuS7UecDkvkB1TAEJGo8MW6/Vz+5Ncs3HqYP/+0MzNHDaBl/SSnwxIRERGpMs5pV58/DkggKc7DDZPmM2f5LqdDEvkeFTBEJKIVFPkY/95abp26iIY143j35+cwUqsuRCQIxphrjTFrjDE+Y0zaaX0PGGM2GWPWG2MudSpGEZFI0aSGi7fvGkzP1Nr8YuZy/vXJBqzVvhgSGbQHhohErB2Hcvj5jKWsyDzGTQOa84cfdyY+xu10WCISfVYDVwPPl2w0xnQGhgFdgCbAp8aY9tZab+WHKCISOeokxfLy7f35/Vur+M9nG+nfyM3Ac7z6O0wcpxUYIhKR/rtyNz9+8mu2HMzm2eG9+cuV3fRLU0RCYq39zlq7vpSuocBMa22+tXYrsAnoV7nRiYhEpliPi8eu6c79l3VkwV4vN0yaz4ET+U6HJdWcVmCISETJK/Ty8LtrmbFwBz1Ta/PUDb20C7aIVJSmwPwSzzP9bT9gjBkNjAZISUkhIyOjwoM7k6ysrLCdP9RjBTovkHFnG3OmvmDaw/n1CoXypXxV1LzKylcnYFRHy7SNR7nsn5/xyz7xpNZ0OZ4rcD5fwcwpa2yo/YF+H1WVfKmAISIRY+O+E9z96jLW7zvBmPNac98lHYhxa6GYiJTNGPMp0KiUrgettXPONK2UtlIv9LbWTgQmAqSlpdn09PRQwgyLjIwMwnX+UI8V6LxAxp1tzJn6gmkP59crFMqX8lVR8yo1XxkZDL24F7dPW8Q/Fhfy/C19qLFztaO5Kg7L2XwFM6essaH2B/p95PT3VrhiUAFDRCLCW8sy+f2bq0mIdfPirX05v0NDp0MSkShirb0ohGmZQGqJ582A3eGJSESkaunaNJm37hrMiCkLGTllEXd0jSHd6aCk2tFbmyLiqPwiL394exX3zlpBt6bJfPCLISpeiEhleQcYZoyJM8a0AtoBCx2OSUQkYjWpncDrYwfRM7U2z67I58W5W50OSaoZFTBExDG7juZy3fPzeXn+Dkaf25pXRvUnpVa802GJSBVjjLnKGJMJDATeM8Z8BGCtXQPMBtYCHwLjdAcSEZGzS06MYfrt/eid4ubhd9fy6AfrdJtVqTRRcwmJMeY+4DGggbX2oL/tAeB2wAvcY639yMEQRSQIX288wD0zllHotTw7vDc/6tbY6ZBEpIqy1r4FvHWGvvHA+MqNSEQkusXHuBnXM44vjjXguS83s/94Hn+/prv2LpMKFxUFDGNMKnAxsKNEm+7dLhKFfD7LhIxN/POTDbRrWINnb+pDmwY1nA5LRERERILgMob/G9qFlFpxPP7xBg5mF/Ds8N4kxUXFS0yJUtFSIvsX8Fu+vzO47t0uEmWO5RQyavpiHv94A1f0aMLb4wareCEiIiISpYwx3H1BO/7xs+7M3XSQYRPnc+BEvtNhSRUW8QUMY8wVwC5r7YrTupoCO0s8P+O920XEeat3HeMnT3/NVxsP8H9Du/Dv63uSGKsKvYiIiEi0u65vKpNu6cPG/Se45rlv2X4o2+mQpIqKiFcPZ7t3O/B74JLSppXSVuruMcaY0cBogJSUFDIyMkILNAyysrLCdv5QjhXMnLLGhtpfWnugbZWtuuQr2L5g8/XNrkKmrSmgZqzh/r5xNM/fxpdfbjtjrKFSvqLn+8vpXAUzL5BxoeSrvD8jK5PT5xcRkch3QccUZowawG1TF3Htc/N45Y7+tEup6XRYUsVERAHjTPduN8Z0A1oBK4wxUHx/9qXGmH4Ece92a+1EYCJAWlqaTU9PD1vswcrIyCBc5w/lWMHMKWtsqP2ltQfaVtmqS76C7Qu0Lb/IyyP/XcvLq3YwqE09nryhF/VrxJ39H1IOylf0fH85natg5gUyLpR8lfdnZGVy+vwiIhIdejWvw+wxAxk+eQHXPT+Pl27vT9emyU6HJVVIRF9CYq1dZa1taK1taa1tSXHRore1di+6d7tIRNtzLJfr/bdIHXNea6bf1q9CixciIiIi4rx2KTWZPWYgibEebpg0nyXbjzgdklQhEV3AOBvdu10kcn27+SA/efIbNu47wbPDe/PAjzrh0W21RERERKqFlvWTmD12IPVrxHHzCwv4dvNBp0OSKiKqXlH4V2IcLPF8vLW2jbW2g7X2AydjExGw1jLxq83c/MJCaifGMOfuc/hRt8ZOhyUiIiIilaxp7QRmjRlAap1Ebn1xEV+s2+90SFIFRFUBQ0QiV26R5e5Xl/HX99dxSecU5tx9Dm0b6hapIiIiItVVw5rxzBw9gPYpNRn90mI+WLXH6ZAkyqmAISLltvlAFo/My+WD1Xv4/eUdmTC8NzXiImKPYBERERFxUJ2kWF4Z1Z/uzWoz7tWlvLEk0+mQJIqpgCEi5fL+qj1c8dQ3nCi0vHxHf0af2wb/XYNERERERKgVH8NLt/djYJt6/Pq1Fbw8f7vTIUmUUgFDREJS5PUx/r213PXKUtql1OTPAxMY1Ka+02GJiIiISARKjPXwwoi+XNCxIX94ezUvzt3qdEgShVTAEJGgHc33cePkBUz6eiu3DGzB7DEDqZegHyciIiIicmbxMW6eu6kPl3ZJ4eF31zJ93janQ5Ioo4vURSQoi7Yd5qFv88j35fPv63tyZa+mTockIiIiIlEi1uPiqRt6M+7VpfxpzhpcxnDTgBZOhyVRQm+ZikhArLVM/noLwybOJ94Nb48brOKFiIiIiAQt1uPimRt7c6H/cpJXF+xwOiSJElqBISJlysov4v43VvLeyj1c0jmFKxufoGOjWk6HJSIiIiJRKtbjYsJNvRn70hJ+/9Yq3C64vm9zp8OSCKcVGCJyVruzfAx9+hs+WLWH3/2oI8/f3IfEGN1lRERERETKJ87j5tmb+nBe+wb87s1VvLZ4p9MhSYRTAUNEzmjO8l08PC+XY7mFvHxHf8aep1ukioiIiEj4xMe4ef7mPpzTtj6/fWMlbyzJdDokiWAqYIjID+QXefnD26v4xczltKjl4r17hugWqSIiIiJSIeJj3Ey6JY3Bbepz3+sreHvZLqdDkgilPTBE5Ht2Hs7hrleWsmrXMcac25q+8XtJqRXvdFgiIiIiUoWdLGLcPm0Rv5q9HGNgaE9tGC/fpxUYInLKJ2v38eMnv2b7oWwm3ZLGA5d3wuPSJSMiIiIiUvESYt1MHpFGv1Z1uXfWcj5cvdfpkCTCqIAhIhT5LH97/ztGTV9M83qJvHfPEC7unOJ0WCIiIiJSzSTGenhhRF96ptbmnhnL+HrjAadDkgiiAoZINbfveB7/WJTH819tYXj/5rw+dhCpdROdDktEREREqqmkOA8vjuxH6wZJjJ6+hCXbjzgdkkQIFTBEqrFvNh4svmTkuI//DOvJ+Ku6ER/jdjosEREREanmkhNjeOn2/qTUiuPWFxeydvdxp0OSCKAChkg15PVZnvh4PTdPWUCdxFj+NDBBmySJiIiISERpUDOOl+/oT1Kch1umLGDrwWynQxKHqYAhUs3sO57HjZPm8+Tnm7imdzPm3D2YpjX0o0BEqi5jzGPGmHXGmJXGmLeMMbVL9D1gjNlkjFlvjLnUwTBFRKQUzeok8tLt/bEWbpq8gF1Hc50OSRykVy0i1chXGw5w+X++ZmXmMR6/tgePXduDxFjdTVlEqrxPgK7W2u7ABuABAGNMZ2AY0AW4DJhgjNF1dCIiEaZtwxpMu60fx3MLuXnyAg5m5TsdkjhEBQyRaqDI6+ONDQWMeHEh9WrE8s7dg7mmTzOnwxIRqRTW2o+ttUX+p/OBkz8AhwIzrbX51tqtwCagnxMxiojI2XVtmsyUW/uy+1gut7ywkGO5hU6HJA7QW68iVdzeY3ncM2MZC7cVcn1aKn++ogsJsXqDUUSqrduAWf7Pm1Jc0Dgp09/2A8aY0cBogJSUFDIyMiowxLPLysoK2/lDPVag8wIZd7YxZ+oLpj2cX69QKF/KV0XNq8x8RVKuxnWP4d9Lj3PNfz5lbCevo/kKZk5ZY0Ptj/R8hTuGoAsYxpgkIM9a6y3XmUWkwmWs38+vZq8gr9DL6O5x/P6a7k6HJCJSIYwxnwKNSul60Fo7xz/mQaAIeOXktFLG29KOb62dCEwESEtLs+np6eUNOWQZGRmE6/yhHivQeYGMO9uYM/UF0x7Or1colC/lq6LmVWa+IilX6UCbjnu4+9WlvLjBw5v3nkusp/wXFoTy7wlmTlljQ+2P9HyFO4YyM22McRljbjTGvGeM2Q+sA/YYY9b4N8VqV64IRCTsCr0+Hv1gHSNfXETDmnG8c/c5DGqiBVciUnVZay+y1nYt5XGyeDEC+Akw3Fp7skiRCaSWOEwzYHflRi4iIsG6vFtjHr26O6sPefnt6yvw+UqtPUsVFEip6gugDcUbXjWy1qZaaxsCQyhedvmoMeamCoxRRIKw83AO1z43j+e+3MwN/Zrz9rjBtG1Yw+mwREQcY4y5DLgfuMJam1Oi6x1gmDEmzhjTCmgHLHQiRhERCc51fVP5WbsY3l6+m79/uM7pcKSSBPKW7EXW2h/skGKtPQy8AbxhjIkJe2QiErT3Vu7hd2+sBAPP3NibH3dv7HRIIiKR4GkgDvjEGAMw31o71lq7xhgzG1hL8aUl43SJrIhI9PhJ6xiS6jfh+a+20KBmHHcMae10SFLByixglFa8MMbUBw6dXIJZ2hgRqTy5BV6mrs4nI3MpPVNr89QNvUitm+h0WCIiQauIvbastW3P0jceGB+uc4mISOUxxvDQT7tw4EQ+f3nvOxrWiueKHk2cDksqUCB7YAwwxmQYY940xvQyxqwGVgP7/EsyRcRBG/adYOgz35CRWcTY89rw2tiBKl6ISNTQXlsiIlIebpfhX9f3pF+ruvx69nLmbjrodEhSgQLZA+Np4K/ADOBz4A5rbSPgXOBvFRibiJyFtZYZC3dwxdPfcDi7gPvS4vjdjzoS4y7/LswiIpVIe22JiEi5xMe4mXRLGq3r12DMS0tYs/uY0yFJBQnklY7HWvuxtfY1YK+1dj6AtVY7pYg45FhuIXfPWMYDb64irUVd3v/FELrW111GRCQqXWStfcRau9Ja6zvZaK09bK19w1r7M2CWg/GJiEgUSE6IYeptfakV72Hki4vYeTin7EkSdQIpYPhKfJ57Wl+l3K/GGPNzY8x6/3LSf5Rof8AYs8nfd2llxCLitCXbD3P5f77mw9V7+c2lHZh+Wz8a1ox3OiwRkZCcaa8t499t80xjRERETtc4OYFpt/WjoMjHLVMWcigr3+mQJMwCKWD0MMYcN8acALobY06UeN6tguPDGHM+MBTobq3tAjzub+8MDAO6AJcBE4wx7oqOR8QpXp/lyc82ct3z83G54LWxAxl3fltcLlP2ZBGRCKW9tkREJJzapdTkhRFp7D6ay23TFpNTUOR0SBJGZRYwrLVua20ta21Na63H//Hk88q4feqdwKPW2nx/PPv97UOBmdbafGvtVmAT0K8S4hGpdLuP5nLjpPk88ckGftytMe/dM4Tezes4HZaISDhory0REQmrtJZ1eeqGXqzKPMq4V5ZS5PWVPUmiQpkXzRtjfnW2fmvtE+ELp1TtgSHGmPFAHnCftXYR0JTizb1OyvS3/YAxZjQwGiAlJYWMjIwKDfhssrKywnb+UI4VzJyyxobaX1p7oG2VLRLy9c9ZnzJldT5FPrijWyyDGx1l6fy5QR//bP3B9ilf5Z9T3fPldK6CmRfIuFDyVd6fkZWpgs/vsdZ+DGCM+b+Se22VuIpEREQkKJd0acQjV3blwbdW8+d31/DI0K7o90r0C2TXv5r+jx2AvsA7/uc/Bb4KRxDGmE+BRqV0PUhxjHWAAf7zzzbGtAZK+99X6p4c1tqJwESAtLQ0m56eHoaoQ5ORkUG4zh/KsYKZU9bYUPtLaw+0rbI5ma/cAi93TfqUL3bm061pMk/e0ItW9ZNCPv7Z+oPtU77KP6e658vpXAUzL5BxoeSrvD8jK1MFn9/xvbZERKRqGt6/BTsO5/D8l1toXjeR0ee2cTokKacyCxjW2ocBjDEfA72ttSf8z/8MvBaOIKy1F52pzxhzJ/CmtdYCC40xPqA+xSsuUksMbQbsDkc8Ik5bt/c4P391GRv3FzH63Nbcd0kHYj26PaqIVEk9jDHHKX5jIsH/Of7n2qFYRETK5f5LO5J5OJe/vr+OprUT+XH3xk6HJOUQzCui5kBBiecFQMuwRlO6t4ELAIwx7YFY4CDFK0GGGWPijDGtgHbAwkqIR6TCWGt5ce5Wrnh6LkdyCrkvLY7fX95JxQsRqbJK2WurViXvtSUiIlWYy2X453U96NOiDvfOXs6S7YedDknKIZhXRS9RvALiz8aYh4AFwLSKCet7pgCt/buSzwRG2GJrgNnAWuBDYJy11lsJ8YhUiINZ+dw2dREPv7uWwW3q8eEvh9C1fiBXeYmIiIiIyJnEx7iZdEsaTZLjGTV9CdsOZjsdkoQo4FdH1trxxpgPgCH+pluttcsqJqzvnbcAuOlMMQHjKzoGkYr2xfr9/Oa1FRzPK+LhK7pwy8AW2mRIRKqFCNgsXEREqoG6SbG8eGs/rp4wl1unLuLNOwdRJynW6bAkSGWuwDAlXkVZa5daa//jfywrbYyIBC6v0Muf31nDrS8uol5SHO/efQ4jBrVU8UJEqpOa/kcaxbdOb+p/jAU6OxiXiIhUMa3qJzHpljR2Hc1l9EuLySvUAv5oE8glJF8YY35ujGlestEYE2uMucAYMw0YUTHhiVRdG/ad4Mpn5jL1222MHNSSOXcPpkOjmmVPFBGpQqy1D/s3DK9P8Wbhv7bW/hroQ/EG3SIiImGT1rIu/7y2B4u2HeE3r6/E59MNr6JJIJeQXAbcBszwb5Z5FEiguPjxMfAva+3yigpQpKqx1vLS/O2Mf+87asZ7eHFkX87v2NDpsEREnObUZuEiIlLN/LRHEzKP5PL3D9eRWieB317W0emQJECB3EY1D5gATDDGxFD8DkmutfZoBccmUuUczMrn/tdX8tm6/aR3aMBj1/SgQc04p8MSEYkEJzcLfwuwwFXAdGdDEhGRqmrsea3ZcTiHCRmbaV43kUZOByQBCeoWB9baQmBPBcUiUqWtPFDEff/+iuN5RTz0086M1F4XIiIYY4z/7mLjjTEfAuf4u05tFn5yjHNRiohIVWOM4ZGhXdh1NJc/vL2aX/WJI93poKRMwdxGVURCcHKjzieW5FO/RvFGnbcObqXihYhIsVN7bVlrl5zcLBxYo722RESkInncLp6+sRet6ifx9LI8thzIcjokKYMKGCIV6Ls9x7ni6W+Y+u02Lmnh4e1x2qhTROQ0lwFeivfa2m2MWWuM2QJsBG6geK+tqU4GKCIiVVet+BimjOyL28BtUxdxJLug7EniGBUwRCqAz2eZ/PUWhj49lyM5hUy/rR83doojPsbtdGgiIhHFWptnrZ1grR0MtAAupPhuJC2staO0UbiIiFS01LqJ3NM7nt1H87jzlSUUFPmcDknOoMw9ME6/fepZHLXWHi9nPCJRb9/xPO57bQVfbzzIxZ1T+PvPulM3KZaM3U5HJiIS2bTXloiIOKVdHTd/v6Yb985awR/eXsXff9Zdl3xHoEA28ZwWwBgLTEW7hUs199GavfzujZXkFfr461XduKFfqn7wiYiIiIhEgat6NWPLgWye+nwTbRvWYPS5bZwOSU4TyG1Uz6+MQESiWXZ+EY/8dy0zF+2kW9Nk/j2sJ20a1HA6LBERERERCcK9F7Vny4Fs/vbBOlrVr8HFnVOcDklKKHMPDGPMZ8aYLiWeX2GM+YMxpl/FhiYSHZbtOMLlT37NrMU7uSu9DW/cOUjFCxERERGRKORyGR6/tgfdmybzi5nLWLP7mNMhSQmBbOLZzFq7BsAYMwh4GWgOTDXGXFWRwYlEsiKvj/98upFrnptHkdcya/RAfntZR2I92htXRCRQxpjmAT5qOR2riIhUDwmxbibdkkZyQgx3TFvM/uN5TockfoHsgVFyY85bgGettfcbYxoC7wBvVUhkIhFs+6Fs7p21nKU7jnJVr6Y8PLQLteJjnA5LRCQaTaN4L62zbRikvbZERKRSNawVz+QRaVz73DzumL6YWaMHkhCrOwo6LZACxiZjzDXAV8CVwNUA1tr9xpi4CoxNJOJYa3ltSSYPv7MGl8vw5A29uKJHE6fDEhGJZkuttb+uyBMYYx4BhgI+YD8w0lq729/3AHA74AXusdZ+VJGxiIhI9OjSJJn/DOvF6JcWc9/rK3j6hl7aoN9hgax1vxcYA+yi+I+MbwGMMTGALvSXauNIdgF3vbKU376+km7Nkvnwl+eqeCEiUn6VsVn4Y9ba7tbansB/gT8BGGM6A8OALsBlwARjjN5eExGRUy7unML9l3XkvZV7eOrzTU6HU+0FcheSvcDFxhiXtdZXout84IsKi0wkgny14QD3vbaCIzkF/O5HHRk1pDVul6qvIiLRwFpb8nLYJIovSYHiVRkzrbX5wFZjzCagHzCvkkMUEZEINubc1mzYe4InPtlAu4Y1+FG3xk6HVG2VWcAwxvwRyLHW/rNku7X2Y+DjigpMJBIUeC0Pv7uGF+duo13DGkwZ2ZeuTZOdDktEpCrpYYzZCqwCVpf4uM5aWxiukxhjxlO8l9cx/rfqoykwv8SwTH9bafNHA6MBUlJSyMjICFdoQcvKygrb+UM9VqDzAhl3tjFn6gumPZxfr1AoX8pXRc2rzHxFYq7CHUNZx7qsvmVFsotfzFzK/q3xtKjlDur8ZY0Ntb+65SuQPTBuBnqe3miMuQNoYK39W7kiEIlQa3cf5+F5uezK2sbIQS353Y86Eh+jlcUiImG2Evgx0BXoBlwC/BpoZ4zZaa3tGshBjDGfAo1K6XrQWjvHWvsg8KB/z4u7gYcofeNQW0ob1tqJwESAtLQ0m56eHkhYFSIjI4NwnT/UYwU6L5BxZxtzpr5g2sP59QqF8qV8VdS8ysxXJOYq3DEEcqye/fIY+vRcnl8Dc+4eyJol8wI+f1nHD7W/uuUrkAJGrrU2p5T2l4ClgAoYUqX4fJZJX2/h8Y/Xk+iBabf147z2DZwOS0SkyvJvqLmbEis7TfEuaW2DOMZFAQ59FXiP4gJGJpBaoq+ZPw4REZEfaFgznkm3pHHNc98y5qXF3Nmx1Jq3VKBANvHMNcb84CIf//WiReEPScQ5u4/mcuPk+fztg3Vc2DGFvwxOUPFCRKRiPVNaoy22MRwnMMa0K/H0CmCd//N3gGHGmDhjTCugHbAwHOcUEZGqqWvTZP55bU+W7jjK1NUFWKsiRmUKZAXGP4E5xphrrbXbTzYaYxpSfDsykSphzvJd/OHt1fh8ln9c051r+zTjyy+/dDosEZGq7mNjTPMAxh09bTPOYDxqjOlA8d8t24GxANbaNcaY2cBait+UGWet9YZ4DhERqSZ+3L0xG/e349+fbmTS11sYfW4bp0OqNgK5C8lrxphEYIkxZj6wnOKVG9cCf67Q6EQqwbGcQv44ZzXvrNhN7+a1+df1PWlRL8npsEREqotpFO87cbZbO1lgKjA9lBNYa392lr7xwPhQjisiItXXPRe0Y+7qLfztg3W0bViDCzqmOB1StRDICgystdOMMW8CV1F8r/Rs4AZr7eKKDE6kon27+SC/nr2C/Sfy+dXF7bkrvQ0edyBXVomISDhYa88ve5SIiEhkcbkMd3SLI9ft4Z4Zy3nzrkG0T6npdFhVXpmv1Iwxzf1LO+sAGRRfqzoV2H+yz/+oVaGRioRRfpGX8e+tZfjkBSTEuHnzzkHcc2E7FS9ERERERCQgcW7DxJvTiI9xc8e0xRzJLnA6pCovkBUYpy/tPLlLScmlnuVa2ilSmdbtPc4vZy5n3d4T3DSgOb+/vBOJsQEtRhIRERERETmlSe0EJt7Sh2HPz2fcq0uZdls/YvSmaIUJZA8MLe2UKsHns0yZu5V/fLieWgkepoxM07VqIiIiIiJSLr2b1+GvV3fjvtdWMP697/jzFV2cDqnK0tvOUi3sPprLfa+t4NvNh7i4cwqPXt2NejXinA5LRERERESqgGv6NGPt7uNMmbuVzo1rcV3fVKdDqpIifm2LMaanMWa+MWa5MWaxMaZfib4HjDGbjDHrjTGXOhmnRK53Vuzmsn9/xfKdR3n06m5MvLmPihciIiIiIhJWv7+8I0Pa1efBt1exZPthp8OpkiK+gAH8A3jYWtsT+JP/OcaYzsAwiu+KchkwwRjjdipIiTzHcgr5xcxl3DNjGW0a1uD9e4YwrF9zjDnbnfpERERERESC53G7eOqGXjSpncCYl5ay51iu0yFVOdFQwLDAyTucJAO7/Z8PBWZaa/OttVuBTUC/UuZLNfTtpoNc9p+v+O/KPfzq4va8NmYgLesnOR2WiIiIiIhUYbUTY5l0Sxq5BUWMnr6EvEKv0yFVKdFQwPgl8JgxZifwOPCAv70psLPEuEx/m1RjeYVe/vLftdyo26OKiIiIiIgD2qfU5N/DerF69zF+98ZKrLVlT5KARMQmnsaYT4FGpXQ9CFwI3GutfcMYcx3wAnAR37+N60ml/s8wxowGRgOkpKSQkZERjrBDkpWVFbbzh3KsYOaUNTbU/tLaA207m50nfDy/Iu//27v3MCvLcvHj35sBBpCTJ0AOKgmiqCgwYuVhk9sSK8VTecwsSy01dVeWWXvr3pGV/dI0o1DLMstDO5W2p7QaMZU8IMhJCEETEBWV85l5fn+wqpFmYNaaNetda+b7ua65WOs5vO89c7PW9cw9z/suFq5KHDmgPacMSbzz0lRqX2ryIZoUaymPVap85dtXjHy1BPNVOfnKOlf5zGvKuELy1dz3yFLK+vySJFWaDw7tzRc/uDff+/1c9t2tO0OyDqiVKIsCRkrpqMb6IuIXwMW5p3cDN+ceLwTq39q1P/+8vGTr408AJgDU1NSk0aNHNzPiwtXW1lKs8xdyrHzmbG9sof0NtTe1rSF1dYmb/zyf702eS/fOHfnZ2cP4wD69tjuvKdpKvvLta06+WpL5qpx8ZZ2rfOY1ZVwh+Wrue2QpZX1+SZIq0QUfGMTs11by7Yde5NIR1YzOOqBWoBL21S8G/i33+Ejgr7nHE4FTI6I6IgYCg4GnM4hPGVr4zhpOv3ky33rgRUYP2ZWHLzm8aMULSZIkSSpURHDNx4axb5/ujJ+2npfeXJV1SBWvEgoYnwX+X0RMA75F7lKQlNJM4C5gFvAQcEFKyTuktBEpJe55fiHHXPc40xcu57snDeMnfjyqJEmSpDLSpWN7Jpw1kvYBn/3Fs6xYtzHrkCpaWVxCsi0ppT8DIxvpGweMK21EytqyNRu44p4Z3D/9NWr22JFrTzmIATt1yTosSZIkSfoX/XfswoXDO3HNs2u49I6p3HRWDe3aNXRLR21PJezAkP7h8b++ydHXTeL3s5Zw2Zgh3Hne+yxeSJIkSSprQ3aq4r+OHcofXnyDax+dm3U4Favsd2BIsOXjUb/94Ivc+uTLDOrVlVs+eTD79+uRdViSJEmS1CRnvncPZixawQ1/nMfQ3bpzzAG7ZR1SxbGAobI3Y9FyLr7jeV56czWfOnRPvjJmHzp1qMo6LEmSJElqsojgv4/fj7lvrOSLd09j4K47sE+f7lmHVVG8hERlqy4lbvzTPI6/8QlWrd/EbeeM4r+O3c/ihSRJkqSKVN2+ih+fOZKu1e059xfPsWzNhqxDqigWMFSW/vbWGr71l3Vc8/Acjt6/Dw9fcgSHD94167AkSZIkqVl6d+/Ejz8xkiXL13HRr59n0+a6rEOqGBYwVFZSStz1zKsc84NJLFpVxw9OPYgfnjacnl06Zh2aJEmSJBXFiN135JvH78/jf13Kdx+ek3U4FcN7YKhsLF21nst/O51HZr3O+96zMycPWMPYg/plHZYkSZIkFd3HDx7AzMXLmTBpPgyrZnTWAVUAd2CoLEx9YxNjrpvEY3Pe5Osf2ZfbP3MIO3f2v6ckSZKk1uvrHx3KIQN34mcz1jNj0fKswyl7/oaoTK1ev4nLfzud66asZ5eu1Uy86FA+c/h7aNcusg5NkiRJklpUh6p2/OiMEXTvGJz7i2dZump91iGVNQsYysyUv73DR65/nDue+RsfHtiB+y481I8RkiRJktSm7Ny1mouGV/P2mg18/vYpbPSmno2ygKGS21SX+P7v53Dy+CfZuDnx68++l48P6Uh1ez8eVZIkSVLbs2ePKr5z0jCeXvA24+6fnXU4ZcsChkrqpTdXMW7yOq7/4zxOGN6fBy85nPe+Z+esw5IktQER8aWISBGxS722yyNiXkTMiYijs4xPktS2jT2oH585bCC3Pvkydz/7atbhlCU/hUQlkVLil5NfYdwDs6mijvFnjOCYA3bLOixJUhsREQOADwJ/q9c2FDgV2A/oCzwaEXunlDZnE6Ukqa376jH7MHvJCq64dwZ79+7GgQN6Zh1SWXEHhlrc6yvW8cmfPcM37pvJIQN3ZtyhnS1eSJJK7VrgMiDVaxsL3JFSWp9SWgDMA0ZlEZwkSQDtq9pxw2kj2LVrNef/8jneXOlNPetzB4Za1IPTX+Pye6azbuNm/mfsfpz53j147LHHsg5LktSGRMRxwKKU0rSId33KVT9gcr3nC3NtDR3jXOBcgN69e1NbW9sywTbBqlWrinb+Qo/V1HlNGbetMY315dNezJ9XIcyX+WqpeaXMVznmqtgxFHKsfOZsb+zW/ecOTYybvI4zf/RHvnxwJ9atWW2+sIChFrJi3UZuemE9TyyewoH9e/D9Uw5ir127Zh2WJKmViohHgT4NdF0BfA34UEPTGmhLDbSRUpoATACoqalJo0ePLizQIqitraVY5y/0WE2d15Rx2xrTWF8+7cX8eRXCfJmvlppXynyVY66KHUMhx8pnzvbGNtTfc/dFXHzHVB5fuSsf6BHmCwsYagGT57/FF++axmvLN/GFfx/MRUcOokOVVytJklpOSumohtoj4gBgIPD33Rf9gSkRMYotOy4G1BveH1jcwqFKktQkYw/qx4xFy7np8QW0378jo7MOqAz4W6WKZv2mzVz9wGxOu2kyHaqCrx3Sif/44N4WLyRJmUkpTU8p9Uop7ZlS2pMtRYsRKaUlwETg1IiojoiBwGDg6QzDlSTpXb4yZh8OHbQzP5+1gWmvLss6nMz5m6WK4sUlKxj7wyf4yaT5nD5qdx64+HAG9azKOixJkhqVUpoJ3AXMAh4CLvATSCRJ5aR9VTt+eNoIelYH593mTT0tYKhZ6uoSN02az3E3PMHSVRv46dk1jDvhALp09OokSVL5ye3EWFrv+biU0l4ppSEppQezjE2SpIbsuENHvjC8mmVrN3DB7VPYsKku65AyYwFDBVu6to7Tb57MuAdmM3rIrjx8yeEcuU/vrMOSJEmSpFZl9+5VfPfkA3n65bf55v2zsg4nM/6ZXHlLKXHP84v4xhNrqarayDUnD+Pkkf3Z6qPpJEmSJElFctyBfZmxaDkTJs3ngH49+FjNgO1PamUsYCgv76zewBX3TueB6UvYe8d23PLZwxmwU5esw5IkSZKkVu+yo4cwc/Fyrrh3BkP6dMs6nJLzEhI1We2cNzj6ukk8Mut1vjJmH746qpPFC0mSJEkqkfZV7bjhtBHs2rWa8297jhXrU9YhlZQFDG3X2g2b+ca9Mzj7Z8/Qs0sH7r3gUD43ei/aecmIJEmSJJXUTjt05CefGMlbqzdw49R1bNzcdm7qaQFD2zT11WV85PrHuW3yK3zmsIFMvPAw9uvbI+uwJEmSJKnN2r9fD64+8QDmvFPH1Q+8mHU4JeM9MNSgTZvruG/eBib+/kl6davmV585hPcP2iXrsCRJkiRJwIkj+vPgX2by0ycWcED/7pwwvH/WIbU4Cxj6FwuWruaSO6cy7dWNHH9QX64auz89OnfIOixJkiRJUj2nDOnIinbd+er/Tmdwr27s369175b3EhL9Q0qJX05+hQ//4HFeXrqazx1YzXWnDrd4IUmSJEllqH274MYzRrDTDh0577bneHv1hqxDalFlUcCIiI9FxMyIqIuImq36Lo+IeRExJyKOrtc+MiKm5/quj/COks3xxsp1fPrWZ/j6vTOo2XNHHr7kCA7ZzQ06kiRJklTOdulazY/PHMmbq9Zz0a+nsLmu9X4ySVkUMIAZwInApPqNETEUOBXYDxgD/CgiqnLd44FzgcG5rzEli7aVeWjGaxx97SSefOktrjx2KD//1Cj69OiUdViSJEmSpCY4cEBPxh2/P0/Me4u7527MOpwWUxZ/Yk8pzQZoYBPFWOCOlNJ6YEFEzANGRcTLQPeU0lO5eb8AjgceLFXMrcHKdRu56nez+M1zC9m/X3euO+UgBvXqlnVYkiRJkqQ8faxmANMXLecXT73CxGmLOe7AvlmHVHRlUcDYhn7A5HrPF+baNuYeb93eoIg4ly27Nejduze1tbVFD7SpVq1aVbTzF3Ksv8+Z8/ZmJrywnrfXJY7dqwNj99rEwlnPsXBW049faH9D7U1tK7VyyVcxxm6rP98+89X8OW09X1nnKp95TRlXSL6a+x5ZSlmfX5IkNc3XPzKUp2a/yld+8wKDe3Vl3926Zx1SUZWsgBERjwJ9Gui6IqV0X2PTGmhL22hvUEppAjABoKamJo0ePXrbwbag2tpainX+Qo71yB//xFNrezPhmfnsvlMXJnzqIEbusWNBxy+0v6H2praVWtb5ymdOc/KVb5/5av6ctp6vrHOVz7ymjCskX819jyylrM8vSZKapmP7dlwwvJpvPVvHebc9x8QLD6Vnl45Zh1U0JStgpJSOKmDaQmBAvef9gcW59v4NtGsbXlyygv9+ah2vrpzPaaMG8PWPDGWH6nLfhCNJkiRJaqqe1e0Yf+ZwTp3wFBffMZWfnn1w1iEVTbncxLMxE4FTI6I6Igay5WadT6eUXgNWRsR7c58+chbQ2C6ONq+uLnHTpPkcd8MTLF9fx81n1XD1icMsXkiSJElSKzRyjx258rj9eGzum1z7yNyswymasvgNNiJOAG4AdgXuj4ipKaWjU0ozI+IuYBawCbggpbQ5N+1zwK1AZ7bcvNMbeDZg0bK1fPGuqUye/zYfHNqbY3uv5KihvbMOS5IkSZLUgk4ftTsvvLqcH/5pHhcNr2Z01gEVQVkUMFJK9wD3NNI3DhjXQPuzwP4tHFrFSilx79RF/Oe9M6lLie+eNIyP1fTnscceyzo0SZIkSVILiwiuGrsfLy5ZwU0vLGfsB1YxqFfXrMNqlnK/hEQFeGf1Bi781fNceuc0hvTpxoMXH8HHDx7Q0MfUSpIkSZJaqU4dqhh/5kg6VMG5tz3LynUbsw6pWSxgtDKPzX2To6+bxO9nLeGyMUO487z3sfvOXbIOS5IkSZKUgb49O3PBQZ145a01/Mdd06ira/QDPMueBYxWYu2GzfznfTP45E+fpkfnDtzz+UP5/OhBVLVz14UkSZIktWX77FTFFR/el0dmvc6Nf5qXdTgFK4t7YKh5pr26jEvvnMr8pav59KEDuWzMEDp1qMo6LEmSJElSmfjUoXvywsJlfP/RuezfvwcfGNIr65Dy5g6MCra5LnH9H/7KSeOfZO3Gzdz+mUP4z2OHWryQJEmSJL1LRHD1icPYt093Lv7187y8dHXWIeXNAkaFWrB0NeP+so7vPzKXjw7bjYcuOYJDB+2SdViSJEmSpDLVuWMVP/nESNq1C87/5XOs2bAp65DyYgGjwqSUuP0vr/DhHzzOktV13HDacK47dTg9OnfIOjRJkiRJUpkbsFMXrj91OHNfX8lX/nc6KVXOTT0tYFSQN1au49O3PsMV98ygZs8dGXdYZ449sG/WYUmSVNYi4sqIWBQRU3NfH67Xd3lEzIuIORFxdJZxSpJUKkfsvStfOnoIv5u2mFv+vCDrcJrMm3hWiIdmLOFr90xn9fpNXHnsUM56355MmvRY1mFJklQprk0pfa9+Q0QMBU4F9gP6Ao9GxN4ppc1ZBChJUil97t/24oVXl3P1gy8ytG933r9X+d+SwB0YZW7luo18+e5pnP/L5+jbsxP3f+Ewzj50IO38eFRJkpprLHBHSml9SmkBMA8YlXFMkiSVRETwvY8fyMBdduDCXz3P4mVrsw5pu9yBUcaeXvA2/3HXVBYvW8tFRw7ioiMH07G9NSdJkgpwYUScBTwLfDGl9A7QD5hcb8zCXNu/iIhzgXMBevfuTW1tbctGuw2rVq0q2vkLPVZT5zVl3LbGNNaXT3sxf16FMF/mq6XmlTJf5ZirYsdQyLHymbO9sYX2FyNf5+xdx1VPbeCMH9Vy+SGd6FjVMn8sL0a+LGCUofWbNvP9R+YyYdJ8dt+pC3ef/35G7rFj1mFJklS2IuJRoE8DXVcA44H/AVLu3/8HfBpoaIXW4J3MUkoTgAkANTU1afTo0c0PukC1tbUU6/yFHqup85oybltjGuvLp72YP69CmC/z1VLzSpmvcsxVsWMo5Fj5zNne2EL7i5WvnQcu4dzbnuPRd3biOycNI6L4RYxi5MsCRpl5cckKLrljKi8uWclpo3bn6x/Zlx2qTZMkSduSUjqqKeMi4ibg/3JPFwID6nX3BxYXOTRJksreh/brw0VHDuKGP87jwAE9OeOQPbIOqUH+Zlwm6uoSt/x5Adc8PIfundtzyydr+Pd9e2cdliRJFS8idkspvZZ7egIwI/d4IvCriPg+W27iORh4OoMQJUnK3CVH7c0LC5dz5cSZ7NOne1leBeANFcrAomVrOf3myYx7YDb/NmRXHr7kCIsXkiQVz3cjYnpEvAB8ALgUIKU0E7gLmAU8BFzgJ5BIktqqqnbB9acOZ7cenfn87c/xxsp1WYf0LyxgZCilxD3PL2TMtZOYvnA53znpACZ8YiQ7d63OOjRJklqNlNInUkoHpJSGpZSOq7cbg5TSuJTSXimlISmlB7OMU5KkrPXo0oGffGIky9du5ILbp7Bxc13WIb2LBYyMvLN6Axf+6nkuvXMaQ/p048GLj+CUg3dvkZulSJIkSZLUFPvu1p3vnDSMZ15+h3H3z846nHfxHhgZeGzum3z57mm8s2YDl40ZwnlH7EVVOwsXkiRJkqTsjT2oHy8sXM4tf17AgQN6cMLw/lmHBFjAKKm1GzZz26z1/OGhpxncqys/Pftg9u/XI+uwJEmSJEl6l68esw8zFi3nq/87ncG9upXF765eQlIi015dxkeuf5w//G0T5xw2kN9ddFhZ/AeQJEmSJGlrHara8cPTR7Bjl46c/8vnWLZmQ9YhWcBoaZs21/GDR//KieOfZO3GzVx2cCe+8dGhdOpQlXVokiRJkiQ1atdu1Yw/cwRvrFjPRb9+ns11KdN4LGC0oAVLV3Pyj5/i2kfn8tFhu/HQJUcwdGcLF5IkSZKkyjB89x25aux+PP7XpXz/kTmZxuI9MFpASolfPf03vvl/s+lQFdxw2nCOPbBv1mFJkiRJkpS300btzrRXl3Hjn17igH49GbN/n0zisIBRZG+sXMdXfvMCf5rzJocP3oVrTj6QPj06ZR2WJEmSJEkFu2rsfsxespIv3T2NQb26MqhX15LH4CUkRfTQjNc4+tpJPPnSW1x57FB+/qlRFi8kSZIkSRWvun0V488YQXX7dpx327OsXLex5DFYwCiCles28qW7p3H+L6fQf8cu3P+Fwzj70IG0axdZhyZJkiRJUlH07dmZH54+gpffWsOX7p5GSqW9qacFjGZ6esHbjLnucX47ZSFfOHIQv/38+xnUq1vWYUmSJEmSVHTv22tnLj9mHx6e+TrjH3uppOf2HhjNNPf1lbSvCu4+//2M3GPHrMORJEmSJKlFnXPYQKYtXM7k+W9z/hGpZFcflEUBIyI+BlwJ7AuMSik9m2v/IPBtoCOwAfhySumPub6RwK1AZ+AB4OJU6v0rwBmH7M5JI/rTuaMfjypJkiRJav0igmtOHkaHqnYlvXVCuVxCMgM4EZi0VftS4NiU0gHAJ4Hb6vWNB84FBue+xpQgzn8RERYvJEmSJEltSqcOVVSV+L6PZbEDI6U0G7YUA7Zqf77e05lAp4ioBnYCuqeUnsrN+wVwPPBgKeKVJEmSJEmlVS47MJriJOD5lNJ6oB+wsF7fwlybJEmSJElqhUq2AyMiHgX6NNB1RUrpvu3M3Q/4DvChvzc1MKzR+19ExLlsudyE3r17U1tb25SQW8SqVauKdv5CjpXPnO2NLbS/ofamtpVaW8lXvn3mq/lz2nq+ss5VPvOaMq6QfDX3PbKUsj6/JEkSlLCAkVI6qpB5EdEfuAc4K6X0989oWQj0rzesP7B4G+eeAEwAqKmpSaNHjy4klKKora2lWOcv5Fj5zNne2EL7G2pvaluptZV85dtnvpo/p63nK+tc5TOvKeMKyVdz3yNLKevzS5IkQZlfQhIRPYH7gctTSk/8vT2l9BqwMiLeG1tunHEWsM1dHJIkSZIkqXKVRQEjIk6IiIXA+4D7I+LhXNeFwCDgGxExNffVK9f3OeBmYB7wEt7AU5IkSZKkVqtcPoXkHrZcJrJ1+zeBbzYy51lg/xYOTZIkSZIklYFIqdF7X7ZKEfEm8EqGIfQAlmd4rHzmbG9sof0NtTfUtguwdDsxtrS2kq98+8xX8+e09Xxlnat85jVlXCH5yqe9kvK1R0pp15YMJmuuJfKa5+vHfOXbbr7KM1/lmCvIPl/+bpWf5q8nUkp+lfALmJDlsfKZs72xhfY31N5I27PmqzT5yrfPfJmvSs9VPvOaMq6QfOX5Htlq8uVXeeXD14/5Ml/mq4l5KbtclUO+/N2q9Pkqi3tgtDG/y/hY+czZ3thC+xtqL+bPpZjaSr7y7TNfzZ/T1vOVda7ymdeUcYXkK9/2LJVjTG2Zr5+2+/oxXy3PfFXOWgKyz5e/W+Wn2XG1uUtIVDki4tmUUk3WcahpzFdlMV+VxXxJhfP1U1nMV+UwV5WlteTLHRgqZxOyDkB5MV+VxXxVFvMlFc7XT2UxX5XDXFWWVpEvd2BIkiRJkqSy5w4MSZIkSZJU9ixgSJIkSZKksmcBQ5IkSZIklT0LGJIkSZIkqexZwFBFiojjI+KmiLgvIj6UdTzatoh4T0TcEhG/yToWNSwidoiIn+deV2dkHY+2zdeUVByuJyqH73vlz7VEZanU15QFDJVcRPw0It6IiBlbtY+JiDkRMS8ivrqtY6SU7k0pfRY4GzilBcNt84qUr/kppXNaNlJtLc/cnQj8Jve6Oq7kwSqvfPmaklxPVBLXEpXLtURlaQtrCQsYysKtwJj6DRFRBdwIHAMMBU6LiKERcUBE/N9WX73qTf16bp5azq0UL18qrVtpYu6A/sCruWGbSxij/ulWmp4vSa4nKsmtuJaoVLfiWqKS3EorX0u0zzoAtT0ppUkRsedWzaOAeSml+QARcQcwNqV0NfDRrY8REQF8G3gwpTSlhUNu04qRL2Ujn9wBC9my8JiKxe1M5JmvWSUOTyo7ricqh2uJyuVaorK0hbWE/7FULvrxz4otbHkD7LeN8RcBRwEnR8T5LRmYGpRXviJi54j4MTA8Ii5v6eC0TY3l7rfASRExHvhdFoGpQQ3my9eU1CjXE5XDtUTlci1RWVrVWsIdGCoX0UBbamxwSul64PqWC0fbkW++3gJcGJaHBnOXUloNfKrUwWi7GsuXrympYa4nKodricrlWqKytKq1hDswVC4WAgPqPe8PLM4oFm2f+apc5q6ymC8pP75mKoe5qlzmrrK0qnxZwFC5eAYYHBEDI6IjcCowMeOY1DjzVbnMXWUxX1J+fM1UDnNVucxdZWlV+bKAoZKLiF8DTwFDImJhRJyTUtoEXAg8DMwG7kopzcwyTm1hviqXuass5kvKj6+ZymGuKpe5qyxtIV+RUqOXmkmSJEmSJJUFd2BIkiRJkqSyZwFDkiRJkiSVPQsYkiRJkiSp7FnAkCRJkiRJZc8ChiRJkiRJKnsWMCRJkiRJUtmzgCHpHyJic0RMrfe1Z9YxFUtEDI+Im3OPz46IH27VXxsRNduYf0dEDG7pOCVJqnSuJ1xPSC2lfdYBSCora1NKBzXUEREBREqprrQhFc3XgG82Y/544DLgs8UJR5KkVsv1RONcT0jN4A4MSY2KiD0jYnZE/AiYAgyIiC9HxDMR8UJEXFVv7BURMSciHo2IX0fEl3Lt//hLRETsEhEv5x5XRcQ19Y51Xq59dG7ObyLixYi4PbfYISIOjognI2JaRDwdEd0i4vGIOKheHE9ExLCtvo9uwLCU0rQmfM/H1fuL0ZyIWJDrehw4KiIs/EqSlAfXE64npGLxhSOpvs4RMTX3eAFwKTAE+FRK6fMR8SFgMDAKCGBiRBwBrAZOBYaz5X1lCvDcds51DrA8pXRwRFQDT0TE73N9w4H9gMXAE8ChEfE0cCdwSkrpmYjoDqwFbgbOBi6JiL2B6pTSC1udqwaYsVXbKRFxWL3ngwBSShOBiQARcRfwWK69LiLmAQc24XuTJKktcz3hekJqERYwJNX3ri2fuWtWX0kpTc41fSj39XzueVe2LEC6AfeklNbk5k1swrk+BAyLiJNzz3vkjrUBeDqltDB3rKnAnsBy4LWU0jMAKaUVuf67gW9ExJeBTwO3NnCu3YA3t2q7M6V0Yb3vtbZ+Z0Rcxpafx431mt8A+uKCQ5KkbXE98c/nriekIrKAIWl7Vtd7HMDVKaWf1B8QEZcAqZH5m/jn5WqdtjrWRSmlh7c61mhgfb2mzWx5r4qGzpFSWhMRjwBjgY+z5a8jW1u71bm3KSL+HfgYcMRWXZ1yx5IkSflxPfFPriekAnkPDEn5eBj4dER0BYiIfhHRC5gEnBARnXPXhx5bb87LwMjc45O3OtbnIqJD7lh7R8QO2zj3i0DfiDg4N75bvetHbwauB55JKb3dwNzZ5LZ0bk9E7AH8CPh4SmnrxcXewMymHEeSJDXK9YTrCakg7sCQ1GQppd9HxL7AU7n7YK0CzkwpTYmIO4GpwCtsuUHV330PuCsiPgH8sV77zWzZyjkld1OtN4Hjt3HuDRFxCnBDRHRmy18ujgJWpZSei4gVwM8amftiRPSIiG4ppZXb+TbPBnYG7sl9j4tTSh+OiN5s2QL62nbmS5KkbXA94XpCKlSk1NguLUkqTERcyZaFwPdKdL6+QC2wT2MfyxYRlwIrU0o3F3iOS4EVKaVbCg5UkiQ1mesJSVvzEhJJFS0izgL+Alyxnc+UH8+7r4XN1zLg582YL0mSypTrCakyuANDkiRJkiSVPXdgSJIkSZKksmcBQ5IkSZIklT0LGJIkSZIkqexZwJAkSZIkSWXPAoYkSZIkSSp7/x+7DjDxn3TPbQAAAABJRU5ErkJggg==\n",
      "text/plain": [
       "<Figure size 1080x504 with 4 Axes>"
      ]
     },
     "metadata": {
      "needs_background": "light"
     },
     "output_type": "display_data"
    }
   ],
   "source": [
    "# PD gains to lead-lag gains \n",
    "Kp = 0.0205\n",
    "Kd = 0.0215\n",
    "N = 10\n",
    "\n",
    "c1 = N*Kd + Kp\n",
    "c2 = N*Kp\n",
    "c3 = 1\n",
    "c4 = N\n",
    "\n",
    "H_aileron_to_roll = (c1 * s + c2) / (c3 * s + c4)\n",
    "\n",
    "plt.figure()\n",
    "rootlocus(G_aileron_to_roll*H_aileron_to_roll)\n",
    "plt.plot([0, -1], [0, 1], '--')\n",
    "\n",
    "plt.figure()\n",
    "rootlocus(G_aileron_to_roll*H_aileron_to_roll)\n",
    "plt.xlim([-1.5, 0])\n",
    "plt.plot([0, -1], [0, 1], '--')\n",
    "\n",
    "Gc_aileron_to_roll  = G_aileron_to_roll*H_aileron_to_roll/(1 + G_aileron_to_roll*H_aileron_to_roll)\n",
    "\n",
    "\n",
    "plt.figure()\n",
    "step_size = 10\n",
    "t, y = control.step_response(step_size*Gc_aileron_to_roll, T=np.linspace(0, 30, 1000))\n",
    "plt.plot(t, y)\n",
    "plt.xlabel('t, sec')\n",
    "plt.ylabel('roll, deg')\n",
    "plt.title('output')\n",
    "\n",
    "plt.figure()\n",
    "# actual error was computed in radians, so, converting back here\n",
    "e = np.deg2rad(step_size-y)\n",
    "t, u, _= control.forced_response(H_aileron_to_roll, T=t, U=e)\n",
    "plt.hlines([-0.1, 0.1], t[0], t[-1], linestyles='dashed')\n",
    "plt.plot(t, u)\n",
    "plt.xlabel('t, sec')\n",
    "plt.ylabel('aileron %')\n",
    "plt.title('input')\n",
    "\n",
    "plt.figure()\n",
    "control.nyquist(Gc_aileron_to_roll, omega=np.logspace(-3, 3, 1000))\n",
    "\n",
    "plt.figure(figsize=(15, 7))\n",
    "control.gangof4(G_aileron_to_roll, H_aileron_to_roll, Hz=True, dB=True)\n",
    "\n",
    "gm, pm, wg, wp = control.margin(Gc_aileron_to_roll)\n",
    "print('gain margin: ', gm)\n",
    "print('phase margin (in degrees): ', pm)\n",
    "print('Frequency for gain margin (at phase crossover, phase = -180 degrees): ', wg)\n",
    "print('Frequency for phase margin (at gain crossover, gain = 1): ', wp)"
   ]
  },
  {
   "cell_type": "markdown",
   "metadata": {},
   "source": [
    "## Yaw"
   ]
  },
  {
   "cell_type": "markdown",
   "metadata": {},
   "source": [
    "## Engine0 (right cold post) "
   ]
  },
  {
   "cell_type": "code",
   "execution_count": 21,
   "metadata": {},
   "outputs": [
    {
     "name": "stdout",
     "output_type": "stream",
     "text": [
      "0 states have been removed from the model\n"
     ]
    },
    {
     "data": {
      "text/latex": [
       "$$\\frac{-0.788}{s^2}$$"
      ],
      "text/plain": [
       "TransferFunction(array([-0.788]), array([1., 0., 0.]))"
      ]
     },
     "execution_count": 21,
     "metadata": {},
     "output_type": "execute_result"
    }
   ],
   "source": [
    "# import scipy.signal as scysig\n",
    "\n",
    "sys1 = control.ss(*linearize(\n",
    "    aircraft='F-35B-2',\n",
    "    states=['ic/r-rad_sec'],\n",
    "    states_deriv = ['accelerations/rdot-rad_sec2'],\n",
    "    inputs=['propulsion/engine/pitch-angle-rad'],\n",
    "    outputs=['ic/r-rad_sec'],\n",
    "    ic=op_hover,\n",
    "    dx=1e-3,\n",
    "    n_round=3\n",
    "))\n",
    "s = control.tf([1, 0], [1])\n",
    "\n",
    "# # G_rudder_to_yaw = -clean_tf(control.minreal(control.ss2tf(sys), 1e-3))/s\n",
    "# print(sys)\n",
    "# temp = scysig.ss2tf(sys.A, sys.B, sys.C, sys.D)\n",
    "# print(temp)\n",
    "\n",
    "G_rudder_to_yaw1 = -clean_tf(control.minreal(control.ss2tf(sys1), 1e-3))/s\n",
    "G_rudder_to_yaw1"
   ]
  },
  {
   "cell_type": "markdown",
   "metadata": {},
   "source": [
    "## Engine1 (right hot post)"
   ]
  },
  {
   "cell_type": "code",
   "execution_count": 22,
   "metadata": {},
   "outputs": [
    {
     "name": "stdout",
     "output_type": "stream",
     "text": [
      "0 states have been removed from the model\n"
     ]
    },
    {
     "data": {
      "text/latex": [
       "$$\\frac{-0.553}{s^2}$$"
      ],
      "text/plain": [
       "TransferFunction(array([-0.553]), array([1., 0., 0.]))"
      ]
     },
     "execution_count": 22,
     "metadata": {},
     "output_type": "execute_result"
    }
   ],
   "source": [
    "sys2 = control.ss(*linearize(\n",
    "    aircraft='F-35B-2',\n",
    "    states=['ic/r-rad_sec'],\n",
    "    states_deriv = ['accelerations/rdot-rad_sec2'],\n",
    "    inputs=['propulsion/engine[1]/pitch-angle-rad'],\n",
    "    outputs=['ic/r-rad_sec'],\n",
    "    ic=op_hover,\n",
    "    dx=1e-3,\n",
    "    n_round=3\n",
    "))\n",
    "s = control.tf([1, 0], [1])\n",
    "G_rudder_to_yaw2 = -clean_tf(control.minreal(control.ss2tf(sys2), 1e-3))/s\n",
    "G_rudder_to_yaw2"
   ]
  },
  {
   "cell_type": "markdown",
   "metadata": {},
   "source": [
    "## Engine2 (left cold post)"
   ]
  },
  {
   "cell_type": "code",
   "execution_count": null,
   "metadata": {},
   "outputs": [],
   "source": [
    "sys3 = control.ss(*linearize(\n",
    "    aircraft='F-35B-2',\n",
    "    states=['ic/r-rad_sec'],\n",
    "    states_deriv = ['accelerations/rdot-rad_sec2'],\n",
    "    inputs=['propulsion/engine[2]/pitch-angle-rad'],\n",
    "    outputs=['ic/r-rad_sec'],\n",
    "    ic=op_hover,\n",
    "    dx=1e-3,\n",
    "    n_round=3\n",
    "))\n",
    "s = control.tf([1, 0], [1])\n",
    "G_rudder_to_yaw3 = -clean_tf(control.minreal(control.ss2tf(sys3), 1e-3))/s\n",
    "G_rudder_to_yaw3"
   ]
  },
  {
   "cell_type": "markdown",
   "metadata": {},
   "source": [
    "## Engine3 (left hot post)"
   ]
  },
  {
   "cell_type": "code",
   "execution_count": null,
   "metadata": {},
   "outputs": [],
   "source": [
    "sys4 = control.ss(*linearize(\n",
    "    aircraft='F-35B-2',\n",
    "    states=['ic/r-rad_sec'],\n",
    "    states_deriv = ['accelerations/rdot-rad_sec2'],\n",
    "    inputs=['propulsion/engine[3]/pitch-angle-rad'],\n",
    "    outputs=['ic/r-rad_sec'],\n",
    "    ic=op_hover,\n",
    "    dx=1e-3,\n",
    "    n_round=3\n",
    "))\n",
    "s = control.tf([1, 0], [1])\n",
    "G_rudder_to_yaw4 = -clean_tf(control.minreal(control.ss2tf(sys4), 1e-3))/s\n",
    "G_rudder_to_yaw4"
   ]
  },
  {
   "cell_type": "code",
   "execution_count": null,
   "metadata": {},
   "outputs": [],
   "source": [
    "sys1 = control.series(sys1, -1/s)\n",
    "sys1 = control.tf2ss(sys1)\n",
    "sys2 = control.series(sys2, -1/s)\n",
    "sys2 = control.tf2ss(sys2)\n",
    "sys3 = control.series(sys3, -1/s)\n",
    "sys3 = control.tf2ss(sys3)\n",
    "sys4 = control.series(sys4, -1/s)\n",
    "sys4 = control.tf2ss(sys4)\n",
    "\n",
    "sys_yaw = control.append(sys1, sys2, sys3, sys4)\n",
    "sys_yaw = control.ss2tf(sys_yaw)\n",
    "sys_yaw"
   ]
  },
  {
   "cell_type": "code",
   "execution_count": null,
   "metadata": {},
   "outputs": [],
   "source": [
    "# Engine nozzle pitch actuator \n",
    "tau_enp = 2\n",
    "G_enp_act = tau_enp / (s + tau_enp)\n",
    "G_aileron_to_roll *= G_enp_act\n",
    "G_aileron_to_roll"
   ]
  },
  {
   "cell_type": "markdown",
   "metadata": {},
   "source": [
    "## Altitude "
   ]
  },
  {
   "cell_type": "code",
   "execution_count": null,
   "metadata": {},
   "outputs": [],
   "source": [
    "sys = control.ss(*linearize(\n",
    "    aircraft='F-35B-2',\n",
    "    states=['ic/w-fps'],\n",
    "    states_deriv = ['accelerations/wdot-ft_sec2'],\n",
    "    inputs=['fcs/throttle-cmd-norm'],\n",
    "    outputs=['ic/w-fps'],\n",
    "    ic=op_hover,\n",
    "    dx=1e-3,\n",
    "    n_round=3\n",
    "))\n",
    "G_throttle_to_alt = -clean_tf(control.minreal(control.ss2tf(sys), 1e-3))/s\n",
    "G_throttle_to_alt"
   ]
  },
  {
   "cell_type": "code",
   "execution_count": null,
   "metadata": {},
   "outputs": [],
   "source": [
    "# Add the actuator \n",
    "tau = 0.4\n",
    "G_act = tau / (s + tau)\n",
    "G_throttle_to_alt *= G_act\n",
    "G_throttle_to_alt"
   ]
  },
  {
   "cell_type": "code",
   "execution_count": null,
   "metadata": {},
   "outputs": [],
   "source": [
    "# PD gains to lead-lag gains \n",
    "Kp = 9.11459759968896e-10\n",
    "Kd = 0.00911454537591535\n",
    "N = 27.8343628363698\n",
    "\n",
    "c1 = N*Kd + Kp\n",
    "c2 = N*Kp\n",
    "c3 = 1\n",
    "c4 = N\n",
    "\n",
    "H_throttle_to_alt = (c1 * s + c2) / (c3 * s + c4)\n",
    "\n",
    "\n",
    "plt.figure()\n",
    "rootlocus(G_throttle_to_alt*H_throttle_to_alt)\n",
    "plt.plot([0, -1], [0, 1], '--')\n",
    "\n",
    "plt.figure()\n",
    "rootlocus(G_throttle_to_alt*H_throttle_to_alt)\n",
    "plt.xlim([-1.2, 0])\n",
    "plt.plot([0, -1], [0, 1], '--')\n",
    "\n",
    "Gc_throttle_to_alt = G_throttle_to_alt*H_throttle_to_alt/(1 + G_throttle_to_alt*H_throttle_to_alt)\n",
    "\n",
    "plt.figure()\n",
    "step_size = 10\n",
    "t, y = control.step_response(step_size*Gc_throttle_to_alt, T=np.linspace(0, 40, 1000))\n",
    "plt.plot(t, y)\n",
    "plt.xlabel('t, sec')\n",
    "plt.ylabel('altitude, ft')\n",
    "plt.title('output')\n",
    "\n",
    "plt.figure()\n",
    "# error computed in ft\n",
    "e = step_size-y\n",
    "t, u, _= control.forced_response(H_throttle_to_alt, T=t, U=e)\n",
    "plt.hlines([-0.1, 0.1], t[0], t[-1], linestyles='dashed')\n",
    "plt.plot(t, u)\n",
    "plt.xlabel('t, sec')\n",
    "plt.ylabel('throtle %')\n",
    "plt.title('input')\n",
    "\n",
    "plt.figure()\n",
    "control.nyquist(Gc_throttle_to_alt, omega=np.logspace(-3, 3, 1000))\n",
    "\n",
    "plt.figure(figsize=(15, 7))\n",
    "control.gangof4(G_throttle_to_alt, H_throttle_to_alt, Hz=True, dB=True)\n",
    "\n",
    "\n",
    "gm, pm, wg, wp = control.margin(Gc_throttle_to_alt)\n",
    "print('gain margin: ', gm)\n",
    "print('phase margin (in degrees): ', pm)\n",
    "print('Frequency for gain margin (at phase crossover, phase = -180 degrees): ', wg)\n",
    "print('Frequency for phase margin (at gain crossover, gain = 1): ', wp)"
   ]
  },
  {
   "cell_type": "markdown",
   "metadata": {},
   "source": [
    "# Cruise Controller Design"
   ]
  },
  {
   "cell_type": "markdown",
   "metadata": {},
   "source": [
    "## Cruise Velocity (with Pitch)"
   ]
  },
  {
   "cell_type": "code",
   "execution_count": 5,
>>>>>>> 7ed655f2533f0c295c7afff3713abf3c4f174e56
   "metadata": {},
   "outputs": [
    {
     "name": "stdout",
     "output_type": "stream",
     "text": [
      "0 states have been removed from the model\n"
     ]
    },
    {
     "data": {
      "text/latex": [
       "$$\\begin{bmatrix}\\frac{4.092 s^2 - 0.0509 s}{s^3 + 45.24 s^2}&\\frac{-12.92 s^2}{s^3 + 45.24 s^2}&\\\\\\frac{12.9 s - 0.1605}{s^3 + 45.24 s^2}&\\frac{-40.72 s}{s^3 + 45.24 s^2}&\\\\\\frac{12.75 s - 0.1619}{s^3 + 45.24 s^2}&\\frac{-41.36 s}{s^3 + 45.24 s^2}&\\\\\\frac{25.46 s^2 + 1130 s + 0.08163}{s^3 + 45.24 s^2}&\\frac{-1.07 s^2 + 19.64 s}{s^3 + 45.24 s^2}&\\\\ \\end{bmatrix}$$"
      ],
      "text/plain": [
       "TransferFunction([[array([ 4.092   , -0.050902,  0.      ]), array([-12.916,   0.   ,   0.   ])], [array([12.902076  , -0.16049401]), array([-40.724148,   0.      ])], [array([12.745236 , -0.1618753]), array([-41.357212,   0.      ])], [array([2.5457000e+01, 1.1300162e+03, 8.1628297e-02]), array([-1.07    , 19.638968,  0.      ])]], [[array([ 1.   , 45.236,  0.   ,  0.   ]), array([ 1.   , 45.236,  0.   ,  0.   ])], [array([ 1.   , 45.236,  0.   ,  0.   ]), array([ 1.   , 45.236,  0.   ,  0.   ])], [array([ 1.   , 45.236,  0.   ,  0.   ]), array([ 1.   , 45.236,  0.   ,  0.   ])], [array([ 1.   , 45.236,  0.   ,  0.   ]), array([ 1.   , 45.236,  0.   ,  0.   ])]])"
      ]
     },
     "execution_count": 11,
     "metadata": {},
     "output_type": "execute_result"
    }
   ],
   "source": [
    "sys = control.ss(*linearize(\n",
    "#     ic=op_cruise,\n",
    "    \n",
    "    aircraft='F-35B-2',\n",
    "    states=['ic/vt-fps', 'ic/alpha-rad', 'ic/theta-rad','ic/q-rad_sec'],\n",
    "    states_deriv=[lambda fdm:np.sqrt(fdm['accelerations/udot-ft_sec2']**2 + fdm['accelerations/vdot-ft_sec2']**2 + fdm['accelerations/wdot-ft_sec2']**2),\n",
    "                  'aero/alphadot-rad_sec', 'velocities/q-rad_sec','accelerations/qdot-rad_sec2'],\n",
    "#     states_deriv=['accelerations/udot-ft_sec2','aero/alphadot-rad_sec', 'velocities/q-rad_sec','accelerations/qdot-rad_sec2'],\n",
    "#     states_deriv=['accelerations/udot-ft_sec2'],   # Unable to find derivative\n",
    "#     states=['ic/u-fps','ic/v-fps','ic/w-fps'], # velocity and heading angle\n",
    "#     states_deriv = ['accelerations/udot-ft_sec2','accelerations/vdot-ft_sec2','accelerations/wdot-ft_sec2'],\n",
    "    inputs=['fcs/elevator-cmd-norm','fcs/throttle-cmd-norm'],\n",
    "#     outputs=['ic/u-fps'],\n",
    "    outputs=['ic/vt-fps','ic/alpha-rad', 'ic/theta-rad','ic/q-rad_sec'],\n",
    "    \n",
    "    ic=op_cruise,\n",
    "    dx=1e-3,\n",
    "    n_round=3\n",
    "))\n",
    "s = control.tf([1, 0], [1])\n",
    "rad2deg = 180/np.pi\n",
    "# G_elev_to_pitch = rad2deg*clean_tf(control.minreal(control.ss2tf(sys), 1e-3))/s  # in degrees\n",
    "# G_elev_to_pitch\n",
    "sys\n",
    "clean_tf(control.ss2tf(sys), 1e-2)\n",
    "G_elev_to_pitch = clean_tf(control.ss2tf(sys), 1e-2)\n",
    "G_elev_to_pitch\n",
    "\n",
    "Sy = control.ss([],[],[],[0, 0, 1, 0])\n",
    "# Sy = control.ss2tf(Sy)\n",
    "\n",
    "control.minreal(Sy*G_elev_to_pitch)\n",
    "G_elev_to_pitch\n",
    "# Sy * sys\n",
    "# clean_tf(control.ss2tf(Sy * sys),1e-2)"
   ]
  },
  {
   "cell_type": "code",
   "execution_count": 54,
   "metadata": {},
   "outputs": [
    {
     "data": {
      "text/plain": [
       "array([-4.52361620e+01,  1.61972185e-04,  0.00000000e+00,  0.00000000e+00])"
      ]
     },
     "execution_count": 54,
     "metadata": {},
     "output_type": "execute_result"
    },
    {
     "data": {
      "image/png": "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\n",
      "text/plain": [
       "<Figure size 432x288 with 1 Axes>"
      ]
     },
     "metadata": {
      "needs_background": "light"
     },
     "output_type": "display_data"
    }
   ],
   "source": [
    "rootlocus(-sys[2,1])\n",
    "plt.axis([-2, 2, -2, 2])\n",
    "controlroot(sys[2,1])"
   ]
  },
  {
   "cell_type": "code",
   "execution_count": null,
   "metadata": {},
   "outputs": [],
   "source": [
    "StateSpace(array([[ 5.1424e+01, -9.0000e-03, -9.0000e-03, -9.0000e-03],\n",
    "       [ 3.1530e+00,  0.0000e+00,  0.0000e+00, -0.0000e+00],\n",
    "       [ 2.8000e-02,  0.0000e+00,  0.0000e+00,  0.0000e+00],\n",
    "       [-5.2680e+00,  0.0000e+00,  0.0000e+00,  0.0000e+00]]), array([[-4.1680e+00,  4.5700e+00],\n",
    "       [-0.0000e+00,  0.0000e+00],\n",
    "       [-6.0000e-03, -6.0000e-03],\n",
    "       [ 2.5457e+01, -1.0700e+00]]), array([[ 1.,  0.,  0.,  0.],\n",
    "       [-0.,  1., -0.,  0.],\n",
    "       [ 0.,  1.,  1.,  0.],\n",
    "       [ 0.,  0.,  0.,  1.]]), array([[0., 0.],\n",
    "       [0., 0.],\n",
    "       [0., 0.],\n",
    "       [0., 0.]]))\n"
   ]
  },
  {
   "cell_type": "code",
   "execution_count": 5,
   "metadata": {},
   "outputs": [],
   "source": [
    "# Add the actuator \n",
    "# tau = 0.4\n",
    "# G_act = tau / (s + tau)\n",
    "# G_elev_to_pitch *= G_act\n",
    "# G_elev_to_pitch"
   ]
  },
  {
   "cell_type": "code",
   "execution_count": 51,
   "metadata": {},
   "outputs": [
    {
     "name": "stdout",
     "output_type": "stream",
     "text": [
      "gain margin:  inf\n",
      "phase margin (in degrees):  inf\n",
      "Frequency for gain margin (at phase crossover, phase = -180 degrees):  nan\n",
      "Frequency for phase margin (at gain crossover, gain = 1):  nan\n"
     ]
    },
    {
     "name": "stderr",
     "output_type": "stream",
     "text": [
      "C:\\Users\\12646\\anaconda3\\lib\\site-packages\\control\\margins.py:322: RuntimeWarning: invalid value encountered in less_equal\n",
      "  w_180 = w_180[w180_resp <= 0.]\n",
      "C:\\Users\\12646\\anaconda3\\lib\\site-packages\\control\\margins.py:323: RuntimeWarning: invalid value encountered in less_equal\n",
      "  w180_resp = w180_resp[w180_resp <= 0.]\n"
     ]
    },
    {
     "data": {
      "image/png": "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\n",
      "text/plain": [
       "<Figure size 432x288 with 1 Axes>"
      ]
     },
     "metadata": {
      "needs_background": "light"
     },
     "output_type": "display_data"
    },
    {
     "data": {
      "image/png": "iVBORw0KGgoAAAANSUhEUgAAAYoAAAEGCAYAAAB7DNKzAAAAOXRFWHRTb2Z0d2FyZQBNYXRwbG90bGliIHZlcnNpb24zLjMuMiwgaHR0cHM6Ly9tYXRwbG90bGliLm9yZy8vihELAAAACXBIWXMAAAsTAAALEwEAmpwYAAAjq0lEQVR4nO3de3RV5Z3/8ff3nNzIBUIChLuApiAXERIvVVtBqgWtUsU6tVPbaWuRqXRaR0VnzZqZNatdv99UbWsvdhymTqdOO0NbQUXFyxSN1loVAoIgV0EhInK/JBBCku/vj3PwF9MQDkl29tk5n9daWZx9znOefDhk882z936ebe6OiIjIycTCDiAiIulNhUJERNqlQiEiIu1SoRARkXapUIiISLuywg5wuvr16+cjRowIpO+6ujoKCgoC6TsIUcsL0csctbygzN0hankBqqur97h7/468N3KFYsSIESxfvjyQvquqqpgyZUogfQchankhepmjlheUuTtELS+Amb3b0ffq0JOIiLRLhUJERNqlQiEiIu1SoRARkXapUIiISLsCKxRm9h9mtsvM1pzkdTOzH5vZZjNbbWaTg8oiIiIdF+SI4j+B6e28PgMoT37NBv41wCwiItJBgRUKd38J2NdOk5nAw57wKlBsZoOCyiPp4fhRLWsvEjVhTrgbAmxvsV2TfO791g3NbDaJUQdlZWVUVVUFEqi2tjawvoMQtbz733beX9HMsQMvUDjIwo6Tkqh9xqDM3SFqeTsrzELR1v8Ubf666e7zgfkAlZWVHtSMyKjNtoxa3rpzj7Fg0x/Z/geYetNoxnw8/QeQUfuMQZm7Q9TydlaYVz3VAMNabA8FdoSURbpBQXEuI6YZgz9WzEu/2ciRQw1hRxKRFIQ5olgMzDWzBcAFwEF3/7PDTtKzxLONz8ydyL4ddeT3zgHAmx2LReNQlEgmCqxQmNn/AFOAfmZWA/wTkA3g7g8CS4Argc3AEeArQWWR9BLPitF/eBEAq1/YzvZ1+7nia+PIzo2HnExE2hJYoXD3G0/xugO3BvX9JRpi8RjvvrmHx364ks/ceg69inLCjiQirWhmtoRq/CeHMP2WCex7r5aF91RzcPeRsCOJSCsqFBK6Uef2Z+Ztkzh2pJGF967g2JHjYUcSkRYid+Mi6ZkGjurDrHkV7Nh8gNz87LDjiEgLKhSSNorL8ikuywegZv0+Du4+yrhPDAk5lYioUEhaeuvlHWxavova/cc4/+qRmOnyWZGwqFBIWpr2lbFk5cRZvuQdavfVM+WmMcTjOqUmEgYVCklL8XiMqTeNobAkj2VPbqXuUANXzplAVo7mWoh0NxUKSVtmxvmfGUlh31ze33yAeLZGFCJhUKGQtDf24sGMvXgwAAd3H6WpsZmSQQUhpxLJHPoVTSLD3Vn6y7dYdG81OzYfCDuOSMZQoZDIMDOmfXkseYXZLL7/Dd5esSvsSCIZQYVCIqVP/17MmldB/+GFPPPva1j1/PZTv0lEOkWFQiKnV2EO13x7EiPP6cfG13bS1NgcdiSRHk0nsyWSsnPiTL9lAsfrG4lnxWiobyQej+nKKJEAqFBIZMViRm5+Nu7Os/++hqbGZmbcMkFrRYl0Mf36JZFnZnzs/IG8v/kgi+5bQe3++rAjifQoKhTSI4y+YCCf+eZEavfV88j3qtn7Xm3YkUR6DBUK6TGGjSnh2jsqIHkoqrnZw44k0iPoHIX0KP2GFjLrrkqOHWkkFtOKsyJdQYVCepyikjyKShKPX1m4mbyibCZdPlxLlYt0kA49SY/V3Owc3lfPnxa9zR9+u0mHokQ6SCMK6bFiMeOKr42joDiXVUu3U3fgGJcn73MhIqnTiEJ6NIsZl3yunIuvP4stb+zmyQdW466Rhcjp0IhCMsK5nxpOYd883F3nKkROkwqFZIyzKgZ8+HjT8g8oHpBP/+FFISYSiQYdepKM09TYzGuPb+HR769g29q9YccRSXsqFJJx4lkxrr19Mr379+LJB1az7pX3w44kktZUKCQjFRTnct3tkxnysWKef3gdy57aGnYkkbSlQiEZK6dXFp+ZO5HRFwyk6bjuaSFyMjqZLRktnhVj2l+d/eH2vh11FJXmkZ2ruRYiJ2hEIRnPzDAzjh9r4vH7V/LYD1dy5FBD2LFE0kaghcLMppvZBjPbbGZ3t/F6HzN7wsxWmdlaM/tKkHlE2pOdG+fSL4xm33u1LLy3mgO7joQdSSQtBFYozCwOPADMAMYCN5rZ2FbNbgXecveJwBTg+2aWE1QmkVMZdW5/Zt42iYajjSy8p5ojezWLWyTIEcX5wGZ33+LuDcACYGarNg4UWWKqbCGwD2gMMJPIKQ0c1YdZd1aQkxdn73oVChELat0bM7semO7uNye3bwIucPe5LdoUAYuBMUAR8Bfu/lQbfc0GZgOUlZVVLFiwIJDMtbW1FBYWBtJ3EKKWF6KVubHeOVJfR+/iQpobnVhWNJb+iNJnfELUMkctL8DUqVOr3b2yI+8N8qqntvaq1lXp08AbwGXAmcD/mtkf3P3QR97kPh+YD1BZWelTpkzp8rAAVVVVBNV3EKKWF6KXuaqqiosuvIRHv7+CM8aXcsE1o9J+raiofcYQvcxRy9tZQR56qgGGtdgeCuxo1eYrwCJP2AxsJTG6EEkbWdkx+g8vovrpd3n+l+toatKcC8ksQRaKZUC5mY1MnqD+PInDTC1tA6YBmFkZMBrYEmAmkdMWi8eY+sUxnH/1SNa/upOnfrqKhnqdSpPMEVihcPdGYC7wLLAO+K27rzWzOWY2J9nsO8BFZvYmsBS4y933BJVJpKPMjPOuGsllXxpDzYYDVP1qfdiRRLpNoDOz3X0JsKTVcw+2eLwDuCLIDCJd6eyLBlNQnEtxWX7YUUS6jWZmi5ym4WNL6V3aC292Xvj1enZsPhB2JJFAqVCIdFB93XF2bDzA4vvf4O0Vu8KOIxIYFQqRDupVlMN1d06m//BCnvn3Naxauj3sSCKBUKEQ6YRehTnM/PYkRp7Tj5d/t4nXn9BFe9LzqFCIdFJWTpzpt0xg4mXDGDqmJOw4Il1OhUKkC8RixiU3lDO4vBiAja/v5NiR4+GGEukiKhQiXezQ3qMsfXgdi+5bweF99WHHEek0FQqRLta7tBdXz51I7b56Ft5Tzd73asOOJNIpKhQiARg6poRr76gAYNG91dRs2B9yIpGOU6EQCUi/oYXMmldBYUkeB3W3PImwQJfwEMl0RSV53PB35xHPTvxOdnD3EXr365X2S5WLtKQRhUjAThSJ/TvrWPCd1/nDbzbR3Kw750l0qFCIdJPiAfmM++QQ3qyq4dn5a2hsaAo7kkhKVChEuonFjEuuL+eSz5WzZdVuHr//DeprNddC0p8KhUg3mzhtGJ++eTy7tx1mdVVN2HFETkkns0VCcFbFAIrLelEyqACA5mYnFtMJbklPGlGIhKTf0CJi8Rh1B46x4Duv8+7avWFHEmmTCoVIGojFjaceWM26V3aEHUXkz6hQiISsoDiX626fzNDRxTz/8HqWPbUVd10+K+lDhUIkDeT0yuKqWycy+sKBvP7EVt0ESdKKTmaLpIl4VoxpXz6b/sOKGH3hwLDjiHxIIwqRNGJmTJw2jLyCbBqPN/HSgo0cOdQQdizJcCoUImlqT00t6/64g4X3VnNAiwpKiFQoRNLUwJF9mPm3k2g42sjCe6rZufVg2JEkQ6lQiKSxgSP7MOvOCnJ6ZfH4D1ZqroWEQoVCJM0Vl+Uz684KBpcXU1SSF3YcyUAqFCIRkN87h6v/5lxKBhXg7mx5Y7fmWki3UaEQiZh31+zl6QffZOkv19HU2Bx2HMkAKhQiEXPG+FLOv3okG17dyVMPrKLhaGPYkaSHU6EQiRgz47yrRnLZl8ZQs+EAj/5gBXUHjoUdS3qwQAuFmU03sw1mttnM7j5Jmylm9oaZrTWzF4PMI9KTnH3RYK669RwO7alnz3u1YceRHiywJTzMLA48AFwO1ADLzGyxu7/Vok0x8DNgurtvM7MBQeUR6YnOGFfKTd/9OHkF2QAcPaxZ3NL1ghxRnA9sdvct7t4ALABmtmrzBWCRu28DcPddAeYR6ZFOFIlta/fy8N+/wsHtuhpKupYFdYmdmV1PYqRwc3L7JuACd5/bos39QDYwDigCfuTuD7fR12xgNkBZWVnFggULAslcW1tLYWFhIH0HIWp5IXqZo5S38Ziz7Q/O0T3OwEkxSkdH5455UfqcIXp5AaZOnVrt7pUdeW+Qq8e29VPauiplARXANKAX8Ccze9XdN37kTe7zgfkAlZWVPmXKlK5PC1RVVRFU30GIWl6IXuao5W2c2sR/3/MiO1c6ZaVDufi6s7AI3GI1ap9z1PJ2VpCFogYY1mJ7KND69l01wB53rwPqzOwlYCKwERE5bVk5cYZdZMR3DWHV77cz+MxiRk3qH3YsibggC8UyoNzMRgLvAZ8ncU6ipceBn5pZFpADXAD8MMBMIj2exYxP/EU5I84pZdjZJQC4O2bpP7KQ9BTYyWx3bwTmAs8C64DfuvtaM5tjZnOSbdYBzwCrgdeBn7v7mqAyiWQKM2P42FLMjL07ann0+ys4vK8+7FgSUYHe4c7dlwBLWj33YKvte4F7g8whksmO1R1nb00tC++p5upvTqR0SLROwkr4NDNbpIcbXN6X6+6sAGDRvdXUrN8XciKJGhUKkQxQOqSQWfMqKCzJ44mfrGLHpv1hR5IIUaEQyRBFJXlcd8dkJl42jLIRfcKOIxGiQiGSQXLzs7lo1lnEs2PU1x1n+ZJ3aG7WTG5pX0ons82spI2nD7v78S7OIyLdZHP1Ll5bvIXd2w5z+VfHkpUTDzuSpKlURxQrgN0kJsJtSj7eamYrzKwiqHAiEpzxnxzCJZ8rZ8uq3Tx+/0rqa/V7n7Qt1ULxDHClu/dz91JgBvBb4BskVn8VkQiaOG0Yn755PLu31bLw3moO7TkadiRJQ6kWikp3f/bEhrs/B3zS3V8FcgNJJiLd4qyKAVzzrXPJyokRz9ZpS/lzqf5U7DOzu8zsjOTXPGB/8p4TummvSMQNLi/mhr87j4I+uTQ3NfPB1kNhR5I0kmqh+AKJRf0eI7E+0/Dkc3HghkCSiUi3OrHK7IrntrHw3mrWvdJ6DU/JVCld9eTue4BvnuTlzV0XR0TCds6UoezYuJ/nH15P7f5jVF45QgsKZrhUL4/tD8wjcYOhvBPPu/tlAeUSkZDk9MriqrkTeeG/1vP6E1up3VfPpV8YTSyu8xeZKtV/+V8D64GRwD8D75BYRlxEeqB4PMa0L59NxYwz2Lh8Fwc+0NVQmSzV1WNL3f0hM/uWu78IvGhmLwYZTETCZWZcOPNMxn1iCEUliQMJx481kZ2riXmZJtURxYmZOO+b2VVmNonEyW0R6eFOFIk1L73Hgu+8xoEPjoScSLpbqoXiu2bWB7gduAP4OXBbYKlEJO30G1ZIQ30TC++tZufWg2HHkW6UUqFw9yfd/aC7r3H3qe5e4e6Lgw4nIulj4Mg+zLqzgpxeWTz+g5VsXbU77EjSTVIqFGY20sx+YGaLzGzxia+gw4lIeikuy2fWnRWUDC7g6X9bw4FdOgyVCVI9mf0Y8BDwBJqJLZLR8nvn8Nm/ncy2tXspHpAfdhzpBqkWinp3/3GgSUQkMrJz45w5eQAA723cz4bXdnLpjaOJZ2muRU+UaqH4kZn9E/AccOzEk+6+IpBUIhIZu949zLo/vs/hvfXMuGUCOb1S/W9FoiLVf9EJwE3AZfz/Q0+e3BaRDDbp8uHkFWTxwq82sOj7K7h67kQKirWodE+SaqG4Fhjl7g1BhhGRaDr7osEU9Mnl6flreOSe5Vw/r1LFogdJ9YDiKqA4wBwiEnHDx5Vy3e2TGTmxP/m9c8KOI10o1RFFGbDezJbx0XMU1wSSSkQiqf/wIvoPLwLg0J6j7Nley6hJ/UNOJZ2VaqH4p0BTiEiPs+yprax/dSeXXF/OxGnDwo4jnZDq/Si0AKCInJZLbxxNw9EmXv7dJg7vq+fiWWd9eHMkiZZ2z1GY2cvJPw+b2aEWX4fNTPdKFJGTysqJ8+nZ45kwdSirlm7nuYfW0ni8KexY0gHtjijc/ZLkn0XdE0dEepJYzPjEDeUU9s3l7epdNDc5ZIedSk6XZsaISKDMjMlXnMHEy4YRz4px/FgTx44cp7Bv3qnfLGlB8+1FpFucWN7jhV+t55F/Wc6emtqQE0mqAi0UZjbdzDaY2WYzu7uddueZWZOZXR9kHhEJX8X0M8CMR++rpmb9vrDjSAoCKxRmFgceAGYAY4EbzWzsSdp9D3g2qCwikj5KhxRy/V0VFJbk8cRPVrHx9Z1hR5JTCHJEcT6w2d23JJf+WADMbKPdN4GFwK4As4hIGinsm8d1d0xm0Jl9+OMjm2k67mFHknaYezD/QMnDSNPd/ebk9k3ABe4+t0WbIcB/k1hc8CHgSXd/pI2+ZgOzAcrKyioWLFgQSOba2loKCwsD6TsIUcsL0csctbwQrczNTc7xOjgeq6OgoACcSMy1iNJnfMLUqVOr3b2yI+8N8qqntv61W1el+4G73L3J7OQ/HO4+H5gPUFlZ6VOmTOmiiB9VVVVFUH0HIWp5IXqZo5YXops5d/8w9u+s44qvjSMrJx52pHZF8TPujCAPPdUALeftDwV2tGpTCSwws3eA64GfmdlnA8wkImkqv08OW1fv4fH7V3K0VgtVp5MgC8UyoDx5v+0c4PPAR+6z7e4j3X2Eu48AHgG+4e6PBZhJRNLUxMuGMf3r49m9rZZF967g4O6jYUeSpMAKhbs3AnNJXM20Dvitu681szlmNieo7ysi0XXm5AFc8+1zOXq4gcd+sEJLfqSJQGdmu/sSYEmr5x48Sdu/CjKLiETD4LOKue7OCvbvrCMrO73PVWQKLeEhImmnZFABJYMKANi07AOONzQx9uLBIafKXCoUIpK23J2Nyz7gndV7qN1Xz3mfGUl7V0hKMLTWk4ikLTNj+i3jGXPhQJY99Q4v/Go9TU3NYcfKOBpRiEhai8djXPblsyksyWP5kneoO9DAld+YQDyu33O7iwqFiKQ9M+OCa0ZR2DeXQ3vrVSS6mQqFiETGuE8M+fDx7u2Hyc6JU1yWH2KizKCyLCKR483O0v98i4X3VLNzy8Gw4/R4KhQiEjkWM6bfMoHc/Cwe/+FKtq7aHXakHk2FQkQiqXhAPrPmVVAypJCnH3yTNS/WhB2px1KhEJHI6lWUw2dvm8QZ40vZunov3qz7WgRBJ7NFJNKyc+PMmDOBpibHYkZ97XGy8+If3qNbOk+fpIhEXiweIzsnTnNTM0/85A2e/OkqGo42hh2rx1ChEJEeIxaPMf7SoezYeIBF962g7sCxsCP1CCoUItKjnH3RIK669RwO7TnKI99bzr4ddWFHijwVChHpcYaPK+Xa2yfT3OQ8/1/rcNdJ7s7QyWwR6ZH6Dy9i1rwKILEEiLtr5dkO0ohCRHqs3v160btfL7zZ+f1/vsUbv98WdqRIUqEQkR6vuclpbGjmj49s5uXfbdJ8i9OkQiEiPV48O8anvz6ec6YOZdXS7Tz30Frdj/s06ByFiGSEWMy45IZyCvvm8cqizTQeb+aqb5wTdqxIUKEQkYxhZky6YjgFfXPI750bdpzIUKEQkYzzsfMGfvh4zUvvMXBUb/oNLQoxUXpToRCRjNVQ30j10+9w7GgjM+ZMYNiYkrAjpSWdzBaRjJWTl8WseRUUleTx5E9WseG1nWFHSksqFCKS0Qr75nHdHZMZdGYffv+Lt1jx7LthR0o7KhQikvFy87O5+pvnUn5eGdm58bDjpB2doxARITHX4vKvjv1wmY8Pth6iZEgB2TkqHBpRiIgknSgS9bXHefxHK3n8hys5WtsQcqrwqVCIiLSSV5jNtC+dzZ7ttSy8p5qDu4+GHSlUKhQiIm04c/IAZn77XOprj7PwnuXsevdQ2JFCE2ihMLPpZrbBzDab2d1tvP6XZrY6+fWKmU0MMo+IyOkYdFYxs+ZVkJUdZ/2fMvfS2cBOZptZHHgAuByoAZaZ2WJ3f6tFs63Ape6+38xmAPOBC4LKJCJyuvoOLOD6uyvJK0j8d9lQn3n34g5yRHE+sNndt7h7A7AAmNmygbu/4u77k5uvAkMDzCMi0iH5vXOIxWMcPdzAb777OrvebM6ou+ZZUH9ZM7semO7uNye3bwIucPe5J2l/BzDmRPtWr80GZgOUlZVVLFiwIJDMtbW1FBYWBtJ3EKKWF6KXOWp5QZmD5M3OjmXOga1QPBIGn2dYLBp3zZs6dWq1u1d25L1BzqNo69NrsyqZ2VTga8Albb3u7vNJHJaisrLSp0yZ0kURP6qqqoqg+g5C1PJC9DJHLS8oc9B8qvO7n77A7rXQO7+ET399HDl5PXtKWpCHnmqAYS22hwI7Wjcys3OAnwMz3X1vgHlERDrNzBgwIcaUvxzN9rf28sqit8OOFLggy+AyoNzMRgLvAZ8HvtCygZkNBxYBN7n7xgCziIh0qXGfGELv0l70H97zlycPbETh7o3AXOBZYB3wW3dfa2ZzzGxOstk/AqXAz8zsDTNbHlQeEZGuNmxsCXmF2TQdb+aZ+W+yc8vBsCMFItADa+6+BFjS6rkHWzy+Gfizk9ciIlFytLaBPdtreeyHK7nia+MYdW7/sCN1Kc3MFhHppMK+ecyaV0G/oYU8829vsubFmrAjdSkVChGRLtCrKIeZt03ijAn9ePF/NrLiuZ5zXwsVChGRLpKdE2fGLeOZ+KlhnDGuNOw4XUaFQkSkC8XiMS65vpzSIYW4O29W1XDsaLSX/VChEBEJyL4ddbz82008et8KavcfCztOh6lQiIgEpHRIIVfNPYdDe46y8J7l7N1RG3akDlGhEBEJ0PCxpVx7+2Sam5xH71vBexv3n/pNaUaFQkQkYP2HFzFrXgUFxbkcOxK98xU9eyUrEZE00btfL274+/OIxxO/n+/dUUvp4PRfMRc0ohAR6TYnisQH7xziN99dxsu/24Q3p/99LVQoRES6Wf/hRUy4dAirlm7nuYfW0ni8KexI7dKhJxGRbhaLGZfcUE5hSR6vLNzMkUMNzJgzgbyC7LCjtUkjChGREJgZky4fzhVfG8fOrQfZtOyDsCOdlEYUIiIhKj+vjH7DCikuywegqan5w3MZ6SK90oiIZKC+AwswM/bvrOPX//gq29ftCzvSR6hQiIikiezcODl5cZ78ySo2vLYz7DgfUqEQEUkThX3zuPaOCgaV9+H3v3iL6mfewT38y2dVKERE0khuryyunnsu5eeV8epjW1j3yvthR9LJbBGRdBPPjnH5V8Yy+Kw+fOy8srDjaEQhIpKOLGaMv3QoWTlxjh05ztJfvsXR2oZQsqhQiIikud3ba9m0fBcL76nm4O6j3f79VShERNLc0NF9mfmtc6mvO87Ce5az691D3fr9VShERCJg0FnFzLqzgqycOI9+fwU1G7rvvhYqFCIiEdF3YAGz5lUw7OwSigfkd9v3VaEQEYmQgj65XPnX51DYN5fmZmfjsp2Bz7VQoRARiahNyz7gfx96ixd+tZ6mpubAvo/mUYiIRNTHzi/jwAdHWL7kHeoONPDpr48jJ6/r/1vXiEJEJKLMjAuuGcWUvxzN9rf28tgPVnLkUNfPtVChEBGJuHGfGMKVf30Oh/fVc3hvfZf3r0NPIiI9wIhz+nHTdz/+4aGn2v31FPbN65K+NaIQEekhThSJja/v5Nf/+Cpb3tjdJf0GWijMbLqZbTCzzWZ2dxuvm5n9OPn6ajObHGQeEZFMMOzsEkqHFvL0z1Yx54rvYreNgEFUdLS/wAqFmcWBB4AZwFjgRjMb26rZDKA8+TUb+Neg8oiIZIpeRTnMvG0SOw9sZ8Koi7gmdnmn+gtyRHE+sNndt7h7A7AAmNmqzUzgYU94FSg2s0EBZhIRyQjZOXH+z+Dv8If8xVxRd2On+rKgZvSZ2fXAdHe/Obl9E3CBu89t0eZJ4F/c/eXk9lLgLndf3qqv2SRGHJSVlVUsWLAgkMy1tbUUFhYG0ncQopYXopc5anlBmbtDVPJOrboMcEYdH8eWX6zFd7h1pJ8gr3pqK1DrqpRKG9x9PjAfoLKy0qdMmdLpcG2pqqoiqL6DELW8EL3MUcsLytwdIpP38eFQ/C5bctZ2qpsgDz3VAMNabA8FdnSgjYiIdMD0pReT3wXz74IsFMuAcjMbaWY5wOeBxa3aLAa+lLz66ULgoLuHf4NYEZEe4PYN+/nkE1+AA2d0qp/ADj25e6OZzQWeBeLAf7j7WjObk3z9QWAJcCWwGTgCfCWoPCIimeZTx5bwqeRju9+qO9pPoDOz3X0JiWLQ8rkHWzx24NYgM4iISOdoZraIiLRLhUJERNqlQiEiIu1SoRARkXYFNjM7KGa2G3g3oO77AXsC6jsIUcsL0csctbygzN0hankBRrt7UUfeGLn7Ubh7/6D6NrPl7l4ZVP9dLWp5IXqZo5YXlLk7RC0vJDJ39L069CQiIu1SoRARkXapUHzU/LADnKao5YXoZY5aXlDm7hC1vNCJzJE7mS0iIt1LIwoREWmXCoWIiLQrYwuFmX3OzNaaWbOZtXuZm5nFzWxl8o58oUkls5kNM7MXzGxdsu23ujtnqzwpfc5mNt3MNpjZZjO7uzsztspRYmb/a2abkn/2PUm725J/rzVm9j9mltfdWVtkSTVzsZk9Ymbrkz8fH+/urC2ypJQ52Tb0/S+VvOmy751qX0re1uHHyddXm9nkU/WZsYUCWANcB7yUQttvAeuCjZOSVDI3Are7+9nAhcCtZja2O8KdxCkzm1kceACYAYwFbgwx893AUncvB5Ymtz/CzIYAfwNUuvt4Esvof75bU37UKTMn/Qh4xt3HABMJ92c61cyQHvtfKnlD3/dS3JdmAOXJr9nAv56q34wtFO6+zt03nKqdmQ0FrgJ+Hnyq9qWS2d3fd/cVyceHSexgQ7oj30nypPI5nw9sdvct7t4ALABmBp+uTTOBXyYf/xL47EnaZQG9zCwLyCfcOzOeMrOZ9QY+CTwE4O4N7n6gm/K1JaXPOY32v1PmTZN9L5V9aSbwsCe8ChSb2aD2Os3YQnEa7gfmAc0h5zhtZjYCmAS8FnKUUxkCbG+xXUN4xa3sxF0Wk38OaN3A3d8D7gO2Ae+TuDPjc92a8qNOmRkYBewGfpE8jPNzMyvozpCtpJIZ0mf/SzUvEOq+l8q+dNr7W+SW8DgdZvZ7YGAbL/29uz+ewvs/A+xy92ozm9LF8U72PTuVuUU/hcBC4Nvufqir8p3ke3U2s7XxXGDXbbeXN8X39yXxW9lI4ADwOzP7orv/qstC/vn37FRmEvv6ZOCb7v6amf2IxOGTf+iiiH+mCz7nbt3/uuAzPtFPt+17bX37Np5rvS+d9v7WowuFu3/q1K3adTFwjZldCeQBvc3sV+7+xc6na1sXZMbMskn8oP7a3Rd1PlX7uiBzDTCsxfZQAjyU015eM/vAzAa5+/vJ4fiuNpp9Ctjq7ruT71kEXAQEVii6IHMNUOPuJ37DfYT2zwt0Whdk7tb9rwvydvu+14ZU9qXT3t906Kkd7v537j7U3UeQOFn5fJBFoiuYmZE4Dr3O3X8Qdp4ULQPKzWykmeWQ+KwXh5RlMfDl5OMvA22NiLYBF5pZfvLznka4J1tPmdnddwLbzWx08qlpwFvdE69NqWROp/3vlHnTZN9LZV9aDHwpefXThSQOnb7fbq/unpFfwLUkKusx4APg2eTzg4ElbbSfAjyZ7pmBS0gMI1cDbyS/rkznzMntK4GNwNskDlmFlbeUxFUtm5J/lpwk7z8D60lc1fVfQG4EMp8LLE/+bDwG9E33zC3ah7r/pZI3Xfa9tvYlYA4wJ/nYSFwZ9TbwJomr99rtU0t4iIhIu3ToSURE2qVCISIi7VKhEBGRdqlQiIhIu1QoRESkXSoUIt3EzN4xs35h5xA5XSoUIh2QnKyk/Ucygn7QRVJkZiOS9xr4GbAC+AczW5Zc0/+fW7R7zMyqk/ckmB1eYpGuoUIhcnpGAw8Dd5FYcfN8EjOeK8zsk8k2X3X3CqAS+BszKw0jqEhXUaEQOT3vemIN/yuSXytJjC7GkLgRDCSKwyrgVRKLr5W31ZFIVPTo1WNFAlCX/NOA/+vu/9byxeRy2J8CPu7uR8ysisTKpyKRpRGFSMc8C3w1ee8BzGyImQ0A+gD7k0ViDIlbYopEmkYUIh3g7s+Z2dnAnxKrS1MLfBF4BphjZquBDSQOP4lEmlaPFRGRdunQk4iItEuFQkRE2qVCISIi7VKhEBGRdqlQiIhIu1QoRESkXSoUIiLSrv8H6FJvRFBxduEAAAAASUVORK5CYII=\n",
      "text/plain": [
       "<Figure size 432x288 with 1 Axes>"
      ]
     },
     "metadata": {
      "needs_background": "light"
     },
     "output_type": "display_data"
    },
    {
     "data": {
      "image/png": "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\n",
      "text/plain": [
       "<Figure size 432x288 with 1 Axes>"
      ]
     },
     "metadata": {
      "needs_background": "light"
     },
     "output_type": "display_data"
    },
    {
     "data": {
      "image/png": "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\n",
      "text/plain": [
       "<Figure size 432x288 with 1 Axes>"
      ]
     },
     "metadata": {
      "needs_background": "light"
     },
     "output_type": "display_data"
    },
    {
     "data": {
      "image/png": "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\n",
      "text/plain": [
       "<Figure size 432x288 with 0 Axes>"
      ]
     },
     "metadata": {
      "needs_background": "light"
     },
     "output_type": "display_data"
    },
    {
     "data": {
      "image/png": "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\n",
      "text/plain": [
       "<Figure size 432x288 with 1 Axes>"
      ]
     },
     "metadata": {
      "needs_background": "light"
     },
     "output_type": "display_data"
    }
   ],
   "source": [
    "# !! <<<< THESE ARE FOR HOVER \n",
    "# PD gains to lead-lag gains \n",
    "Kp = 0.01\n",
    "Kd = 0.0001\n",
    "N = 5\n",
    "\n",
    "c1 = N*Kd + Kp\n",
    "c2 = N*Kp\n",
    "c3 = 1\n",
    "c4 = N\n",
    "\n",
    "# >>>> SUBJECT TO CHANGE !!\n",
    "\n",
    "\n",
    "\n",
    "\n",
    "H_elev_to_pitch = (c1 * s + c2) / (c3 * s + c4)\n",
    "# H_elev_to_pitch = 1 + 0.01*s\n",
    "\n",
    "plt.figure()\n",
    "rootlocus(G_elev_to_pitch*H_elev_to_pitch)\n",
    "plt.plot([0, -1], [0, 1], '--')\n",
    "\n",
    "plt.figure()\n",
    "rootlocus(G_elev_to_pitch*H_elev_to_pitch)\n",
    "plt.xlim([-1.5, 0])\n",
    "plt.plot([0, -1], [0, 1], '--')\n",
    "\n",
    "# Close loop transfer function\n",
    "Gc_elev_to_pitch = G_elev_to_pitch*H_elev_to_pitch/(1 + G_elev_to_pitch*H_elev_to_pitch)\n",
    "\n",
    "plt.figure()\n",
    "step_size = 10\n",
    "t, y = control.step_response(step_size*Gc_elev_to_pitch, T=np.linspace(0, 30, 1000))\n",
    "plt.plot(t, y)\n",
    "plt.ylabel('pitch, deg')\n",
    "plt.xlabel('t, sec')\n",
    "plt.title('output')\n",
    "\n",
    "plt.figure()\n",
    "# actual error was computed in radians, so, converting back here\n",
    "e = np.deg2rad(step_size-y)\n",
    "t, u, _= control.forced_response(H_elev_to_pitch, T=t, U=e)\n",
    "plt.plot(t, u)\n",
    "plt.hlines([-1, 1], t[0], t[-1], linestyles='dashed')\n",
    "plt.title('input')\n",
    "plt.ylabel('elevator, norm')\n",
    "plt.xlabel('t, sec')\n",
    "\n",
    "plt.figure(figsize=(15, 7))\n",
    "control.gangof4(G_elev_to_pitch, H_elev_to_pitch, Hz=True, dB=True)\n",
    "\n",
    "plt.figure()\n",
    "control.nyquist(Gc_elev_to_pitch, omega=np.logspace(-3, 3, 1000))\n",
    "\n",
    "gm, pm, wg, wp = control.margin(Gc_elev_to_pitch)\n",
    "print('gain margin: ', gm)\n",
    "print('phase margin (in degrees): ', pm)\n",
    "print('Frequency for gain margin (at phase crossover, phase = -180 degrees): ', wg)\n",
    "print('Frequency for phase margin (at gain crossover, gain = 1): ', wp)"
   ]
  },
  {
   "cell_type": "markdown",
   "metadata": {},
   "source": [
    "## Heading Angle Control (with rudder)"
   ]
  },
  {
   "cell_type": "code",
   "execution_count": null,
   "metadata": {},
   "outputs": [],
   "source": [
    "sys = control.ss(*linearize(\n",
    "    aircraft='F-35B-2',\n",
    "    states=['ic/r-rad_sec'],\n",
    "    states_deriv = ['accelerations/rdot-rad_sec2'],\n",
    "    inputs=['fcs/rudder-cmd-norm'],\n",
    "    outputs=['ic/r-rad_sec'],\n",
    "    ic=op_cruise,\n",
    "    dx=1e-3,\n",
    "    n_round=3\n",
    "))\n",
    "rad2deg = 180/np.pi\n",
    "s = control.tf([1, 0], [1])\n",
    "G_aileron_to_roll = rad2deg*clean_tf(control.minreal(control.ss2tf(sys), 1e-3))/s\n",
    "G_aileron_to_roll"
   ]
  },
  {
   "cell_type": "code",
   "execution_count": null,
   "metadata": {},
   "outputs": [],
   "source": [
    "# Add the actuator \n",
    "tau = 0.4\n",
    "G_act = tau / (s + tau)\n",
    "G_aileron_to_roll *= G_act\n",
    "G_aileron_to_roll"
   ]
  },
  {
   "cell_type": "code",
   "execution_count": null,
   "metadata": {},
   "outputs": [],
   "source": [
    "# !! <<<< THESE ARE FOR HOVER \n",
    "# PD gains to lead-lag gains \n",
    "Kp = 7.66302615547072e-10\n",
    "Kd = 0.0076620813293718\n",
    "N = 505.040986830046\n",
    "\n",
    "c1 = N*Kd + Kp\n",
    "c2 = N*Kp\n",
    "c3 = 1\n",
    "c4 = N\n",
    "\n",
    "# >>>> SUBJECT TO CHANGE !!\n",
    "\n",
    "\n",
    "\n",
    "H_aileron_to_roll = (c1 * s + c2) / (c3 * s + c4)\n",
    "\n",
    "plt.figure()\n",
    "rootlocus(G_aileron_to_roll*H_aileron_to_roll)\n",
    "plt.plot([0, -1], [0, 1], '--')\n",
    "\n",
    "plt.figure()\n",
    "rootlocus(G_aileron_to_roll*H_aileron_to_roll)\n",
    "plt.xlim([-1.5, 0])\n",
    "plt.plot([0, -1], [0, 1], '--')\n",
    "\n",
    "Gc_aileron_to_roll  = G_aileron_to_roll*H_aileron_to_roll/(1 + G_aileron_to_roll*H_aileron_to_roll)\n",
    "\n",
    "\n",
    "plt.figure()\n",
    "step_size = 10\n",
    "t, y = control.step_response(step_size*Gc_aileron_to_roll, T=np.linspace(0, 30, 1000))\n",
    "plt.plot(t, y)\n",
    "plt.xlabel('t, sec')\n",
    "plt.ylabel('roll, deg')\n",
    "plt.title('output')\n",
    "\n",
    "plt.figure()\n",
    "# actual error was computed in radians, so, converting back here\n",
    "e = np.deg2rad(step_size-y)\n",
    "t, u, _= control.forced_response(H_aileron_to_roll, T=t, U=e)\n",
    "plt.hlines([-0.1, 0.1], t[0], t[-1], linestyles='dashed')\n",
    "plt.plot(t, u)\n",
    "plt.xlabel('t, sec')\n",
    "plt.ylabel('aileron %')\n",
    "plt.title('input')\n",
    "\n",
    "plt.figure()\n",
    "control.nyquist(Gc_aileron_to_roll, omega=np.logspace(-3, 3, 1000))\n",
    "\n",
    "plt.figure(figsize=(15, 7))\n",
    "control.gangof4(G_aileron_to_roll, H_aileron_to_roll, Hz=True, dB=True)\n",
    "\n",
    "gm, pm, wg, wp = control.margin(Gc_aileron_to_roll)\n",
    "print('gain margin: ', gm)\n",
    "print('phase margin (in degrees): ', pm)\n",
    "print('Frequency for gain margin (at phase crossover, phase = -180 degrees): ', wg)\n",
    "print('Frequency for phase margin (at gain crossover, gain = 1): ', wp)"
   ]
  },
  {
   "cell_type": "markdown",
   "metadata": {},
   "source": [
    "## Yaw"
   ]
  },
  {
   "cell_type": "code",
   "execution_count": null,
   "metadata": {},
   "outputs": [],
   "source": [
    "# sys1 = control.ss(*linearize(\n",
    "#     aircraft='F-35B-2',\n",
    "#     states=['ic/r-rad_sec'],\n",
    "#     states_deriv = ['accelerations/rdot-rad_sec2'],\n",
    "#     inputs=['propulsion/engine/pitch-angle-rad'],\n",
    "#     outputs=['ic/r-rad_sec'],\n",
    "#     ic=op_hover,\n",
    "#     dx=1e-3,\n",
    "#     n_round=3\n",
    "# ))\n",
    "# s = control.tf([1, 0], [1])\n",
    "\n",
    "# # # G_rudder_to_yaw = -clean_tf(control.minreal(control.ss2tf(sys), 1e-3))/s\n",
    "# # print(sys)\n",
    "# # temp = scysig.ss2tf(sys.A, sys.B, sys.C, sys.D)\n",
    "# # print(temp)\n",
    "\n",
    "# G_rudder_to_yaw1 = -clean_tf(control.minreal(control.ss2tf(sys1), 1e-3))/s\n",
    "# G_rudder_to_yaw1"
   ]
  },
  {
   "cell_type": "markdown",
   "metadata": {},
   "source": [
    "## Cruise Altitude Control (with Throttle) "
   ]
  },
  {
   "cell_type": "code",
   "execution_count": null,
   "metadata": {},
   "outputs": [],
   "source": [
    "sys = control.ss(*linearize(\n",
    "    aircraft='F-35B-2',\n",
    "    states=['ic/w-fps'],\n",
    "    states_deriv = ['accelerations/wdot-ft_sec2'],\n",
    "    inputs=['fcs/throttle-cmd-norm'],\n",
    "    outputs=['ic/w-fps'],\n",
    "    ic=op_cruise,\n",
    "    dx=1e-3,\n",
    "    n_round=3\n",
    "))\n",
    "G_throttle_to_alt = -clean_tf(control.minreal(control.ss2tf(sys), 1e-3))/s\n",
    "G_throttle_to_alt"
   ]
  },
  {
   "cell_type": "code",
   "execution_count": null,
   "metadata": {},
   "outputs": [],
   "source": [
    "# Add the actuator \n",
    "tau = 0.4\n",
    "G_act = tau / (s + tau)\n",
    "G_throttle_to_alt *= G_act\n",
    "G_throttle_to_alt"
   ]
  },
  {
   "cell_type": "code",
   "execution_count": null,
   "metadata": {},
   "outputs": [],
   "source": [
    "# !! <<<< THESE ARE FOR HOVER \n",
    "# PD gains to lead-lag gains \n",
    "Kp = 9.11459759968896e-10\n",
    "Kd = 0.00911454537591535\n",
    "N = 27.8343628363698\n",
    "\n",
    "c1 = N*Kd + Kp\n",
    "c2 = N*Kp\n",
    "c3 = 1\n",
    "c4 = N\n",
    "\n",
    "# >>>> SUBJECT TO CHANGE !!\n",
    "\n",
    "\n",
    "\n",
    "\n",
    "\n",
    "\n",
    "H_throttle_to_alt = (c1 * s + c2) / (c3 * s + c4)\n",
    "\n",
    "\n",
    "plt.figure()\n",
    "rootlocus(G_throttle_to_alt*H_throttle_to_alt)\n",
    "plt.plot([0, -1], [0, 1], '--')\n",
    "\n",
    "plt.figure()\n",
    "rootlocus(G_throttle_to_alt*H_throttle_to_alt)\n",
    "plt.xlim([-1.2, 0])\n",
    "plt.plot([0, -1], [0, 1], '--')\n",
    "\n",
    "Gc_throttle_to_alt = G_throttle_to_alt*H_throttle_to_alt/(1 + G_throttle_to_alt*H_throttle_to_alt)\n",
    "\n",
    "plt.figure()\n",
    "step_size = 10\n",
    "t, y = control.step_response(step_size*Gc_throttle_to_alt, T=np.linspace(0, 40, 1000))\n",
    "plt.plot(t, y)\n",
    "plt.xlabel('t, sec')\n",
    "plt.ylabel('altitude, ft')\n",
    "plt.title('output')\n",
    "\n",
    "plt.figure()\n",
    "# error computed in ft\n",
    "e = step_size-y\n",
    "t, u, _= control.forced_response(H_throttle_to_alt, T=t, U=e)\n",
    "plt.hlines([-0.1, 0.1], t[0], t[-1], linestyles='dashed')\n",
    "plt.plot(t, u)\n",
    "plt.xlabel('t, sec')\n",
    "plt.ylabel('throtle %')\n",
    "plt.title('input')\n",
    "\n",
    "plt.figure()\n",
    "control.nyquist(Gc_throttle_to_alt, omega=np.logspace(-3, 3, 1000))\n",
    "\n",
    "plt.figure(figsize=(15, 7))\n",
    "control.gangof4(G_throttle_to_alt, H_throttle_to_alt, Hz=True, dB=True)\n",
    "\n",
    "\n",
    "gm, pm, wg, wp = control.margin(Gc_throttle_to_alt)\n",
    "print('gain margin: ', gm)\n",
    "print('phase margin (in degrees): ', pm)\n",
    "print('Frequency for gain margin (at phase crossover, phase = -180 degrees): ', wg)\n",
    "print('Frequency for phase margin (at gain crossover, gain = 1): ', wp)"
   ]
  }
 ],
 "metadata": {
  "kernelspec": {
   "display_name": "Python 3",
   "language": "python",
   "name": "python3"
  },
  "language_info": {
   "codemirror_mode": {
    "name": "ipython",
    "version": 3
   },
   "file_extension": ".py",
   "mimetype": "text/x-python",
   "name": "python",
   "nbconvert_exporter": "python",
   "pygments_lexer": "ipython3",
   "version": "3.8.5"
  },
  "metadata": {
   "interpreter": {
    "hash": "f1b82cffc61be27678f1d47a128eaa4a669f389d3430f480176844fbc028fe63"
   }
  }
 },
 "nbformat": 4,
 "nbformat_minor": 5
}
